{
 "metadata": {
  "language_info": {
   "codemirror_mode": {
    "name": "ipython",
    "version": 3
   },
   "file_extension": ".py",
   "mimetype": "text/x-python",
   "name": "python",
   "nbconvert_exporter": "python",
   "pygments_lexer": "ipython3",
   "version": "3.7.6-final"
  },
  "orig_nbformat": 2,
  "kernelspec": {
   "name": "python3",
   "display_name": "Python 3",
   "language": "python"
  }
 },
 "nbformat": 4,
 "nbformat_minor": 2,
 "cells": [
  {
   "cell_type": "code",
   "execution_count": 53,
   "metadata": {},
   "outputs": [],
   "source": [
    "import pandas as pd\n",
    "import json\n",
    "import json_lines"
   ]
  },
  {
   "cell_type": "code",
   "execution_count": 54,
   "metadata": {},
   "outputs": [],
   "source": [
    "## CONTENT\n",
    "#####################\n",
    " \n",
    "# 1. Bali Regency data\n",
    "# 2. Indo Province Data\n",
    "# 3. World - Country Data"
   ]
  },
  {
   "cell_type": "code",
   "execution_count": 55,
   "metadata": {},
   "outputs": [],
   "source": [
    "### 1. COVID DATA BALI REGENCIES\n",
    "###  -------------------------------------\n",
    "\n",
    "## From scrapy spider"
   ]
  },
  {
   "cell_type": "code",
   "execution_count": 56,
   "metadata": {},
   "outputs": [
    {
     "output_type": "stream",
     "name": "stderr",
     "text": [
      "Error: JSON line can't be decoded. JSONDecodeError('Extra data: line 1 column 875 (char 874)')\n"
     ]
    },
    {
     "output_type": "execute_result",
     "data": {
      "text/plain": [
       "   0         1    2    3   4     5  6   7   8     9            10    11    12\n",
       "0  1  JEMBRANA   -7   70   7   579  1  14   1   663   05 Dec 2020  None  None\n",
       "1  2   TABANAN  -10  434  35  1016  0  47  25  1497   05 Dec 2020  None  None\n",
       "2  3    BADUNG   -9  159  27  2299  0  51  18  2509   05 Dec 2020  None  None\n",
       "3  4  DENPASAR    1  166  26  3705  0  90  27  3961   05 Dec 2020  None  None\n",
       "4  5   GIANYAR  -16  234  31  1681  0  75  15  1990   05 Dec 2020  None  None"
      ],
      "text/html": "<div>\n<style scoped>\n    .dataframe tbody tr th:only-of-type {\n        vertical-align: middle;\n    }\n\n    .dataframe tbody tr th {\n        vertical-align: top;\n    }\n\n    .dataframe thead th {\n        text-align: right;\n    }\n</style>\n<table border=\"1\" class=\"dataframe\">\n  <thead>\n    <tr style=\"text-align: right;\">\n      <th></th>\n      <th>0</th>\n      <th>1</th>\n      <th>2</th>\n      <th>3</th>\n      <th>4</th>\n      <th>5</th>\n      <th>6</th>\n      <th>7</th>\n      <th>8</th>\n      <th>9</th>\n      <th>10</th>\n      <th>11</th>\n      <th>12</th>\n    </tr>\n  </thead>\n  <tbody>\n    <tr>\n      <th>0</th>\n      <td>1</td>\n      <td>JEMBRANA</td>\n      <td>-7</td>\n      <td>70</td>\n      <td>7</td>\n      <td>579</td>\n      <td>1</td>\n      <td>14</td>\n      <td>1</td>\n      <td>663</td>\n      <td>05 Dec 2020</td>\n      <td>None</td>\n      <td>None</td>\n    </tr>\n    <tr>\n      <th>1</th>\n      <td>2</td>\n      <td>TABANAN</td>\n      <td>-10</td>\n      <td>434</td>\n      <td>35</td>\n      <td>1016</td>\n      <td>0</td>\n      <td>47</td>\n      <td>25</td>\n      <td>1497</td>\n      <td>05 Dec 2020</td>\n      <td>None</td>\n      <td>None</td>\n    </tr>\n    <tr>\n      <th>2</th>\n      <td>3</td>\n      <td>BADUNG</td>\n      <td>-9</td>\n      <td>159</td>\n      <td>27</td>\n      <td>2299</td>\n      <td>0</td>\n      <td>51</td>\n      <td>18</td>\n      <td>2509</td>\n      <td>05 Dec 2020</td>\n      <td>None</td>\n      <td>None</td>\n    </tr>\n    <tr>\n      <th>3</th>\n      <td>4</td>\n      <td>DENPASAR</td>\n      <td>1</td>\n      <td>166</td>\n      <td>26</td>\n      <td>3705</td>\n      <td>0</td>\n      <td>90</td>\n      <td>27</td>\n      <td>3961</td>\n      <td>05 Dec 2020</td>\n      <td>None</td>\n      <td>None</td>\n    </tr>\n    <tr>\n      <th>4</th>\n      <td>5</td>\n      <td>GIANYAR</td>\n      <td>-16</td>\n      <td>234</td>\n      <td>31</td>\n      <td>1681</td>\n      <td>0</td>\n      <td>75</td>\n      <td>15</td>\n      <td>1990</td>\n      <td>05 Dec 2020</td>\n      <td>None</td>\n      <td>None</td>\n    </tr>\n  </tbody>\n</table>\n</div>"
     },
     "metadata": {},
     "execution_count": 56
    }
   ],
   "source": [
    "## Converting Json-Lines File to pandas DataFrame\n",
    "##########################################\n",
    "\n",
    "json_file = r'C:\\Users\\ansve\\Coding\\Projects-WebScraping\\CovidBali\\CovidBali\\CovidBali\\daily.jl'\n",
    "\n",
    "##Extract data from First TABLE\n",
    "###############################################\n",
    "\n",
    "data_first = []\n",
    "with open(json_file, 'rb') as f:\n",
    "    count = 0\n",
    "    for line in json_lines.reader(f, broken=True):\n",
    "        count+=1\n",
    "        if count % 2 == 0: #this is the remainder operator\n",
    "            for x in range(0, 10):\n",
    "                data_first.append(line['data'][x])\n",
    "\n",
    "df_first = pd.DataFrame(data_first)\n",
    "df_first.head()"
   ]
  },
  {
   "cell_type": "code",
   "execution_count": 57,
   "metadata": {},
   "outputs": [
    {
     "output_type": "execute_result",
     "data": {
      "text/plain": [
       "   0         1    2    3   4     5  6   7   8     9            10    11  \\\n",
       "0  1  JEMBRANA   -7   70   7   579  1  14   1   663   05 Dec 2020  None   \n",
       "1  2   TABANAN  -10  434  35  1016  0  47  25  1497   05 Dec 2020  None   \n",
       "2  3    BADUNG   -9  159  27  2299  0  51  18  2509   05 Dec 2020  None   \n",
       "3  4  DENPASAR    1  166  26  3705  0  90  27  3961   05 Dec 2020  None   \n",
       "4  5   GIANYAR  -16  234  31  1681  0  75  15  1990   05 Dec 2020  None   \n",
       "\n",
       "             12  \n",
       "0   05 Dec 2020  \n",
       "1   05 Dec 2020  \n",
       "2   05 Dec 2020  \n",
       "3   05 Dec 2020  \n",
       "4   05 Dec 2020  "
      ],
      "text/html": "<div>\n<style scoped>\n    .dataframe tbody tr th:only-of-type {\n        vertical-align: middle;\n    }\n\n    .dataframe tbody tr th {\n        vertical-align: top;\n    }\n\n    .dataframe thead th {\n        text-align: right;\n    }\n</style>\n<table border=\"1\" class=\"dataframe\">\n  <thead>\n    <tr style=\"text-align: right;\">\n      <th></th>\n      <th>0</th>\n      <th>1</th>\n      <th>2</th>\n      <th>3</th>\n      <th>4</th>\n      <th>5</th>\n      <th>6</th>\n      <th>7</th>\n      <th>8</th>\n      <th>9</th>\n      <th>10</th>\n      <th>11</th>\n      <th>12</th>\n    </tr>\n  </thead>\n  <tbody>\n    <tr>\n      <th>0</th>\n      <td>1</td>\n      <td>JEMBRANA</td>\n      <td>-7</td>\n      <td>70</td>\n      <td>7</td>\n      <td>579</td>\n      <td>1</td>\n      <td>14</td>\n      <td>1</td>\n      <td>663</td>\n      <td>05 Dec 2020</td>\n      <td>None</td>\n      <td>05 Dec 2020</td>\n    </tr>\n    <tr>\n      <th>1</th>\n      <td>2</td>\n      <td>TABANAN</td>\n      <td>-10</td>\n      <td>434</td>\n      <td>35</td>\n      <td>1016</td>\n      <td>0</td>\n      <td>47</td>\n      <td>25</td>\n      <td>1497</td>\n      <td>05 Dec 2020</td>\n      <td>None</td>\n      <td>05 Dec 2020</td>\n    </tr>\n    <tr>\n      <th>2</th>\n      <td>3</td>\n      <td>BADUNG</td>\n      <td>-9</td>\n      <td>159</td>\n      <td>27</td>\n      <td>2299</td>\n      <td>0</td>\n      <td>51</td>\n      <td>18</td>\n      <td>2509</td>\n      <td>05 Dec 2020</td>\n      <td>None</td>\n      <td>05 Dec 2020</td>\n    </tr>\n    <tr>\n      <th>3</th>\n      <td>4</td>\n      <td>DENPASAR</td>\n      <td>1</td>\n      <td>166</td>\n      <td>26</td>\n      <td>3705</td>\n      <td>0</td>\n      <td>90</td>\n      <td>27</td>\n      <td>3961</td>\n      <td>05 Dec 2020</td>\n      <td>None</td>\n      <td>05 Dec 2020</td>\n    </tr>\n    <tr>\n      <th>4</th>\n      <td>5</td>\n      <td>GIANYAR</td>\n      <td>-16</td>\n      <td>234</td>\n      <td>31</td>\n      <td>1681</td>\n      <td>0</td>\n      <td>75</td>\n      <td>15</td>\n      <td>1990</td>\n      <td>05 Dec 2020</td>\n      <td>None</td>\n      <td>05 Dec 2020</td>\n    </tr>\n  </tbody>\n</table>\n</div>"
     },
     "metadata": {},
     "execution_count": 57
    }
   ],
   "source": [
    "# First data line from jsonline - 12 columns - 10 data entries\n",
    "df_first[12] = df_first[10]\n",
    "df_first.head()"
   ]
  },
  {
   "cell_type": "code",
   "execution_count": 58,
   "metadata": {},
   "outputs": [
    {
     "output_type": "execute_result",
     "data": {
      "text/plain": [
       "  No Kabupaten / County new_treatment total_treatment new_recovered  \\\n",
       "0  1           JEMBRANA            -7              70             7   \n",
       "1  2            TABANAN           -10             434            35   \n",
       "2  3             BADUNG            -9             159            27   \n",
       "3  4           DENPASAR             1             166            26   \n",
       "4  5            GIANYAR           -16             234            31   \n",
       "\n",
       "  total_recovered new_deaths total_deaths new_cases total_cases          Date  \n",
       "0             579          1           14         1         663   05 Dec 2020  \n",
       "1            1016          0           47        25        1497   05 Dec 2020  \n",
       "2            2299          0           51        18        2509   05 Dec 2020  \n",
       "3            3705          0           90        27        3961   05 Dec 2020  \n",
       "4            1681          0           75        15        1990   05 Dec 2020  "
      ],
      "text/html": "<div>\n<style scoped>\n    .dataframe tbody tr th:only-of-type {\n        vertical-align: middle;\n    }\n\n    .dataframe tbody tr th {\n        vertical-align: top;\n    }\n\n    .dataframe thead th {\n        text-align: right;\n    }\n</style>\n<table border=\"1\" class=\"dataframe\">\n  <thead>\n    <tr style=\"text-align: right;\">\n      <th></th>\n      <th>No</th>\n      <th>Kabupaten / County</th>\n      <th>new_treatment</th>\n      <th>total_treatment</th>\n      <th>new_recovered</th>\n      <th>total_recovered</th>\n      <th>new_deaths</th>\n      <th>total_deaths</th>\n      <th>new_cases</th>\n      <th>total_cases</th>\n      <th>Date</th>\n    </tr>\n  </thead>\n  <tbody>\n    <tr>\n      <th>0</th>\n      <td>1</td>\n      <td>JEMBRANA</td>\n      <td>-7</td>\n      <td>70</td>\n      <td>7</td>\n      <td>579</td>\n      <td>1</td>\n      <td>14</td>\n      <td>1</td>\n      <td>663</td>\n      <td>05 Dec 2020</td>\n    </tr>\n    <tr>\n      <th>1</th>\n      <td>2</td>\n      <td>TABANAN</td>\n      <td>-10</td>\n      <td>434</td>\n      <td>35</td>\n      <td>1016</td>\n      <td>0</td>\n      <td>47</td>\n      <td>25</td>\n      <td>1497</td>\n      <td>05 Dec 2020</td>\n    </tr>\n    <tr>\n      <th>2</th>\n      <td>3</td>\n      <td>BADUNG</td>\n      <td>-9</td>\n      <td>159</td>\n      <td>27</td>\n      <td>2299</td>\n      <td>0</td>\n      <td>51</td>\n      <td>18</td>\n      <td>2509</td>\n      <td>05 Dec 2020</td>\n    </tr>\n    <tr>\n      <th>3</th>\n      <td>4</td>\n      <td>DENPASAR</td>\n      <td>1</td>\n      <td>166</td>\n      <td>26</td>\n      <td>3705</td>\n      <td>0</td>\n      <td>90</td>\n      <td>27</td>\n      <td>3961</td>\n      <td>05 Dec 2020</td>\n    </tr>\n    <tr>\n      <th>4</th>\n      <td>5</td>\n      <td>GIANYAR</td>\n      <td>-16</td>\n      <td>234</td>\n      <td>31</td>\n      <td>1681</td>\n      <td>0</td>\n      <td>75</td>\n      <td>15</td>\n      <td>1990</td>\n      <td>05 Dec 2020</td>\n    </tr>\n  </tbody>\n</table>\n</div>"
     },
     "metadata": {},
     "execution_count": 58
    }
   ],
   "source": [
    "## Column names from https://infocorona.baliprov.go.id/API/pendataan/laporan-harian-02.php = df_first and ...-01.php = df_second\n",
    "\n",
    "columns_first = [\n",
    "    'No','Kabupaten / County', 'new_treatment', 'total_treatment', 'new_recovered', 'total_recovered', 'new_deaths', 'total_deaths', 'new_cases', 'total_cases','Date1', 'None', 'Date']\n",
    "\n",
    "df_first.columns = columns_first\n",
    "df_first = df_first.drop(['Date1', 'None'], axis=1)\n",
    "df_first.head()"
   ]
  },
  {
   "cell_type": "code",
   "execution_count": 59,
   "metadata": {},
   "outputs": [
    {
     "output_type": "stream",
     "name": "stderr",
     "text": [
      "Error: JSON line can't be decoded. JSONDecodeError('Extra data: line 1 column 875 (char 874)')\n"
     ]
    }
   ],
   "source": [
    "\n",
    "##Extract data from SECOND TABLE\n",
    "###############################################\n",
    "data_second = []\n",
    "\n",
    "with open(json_file, 'rb') as f:\n",
    "    count =0\n",
    "    for line in json_lines.reader(f, broken=True):\n",
    "        count+= 1\n",
    "        if count % 2 != 0:\n",
    "            for x in range(0, 10):\n",
    "                data_second.append(line['data'][x])\n",
    "df_second = pd.DataFrame(data_second)"
   ]
  },
  {
   "cell_type": "code",
   "execution_count": 60,
   "metadata": {},
   "outputs": [
    {
     "output_type": "execute_result",
     "data": {
      "text/plain": [
       "      0                  1  2   3  4    5  6     7  8  9 10    11  \\\n",
       "815   6             BANGLI  0  58  0   16  0  1799  0  0  0  1873   \n",
       "816   7          KLUNGKUNG  0  19  0   27  8  1372  0  0  8  1418   \n",
       "817   8         KARANGASEM  0  23  1  125  0  1419  0  0  1  1567   \n",
       "818   9           BULELENG  0  41  0   24  0  2433  0  0  0  2498   \n",
       "819  10  KABUPATEN LAINNYA  0   6  0  106  0   288  0  0  0   400   \n",
       "\n",
       "               12  \n",
       "815   08 Mar 2021  \n",
       "816   08 Mar 2021  \n",
       "817   08 Mar 2021  \n",
       "818   08 Mar 2021  \n",
       "819   08 Mar 2021  "
      ],
      "text/html": "<div>\n<style scoped>\n    .dataframe tbody tr th:only-of-type {\n        vertical-align: middle;\n    }\n\n    .dataframe tbody tr th {\n        vertical-align: top;\n    }\n\n    .dataframe thead th {\n        text-align: right;\n    }\n</style>\n<table border=\"1\" class=\"dataframe\">\n  <thead>\n    <tr style=\"text-align: right;\">\n      <th></th>\n      <th>0</th>\n      <th>1</th>\n      <th>2</th>\n      <th>3</th>\n      <th>4</th>\n      <th>5</th>\n      <th>6</th>\n      <th>7</th>\n      <th>8</th>\n      <th>9</th>\n      <th>10</th>\n      <th>11</th>\n      <th>12</th>\n    </tr>\n  </thead>\n  <tbody>\n    <tr>\n      <th>815</th>\n      <td>6</td>\n      <td>BANGLI</td>\n      <td>0</td>\n      <td>58</td>\n      <td>0</td>\n      <td>16</td>\n      <td>0</td>\n      <td>1799</td>\n      <td>0</td>\n      <td>0</td>\n      <td>0</td>\n      <td>1873</td>\n      <td>08 Mar 2021</td>\n    </tr>\n    <tr>\n      <th>816</th>\n      <td>7</td>\n      <td>KLUNGKUNG</td>\n      <td>0</td>\n      <td>19</td>\n      <td>0</td>\n      <td>27</td>\n      <td>8</td>\n      <td>1372</td>\n      <td>0</td>\n      <td>0</td>\n      <td>8</td>\n      <td>1418</td>\n      <td>08 Mar 2021</td>\n    </tr>\n    <tr>\n      <th>817</th>\n      <td>8</td>\n      <td>KARANGASEM</td>\n      <td>0</td>\n      <td>23</td>\n      <td>1</td>\n      <td>125</td>\n      <td>0</td>\n      <td>1419</td>\n      <td>0</td>\n      <td>0</td>\n      <td>1</td>\n      <td>1567</td>\n      <td>08 Mar 2021</td>\n    </tr>\n    <tr>\n      <th>818</th>\n      <td>9</td>\n      <td>BULELENG</td>\n      <td>0</td>\n      <td>41</td>\n      <td>0</td>\n      <td>24</td>\n      <td>0</td>\n      <td>2433</td>\n      <td>0</td>\n      <td>0</td>\n      <td>0</td>\n      <td>2498</td>\n      <td>08 Mar 2021</td>\n    </tr>\n    <tr>\n      <th>819</th>\n      <td>10</td>\n      <td>KABUPATEN LAINNYA</td>\n      <td>0</td>\n      <td>6</td>\n      <td>0</td>\n      <td>106</td>\n      <td>0</td>\n      <td>288</td>\n      <td>0</td>\n      <td>0</td>\n      <td>0</td>\n      <td>400</td>\n      <td>08 Mar 2021</td>\n    </tr>\n  </tbody>\n</table>\n</div>"
     },
     "metadata": {},
     "execution_count": 60
    }
   ],
   "source": [
    "df_second.tail()"
   ]
  },
  {
   "cell_type": "code",
   "execution_count": 61,
   "metadata": {},
   "outputs": [],
   "source": [
    "# # Second data entry\n",
    "columnName_second =['No', 'Kabupaten / County', 'new PPLN/PMI', 'total history-of-foreign-travel/ migrant-worker (PPLN/PMI)', 'new domestic-travel-history', 'total domestic-travel-history (PPDN)', 'new_local_transmission', 'total_local_transmission',\t'new_other_transmission', 'total_other_transmission', 'new_cases' ,'total_cases', 'Date' ]\n",
    "\n",
    "df_second.columns = columnName_second\n"
   ]
  },
  {
   "cell_type": "code",
   "execution_count": 62,
   "metadata": {},
   "outputs": [],
   "source": [
    "df_second = df_second.drop(['Kabupaten / County','new_cases', 'total_cases'], axis=1)"
   ]
  },
  {
   "cell_type": "code",
   "execution_count": 63,
   "metadata": {},
   "outputs": [
    {
     "output_type": "execute_result",
     "data": {
      "text/plain": [
       "     No new PPLN/PMI  \\\n",
       "815   6            0   \n",
       "816   7            0   \n",
       "817   8            0   \n",
       "818   9            0   \n",
       "819  10            0   \n",
       "\n",
       "    total history-of-foreign-travel/ migrant-worker (PPLN/PMI)  \\\n",
       "815                                                 58           \n",
       "816                                                 19           \n",
       "817                                                 23           \n",
       "818                                                 41           \n",
       "819                                                  6           \n",
       "\n",
       "    new domestic-travel-history total domestic-travel-history (PPDN)  \\\n",
       "815                           0                                   16   \n",
       "816                           0                                   27   \n",
       "817                           1                                  125   \n",
       "818                           0                                   24   \n",
       "819                           0                                  106   \n",
       "\n",
       "    new_local_transmission total_local_transmission new_other_transmission  \\\n",
       "815                      0                     1799                      0   \n",
       "816                      8                     1372                      0   \n",
       "817                      0                     1419                      0   \n",
       "818                      0                     2433                      0   \n",
       "819                      0                      288                      0   \n",
       "\n",
       "    total_other_transmission          Date  \n",
       "815                        0   08 Mar 2021  \n",
       "816                        0   08 Mar 2021  \n",
       "817                        0   08 Mar 2021  \n",
       "818                        0   08 Mar 2021  \n",
       "819                        0   08 Mar 2021  "
      ],
      "text/html": "<div>\n<style scoped>\n    .dataframe tbody tr th:only-of-type {\n        vertical-align: middle;\n    }\n\n    .dataframe tbody tr th {\n        vertical-align: top;\n    }\n\n    .dataframe thead th {\n        text-align: right;\n    }\n</style>\n<table border=\"1\" class=\"dataframe\">\n  <thead>\n    <tr style=\"text-align: right;\">\n      <th></th>\n      <th>No</th>\n      <th>new PPLN/PMI</th>\n      <th>total history-of-foreign-travel/ migrant-worker (PPLN/PMI)</th>\n      <th>new domestic-travel-history</th>\n      <th>total domestic-travel-history (PPDN)</th>\n      <th>new_local_transmission</th>\n      <th>total_local_transmission</th>\n      <th>new_other_transmission</th>\n      <th>total_other_transmission</th>\n      <th>Date</th>\n    </tr>\n  </thead>\n  <tbody>\n    <tr>\n      <th>815</th>\n      <td>6</td>\n      <td>0</td>\n      <td>58</td>\n      <td>0</td>\n      <td>16</td>\n      <td>0</td>\n      <td>1799</td>\n      <td>0</td>\n      <td>0</td>\n      <td>08 Mar 2021</td>\n    </tr>\n    <tr>\n      <th>816</th>\n      <td>7</td>\n      <td>0</td>\n      <td>19</td>\n      <td>0</td>\n      <td>27</td>\n      <td>8</td>\n      <td>1372</td>\n      <td>0</td>\n      <td>0</td>\n      <td>08 Mar 2021</td>\n    </tr>\n    <tr>\n      <th>817</th>\n      <td>8</td>\n      <td>0</td>\n      <td>23</td>\n      <td>1</td>\n      <td>125</td>\n      <td>0</td>\n      <td>1419</td>\n      <td>0</td>\n      <td>0</td>\n      <td>08 Mar 2021</td>\n    </tr>\n    <tr>\n      <th>818</th>\n      <td>9</td>\n      <td>0</td>\n      <td>41</td>\n      <td>0</td>\n      <td>24</td>\n      <td>0</td>\n      <td>2433</td>\n      <td>0</td>\n      <td>0</td>\n      <td>08 Mar 2021</td>\n    </tr>\n    <tr>\n      <th>819</th>\n      <td>10</td>\n      <td>0</td>\n      <td>6</td>\n      <td>0</td>\n      <td>106</td>\n      <td>0</td>\n      <td>288</td>\n      <td>0</td>\n      <td>0</td>\n      <td>08 Mar 2021</td>\n    </tr>\n  </tbody>\n</table>\n</div>"
     },
     "metadata": {},
     "execution_count": 63
    }
   ],
   "source": [
    "df_second.tail()"
   ]
  },
  {
   "cell_type": "code",
   "execution_count": 64,
   "metadata": {},
   "outputs": [
    {
     "output_type": "execute_result",
     "data": {
      "text/plain": [
       "  No Kabupaten / County new_treatment total_treatment new_recovered  \\\n",
       "0  1           JEMBRANA            -7              70             7   \n",
       "1  2            TABANAN           -10             434            35   \n",
       "2  3             BADUNG            -9             159            27   \n",
       "3  4           DENPASAR             1             166            26   \n",
       "4  5            GIANYAR           -16             234            31   \n",
       "\n",
       "  total_recovered new_deaths total_deaths new_cases total_cases          Date  \\\n",
       "0             579          1           14         1         663   05 Dec 2020   \n",
       "1            1016          0           47        25        1497   05 Dec 2020   \n",
       "2            2299          0           51        18        2509   05 Dec 2020   \n",
       "3            3705          0           90        27        3961   05 Dec 2020   \n",
       "4            1681          0           75        15        1990   05 Dec 2020   \n",
       "\n",
       "  new PPLN/PMI total history-of-foreign-travel/ migrant-worker (PPLN/PMI)  \\\n",
       "0            0                                                 26           \n",
       "1            0                                                 21           \n",
       "2            0                                                 27           \n",
       "3            0                                                 48           \n",
       "4            0                                                 29           \n",
       "\n",
       "  new domestic-travel-history total domestic-travel-history (PPDN)  \\\n",
       "0                           0                                   11   \n",
       "1                           2                                   10   \n",
       "2                           0                                    4   \n",
       "3                          -1                                   22   \n",
       "4                          -1                                   10   \n",
       "\n",
       "  new_local_transmission total_local_transmission new_other_transmission  \\\n",
       "0                      1                      626                      0   \n",
       "1                     23                     1466                      0   \n",
       "2                     18                     2478                      0   \n",
       "3                     28                     3891                      0   \n",
       "4                     16                     1951                      0   \n",
       "\n",
       "  total_other_transmission  \n",
       "0                        0  \n",
       "1                        0  \n",
       "2                        0  \n",
       "3                        0  \n",
       "4                        0  "
      ],
      "text/html": "<div>\n<style scoped>\n    .dataframe tbody tr th:only-of-type {\n        vertical-align: middle;\n    }\n\n    .dataframe tbody tr th {\n        vertical-align: top;\n    }\n\n    .dataframe thead th {\n        text-align: right;\n    }\n</style>\n<table border=\"1\" class=\"dataframe\">\n  <thead>\n    <tr style=\"text-align: right;\">\n      <th></th>\n      <th>No</th>\n      <th>Kabupaten / County</th>\n      <th>new_treatment</th>\n      <th>total_treatment</th>\n      <th>new_recovered</th>\n      <th>total_recovered</th>\n      <th>new_deaths</th>\n      <th>total_deaths</th>\n      <th>new_cases</th>\n      <th>total_cases</th>\n      <th>Date</th>\n      <th>new PPLN/PMI</th>\n      <th>total history-of-foreign-travel/ migrant-worker (PPLN/PMI)</th>\n      <th>new domestic-travel-history</th>\n      <th>total domestic-travel-history (PPDN)</th>\n      <th>new_local_transmission</th>\n      <th>total_local_transmission</th>\n      <th>new_other_transmission</th>\n      <th>total_other_transmission</th>\n    </tr>\n  </thead>\n  <tbody>\n    <tr>\n      <th>0</th>\n      <td>1</td>\n      <td>JEMBRANA</td>\n      <td>-7</td>\n      <td>70</td>\n      <td>7</td>\n      <td>579</td>\n      <td>1</td>\n      <td>14</td>\n      <td>1</td>\n      <td>663</td>\n      <td>05 Dec 2020</td>\n      <td>0</td>\n      <td>26</td>\n      <td>0</td>\n      <td>11</td>\n      <td>1</td>\n      <td>626</td>\n      <td>0</td>\n      <td>0</td>\n    </tr>\n    <tr>\n      <th>1</th>\n      <td>2</td>\n      <td>TABANAN</td>\n      <td>-10</td>\n      <td>434</td>\n      <td>35</td>\n      <td>1016</td>\n      <td>0</td>\n      <td>47</td>\n      <td>25</td>\n      <td>1497</td>\n      <td>05 Dec 2020</td>\n      <td>0</td>\n      <td>21</td>\n      <td>2</td>\n      <td>10</td>\n      <td>23</td>\n      <td>1466</td>\n      <td>0</td>\n      <td>0</td>\n    </tr>\n    <tr>\n      <th>2</th>\n      <td>3</td>\n      <td>BADUNG</td>\n      <td>-9</td>\n      <td>159</td>\n      <td>27</td>\n      <td>2299</td>\n      <td>0</td>\n      <td>51</td>\n      <td>18</td>\n      <td>2509</td>\n      <td>05 Dec 2020</td>\n      <td>0</td>\n      <td>27</td>\n      <td>0</td>\n      <td>4</td>\n      <td>18</td>\n      <td>2478</td>\n      <td>0</td>\n      <td>0</td>\n    </tr>\n    <tr>\n      <th>3</th>\n      <td>4</td>\n      <td>DENPASAR</td>\n      <td>1</td>\n      <td>166</td>\n      <td>26</td>\n      <td>3705</td>\n      <td>0</td>\n      <td>90</td>\n      <td>27</td>\n      <td>3961</td>\n      <td>05 Dec 2020</td>\n      <td>0</td>\n      <td>48</td>\n      <td>-1</td>\n      <td>22</td>\n      <td>28</td>\n      <td>3891</td>\n      <td>0</td>\n      <td>0</td>\n    </tr>\n    <tr>\n      <th>4</th>\n      <td>5</td>\n      <td>GIANYAR</td>\n      <td>-16</td>\n      <td>234</td>\n      <td>31</td>\n      <td>1681</td>\n      <td>0</td>\n      <td>75</td>\n      <td>15</td>\n      <td>1990</td>\n      <td>05 Dec 2020</td>\n      <td>0</td>\n      <td>29</td>\n      <td>-1</td>\n      <td>10</td>\n      <td>16</td>\n      <td>1951</td>\n      <td>0</td>\n      <td>0</td>\n    </tr>\n  </tbody>\n</table>\n</div>"
     },
     "metadata": {},
     "execution_count": 64
    }
   ],
   "source": [
    "\n",
    "## Merge both df\n",
    "#############################\n",
    "df_merged = pd.merge(df_first, df_second, how= 'left', left_on=['No', \"Date\"], right_on=['No', \"Date\"])\n",
    "\n",
    "df_bali = df_merged.copy()\n",
    "df_bali.head()"
   ]
  },
  {
   "cell_type": "code",
   "execution_count": 65,
   "metadata": {},
   "outputs": [
    {
     "output_type": "execute_result",
     "data": {
      "text/plain": [
       "     No Kabupaten / County new_treatment total_treatment new_recovered  \\\n",
       "805   6             BANGLI           -12              79            11   \n",
       "806   7          KLUNGKUNG            -7             115            15   \n",
       "807   8         KARANGASEM           -53              92            54   \n",
       "808   9           BULELENG           -20             142            19   \n",
       "809  10  KABUPATEN LAINNYA            -2             103             2   \n",
       "\n",
       "    total_recovered new_deaths total_deaths new_cases total_cases  \\\n",
       "805            1725          1           69         0        1873   \n",
       "806            1265          0           38         8        1418   \n",
       "807            1402          0           73         1        1567   \n",
       "808            2257          1           99         0        2498   \n",
       "809             293          0            4         0         400   \n",
       "\n",
       "             Date new PPLN/PMI  \\\n",
       "805   08 Mar 2021            0   \n",
       "806   08 Mar 2021            0   \n",
       "807   08 Mar 2021            0   \n",
       "808   08 Mar 2021            0   \n",
       "809   08 Mar 2021            0   \n",
       "\n",
       "    total history-of-foreign-travel/ migrant-worker (PPLN/PMI)  \\\n",
       "805                                                 58           \n",
       "806                                                 19           \n",
       "807                                                 23           \n",
       "808                                                 41           \n",
       "809                                                  6           \n",
       "\n",
       "    new domestic-travel-history total domestic-travel-history (PPDN)  \\\n",
       "805                           0                                   16   \n",
       "806                           0                                   27   \n",
       "807                           1                                  125   \n",
       "808                           0                                   24   \n",
       "809                           0                                  106   \n",
       "\n",
       "    new_local_transmission total_local_transmission new_other_transmission  \\\n",
       "805                      0                     1799                      0   \n",
       "806                      8                     1372                      0   \n",
       "807                      0                     1419                      0   \n",
       "808                      0                     2433                      0   \n",
       "809                      0                      288                      0   \n",
       "\n",
       "    total_other_transmission  \n",
       "805                        0  \n",
       "806                        0  \n",
       "807                        0  \n",
       "808                        0  \n",
       "809                        0  "
      ],
      "text/html": "<div>\n<style scoped>\n    .dataframe tbody tr th:only-of-type {\n        vertical-align: middle;\n    }\n\n    .dataframe tbody tr th {\n        vertical-align: top;\n    }\n\n    .dataframe thead th {\n        text-align: right;\n    }\n</style>\n<table border=\"1\" class=\"dataframe\">\n  <thead>\n    <tr style=\"text-align: right;\">\n      <th></th>\n      <th>No</th>\n      <th>Kabupaten / County</th>\n      <th>new_treatment</th>\n      <th>total_treatment</th>\n      <th>new_recovered</th>\n      <th>total_recovered</th>\n      <th>new_deaths</th>\n      <th>total_deaths</th>\n      <th>new_cases</th>\n      <th>total_cases</th>\n      <th>Date</th>\n      <th>new PPLN/PMI</th>\n      <th>total history-of-foreign-travel/ migrant-worker (PPLN/PMI)</th>\n      <th>new domestic-travel-history</th>\n      <th>total domestic-travel-history (PPDN)</th>\n      <th>new_local_transmission</th>\n      <th>total_local_transmission</th>\n      <th>new_other_transmission</th>\n      <th>total_other_transmission</th>\n    </tr>\n  </thead>\n  <tbody>\n    <tr>\n      <th>805</th>\n      <td>6</td>\n      <td>BANGLI</td>\n      <td>-12</td>\n      <td>79</td>\n      <td>11</td>\n      <td>1725</td>\n      <td>1</td>\n      <td>69</td>\n      <td>0</td>\n      <td>1873</td>\n      <td>08 Mar 2021</td>\n      <td>0</td>\n      <td>58</td>\n      <td>0</td>\n      <td>16</td>\n      <td>0</td>\n      <td>1799</td>\n      <td>0</td>\n      <td>0</td>\n    </tr>\n    <tr>\n      <th>806</th>\n      <td>7</td>\n      <td>KLUNGKUNG</td>\n      <td>-7</td>\n      <td>115</td>\n      <td>15</td>\n      <td>1265</td>\n      <td>0</td>\n      <td>38</td>\n      <td>8</td>\n      <td>1418</td>\n      <td>08 Mar 2021</td>\n      <td>0</td>\n      <td>19</td>\n      <td>0</td>\n      <td>27</td>\n      <td>8</td>\n      <td>1372</td>\n      <td>0</td>\n      <td>0</td>\n    </tr>\n    <tr>\n      <th>807</th>\n      <td>8</td>\n      <td>KARANGASEM</td>\n      <td>-53</td>\n      <td>92</td>\n      <td>54</td>\n      <td>1402</td>\n      <td>0</td>\n      <td>73</td>\n      <td>1</td>\n      <td>1567</td>\n      <td>08 Mar 2021</td>\n      <td>0</td>\n      <td>23</td>\n      <td>1</td>\n      <td>125</td>\n      <td>0</td>\n      <td>1419</td>\n      <td>0</td>\n      <td>0</td>\n    </tr>\n    <tr>\n      <th>808</th>\n      <td>9</td>\n      <td>BULELENG</td>\n      <td>-20</td>\n      <td>142</td>\n      <td>19</td>\n      <td>2257</td>\n      <td>1</td>\n      <td>99</td>\n      <td>0</td>\n      <td>2498</td>\n      <td>08 Mar 2021</td>\n      <td>0</td>\n      <td>41</td>\n      <td>0</td>\n      <td>24</td>\n      <td>0</td>\n      <td>2433</td>\n      <td>0</td>\n      <td>0</td>\n    </tr>\n    <tr>\n      <th>809</th>\n      <td>10</td>\n      <td>KABUPATEN LAINNYA</td>\n      <td>-2</td>\n      <td>103</td>\n      <td>2</td>\n      <td>293</td>\n      <td>0</td>\n      <td>4</td>\n      <td>0</td>\n      <td>400</td>\n      <td>08 Mar 2021</td>\n      <td>0</td>\n      <td>6</td>\n      <td>0</td>\n      <td>106</td>\n      <td>0</td>\n      <td>288</td>\n      <td>0</td>\n      <td>0</td>\n    </tr>\n  </tbody>\n</table>\n</div>"
     },
     "metadata": {},
     "execution_count": 65
    }
   ],
   "source": [
    "df = df_bali.copy()\n",
    "df.tail()"
   ]
  },
  {
   "cell_type": "code",
   "execution_count": 66,
   "metadata": {},
   "outputs": [
    {
     "output_type": "execute_result",
     "data": {
      "text/plain": [
       "No                                                             int32\n",
       "Kabupaten / County                                            object\n",
       "new_treatment                                                 object\n",
       "total_treatment                                               object\n",
       "new_recovered                                                 object\n",
       "total_recovered                                               object\n",
       "new_deaths                                                    object\n",
       "total_deaths                                                  object\n",
       "new_cases                                                     object\n",
       "total_cases                                                   object\n",
       "Date                                                          object\n",
       "new PPLN/PMI                                                  object\n",
       "total history-of-foreign-travel/ migrant-worker (PPLN/PMI)    object\n",
       "new domestic-travel-history                                   object\n",
       "total domestic-travel-history (PPDN)                          object\n",
       "new_local_transmission                                        object\n",
       "total_local_transmission                                      object\n",
       "new_other_transmission                                        object\n",
       "total_other_transmission                                      object\n",
       "Name_EN                                                       object\n",
       "dtype: object"
      ]
     },
     "metadata": {},
     "execution_count": 66
    }
   ],
   "source": [
    "# delete duplicate columns and convert dtypes\n",
    "df = df.loc[:,~df.columns.duplicated()]\n",
    "\n",
    "## fill NaN in Kabubaten Lain fileds (confirmed cases from outside of bali regency but detected in Bali have no match with reference-data e.g)\n",
    "################################################\n",
    "df_merged = df_merged.fillna(0)\n",
    "df_merged[df_merged.isna().any(axis=1)]\n",
    "\n",
    "## convert columns\n",
    "df['No'] = df['No'].astype(int)\n",
    "df['Name_EN'] = df['Kabupaten / County'].astype(str)\n",
    "df['Name_EN'] = df['Name_EN'].str.casefold()\n",
    "df.dtypes"
   ]
  },
  {
   "cell_type": "code",
   "execution_count": 67,
   "metadata": {},
   "outputs": [
    {
     "output_type": "execute_result",
     "data": {
      "text/plain": [
       "Timestamp('2020-12-05 00:00:00')"
      ]
     },
     "metadata": {},
     "execution_count": 67
    }
   ],
   "source": [
    "## convert date to datetime \n",
    "################################\n",
    "\n",
    "# from datetime import datetime -> datetime.strptime(date, format)\n",
    "# df[\"Date\"].apply(lambda x: parse(df['Date']))\n",
    "# or\n",
    "# df['Date'] = pd.to_datetime(df['Date'])\n",
    "## also possible\n",
    "\n",
    "from dateutil.parser import parse\n",
    "# check if Nan\n",
    "# df['Date'].isnull().values\n",
    "\n",
    "df['Date'] = df['Date'].str.strip()\n",
    "df['Date'] = df['Date'].astype(str) \n",
    "df['Date'] = pd.to_datetime(df.Date, errors='coerce')\n",
    "df['Date'][0]"
   ]
  },
  {
   "cell_type": "code",
   "execution_count": 68,
   "metadata": {},
   "outputs": [],
   "source": [
    "# data cleaning, processing\n",
    "##########################\n",
    "\n",
    "# add addtitional data\n",
    "df_ref = pd.read_excel('Bali_reference_data.xlsx')\n",
    "df_ref = df_ref.drop(columns=['https://en.wikipedia.org/wiki/Bali#cite_note-BPS2019-2', 'https://sp2010.bps.go.id/index.php/site/tabel?tid=321&wid=0', 'Source'])\n",
    "\n",
    "## adjust regency names of both data sources before merge\n",
    "##########################\n",
    "df_ref['Name_EN'] = df_ref['Name_Indo'].str.casefold()\n",
    "df_ref.replace('kota denpasar', 'denpasar', inplace=True)\n",
    "df_ref.replace('totals', 'bali', inplace=True)\n",
    "df_ref.replace('Totals', 'Bali', inplace=True)\n",
    "\n",
    "# df_ref.head(15)"
   ]
  },
  {
   "cell_type": "code",
   "execution_count": 69,
   "metadata": {},
   "outputs": [],
   "source": [
    "# merge both df on 'Name_EN'\n",
    "df_merged = df.merge(df_ref, on=\"Name_EN\", how='left')"
   ]
  },
  {
   "cell_type": "code",
   "execution_count": 70,
   "metadata": {},
   "outputs": [
    {
     "output_type": "execute_result",
     "data": {
      "text/plain": [
       "   No Kabupaten / County new_treatment total_treatment new_recovered  \\\n",
       "0   1           JEMBRANA            -7              70             7   \n",
       "1   2            TABANAN           -10             434            35   \n",
       "2   3             BADUNG            -9             159            27   \n",
       "3   4           DENPASAR             1             166            26   \n",
       "4   5            GIANYAR           -16             234            31   \n",
       "\n",
       "  total_recovered new_deaths total_deaths new_cases total_cases  ...  \\\n",
       "0             579          1           14         1         663  ...   \n",
       "1            1016          0           47        25        1497  ...   \n",
       "2            2299          0           51        18        2509  ...   \n",
       "3            3705          0           90        27        3961  ...   \n",
       "4            1681          0           75        15        1990  ...   \n",
       "\n",
       "       Name_Indo    Capital area_km2 population_2000 population_2010  \\\n",
       "0       Jembrana     Negara   841.80         231.806         261.638   \n",
       "1        Tabanan    Tabanan   839.30          376.03         420.913   \n",
       "2         Badung  Mangupura   418.52         345.863         543.332   \n",
       "3  Kota Denpasar   Denpasar   127.78          532.44         788.589   \n",
       "4        Gianyar    Gianyar   368.00         393.155         469.777   \n",
       "\n",
       "  population_2015  HDI_2014_estimate                          Gouvernor  \\\n",
       "0         271.423     0.686 (Medium)                       I Putu Artha   \n",
       "1         435.753       0.726 (High)             Ni Putu Eka Wiryastuti   \n",
       "2         615.148       0.779 (High)               I Nyoman Giri Prasta   \n",
       "3         879.098  0.816 (Very High)  Ida Bagus Rai Dharmawijaya Mantra   \n",
       "4         494.729       0.742 (High)             I Made Agus Mahayastra   \n",
       "\n",
       "  Nr. of Sub-Districts Nr of Keluruhan/Villages  \n",
       "0                  5.0                    10/41  \n",
       "1                 10.0                    -/133  \n",
       "2                  6.0                    16/46  \n",
       "3                  4.0                    16/27  \n",
       "4                  7.0                     6/64  \n",
       "\n",
       "[5 rows x 30 columns]"
      ],
      "text/html": "<div>\n<style scoped>\n    .dataframe tbody tr th:only-of-type {\n        vertical-align: middle;\n    }\n\n    .dataframe tbody tr th {\n        vertical-align: top;\n    }\n\n    .dataframe thead th {\n        text-align: right;\n    }\n</style>\n<table border=\"1\" class=\"dataframe\">\n  <thead>\n    <tr style=\"text-align: right;\">\n      <th></th>\n      <th>No</th>\n      <th>Kabupaten / County</th>\n      <th>new_treatment</th>\n      <th>total_treatment</th>\n      <th>new_recovered</th>\n      <th>total_recovered</th>\n      <th>new_deaths</th>\n      <th>total_deaths</th>\n      <th>new_cases</th>\n      <th>total_cases</th>\n      <th>...</th>\n      <th>Name_Indo</th>\n      <th>Capital</th>\n      <th>area_km2</th>\n      <th>population_2000</th>\n      <th>population_2010</th>\n      <th>population_2015</th>\n      <th>HDI_2014_estimate</th>\n      <th>Gouvernor</th>\n      <th>Nr. of Sub-Districts</th>\n      <th>Nr of Keluruhan/Villages</th>\n    </tr>\n  </thead>\n  <tbody>\n    <tr>\n      <th>0</th>\n      <td>1</td>\n      <td>JEMBRANA</td>\n      <td>-7</td>\n      <td>70</td>\n      <td>7</td>\n      <td>579</td>\n      <td>1</td>\n      <td>14</td>\n      <td>1</td>\n      <td>663</td>\n      <td>...</td>\n      <td>Jembrana</td>\n      <td>Negara</td>\n      <td>841.80</td>\n      <td>231.806</td>\n      <td>261.638</td>\n      <td>271.423</td>\n      <td>0.686 (Medium)</td>\n      <td>I Putu Artha</td>\n      <td>5.0</td>\n      <td>10/41</td>\n    </tr>\n    <tr>\n      <th>1</th>\n      <td>2</td>\n      <td>TABANAN</td>\n      <td>-10</td>\n      <td>434</td>\n      <td>35</td>\n      <td>1016</td>\n      <td>0</td>\n      <td>47</td>\n      <td>25</td>\n      <td>1497</td>\n      <td>...</td>\n      <td>Tabanan</td>\n      <td>Tabanan</td>\n      <td>839.30</td>\n      <td>376.03</td>\n      <td>420.913</td>\n      <td>435.753</td>\n      <td>0.726 (High)</td>\n      <td>Ni Putu Eka Wiryastuti</td>\n      <td>10.0</td>\n      <td>-/133</td>\n    </tr>\n    <tr>\n      <th>2</th>\n      <td>3</td>\n      <td>BADUNG</td>\n      <td>-9</td>\n      <td>159</td>\n      <td>27</td>\n      <td>2299</td>\n      <td>0</td>\n      <td>51</td>\n      <td>18</td>\n      <td>2509</td>\n      <td>...</td>\n      <td>Badung</td>\n      <td>Mangupura</td>\n      <td>418.52</td>\n      <td>345.863</td>\n      <td>543.332</td>\n      <td>615.148</td>\n      <td>0.779 (High)</td>\n      <td>I Nyoman Giri Prasta</td>\n      <td>6.0</td>\n      <td>16/46</td>\n    </tr>\n    <tr>\n      <th>3</th>\n      <td>4</td>\n      <td>DENPASAR</td>\n      <td>1</td>\n      <td>166</td>\n      <td>26</td>\n      <td>3705</td>\n      <td>0</td>\n      <td>90</td>\n      <td>27</td>\n      <td>3961</td>\n      <td>...</td>\n      <td>Kota Denpasar</td>\n      <td>Denpasar</td>\n      <td>127.78</td>\n      <td>532.44</td>\n      <td>788.589</td>\n      <td>879.098</td>\n      <td>0.816 (Very High)</td>\n      <td>Ida Bagus Rai Dharmawijaya Mantra</td>\n      <td>4.0</td>\n      <td>16/27</td>\n    </tr>\n    <tr>\n      <th>4</th>\n      <td>5</td>\n      <td>GIANYAR</td>\n      <td>-16</td>\n      <td>234</td>\n      <td>31</td>\n      <td>1681</td>\n      <td>0</td>\n      <td>75</td>\n      <td>15</td>\n      <td>1990</td>\n      <td>...</td>\n      <td>Gianyar</td>\n      <td>Gianyar</td>\n      <td>368.00</td>\n      <td>393.155</td>\n      <td>469.777</td>\n      <td>494.729</td>\n      <td>0.742 (High)</td>\n      <td>I Made Agus Mahayastra</td>\n      <td>7.0</td>\n      <td>6/64</td>\n    </tr>\n  </tbody>\n</table>\n<p>5 rows × 30 columns</p>\n</div>"
     },
     "metadata": {},
     "execution_count": 70
    }
   ],
   "source": [
    "df_merged.head()"
   ]
  },
  {
   "cell_type": "code",
   "execution_count": 71,
   "metadata": {},
   "outputs": [
    {
     "output_type": "stream",
     "name": "stdout",
     "text": [
      "Index([], dtype='object')\n"
     ]
    }
   ],
   "source": [
    "# # convert to integers\n",
    "int_numbers = ['new_treatment', 'total_treatment',\n",
    "       'new_recovered', 'total_recovered', 'new_deaths', 'total_deaths',\n",
    "       'new_cases', 'total_cases', 'new PPLN/PMI',\n",
    "       'total domestic-travel-history (PPDN)',\n",
    "       'new domestic-travel-history', 'total domestic-travel-history (PPDN)',\n",
    "       'new_local_transmission', 'total_local_transmission',\n",
    "       'new_other_transmission', 'total_other_transmission']\n",
    "## check for duplicated columns\n",
    "print(df_merged.columns[df_merged.columns.duplicated(keep=False)])\n",
    "df_merged[int_numbers] = df_merged[int_numbers].apply(pd.to_numeric)\n"
   ]
  },
  {
   "cell_type": "code",
   "execution_count": 72,
   "metadata": {},
   "outputs": [
    {
     "output_type": "stream",
     "name": "stdout",
     "text": [
      "2020-12-05 00:00:00 1497 435.753 3.4354324582963285 343.54324582963284\n"
     ]
    }
   ],
   "source": [
    "date = df_merged['Date'].iloc[1]\n",
    "test_pop = df_merged['population_2015'].iloc[1]\n",
    "test_cases = df_merged['total_cases'].iloc[1]\n",
    "print(date, test_cases, test_pop, test_cases/test_pop, test_cases/test_pop *100)"
   ]
  },
  {
   "cell_type": "code",
   "execution_count": 73,
   "metadata": {},
   "outputs": [
    {
     "output_type": "execute_result",
     "data": {
      "text/plain": [
       "     total_deaths  total_cases  total_deaths_per_100k population_2015  \\\n",
       "0              14          663                   5.16         271.423   \n",
       "1              47         1497                  10.79         435.753   \n",
       "2              51         2509                   8.29         615.148   \n",
       "3              90         3961                  10.24         879.098   \n",
       "4              75         1990                  15.16         494.729   \n",
       "..            ...          ...                    ...             ...   \n",
       "805            69         1873                  31.01         222.474   \n",
       "806            38         1418                  21.64         175.573   \n",
       "807            73         1567                  17.87         408.487   \n",
       "808            99         2498                  15.33         645.893   \n",
       "809             4          400                    NaN             NaN   \n",
       "\n",
       "     total_cases_per_100k  \n",
       "0                  244.27  \n",
       "1                  343.54  \n",
       "2                  407.87  \n",
       "3                  450.58  \n",
       "4                  402.24  \n",
       "..                    ...  \n",
       "805                841.90  \n",
       "806                807.64  \n",
       "807                383.61  \n",
       "808                386.75  \n",
       "809                   NaN  \n",
       "\n",
       "[810 rows x 5 columns]"
      ],
      "text/html": "<div>\n<style scoped>\n    .dataframe tbody tr th:only-of-type {\n        vertical-align: middle;\n    }\n\n    .dataframe tbody tr th {\n        vertical-align: top;\n    }\n\n    .dataframe thead th {\n        text-align: right;\n    }\n</style>\n<table border=\"1\" class=\"dataframe\">\n  <thead>\n    <tr style=\"text-align: right;\">\n      <th></th>\n      <th>total_deaths</th>\n      <th>total_cases</th>\n      <th>total_deaths_per_100k</th>\n      <th>population_2015</th>\n      <th>total_cases_per_100k</th>\n    </tr>\n  </thead>\n  <tbody>\n    <tr>\n      <th>0</th>\n      <td>14</td>\n      <td>663</td>\n      <td>5.16</td>\n      <td>271.423</td>\n      <td>244.27</td>\n    </tr>\n    <tr>\n      <th>1</th>\n      <td>47</td>\n      <td>1497</td>\n      <td>10.79</td>\n      <td>435.753</td>\n      <td>343.54</td>\n    </tr>\n    <tr>\n      <th>2</th>\n      <td>51</td>\n      <td>2509</td>\n      <td>8.29</td>\n      <td>615.148</td>\n      <td>407.87</td>\n    </tr>\n    <tr>\n      <th>3</th>\n      <td>90</td>\n      <td>3961</td>\n      <td>10.24</td>\n      <td>879.098</td>\n      <td>450.58</td>\n    </tr>\n    <tr>\n      <th>4</th>\n      <td>75</td>\n      <td>1990</td>\n      <td>15.16</td>\n      <td>494.729</td>\n      <td>402.24</td>\n    </tr>\n    <tr>\n      <th>...</th>\n      <td>...</td>\n      <td>...</td>\n      <td>...</td>\n      <td>...</td>\n      <td>...</td>\n    </tr>\n    <tr>\n      <th>805</th>\n      <td>69</td>\n      <td>1873</td>\n      <td>31.01</td>\n      <td>222.474</td>\n      <td>841.90</td>\n    </tr>\n    <tr>\n      <th>806</th>\n      <td>38</td>\n      <td>1418</td>\n      <td>21.64</td>\n      <td>175.573</td>\n      <td>807.64</td>\n    </tr>\n    <tr>\n      <th>807</th>\n      <td>73</td>\n      <td>1567</td>\n      <td>17.87</td>\n      <td>408.487</td>\n      <td>383.61</td>\n    </tr>\n    <tr>\n      <th>808</th>\n      <td>99</td>\n      <td>2498</td>\n      <td>15.33</td>\n      <td>645.893</td>\n      <td>386.75</td>\n    </tr>\n    <tr>\n      <th>809</th>\n      <td>4</td>\n      <td>400</td>\n      <td>NaN</td>\n      <td>NaN</td>\n      <td>NaN</td>\n    </tr>\n  </tbody>\n</table>\n<p>810 rows × 5 columns</p>\n</div>"
     },
     "metadata": {},
     "execution_count": 73
    }
   ],
   "source": [
    "# ## add columns\n",
    "df_merged['total_cases_per_100k'] = df_merged['total_cases'] / df_merged['population_2015'] * 100\n",
    "df_merged['total_cases_per_100k'] = df_merged['total_cases_per_100k'].apply(pd.to_numeric).round(2)\n",
    "\n",
    "df_merged['total_deaths_per_100k'] = df_merged['total_deaths'] / df_merged['population_2015'] * 100\n",
    "df_merged['total_deaths_per_100k'] = df_merged['total_deaths_per_100k'].apply(pd.to_numeric).round(2)\n",
    "\n",
    "df_merged['cases7'] = df_merged['new_cases'].rolling(window=7, center=False).mean()\n",
    "df_merged['cases7_per_100k'] = df_merged['cases7'] / df_merged['population_2015'] * 100\n",
    "df_merged['cases7_per_100k'] = df_merged['cases7_per_100k'].apply(pd.to_numeric).round(2)\n",
    "\n",
    "df_merged['total_cases_per_100k'] = df_merged['total_cases'] / df_merged['population_2015'] * 100\n",
    "df_merged['total_cases_per_100k'] = df_merged['total_cases_per_100k'].apply(pd.to_numeric).round(2)\n",
    "\n",
    "df_merged['deaths7'] = df_merged['new_deaths'].rolling(window=7, center=False).mean()\n",
    "df_merged['deaths7_per_100k'] = df_merged['total_deaths_per_100k'].rolling(window=7, center=False).mean()\n",
    "df_merged['deaths7_per_100k'] = df_merged['deaths7_per_100k'].apply(pd.to_numeric).round(2)\n",
    "\n",
    "df_merged['CFR'] = df_merged['total_deaths'] / df_merged['total_cases'] * 100\n",
    "df_merged['CFR'] = df_merged['CFR'].round(2)\n",
    "\n",
    "## Check new created values\n",
    "##############################\n",
    "df_merged[['total_deaths', 'total_cases', 'total_deaths_per_100k', 'population_2015', 'total_cases_per_100k']]"
   ]
  },
  {
   "cell_type": "code",
   "execution_count": 74,
   "metadata": {},
   "outputs": [],
   "source": [
    "\n",
    "# ## drop temporary unnecessary columns\n",
    "# drop_columns = ['New PPLN / PMI', 'new PPDN', 'total PPDN',\n",
    "#        'new_local_transmission', 'total_local_transmission',\n",
    "#        'new_other_transmission', 'total_other_transmission', 'Capital', 'population_2000',\n",
    "#        'population_2010', 'HDI_2014_estimate', 'Gouvernor',\n",
    "#        'Nr. of Sub-Districts', 'Nr of Keluruhan/Villages', 'area_km2' ]\n",
    "# df_clean = df_merged.drop(columns=drop_columns)"
   ]
  },
  {
   "cell_type": "code",
   "execution_count": 75,
   "metadata": {},
   "outputs": [],
   "source": [
    "## check NaN in df \n",
    "# nan_rows = df_clean[df_clean['population_2015'].isnull()]\n",
    "# nan_rows"
   ]
  },
  {
   "cell_type": "code",
   "execution_count": 76,
   "metadata": {},
   "outputs": [],
   "source": [
    "# infection fatality ratio (IFR), which estimates this proportion of deaths among all infected individuals. The second is case fatality ratio (CFR), which estimates this proportion of deaths among identified confirmed cases. \n",
    "# see https://www.who.int/news-room/commentaries/detail/estimating-mortality-from-covid-19\n",
    "\n",
    "## Calculate in App after region selected and df only contains region\n",
    "\n",
    "# df_merged['growth_rate_new_cases'] = df_merged['new_cases'].pct_change(fill_method ='ffill', periods=7)"
   ]
  },
  {
   "cell_type": "code",
   "execution_count": 77,
   "metadata": {},
   "outputs": [
    {
     "output_type": "execute_result",
     "data": {
      "text/plain": [
       "   No Kabupaten / County  new_treatment  total_treatment  new_recovered  \\\n",
       "0   1           JEMBRANA             -7               70              7   \n",
       "1   2            TABANAN            -10              434             35   \n",
       "2   3             BADUNG             -9              159             27   \n",
       "3   4           DENPASAR              1              166             26   \n",
       "4   5            GIANYAR            -16              234             31   \n",
       "\n",
       "   total_recovered  new_deaths  total_deaths  new_cases  total_cases  ...  \\\n",
       "0              579           1            14          1          663  ...   \n",
       "1             1016           0            47         25         1497  ...   \n",
       "2             2299           0            51         18         2509  ...   \n",
       "3             3705           0            90         27         3961  ...   \n",
       "4             1681           0            75         15         1990  ...   \n",
       "\n",
       "  Nr. of Sub-Districts  Nr of Keluruhan/Villages total_cases_per_100k  \\\n",
       "0                  5.0                     10/41               244.27   \n",
       "1                 10.0                     -/133               343.54   \n",
       "2                  6.0                     16/46               407.87   \n",
       "3                  4.0                     16/27               450.58   \n",
       "4                  7.0                      6/64               402.24   \n",
       "\n",
       "   total_deaths_per_100k  cases7  cases7_per_100k  deaths7  deaths7_per_100k  \\\n",
       "0                   5.16     NaN              NaN      NaN               NaN   \n",
       "1                  10.79     NaN              NaN      NaN               NaN   \n",
       "2                   8.29     NaN              NaN      NaN               NaN   \n",
       "3                  10.24     NaN              NaN      NaN               NaN   \n",
       "4                  15.16     NaN              NaN      NaN               NaN   \n",
       "\n",
       "    CFR id  \n",
       "0  2.11  5  \n",
       "1  3.14  9  \n",
       "2  2.03  1  \n",
       "3  2.27  8  \n",
       "4  3.77  4  \n",
       "\n",
       "[5 rows x 38 columns]"
      ],
      "text/html": "<div>\n<style scoped>\n    .dataframe tbody tr th:only-of-type {\n        vertical-align: middle;\n    }\n\n    .dataframe tbody tr th {\n        vertical-align: top;\n    }\n\n    .dataframe thead th {\n        text-align: right;\n    }\n</style>\n<table border=\"1\" class=\"dataframe\">\n  <thead>\n    <tr style=\"text-align: right;\">\n      <th></th>\n      <th>No</th>\n      <th>Kabupaten / County</th>\n      <th>new_treatment</th>\n      <th>total_treatment</th>\n      <th>new_recovered</th>\n      <th>total_recovered</th>\n      <th>new_deaths</th>\n      <th>total_deaths</th>\n      <th>new_cases</th>\n      <th>total_cases</th>\n      <th>...</th>\n      <th>Nr. of Sub-Districts</th>\n      <th>Nr of Keluruhan/Villages</th>\n      <th>total_cases_per_100k</th>\n      <th>total_deaths_per_100k</th>\n      <th>cases7</th>\n      <th>cases7_per_100k</th>\n      <th>deaths7</th>\n      <th>deaths7_per_100k</th>\n      <th>CFR</th>\n      <th>id</th>\n    </tr>\n  </thead>\n  <tbody>\n    <tr>\n      <th>0</th>\n      <td>1</td>\n      <td>JEMBRANA</td>\n      <td>-7</td>\n      <td>70</td>\n      <td>7</td>\n      <td>579</td>\n      <td>1</td>\n      <td>14</td>\n      <td>1</td>\n      <td>663</td>\n      <td>...</td>\n      <td>5.0</td>\n      <td>10/41</td>\n      <td>244.27</td>\n      <td>5.16</td>\n      <td>NaN</td>\n      <td>NaN</td>\n      <td>NaN</td>\n      <td>NaN</td>\n      <td>2.11</td>\n      <td>5</td>\n    </tr>\n    <tr>\n      <th>1</th>\n      <td>2</td>\n      <td>TABANAN</td>\n      <td>-10</td>\n      <td>434</td>\n      <td>35</td>\n      <td>1016</td>\n      <td>0</td>\n      <td>47</td>\n      <td>25</td>\n      <td>1497</td>\n      <td>...</td>\n      <td>10.0</td>\n      <td>-/133</td>\n      <td>343.54</td>\n      <td>10.79</td>\n      <td>NaN</td>\n      <td>NaN</td>\n      <td>NaN</td>\n      <td>NaN</td>\n      <td>3.14</td>\n      <td>9</td>\n    </tr>\n    <tr>\n      <th>2</th>\n      <td>3</td>\n      <td>BADUNG</td>\n      <td>-9</td>\n      <td>159</td>\n      <td>27</td>\n      <td>2299</td>\n      <td>0</td>\n      <td>51</td>\n      <td>18</td>\n      <td>2509</td>\n      <td>...</td>\n      <td>6.0</td>\n      <td>16/46</td>\n      <td>407.87</td>\n      <td>8.29</td>\n      <td>NaN</td>\n      <td>NaN</td>\n      <td>NaN</td>\n      <td>NaN</td>\n      <td>2.03</td>\n      <td>1</td>\n    </tr>\n    <tr>\n      <th>3</th>\n      <td>4</td>\n      <td>DENPASAR</td>\n      <td>1</td>\n      <td>166</td>\n      <td>26</td>\n      <td>3705</td>\n      <td>0</td>\n      <td>90</td>\n      <td>27</td>\n      <td>3961</td>\n      <td>...</td>\n      <td>4.0</td>\n      <td>16/27</td>\n      <td>450.58</td>\n      <td>10.24</td>\n      <td>NaN</td>\n      <td>NaN</td>\n      <td>NaN</td>\n      <td>NaN</td>\n      <td>2.27</td>\n      <td>8</td>\n    </tr>\n    <tr>\n      <th>4</th>\n      <td>5</td>\n      <td>GIANYAR</td>\n      <td>-16</td>\n      <td>234</td>\n      <td>31</td>\n      <td>1681</td>\n      <td>0</td>\n      <td>75</td>\n      <td>15</td>\n      <td>1990</td>\n      <td>...</td>\n      <td>7.0</td>\n      <td>6/64</td>\n      <td>402.24</td>\n      <td>15.16</td>\n      <td>NaN</td>\n      <td>NaN</td>\n      <td>NaN</td>\n      <td>NaN</td>\n      <td>3.77</td>\n      <td>4</td>\n    </tr>\n  </tbody>\n</table>\n<p>5 rows × 38 columns</p>\n</div>"
     },
     "metadata": {},
     "execution_count": 77
    }
   ],
   "source": [
    "## add id from geojson file\n",
    "geojson_bali = 'new_bali_id.geojson'\n",
    "\n",
    "# open new geojson (with id) file\n",
    "bali_geo_id = json.load(open(geojson_bali, 'r'))\n",
    "\n",
    "## get names of regencies\n",
    "regencies = []\n",
    "for regency in bali_geo_id['features']:\n",
    "  regencies.append(regency['properties']['ADM2_EN'])\n",
    "\n",
    "  # add id column in df with feature.id from geojson\n",
    "bali_id_map = {}\n",
    "for regency in bali_geo_id['features']:\n",
    "  bali_id_map[regency['properties']['ADM2_EN']] = regency['id']\n",
    "bali_id_map\n",
    "\n",
    "## for Foreigners or Other Regency add 'id' = 0\n",
    "df_merged['id'] = df_merged['Name_Indo'].apply(lambda x: bali_id_map[x] if x in bali_id_map else 0)\n",
    "df_merged.head()"
   ]
  },
  {
   "cell_type": "code",
   "execution_count": 78,
   "metadata": {},
   "outputs": [],
   "source": [
    "df_merged.to_csv('bali_regency_data.csv')"
   ]
  },
  {
   "cell_type": "code",
   "execution_count": 79,
   "metadata": {},
   "outputs": [],
   "source": [
    "### 2. INDONESIA COVID DATA \n",
    "###  -------------------------------------\n",
    "\n",
    "## From Kaggel Dataset\n",
    "# 1. connect to kaggle and get latest dataset\n"
   ]
  },
  {
   "cell_type": "code",
   "execution_count": 80,
   "metadata": {},
   "outputs": [
    {
     "output_type": "stream",
     "name": "stdout",
     "text": [
      "Requirement already satisfied: kaggle in c:\\programdata\\anaconda3\\lib\\site-packages (1.5.10)\nRequirement already satisfied: certifi in c:\\programdata\\anaconda3\\lib\\site-packages (from kaggle) (2019.11.28)\nRequirement already satisfied: urllib3 in c:\\programdata\\anaconda3\\lib\\site-packages (from kaggle) (1.25.8)\nRequirement already satisfied: six>=1.10 in c:\\programdata\\anaconda3\\lib\\site-packages (from kaggle) (1.14.0)\nRequirement already satisfied: python-dateutil in c:\\programdata\\anaconda3\\lib\\site-packages (from kaggle) (2.8.1)\nRequirement already satisfied: python-slugify in c:\\programdata\\anaconda3\\lib\\site-packages (from kaggle) (4.0.1)\nRequirement already satisfied: tqdm in c:\\programdata\\anaconda3\\lib\\site-packages (from kaggle) (4.42.1)\nRequirement already satisfied: requests in c:\\programdata\\anaconda3\\lib\\site-packages (from kaggle) (2.22.0)\nRequirement already satisfied: text-unidecode>=1.3 in c:\\programdata\\anaconda3\\lib\\site-packages (from python-slugify->kaggle) (1.3)\nRequirement already satisfied: chardet<3.1.0,>=3.0.2 in c:\\programdata\\anaconda3\\lib\\site-packages (from requests->kaggle) (3.0.4)\nRequirement already satisfied: idna<2.9,>=2.5 in c:\\programdata\\anaconda3\\lib\\site-packages (from requests->kaggle) (2.8)\nNote: you may need to restart the kernel to use updated packages.\n"
     ]
    }
   ],
   "source": [
    "pip install kaggle"
   ]
  },
  {
   "cell_type": "code",
   "execution_count": 81,
   "metadata": {},
   "outputs": [],
   "source": [
    "from kaggle.api.kaggle_api_extended import KaggleApi\n",
    "\n",
    "# from keys import kaggle_api\n",
    "\n",
    "## 1. with Kaggle Api\n",
    "api =KaggleApi()\n",
    "api.authenticate()\n",
    "\n",
    "# downoad single file\n",
    "#Signature: dataset_download_file(dataset, file_name, path=None, force=False, quiet=True)\n",
    "api.dataset_download_files('hendratno/covid19-indonesia/covid_19_indonesia_time_series_all.csv', unzip = True)\n",
    "# "
   ]
  },
  {
   "cell_type": "code",
   "execution_count": 82,
   "metadata": {},
   "outputs": [
    {
     "output_type": "execute_result",
     "data": {
      "text/plain": [
       "            Date Location ISO Code           Location  New Cases  New Deaths  \\\n",
       "10689  1/21/2021             ID-SG  Sulawesi Tenggara         77           1   \n",
       "10690  1/21/2021             ID-SA     Sulawesi Utara         92           2   \n",
       "10691  1/21/2021             ID-SB     Sumatera Barat        181           4   \n",
       "10692  1/21/2021             ID-SS   Sumatera Selatan        101           6   \n",
       "10693  1/21/2021             ID-SU     Sumatera Utara         83           1   \n",
       "\n",
       "       New Recovered  New Active Cases  Total Cases  Total Deaths  \\\n",
       "10689              1                75         9016           172   \n",
       "10690             83                 7        11931           361   \n",
       "10691             49               128        26091           577   \n",
       "10692             49                46        13437           652   \n",
       "10693             80                 2        19962           719   \n",
       "\n",
       "       Total Recovered  ...   Longitude  Latitude  New Cases per Million  \\\n",
       "10689             7392  ...  122.070311 -4.124689                  29.22   \n",
       "10690             8497  ...  124.521240  1.259638                  34.82   \n",
       "10691            18591  ...  100.465062 -0.850253                  32.79   \n",
       "10692            10834  ...  104.169465 -3.216212                  12.29   \n",
       "10693            17228  ...   99.051964  2.191894                   5.58   \n",
       "\n",
       "      Total Cases per Million New Deaths per Million Total Deaths per Million  \\\n",
       "10689                 3421.03                   0.38                    65.26   \n",
       "10690                 4516.10                   0.76                   136.64   \n",
       "10691                 4727.28                   0.72                   104.54   \n",
       "10692                 1635.16                   0.73                    79.34   \n",
       "10693                 1341.99                   0.07                    48.34   \n",
       "\n",
       "      Case Fatality Rate Case Recovered Rate Growth Factor of New Cases  \\\n",
       "10689              1.91%              81.99%                       1.97   \n",
       "10690              3.03%              71.22%                       0.39   \n",
       "10691              2.21%              71.25%                       1.08   \n",
       "10692              4.85%              80.63%                       0.92   \n",
       "10693              3.60%              86.30%                       1.04   \n",
       "\n",
       "       Growth Factor of New Deaths  \n",
       "10689                          NaN  \n",
       "10690                         1.00  \n",
       "10691                         0.57  \n",
       "10692                         6.00  \n",
       "10693                         0.50  \n",
       "\n",
       "[5 rows x 37 columns]"
      ],
      "text/html": "<div>\n<style scoped>\n    .dataframe tbody tr th:only-of-type {\n        vertical-align: middle;\n    }\n\n    .dataframe tbody tr th {\n        vertical-align: top;\n    }\n\n    .dataframe thead th {\n        text-align: right;\n    }\n</style>\n<table border=\"1\" class=\"dataframe\">\n  <thead>\n    <tr style=\"text-align: right;\">\n      <th></th>\n      <th>Date</th>\n      <th>Location ISO Code</th>\n      <th>Location</th>\n      <th>New Cases</th>\n      <th>New Deaths</th>\n      <th>New Recovered</th>\n      <th>New Active Cases</th>\n      <th>Total Cases</th>\n      <th>Total Deaths</th>\n      <th>Total Recovered</th>\n      <th>...</th>\n      <th>Longitude</th>\n      <th>Latitude</th>\n      <th>New Cases per Million</th>\n      <th>Total Cases per Million</th>\n      <th>New Deaths per Million</th>\n      <th>Total Deaths per Million</th>\n      <th>Case Fatality Rate</th>\n      <th>Case Recovered Rate</th>\n      <th>Growth Factor of New Cases</th>\n      <th>Growth Factor of New Deaths</th>\n    </tr>\n  </thead>\n  <tbody>\n    <tr>\n      <th>10689</th>\n      <td>1/21/2021</td>\n      <td>ID-SG</td>\n      <td>Sulawesi Tenggara</td>\n      <td>77</td>\n      <td>1</td>\n      <td>1</td>\n      <td>75</td>\n      <td>9016</td>\n      <td>172</td>\n      <td>7392</td>\n      <td>...</td>\n      <td>122.070311</td>\n      <td>-4.124689</td>\n      <td>29.22</td>\n      <td>3421.03</td>\n      <td>0.38</td>\n      <td>65.26</td>\n      <td>1.91%</td>\n      <td>81.99%</td>\n      <td>1.97</td>\n      <td>NaN</td>\n    </tr>\n    <tr>\n      <th>10690</th>\n      <td>1/21/2021</td>\n      <td>ID-SA</td>\n      <td>Sulawesi Utara</td>\n      <td>92</td>\n      <td>2</td>\n      <td>83</td>\n      <td>7</td>\n      <td>11931</td>\n      <td>361</td>\n      <td>8497</td>\n      <td>...</td>\n      <td>124.521240</td>\n      <td>1.259638</td>\n      <td>34.82</td>\n      <td>4516.10</td>\n      <td>0.76</td>\n      <td>136.64</td>\n      <td>3.03%</td>\n      <td>71.22%</td>\n      <td>0.39</td>\n      <td>1.00</td>\n    </tr>\n    <tr>\n      <th>10691</th>\n      <td>1/21/2021</td>\n      <td>ID-SB</td>\n      <td>Sumatera Barat</td>\n      <td>181</td>\n      <td>4</td>\n      <td>49</td>\n      <td>128</td>\n      <td>26091</td>\n      <td>577</td>\n      <td>18591</td>\n      <td>...</td>\n      <td>100.465062</td>\n      <td>-0.850253</td>\n      <td>32.79</td>\n      <td>4727.28</td>\n      <td>0.72</td>\n      <td>104.54</td>\n      <td>2.21%</td>\n      <td>71.25%</td>\n      <td>1.08</td>\n      <td>0.57</td>\n    </tr>\n    <tr>\n      <th>10692</th>\n      <td>1/21/2021</td>\n      <td>ID-SS</td>\n      <td>Sumatera Selatan</td>\n      <td>101</td>\n      <td>6</td>\n      <td>49</td>\n      <td>46</td>\n      <td>13437</td>\n      <td>652</td>\n      <td>10834</td>\n      <td>...</td>\n      <td>104.169465</td>\n      <td>-3.216212</td>\n      <td>12.29</td>\n      <td>1635.16</td>\n      <td>0.73</td>\n      <td>79.34</td>\n      <td>4.85%</td>\n      <td>80.63%</td>\n      <td>0.92</td>\n      <td>6.00</td>\n    </tr>\n    <tr>\n      <th>10693</th>\n      <td>1/21/2021</td>\n      <td>ID-SU</td>\n      <td>Sumatera Utara</td>\n      <td>83</td>\n      <td>1</td>\n      <td>80</td>\n      <td>2</td>\n      <td>19962</td>\n      <td>719</td>\n      <td>17228</td>\n      <td>...</td>\n      <td>99.051964</td>\n      <td>2.191894</td>\n      <td>5.58</td>\n      <td>1341.99</td>\n      <td>0.07</td>\n      <td>48.34</td>\n      <td>3.60%</td>\n      <td>86.30%</td>\n      <td>1.04</td>\n      <td>0.50</td>\n    </tr>\n  </tbody>\n</table>\n<p>5 rows × 37 columns</p>\n</div>"
     },
     "metadata": {},
     "execution_count": 82
    }
   ],
   "source": [
    "df_indo = pd.read_csv('covid_19_indonesia_time_series_all.csv')\n",
    "\n",
    "df_indo.tail()"
   ]
  },
  {
   "cell_type": "code",
   "execution_count": 83,
   "metadata": {},
   "outputs": [
    {
     "output_type": "stream",
     "name": "stdout",
     "text": [
      "3/1/2020\n"
     ]
    }
   ],
   "source": [
    "## convert dates to datetime format so matching with new dataframe before merging\n",
    "\n",
    "print(df_indo['Date'][0])\n",
    "df_indo['Date'] = pd.to_datetime(df_indo['Date'])\n"
   ]
  },
  {
   "cell_type": "code",
   "execution_count": 84,
   "metadata": {},
   "outputs": [],
   "source": [
    "## Dont Need since transfer to kawalcovid19 Data\n",
    "## Get Bali and Indo Data from new Xlsx Sheet\n",
    "## Source Kawal-Indo\n",
    "\n",
    "# df_indo_new = pd.read_excel('Indo_data.xlsx', 'Bali and Indo')\n",
    "# df_indo_new= df_indo_new.sort_values(by=['Date'], ascending=True)\n",
    "# df_indo_new['Date'][0]\n",
    "\n",
    "# ## Merge with old data df\n",
    "\n",
    "# df_indo = df_indo.append(df_indo_new)\n",
    "\n",
    "# # check values\n",
    "# df_indo.head()\n"
   ]
  },
  {
   "cell_type": "code",
   "execution_count": 85,
   "metadata": {},
   "outputs": [
    {
     "output_type": "execute_result",
     "data": {
      "text/plain": [
       "Index(['Date', 'Location ISO Code', 'Location', 'New Cases', 'New Deaths',\n",
       "       'New Recovered', 'New Active Cases', 'Total Cases', 'Total Deaths',\n",
       "       'Total Recovered', 'Total Active Cases', 'Location Level',\n",
       "       'City or Regency', 'Province', 'Country', 'Continent', 'Island',\n",
       "       'Time Zone', 'Special Status', 'Total Regencies', 'Total Cities',\n",
       "       'Total Districts', 'Total Urban Villages', 'Total Rural Villages',\n",
       "       'Area (km2)', 'Population', 'Population Density', 'Longitude',\n",
       "       'Latitude', 'New Cases per Million', 'Total Cases per Million',\n",
       "       'New Deaths per Million', 'Total Deaths per Million',\n",
       "       'Case Fatality Rate', 'Case Recovered Rate',\n",
       "       'Growth Factor of New Cases', 'Growth Factor of New Deaths'],\n",
       "      dtype='object')"
      ]
     },
     "metadata": {},
     "execution_count": 85
    }
   ],
   "source": [
    "df_indo.columns"
   ]
  },
  {
   "cell_type": "code",
   "execution_count": 86,
   "metadata": {},
   "outputs": [
    {
     "output_type": "execute_result",
     "data": {
      "text/plain": [
       "Index(['Date', 'Location ISO Code', 'Location', 'new_cases', 'new_deaths',\n",
       "       'new_recovered', 'New Active Cases', 'total_cases', 'total_deaths',\n",
       "       'total_recovered', 'Total Active Cases', 'Location Level',\n",
       "       'City or Regency', 'Province', 'Country', 'Continent', 'Island',\n",
       "       'Time Zone', 'Special Status', 'Total Regencies', 'Total Cities',\n",
       "       'Total Districts', 'Total Urban Villages', 'Total Rural Villages',\n",
       "       'Area (km2)', 'Population', 'Population Density', 'Longitude',\n",
       "       'Latitude', 'New Cases per Million', 'Total Cases per Million',\n",
       "       'New Deaths per Million', 'Total Deaths per Million', 'CFR',\n",
       "       'Case Recovered Rate', 'Growth Factor of New Cases',\n",
       "       'Growth Factor of New Deaths'],\n",
       "      dtype='object')"
      ]
     },
     "metadata": {},
     "execution_count": 86
    }
   ],
   "source": [
    "# adjust column names\n",
    "columns_new = ['Date', 'Location ISO Code', 'Location', 'new_cases', 'new_deaths',\n",
    "       'new_recovered', 'New Active Cases', 'total_cases', 'total_deaths',\n",
    "       'total_recovered', 'Total Active Cases', 'Location Level',\n",
    "       'City or Regency', 'Province', 'Country', 'Continent', 'Island',\n",
    "       'Time Zone', 'Special Status', 'Total Regencies', 'Total Cities',\n",
    "       'Total Districts', 'Total Urban Villages', 'Total Rural Villages',\n",
    "       'Area (km2)', 'Population', 'Population Density', 'Longitude',\n",
    "       'Latitude', 'New Cases per Million', 'Total Cases per Million',\n",
    "       'New Deaths per Million', 'Total Deaths per Million',\n",
    "       'CFR', 'Case Recovered Rate',\n",
    "       'Growth Factor of New Cases', 'Growth Factor of New Deaths']\n",
    "\n",
    "df_indo.columns = columns_new\n",
    "df_indo.columns"
   ]
  },
  {
   "cell_type": "code",
   "execution_count": 87,
   "metadata": {},
   "outputs": [
    {
     "output_type": "execute_result",
     "data": {
      "text/plain": [
       "10846145"
      ]
     },
     "metadata": {},
     "execution_count": 87
    }
   ],
   "source": [
    "df_indo['Population'].iloc[1]\n"
   ]
  },
  {
   "cell_type": "code",
   "execution_count": 88,
   "metadata": {},
   "outputs": [],
   "source": [
    "# add columns so consistent with Bali_regency data\n",
    "df_indo['Name_EN'] = df_indo['Location'].str.casefold()\n",
    "\n",
    "df_indo['new_cases_per_100k'] = df_indo['new_cases'] / df_indo['Population'] * 100000.0\n",
    "df_indo['new_cases_per_100k'] = df_indo['new_cases_per_100k'].round(2)\n",
    "\n",
    "df_indo['new_deaths_per_100k'] = df_indo['new_deaths'] / df_indo['Population'] * 100000.0\n",
    "df_indo['new_deaths_per_100k']= df_indo['new_deaths_per_100k'].round(2)\n",
    "\n",
    "df_indo['total_cases_per_100k'] = df_indo['total_cases'] / df_indo['Population'] * 100000.0\n",
    "df_indo['total_cases_per_100k'] = df_indo['total_cases_per_100k'].round(2)\n",
    "\n",
    "df_indo['total_deaths_per_100k'] = df_indo['total_deaths'] / df_indo['Population'] * 100000.0\n",
    "df_indo['total_deaths_per_100k'] = df_indo['total_deaths_per_100k'].round(2)\n",
    "\n",
    "# rolling 7-day average / in App calculated after df only has selected_region \n",
    "# df_indo['cases7'] = df_indo['new_cases'].rolling(window=7, center=False).mean().round(2)\n",
    "# df_indo['deaths7'] = df_indo['new_deaths'].rolling(window=7, center = False).mean().round(2)\n",
    "\n",
    "# df_indo['cases7_per_100k'] = df_indo['cases7'] / df_indo['Population'] *100000\n",
    "# df_indo['deaths7_per_100k'] = df_indo['deaths7'] / df_indo['Population'] *100000\n",
    "# df_indo['cases7_per_100k'] = df_indo['cases7_per_100k'].round(2)\n",
    "# df_indo['deaths7_per_100k'] = df_indo['deaths7_per_100k'].round(2)\n",
    "\n",
    "# df_indo['growth_rate'] = df_indo['Growth Factor of New Cases']\n",
    "# df_indo['growth_rate_new_cases'] = df_indo['new_cases'].pct_change(periods=7, fill_method='ffill')\n",
    "\n",
    "# CFR\n",
    "df_indo['CFR'] = df_indo['total_deaths'] / df_indo['total_cases'] * 100\n"
   ]
  },
  {
   "cell_type": "code",
   "execution_count": 89,
   "metadata": {},
   "outputs": [],
   "source": [
    "## add id from geojson for choropleth Map\n",
    "#########################################\n",
    "\n",
    "# open new geojson (with id) file\n",
    "geojson_indo = 'new_indo_id.geojson'\n",
    "indo_geo_id = json.load(open(geojson_indo, 'r'))\n"
   ]
  },
  {
   "cell_type": "code",
   "execution_count": 90,
   "metadata": {},
   "outputs": [
    {
     "output_type": "execute_result",
     "data": {
      "text/plain": [
       "8"
      ]
     },
     "metadata": {},
     "execution_count": 90
    }
   ],
   "source": [
    "indo_geo_id['features'][7]['id']"
   ]
  },
  {
   "cell_type": "code",
   "execution_count": 91,
   "metadata": {},
   "outputs": [
    {
     "output_type": "execute_result",
     "data": {
      "text/plain": [
       "['Jakarta Raya', 'Bangka-Belitung', 'Yogyakarta', 'Irian Jaya Barat']"
      ]
     },
     "metadata": {},
     "execution_count": 91
    }
   ],
   "source": [
    "## ADJUST NAMES OF df_indo with NAMES OF GEOJSON ADM1_EN\n",
    "\n",
    "# which names are different\n",
    "names_df = df_indo['Location'].unique()\n",
    "provinces = []\n",
    "for province in indo_geo_id['features']:\n",
    "  provinces.append(province['properties']['state'])\n",
    "\n",
    "list(set(provinces) - set(names_df))"
   ]
  },
  {
   "cell_type": "code",
   "execution_count": 92,
   "metadata": {},
   "outputs": [],
   "source": [
    "list_df = ['DKI Jakarta', 'Kalimantan Utara', 'Daerah Istimewa Yogyakarta', 'Papua Barat','Kepulauan Bangka Belitung']\n",
    "\n",
    "list(set(provinces) - set(names_df))\n",
    "list1= ['Bangka-Belitung', 'Jakarta Raya', 'Yogyakarta', 'Irian Jaya Barat']\n"
   ]
  },
  {
   "cell_type": "code",
   "execution_count": 93,
   "metadata": {},
   "outputs": [],
   "source": [
    "# adjust Names of provnices in Indo\n",
    "\n",
    "df_indo = df_indo.replace(\"DKI Jakarta\", 'Jakarta Raya')\n",
    "df_indo = df_indo.replace(\"Papua Barat\", 'Irian Jaya Barat')\n",
    "df_indo = df_indo.replace(\"Daerah Istimewa Yogyakarta\", 'Yogyakarta')\n",
    "df_indo = df_indo.replace(\"Kepulauan Bangka Belitung\", 'Bangka-Belitung')"
   ]
  },
  {
   "cell_type": "code",
   "execution_count": 94,
   "metadata": {},
   "outputs": [
    {
     "output_type": "execute_result",
     "data": {
      "text/plain": [
       "            Date Location ISO Code           Location  new_cases  new_deaths  \\\n",
       "10594 2021-01-19             ID-YO         Yogyakarta        287           1   \n",
       "10595 2021-01-19             ID-GO          Gorontalo         28           0   \n",
       "10596 2021-01-19               IDN          Indonesia      10365         308   \n",
       "10597 2021-01-19             ID-JA              Jambi         49           0   \n",
       "10598 2021-01-19             ID-JB         Jawa Barat       1684          24   \n",
       "...          ...               ...                ...        ...         ...   \n",
       "10689 2021-01-21             ID-SG  Sulawesi Tenggara         77           1   \n",
       "10690 2021-01-21             ID-SA     Sulawesi Utara         92           2   \n",
       "10691 2021-01-21             ID-SB     Sumatera Barat        181           4   \n",
       "10692 2021-01-21             ID-SS   Sumatera Selatan        101           6   \n",
       "10693 2021-01-21             ID-SU     Sumatera Utara         83           1   \n",
       "\n",
       "       new_recovered  New Active Cases  total_cases  total_deaths  \\\n",
       "10594            107               179        17515           395   \n",
       "10595             27                 1         4108           107   \n",
       "10596           8013              2044       927380         26590   \n",
       "10597              5                44         4024            61   \n",
       "10598           1362               298       115756          1399   \n",
       "...              ...               ...          ...           ...   \n",
       "10689              1                75         9016           172   \n",
       "10690             83                 7        11931           361   \n",
       "10691             49               128        26091           577   \n",
       "10692             49                46        13437           652   \n",
       "10693             80                 2        19962           719   \n",
       "\n",
       "       total_recovered  ...       CFR Case Recovered Rate  \\\n",
       "10594            11761  ...  2.255210              67.15%   \n",
       "10595             3868  ...  2.604674              94.16%   \n",
       "10596           753948  ...  2.867217              81.30%   \n",
       "10597             2760  ...  1.515905              68.59%   \n",
       "10598            94133  ...  1.208577              81.32%   \n",
       "...                ...  ...       ...                 ...   \n",
       "10689             7392  ...  1.907720              81.99%   \n",
       "10690             8497  ...  3.025731              71.22%   \n",
       "10691            18591  ...  2.211491              71.25%   \n",
       "10692            10834  ...  4.852274              80.63%   \n",
       "10693            17228  ...  3.601844              86.30%   \n",
       "\n",
       "       Growth Factor of New Cases Growth Factor of New Deaths  \\\n",
       "10594                        0.97                        0.17   \n",
       "10595                        4.67                        0.00   \n",
       "10596                        1.14                        1.04   \n",
       "10597                        1.69                        1.00   \n",
       "10598                        1.13                        0.86   \n",
       "...                           ...                         ...   \n",
       "10689                        1.97                         NaN   \n",
       "10690                        0.39                        1.00   \n",
       "10691                        1.08                        0.57   \n",
       "10692                        0.92                        6.00   \n",
       "10693                        1.04                        0.50   \n",
       "\n",
       "                          Name_EN new_cases_per_100k new_deaths_per_100k  \\\n",
       "10594  daerah istimewa yogyakarta               7.90                0.03   \n",
       "10595                   gorontalo               2.37                0.00   \n",
       "10596                   indonesia               3.91                0.12   \n",
       "10597                       jambi               1.40                0.00   \n",
       "10598                  jawa barat               3.73                0.05   \n",
       "...                           ...                ...                 ...   \n",
       "10689           sulawesi tenggara               2.92                0.04   \n",
       "10690              sulawesi utara               3.48                0.08   \n",
       "10691              sumatera barat               3.28                0.07   \n",
       "10692            sumatera selatan               1.23                0.07   \n",
       "10693              sumatera utara               0.56                0.01   \n",
       "\n",
       "      total_cases_per_100k total_deaths_per_100k  id  \n",
       "10594               482.37                 10.88   3  \n",
       "10595               347.94                  9.06  26  \n",
       "10596               349.71                 10.03   0  \n",
       "10597               115.19                  1.75  28  \n",
       "10598               256.32                  3.10  29  \n",
       "...                    ...                   ...  ..  \n",
       "10689               342.10                  6.53  23  \n",
       "10690               451.61                 13.66  22  \n",
       "10691               472.73                 10.45   2  \n",
       "10692               163.52                  7.93  33  \n",
       "10693               134.20                  4.83   4  \n",
       "\n",
       "[100 rows x 43 columns]"
      ],
      "text/html": "<div>\n<style scoped>\n    .dataframe tbody tr th:only-of-type {\n        vertical-align: middle;\n    }\n\n    .dataframe tbody tr th {\n        vertical-align: top;\n    }\n\n    .dataframe thead th {\n        text-align: right;\n    }\n</style>\n<table border=\"1\" class=\"dataframe\">\n  <thead>\n    <tr style=\"text-align: right;\">\n      <th></th>\n      <th>Date</th>\n      <th>Location ISO Code</th>\n      <th>Location</th>\n      <th>new_cases</th>\n      <th>new_deaths</th>\n      <th>new_recovered</th>\n      <th>New Active Cases</th>\n      <th>total_cases</th>\n      <th>total_deaths</th>\n      <th>total_recovered</th>\n      <th>...</th>\n      <th>CFR</th>\n      <th>Case Recovered Rate</th>\n      <th>Growth Factor of New Cases</th>\n      <th>Growth Factor of New Deaths</th>\n      <th>Name_EN</th>\n      <th>new_cases_per_100k</th>\n      <th>new_deaths_per_100k</th>\n      <th>total_cases_per_100k</th>\n      <th>total_deaths_per_100k</th>\n      <th>id</th>\n    </tr>\n  </thead>\n  <tbody>\n    <tr>\n      <th>10594</th>\n      <td>2021-01-19</td>\n      <td>ID-YO</td>\n      <td>Yogyakarta</td>\n      <td>287</td>\n      <td>1</td>\n      <td>107</td>\n      <td>179</td>\n      <td>17515</td>\n      <td>395</td>\n      <td>11761</td>\n      <td>...</td>\n      <td>2.255210</td>\n      <td>67.15%</td>\n      <td>0.97</td>\n      <td>0.17</td>\n      <td>daerah istimewa yogyakarta</td>\n      <td>7.90</td>\n      <td>0.03</td>\n      <td>482.37</td>\n      <td>10.88</td>\n      <td>3</td>\n    </tr>\n    <tr>\n      <th>10595</th>\n      <td>2021-01-19</td>\n      <td>ID-GO</td>\n      <td>Gorontalo</td>\n      <td>28</td>\n      <td>0</td>\n      <td>27</td>\n      <td>1</td>\n      <td>4108</td>\n      <td>107</td>\n      <td>3868</td>\n      <td>...</td>\n      <td>2.604674</td>\n      <td>94.16%</td>\n      <td>4.67</td>\n      <td>0.00</td>\n      <td>gorontalo</td>\n      <td>2.37</td>\n      <td>0.00</td>\n      <td>347.94</td>\n      <td>9.06</td>\n      <td>26</td>\n    </tr>\n    <tr>\n      <th>10596</th>\n      <td>2021-01-19</td>\n      <td>IDN</td>\n      <td>Indonesia</td>\n      <td>10365</td>\n      <td>308</td>\n      <td>8013</td>\n      <td>2044</td>\n      <td>927380</td>\n      <td>26590</td>\n      <td>753948</td>\n      <td>...</td>\n      <td>2.867217</td>\n      <td>81.30%</td>\n      <td>1.14</td>\n      <td>1.04</td>\n      <td>indonesia</td>\n      <td>3.91</td>\n      <td>0.12</td>\n      <td>349.71</td>\n      <td>10.03</td>\n      <td>0</td>\n    </tr>\n    <tr>\n      <th>10597</th>\n      <td>2021-01-19</td>\n      <td>ID-JA</td>\n      <td>Jambi</td>\n      <td>49</td>\n      <td>0</td>\n      <td>5</td>\n      <td>44</td>\n      <td>4024</td>\n      <td>61</td>\n      <td>2760</td>\n      <td>...</td>\n      <td>1.515905</td>\n      <td>68.59%</td>\n      <td>1.69</td>\n      <td>1.00</td>\n      <td>jambi</td>\n      <td>1.40</td>\n      <td>0.00</td>\n      <td>115.19</td>\n      <td>1.75</td>\n      <td>28</td>\n    </tr>\n    <tr>\n      <th>10598</th>\n      <td>2021-01-19</td>\n      <td>ID-JB</td>\n      <td>Jawa Barat</td>\n      <td>1684</td>\n      <td>24</td>\n      <td>1362</td>\n      <td>298</td>\n      <td>115756</td>\n      <td>1399</td>\n      <td>94133</td>\n      <td>...</td>\n      <td>1.208577</td>\n      <td>81.32%</td>\n      <td>1.13</td>\n      <td>0.86</td>\n      <td>jawa barat</td>\n      <td>3.73</td>\n      <td>0.05</td>\n      <td>256.32</td>\n      <td>3.10</td>\n      <td>29</td>\n    </tr>\n    <tr>\n      <th>...</th>\n      <td>...</td>\n      <td>...</td>\n      <td>...</td>\n      <td>...</td>\n      <td>...</td>\n      <td>...</td>\n      <td>...</td>\n      <td>...</td>\n      <td>...</td>\n      <td>...</td>\n      <td>...</td>\n      <td>...</td>\n      <td>...</td>\n      <td>...</td>\n      <td>...</td>\n      <td>...</td>\n      <td>...</td>\n      <td>...</td>\n      <td>...</td>\n      <td>...</td>\n      <td>...</td>\n    </tr>\n    <tr>\n      <th>10689</th>\n      <td>2021-01-21</td>\n      <td>ID-SG</td>\n      <td>Sulawesi Tenggara</td>\n      <td>77</td>\n      <td>1</td>\n      <td>1</td>\n      <td>75</td>\n      <td>9016</td>\n      <td>172</td>\n      <td>7392</td>\n      <td>...</td>\n      <td>1.907720</td>\n      <td>81.99%</td>\n      <td>1.97</td>\n      <td>NaN</td>\n      <td>sulawesi tenggara</td>\n      <td>2.92</td>\n      <td>0.04</td>\n      <td>342.10</td>\n      <td>6.53</td>\n      <td>23</td>\n    </tr>\n    <tr>\n      <th>10690</th>\n      <td>2021-01-21</td>\n      <td>ID-SA</td>\n      <td>Sulawesi Utara</td>\n      <td>92</td>\n      <td>2</td>\n      <td>83</td>\n      <td>7</td>\n      <td>11931</td>\n      <td>361</td>\n      <td>8497</td>\n      <td>...</td>\n      <td>3.025731</td>\n      <td>71.22%</td>\n      <td>0.39</td>\n      <td>1.00</td>\n      <td>sulawesi utara</td>\n      <td>3.48</td>\n      <td>0.08</td>\n      <td>451.61</td>\n      <td>13.66</td>\n      <td>22</td>\n    </tr>\n    <tr>\n      <th>10691</th>\n      <td>2021-01-21</td>\n      <td>ID-SB</td>\n      <td>Sumatera Barat</td>\n      <td>181</td>\n      <td>4</td>\n      <td>49</td>\n      <td>128</td>\n      <td>26091</td>\n      <td>577</td>\n      <td>18591</td>\n      <td>...</td>\n      <td>2.211491</td>\n      <td>71.25%</td>\n      <td>1.08</td>\n      <td>0.57</td>\n      <td>sumatera barat</td>\n      <td>3.28</td>\n      <td>0.07</td>\n      <td>472.73</td>\n      <td>10.45</td>\n      <td>2</td>\n    </tr>\n    <tr>\n      <th>10692</th>\n      <td>2021-01-21</td>\n      <td>ID-SS</td>\n      <td>Sumatera Selatan</td>\n      <td>101</td>\n      <td>6</td>\n      <td>49</td>\n      <td>46</td>\n      <td>13437</td>\n      <td>652</td>\n      <td>10834</td>\n      <td>...</td>\n      <td>4.852274</td>\n      <td>80.63%</td>\n      <td>0.92</td>\n      <td>6.00</td>\n      <td>sumatera selatan</td>\n      <td>1.23</td>\n      <td>0.07</td>\n      <td>163.52</td>\n      <td>7.93</td>\n      <td>33</td>\n    </tr>\n    <tr>\n      <th>10693</th>\n      <td>2021-01-21</td>\n      <td>ID-SU</td>\n      <td>Sumatera Utara</td>\n      <td>83</td>\n      <td>1</td>\n      <td>80</td>\n      <td>2</td>\n      <td>19962</td>\n      <td>719</td>\n      <td>17228</td>\n      <td>...</td>\n      <td>3.601844</td>\n      <td>86.30%</td>\n      <td>1.04</td>\n      <td>0.50</td>\n      <td>sumatera utara</td>\n      <td>0.56</td>\n      <td>0.01</td>\n      <td>134.20</td>\n      <td>4.83</td>\n      <td>4</td>\n    </tr>\n  </tbody>\n</table>\n<p>100 rows × 43 columns</p>\n</div>"
     },
     "metadata": {},
     "execution_count": 94
    }
   ],
   "source": [
    "provinces = []\n",
    "for province in indo_geo_id['features']:\n",
    "  provinces.append(province['properties']['state'])\n",
    "\n",
    "# add id column in df with feature.id from geojson\n",
    "indo_id_map = {}\n",
    "for province in indo_geo_id['features']:\n",
    "  indo_id_map[province['properties']['state']] = province['id']\n",
    "# indo_id_map\n",
    "\n",
    "# ## for Foreigners or Other Regency add 'id' = 0\n",
    "df_indo['id'] = df_indo['Location'].apply(lambda x: indo_id_map[x] if x in indo_id_map else 0)\n",
    "\n",
    "df_indo.tail(100)\n"
   ]
  },
  {
   "cell_type": "code",
   "execution_count": 95,
   "metadata": {},
   "outputs": [],
   "source": [
    "df_indo.to_csv('indo_province_data.csv')"
   ]
  },
  {
   "cell_type": "code",
   "execution_count": 96,
   "metadata": {},
   "outputs": [],
   "source": [
    "### 3. World Data? Comparison Data\n",
    "##------------------------\n",
    "\n",
    "# https://github.com/owid/covid-19-data/blob/master/public/data/owid-covid-data.csv\n",
    "\n",
    "url = \"https://raw.githubusercontent.com/owid/covid-19-data/master/public/data/owid-covid-data.csv\"\n",
    "df_world = pd.read_csv(url)"
   ]
  },
  {
   "cell_type": "code",
   "execution_count": 97,
   "metadata": {},
   "outputs": [
    {
     "output_type": "execute_result",
     "data": {
      "text/plain": [
       "  iso_code continent     location        date  total_cases  new_cases  \\\n",
       "0      AFG      Asia  Afghanistan  2020-02-24          1.0        1.0   \n",
       "1      AFG      Asia  Afghanistan  2020-02-25          1.0        0.0   \n",
       "2      AFG      Asia  Afghanistan  2020-02-26          1.0        0.0   \n",
       "3      AFG      Asia  Afghanistan  2020-02-27          1.0        0.0   \n",
       "4      AFG      Asia  Afghanistan  2020-02-28          1.0        0.0   \n",
       "\n",
       "   new_cases_smoothed  total_deaths  new_deaths  new_deaths_smoothed  ...  \\\n",
       "0                 NaN           NaN         NaN                  NaN  ...   \n",
       "1                 NaN           NaN         NaN                  NaN  ...   \n",
       "2                 NaN           NaN         NaN                  NaN  ...   \n",
       "3                 NaN           NaN         NaN                  NaN  ...   \n",
       "4                 NaN           NaN         NaN                  NaN  ...   \n",
       "\n",
       "   gdp_per_capita  extreme_poverty  cardiovasc_death_rate  \\\n",
       "0        1803.987              NaN                597.029   \n",
       "1        1803.987              NaN                597.029   \n",
       "2        1803.987              NaN                597.029   \n",
       "3        1803.987              NaN                597.029   \n",
       "4        1803.987              NaN                597.029   \n",
       "\n",
       "   diabetes_prevalence  female_smokers  male_smokers  handwashing_facilities  \\\n",
       "0                 9.59             NaN           NaN                  37.746   \n",
       "1                 9.59             NaN           NaN                  37.746   \n",
       "2                 9.59             NaN           NaN                  37.746   \n",
       "3                 9.59             NaN           NaN                  37.746   \n",
       "4                 9.59             NaN           NaN                  37.746   \n",
       "\n",
       "   hospital_beds_per_thousand  life_expectancy  human_development_index  \n",
       "0                         0.5            64.83                    0.511  \n",
       "1                         0.5            64.83                    0.511  \n",
       "2                         0.5            64.83                    0.511  \n",
       "3                         0.5            64.83                    0.511  \n",
       "4                         0.5            64.83                    0.511  \n",
       "\n",
       "[5 rows x 59 columns]"
      ],
      "text/html": "<div>\n<style scoped>\n    .dataframe tbody tr th:only-of-type {\n        vertical-align: middle;\n    }\n\n    .dataframe tbody tr th {\n        vertical-align: top;\n    }\n\n    .dataframe thead th {\n        text-align: right;\n    }\n</style>\n<table border=\"1\" class=\"dataframe\">\n  <thead>\n    <tr style=\"text-align: right;\">\n      <th></th>\n      <th>iso_code</th>\n      <th>continent</th>\n      <th>location</th>\n      <th>date</th>\n      <th>total_cases</th>\n      <th>new_cases</th>\n      <th>new_cases_smoothed</th>\n      <th>total_deaths</th>\n      <th>new_deaths</th>\n      <th>new_deaths_smoothed</th>\n      <th>...</th>\n      <th>gdp_per_capita</th>\n      <th>extreme_poverty</th>\n      <th>cardiovasc_death_rate</th>\n      <th>diabetes_prevalence</th>\n      <th>female_smokers</th>\n      <th>male_smokers</th>\n      <th>handwashing_facilities</th>\n      <th>hospital_beds_per_thousand</th>\n      <th>life_expectancy</th>\n      <th>human_development_index</th>\n    </tr>\n  </thead>\n  <tbody>\n    <tr>\n      <th>0</th>\n      <td>AFG</td>\n      <td>Asia</td>\n      <td>Afghanistan</td>\n      <td>2020-02-24</td>\n      <td>1.0</td>\n      <td>1.0</td>\n      <td>NaN</td>\n      <td>NaN</td>\n      <td>NaN</td>\n      <td>NaN</td>\n      <td>...</td>\n      <td>1803.987</td>\n      <td>NaN</td>\n      <td>597.029</td>\n      <td>9.59</td>\n      <td>NaN</td>\n      <td>NaN</td>\n      <td>37.746</td>\n      <td>0.5</td>\n      <td>64.83</td>\n      <td>0.511</td>\n    </tr>\n    <tr>\n      <th>1</th>\n      <td>AFG</td>\n      <td>Asia</td>\n      <td>Afghanistan</td>\n      <td>2020-02-25</td>\n      <td>1.0</td>\n      <td>0.0</td>\n      <td>NaN</td>\n      <td>NaN</td>\n      <td>NaN</td>\n      <td>NaN</td>\n      <td>...</td>\n      <td>1803.987</td>\n      <td>NaN</td>\n      <td>597.029</td>\n      <td>9.59</td>\n      <td>NaN</td>\n      <td>NaN</td>\n      <td>37.746</td>\n      <td>0.5</td>\n      <td>64.83</td>\n      <td>0.511</td>\n    </tr>\n    <tr>\n      <th>2</th>\n      <td>AFG</td>\n      <td>Asia</td>\n      <td>Afghanistan</td>\n      <td>2020-02-26</td>\n      <td>1.0</td>\n      <td>0.0</td>\n      <td>NaN</td>\n      <td>NaN</td>\n      <td>NaN</td>\n      <td>NaN</td>\n      <td>...</td>\n      <td>1803.987</td>\n      <td>NaN</td>\n      <td>597.029</td>\n      <td>9.59</td>\n      <td>NaN</td>\n      <td>NaN</td>\n      <td>37.746</td>\n      <td>0.5</td>\n      <td>64.83</td>\n      <td>0.511</td>\n    </tr>\n    <tr>\n      <th>3</th>\n      <td>AFG</td>\n      <td>Asia</td>\n      <td>Afghanistan</td>\n      <td>2020-02-27</td>\n      <td>1.0</td>\n      <td>0.0</td>\n      <td>NaN</td>\n      <td>NaN</td>\n      <td>NaN</td>\n      <td>NaN</td>\n      <td>...</td>\n      <td>1803.987</td>\n      <td>NaN</td>\n      <td>597.029</td>\n      <td>9.59</td>\n      <td>NaN</td>\n      <td>NaN</td>\n      <td>37.746</td>\n      <td>0.5</td>\n      <td>64.83</td>\n      <td>0.511</td>\n    </tr>\n    <tr>\n      <th>4</th>\n      <td>AFG</td>\n      <td>Asia</td>\n      <td>Afghanistan</td>\n      <td>2020-02-28</td>\n      <td>1.0</td>\n      <td>0.0</td>\n      <td>NaN</td>\n      <td>NaN</td>\n      <td>NaN</td>\n      <td>NaN</td>\n      <td>...</td>\n      <td>1803.987</td>\n      <td>NaN</td>\n      <td>597.029</td>\n      <td>9.59</td>\n      <td>NaN</td>\n      <td>NaN</td>\n      <td>37.746</td>\n      <td>0.5</td>\n      <td>64.83</td>\n      <td>0.511</td>\n    </tr>\n  </tbody>\n</table>\n<p>5 rows × 59 columns</p>\n</div>"
     },
     "metadata": {},
     "execution_count": 97
    }
   ],
   "source": [
    "df_world.head()"
   ]
  },
  {
   "cell_type": "code",
   "execution_count": 98,
   "metadata": {},
   "outputs": [
    {
     "output_type": "execute_result",
     "data": {
      "text/plain": [
       "array(['Afghanistan', 'Africa', 'Albania', 'Algeria', 'Andorra', 'Angola',\n",
       "       'Anguilla', 'Antigua and Barbuda', 'Argentina', 'Armenia', 'Asia',\n",
       "       'Australia', 'Austria', 'Azerbaijan', 'Bahamas', 'Bahrain',\n",
       "       'Bangladesh', 'Barbados', 'Belarus', 'Belgium', 'Belize', 'Benin',\n",
       "       'Bermuda', 'Bhutan', 'Bolivia', 'Bosnia and Herzegovina',\n",
       "       'Botswana', 'Brazil', 'Brunei', 'Bulgaria', 'Burkina Faso',\n",
       "       'Burundi', 'Cambodia', 'Cameroon', 'Canada', 'Cape Verde',\n",
       "       'Cayman Islands', 'Central African Republic', 'Chad', 'Chile',\n",
       "       'China', 'Colombia', 'Comoros', 'Congo', 'Costa Rica',\n",
       "       \"Cote d'Ivoire\", 'Croatia', 'Cuba', 'Cyprus', 'Czechia',\n",
       "       'Democratic Republic of Congo', 'Denmark', 'Djibouti', 'Dominica',\n",
       "       'Dominican Republic', 'Ecuador', 'Egypt', 'El Salvador',\n",
       "       'Equatorial Guinea', 'Eritrea', 'Estonia', 'Eswatini', 'Ethiopia',\n",
       "       'Europe', 'European Union', 'Faeroe Islands', 'Falkland Islands',\n",
       "       'Fiji', 'Finland', 'France', 'Gabon', 'Gambia', 'Georgia',\n",
       "       'Germany', 'Ghana', 'Gibraltar', 'Greece', 'Greenland', 'Grenada',\n",
       "       'Guatemala', 'Guernsey', 'Guinea', 'Guinea-Bissau', 'Guyana',\n",
       "       'Haiti', 'Honduras', 'Hong Kong', 'Hungary', 'Iceland', 'India',\n",
       "       'Indonesia', 'International', 'Iran', 'Iraq', 'Ireland',\n",
       "       'Isle of Man', 'Israel', 'Italy', 'Jamaica', 'Japan', 'Jersey',\n",
       "       'Jordan', 'Kazakhstan', 'Kenya', 'Kosovo', 'Kuwait', 'Kyrgyzstan',\n",
       "       'Laos', 'Latvia', 'Lebanon', 'Lesotho', 'Liberia', 'Libya',\n",
       "       'Liechtenstein', 'Lithuania', 'Luxembourg', 'Macao', 'Madagascar',\n",
       "       'Malawi', 'Malaysia', 'Maldives', 'Mali', 'Malta',\n",
       "       'Marshall Islands', 'Mauritania', 'Mauritius', 'Mexico',\n",
       "       'Micronesia (country)', 'Moldova', 'Monaco', 'Mongolia',\n",
       "       'Montenegro', 'Montserrat', 'Morocco', 'Mozambique', 'Myanmar',\n",
       "       'Namibia', 'Nepal', 'Netherlands', 'New Zealand', 'Nicaragua',\n",
       "       'Niger', 'Nigeria', 'North America', 'North Macedonia',\n",
       "       'Northern Cyprus', 'Norway', 'Oceania', 'Oman', 'Pakistan',\n",
       "       'Palestine', 'Panama', 'Papua New Guinea', 'Paraguay', 'Peru',\n",
       "       'Philippines', 'Poland', 'Portugal', 'Qatar', 'Romania', 'Russia',\n",
       "       'Rwanda', 'Saint Helena', 'Saint Kitts and Nevis', 'Saint Lucia',\n",
       "       'Saint Vincent and the Grenadines', 'Samoa', 'San Marino',\n",
       "       'Sao Tome and Principe', 'Saudi Arabia', 'Senegal', 'Serbia',\n",
       "       'Seychelles', 'Sierra Leone', 'Singapore', 'Slovakia', 'Slovenia',\n",
       "       'Solomon Islands', 'Somalia', 'South Africa', 'South America',\n",
       "       'South Korea', 'South Sudan', 'Spain', 'Sri Lanka', 'Sudan',\n",
       "       'Suriname', 'Sweden', 'Switzerland', 'Syria', 'Taiwan',\n",
       "       'Tajikistan', 'Tanzania', 'Thailand', 'Timor', 'Togo',\n",
       "       'Trinidad and Tobago', 'Tunisia', 'Turkey',\n",
       "       'Turks and Caicos Islands', 'Uganda', 'Ukraine',\n",
       "       'United Arab Emirates', 'United Kingdom', 'United States',\n",
       "       'Uruguay', 'Uzbekistan', 'Vanuatu', 'Vatican', 'Venezuela',\n",
       "       'Vietnam', 'World', 'Yemen', 'Zambia', 'Zimbabwe'], dtype=object)"
      ]
     },
     "metadata": {},
     "execution_count": 98
    }
   ],
   "source": [
    "pd.unique(df_world['location'])"
   ]
  },
  {
   "cell_type": "code",
   "execution_count": 99,
   "metadata": {},
   "outputs": [
    {
     "output_type": "execute_result",
     "data": {
      "text/plain": [
       "Index(['iso_code', 'continent', 'location', 'date', 'total_cases', 'new_cases',\n",
       "       'new_cases_smoothed', 'total_deaths', 'new_deaths',\n",
       "       'new_deaths_smoothed', 'total_cases_per_million',\n",
       "       'new_cases_per_million', 'new_cases_smoothed_per_million',\n",
       "       'total_deaths_per_million', 'new_deaths_per_million',\n",
       "       'new_deaths_smoothed_per_million', 'reproduction_rate', 'icu_patients',\n",
       "       'icu_patients_per_million', 'hosp_patients',\n",
       "       'hosp_patients_per_million', 'weekly_icu_admissions',\n",
       "       'weekly_icu_admissions_per_million', 'weekly_hosp_admissions',\n",
       "       'weekly_hosp_admissions_per_million', 'new_tests', 'total_tests',\n",
       "       'total_tests_per_thousand', 'new_tests_per_thousand',\n",
       "       'new_tests_smoothed', 'new_tests_smoothed_per_thousand',\n",
       "       'positive_rate', 'tests_per_case', 'tests_units', 'total_vaccinations',\n",
       "       'people_vaccinated', 'people_fully_vaccinated', 'new_vaccinations',\n",
       "       'new_vaccinations_smoothed', 'total_vaccinations_per_hundred',\n",
       "       'people_vaccinated_per_hundred', 'people_fully_vaccinated_per_hundred',\n",
       "       'new_vaccinations_smoothed_per_million', 'stringency_index',\n",
       "       'population', 'population_density', 'median_age', 'aged_65_older',\n",
       "       'aged_70_older', 'gdp_per_capita', 'extreme_poverty',\n",
       "       'cardiovasc_death_rate', 'diabetes_prevalence', 'female_smokers',\n",
       "       'male_smokers', 'handwashing_facilities', 'hospital_beds_per_thousand',\n",
       "       'life_expectancy', 'human_development_index'],\n",
       "      dtype='object')"
      ]
     },
     "metadata": {},
     "execution_count": 99
    }
   ],
   "source": [
    "df_world.columns"
   ]
  },
  {
   "cell_type": "code",
   "execution_count": 100,
   "metadata": {},
   "outputs": [],
   "source": [
    "# df_world['location'].unique()"
   ]
  },
  {
   "cell_type": "code",
   "execution_count": 101,
   "metadata": {},
   "outputs": [],
   "source": [
    "# relevant countries :\n",
    "rel_countries = [\"Germany\", 'Europe', 'World', 'International', 'Indonesia',  'United Kingdom', 'Australia', 'France', \"Italy\", 'United States']"
   ]
  },
  {
   "cell_type": "code",
   "execution_count": 102,
   "metadata": {},
   "outputs": [],
   "source": [
    "# CFR, total cases per 100k and total deaths, growth_rate, vaccination\n",
    "## add columns for total cases/deaths per 100k\n",
    "df_world['Date'] = df_world['date'] \n",
    "df_world['CFR'] = df_world['total_deaths'] / df_world['total_cases'] * 100\n",
    "df_world['total_cases_per_100k'] = df_world['total_cases_per_million'] / 10\n",
    "df_world['total_deaths_per_100k'] = df_world['total_deaths_per_million'] / 10\n"
   ]
  },
  {
   "cell_type": "code",
   "execution_count": 103,
   "metadata": {},
   "outputs": [
    {
     "output_type": "execute_result",
     "data": {
      "text/plain": [
       "2994.1953999999996"
      ]
     },
     "metadata": {},
     "execution_count": 103
    }
   ],
   "source": [
    "df_germany = df_world[df_world['location'] == 'Germany']\n",
    "df_germany.head()\n",
    "df_germany['total_cases_per_100k'].iloc[-1]\n",
    "# df_germany['total_cases_per_million'].iloc[-1]"
   ]
  },
  {
   "cell_type": "code",
   "execution_count": 104,
   "metadata": {},
   "outputs": [],
   "source": [
    "df_world.to_csv(\"world_data.csv\")"
   ]
  },
  {
   "cell_type": "code",
   "execution_count": null,
   "metadata": {},
   "outputs": [],
   "source": []
  }
 ]
}