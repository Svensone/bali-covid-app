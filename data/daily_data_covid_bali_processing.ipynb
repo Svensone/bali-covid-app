{
 "cells": [
  {
   "cell_type": "code",
   "execution_count": 132,
   "metadata": {
    "execution": {
     "iopub.execute_input": "2021-04-05T08:55:22.040085Z",
     "iopub.status.busy": "2021-04-05T08:55:22.038093Z",
     "iopub.status.idle": "2021-04-05T08:55:23.984041Z",
     "shell.execute_reply": "2021-04-05T08:55:23.985053Z"
    }
   },
   "outputs": [
    {
     "output_type": "stream",
     "name": "stdout",
     "text": [
      "Requirement already satisfied: kaggle in c:\\users\\ansve\\.conda\\envs\\bali_covid_dash_app\\lib\\site-packages (1.5.12)\nRequirement already satisfied: urllib3 in c:\\users\\ansve\\.conda\\envs\\bali_covid_dash_app\\lib\\site-packages (from kaggle) (1.26.4)\nRequirement already satisfied: requests in c:\\users\\ansve\\.conda\\envs\\bali_covid_dash_app\\lib\\site-packages (from kaggle) (2.25.1)\nRequirement already satisfied: tqdm in c:\\users\\ansve\\.conda\\envs\\bali_covid_dash_app\\lib\\site-packages (from kaggle) (4.60.0)\nRequirement already satisfied: python-slugify in c:\\users\\ansve\\.conda\\envs\\bali_covid_dash_app\\lib\\site-packages (from kaggle) (4.0.1)\nRequirement already satisfied: six>=1.10 in c:\\users\\ansve\\.conda\\envs\\bali_covid_dash_app\\lib\\site-packages (from kaggle) (1.15.0)\nRequirement already satisfied: certifi in c:\\users\\ansve\\.conda\\envs\\bali_covid_dash_app\\lib\\site-packages (from kaggle) (2020.12.5)\nRequirement already satisfied: python-dateutil in c:\\users\\ansve\\.conda\\envs\\bali_covid_dash_app\\lib\\site-packages (from kaggle) (2.8.1)\nRequirement already satisfied: text-unidecode>=1.3 in c:\\users\\ansve\\.conda\\envs\\bali_covid_dash_app\\lib\\site-packages (from python-slugify->kaggle) (1.3)\nRequirement already satisfied: chardet<5,>=3.0.2 in c:\\users\\ansve\\.conda\\envs\\bali_covid_dash_app\\lib\\site-packages (from requests->kaggle) (4.0.0)\nRequirement already satisfied: idna<3,>=2.5 in c:\\users\\ansve\\.conda\\envs\\bali_covid_dash_app\\lib\\site-packages (from requests->kaggle) (2.10)\nNote: you may need to restart the kernel to use updated packages.\n"
     ]
    }
   ],
   "source": [
    "pip install kaggle"
   ]
  },
  {
   "cell_type": "code",
   "execution_count": 133,
   "metadata": {
    "execution": {
     "iopub.execute_input": "2021-04-05T08:55:23.990041Z",
     "iopub.status.busy": "2021-04-05T08:55:23.988046Z",
     "iopub.status.idle": "2021-04-05T08:55:24.236164Z",
     "shell.execute_reply": "2021-04-05T08:55:24.235165Z"
    }
   },
   "outputs": [],
   "source": [
    "from kaggle.api.kaggle_api_extended import KaggleApi\n",
    "\n",
    "# from keys import kaggle_api\n",
    "## 1. with Kaggle Api\n",
    "api =KaggleApi()\n",
    "api.authenticate()"
   ]
  },
  {
   "cell_type": "code",
   "execution_count": 134,
   "metadata": {
    "execution": {
     "iopub.execute_input": "2021-04-05T08:55:24.244166Z",
     "iopub.status.busy": "2021-04-05T08:55:24.242164Z",
     "iopub.status.idle": "2021-04-05T08:55:25.998171Z",
     "shell.execute_reply": "2021-04-05T08:55:25.999168Z"
    }
   },
   "outputs": [
    {
     "output_type": "stream",
     "name": "stdout",
     "text": [
      "Requirement already satisfied: json_lines in c:\\users\\ansve\\.conda\\envs\\bali_covid_dash_app\\lib\\site-packages (0.5.0)Note: you may need to restart the kernel to use updated packages.\n",
      "\n",
      "Requirement already satisfied: six in c:\\users\\ansve\\.conda\\envs\\bali_covid_dash_app\\lib\\site-packages (from json_lines) (1.15.0)\n"
     ]
    }
   ],
   "source": [
    "pip install json_lines"
   ]
  },
  {
   "cell_type": "code",
   "execution_count": 135,
   "metadata": {
    "execution": {
     "iopub.execute_input": "2021-04-05T08:55:26.006168Z",
     "iopub.status.busy": "2021-04-05T08:55:26.005169Z",
     "iopub.status.idle": "2021-04-05T08:55:27.775127Z",
     "shell.execute_reply": "2021-04-05T08:55:27.776121Z"
    }
   },
   "outputs": [],
   "source": [
    "import pandas as pd\n",
    "import json\n",
    "import json_lines\n"
   ]
  },
  {
   "source": [
    "## CONTENT\n",
    "#####################\n",
    " \n",
    " 1. Bali Regency data\n",
    " * from Scrapy spider, combined with Wikipedia Data and geojson file from indo.gov.co.id\n",
    " 2. Indo Province Data (transittion to kawal data - march 2021)\n",
    " * kawalCovid data with Kaggle Dataset by Hendra\n",
    " 3. World - Country Data\n",
    " * owid world data"
   ],
   "cell_type": "markdown",
   "metadata": {
    "execution": {
     "iopub.execute_input": "2021-04-05T08:55:27.783128Z",
     "iopub.status.busy": "2021-04-05T08:55:27.782121Z",
     "iopub.status.idle": "2021-04-05T08:55:27.786121Z",
     "shell.execute_reply": "2021-04-05T08:55:27.785126Z"
    }
   }
  },
  {
   "cell_type": "code",
   "execution_count": 136,
   "metadata": {
    "execution": {
     "iopub.execute_input": "2021-04-05T08:55:27.792130Z",
     "iopub.status.busy": "2021-04-05T08:55:27.791126Z",
     "iopub.status.idle": "2021-04-05T08:55:27.794124Z",
     "shell.execute_reply": "2021-04-05T08:55:27.795121Z"
    }
   },
   "outputs": [],
   "source": [
    "###  -------------------------------------\n",
    "### 1. COVID DATA BALI REGENCIES\n",
    "###  -------------------------------------\n",
    "\n",
    "## From scrapy spider"
   ]
  },
  {
   "cell_type": "code",
   "execution_count": 137,
   "metadata": {
    "execution": {
     "iopub.execute_input": "2021-04-05T08:55:27.804124Z",
     "iopub.status.busy": "2021-04-05T08:55:27.803126Z",
     "iopub.status.idle": "2021-04-05T08:55:27.847127Z",
     "shell.execute_reply": "2021-04-05T08:55:27.846141Z"
    }
   },
   "outputs": [
    {
     "output_type": "stream",
     "name": "stderr",
     "text": [
      "Error: JSON line can't be decoded. JSONDecodeError('Extra data: line 1 column 875 (char 874)',)\n"
     ]
    },
    {
     "output_type": "execute_result",
     "data": {
      "text/plain": [
       "  0         1    2    3   4     5  6   7   8     9             10\n",
       "0  1  JEMBRANA   -7   70   7   579  1  14   1   663   05 Dec 2020\n",
       "1  2   TABANAN  -10  434  35  1016  0  47  25  1497   05 Dec 2020\n",
       "2  3    BADUNG   -9  159  27  2299  0  51  18  2509   05 Dec 2020\n",
       "3  4  DENPASAR    1  166  26  3705  0  90  27  3961   05 Dec 2020\n",
       "4  5   GIANYAR  -16  234  31  1681  0  75  15  1990   05 Dec 2020"
      ],
      "text/html": "<div>\n<style scoped>\n    .dataframe tbody tr th:only-of-type {\n        vertical-align: middle;\n    }\n\n    .dataframe tbody tr th {\n        vertical-align: top;\n    }\n\n    .dataframe thead th {\n        text-align: right;\n    }\n</style>\n<table border=\"1\" class=\"dataframe\">\n  <thead>\n    <tr style=\"text-align: right;\">\n      <th></th>\n      <th>0</th>\n      <th>1</th>\n      <th>2</th>\n      <th>3</th>\n      <th>4</th>\n      <th>5</th>\n      <th>6</th>\n      <th>7</th>\n      <th>8</th>\n      <th>9</th>\n      <th>10</th>\n    </tr>\n  </thead>\n  <tbody>\n    <tr>\n      <th>0</th>\n      <td>1</td>\n      <td>JEMBRANA</td>\n      <td>-7</td>\n      <td>70</td>\n      <td>7</td>\n      <td>579</td>\n      <td>1</td>\n      <td>14</td>\n      <td>1</td>\n      <td>663</td>\n      <td>05 Dec 2020</td>\n    </tr>\n    <tr>\n      <th>1</th>\n      <td>2</td>\n      <td>TABANAN</td>\n      <td>-10</td>\n      <td>434</td>\n      <td>35</td>\n      <td>1016</td>\n      <td>0</td>\n      <td>47</td>\n      <td>25</td>\n      <td>1497</td>\n      <td>05 Dec 2020</td>\n    </tr>\n    <tr>\n      <th>2</th>\n      <td>3</td>\n      <td>BADUNG</td>\n      <td>-9</td>\n      <td>159</td>\n      <td>27</td>\n      <td>2299</td>\n      <td>0</td>\n      <td>51</td>\n      <td>18</td>\n      <td>2509</td>\n      <td>05 Dec 2020</td>\n    </tr>\n    <tr>\n      <th>3</th>\n      <td>4</td>\n      <td>DENPASAR</td>\n      <td>1</td>\n      <td>166</td>\n      <td>26</td>\n      <td>3705</td>\n      <td>0</td>\n      <td>90</td>\n      <td>27</td>\n      <td>3961</td>\n      <td>05 Dec 2020</td>\n    </tr>\n    <tr>\n      <th>4</th>\n      <td>5</td>\n      <td>GIANYAR</td>\n      <td>-16</td>\n      <td>234</td>\n      <td>31</td>\n      <td>1681</td>\n      <td>0</td>\n      <td>75</td>\n      <td>15</td>\n      <td>1990</td>\n      <td>05 Dec 2020</td>\n    </tr>\n  </tbody>\n</table>\n</div>"
     },
     "metadata": {},
     "execution_count": 137
    }
   ],
   "source": [
    "## Converting Json-Lines File to pandas DataFrame\n",
    "##########################################\n",
    "\n",
    "json_file = r'C:\\Users\\ansve\\Coding\\Projects-WebScraping\\CovidBali\\CovidBali\\CovidBali\\daily.jl'\n",
    "\n",
    "##Extract data from First TABLE\n",
    "###############################################\n",
    "\n",
    "data_first = []\n",
    "with open(json_file, 'rb') as f:\n",
    "    count = 0\n",
    "    for line in json_lines.reader(f, broken=True):\n",
    "        count+=1\n",
    "        if count % 2 == 0: #this is the remainder operator\n",
    "            for x in range(0, 10):\n",
    "                data_first.append(line['data'][x])\n",
    "\n",
    "df_first = pd.DataFrame(data_first)\n",
    "df_first.head()"
   ]
  },
  {
   "cell_type": "code",
   "execution_count": 138,
   "metadata": {
    "execution": {
     "iopub.execute_input": "2021-04-05T08:55:27.880125Z",
     "iopub.status.busy": "2021-04-05T08:55:27.878124Z",
     "iopub.status.idle": "2021-04-05T08:55:27.885581Z",
     "shell.execute_reply": "2021-04-05T08:55:27.886587Z"
    }
   },
   "outputs": [
    {
     "output_type": "execute_result",
     "data": {
      "text/plain": [
       "      0                  1    2    3    4      5  6    7   8      9   \\\n",
       "1110   1           JEMBRANA    0   18    5   2115  0   74   5   2207   \n",
       "1111   2            TABANAN    9  125    6   4016  1  150  16   4291   \n",
       "1112   3             BADUNG   16  275   32   7444  2  204  50   7923   \n",
       "1113   4           DENPASAR  -45  703  108  11984  2  272  65  12959   \n",
       "1114   5            GIANYAR   14   74    6   4566  0  129  20   4769   \n",
       "1115   6             BANGLI   -3   45    2   2001  2   84   1   2130   \n",
       "1116   7          KLUNGKUNG   -4   59    9   1530  1   52   6   1641   \n",
       "1117   8         KARANGASEM    3   86    5   1543  0   86   8   1715   \n",
       "1118   9           BULELENG   -4  187   24   2812  2  128  22   3127   \n",
       "1119  10  KABUPATEN LAINNYA    0   60   10    479  0    7  10    546   \n",
       "1120   1           JEMBRANA    1   19    0   2115  0   74   1   2208   \n",
       "1121   2            TABANAN   -1  124   13   4029  2  152  14   4305   \n",
       "1122   3             BADUNG   25  300   26   7470  2  206  53   7976   \n",
       "1123   4           DENPASAR    7  710   71  12055  4  276  82  13041   \n",
       "1124   5            GIANYAR   -5   69   20   4586  0  129  15   4784   \n",
       "1125   6             BANGLI    4   49    8   2009  0   84  12   2142   \n",
       "1126   7          KLUNGKUNG   -3   56    8   1538  0   52   5   1646   \n",
       "1127   8         KARANGASEM    1   87    0   1543  0   86   1   1716   \n",
       "1128   9           BULELENG   -3  184   16   2828  2  130  15   3142   \n",
       "1129  10  KABUPATEN LAINNYA    4   64    0    479  1    8   5    551   \n",
       "1130   1           JEMBRANA    3   22    6   2121  0   74   9   2217   \n",
       "1131   2            TABANAN   -3  121   15   4044  1  153  13   4318   \n",
       "1132   3             BADUNG   10  310   22   7492  2  208  34   8010   \n",
       "1133   4           DENPASAR   17  727   26  12081  2  278  45  13086   \n",
       "1134   5            GIANYAR   10   79   10   4596  0  129  20   4804   \n",
       "1135   6             BANGLI    3   52   10   2019  0   84  13   2155   \n",
       "1136   7          KLUNGKUNG   -3   53    6   1544  1   53   4   1650   \n",
       "1137   8         KARANGASEM    1   88    0   1543  0   86   1   1717   \n",
       "1138   9           BULELENG  -16  168   28   2856  0  130  12   3154   \n",
       "1139  10  KABUPATEN LAINNYA    1   65    1    480  0    8   2    553   \n",
       "\n",
       "                10  \n",
       "1110   08 Apr 2021  \n",
       "1111   08 Apr 2021  \n",
       "1112   08 Apr 2021  \n",
       "1113   08 Apr 2021  \n",
       "1114   08 Apr 2021  \n",
       "1115   08 Apr 2021  \n",
       "1116   08 Apr 2021  \n",
       "1117   08 Apr 2021  \n",
       "1118   08 Apr 2021  \n",
       "1119   08 Apr 2021  \n",
       "1120   09 Apr 2021  \n",
       "1121   09 Apr 2021  \n",
       "1122   09 Apr 2021  \n",
       "1123   09 Apr 2021  \n",
       "1124   09 Apr 2021  \n",
       "1125   09 Apr 2021  \n",
       "1126   09 Apr 2021  \n",
       "1127   09 Apr 2021  \n",
       "1128   09 Apr 2021  \n",
       "1129   09 Apr 2021  \n",
       "1130   10 Apr 2021  \n",
       "1131   10 Apr 2021  \n",
       "1132   10 Apr 2021  \n",
       "1133   10 Apr 2021  \n",
       "1134   10 Apr 2021  \n",
       "1135   10 Apr 2021  \n",
       "1136   10 Apr 2021  \n",
       "1137   10 Apr 2021  \n",
       "1138   10 Apr 2021  \n",
       "1139   10 Apr 2021  "
      ],
      "text/html": "<div>\n<style scoped>\n    .dataframe tbody tr th:only-of-type {\n        vertical-align: middle;\n    }\n\n    .dataframe tbody tr th {\n        vertical-align: top;\n    }\n\n    .dataframe thead th {\n        text-align: right;\n    }\n</style>\n<table border=\"1\" class=\"dataframe\">\n  <thead>\n    <tr style=\"text-align: right;\">\n      <th></th>\n      <th>0</th>\n      <th>1</th>\n      <th>2</th>\n      <th>3</th>\n      <th>4</th>\n      <th>5</th>\n      <th>6</th>\n      <th>7</th>\n      <th>8</th>\n      <th>9</th>\n      <th>10</th>\n    </tr>\n  </thead>\n  <tbody>\n    <tr>\n      <th>1110</th>\n      <td>1</td>\n      <td>JEMBRANA</td>\n      <td>0</td>\n      <td>18</td>\n      <td>5</td>\n      <td>2115</td>\n      <td>0</td>\n      <td>74</td>\n      <td>5</td>\n      <td>2207</td>\n      <td>08 Apr 2021</td>\n    </tr>\n    <tr>\n      <th>1111</th>\n      <td>2</td>\n      <td>TABANAN</td>\n      <td>9</td>\n      <td>125</td>\n      <td>6</td>\n      <td>4016</td>\n      <td>1</td>\n      <td>150</td>\n      <td>16</td>\n      <td>4291</td>\n      <td>08 Apr 2021</td>\n    </tr>\n    <tr>\n      <th>1112</th>\n      <td>3</td>\n      <td>BADUNG</td>\n      <td>16</td>\n      <td>275</td>\n      <td>32</td>\n      <td>7444</td>\n      <td>2</td>\n      <td>204</td>\n      <td>50</td>\n      <td>7923</td>\n      <td>08 Apr 2021</td>\n    </tr>\n    <tr>\n      <th>1113</th>\n      <td>4</td>\n      <td>DENPASAR</td>\n      <td>-45</td>\n      <td>703</td>\n      <td>108</td>\n      <td>11984</td>\n      <td>2</td>\n      <td>272</td>\n      <td>65</td>\n      <td>12959</td>\n      <td>08 Apr 2021</td>\n    </tr>\n    <tr>\n      <th>1114</th>\n      <td>5</td>\n      <td>GIANYAR</td>\n      <td>14</td>\n      <td>74</td>\n      <td>6</td>\n      <td>4566</td>\n      <td>0</td>\n      <td>129</td>\n      <td>20</td>\n      <td>4769</td>\n      <td>08 Apr 2021</td>\n    </tr>\n    <tr>\n      <th>1115</th>\n      <td>6</td>\n      <td>BANGLI</td>\n      <td>-3</td>\n      <td>45</td>\n      <td>2</td>\n      <td>2001</td>\n      <td>2</td>\n      <td>84</td>\n      <td>1</td>\n      <td>2130</td>\n      <td>08 Apr 2021</td>\n    </tr>\n    <tr>\n      <th>1116</th>\n      <td>7</td>\n      <td>KLUNGKUNG</td>\n      <td>-4</td>\n      <td>59</td>\n      <td>9</td>\n      <td>1530</td>\n      <td>1</td>\n      <td>52</td>\n      <td>6</td>\n      <td>1641</td>\n      <td>08 Apr 2021</td>\n    </tr>\n    <tr>\n      <th>1117</th>\n      <td>8</td>\n      <td>KARANGASEM</td>\n      <td>3</td>\n      <td>86</td>\n      <td>5</td>\n      <td>1543</td>\n      <td>0</td>\n      <td>86</td>\n      <td>8</td>\n      <td>1715</td>\n      <td>08 Apr 2021</td>\n    </tr>\n    <tr>\n      <th>1118</th>\n      <td>9</td>\n      <td>BULELENG</td>\n      <td>-4</td>\n      <td>187</td>\n      <td>24</td>\n      <td>2812</td>\n      <td>2</td>\n      <td>128</td>\n      <td>22</td>\n      <td>3127</td>\n      <td>08 Apr 2021</td>\n    </tr>\n    <tr>\n      <th>1119</th>\n      <td>10</td>\n      <td>KABUPATEN LAINNYA</td>\n      <td>0</td>\n      <td>60</td>\n      <td>10</td>\n      <td>479</td>\n      <td>0</td>\n      <td>7</td>\n      <td>10</td>\n      <td>546</td>\n      <td>08 Apr 2021</td>\n    </tr>\n    <tr>\n      <th>1120</th>\n      <td>1</td>\n      <td>JEMBRANA</td>\n      <td>1</td>\n      <td>19</td>\n      <td>0</td>\n      <td>2115</td>\n      <td>0</td>\n      <td>74</td>\n      <td>1</td>\n      <td>2208</td>\n      <td>09 Apr 2021</td>\n    </tr>\n    <tr>\n      <th>1121</th>\n      <td>2</td>\n      <td>TABANAN</td>\n      <td>-1</td>\n      <td>124</td>\n      <td>13</td>\n      <td>4029</td>\n      <td>2</td>\n      <td>152</td>\n      <td>14</td>\n      <td>4305</td>\n      <td>09 Apr 2021</td>\n    </tr>\n    <tr>\n      <th>1122</th>\n      <td>3</td>\n      <td>BADUNG</td>\n      <td>25</td>\n      <td>300</td>\n      <td>26</td>\n      <td>7470</td>\n      <td>2</td>\n      <td>206</td>\n      <td>53</td>\n      <td>7976</td>\n      <td>09 Apr 2021</td>\n    </tr>\n    <tr>\n      <th>1123</th>\n      <td>4</td>\n      <td>DENPASAR</td>\n      <td>7</td>\n      <td>710</td>\n      <td>71</td>\n      <td>12055</td>\n      <td>4</td>\n      <td>276</td>\n      <td>82</td>\n      <td>13041</td>\n      <td>09 Apr 2021</td>\n    </tr>\n    <tr>\n      <th>1124</th>\n      <td>5</td>\n      <td>GIANYAR</td>\n      <td>-5</td>\n      <td>69</td>\n      <td>20</td>\n      <td>4586</td>\n      <td>0</td>\n      <td>129</td>\n      <td>15</td>\n      <td>4784</td>\n      <td>09 Apr 2021</td>\n    </tr>\n    <tr>\n      <th>1125</th>\n      <td>6</td>\n      <td>BANGLI</td>\n      <td>4</td>\n      <td>49</td>\n      <td>8</td>\n      <td>2009</td>\n      <td>0</td>\n      <td>84</td>\n      <td>12</td>\n      <td>2142</td>\n      <td>09 Apr 2021</td>\n    </tr>\n    <tr>\n      <th>1126</th>\n      <td>7</td>\n      <td>KLUNGKUNG</td>\n      <td>-3</td>\n      <td>56</td>\n      <td>8</td>\n      <td>1538</td>\n      <td>0</td>\n      <td>52</td>\n      <td>5</td>\n      <td>1646</td>\n      <td>09 Apr 2021</td>\n    </tr>\n    <tr>\n      <th>1127</th>\n      <td>8</td>\n      <td>KARANGASEM</td>\n      <td>1</td>\n      <td>87</td>\n      <td>0</td>\n      <td>1543</td>\n      <td>0</td>\n      <td>86</td>\n      <td>1</td>\n      <td>1716</td>\n      <td>09 Apr 2021</td>\n    </tr>\n    <tr>\n      <th>1128</th>\n      <td>9</td>\n      <td>BULELENG</td>\n      <td>-3</td>\n      <td>184</td>\n      <td>16</td>\n      <td>2828</td>\n      <td>2</td>\n      <td>130</td>\n      <td>15</td>\n      <td>3142</td>\n      <td>09 Apr 2021</td>\n    </tr>\n    <tr>\n      <th>1129</th>\n      <td>10</td>\n      <td>KABUPATEN LAINNYA</td>\n      <td>4</td>\n      <td>64</td>\n      <td>0</td>\n      <td>479</td>\n      <td>1</td>\n      <td>8</td>\n      <td>5</td>\n      <td>551</td>\n      <td>09 Apr 2021</td>\n    </tr>\n    <tr>\n      <th>1130</th>\n      <td>1</td>\n      <td>JEMBRANA</td>\n      <td>3</td>\n      <td>22</td>\n      <td>6</td>\n      <td>2121</td>\n      <td>0</td>\n      <td>74</td>\n      <td>9</td>\n      <td>2217</td>\n      <td>10 Apr 2021</td>\n    </tr>\n    <tr>\n      <th>1131</th>\n      <td>2</td>\n      <td>TABANAN</td>\n      <td>-3</td>\n      <td>121</td>\n      <td>15</td>\n      <td>4044</td>\n      <td>1</td>\n      <td>153</td>\n      <td>13</td>\n      <td>4318</td>\n      <td>10 Apr 2021</td>\n    </tr>\n    <tr>\n      <th>1132</th>\n      <td>3</td>\n      <td>BADUNG</td>\n      <td>10</td>\n      <td>310</td>\n      <td>22</td>\n      <td>7492</td>\n      <td>2</td>\n      <td>208</td>\n      <td>34</td>\n      <td>8010</td>\n      <td>10 Apr 2021</td>\n    </tr>\n    <tr>\n      <th>1133</th>\n      <td>4</td>\n      <td>DENPASAR</td>\n      <td>17</td>\n      <td>727</td>\n      <td>26</td>\n      <td>12081</td>\n      <td>2</td>\n      <td>278</td>\n      <td>45</td>\n      <td>13086</td>\n      <td>10 Apr 2021</td>\n    </tr>\n    <tr>\n      <th>1134</th>\n      <td>5</td>\n      <td>GIANYAR</td>\n      <td>10</td>\n      <td>79</td>\n      <td>10</td>\n      <td>4596</td>\n      <td>0</td>\n      <td>129</td>\n      <td>20</td>\n      <td>4804</td>\n      <td>10 Apr 2021</td>\n    </tr>\n    <tr>\n      <th>1135</th>\n      <td>6</td>\n      <td>BANGLI</td>\n      <td>3</td>\n      <td>52</td>\n      <td>10</td>\n      <td>2019</td>\n      <td>0</td>\n      <td>84</td>\n      <td>13</td>\n      <td>2155</td>\n      <td>10 Apr 2021</td>\n    </tr>\n    <tr>\n      <th>1136</th>\n      <td>7</td>\n      <td>KLUNGKUNG</td>\n      <td>-3</td>\n      <td>53</td>\n      <td>6</td>\n      <td>1544</td>\n      <td>1</td>\n      <td>53</td>\n      <td>4</td>\n      <td>1650</td>\n      <td>10 Apr 2021</td>\n    </tr>\n    <tr>\n      <th>1137</th>\n      <td>8</td>\n      <td>KARANGASEM</td>\n      <td>1</td>\n      <td>88</td>\n      <td>0</td>\n      <td>1543</td>\n      <td>0</td>\n      <td>86</td>\n      <td>1</td>\n      <td>1717</td>\n      <td>10 Apr 2021</td>\n    </tr>\n    <tr>\n      <th>1138</th>\n      <td>9</td>\n      <td>BULELENG</td>\n      <td>-16</td>\n      <td>168</td>\n      <td>28</td>\n      <td>2856</td>\n      <td>0</td>\n      <td>130</td>\n      <td>12</td>\n      <td>3154</td>\n      <td>10 Apr 2021</td>\n    </tr>\n    <tr>\n      <th>1139</th>\n      <td>10</td>\n      <td>KABUPATEN LAINNYA</td>\n      <td>1</td>\n      <td>65</td>\n      <td>1</td>\n      <td>480</td>\n      <td>0</td>\n      <td>8</td>\n      <td>2</td>\n      <td>553</td>\n      <td>10 Apr 2021</td>\n    </tr>\n  </tbody>\n</table>\n</div>"
     },
     "metadata": {},
     "execution_count": 138
    }
   ],
   "source": [
    "df_first.tail(30)"
   ]
  },
  {
   "cell_type": "code",
   "execution_count": 139,
   "metadata": {
    "execution": {
     "iopub.execute_input": "2021-04-05T08:55:27.905689Z",
     "iopub.status.busy": "2021-04-05T08:55:27.905689Z",
     "iopub.status.idle": "2021-04-05T08:55:27.910704Z",
     "shell.execute_reply": "2021-04-05T08:55:27.909683Z"
    }
   },
   "outputs": [
    {
     "output_type": "execute_result",
     "data": {
      "text/plain": [
       "  No Kabupaten / County new_treatment total_treatment new_recovered  \\\n",
       "0  1           JEMBRANA            -7              70             7   \n",
       "1  2            TABANAN           -10             434            35   \n",
       "2  3             BADUNG            -9             159            27   \n",
       "3  4           DENPASAR             1             166            26   \n",
       "4  5            GIANYAR           -16             234            31   \n",
       "\n",
       "  total_recovered new_deaths total_deaths new_cases total_cases          Date  \n",
       "0             579          1           14         1         663   05 Dec 2020  \n",
       "1            1016          0           47        25        1497   05 Dec 2020  \n",
       "2            2299          0           51        18        2509   05 Dec 2020  \n",
       "3            3705          0           90        27        3961   05 Dec 2020  \n",
       "4            1681          0           75        15        1990   05 Dec 2020  "
      ],
      "text/html": "<div>\n<style scoped>\n    .dataframe tbody tr th:only-of-type {\n        vertical-align: middle;\n    }\n\n    .dataframe tbody tr th {\n        vertical-align: top;\n    }\n\n    .dataframe thead th {\n        text-align: right;\n    }\n</style>\n<table border=\"1\" class=\"dataframe\">\n  <thead>\n    <tr style=\"text-align: right;\">\n      <th></th>\n      <th>No</th>\n      <th>Kabupaten / County</th>\n      <th>new_treatment</th>\n      <th>total_treatment</th>\n      <th>new_recovered</th>\n      <th>total_recovered</th>\n      <th>new_deaths</th>\n      <th>total_deaths</th>\n      <th>new_cases</th>\n      <th>total_cases</th>\n      <th>Date</th>\n    </tr>\n  </thead>\n  <tbody>\n    <tr>\n      <th>0</th>\n      <td>1</td>\n      <td>JEMBRANA</td>\n      <td>-7</td>\n      <td>70</td>\n      <td>7</td>\n      <td>579</td>\n      <td>1</td>\n      <td>14</td>\n      <td>1</td>\n      <td>663</td>\n      <td>05 Dec 2020</td>\n    </tr>\n    <tr>\n      <th>1</th>\n      <td>2</td>\n      <td>TABANAN</td>\n      <td>-10</td>\n      <td>434</td>\n      <td>35</td>\n      <td>1016</td>\n      <td>0</td>\n      <td>47</td>\n      <td>25</td>\n      <td>1497</td>\n      <td>05 Dec 2020</td>\n    </tr>\n    <tr>\n      <th>2</th>\n      <td>3</td>\n      <td>BADUNG</td>\n      <td>-9</td>\n      <td>159</td>\n      <td>27</td>\n      <td>2299</td>\n      <td>0</td>\n      <td>51</td>\n      <td>18</td>\n      <td>2509</td>\n      <td>05 Dec 2020</td>\n    </tr>\n    <tr>\n      <th>3</th>\n      <td>4</td>\n      <td>DENPASAR</td>\n      <td>1</td>\n      <td>166</td>\n      <td>26</td>\n      <td>3705</td>\n      <td>0</td>\n      <td>90</td>\n      <td>27</td>\n      <td>3961</td>\n      <td>05 Dec 2020</td>\n    </tr>\n    <tr>\n      <th>4</th>\n      <td>5</td>\n      <td>GIANYAR</td>\n      <td>-16</td>\n      <td>234</td>\n      <td>31</td>\n      <td>1681</td>\n      <td>0</td>\n      <td>75</td>\n      <td>15</td>\n      <td>1990</td>\n      <td>05 Dec 2020</td>\n    </tr>\n  </tbody>\n</table>\n</div>"
     },
     "metadata": {},
     "execution_count": 139
    }
   ],
   "source": [
    "## Column names from https://infocorona.baliprov.go.id/API/pendataan/laporan-harian-02.php = df_first and ...-01.php = df_second\n",
    "\n",
    "columns_first = [\n",
    "    'No','Kabupaten / County', 'new_treatment', 'total_treatment', 'new_recovered', 'total_recovered', 'new_deaths', 'total_deaths', 'new_cases', 'total_cases', 'Date']\n",
    "\n",
    "df_first.columns = columns_first\n",
    "df_first.head()"
   ]
  },
  {
   "cell_type": "code",
   "execution_count": 140,
   "metadata": {
    "execution": {
     "iopub.execute_input": "2021-04-05T08:55:27.918701Z",
     "iopub.status.busy": "2021-04-05T08:55:27.917698Z",
     "iopub.status.idle": "2021-04-05T08:55:27.932699Z",
     "shell.execute_reply": "2021-04-05T08:55:27.931706Z"
    }
   },
   "outputs": [
    {
     "output_type": "stream",
     "name": "stderr",
     "text": [
      "Error: JSON line can't be decoded. JSONDecodeError('Extra data: line 1 column 875 (char 874)',)\n"
     ]
    }
   ],
   "source": [
    "################################################\n",
    "##Extract data from SECOND TABLE\n",
    "###############################################\n",
    "data_second = []\n",
    "\n",
    "with open(json_file, 'rb') as f:\n",
    "    count =0\n",
    "    for line in json_lines.reader(f, broken=True):\n",
    "        count+= 1\n",
    "        if count % 2 != 0:\n",
    "            for x in range(0, 10):\n",
    "                data_second.append(line['data'][x])\n",
    "df_second = pd.DataFrame(data_second)"
   ]
  },
  {
   "cell_type": "code",
   "execution_count": 141,
   "metadata": {
    "execution": {
     "iopub.execute_input": "2021-04-05T08:55:27.954700Z",
     "iopub.status.busy": "2021-04-05T08:55:27.953679Z",
     "iopub.status.idle": "2021-04-05T08:55:27.959700Z",
     "shell.execute_reply": "2021-04-05T08:55:27.958688Z"
    }
   },
   "outputs": [
    {
     "output_type": "execute_result",
     "data": {
      "text/plain": [
       "      0                  1  2   3  4    5   6     7  8  9   10    11  \\\n",
       "1145   6             BANGLI  0  59  1   29  12  2067  0  0  13  2155   \n",
       "1146   7          KLUNGKUNG  0  19  0   61   4  1570  0  0   4  1650   \n",
       "1147   8         KARANGASEM  0  23  1  199   0  1495  0  0   1  1717   \n",
       "1148   9           BULELENG  0  43  0   24  12  3087  0  0  12  3154   \n",
       "1149  10  KABUPATEN LAINNYA  0   8  0  135   2   410  0  0   2   553   \n",
       "\n",
       "                12  \n",
       "1145   10 Apr 2021  \n",
       "1146   10 Apr 2021  \n",
       "1147   10 Apr 2021  \n",
       "1148   10 Apr 2021  \n",
       "1149   10 Apr 2021  "
      ],
      "text/html": "<div>\n<style scoped>\n    .dataframe tbody tr th:only-of-type {\n        vertical-align: middle;\n    }\n\n    .dataframe tbody tr th {\n        vertical-align: top;\n    }\n\n    .dataframe thead th {\n        text-align: right;\n    }\n</style>\n<table border=\"1\" class=\"dataframe\">\n  <thead>\n    <tr style=\"text-align: right;\">\n      <th></th>\n      <th>0</th>\n      <th>1</th>\n      <th>2</th>\n      <th>3</th>\n      <th>4</th>\n      <th>5</th>\n      <th>6</th>\n      <th>7</th>\n      <th>8</th>\n      <th>9</th>\n      <th>10</th>\n      <th>11</th>\n      <th>12</th>\n    </tr>\n  </thead>\n  <tbody>\n    <tr>\n      <th>1145</th>\n      <td>6</td>\n      <td>BANGLI</td>\n      <td>0</td>\n      <td>59</td>\n      <td>1</td>\n      <td>29</td>\n      <td>12</td>\n      <td>2067</td>\n      <td>0</td>\n      <td>0</td>\n      <td>13</td>\n      <td>2155</td>\n      <td>10 Apr 2021</td>\n    </tr>\n    <tr>\n      <th>1146</th>\n      <td>7</td>\n      <td>KLUNGKUNG</td>\n      <td>0</td>\n      <td>19</td>\n      <td>0</td>\n      <td>61</td>\n      <td>4</td>\n      <td>1570</td>\n      <td>0</td>\n      <td>0</td>\n      <td>4</td>\n      <td>1650</td>\n      <td>10 Apr 2021</td>\n    </tr>\n    <tr>\n      <th>1147</th>\n      <td>8</td>\n      <td>KARANGASEM</td>\n      <td>0</td>\n      <td>23</td>\n      <td>1</td>\n      <td>199</td>\n      <td>0</td>\n      <td>1495</td>\n      <td>0</td>\n      <td>0</td>\n      <td>1</td>\n      <td>1717</td>\n      <td>10 Apr 2021</td>\n    </tr>\n    <tr>\n      <th>1148</th>\n      <td>9</td>\n      <td>BULELENG</td>\n      <td>0</td>\n      <td>43</td>\n      <td>0</td>\n      <td>24</td>\n      <td>12</td>\n      <td>3087</td>\n      <td>0</td>\n      <td>0</td>\n      <td>12</td>\n      <td>3154</td>\n      <td>10 Apr 2021</td>\n    </tr>\n    <tr>\n      <th>1149</th>\n      <td>10</td>\n      <td>KABUPATEN LAINNYA</td>\n      <td>0</td>\n      <td>8</td>\n      <td>0</td>\n      <td>135</td>\n      <td>2</td>\n      <td>410</td>\n      <td>0</td>\n      <td>0</td>\n      <td>2</td>\n      <td>553</td>\n      <td>10 Apr 2021</td>\n    </tr>\n  </tbody>\n</table>\n</div>"
     },
     "metadata": {},
     "execution_count": 141
    }
   ],
   "source": [
    "df_second.tail()"
   ]
  },
  {
   "cell_type": "code",
   "execution_count": 142,
   "metadata": {
    "execution": {
     "iopub.execute_input": "2021-04-05T08:55:27.966703Z",
     "iopub.status.busy": "2021-04-05T08:55:27.965681Z",
     "iopub.status.idle": "2021-04-05T08:55:27.970705Z",
     "shell.execute_reply": "2021-04-05T08:55:27.968701Z"
    }
   },
   "outputs": [],
   "source": [
    "# # Second data entry\n",
    "columnName_second =['No', 'Kabupaten / County', 'new PPLN/PMI', 'total history-of-foreign-travel/ migrant-worker (PPLN/PMI)', 'new domestic-travel-history', 'total domestic-travel-history (PPDN)', 'new_local_transmission', 'total_local_transmission',\t'new_other_transmission', 'total_other_transmission', 'new_cases' ,'total_cases', 'Date' ]\n",
    "\n",
    "df_second.columns = columnName_second\n"
   ]
  },
  {
   "cell_type": "code",
   "execution_count": 143,
   "metadata": {
    "execution": {
     "iopub.execute_input": "2021-04-05T08:55:27.981699Z",
     "iopub.status.busy": "2021-04-05T08:55:27.980703Z",
     "iopub.status.idle": "2021-04-05T08:55:27.983703Z",
     "shell.execute_reply": "2021-04-05T08:55:27.983703Z"
    }
   },
   "outputs": [],
   "source": [
    "df_second = df_second.drop(['Kabupaten / County','new_cases', 'total_cases'], axis=1)"
   ]
  },
  {
   "cell_type": "code",
   "execution_count": 144,
   "metadata": {
    "execution": {
     "iopub.execute_input": "2021-04-05T08:55:28.003684Z",
     "iopub.status.busy": "2021-04-05T08:55:28.002684Z",
     "iopub.status.idle": "2021-04-05T08:55:28.005684Z",
     "shell.execute_reply": "2021-04-05T08:55:28.005684Z"
    }
   },
   "outputs": [
    {
     "output_type": "execute_result",
     "data": {
      "text/plain": [
       "      No new PPLN/PMI  \\\n",
       "1145   6            0   \n",
       "1146   7            0   \n",
       "1147   8            0   \n",
       "1148   9            0   \n",
       "1149  10            0   \n",
       "\n",
       "     total history-of-foreign-travel/ migrant-worker (PPLN/PMI)  \\\n",
       "1145                                                 59           \n",
       "1146                                                 19           \n",
       "1147                                                 23           \n",
       "1148                                                 43           \n",
       "1149                                                  8           \n",
       "\n",
       "     new domestic-travel-history total domestic-travel-history (PPDN)  \\\n",
       "1145                           1                                   29   \n",
       "1146                           0                                   61   \n",
       "1147                           1                                  199   \n",
       "1148                           0                                   24   \n",
       "1149                           0                                  135   \n",
       "\n",
       "     new_local_transmission total_local_transmission new_other_transmission  \\\n",
       "1145                     12                     2067                      0   \n",
       "1146                      4                     1570                      0   \n",
       "1147                      0                     1495                      0   \n",
       "1148                     12                     3087                      0   \n",
       "1149                      2                      410                      0   \n",
       "\n",
       "     total_other_transmission          Date  \n",
       "1145                        0   10 Apr 2021  \n",
       "1146                        0   10 Apr 2021  \n",
       "1147                        0   10 Apr 2021  \n",
       "1148                        0   10 Apr 2021  \n",
       "1149                        0   10 Apr 2021  "
      ],
      "text/html": "<div>\n<style scoped>\n    .dataframe tbody tr th:only-of-type {\n        vertical-align: middle;\n    }\n\n    .dataframe tbody tr th {\n        vertical-align: top;\n    }\n\n    .dataframe thead th {\n        text-align: right;\n    }\n</style>\n<table border=\"1\" class=\"dataframe\">\n  <thead>\n    <tr style=\"text-align: right;\">\n      <th></th>\n      <th>No</th>\n      <th>new PPLN/PMI</th>\n      <th>total history-of-foreign-travel/ migrant-worker (PPLN/PMI)</th>\n      <th>new domestic-travel-history</th>\n      <th>total domestic-travel-history (PPDN)</th>\n      <th>new_local_transmission</th>\n      <th>total_local_transmission</th>\n      <th>new_other_transmission</th>\n      <th>total_other_transmission</th>\n      <th>Date</th>\n    </tr>\n  </thead>\n  <tbody>\n    <tr>\n      <th>1145</th>\n      <td>6</td>\n      <td>0</td>\n      <td>59</td>\n      <td>1</td>\n      <td>29</td>\n      <td>12</td>\n      <td>2067</td>\n      <td>0</td>\n      <td>0</td>\n      <td>10 Apr 2021</td>\n    </tr>\n    <tr>\n      <th>1146</th>\n      <td>7</td>\n      <td>0</td>\n      <td>19</td>\n      <td>0</td>\n      <td>61</td>\n      <td>4</td>\n      <td>1570</td>\n      <td>0</td>\n      <td>0</td>\n      <td>10 Apr 2021</td>\n    </tr>\n    <tr>\n      <th>1147</th>\n      <td>8</td>\n      <td>0</td>\n      <td>23</td>\n      <td>1</td>\n      <td>199</td>\n      <td>0</td>\n      <td>1495</td>\n      <td>0</td>\n      <td>0</td>\n      <td>10 Apr 2021</td>\n    </tr>\n    <tr>\n      <th>1148</th>\n      <td>9</td>\n      <td>0</td>\n      <td>43</td>\n      <td>0</td>\n      <td>24</td>\n      <td>12</td>\n      <td>3087</td>\n      <td>0</td>\n      <td>0</td>\n      <td>10 Apr 2021</td>\n    </tr>\n    <tr>\n      <th>1149</th>\n      <td>10</td>\n      <td>0</td>\n      <td>8</td>\n      <td>0</td>\n      <td>135</td>\n      <td>2</td>\n      <td>410</td>\n      <td>0</td>\n      <td>0</td>\n      <td>10 Apr 2021</td>\n    </tr>\n  </tbody>\n</table>\n</div>"
     },
     "metadata": {},
     "execution_count": 144
    }
   ],
   "source": [
    "df_second.tail()"
   ]
  },
  {
   "cell_type": "code",
   "execution_count": 145,
   "metadata": {
    "execution": {
     "iopub.execute_input": "2021-04-05T08:55:28.015700Z",
     "iopub.status.busy": "2021-04-05T08:55:28.013704Z",
     "iopub.status.idle": "2021-04-05T08:55:28.041614Z",
     "shell.execute_reply": "2021-04-05T08:55:28.041614Z"
    }
   },
   "outputs": [
    {
     "output_type": "execute_result",
     "data": {
      "text/plain": [
       "  No Kabupaten / County new_treatment total_treatment new_recovered  \\\n",
       "0  1           JEMBRANA            -7              70             7   \n",
       "1  2            TABANAN           -10             434            35   \n",
       "2  3             BADUNG            -9             159            27   \n",
       "3  4           DENPASAR             1             166            26   \n",
       "4  5            GIANYAR           -16             234            31   \n",
       "\n",
       "  total_recovered new_deaths total_deaths new_cases total_cases          Date  \\\n",
       "0             579          1           14         1         663   05 Dec 2020   \n",
       "1            1016          0           47        25        1497   05 Dec 2020   \n",
       "2            2299          0           51        18        2509   05 Dec 2020   \n",
       "3            3705          0           90        27        3961   05 Dec 2020   \n",
       "4            1681          0           75        15        1990   05 Dec 2020   \n",
       "\n",
       "  new PPLN/PMI total history-of-foreign-travel/ migrant-worker (PPLN/PMI)  \\\n",
       "0            0                                                 26           \n",
       "1            0                                                 21           \n",
       "2            0                                                 27           \n",
       "3            0                                                 48           \n",
       "4            0                                                 29           \n",
       "\n",
       "  new domestic-travel-history total domestic-travel-history (PPDN)  \\\n",
       "0                           0                                   11   \n",
       "1                           2                                   10   \n",
       "2                           0                                    4   \n",
       "3                          -1                                   22   \n",
       "4                          -1                                   10   \n",
       "\n",
       "  new_local_transmission total_local_transmission new_other_transmission  \\\n",
       "0                      1                      626                      0   \n",
       "1                     23                     1466                      0   \n",
       "2                     18                     2478                      0   \n",
       "3                     28                     3891                      0   \n",
       "4                     16                     1951                      0   \n",
       "\n",
       "  total_other_transmission  \n",
       "0                        0  \n",
       "1                        0  \n",
       "2                        0  \n",
       "3                        0  \n",
       "4                        0  "
      ],
      "text/html": "<div>\n<style scoped>\n    .dataframe tbody tr th:only-of-type {\n        vertical-align: middle;\n    }\n\n    .dataframe tbody tr th {\n        vertical-align: top;\n    }\n\n    .dataframe thead th {\n        text-align: right;\n    }\n</style>\n<table border=\"1\" class=\"dataframe\">\n  <thead>\n    <tr style=\"text-align: right;\">\n      <th></th>\n      <th>No</th>\n      <th>Kabupaten / County</th>\n      <th>new_treatment</th>\n      <th>total_treatment</th>\n      <th>new_recovered</th>\n      <th>total_recovered</th>\n      <th>new_deaths</th>\n      <th>total_deaths</th>\n      <th>new_cases</th>\n      <th>total_cases</th>\n      <th>Date</th>\n      <th>new PPLN/PMI</th>\n      <th>total history-of-foreign-travel/ migrant-worker (PPLN/PMI)</th>\n      <th>new domestic-travel-history</th>\n      <th>total domestic-travel-history (PPDN)</th>\n      <th>new_local_transmission</th>\n      <th>total_local_transmission</th>\n      <th>new_other_transmission</th>\n      <th>total_other_transmission</th>\n    </tr>\n  </thead>\n  <tbody>\n    <tr>\n      <th>0</th>\n      <td>1</td>\n      <td>JEMBRANA</td>\n      <td>-7</td>\n      <td>70</td>\n      <td>7</td>\n      <td>579</td>\n      <td>1</td>\n      <td>14</td>\n      <td>1</td>\n      <td>663</td>\n      <td>05 Dec 2020</td>\n      <td>0</td>\n      <td>26</td>\n      <td>0</td>\n      <td>11</td>\n      <td>1</td>\n      <td>626</td>\n      <td>0</td>\n      <td>0</td>\n    </tr>\n    <tr>\n      <th>1</th>\n      <td>2</td>\n      <td>TABANAN</td>\n      <td>-10</td>\n      <td>434</td>\n      <td>35</td>\n      <td>1016</td>\n      <td>0</td>\n      <td>47</td>\n      <td>25</td>\n      <td>1497</td>\n      <td>05 Dec 2020</td>\n      <td>0</td>\n      <td>21</td>\n      <td>2</td>\n      <td>10</td>\n      <td>23</td>\n      <td>1466</td>\n      <td>0</td>\n      <td>0</td>\n    </tr>\n    <tr>\n      <th>2</th>\n      <td>3</td>\n      <td>BADUNG</td>\n      <td>-9</td>\n      <td>159</td>\n      <td>27</td>\n      <td>2299</td>\n      <td>0</td>\n      <td>51</td>\n      <td>18</td>\n      <td>2509</td>\n      <td>05 Dec 2020</td>\n      <td>0</td>\n      <td>27</td>\n      <td>0</td>\n      <td>4</td>\n      <td>18</td>\n      <td>2478</td>\n      <td>0</td>\n      <td>0</td>\n    </tr>\n    <tr>\n      <th>3</th>\n      <td>4</td>\n      <td>DENPASAR</td>\n      <td>1</td>\n      <td>166</td>\n      <td>26</td>\n      <td>3705</td>\n      <td>0</td>\n      <td>90</td>\n      <td>27</td>\n      <td>3961</td>\n      <td>05 Dec 2020</td>\n      <td>0</td>\n      <td>48</td>\n      <td>-1</td>\n      <td>22</td>\n      <td>28</td>\n      <td>3891</td>\n      <td>0</td>\n      <td>0</td>\n    </tr>\n    <tr>\n      <th>4</th>\n      <td>5</td>\n      <td>GIANYAR</td>\n      <td>-16</td>\n      <td>234</td>\n      <td>31</td>\n      <td>1681</td>\n      <td>0</td>\n      <td>75</td>\n      <td>15</td>\n      <td>1990</td>\n      <td>05 Dec 2020</td>\n      <td>0</td>\n      <td>29</td>\n      <td>-1</td>\n      <td>10</td>\n      <td>16</td>\n      <td>1951</td>\n      <td>0</td>\n      <td>0</td>\n    </tr>\n  </tbody>\n</table>\n</div>"
     },
     "metadata": {},
     "execution_count": 145
    }
   ],
   "source": [
    "############################\n",
    "## Merge both df\n",
    "#############################\n",
    "df_merged = pd.merge(df_first, df_second, how= 'left', left_on=['No', \"Date\"], right_on=['No', \"Date\"])\n",
    "\n",
    "df_bali = df_merged.copy()\n",
    "df_bali.head()"
   ]
  },
  {
   "cell_type": "code",
   "execution_count": 146,
   "metadata": {
    "execution": {
     "iopub.execute_input": "2021-04-05T08:55:28.048616Z",
     "iopub.status.busy": "2021-04-05T08:55:28.047619Z",
     "iopub.status.idle": "2021-04-05T08:55:28.076638Z",
     "shell.execute_reply": "2021-04-05T08:55:28.075631Z"
    }
   },
   "outputs": [
    {
     "output_type": "execute_result",
     "data": {
      "text/plain": [
       "      No Kabupaten / County new_treatment total_treatment new_recovered  \\\n",
       "1067   8         KARANGASEM             2              67             1   \n",
       "1068   9           BULELENG             6             184            23   \n",
       "1069  10  KABUPATEN LAINNYA           -16              75            17   \n",
       "1070   1           JEMBRANA            -4              22             7   \n",
       "1071   2            TABANAN             8             135             8   \n",
       "...   ..                ...           ...             ...           ...   \n",
       "1155   6             BANGLI             3              52            10   \n",
       "1156   7          KLUNGKUNG            -3              53             6   \n",
       "1157   8         KARANGASEM             1              88             0   \n",
       "1158   9           BULELENG           -16             168            28   \n",
       "1159  10  KABUPATEN LAINNYA             1              65             1   \n",
       "\n",
       "     total_recovered new_deaths total_deaths new_cases total_cases  \\\n",
       "1067            1526          1           86         4        1679   \n",
       "1068            2677          0          118        29        2979   \n",
       "1069             425          1            6         2         506   \n",
       "1070            2097          0           73         3        2192   \n",
       "1071            3933          0          146        16        4214   \n",
       "...              ...        ...          ...       ...         ...   \n",
       "1155            2019          0           84        13        2155   \n",
       "1156            1544          1           53         4        1650   \n",
       "1157            1543          0           86         1        1717   \n",
       "1158            2856          0          130        12        3154   \n",
       "1159             480          0            8         2         553   \n",
       "\n",
       "              Date new PPLN/PMI  \\\n",
       "1067   01 Apr 2021            0   \n",
       "1068   01 Apr 2021            0   \n",
       "1069   01 Apr 2021            0   \n",
       "1070   02 Apr 2021            0   \n",
       "1071   02 Apr 2021            0   \n",
       "...            ...          ...   \n",
       "1155   10 Apr 2021            0   \n",
       "1156   10 Apr 2021            0   \n",
       "1157   10 Apr 2021            0   \n",
       "1158   10 Apr 2021            0   \n",
       "1159   10 Apr 2021            0   \n",
       "\n",
       "     total history-of-foreign-travel/ migrant-worker (PPLN/PMI)  \\\n",
       "1067                                                 23           \n",
       "1068                                                 42           \n",
       "1069                                                  7           \n",
       "1070                                                 26           \n",
       "1071                                                 24           \n",
       "...                                                 ...           \n",
       "1155                                                 59           \n",
       "1156                                                 19           \n",
       "1157                                                 23           \n",
       "1158                                                 43           \n",
       "1159                                                  8           \n",
       "\n",
       "     new domestic-travel-history total domestic-travel-history (PPDN)  \\\n",
       "1067                           2                                  185   \n",
       "1068                           0                                   24   \n",
       "1069                           0                                  125   \n",
       "1070                           0                                   66   \n",
       "1071                           2                                  166   \n",
       "...                          ...                                  ...   \n",
       "1155                           1                                   29   \n",
       "1156                           0                                   61   \n",
       "1157                           1                                  199   \n",
       "1158                           0                                   24   \n",
       "1159                           0                                  135   \n",
       "\n",
       "     new_local_transmission total_local_transmission new_other_transmission  \\\n",
       "1067                      2                     1471                      0   \n",
       "1068                     29                     2913                      0   \n",
       "1069                      2                      374                      0   \n",
       "1070                      3                     2100                      0   \n",
       "1071                     14                     4024                      0   \n",
       "...                     ...                      ...                    ...   \n",
       "1155                     12                     2067                      0   \n",
       "1156                      4                     1570                      0   \n",
       "1157                      0                     1495                      0   \n",
       "1158                     12                     3087                      0   \n",
       "1159                      2                      410                      0   \n",
       "\n",
       "     total_other_transmission  \n",
       "1067                        0  \n",
       "1068                        0  \n",
       "1069                        0  \n",
       "1070                        0  \n",
       "1071                        0  \n",
       "...                       ...  \n",
       "1155                        0  \n",
       "1156                        0  \n",
       "1157                        0  \n",
       "1158                        0  \n",
       "1159                        0  \n",
       "\n",
       "[93 rows x 19 columns]"
      ],
      "text/html": "<div>\n<style scoped>\n    .dataframe tbody tr th:only-of-type {\n        vertical-align: middle;\n    }\n\n    .dataframe tbody tr th {\n        vertical-align: top;\n    }\n\n    .dataframe thead th {\n        text-align: right;\n    }\n</style>\n<table border=\"1\" class=\"dataframe\">\n  <thead>\n    <tr style=\"text-align: right;\">\n      <th></th>\n      <th>No</th>\n      <th>Kabupaten / County</th>\n      <th>new_treatment</th>\n      <th>total_treatment</th>\n      <th>new_recovered</th>\n      <th>total_recovered</th>\n      <th>new_deaths</th>\n      <th>total_deaths</th>\n      <th>new_cases</th>\n      <th>total_cases</th>\n      <th>Date</th>\n      <th>new PPLN/PMI</th>\n      <th>total history-of-foreign-travel/ migrant-worker (PPLN/PMI)</th>\n      <th>new domestic-travel-history</th>\n      <th>total domestic-travel-history (PPDN)</th>\n      <th>new_local_transmission</th>\n      <th>total_local_transmission</th>\n      <th>new_other_transmission</th>\n      <th>total_other_transmission</th>\n    </tr>\n  </thead>\n  <tbody>\n    <tr>\n      <th>1067</th>\n      <td>8</td>\n      <td>KARANGASEM</td>\n      <td>2</td>\n      <td>67</td>\n      <td>1</td>\n      <td>1526</td>\n      <td>1</td>\n      <td>86</td>\n      <td>4</td>\n      <td>1679</td>\n      <td>01 Apr 2021</td>\n      <td>0</td>\n      <td>23</td>\n      <td>2</td>\n      <td>185</td>\n      <td>2</td>\n      <td>1471</td>\n      <td>0</td>\n      <td>0</td>\n    </tr>\n    <tr>\n      <th>1068</th>\n      <td>9</td>\n      <td>BULELENG</td>\n      <td>6</td>\n      <td>184</td>\n      <td>23</td>\n      <td>2677</td>\n      <td>0</td>\n      <td>118</td>\n      <td>29</td>\n      <td>2979</td>\n      <td>01 Apr 2021</td>\n      <td>0</td>\n      <td>42</td>\n      <td>0</td>\n      <td>24</td>\n      <td>29</td>\n      <td>2913</td>\n      <td>0</td>\n      <td>0</td>\n    </tr>\n    <tr>\n      <th>1069</th>\n      <td>10</td>\n      <td>KABUPATEN LAINNYA</td>\n      <td>-16</td>\n      <td>75</td>\n      <td>17</td>\n      <td>425</td>\n      <td>1</td>\n      <td>6</td>\n      <td>2</td>\n      <td>506</td>\n      <td>01 Apr 2021</td>\n      <td>0</td>\n      <td>7</td>\n      <td>0</td>\n      <td>125</td>\n      <td>2</td>\n      <td>374</td>\n      <td>0</td>\n      <td>0</td>\n    </tr>\n    <tr>\n      <th>1070</th>\n      <td>1</td>\n      <td>JEMBRANA</td>\n      <td>-4</td>\n      <td>22</td>\n      <td>7</td>\n      <td>2097</td>\n      <td>0</td>\n      <td>73</td>\n      <td>3</td>\n      <td>2192</td>\n      <td>02 Apr 2021</td>\n      <td>0</td>\n      <td>26</td>\n      <td>0</td>\n      <td>66</td>\n      <td>3</td>\n      <td>2100</td>\n      <td>0</td>\n      <td>0</td>\n    </tr>\n    <tr>\n      <th>1071</th>\n      <td>2</td>\n      <td>TABANAN</td>\n      <td>8</td>\n      <td>135</td>\n      <td>8</td>\n      <td>3933</td>\n      <td>0</td>\n      <td>146</td>\n      <td>16</td>\n      <td>4214</td>\n      <td>02 Apr 2021</td>\n      <td>0</td>\n      <td>24</td>\n      <td>2</td>\n      <td>166</td>\n      <td>14</td>\n      <td>4024</td>\n      <td>0</td>\n      <td>0</td>\n    </tr>\n    <tr>\n      <th>...</th>\n      <td>...</td>\n      <td>...</td>\n      <td>...</td>\n      <td>...</td>\n      <td>...</td>\n      <td>...</td>\n      <td>...</td>\n      <td>...</td>\n      <td>...</td>\n      <td>...</td>\n      <td>...</td>\n      <td>...</td>\n      <td>...</td>\n      <td>...</td>\n      <td>...</td>\n      <td>...</td>\n      <td>...</td>\n      <td>...</td>\n      <td>...</td>\n    </tr>\n    <tr>\n      <th>1155</th>\n      <td>6</td>\n      <td>BANGLI</td>\n      <td>3</td>\n      <td>52</td>\n      <td>10</td>\n      <td>2019</td>\n      <td>0</td>\n      <td>84</td>\n      <td>13</td>\n      <td>2155</td>\n      <td>10 Apr 2021</td>\n      <td>0</td>\n      <td>59</td>\n      <td>1</td>\n      <td>29</td>\n      <td>12</td>\n      <td>2067</td>\n      <td>0</td>\n      <td>0</td>\n    </tr>\n    <tr>\n      <th>1156</th>\n      <td>7</td>\n      <td>KLUNGKUNG</td>\n      <td>-3</td>\n      <td>53</td>\n      <td>6</td>\n      <td>1544</td>\n      <td>1</td>\n      <td>53</td>\n      <td>4</td>\n      <td>1650</td>\n      <td>10 Apr 2021</td>\n      <td>0</td>\n      <td>19</td>\n      <td>0</td>\n      <td>61</td>\n      <td>4</td>\n      <td>1570</td>\n      <td>0</td>\n      <td>0</td>\n    </tr>\n    <tr>\n      <th>1157</th>\n      <td>8</td>\n      <td>KARANGASEM</td>\n      <td>1</td>\n      <td>88</td>\n      <td>0</td>\n      <td>1543</td>\n      <td>0</td>\n      <td>86</td>\n      <td>1</td>\n      <td>1717</td>\n      <td>10 Apr 2021</td>\n      <td>0</td>\n      <td>23</td>\n      <td>1</td>\n      <td>199</td>\n      <td>0</td>\n      <td>1495</td>\n      <td>0</td>\n      <td>0</td>\n    </tr>\n    <tr>\n      <th>1158</th>\n      <td>9</td>\n      <td>BULELENG</td>\n      <td>-16</td>\n      <td>168</td>\n      <td>28</td>\n      <td>2856</td>\n      <td>0</td>\n      <td>130</td>\n      <td>12</td>\n      <td>3154</td>\n      <td>10 Apr 2021</td>\n      <td>0</td>\n      <td>43</td>\n      <td>0</td>\n      <td>24</td>\n      <td>12</td>\n      <td>3087</td>\n      <td>0</td>\n      <td>0</td>\n    </tr>\n    <tr>\n      <th>1159</th>\n      <td>10</td>\n      <td>KABUPATEN LAINNYA</td>\n      <td>1</td>\n      <td>65</td>\n      <td>1</td>\n      <td>480</td>\n      <td>0</td>\n      <td>8</td>\n      <td>2</td>\n      <td>553</td>\n      <td>10 Apr 2021</td>\n      <td>0</td>\n      <td>8</td>\n      <td>0</td>\n      <td>135</td>\n      <td>2</td>\n      <td>410</td>\n      <td>0</td>\n      <td>0</td>\n    </tr>\n  </tbody>\n</table>\n<p>93 rows × 19 columns</p>\n</div>"
     },
     "metadata": {},
     "execution_count": 146
    }
   ],
   "source": [
    "df = df_bali.copy()\n",
    "df.tail(93)"
   ]
  },
  {
   "cell_type": "code",
   "execution_count": 147,
   "metadata": {
    "execution": {
     "iopub.execute_input": "2021-04-05T08:55:28.083645Z",
     "iopub.status.busy": "2021-04-05T08:55:28.083645Z",
     "iopub.status.idle": "2021-04-05T08:55:28.111635Z",
     "shell.execute_reply": "2021-04-05T08:55:28.111635Z"
    }
   },
   "outputs": [
    {
     "output_type": "execute_result",
     "data": {
      "text/plain": [
       "No                                                             int32\n",
       "Kabupaten / County                                            object\n",
       "new_treatment                                                 object\n",
       "total_treatment                                               object\n",
       "new_recovered                                                 object\n",
       "total_recovered                                               object\n",
       "new_deaths                                                    object\n",
       "total_deaths                                                  object\n",
       "new_cases                                                     object\n",
       "total_cases                                                   object\n",
       "Date                                                          object\n",
       "new PPLN/PMI                                                  object\n",
       "total history-of-foreign-travel/ migrant-worker (PPLN/PMI)    object\n",
       "new domestic-travel-history                                   object\n",
       "total domestic-travel-history (PPDN)                          object\n",
       "new_local_transmission                                        object\n",
       "total_local_transmission                                      object\n",
       "new_other_transmission                                        object\n",
       "total_other_transmission                                      object\n",
       "Name_EN                                                       object\n",
       "dtype: object"
      ]
     },
     "metadata": {},
     "execution_count": 147
    }
   ],
   "source": [
    "# delete duplicate columns and convert dtypes\n",
    "df = df.loc[:,~df.columns.duplicated()]\n",
    "\n",
    "## fill NaN in Kabubaten Lain fileds (confirmed cases from outside of bali regency but detected in Bali have no match with reference-data e.g)\n",
    "################################################\n",
    "df = df.fillna(0)\n",
    "df[df.isna().any(axis=1)]\n",
    "\n",
    "## convert columns data types, and capitalize Names\n",
    "df['No'] = df['No'].astype(int)\n",
    "df['Name_EN'] = df['Kabupaten / County'].astype(str)\n",
    "df.replace(\"KABUPATEN LAIN\", \"Others\", inplace=True)\n",
    "df['Name_EN'] = df['Name_EN'].str.capitalize()\n",
    "\n",
    "df.dtypes"
   ]
  },
  {
   "cell_type": "code",
   "execution_count": 148,
   "metadata": {
    "execution": {
     "iopub.execute_input": "2021-04-05T08:55:28.133613Z",
     "iopub.status.busy": "2021-04-05T08:55:28.132613Z",
     "iopub.status.idle": "2021-04-05T08:55:28.136634Z",
     "shell.execute_reply": "2021-04-05T08:55:28.137638Z"
    }
   },
   "outputs": [
    {
     "output_type": "execute_result",
     "data": {
      "text/plain": [
       "   No Kabupaten / County new_treatment total_treatment new_recovered  \\\n",
       "0   1           JEMBRANA            -7              70             7   \n",
       "1   2            TABANAN           -10             434            35   \n",
       "2   3             BADUNG            -9             159            27   \n",
       "3   4           DENPASAR             1             166            26   \n",
       "4   5            GIANYAR           -16             234            31   \n",
       "\n",
       "  total_recovered new_deaths total_deaths new_cases total_cases          Date  \\\n",
       "0             579          1           14         1         663   05 Dec 2020   \n",
       "1            1016          0           47        25        1497   05 Dec 2020   \n",
       "2            2299          0           51        18        2509   05 Dec 2020   \n",
       "3            3705          0           90        27        3961   05 Dec 2020   \n",
       "4            1681          0           75        15        1990   05 Dec 2020   \n",
       "\n",
       "  new PPLN/PMI total history-of-foreign-travel/ migrant-worker (PPLN/PMI)  \\\n",
       "0            0                                                 26           \n",
       "1            0                                                 21           \n",
       "2            0                                                 27           \n",
       "3            0                                                 48           \n",
       "4            0                                                 29           \n",
       "\n",
       "  new domestic-travel-history total domestic-travel-history (PPDN)  \\\n",
       "0                           0                                   11   \n",
       "1                           2                                   10   \n",
       "2                           0                                    4   \n",
       "3                          -1                                   22   \n",
       "4                          -1                                   10   \n",
       "\n",
       "  new_local_transmission total_local_transmission new_other_transmission  \\\n",
       "0                      1                      626                      0   \n",
       "1                     23                     1466                      0   \n",
       "2                     18                     2478                      0   \n",
       "3                     28                     3891                      0   \n",
       "4                     16                     1951                      0   \n",
       "\n",
       "  total_other_transmission   Name_EN  \n",
       "0                        0  Jembrana  \n",
       "1                        0   Tabanan  \n",
       "2                        0    Badung  \n",
       "3                        0  Denpasar  \n",
       "4                        0   Gianyar  "
      ],
      "text/html": "<div>\n<style scoped>\n    .dataframe tbody tr th:only-of-type {\n        vertical-align: middle;\n    }\n\n    .dataframe tbody tr th {\n        vertical-align: top;\n    }\n\n    .dataframe thead th {\n        text-align: right;\n    }\n</style>\n<table border=\"1\" class=\"dataframe\">\n  <thead>\n    <tr style=\"text-align: right;\">\n      <th></th>\n      <th>No</th>\n      <th>Kabupaten / County</th>\n      <th>new_treatment</th>\n      <th>total_treatment</th>\n      <th>new_recovered</th>\n      <th>total_recovered</th>\n      <th>new_deaths</th>\n      <th>total_deaths</th>\n      <th>new_cases</th>\n      <th>total_cases</th>\n      <th>Date</th>\n      <th>new PPLN/PMI</th>\n      <th>total history-of-foreign-travel/ migrant-worker (PPLN/PMI)</th>\n      <th>new domestic-travel-history</th>\n      <th>total domestic-travel-history (PPDN)</th>\n      <th>new_local_transmission</th>\n      <th>total_local_transmission</th>\n      <th>new_other_transmission</th>\n      <th>total_other_transmission</th>\n      <th>Name_EN</th>\n    </tr>\n  </thead>\n  <tbody>\n    <tr>\n      <th>0</th>\n      <td>1</td>\n      <td>JEMBRANA</td>\n      <td>-7</td>\n      <td>70</td>\n      <td>7</td>\n      <td>579</td>\n      <td>1</td>\n      <td>14</td>\n      <td>1</td>\n      <td>663</td>\n      <td>05 Dec 2020</td>\n      <td>0</td>\n      <td>26</td>\n      <td>0</td>\n      <td>11</td>\n      <td>1</td>\n      <td>626</td>\n      <td>0</td>\n      <td>0</td>\n      <td>Jembrana</td>\n    </tr>\n    <tr>\n      <th>1</th>\n      <td>2</td>\n      <td>TABANAN</td>\n      <td>-10</td>\n      <td>434</td>\n      <td>35</td>\n      <td>1016</td>\n      <td>0</td>\n      <td>47</td>\n      <td>25</td>\n      <td>1497</td>\n      <td>05 Dec 2020</td>\n      <td>0</td>\n      <td>21</td>\n      <td>2</td>\n      <td>10</td>\n      <td>23</td>\n      <td>1466</td>\n      <td>0</td>\n      <td>0</td>\n      <td>Tabanan</td>\n    </tr>\n    <tr>\n      <th>2</th>\n      <td>3</td>\n      <td>BADUNG</td>\n      <td>-9</td>\n      <td>159</td>\n      <td>27</td>\n      <td>2299</td>\n      <td>0</td>\n      <td>51</td>\n      <td>18</td>\n      <td>2509</td>\n      <td>05 Dec 2020</td>\n      <td>0</td>\n      <td>27</td>\n      <td>0</td>\n      <td>4</td>\n      <td>18</td>\n      <td>2478</td>\n      <td>0</td>\n      <td>0</td>\n      <td>Badung</td>\n    </tr>\n    <tr>\n      <th>3</th>\n      <td>4</td>\n      <td>DENPASAR</td>\n      <td>1</td>\n      <td>166</td>\n      <td>26</td>\n      <td>3705</td>\n      <td>0</td>\n      <td>90</td>\n      <td>27</td>\n      <td>3961</td>\n      <td>05 Dec 2020</td>\n      <td>0</td>\n      <td>48</td>\n      <td>-1</td>\n      <td>22</td>\n      <td>28</td>\n      <td>3891</td>\n      <td>0</td>\n      <td>0</td>\n      <td>Denpasar</td>\n    </tr>\n    <tr>\n      <th>4</th>\n      <td>5</td>\n      <td>GIANYAR</td>\n      <td>-16</td>\n      <td>234</td>\n      <td>31</td>\n      <td>1681</td>\n      <td>0</td>\n      <td>75</td>\n      <td>15</td>\n      <td>1990</td>\n      <td>05 Dec 2020</td>\n      <td>0</td>\n      <td>29</td>\n      <td>-1</td>\n      <td>10</td>\n      <td>16</td>\n      <td>1951</td>\n      <td>0</td>\n      <td>0</td>\n      <td>Gianyar</td>\n    </tr>\n  </tbody>\n</table>\n</div>"
     },
     "metadata": {},
     "execution_count": 148
    }
   ],
   "source": [
    "df.head()"
   ]
  },
  {
   "cell_type": "code",
   "execution_count": 149,
   "metadata": {
    "execution": {
     "iopub.execute_input": "2021-04-05T08:55:28.166615Z",
     "iopub.status.busy": "2021-04-05T08:55:28.165615Z",
     "iopub.status.idle": "2021-04-05T08:55:28.170613Z",
     "shell.execute_reply": "2021-04-05T08:55:28.169616Z"
    }
   },
   "outputs": [
    {
     "output_type": "execute_result",
     "data": {
      "text/plain": [
       "Timestamp('2020-12-05 00:00:00')"
      ]
     },
     "metadata": {},
     "execution_count": 149
    }
   ],
   "source": [
    "## convert date to datetime \n",
    "################################\n",
    "\n",
    "# from datetime import datetime -> datetime.strptime(date, format)\n",
    "# df[\"Date\"].apply(lambda x: parse(df['Date']))\n",
    "# or\n",
    "# df['Date'] = pd.to_datetime(df['Date'])\n",
    "## also possible\n",
    "\n",
    "from dateutil.parser import parse\n",
    "# check if Nan\n",
    "# df['Date'].isnull().values\n",
    "\n",
    "df['Date'] = df['Date'].str.strip()\n",
    "df['Date'] = df['Date'].astype(str) \n",
    "df['Date'] = pd.to_datetime(df.Date, errors='coerce')\n",
    "df['Date'][0]\n"
   ]
  },
  {
   "cell_type": "code",
   "execution_count": 150,
   "metadata": {
    "execution": {
     "iopub.execute_input": "2021-04-05T08:55:28.177639Z",
     "iopub.status.busy": "2021-04-05T08:55:28.177639Z",
     "iopub.status.idle": "2021-04-05T08:55:28.262617Z",
     "shell.execute_reply": "2021-04-05T08:55:28.260616Z"
    }
   },
   "outputs": [
    {
     "output_type": "execute_result",
     "data": {
      "text/plain": [
       "       Name_Indo     Name_EN     Capital  area_km2 population_2000  \\\n",
       "0           Bali        Bali         NaN  5,780.06       3,146,999   \n",
       "1       Buleleng    Buleleng   Singaraja  1,364.73         558.181   \n",
       "2       Jembrana    Jembrana      Negara    841.80         231.806   \n",
       "3     Karangasem  Karangasem    Amlapura    839.54         360.486   \n",
       "4        Tabanan     Tabanan     Tabanan    839.30          376.03   \n",
       "5         Bangli      Bangli      Bangli    490.71         193.776   \n",
       "6         Badung      Badung   Mangupura    418.52         345.863   \n",
       "7        Gianyar     Gianyar     Gianyar    368.00         393.155   \n",
       "8      Klungkung   Klungkung  Semarapura    315.00         155.262   \n",
       "9  Kota Denpasar    Denpasar    Denpasar    127.78          532.44   \n",
       "\n",
       "  population_2010 population_2015  HDI_2014_estimate  \\\n",
       "0       3,890,757       4,148,588       0.724 (High)   \n",
       "1         624.125         645.893     0.691 (Medium)   \n",
       "2         261.638         271.423     0.686 (Medium)   \n",
       "3         396.487         408.487     0.640 (Medium)   \n",
       "4         420.913         435.753       0.726 (High)   \n",
       "5         215.353         222.474     0.657 (Medium)   \n",
       "6         543.332         615.148       0.779 (High)   \n",
       "7         469.777         494.729       0.742 (High)   \n",
       "8         170.543         175.573     0.683 (Medium)   \n",
       "9         788.589         879.098  0.816 (Very High)   \n",
       "\n",
       "                           Gouvernor  Nr. of Sub-Districts  \\\n",
       "0                                NaN                   NaN   \n",
       "1               Putu Agus Suradnyana                   9.0   \n",
       "2                       I Putu Artha                   5.0   \n",
       "3            I Gusti Ayu Mas Sumatri                   8.0   \n",
       "4             Ni Putu Eka Wiryastuti                  10.0   \n",
       "5                     I Made Gianyar                   4.0   \n",
       "6               I Nyoman Giri Prasta                   6.0   \n",
       "7             I Made Agus Mahayastra                   7.0   \n",
       "8                   I Nyoman Suwirta                   4.0   \n",
       "9  Ida Bagus Rai Dharmawijaya Mantra                   4.0   \n",
       "\n",
       "  Nr of Keluruhan/Villages  \n",
       "0                      NaN  \n",
       "1                   19/129  \n",
       "2                    10/41  \n",
       "3                     3/75  \n",
       "4                    -/133  \n",
       "5                     4/68  \n",
       "6                    16/46  \n",
       "7                     6/64  \n",
       "8                     6/53  \n",
       "9                    16/27  "
      ],
      "text/html": "<div>\n<style scoped>\n    .dataframe tbody tr th:only-of-type {\n        vertical-align: middle;\n    }\n\n    .dataframe tbody tr th {\n        vertical-align: top;\n    }\n\n    .dataframe thead th {\n        text-align: right;\n    }\n</style>\n<table border=\"1\" class=\"dataframe\">\n  <thead>\n    <tr style=\"text-align: right;\">\n      <th></th>\n      <th>Name_Indo</th>\n      <th>Name_EN</th>\n      <th>Capital</th>\n      <th>area_km2</th>\n      <th>population_2000</th>\n      <th>population_2010</th>\n      <th>population_2015</th>\n      <th>HDI_2014_estimate</th>\n      <th>Gouvernor</th>\n      <th>Nr. of Sub-Districts</th>\n      <th>Nr of Keluruhan/Villages</th>\n    </tr>\n  </thead>\n  <tbody>\n    <tr>\n      <th>0</th>\n      <td>Bali</td>\n      <td>Bali</td>\n      <td>NaN</td>\n      <td>5,780.06</td>\n      <td>3,146,999</td>\n      <td>3,890,757</td>\n      <td>4,148,588</td>\n      <td>0.724 (High)</td>\n      <td>NaN</td>\n      <td>NaN</td>\n      <td>NaN</td>\n    </tr>\n    <tr>\n      <th>1</th>\n      <td>Buleleng</td>\n      <td>Buleleng</td>\n      <td>Singaraja</td>\n      <td>1,364.73</td>\n      <td>558.181</td>\n      <td>624.125</td>\n      <td>645.893</td>\n      <td>0.691 (Medium)</td>\n      <td>Putu Agus Suradnyana</td>\n      <td>9.0</td>\n      <td>19/129</td>\n    </tr>\n    <tr>\n      <th>2</th>\n      <td>Jembrana</td>\n      <td>Jembrana</td>\n      <td>Negara</td>\n      <td>841.80</td>\n      <td>231.806</td>\n      <td>261.638</td>\n      <td>271.423</td>\n      <td>0.686 (Medium)</td>\n      <td>I Putu Artha</td>\n      <td>5.0</td>\n      <td>10/41</td>\n    </tr>\n    <tr>\n      <th>3</th>\n      <td>Karangasem</td>\n      <td>Karangasem</td>\n      <td>Amlapura</td>\n      <td>839.54</td>\n      <td>360.486</td>\n      <td>396.487</td>\n      <td>408.487</td>\n      <td>0.640 (Medium)</td>\n      <td>I Gusti Ayu Mas Sumatri</td>\n      <td>8.0</td>\n      <td>3/75</td>\n    </tr>\n    <tr>\n      <th>4</th>\n      <td>Tabanan</td>\n      <td>Tabanan</td>\n      <td>Tabanan</td>\n      <td>839.30</td>\n      <td>376.03</td>\n      <td>420.913</td>\n      <td>435.753</td>\n      <td>0.726 (High)</td>\n      <td>Ni Putu Eka Wiryastuti</td>\n      <td>10.0</td>\n      <td>-/133</td>\n    </tr>\n    <tr>\n      <th>5</th>\n      <td>Bangli</td>\n      <td>Bangli</td>\n      <td>Bangli</td>\n      <td>490.71</td>\n      <td>193.776</td>\n      <td>215.353</td>\n      <td>222.474</td>\n      <td>0.657 (Medium)</td>\n      <td>I Made Gianyar</td>\n      <td>4.0</td>\n      <td>4/68</td>\n    </tr>\n    <tr>\n      <th>6</th>\n      <td>Badung</td>\n      <td>Badung</td>\n      <td>Mangupura</td>\n      <td>418.52</td>\n      <td>345.863</td>\n      <td>543.332</td>\n      <td>615.148</td>\n      <td>0.779 (High)</td>\n      <td>I Nyoman Giri Prasta</td>\n      <td>6.0</td>\n      <td>16/46</td>\n    </tr>\n    <tr>\n      <th>7</th>\n      <td>Gianyar</td>\n      <td>Gianyar</td>\n      <td>Gianyar</td>\n      <td>368.00</td>\n      <td>393.155</td>\n      <td>469.777</td>\n      <td>494.729</td>\n      <td>0.742 (High)</td>\n      <td>I Made Agus Mahayastra</td>\n      <td>7.0</td>\n      <td>6/64</td>\n    </tr>\n    <tr>\n      <th>8</th>\n      <td>Klungkung</td>\n      <td>Klungkung</td>\n      <td>Semarapura</td>\n      <td>315.00</td>\n      <td>155.262</td>\n      <td>170.543</td>\n      <td>175.573</td>\n      <td>0.683 (Medium)</td>\n      <td>I Nyoman Suwirta</td>\n      <td>4.0</td>\n      <td>6/53</td>\n    </tr>\n    <tr>\n      <th>9</th>\n      <td>Kota Denpasar</td>\n      <td>Denpasar</td>\n      <td>Denpasar</td>\n      <td>127.78</td>\n      <td>532.44</td>\n      <td>788.589</td>\n      <td>879.098</td>\n      <td>0.816 (Very High)</td>\n      <td>Ida Bagus Rai Dharmawijaya Mantra</td>\n      <td>4.0</td>\n      <td>16/27</td>\n    </tr>\n  </tbody>\n</table>\n</div>"
     },
     "metadata": {},
     "execution_count": 150
    }
   ],
   "source": [
    "## Reference Data \n",
    "## additional data like population, density etc.\n",
    "\n",
    "# data cleaning, processing\n",
    "##########################\n",
    "\n",
    "# add addtitional data\n",
    "df_ref = pd.read_excel('Bali_reference_data.xlsx')\n",
    "df_ref = df_ref.drop(columns=['https://en.wikipedia.org/wiki/Bali#cite_note-BPS2019-2', 'https://sp2010.bps.go.id/index.php/site/tabel?tid=321&wid=0', 'Source'])\n",
    "\n",
    "## adjust regency names of both data sources before merge\n",
    "##########################\n",
    "df_ref['Name_EN'] = df_ref['Name_Indo'].str.capitalize()\n",
    "df_ref.replace('Kota denpasar', 'Denpasar', inplace=True)\n",
    "df_ref.replace('totals', 'Bali', inplace=True)\n",
    "df_ref.replace('Totals', 'Bali', inplace=True)\n",
    "\n",
    "df_ref.head(15)"
   ]
  },
  {
   "cell_type": "code",
   "execution_count": 151,
   "metadata": {
    "execution": {
     "iopub.execute_input": "2021-04-05T08:55:28.276641Z",
     "iopub.status.busy": "2021-04-05T08:55:28.275613Z",
     "iopub.status.idle": "2021-04-05T08:55:28.281615Z",
     "shell.execute_reply": "2021-04-05T08:55:28.282632Z"
    }
   },
   "outputs": [],
   "source": [
    "# merge both df on 'Name_EN'\n",
    "df_merged = df.merge(df_ref, on=\"Name_EN\", how='left')"
   ]
  },
  {
   "cell_type": "code",
   "execution_count": 152,
   "metadata": {
    "execution": {
     "iopub.execute_input": "2021-04-05T08:55:28.289616Z",
     "iopub.status.busy": "2021-04-05T08:55:28.288619Z",
     "iopub.status.idle": "2021-04-05T08:55:28.294635Z",
     "shell.execute_reply": "2021-04-05T08:55:28.293634Z"
    }
   },
   "outputs": [
    {
     "output_type": "execute_result",
     "data": {
      "text/plain": [
       "Index(['No', 'Kabupaten / County', 'new_treatment', 'total_treatment',\n",
       "       'new_recovered', 'total_recovered', 'new_deaths', 'total_deaths',\n",
       "       'new_cases', 'total_cases', 'Date', 'new PPLN/PMI',\n",
       "       'total history-of-foreign-travel/ migrant-worker (PPLN/PMI)',\n",
       "       'new domestic-travel-history', 'total domestic-travel-history (PPDN)',\n",
       "       'new_local_transmission', 'total_local_transmission',\n",
       "       'new_other_transmission', 'total_other_transmission', 'Name_EN',\n",
       "       'Name_Indo', 'Capital', 'area_km2', 'population_2000',\n",
       "       'population_2010', 'population_2015', 'HDI_2014_estimate', 'Gouvernor',\n",
       "       'Nr. of Sub-Districts', 'Nr of Keluruhan/Villages'],\n",
       "      dtype='object')"
      ]
     },
     "metadata": {},
     "execution_count": 152
    }
   ],
   "source": [
    "df_merged.columns"
   ]
  },
  {
   "cell_type": "code",
   "execution_count": 153,
   "metadata": {
    "execution": {
     "iopub.execute_input": "2021-04-05T08:55:28.302617Z",
     "iopub.status.busy": "2021-04-05T08:55:28.301619Z",
     "iopub.status.idle": "2021-04-05T08:55:28.358637Z",
     "shell.execute_reply": "2021-04-05T08:55:28.357635Z"
    }
   },
   "outputs": [
    {
     "output_type": "execute_result",
     "data": {
      "text/plain": [
       "      No Kabupaten / County  new_treatment  total_treatment  new_recovered  \\\n",
       "1155   6             BANGLI              3               52             10   \n",
       "1156   7          KLUNGKUNG             -3               53              6   \n",
       "1157   8         KARANGASEM              1               88              0   \n",
       "1158   9           BULELENG            -16              168             28   \n",
       "1159  10  KABUPATEN LAINNYA              1               65              1   \n",
       "\n",
       "      total_recovered  new_deaths  total_deaths  new_cases  total_cases  ...  \\\n",
       "1155             2019           0            84         13         2155  ...   \n",
       "1156             1544           1            53          4         1650  ...   \n",
       "1157             1543           0            86          1         1717  ...   \n",
       "1158             2856           0           130         12         3154  ...   \n",
       "1159              480           0             8          2          553  ...   \n",
       "\n",
       "       Name_Indo     Capital  area_km2  population_2000  population_2010  \\\n",
       "1155      Bangli      Bangli    490.71          193.776          215.353   \n",
       "1156   Klungkung  Semarapura    315.00          155.262          170.543   \n",
       "1157  Karangasem    Amlapura    839.54          360.486          396.487   \n",
       "1158    Buleleng   Singaraja  1,364.73          558.181          624.125   \n",
       "1159         NaN         NaN       NaN              NaN              NaN   \n",
       "\n",
       "      population_2015  HDI_2014_estimate                Gouvernor  \\\n",
       "1155          222.474     0.657 (Medium)           I Made Gianyar   \n",
       "1156          175.573     0.683 (Medium)         I Nyoman Suwirta   \n",
       "1157          408.487     0.640 (Medium)  I Gusti Ayu Mas Sumatri   \n",
       "1158          645.893     0.691 (Medium)     Putu Agus Suradnyana   \n",
       "1159              NaN                NaN                      NaN   \n",
       "\n",
       "      Nr. of Sub-Districts Nr of Keluruhan/Villages  \n",
       "1155                   4.0                     4/68  \n",
       "1156                   4.0                     6/53  \n",
       "1157                   8.0                     3/75  \n",
       "1158                   9.0                   19/129  \n",
       "1159                   NaN                      NaN  \n",
       "\n",
       "[5 rows x 30 columns]"
      ],
      "text/html": "<div>\n<style scoped>\n    .dataframe tbody tr th:only-of-type {\n        vertical-align: middle;\n    }\n\n    .dataframe tbody tr th {\n        vertical-align: top;\n    }\n\n    .dataframe thead th {\n        text-align: right;\n    }\n</style>\n<table border=\"1\" class=\"dataframe\">\n  <thead>\n    <tr style=\"text-align: right;\">\n      <th></th>\n      <th>No</th>\n      <th>Kabupaten / County</th>\n      <th>new_treatment</th>\n      <th>total_treatment</th>\n      <th>new_recovered</th>\n      <th>total_recovered</th>\n      <th>new_deaths</th>\n      <th>total_deaths</th>\n      <th>new_cases</th>\n      <th>total_cases</th>\n      <th>...</th>\n      <th>Name_Indo</th>\n      <th>Capital</th>\n      <th>area_km2</th>\n      <th>population_2000</th>\n      <th>population_2010</th>\n      <th>population_2015</th>\n      <th>HDI_2014_estimate</th>\n      <th>Gouvernor</th>\n      <th>Nr. of Sub-Districts</th>\n      <th>Nr of Keluruhan/Villages</th>\n    </tr>\n  </thead>\n  <tbody>\n    <tr>\n      <th>1155</th>\n      <td>6</td>\n      <td>BANGLI</td>\n      <td>3</td>\n      <td>52</td>\n      <td>10</td>\n      <td>2019</td>\n      <td>0</td>\n      <td>84</td>\n      <td>13</td>\n      <td>2155</td>\n      <td>...</td>\n      <td>Bangli</td>\n      <td>Bangli</td>\n      <td>490.71</td>\n      <td>193.776</td>\n      <td>215.353</td>\n      <td>222.474</td>\n      <td>0.657 (Medium)</td>\n      <td>I Made Gianyar</td>\n      <td>4.0</td>\n      <td>4/68</td>\n    </tr>\n    <tr>\n      <th>1156</th>\n      <td>7</td>\n      <td>KLUNGKUNG</td>\n      <td>-3</td>\n      <td>53</td>\n      <td>6</td>\n      <td>1544</td>\n      <td>1</td>\n      <td>53</td>\n      <td>4</td>\n      <td>1650</td>\n      <td>...</td>\n      <td>Klungkung</td>\n      <td>Semarapura</td>\n      <td>315.00</td>\n      <td>155.262</td>\n      <td>170.543</td>\n      <td>175.573</td>\n      <td>0.683 (Medium)</td>\n      <td>I Nyoman Suwirta</td>\n      <td>4.0</td>\n      <td>6/53</td>\n    </tr>\n    <tr>\n      <th>1157</th>\n      <td>8</td>\n      <td>KARANGASEM</td>\n      <td>1</td>\n      <td>88</td>\n      <td>0</td>\n      <td>1543</td>\n      <td>0</td>\n      <td>86</td>\n      <td>1</td>\n      <td>1717</td>\n      <td>...</td>\n      <td>Karangasem</td>\n      <td>Amlapura</td>\n      <td>839.54</td>\n      <td>360.486</td>\n      <td>396.487</td>\n      <td>408.487</td>\n      <td>0.640 (Medium)</td>\n      <td>I Gusti Ayu Mas Sumatri</td>\n      <td>8.0</td>\n      <td>3/75</td>\n    </tr>\n    <tr>\n      <th>1158</th>\n      <td>9</td>\n      <td>BULELENG</td>\n      <td>-16</td>\n      <td>168</td>\n      <td>28</td>\n      <td>2856</td>\n      <td>0</td>\n      <td>130</td>\n      <td>12</td>\n      <td>3154</td>\n      <td>...</td>\n      <td>Buleleng</td>\n      <td>Singaraja</td>\n      <td>1,364.73</td>\n      <td>558.181</td>\n      <td>624.125</td>\n      <td>645.893</td>\n      <td>0.691 (Medium)</td>\n      <td>Putu Agus Suradnyana</td>\n      <td>9.0</td>\n      <td>19/129</td>\n    </tr>\n    <tr>\n      <th>1159</th>\n      <td>10</td>\n      <td>KABUPATEN LAINNYA</td>\n      <td>1</td>\n      <td>65</td>\n      <td>1</td>\n      <td>480</td>\n      <td>0</td>\n      <td>8</td>\n      <td>2</td>\n      <td>553</td>\n      <td>...</td>\n      <td>NaN</td>\n      <td>NaN</td>\n      <td>NaN</td>\n      <td>NaN</td>\n      <td>NaN</td>\n      <td>NaN</td>\n      <td>NaN</td>\n      <td>NaN</td>\n      <td>NaN</td>\n      <td>NaN</td>\n    </tr>\n  </tbody>\n</table>\n<p>5 rows × 30 columns</p>\n</div>"
     },
     "metadata": {},
     "execution_count": 153
    }
   ],
   "source": [
    "# # convert to integers\n",
    "int_numbers = ['new_treatment', 'total_treatment',\n",
    "       'new_recovered', 'total_recovered', 'new_deaths', 'total_deaths',\n",
    "       'new_cases', 'total_cases', 'new PPLN/PMI',\n",
    "       'total domestic-travel-history (PPDN)', \n",
    "       'new domestic-travel-history', 'total domestic-travel-history (PPDN)',\n",
    "       'new_local_transmission', 'total_local_transmission',\n",
    "       'new_other_transmission', 'total_other_transmission', 'population_2015']\n",
    "## check for duplicated columns\n",
    "# print(df_merged.columns[df_merged.columns.duplicated(keep=False)])\n",
    "df_merged[int_numbers] = df_merged[int_numbers].apply(pd.to_numeric)\n",
    "df_merged.tail()"
   ]
  },
  {
   "cell_type": "code",
   "execution_count": 154,
   "metadata": {},
   "outputs": [
    {
     "output_type": "execute_result",
     "data": {
      "text/plain": [
       "dtype('float64')"
      ]
     },
     "metadata": {},
     "execution_count": 154
    }
   ],
   "source": [
    "df_merged.population_2015.dtypes"
   ]
  },
  {
   "cell_type": "code",
   "execution_count": 155,
   "metadata": {
    "execution": {
     "iopub.execute_input": "2021-04-05T08:55:28.369636Z",
     "iopub.status.busy": "2021-04-05T08:55:28.368633Z",
     "iopub.status.idle": "2021-04-05T08:55:28.402742Z",
     "shell.execute_reply": "2021-04-05T08:55:28.401747Z"
    }
   },
   "outputs": [],
   "source": [
    "# ## add columns with new calculated data\n",
    "#########################################\n",
    "\n",
    "df_merged['total_cases_per_100k'] = df_merged['total_cases'] / df_merged['population_2015'] * 0.1\n",
    "df_merged['total_cases_per_100k'] = df_merged['total_cases_per_100k'].apply(pd.to_numeric).round(2)\n",
    "\n",
    "df_merged['total_deaths_per_100k'] = df_merged['total_deaths'] / df_merged['population_2015'] * 0.1\n",
    "df_merged['total_deaths_per_100k'] = df_merged['total_deaths_per_100k'].apply(pd.to_numeric).round(2)\n",
    "\n",
    "df_merged['new_cases_per_mil'] = df_merged['new_cases'] / df_merged['population_2015'] * 0.1\n",
    "df_merged['new_cases_per_mil'] = df_merged['new_cases_per_mil'].apply(pd.to_numeric)\n",
    "\n",
    "df_merged['cases7'] = df_merged['new_cases'].rolling(window=7, center=False).mean()\n",
    "df_merged['cases7_per_100k'] = df_merged['cases7'] / df_merged['population_2015'] *0.1\n",
    "\n",
    "df_merged['deaths7'] = df_merged['new_deaths'].rolling(window=7, center=False).mean()\n",
    "df_merged['deaths7_per_100k'] = df_merged['total_deaths_per_100k'] / df_merged['population_2015'] *0.1\n",
    "\n",
    "# infection fatality ratio (IFR), which estimates this proportion of deaths among all infected individuals. The second is case fatality ratio (CFR), which estimates this proportion of deaths among identified confirmed cases. \n",
    "# see https://www.who.int/news-room/commentaries/detail/estimating-mortality-from-covid-19\n",
    "df_merged['CFR'] = df_merged['total_deaths'] / df_merged['total_cases'] * 100\n",
    "df_merged['CFR'] = df_merged['CFR'].round(2)\n",
    "\n",
    "## Calculate in App after region selected and df only contains region\n",
    "df_merged['growth_rate_new_cases'] = df_merged['new_cases'].pct_change(fill_method ='ffill', periods=7)\n",
    "## Check new created values\n",
    "##############################\n",
    "# df_merged[['total_deaths', 'total_cases', 'total_deaths_per_100k', 'population_2015', 'total_cases_per_100k']]"
   ]
  },
  {
   "cell_type": "code",
   "execution_count": 156,
   "metadata": {},
   "outputs": [],
   "source": [
    "# print(df_merged[])"
   ]
  },
  {
   "cell_type": "code",
   "execution_count": 157,
   "metadata": {},
   "outputs": [
    {
     "output_type": "execute_result",
     "data": {
      "text/plain": [
       "                Name_EN  total_cases  new_cases  cases7_per_100k  \\\n",
       "1140           Jembrana         2208          1         0.003579   \n",
       "1141            Tabanan         4305         14         0.002033   \n",
       "1142             Badung         7976         53         0.002647   \n",
       "1143           Denpasar        13041         82         0.003088   \n",
       "1144            Gianyar         4784         15         0.005689   \n",
       "1145             Bangli         2142         12         0.012008   \n",
       "1146          Klungkung         1646          5         0.014809   \n",
       "1147         Karangasem         1716          1         0.006365   \n",
       "1148           Buleleng         3142         15         0.004048   \n",
       "1149  Kabupaten lainnya          551          5              NaN   \n",
       "1150           Jembrana         2217          9         0.003263   \n",
       "1151            Tabanan         4318         13         0.001967   \n",
       "1152             Badung         8010         34         0.001904   \n",
       "1153           Denpasar        13086         45         0.001983   \n",
       "1154            Gianyar         4804         20         0.004071   \n",
       "1155             Bangli         2155         13         0.008926   \n",
       "1156          Klungkung         1650          4         0.011229   \n",
       "1157         Karangasem         1717          1         0.004546   \n",
       "1158           Buleleng         3154         12         0.002853   \n",
       "1159  Kabupaten lainnya          553          2              NaN   \n",
       "\n",
       "      new_cases_per_mil  population_2015  \n",
       "1140           0.000368          271.423  \n",
       "1141           0.003213          435.753  \n",
       "1142           0.008616          615.148  \n",
       "1143           0.009328          879.098  \n",
       "1144           0.003032          494.729  \n",
       "1145           0.005394          222.474  \n",
       "1146           0.002848          175.573  \n",
       "1147           0.000245          408.487  \n",
       "1148           0.002322          645.893  \n",
       "1149                NaN              NaN  \n",
       "1150           0.003316          271.423  \n",
       "1151           0.002983          435.753  \n",
       "1152           0.005527          615.148  \n",
       "1153           0.005119          879.098  \n",
       "1154           0.004043          494.729  \n",
       "1155           0.005843          222.474  \n",
       "1156           0.002278          175.573  \n",
       "1157           0.000245          408.487  \n",
       "1158           0.001858          645.893  \n",
       "1159                NaN              NaN  "
      ],
      "text/html": "<div>\n<style scoped>\n    .dataframe tbody tr th:only-of-type {\n        vertical-align: middle;\n    }\n\n    .dataframe tbody tr th {\n        vertical-align: top;\n    }\n\n    .dataframe thead th {\n        text-align: right;\n    }\n</style>\n<table border=\"1\" class=\"dataframe\">\n  <thead>\n    <tr style=\"text-align: right;\">\n      <th></th>\n      <th>Name_EN</th>\n      <th>total_cases</th>\n      <th>new_cases</th>\n      <th>cases7_per_100k</th>\n      <th>new_cases_per_mil</th>\n      <th>population_2015</th>\n    </tr>\n  </thead>\n  <tbody>\n    <tr>\n      <th>1140</th>\n      <td>Jembrana</td>\n      <td>2208</td>\n      <td>1</td>\n      <td>0.003579</td>\n      <td>0.000368</td>\n      <td>271.423</td>\n    </tr>\n    <tr>\n      <th>1141</th>\n      <td>Tabanan</td>\n      <td>4305</td>\n      <td>14</td>\n      <td>0.002033</td>\n      <td>0.003213</td>\n      <td>435.753</td>\n    </tr>\n    <tr>\n      <th>1142</th>\n      <td>Badung</td>\n      <td>7976</td>\n      <td>53</td>\n      <td>0.002647</td>\n      <td>0.008616</td>\n      <td>615.148</td>\n    </tr>\n    <tr>\n      <th>1143</th>\n      <td>Denpasar</td>\n      <td>13041</td>\n      <td>82</td>\n      <td>0.003088</td>\n      <td>0.009328</td>\n      <td>879.098</td>\n    </tr>\n    <tr>\n      <th>1144</th>\n      <td>Gianyar</td>\n      <td>4784</td>\n      <td>15</td>\n      <td>0.005689</td>\n      <td>0.003032</td>\n      <td>494.729</td>\n    </tr>\n    <tr>\n      <th>1145</th>\n      <td>Bangli</td>\n      <td>2142</td>\n      <td>12</td>\n      <td>0.012008</td>\n      <td>0.005394</td>\n      <td>222.474</td>\n    </tr>\n    <tr>\n      <th>1146</th>\n      <td>Klungkung</td>\n      <td>1646</td>\n      <td>5</td>\n      <td>0.014809</td>\n      <td>0.002848</td>\n      <td>175.573</td>\n    </tr>\n    <tr>\n      <th>1147</th>\n      <td>Karangasem</td>\n      <td>1716</td>\n      <td>1</td>\n      <td>0.006365</td>\n      <td>0.000245</td>\n      <td>408.487</td>\n    </tr>\n    <tr>\n      <th>1148</th>\n      <td>Buleleng</td>\n      <td>3142</td>\n      <td>15</td>\n      <td>0.004048</td>\n      <td>0.002322</td>\n      <td>645.893</td>\n    </tr>\n    <tr>\n      <th>1149</th>\n      <td>Kabupaten lainnya</td>\n      <td>551</td>\n      <td>5</td>\n      <td>NaN</td>\n      <td>NaN</td>\n      <td>NaN</td>\n    </tr>\n    <tr>\n      <th>1150</th>\n      <td>Jembrana</td>\n      <td>2217</td>\n      <td>9</td>\n      <td>0.003263</td>\n      <td>0.003316</td>\n      <td>271.423</td>\n    </tr>\n    <tr>\n      <th>1151</th>\n      <td>Tabanan</td>\n      <td>4318</td>\n      <td>13</td>\n      <td>0.001967</td>\n      <td>0.002983</td>\n      <td>435.753</td>\n    </tr>\n    <tr>\n      <th>1152</th>\n      <td>Badung</td>\n      <td>8010</td>\n      <td>34</td>\n      <td>0.001904</td>\n      <td>0.005527</td>\n      <td>615.148</td>\n    </tr>\n    <tr>\n      <th>1153</th>\n      <td>Denpasar</td>\n      <td>13086</td>\n      <td>45</td>\n      <td>0.001983</td>\n      <td>0.005119</td>\n      <td>879.098</td>\n    </tr>\n    <tr>\n      <th>1154</th>\n      <td>Gianyar</td>\n      <td>4804</td>\n      <td>20</td>\n      <td>0.004071</td>\n      <td>0.004043</td>\n      <td>494.729</td>\n    </tr>\n    <tr>\n      <th>1155</th>\n      <td>Bangli</td>\n      <td>2155</td>\n      <td>13</td>\n      <td>0.008926</td>\n      <td>0.005843</td>\n      <td>222.474</td>\n    </tr>\n    <tr>\n      <th>1156</th>\n      <td>Klungkung</td>\n      <td>1650</td>\n      <td>4</td>\n      <td>0.011229</td>\n      <td>0.002278</td>\n      <td>175.573</td>\n    </tr>\n    <tr>\n      <th>1157</th>\n      <td>Karangasem</td>\n      <td>1717</td>\n      <td>1</td>\n      <td>0.004546</td>\n      <td>0.000245</td>\n      <td>408.487</td>\n    </tr>\n    <tr>\n      <th>1158</th>\n      <td>Buleleng</td>\n      <td>3154</td>\n      <td>12</td>\n      <td>0.002853</td>\n      <td>0.001858</td>\n      <td>645.893</td>\n    </tr>\n    <tr>\n      <th>1159</th>\n      <td>Kabupaten lainnya</td>\n      <td>553</td>\n      <td>2</td>\n      <td>NaN</td>\n      <td>NaN</td>\n      <td>NaN</td>\n    </tr>\n  </tbody>\n</table>\n</div>"
     },
     "metadata": {},
     "execution_count": 157
    }
   ],
   "source": [
    "df_merged[['Name_EN', \"total_cases\", 'new_cases', 'cases7_per_100k', 'new_cases_per_mil', 'population_2015']][-20:]"
   ]
  },
  {
   "cell_type": "code",
   "execution_count": 73,
   "metadata": {
    "execution": {
     "iopub.execute_input": "2021-04-05T08:55:28.409746Z",
     "iopub.status.busy": "2021-04-05T08:55:28.409746Z",
     "iopub.status.idle": "2021-04-05T08:55:28.414747Z",
     "shell.execute_reply": "2021-04-05T08:55:28.414747Z"
    }
   },
   "outputs": [],
   "source": []
  },
  {
   "cell_type": "code",
   "execution_count": 158,
   "metadata": {
    "execution": {
     "iopub.execute_input": "2021-04-05T08:55:28.423742Z",
     "iopub.status.busy": "2021-04-05T08:55:28.422744Z",
     "iopub.status.idle": "2021-04-05T08:55:28.606743Z",
     "shell.execute_reply": "2021-04-05T08:55:28.605747Z"
    }
   },
   "outputs": [
    {
     "output_type": "execute_result",
     "data": {
      "text/plain": [
       "   No Kabupaten / County  new_treatment  total_treatment  new_recovered  \\\n",
       "0   1           JEMBRANA             -7               70              7   \n",
       "1   2            TABANAN            -10              434             35   \n",
       "2   3             BADUNG             -9              159             27   \n",
       "3   4           DENPASAR              1              166             26   \n",
       "4   5            GIANYAR            -16              234             31   \n",
       "\n",
       "   total_recovered  new_deaths  total_deaths  new_cases  total_cases  ...  \\\n",
       "0              579           1            14          1          663  ...   \n",
       "1             1016           0            47         25         1497  ...   \n",
       "2             2299           0            51         18         2509  ...   \n",
       "3             3705           0            90         27         3961  ...   \n",
       "4             1681           0            75         15         1990  ...   \n",
       "\n",
       "  total_cases_per_100k  total_deaths_per_100k new_cases_per_mil  cases7  \\\n",
       "0                 0.24                   0.01          0.000368     NaN   \n",
       "1                 0.34                   0.01          0.005737     NaN   \n",
       "2                 0.41                   0.01          0.002926     NaN   \n",
       "3                 0.45                   0.01          0.003071     NaN   \n",
       "4                 0.40                   0.02          0.003032     NaN   \n",
       "\n",
       "   cases7_per_100k  deaths7  deaths7_per_100k   CFR  growth_rate_new_cases id  \n",
       "0              NaN      NaN          0.000004  2.11                    NaN  5  \n",
       "1              NaN      NaN          0.000002  3.14                    NaN  9  \n",
       "2              NaN      NaN          0.000002  2.03                    NaN  1  \n",
       "3              NaN      NaN          0.000001  2.27                    NaN  8  \n",
       "4              NaN      NaN          0.000004  3.77                    NaN  4  \n",
       "\n",
       "[5 rows x 40 columns]"
      ],
      "text/html": "<div>\n<style scoped>\n    .dataframe tbody tr th:only-of-type {\n        vertical-align: middle;\n    }\n\n    .dataframe tbody tr th {\n        vertical-align: top;\n    }\n\n    .dataframe thead th {\n        text-align: right;\n    }\n</style>\n<table border=\"1\" class=\"dataframe\">\n  <thead>\n    <tr style=\"text-align: right;\">\n      <th></th>\n      <th>No</th>\n      <th>Kabupaten / County</th>\n      <th>new_treatment</th>\n      <th>total_treatment</th>\n      <th>new_recovered</th>\n      <th>total_recovered</th>\n      <th>new_deaths</th>\n      <th>total_deaths</th>\n      <th>new_cases</th>\n      <th>total_cases</th>\n      <th>...</th>\n      <th>total_cases_per_100k</th>\n      <th>total_deaths_per_100k</th>\n      <th>new_cases_per_mil</th>\n      <th>cases7</th>\n      <th>cases7_per_100k</th>\n      <th>deaths7</th>\n      <th>deaths7_per_100k</th>\n      <th>CFR</th>\n      <th>growth_rate_new_cases</th>\n      <th>id</th>\n    </tr>\n  </thead>\n  <tbody>\n    <tr>\n      <th>0</th>\n      <td>1</td>\n      <td>JEMBRANA</td>\n      <td>-7</td>\n      <td>70</td>\n      <td>7</td>\n      <td>579</td>\n      <td>1</td>\n      <td>14</td>\n      <td>1</td>\n      <td>663</td>\n      <td>...</td>\n      <td>0.24</td>\n      <td>0.01</td>\n      <td>0.000368</td>\n      <td>NaN</td>\n      <td>NaN</td>\n      <td>NaN</td>\n      <td>0.000004</td>\n      <td>2.11</td>\n      <td>NaN</td>\n      <td>5</td>\n    </tr>\n    <tr>\n      <th>1</th>\n      <td>2</td>\n      <td>TABANAN</td>\n      <td>-10</td>\n      <td>434</td>\n      <td>35</td>\n      <td>1016</td>\n      <td>0</td>\n      <td>47</td>\n      <td>25</td>\n      <td>1497</td>\n      <td>...</td>\n      <td>0.34</td>\n      <td>0.01</td>\n      <td>0.005737</td>\n      <td>NaN</td>\n      <td>NaN</td>\n      <td>NaN</td>\n      <td>0.000002</td>\n      <td>3.14</td>\n      <td>NaN</td>\n      <td>9</td>\n    </tr>\n    <tr>\n      <th>2</th>\n      <td>3</td>\n      <td>BADUNG</td>\n      <td>-9</td>\n      <td>159</td>\n      <td>27</td>\n      <td>2299</td>\n      <td>0</td>\n      <td>51</td>\n      <td>18</td>\n      <td>2509</td>\n      <td>...</td>\n      <td>0.41</td>\n      <td>0.01</td>\n      <td>0.002926</td>\n      <td>NaN</td>\n      <td>NaN</td>\n      <td>NaN</td>\n      <td>0.000002</td>\n      <td>2.03</td>\n      <td>NaN</td>\n      <td>1</td>\n    </tr>\n    <tr>\n      <th>3</th>\n      <td>4</td>\n      <td>DENPASAR</td>\n      <td>1</td>\n      <td>166</td>\n      <td>26</td>\n      <td>3705</td>\n      <td>0</td>\n      <td>90</td>\n      <td>27</td>\n      <td>3961</td>\n      <td>...</td>\n      <td>0.45</td>\n      <td>0.01</td>\n      <td>0.003071</td>\n      <td>NaN</td>\n      <td>NaN</td>\n      <td>NaN</td>\n      <td>0.000001</td>\n      <td>2.27</td>\n      <td>NaN</td>\n      <td>8</td>\n    </tr>\n    <tr>\n      <th>4</th>\n      <td>5</td>\n      <td>GIANYAR</td>\n      <td>-16</td>\n      <td>234</td>\n      <td>31</td>\n      <td>1681</td>\n      <td>0</td>\n      <td>75</td>\n      <td>15</td>\n      <td>1990</td>\n      <td>...</td>\n      <td>0.40</td>\n      <td>0.02</td>\n      <td>0.003032</td>\n      <td>NaN</td>\n      <td>NaN</td>\n      <td>NaN</td>\n      <td>0.000004</td>\n      <td>3.77</td>\n      <td>NaN</td>\n      <td>4</td>\n    </tr>\n  </tbody>\n</table>\n<p>5 rows × 40 columns</p>\n</div>"
     },
     "metadata": {},
     "execution_count": 158
    }
   ],
   "source": [
    "## add id from geojson file\n",
    "geojson_bali = 'new_bali_id.geojson'\n",
    "\n",
    "# open new geojson (with id) file\n",
    "bali_geo_id = json.load(open(geojson_bali, 'r'))\n",
    "\n",
    "## get names of regencies\n",
    "regencies = []\n",
    "for regency in bali_geo_id['features']:\n",
    "  regencies.append(regency['properties']['ADM2_EN'])\n",
    "\n",
    "  # add id column in df with feature.id from geojson\n",
    "bali_id_map = {}\n",
    "for regency in bali_geo_id['features']:\n",
    "  bali_id_map[regency['properties']['ADM2_EN']] = regency['id']\n",
    "bali_id_map\n",
    "\n",
    "## for Foreigners or Other Regency add 'id' = 0\n",
    "df_merged['id'] = df_merged['Name_Indo'].apply(lambda x: bali_id_map[x] if x in bali_id_map else 0)\n",
    "df_merged.head()"
   ]
  },
  {
   "cell_type": "code",
   "execution_count": 159,
   "metadata": {
    "execution": {
     "iopub.execute_input": "2021-04-05T08:55:28.633750Z",
     "iopub.status.busy": "2021-04-05T08:55:28.633208Z",
     "iopub.status.idle": "2021-04-05T08:55:28.639747Z",
     "shell.execute_reply": "2021-04-05T08:55:28.639747Z"
    }
   },
   "outputs": [
    {
     "output_type": "execute_result",
     "data": {
      "text/plain": [
       "      No Kabupaten / County  new_treatment  total_treatment  new_recovered  \\\n",
       "1155   6             BANGLI              3               52             10   \n",
       "1156   7          KLUNGKUNG             -3               53              6   \n",
       "1157   8         KARANGASEM              1               88              0   \n",
       "1158   9           BULELENG            -16              168             28   \n",
       "1159  10  KABUPATEN LAINNYA              1               65              1   \n",
       "\n",
       "      total_recovered  new_deaths  total_deaths  new_cases  total_cases  ...  \\\n",
       "1155             2019           0            84         13         2155  ...   \n",
       "1156             1544           1            53          4         1650  ...   \n",
       "1157             1543           0            86          1         1717  ...   \n",
       "1158             2856           0           130         12         3154  ...   \n",
       "1159              480           0             8          2          553  ...   \n",
       "\n",
       "     total_cases_per_100k  total_deaths_per_100k new_cases_per_mil     cases7  \\\n",
       "1155                 0.97                   0.04          0.005843  19.857143   \n",
       "1156                 0.94                   0.03          0.002278  19.714286   \n",
       "1157                 0.42                   0.02          0.000245  18.571429   \n",
       "1158                 0.49                   0.02          0.001858  18.428571   \n",
       "1159                  NaN                    NaN               NaN  13.857143   \n",
       "\n",
       "      cases7_per_100k   deaths7  deaths7_per_100k   CFR  \\\n",
       "1155         0.008926  0.857143          0.000018  3.90   \n",
       "1156         0.011229  0.857143          0.000017  3.21   \n",
       "1157         0.004546  0.857143          0.000005  5.01   \n",
       "1158         0.002853  0.714286          0.000003  4.12   \n",
       "1159              NaN  0.428571               NaN  1.45   \n",
       "\n",
       "      growth_rate_new_cases id  \n",
       "1155              -0.133333  2  \n",
       "1156              -0.200000  7  \n",
       "1157              -0.888889  6  \n",
       "1158              -0.076923  3  \n",
       "1159              -0.941176  0  \n",
       "\n",
       "[5 rows x 40 columns]"
      ],
      "text/html": "<div>\n<style scoped>\n    .dataframe tbody tr th:only-of-type {\n        vertical-align: middle;\n    }\n\n    .dataframe tbody tr th {\n        vertical-align: top;\n    }\n\n    .dataframe thead th {\n        text-align: right;\n    }\n</style>\n<table border=\"1\" class=\"dataframe\">\n  <thead>\n    <tr style=\"text-align: right;\">\n      <th></th>\n      <th>No</th>\n      <th>Kabupaten / County</th>\n      <th>new_treatment</th>\n      <th>total_treatment</th>\n      <th>new_recovered</th>\n      <th>total_recovered</th>\n      <th>new_deaths</th>\n      <th>total_deaths</th>\n      <th>new_cases</th>\n      <th>total_cases</th>\n      <th>...</th>\n      <th>total_cases_per_100k</th>\n      <th>total_deaths_per_100k</th>\n      <th>new_cases_per_mil</th>\n      <th>cases7</th>\n      <th>cases7_per_100k</th>\n      <th>deaths7</th>\n      <th>deaths7_per_100k</th>\n      <th>CFR</th>\n      <th>growth_rate_new_cases</th>\n      <th>id</th>\n    </tr>\n  </thead>\n  <tbody>\n    <tr>\n      <th>1155</th>\n      <td>6</td>\n      <td>BANGLI</td>\n      <td>3</td>\n      <td>52</td>\n      <td>10</td>\n      <td>2019</td>\n      <td>0</td>\n      <td>84</td>\n      <td>13</td>\n      <td>2155</td>\n      <td>...</td>\n      <td>0.97</td>\n      <td>0.04</td>\n      <td>0.005843</td>\n      <td>19.857143</td>\n      <td>0.008926</td>\n      <td>0.857143</td>\n      <td>0.000018</td>\n      <td>3.90</td>\n      <td>-0.133333</td>\n      <td>2</td>\n    </tr>\n    <tr>\n      <th>1156</th>\n      <td>7</td>\n      <td>KLUNGKUNG</td>\n      <td>-3</td>\n      <td>53</td>\n      <td>6</td>\n      <td>1544</td>\n      <td>1</td>\n      <td>53</td>\n      <td>4</td>\n      <td>1650</td>\n      <td>...</td>\n      <td>0.94</td>\n      <td>0.03</td>\n      <td>0.002278</td>\n      <td>19.714286</td>\n      <td>0.011229</td>\n      <td>0.857143</td>\n      <td>0.000017</td>\n      <td>3.21</td>\n      <td>-0.200000</td>\n      <td>7</td>\n    </tr>\n    <tr>\n      <th>1157</th>\n      <td>8</td>\n      <td>KARANGASEM</td>\n      <td>1</td>\n      <td>88</td>\n      <td>0</td>\n      <td>1543</td>\n      <td>0</td>\n      <td>86</td>\n      <td>1</td>\n      <td>1717</td>\n      <td>...</td>\n      <td>0.42</td>\n      <td>0.02</td>\n      <td>0.000245</td>\n      <td>18.571429</td>\n      <td>0.004546</td>\n      <td>0.857143</td>\n      <td>0.000005</td>\n      <td>5.01</td>\n      <td>-0.888889</td>\n      <td>6</td>\n    </tr>\n    <tr>\n      <th>1158</th>\n      <td>9</td>\n      <td>BULELENG</td>\n      <td>-16</td>\n      <td>168</td>\n      <td>28</td>\n      <td>2856</td>\n      <td>0</td>\n      <td>130</td>\n      <td>12</td>\n      <td>3154</td>\n      <td>...</td>\n      <td>0.49</td>\n      <td>0.02</td>\n      <td>0.001858</td>\n      <td>18.428571</td>\n      <td>0.002853</td>\n      <td>0.714286</td>\n      <td>0.000003</td>\n      <td>4.12</td>\n      <td>-0.076923</td>\n      <td>3</td>\n    </tr>\n    <tr>\n      <th>1159</th>\n      <td>10</td>\n      <td>KABUPATEN LAINNYA</td>\n      <td>1</td>\n      <td>65</td>\n      <td>1</td>\n      <td>480</td>\n      <td>0</td>\n      <td>8</td>\n      <td>2</td>\n      <td>553</td>\n      <td>...</td>\n      <td>NaN</td>\n      <td>NaN</td>\n      <td>NaN</td>\n      <td>13.857143</td>\n      <td>NaN</td>\n      <td>0.428571</td>\n      <td>NaN</td>\n      <td>1.45</td>\n      <td>-0.941176</td>\n      <td>0</td>\n    </tr>\n  </tbody>\n</table>\n<p>5 rows × 40 columns</p>\n</div>"
     },
     "metadata": {},
     "execution_count": 159
    }
   ],
   "source": [
    "df_merged.tail()"
   ]
  },
  {
   "cell_type": "code",
   "execution_count": 160,
   "metadata": {
    "execution": {
     "iopub.execute_input": "2021-04-05T08:55:28.646753Z",
     "iopub.status.busy": "2021-04-05T08:55:28.644750Z",
     "iopub.status.idle": "2021-04-05T08:55:28.709752Z",
     "shell.execute_reply": "2021-04-05T08:55:28.709752Z"
    }
   },
   "outputs": [],
   "source": [
    "# create csv for Bali Dash App\n",
    "df_merged.to_csv('bali_regency_data.csv')\n"
   ]
  },
  {
   "cell_type": "code",
   "execution_count": 161,
   "metadata": {
    "execution": {
     "iopub.execute_input": "2021-04-05T08:55:28.716745Z",
     "iopub.status.busy": "2021-04-05T08:55:28.715751Z",
     "iopub.status.idle": "2021-04-05T08:55:28.765764Z",
     "shell.execute_reply": "2021-04-05T08:55:28.765764Z"
    }
   },
   "outputs": [],
   "source": [
    "# save a version in Kaggle Datasets (upload daily)\n",
    "\n",
    "df_merged.to_csv(r'C:\\Users\\ansve\\Coding\\Kaggle\\Datasets\\Covid19_Bali\\Covid19_Bali_Regencies_Data.csv')"
   ]
  },
  {
   "cell_type": "code",
   "execution_count": 162,
   "metadata": {
    "execution": {
     "iopub.execute_input": "2021-04-05T08:55:28.771491Z",
     "iopub.status.busy": "2021-04-05T08:55:28.770462Z",
     "iopub.status.idle": "2021-04-05T08:55:28.774495Z",
     "shell.execute_reply": "2021-04-05T08:55:28.773477Z"
    }
   },
   "outputs": [],
   "source": [
    "###  -------------------------------------\n",
    "### 2. INDONESIA COVID DATA \n",
    "###  -------------------------------------\n",
    "\n",
    "## From Kaggel Dataset\n",
    "# 1. connect to kaggle and get latest dataset\n"
   ]
  },
  {
   "cell_type": "code",
   "execution_count": 163,
   "metadata": {
    "execution": {
     "iopub.execute_input": "2021-04-05T08:55:28.782501Z",
     "iopub.status.busy": "2021-04-05T08:55:28.781483Z",
     "iopub.status.idle": "2021-04-05T08:55:33.055592Z",
     "shell.execute_reply": "2021-04-05T08:55:33.054594Z"
    }
   },
   "outputs": [],
   "source": [
    "# downoad single file\n",
    "#Signature: dataset_download_file(dataset, file_name, path=None, force=False, quiet=True)\n",
    "# api.dataset_download_files('hendratno/covid19-indonesia/covid_19_indonesia_time_series_all.csv', unzip = True)\n",
    "# "
   ]
  },
  {
   "cell_type": "code",
   "execution_count": 164,
   "metadata": {
    "execution": {
     "iopub.execute_input": "2021-04-05T08:55:33.061573Z",
     "iopub.status.busy": "2021-04-05T08:55:33.061573Z",
     "iopub.status.idle": "2021-04-05T08:55:33.163578Z",
     "shell.execute_reply": "2021-04-05T08:55:33.164579Z"
    }
   },
   "outputs": [
    {
     "output_type": "execute_result",
     "data": {
      "text/plain": [
       "            Date Location ISO Code           Location  New Cases  New Deaths  \\\n",
       "13009  3/28/2021             ID-SG  Sulawesi Tenggara          4           0   \n",
       "13010  3/28/2021             ID-SA     Sulawesi Utara          5           0   \n",
       "13011  3/28/2021             ID-SB     Sumatera Barat        106           2   \n",
       "13012  3/28/2021             ID-SS   Sumatera Selatan        101           3   \n",
       "13013  3/28/2021             ID-SU     Sumatera Utara         69           2   \n",
       "\n",
       "       New Recovered  New Active Cases  Total Cases  Total Deaths  \\\n",
       "13009              1                 3        10249           205   \n",
       "13010              4                 1        15351           499   \n",
       "13011             74                30        31455           682   \n",
       "13012             77                21        17443           828   \n",
       "13013             37                30        27120           903   \n",
       "\n",
       "       Total Recovered  ...   Longitude  Latitude  New Cases per Million  \\\n",
       "13009             9593  ...  122.070311 -4.124689                   1.52   \n",
       "13010            12420  ...  124.521240  1.259638                   1.89   \n",
       "13011            29611  ...  100.465062 -0.850253                  19.21   \n",
       "13012            15450  ...  104.169465 -3.216212                  12.29   \n",
       "13013            23714  ...   99.051964  2.191894                   4.64   \n",
       "\n",
       "      Total Cases per Million New Deaths per Million Total Deaths per Million  \\\n",
       "13009                 3888.88                   0.00                    77.79   \n",
       "13010                 5810.63                   0.00                   188.88   \n",
       "13011                 5699.15                   0.36                   123.57   \n",
       "13012                 2122.65                   0.37                   100.76   \n",
       "13013                 1823.21                   0.13                    60.71   \n",
       "\n",
       "      Case Fatality Rate Case Recovered Rate Growth Factor of New Cases  \\\n",
       "13009              2.00%              93.60%                       0.31   \n",
       "13010              3.25%              80.91%                       0.26   \n",
       "13011              2.17%              94.14%                       0.96   \n",
       "13012              4.75%              88.57%                       1.20   \n",
       "13013              3.33%              87.44%                       0.86   \n",
       "\n",
       "       Growth Factor of New Deaths  \n",
       "13009                         0.00  \n",
       "13010                         1.00  \n",
       "13011                         2.00  \n",
       "13012                         1.50  \n",
       "13013                         0.67  \n",
       "\n",
       "[5 rows x 37 columns]"
      ],
      "text/html": "<div>\n<style scoped>\n    .dataframe tbody tr th:only-of-type {\n        vertical-align: middle;\n    }\n\n    .dataframe tbody tr th {\n        vertical-align: top;\n    }\n\n    .dataframe thead th {\n        text-align: right;\n    }\n</style>\n<table border=\"1\" class=\"dataframe\">\n  <thead>\n    <tr style=\"text-align: right;\">\n      <th></th>\n      <th>Date</th>\n      <th>Location ISO Code</th>\n      <th>Location</th>\n      <th>New Cases</th>\n      <th>New Deaths</th>\n      <th>New Recovered</th>\n      <th>New Active Cases</th>\n      <th>Total Cases</th>\n      <th>Total Deaths</th>\n      <th>Total Recovered</th>\n      <th>...</th>\n      <th>Longitude</th>\n      <th>Latitude</th>\n      <th>New Cases per Million</th>\n      <th>Total Cases per Million</th>\n      <th>New Deaths per Million</th>\n      <th>Total Deaths per Million</th>\n      <th>Case Fatality Rate</th>\n      <th>Case Recovered Rate</th>\n      <th>Growth Factor of New Cases</th>\n      <th>Growth Factor of New Deaths</th>\n    </tr>\n  </thead>\n  <tbody>\n    <tr>\n      <th>13009</th>\n      <td>3/28/2021</td>\n      <td>ID-SG</td>\n      <td>Sulawesi Tenggara</td>\n      <td>4</td>\n      <td>0</td>\n      <td>1</td>\n      <td>3</td>\n      <td>10249</td>\n      <td>205</td>\n      <td>9593</td>\n      <td>...</td>\n      <td>122.070311</td>\n      <td>-4.124689</td>\n      <td>1.52</td>\n      <td>3888.88</td>\n      <td>0.00</td>\n      <td>77.79</td>\n      <td>2.00%</td>\n      <td>93.60%</td>\n      <td>0.31</td>\n      <td>0.00</td>\n    </tr>\n    <tr>\n      <th>13010</th>\n      <td>3/28/2021</td>\n      <td>ID-SA</td>\n      <td>Sulawesi Utara</td>\n      <td>5</td>\n      <td>0</td>\n      <td>4</td>\n      <td>1</td>\n      <td>15351</td>\n      <td>499</td>\n      <td>12420</td>\n      <td>...</td>\n      <td>124.521240</td>\n      <td>1.259638</td>\n      <td>1.89</td>\n      <td>5810.63</td>\n      <td>0.00</td>\n      <td>188.88</td>\n      <td>3.25%</td>\n      <td>80.91%</td>\n      <td>0.26</td>\n      <td>1.00</td>\n    </tr>\n    <tr>\n      <th>13011</th>\n      <td>3/28/2021</td>\n      <td>ID-SB</td>\n      <td>Sumatera Barat</td>\n      <td>106</td>\n      <td>2</td>\n      <td>74</td>\n      <td>30</td>\n      <td>31455</td>\n      <td>682</td>\n      <td>29611</td>\n      <td>...</td>\n      <td>100.465062</td>\n      <td>-0.850253</td>\n      <td>19.21</td>\n      <td>5699.15</td>\n      <td>0.36</td>\n      <td>123.57</td>\n      <td>2.17%</td>\n      <td>94.14%</td>\n      <td>0.96</td>\n      <td>2.00</td>\n    </tr>\n    <tr>\n      <th>13012</th>\n      <td>3/28/2021</td>\n      <td>ID-SS</td>\n      <td>Sumatera Selatan</td>\n      <td>101</td>\n      <td>3</td>\n      <td>77</td>\n      <td>21</td>\n      <td>17443</td>\n      <td>828</td>\n      <td>15450</td>\n      <td>...</td>\n      <td>104.169465</td>\n      <td>-3.216212</td>\n      <td>12.29</td>\n      <td>2122.65</td>\n      <td>0.37</td>\n      <td>100.76</td>\n      <td>4.75%</td>\n      <td>88.57%</td>\n      <td>1.20</td>\n      <td>1.50</td>\n    </tr>\n    <tr>\n      <th>13013</th>\n      <td>3/28/2021</td>\n      <td>ID-SU</td>\n      <td>Sumatera Utara</td>\n      <td>69</td>\n      <td>2</td>\n      <td>37</td>\n      <td>30</td>\n      <td>27120</td>\n      <td>903</td>\n      <td>23714</td>\n      <td>...</td>\n      <td>99.051964</td>\n      <td>2.191894</td>\n      <td>4.64</td>\n      <td>1823.21</td>\n      <td>0.13</td>\n      <td>60.71</td>\n      <td>3.33%</td>\n      <td>87.44%</td>\n      <td>0.86</td>\n      <td>0.67</td>\n    </tr>\n  </tbody>\n</table>\n<p>5 rows × 37 columns</p>\n</div>"
     },
     "metadata": {},
     "execution_count": 164
    }
   ],
   "source": [
    "df_indo = pd.read_csv('covid_19_indonesia_time_series_all.csv')\n",
    "\n",
    "df_indo.tail()"
   ]
  },
  {
   "cell_type": "code",
   "execution_count": 165,
   "metadata": {
    "execution": {
     "iopub.execute_input": "2021-04-05T08:55:33.173575Z",
     "iopub.status.busy": "2021-04-05T08:55:33.172576Z",
     "iopub.status.idle": "2021-04-05T08:55:33.220575Z",
     "shell.execute_reply": "2021-04-05T08:55:33.219578Z"
    }
   },
   "outputs": [
    {
     "output_type": "stream",
     "name": "stdout",
     "text": [
      "3/1/2020\n"
     ]
    }
   ],
   "source": [
    "## convert dates to datetime format so matching with new dataframe before merging\n",
    "\n",
    "print(df_indo['Date'][0])\n",
    "df_indo['Date'] = pd.to_datetime(df_indo['Date'])\n"
   ]
  },
  {
   "cell_type": "code",
   "execution_count": 166,
   "metadata": {
    "execution": {
     "iopub.execute_input": "2021-04-05T08:55:33.227576Z",
     "iopub.status.busy": "2021-04-05T08:55:33.226573Z",
     "iopub.status.idle": "2021-04-05T08:55:33.231578Z",
     "shell.execute_reply": "2021-04-05T08:55:33.230573Z"
    }
   },
   "outputs": [
    {
     "output_type": "execute_result",
     "data": {
      "text/plain": [
       "Index(['Date', 'Location ISO Code', 'Location', 'New Cases', 'New Deaths',\n",
       "       'New Recovered', 'New Active Cases', 'Total Cases', 'Total Deaths',\n",
       "       'Total Recovered', 'Total Active Cases', 'Location Level',\n",
       "       'City or Regency', 'Province', 'Country', 'Continent', 'Island',\n",
       "       'Time Zone', 'Special Status', 'Total Regencies', 'Total Cities',\n",
       "       'Total Districts', 'Total Urban Villages', 'Total Rural Villages',\n",
       "       'Area (km2)', 'Population', 'Population Density', 'Longitude',\n",
       "       'Latitude', 'New Cases per Million', 'Total Cases per Million',\n",
       "       'New Deaths per Million', 'Total Deaths per Million',\n",
       "       'Case Fatality Rate', 'Case Recovered Rate',\n",
       "       'Growth Factor of New Cases', 'Growth Factor of New Deaths'],\n",
       "      dtype='object')"
      ]
     },
     "metadata": {},
     "execution_count": 166
    }
   ],
   "source": [
    "df_indo.columns"
   ]
  },
  {
   "cell_type": "code",
   "execution_count": 167,
   "metadata": {
    "execution": {
     "iopub.execute_input": "2021-04-05T08:55:33.240577Z",
     "iopub.status.busy": "2021-04-05T08:55:33.239578Z",
     "iopub.status.idle": "2021-04-05T08:55:33.245574Z",
     "shell.execute_reply": "2021-04-05T08:55:33.244575Z"
    }
   },
   "outputs": [
    {
     "output_type": "execute_result",
     "data": {
      "text/plain": [
       "Index(['Date', 'Location ISO Code', 'Location', 'new_cases', 'new_deaths',\n",
       "       'new_recovered', 'New Active Cases', 'total_cases', 'total_deaths',\n",
       "       'total_recovered', 'Total Active Cases', 'Location Level',\n",
       "       'City or Regency', 'Province', 'Country', 'Continent', 'Island',\n",
       "       'Time Zone', 'Special Status', 'Total Regencies', 'Total Cities',\n",
       "       'Total Districts', 'Total Urban Villages', 'Total Rural Villages',\n",
       "       'Area (km2)', 'Population', 'Population Density', 'Longitude',\n",
       "       'Latitude', 'New Cases per Million', 'Total Cases per Million',\n",
       "       'New Deaths per Million', 'Total Deaths per Million', 'CFR',\n",
       "       'Case Recovered Rate', 'Growth Factor of New Cases',\n",
       "       'Growth Factor of New Deaths'],\n",
       "      dtype='object')"
      ]
     },
     "metadata": {},
     "execution_count": 167
    }
   ],
   "source": [
    "# adjust column names\n",
    "columns_new = ['Date', 'Location ISO Code', 'Location', 'new_cases', 'new_deaths',\n",
    "       'new_recovered', 'New Active Cases', 'total_cases', 'total_deaths',\n",
    "       'total_recovered', 'Total Active Cases', 'Location Level',\n",
    "       'City or Regency', 'Province', 'Country', 'Continent', 'Island',\n",
    "       'Time Zone', 'Special Status', 'Total Regencies', 'Total Cities',\n",
    "       'Total Districts', 'Total Urban Villages', 'Total Rural Villages',\n",
    "       'Area (km2)', 'Population', 'Population Density', 'Longitude',\n",
    "       'Latitude', 'New Cases per Million', 'Total Cases per Million',\n",
    "       'New Deaths per Million', 'Total Deaths per Million',\n",
    "       'CFR', 'Case Recovered Rate',\n",
    "       'Growth Factor of New Cases', 'Growth Factor of New Deaths']\n",
    "\n",
    "df_indo.columns = columns_new\n",
    "df_indo.columns"
   ]
  },
  {
   "cell_type": "code",
   "execution_count": 168,
   "metadata": {
    "execution": {
     "iopub.execute_input": "2021-04-05T08:55:33.251576Z",
     "iopub.status.busy": "2021-04-05T08:55:33.251576Z",
     "iopub.status.idle": "2021-04-05T08:55:33.256578Z",
     "shell.execute_reply": "2021-04-05T08:55:33.255583Z"
    }
   },
   "outputs": [
    {
     "output_type": "execute_result",
     "data": {
      "text/plain": [
       "10846145"
      ]
     },
     "metadata": {},
     "execution_count": 168
    }
   ],
   "source": [
    "df_indo['Population'].iloc[1]\n"
   ]
  },
  {
   "cell_type": "code",
   "execution_count": 169,
   "metadata": {
    "execution": {
     "iopub.execute_input": "2021-04-05T08:55:33.290593Z",
     "iopub.status.busy": "2021-04-05T08:55:33.288579Z",
     "iopub.status.idle": "2021-04-05T08:55:33.308594Z",
     "shell.execute_reply": "2021-04-05T08:55:33.307576Z"
    }
   },
   "outputs": [],
   "source": [
    "## add id from geojson for choropleth Map\n",
    "#########################################\n",
    "# open new geojson (with id) file\n",
    "geojson_indo = 'new_indo_id.geojson'\n",
    "indo_geo_id = json.load(open(geojson_indo, 'r'))\n"
   ]
  },
  {
   "cell_type": "code",
   "execution_count": 170,
   "metadata": {
    "execution": {
     "iopub.execute_input": "2021-04-05T08:55:33.315579Z",
     "iopub.status.busy": "2021-04-05T08:55:33.314583Z",
     "iopub.status.idle": "2021-04-05T08:55:33.319576Z",
     "shell.execute_reply": "2021-04-05T08:55:33.318576Z"
    }
   },
   "outputs": [],
   "source": [
    "# indo_geo_id['features'][7]['id']"
   ]
  },
  {
   "cell_type": "code",
   "execution_count": 171,
   "metadata": {
    "execution": {
     "iopub.execute_input": "2021-04-05T08:55:33.328577Z",
     "iopub.status.busy": "2021-04-05T08:55:33.326578Z",
     "iopub.status.idle": "2021-04-05T08:55:33.332575Z",
     "shell.execute_reply": "2021-04-05T08:55:33.333598Z"
    }
   },
   "outputs": [
    {
     "output_type": "execute_result",
     "data": {
      "text/plain": [
       "['Bangka-Belitung', 'Yogyakarta', 'Irian Jaya Barat', 'Jakarta Raya']"
      ]
     },
     "metadata": {},
     "execution_count": 171
    }
   ],
   "source": [
    "## ADJUST NAMES OF df_indo with NAMES OF GEOJSON ADM1_EN\n",
    "\n",
    "# which names are different\n",
    "names_df = df_indo['Location'].unique()\n",
    "provinces = []\n",
    "for province in indo_geo_id['features']:\n",
    "  provinces.append(province['properties']['state'])\n",
    "\n",
    "list(set(provinces) - set(names_df))"
   ]
  },
  {
   "cell_type": "code",
   "execution_count": 172,
   "metadata": {
    "execution": {
     "iopub.execute_input": "2021-04-05T08:55:33.340578Z",
     "iopub.status.busy": "2021-04-05T08:55:33.339576Z",
     "iopub.status.idle": "2021-04-05T08:55:33.342590Z",
     "shell.execute_reply": "2021-04-05T08:55:33.342590Z"
    }
   },
   "outputs": [],
   "source": [
    "list_df = ['DKI Jakarta', 'Kalimantan Utara', 'Daerah Istimewa Yogyakarta', 'Papua Barat','Kepulauan Bangka Belitung']\n",
    "\n",
    "list(set(provinces) - set(names_df))\n",
    "list1= ['Bangka-Belitung', 'Jakarta Raya', 'Yogyakarta', 'Irian Jaya Barat']\n"
   ]
  },
  {
   "cell_type": "code",
   "execution_count": 173,
   "metadata": {
    "execution": {
     "iopub.execute_input": "2021-04-05T08:55:33.349597Z",
     "iopub.status.busy": "2021-04-05T08:55:33.348603Z",
     "iopub.status.idle": "2021-04-05T08:55:33.382594Z",
     "shell.execute_reply": "2021-04-05T08:55:33.381597Z"
    }
   },
   "outputs": [],
   "source": [
    "# adjust Names of provnices in Indo\n",
    "\n",
    "df_indo = df_indo.replace(\"DKI Jakarta\", 'Jakarta Raya')\n",
    "df_indo = df_indo.replace(\"Papua Barat\", 'Irian Jaya Barat')\n",
    "df_indo = df_indo.replace(\"Daerah Istimewa Yogyakarta\", 'Yogyakarta')\n",
    "df_indo = df_indo.replace(\"Kepulauan Bangka Belitung\", 'Bangka-Belitung')"
   ]
  },
  {
   "cell_type": "code",
   "execution_count": 174,
   "metadata": {
    "execution": {
     "iopub.execute_input": "2021-04-05T08:55:33.389597Z",
     "iopub.status.busy": "2021-04-05T08:55:33.388576Z",
     "iopub.status.idle": "2021-04-05T08:55:33.392603Z",
     "shell.execute_reply": "2021-04-05T08:55:33.392603Z"
    }
   },
   "outputs": [
    {
     "output_type": "execute_result",
     "data": {
      "text/plain": [
       "Index(['Date', 'Location ISO Code', 'Location', 'new_cases', 'new_deaths',\n",
       "       'new_recovered', 'New Active Cases', 'total_cases', 'total_deaths',\n",
       "       'total_recovered', 'Total Active Cases', 'Location Level',\n",
       "       'City or Regency', 'Province', 'Country', 'Continent', 'Island',\n",
       "       'Time Zone', 'Special Status', 'Total Regencies', 'Total Cities',\n",
       "       'Total Districts', 'Total Urban Villages', 'Total Rural Villages',\n",
       "       'Area (km2)', 'Population', 'Population Density', 'Longitude',\n",
       "       'Latitude', 'New Cases per Million', 'Total Cases per Million',\n",
       "       'New Deaths per Million', 'Total Deaths per Million', 'CFR',\n",
       "       'Case Recovered Rate', 'Growth Factor of New Cases',\n",
       "       'Growth Factor of New Deaths'],\n",
       "      dtype='object')"
      ]
     },
     "metadata": {},
     "execution_count": 174
    }
   ],
   "source": [
    "df_indo.columns"
   ]
  },
  {
   "cell_type": "code",
   "execution_count": 175,
   "metadata": {
    "execution": {
     "iopub.execute_input": "2021-04-05T08:55:33.400576Z",
     "iopub.status.busy": "2021-04-05T08:55:33.399572Z",
     "iopub.status.idle": "2021-04-05T08:55:33.406597Z",
     "shell.execute_reply": "2021-04-05T08:55:33.406597Z"
    }
   },
   "outputs": [
    {
     "output_type": "execute_result",
     "data": {
      "text/plain": [
       "array(['Jakarta Raya', 'Indonesia', 'Jawa Barat', 'Riau', 'Banten',\n",
       "       'Sulawesi Tenggara', 'Kalimantan Timur', 'Yogyakarta',\n",
       "       'Sumatera Utara', 'Jawa Tengah', 'Jawa Timur', 'Sulawesi Selatan',\n",
       "       'Jambi', 'Maluku', 'Papua', 'Maluku Utara', 'Aceh',\n",
       "       'Kalimantan Tengah', 'Lampung', 'Sulawesi Tengah',\n",
       "       'Sumatera Barat', 'Irian Jaya Barat', 'Kalimantan Utara',\n",
       "       'Sulawesi Barat', 'Sumatera Selatan', 'Bali', 'Kalimantan Barat',\n",
       "       'Kalimantan Selatan', 'Bangka-Belitung', 'Kepulauan Riau',\n",
       "       'Bengkulu', 'Nusa Tenggara Barat', 'Sulawesi Utara',\n",
       "       'Nusa Tenggara Timur', 'Gorontalo'], dtype=object)"
      ]
     },
     "metadata": {},
     "execution_count": 175
    }
   ],
   "source": [
    "df_indo.Location.unique()"
   ]
  },
  {
   "cell_type": "code",
   "execution_count": 176,
   "metadata": {
    "execution": {
     "iopub.execute_input": "2021-04-05T08:55:33.457576Z",
     "iopub.status.busy": "2021-04-05T08:55:33.423606Z",
     "iopub.status.idle": "2021-04-05T08:55:33.462576Z",
     "shell.execute_reply": "2021-04-05T08:55:33.461588Z"
    }
   },
   "outputs": [
    {
     "output_type": "execute_result",
     "data": {
      "text/plain": [
       "            Date Location ISO Code           Location  new_cases  new_deaths  \\\n",
       "12914 2021-03-26             ID-YO         Yogyakarta        232           8   \n",
       "12915 2021-03-26             ID-GO          Gorontalo         21           0   \n",
       "12916 2021-03-26               IDN          Indonesia       4982          85   \n",
       "12917 2021-03-26             ID-JA              Jambi         15           2   \n",
       "12918 2021-03-26             ID-JB         Jawa Barat        855           1   \n",
       "...          ...               ...                ...        ...         ...   \n",
       "13009 2021-03-28             ID-SG  Sulawesi Tenggara          4           0   \n",
       "13010 2021-03-28             ID-SA     Sulawesi Utara          5           0   \n",
       "13011 2021-03-28             ID-SB     Sumatera Barat        106           2   \n",
       "13012 2021-03-28             ID-SS   Sumatera Selatan        101           3   \n",
       "13013 2021-03-28             ID-SU     Sumatera Utara         69           2   \n",
       "\n",
       "       new_recovered  New Active Cases  total_cases  total_deaths  \\\n",
       "12914            140                84        32544           778   \n",
       "12915             13                 8         5103           144   \n",
       "12916           5679              -782      1487541         40166   \n",
       "12917             10                 3         6034            93   \n",
       "12918           1495              -641       245778          3031   \n",
       "...              ...               ...          ...           ...   \n",
       "13009              1                 3        10249           205   \n",
       "13010              4                 1        15351           499   \n",
       "13011             74                30        31455           682   \n",
       "13012             77                21        17443           828   \n",
       "13013             37                30        27120           903   \n",
       "\n",
       "       total_recovered  ...  Latitude New Cases per Million  \\\n",
       "12914            26524  ... -7.894502                 63.89   \n",
       "12915             4784  ...  0.687003                 17.79   \n",
       "12916          1322878  ... -0.789275                 18.79   \n",
       "12917             4928  ... -1.697698                  4.29   \n",
       "12918           217531  ... -6.920432                 18.93   \n",
       "...                ...  ...       ...                   ...   \n",
       "13009             9593  ... -4.124689                  1.52   \n",
       "13010            12420  ...  1.259638                  1.89   \n",
       "13011            29611  ... -0.850253                 19.21   \n",
       "13012            15450  ... -3.216212                 12.29   \n",
       "13013            23714  ...  2.191894                  4.64   \n",
       "\n",
       "       Total Cases per Million New Deaths per Million  \\\n",
       "12914                  8962.78                   2.20   \n",
       "12915                  4322.19                   0.00   \n",
       "12916                  5609.44                   0.32   \n",
       "12917                  1727.28                   0.57   \n",
       "12918                  5442.22                   0.02   \n",
       "...                        ...                    ...   \n",
       "13009                  3888.88                   0.00   \n",
       "13010                  5810.63                   0.00   \n",
       "13011                  5699.15                   0.36   \n",
       "13012                  2122.65                   0.37   \n",
       "13013                  1823.21                   0.13   \n",
       "\n",
       "      Total Deaths per Million    CFR Case Recovered Rate  \\\n",
       "12914                   214.27  2.39%              81.50%   \n",
       "12915                   121.97  2.82%              93.75%   \n",
       "12916                   151.46  2.70%              88.93%   \n",
       "12917                    26.62  1.54%              81.67%   \n",
       "12918                    67.11  1.23%              88.51%   \n",
       "...                        ...    ...                 ...   \n",
       "13009                    77.79  2.00%              93.60%   \n",
       "13010                   188.88  3.25%              80.91%   \n",
       "13011                   123.57  2.17%              94.14%   \n",
       "13012                   100.76  4.75%              88.57%   \n",
       "13013                    60.71  3.33%              87.44%   \n",
       "\n",
       "      Growth Factor of New Cases Growth Factor of New Deaths  id  \n",
       "12914                       0.90                        8.00   3  \n",
       "12915                       3.00                        1.00  26  \n",
       "12916                       0.82                        0.87   0  \n",
       "12917                       0.31                         NaN  28  \n",
       "12918                       0.73                        0.08  29  \n",
       "...                          ...                         ...  ..  \n",
       "13009                       0.31                        0.00  23  \n",
       "13010                       0.26                        1.00  22  \n",
       "13011                       0.96                        2.00   2  \n",
       "13012                       1.20                        1.50  33  \n",
       "13013                       0.86                        0.67   4  \n",
       "\n",
       "[100 rows x 38 columns]"
      ],
      "text/html": "<div>\n<style scoped>\n    .dataframe tbody tr th:only-of-type {\n        vertical-align: middle;\n    }\n\n    .dataframe tbody tr th {\n        vertical-align: top;\n    }\n\n    .dataframe thead th {\n        text-align: right;\n    }\n</style>\n<table border=\"1\" class=\"dataframe\">\n  <thead>\n    <tr style=\"text-align: right;\">\n      <th></th>\n      <th>Date</th>\n      <th>Location ISO Code</th>\n      <th>Location</th>\n      <th>new_cases</th>\n      <th>new_deaths</th>\n      <th>new_recovered</th>\n      <th>New Active Cases</th>\n      <th>total_cases</th>\n      <th>total_deaths</th>\n      <th>total_recovered</th>\n      <th>...</th>\n      <th>Latitude</th>\n      <th>New Cases per Million</th>\n      <th>Total Cases per Million</th>\n      <th>New Deaths per Million</th>\n      <th>Total Deaths per Million</th>\n      <th>CFR</th>\n      <th>Case Recovered Rate</th>\n      <th>Growth Factor of New Cases</th>\n      <th>Growth Factor of New Deaths</th>\n      <th>id</th>\n    </tr>\n  </thead>\n  <tbody>\n    <tr>\n      <th>12914</th>\n      <td>2021-03-26</td>\n      <td>ID-YO</td>\n      <td>Yogyakarta</td>\n      <td>232</td>\n      <td>8</td>\n      <td>140</td>\n      <td>84</td>\n      <td>32544</td>\n      <td>778</td>\n      <td>26524</td>\n      <td>...</td>\n      <td>-7.894502</td>\n      <td>63.89</td>\n      <td>8962.78</td>\n      <td>2.20</td>\n      <td>214.27</td>\n      <td>2.39%</td>\n      <td>81.50%</td>\n      <td>0.90</td>\n      <td>8.00</td>\n      <td>3</td>\n    </tr>\n    <tr>\n      <th>12915</th>\n      <td>2021-03-26</td>\n      <td>ID-GO</td>\n      <td>Gorontalo</td>\n      <td>21</td>\n      <td>0</td>\n      <td>13</td>\n      <td>8</td>\n      <td>5103</td>\n      <td>144</td>\n      <td>4784</td>\n      <td>...</td>\n      <td>0.687003</td>\n      <td>17.79</td>\n      <td>4322.19</td>\n      <td>0.00</td>\n      <td>121.97</td>\n      <td>2.82%</td>\n      <td>93.75%</td>\n      <td>3.00</td>\n      <td>1.00</td>\n      <td>26</td>\n    </tr>\n    <tr>\n      <th>12916</th>\n      <td>2021-03-26</td>\n      <td>IDN</td>\n      <td>Indonesia</td>\n      <td>4982</td>\n      <td>85</td>\n      <td>5679</td>\n      <td>-782</td>\n      <td>1487541</td>\n      <td>40166</td>\n      <td>1322878</td>\n      <td>...</td>\n      <td>-0.789275</td>\n      <td>18.79</td>\n      <td>5609.44</td>\n      <td>0.32</td>\n      <td>151.46</td>\n      <td>2.70%</td>\n      <td>88.93%</td>\n      <td>0.82</td>\n      <td>0.87</td>\n      <td>0</td>\n    </tr>\n    <tr>\n      <th>12917</th>\n      <td>2021-03-26</td>\n      <td>ID-JA</td>\n      <td>Jambi</td>\n      <td>15</td>\n      <td>2</td>\n      <td>10</td>\n      <td>3</td>\n      <td>6034</td>\n      <td>93</td>\n      <td>4928</td>\n      <td>...</td>\n      <td>-1.697698</td>\n      <td>4.29</td>\n      <td>1727.28</td>\n      <td>0.57</td>\n      <td>26.62</td>\n      <td>1.54%</td>\n      <td>81.67%</td>\n      <td>0.31</td>\n      <td>NaN</td>\n      <td>28</td>\n    </tr>\n    <tr>\n      <th>12918</th>\n      <td>2021-03-26</td>\n      <td>ID-JB</td>\n      <td>Jawa Barat</td>\n      <td>855</td>\n      <td>1</td>\n      <td>1495</td>\n      <td>-641</td>\n      <td>245778</td>\n      <td>3031</td>\n      <td>217531</td>\n      <td>...</td>\n      <td>-6.920432</td>\n      <td>18.93</td>\n      <td>5442.22</td>\n      <td>0.02</td>\n      <td>67.11</td>\n      <td>1.23%</td>\n      <td>88.51%</td>\n      <td>0.73</td>\n      <td>0.08</td>\n      <td>29</td>\n    </tr>\n    <tr>\n      <th>...</th>\n      <td>...</td>\n      <td>...</td>\n      <td>...</td>\n      <td>...</td>\n      <td>...</td>\n      <td>...</td>\n      <td>...</td>\n      <td>...</td>\n      <td>...</td>\n      <td>...</td>\n      <td>...</td>\n      <td>...</td>\n      <td>...</td>\n      <td>...</td>\n      <td>...</td>\n      <td>...</td>\n      <td>...</td>\n      <td>...</td>\n      <td>...</td>\n      <td>...</td>\n      <td>...</td>\n    </tr>\n    <tr>\n      <th>13009</th>\n      <td>2021-03-28</td>\n      <td>ID-SG</td>\n      <td>Sulawesi Tenggara</td>\n      <td>4</td>\n      <td>0</td>\n      <td>1</td>\n      <td>3</td>\n      <td>10249</td>\n      <td>205</td>\n      <td>9593</td>\n      <td>...</td>\n      <td>-4.124689</td>\n      <td>1.52</td>\n      <td>3888.88</td>\n      <td>0.00</td>\n      <td>77.79</td>\n      <td>2.00%</td>\n      <td>93.60%</td>\n      <td>0.31</td>\n      <td>0.00</td>\n      <td>23</td>\n    </tr>\n    <tr>\n      <th>13010</th>\n      <td>2021-03-28</td>\n      <td>ID-SA</td>\n      <td>Sulawesi Utara</td>\n      <td>5</td>\n      <td>0</td>\n      <td>4</td>\n      <td>1</td>\n      <td>15351</td>\n      <td>499</td>\n      <td>12420</td>\n      <td>...</td>\n      <td>1.259638</td>\n      <td>1.89</td>\n      <td>5810.63</td>\n      <td>0.00</td>\n      <td>188.88</td>\n      <td>3.25%</td>\n      <td>80.91%</td>\n      <td>0.26</td>\n      <td>1.00</td>\n      <td>22</td>\n    </tr>\n    <tr>\n      <th>13011</th>\n      <td>2021-03-28</td>\n      <td>ID-SB</td>\n      <td>Sumatera Barat</td>\n      <td>106</td>\n      <td>2</td>\n      <td>74</td>\n      <td>30</td>\n      <td>31455</td>\n      <td>682</td>\n      <td>29611</td>\n      <td>...</td>\n      <td>-0.850253</td>\n      <td>19.21</td>\n      <td>5699.15</td>\n      <td>0.36</td>\n      <td>123.57</td>\n      <td>2.17%</td>\n      <td>94.14%</td>\n      <td>0.96</td>\n      <td>2.00</td>\n      <td>2</td>\n    </tr>\n    <tr>\n      <th>13012</th>\n      <td>2021-03-28</td>\n      <td>ID-SS</td>\n      <td>Sumatera Selatan</td>\n      <td>101</td>\n      <td>3</td>\n      <td>77</td>\n      <td>21</td>\n      <td>17443</td>\n      <td>828</td>\n      <td>15450</td>\n      <td>...</td>\n      <td>-3.216212</td>\n      <td>12.29</td>\n      <td>2122.65</td>\n      <td>0.37</td>\n      <td>100.76</td>\n      <td>4.75%</td>\n      <td>88.57%</td>\n      <td>1.20</td>\n      <td>1.50</td>\n      <td>33</td>\n    </tr>\n    <tr>\n      <th>13013</th>\n      <td>2021-03-28</td>\n      <td>ID-SU</td>\n      <td>Sumatera Utara</td>\n      <td>69</td>\n      <td>2</td>\n      <td>37</td>\n      <td>30</td>\n      <td>27120</td>\n      <td>903</td>\n      <td>23714</td>\n      <td>...</td>\n      <td>2.191894</td>\n      <td>4.64</td>\n      <td>1823.21</td>\n      <td>0.13</td>\n      <td>60.71</td>\n      <td>3.33%</td>\n      <td>87.44%</td>\n      <td>0.86</td>\n      <td>0.67</td>\n      <td>4</td>\n    </tr>\n  </tbody>\n</table>\n<p>100 rows × 38 columns</p>\n</div>"
     },
     "metadata": {},
     "execution_count": 176
    }
   ],
   "source": [
    "provinces = []\n",
    "for province in indo_geo_id['features']:\n",
    "  provinces.append(province['properties']['state'])\n",
    "\n",
    "# add id column in df with feature.id from geojson\n",
    "indo_id_map = {}\n",
    "for province in indo_geo_id['features']:\n",
    "  indo_id_map[province['properties']['state']] = province['id']\n",
    "# indo_id_map\n",
    "\n",
    "# ## for Foreigners or Other Regency add 'id' = 0\n",
    "df_indo['id'] = df_indo['Location'].apply(lambda x: indo_id_map[x] if x in indo_id_map else 0)\n",
    "\n",
    "df_indo.tail(100)\n"
   ]
  },
  {
   "source": [
    "## KawalCovid19 Data\n",
    "\n",
    "## get latest Province Data from \n",
    "https://docs.google.com/spreadsheets/d/1ma1T9hWbec1pXlwZ89WakRk-OfVUQZsOCFl4FwZxzVw/edit#gid=2052139453\n",
    "\n",
    "* process and clean\n",
    "* merge with df_indo\n",
    "* update daily\n"
   ],
   "cell_type": "markdown",
   "metadata": {}
  },
  {
   "cell_type": "code",
   "execution_count": 177,
   "metadata": {},
   "outputs": [],
   "source": [
    "df = pd.read_excel('kawalcovid19.xlsx', sheet_name=\"Timeline\")\n"
   ]
  },
  {
   "cell_type": "code",
   "execution_count": 178,
   "metadata": {},
   "outputs": [],
   "source": [
    "# df.head()"
   ]
  },
  {
   "cell_type": "code",
   "execution_count": 179,
   "metadata": {},
   "outputs": [],
   "source": [
    "## transform excel sheet to timeseries table (columns: Data, Province, total_cases, daily_cases, active_cases etc.)\n",
    "case_type = ['Total Kasus', 'Kasus Harian', 'Kasus Aktif', 'Sembuh', 'Sembuh Harian', 'Meninggal Dunia', 'Meninggal Dunia Harian', 'Meninggal Dunia Harian']"
   ]
  },
  {
   "cell_type": "code",
   "execution_count": 180,
   "metadata": {},
   "outputs": [],
   "source": [
    "# extract df for each case-type\n",
    "##################################\n",
    "\n",
    "# replace all NaN with 0\n",
    "# delete empty rows\n",
    "# adjust header\n",
    "# extract for each Province, add Province Name and merge, and sort by date\n",
    "\n",
    "df_totalKasus = df.iloc[:df.loc[df['Total Kasus'].str.contains('Kasus Harian', na=False)].index[0]]\n",
    "df_totalKasus = df_totalKasus.rename(columns={'Total Kasus': \"Date\"})\n",
    "df_totalKasus= df_totalKasus.fillna(0)\n",
    "df_totalKasus.set_index('Date', inplace=True)\n",
    "df_totalKasus= df_totalKasus[:-1]\n",
    "df_totalKasus = df_totalKasus.drop(['?', 'Unnamed: 36'], axis=1)\n",
    "\n",
    "df_kasusHarian = df.iloc[df.loc[df['Total Kasus'].str.contains('Kasus Harian', na=False)].index[0]:df.loc[df['Total Kasus'].str.contains('Kasus Aktif', na=False)].index[0]]\n",
    "df_kasusHarian = df_kasusHarian.rename(columns={'Total Kasus': \"Date\"})\n",
    "df_kasusHarian= df_kasusHarian.fillna(0)\n",
    "df_kasusHarian.set_index('Date', inplace=True)\n",
    "df_kasusHarian= df_kasusHarian[1:-1]\n",
    "df_kasusHarian = df_kasusHarian.drop(['?', 'Unnamed: 36'], axis=1)\n",
    "\n",
    "df_kasusAktif = df.iloc[df.loc[df['Total Kasus'].str.contains('Kasus Aktif', na=False)].index[0]:df.loc[df['Total Kasus'].str.contains('Sembuh', na=False)].index[0]]\n",
    "df_kasusAktif = df_kasusAktif.rename(columns={'Total Kasus': \"Date\"})\n",
    "df_kasusAktif= df_kasusAktif.fillna(0)\n",
    "df_kasusAktif.set_index('Date', inplace=True)\n",
    "df_kasusAktif= df_kasusAktif[1:-1]\n",
    "df_kasusAktif = df_kasusAktif.drop(['?', 'Unnamed: 36'], axis=1)\n",
    "\n",
    "df_sembuh = df.iloc[df.loc[df['Total Kasus'].str.contains('Sembuh', na=False)].index[0]:df.loc[df['Total Kasus'].str.contains('Sembuh Harian', na=False)].index[0]]\n",
    "df_sembuh = df_sembuh.rename(columns={'Total Kasus': \"Date\"})\n",
    "df_sembuh= df_sembuh.fillna(0)\n",
    "df_sembuh.set_index('Date', inplace=True)\n",
    "df_sembuh= df_sembuh[1:-1]\n",
    "df_sembuh = df_sembuh.drop(['?', 'Unnamed: 36'], axis=1)\n",
    "\n",
    "df_sembuhHarian = df.iloc[df.loc[df['Total Kasus'].str.contains('Sembuh Harian', na=False)].index[0]:df.loc[df['Total Kasus'].str.contains('Meninggal Dunia', na=False)].index[0]]\n",
    "df_sembuhHarian = df_sembuhHarian.rename(columns={'Total Kasus': \"Date\"})\n",
    "df_sembuhHarian= df_sembuhHarian.fillna(0)\n",
    "df_sembuhHarian.set_index('Date', inplace=True)\n",
    "df_sembuhHarian= df_sembuhHarian[1:-1]\n",
    "df_sembuhHarian = df_sembuhHarian.drop(['?', 'Unnamed: 36'], axis=1)\n",
    "\n",
    "df_meninggalDunia = df.iloc[df.loc[df['Total Kasus'].str.contains('Meninggal Dunia', na=False)].index[0]:df.loc[df['Total Kasus'].str.contains('Meninggal Dunia Harian', na=False)].index[0]]\n",
    "df_meninggalDunia = df_meninggalDunia.rename(columns={'Total Kasus': \"Date\"})\n",
    "df_meninggalDunia= df_meninggalDunia.fillna(0)\n",
    "df_meninggalDunia.set_index('Date', inplace=True)\n",
    "df_meninggalDunia= df_meninggalDunia[1:-1]\n",
    "df_meninggalDunia = df_meninggalDunia.drop(['?', 'Unnamed: 36'], axis=1)\n",
    "\n",
    "df_meninggalDuniaHarian = df.iloc[df.loc[df['Total Kasus'].str.contains('Meninggal Dunia Harian', na=False)].index[0]:df.loc[df['Total Kasus'].str.contains('Meninggal Dunia Harian', na=False)].index[1]]\n",
    "df_meninggalDuniaHarian = df_meninggalDuniaHarian.rename(columns={'Total Kasus': \"Date\"})\n",
    "df_meninggalDuniaHarian= df_meninggalDuniaHarian.fillna(0)\n",
    "df_meninggalDuniaHarian.set_index('Date', inplace=True)\n",
    "df_meninggalDuniaHarian= df_meninggalDuniaHarian[1:-3]\n",
    "df_meninggalDuniaHarian = df_meninggalDuniaHarian.drop(['?', 'Unnamed: 36'], axis=1)\n",
    "\n",
    "dfs = [df_totalKasus, df_kasusHarian, df_kasusAktif, df_sembuh, df_sembuhHarian, df_meninggalDunia, df_meninggalDuniaHarian]\n",
    "dfs_names = [\"df_totalKasus\", \"df_kasusHarian\", \"df_kasusAktif\", \"df_sembuh\",\"df_sembuhHarian\", \"df_meninggalDunia\", \"df_meninggalDuniaHarian\"]\n",
    "dfs_type = [\"totalKasus\", \"kasusHarian\", \"kasusAktif\", \"sembuh\",\"sembuhHarian\", \"meninggalDunia\", \"meninggalDuniaHarian\"]"
   ]
  },
  {
   "cell_type": "code",
   "execution_count": 181,
   "metadata": {},
   "outputs": [
    {
     "output_type": "execute_result",
     "data": {
      "text/plain": [
       "Index(['Aceh', 'Bali', 'Banten', 'Babel', 'Bengkulu', 'DIY', 'Jakarta',\n",
       "       'Jambi', 'Jabar', 'Jateng', 'Jatim', 'Kalbar', 'Kaltim', 'Kalteng',\n",
       "       'Kalsel', 'Kaltara', 'Kep Riau', 'NTB', 'Sumsel', 'Sumbar', 'Sulut',\n",
       "       'Sumut', 'Sultra', 'Sulsel', 'Sulteng', 'Lampung', 'Riau', 'Malut',\n",
       "       'Maluku', 'Papbar', 'Papua', 'Sulbar', 'NTT', 'Gorontalo'],\n",
       "      dtype='object')"
      ]
     },
     "metadata": {},
     "execution_count": 181
    }
   ],
   "source": [
    "column_names = df_totalKasus.columns\n",
    "column_names"
   ]
  },
  {
   "cell_type": "code",
   "execution_count": 182,
   "metadata": {},
   "outputs": [],
   "source": [
    "## First Dataframe - Total Cases per Province\n",
    "\n",
    "df_totKasus = pd.DataFrame({'Province': [0], \"Total Kasus\":[0]})\n",
    "for i, province in enumerate(column_names):\n",
    "    case_numbers = df_totalKasus[province]\n",
    "    df_x = pd.DataFrame({'Province': case_numbers, \"Total Kasus\": case_numbers })\n",
    "    df_x[\"Province\"] = column_names[i]\n",
    "    # df_x['Total Kasus'] = df_totalKasus[province]\n",
    "    if i == 0:\n",
    "        df_totKasus = df_x\n",
    "    else:\n",
    "        df_totKasus = df_totKasus.append(df_x)"
   ]
  },
  {
   "cell_type": "code",
   "execution_count": 183,
   "metadata": {},
   "outputs": [
    {
     "output_type": "stream",
     "name": "stdout",
     "text": [
      "(13192, 2)\n"
     ]
    },
    {
     "output_type": "execute_result",
     "data": {
      "text/plain": [
       "        Date Province  Total Kasus\n",
       "0 2020-03-18     Aceh            0\n",
       "1 2020-03-19     Aceh            0\n",
       "2 2020-03-20     Aceh            0\n",
       "3 2020-03-21     Aceh            0\n",
       "4 2020-03-22     Aceh            0"
      ],
      "text/html": "<div>\n<style scoped>\n    .dataframe tbody tr th:only-of-type {\n        vertical-align: middle;\n    }\n\n    .dataframe tbody tr th {\n        vertical-align: top;\n    }\n\n    .dataframe thead th {\n        text-align: right;\n    }\n</style>\n<table border=\"1\" class=\"dataframe\">\n  <thead>\n    <tr style=\"text-align: right;\">\n      <th></th>\n      <th>Date</th>\n      <th>Province</th>\n      <th>Total Kasus</th>\n    </tr>\n  </thead>\n  <tbody>\n    <tr>\n      <th>0</th>\n      <td>2020-03-18</td>\n      <td>Aceh</td>\n      <td>0</td>\n    </tr>\n    <tr>\n      <th>1</th>\n      <td>2020-03-19</td>\n      <td>Aceh</td>\n      <td>0</td>\n    </tr>\n    <tr>\n      <th>2</th>\n      <td>2020-03-20</td>\n      <td>Aceh</td>\n      <td>0</td>\n    </tr>\n    <tr>\n      <th>3</th>\n      <td>2020-03-21</td>\n      <td>Aceh</td>\n      <td>0</td>\n    </tr>\n    <tr>\n      <th>4</th>\n      <td>2020-03-22</td>\n      <td>Aceh</td>\n      <td>0</td>\n    </tr>\n  </tbody>\n</table>\n</div>"
     },
     "metadata": {},
     "execution_count": 183
    }
   ],
   "source": [
    "print(df_totKasus.shape)\n",
    "df_totKasus1 = df_totKasus.reset_index()\n",
    "df_totKasus1.head()"
   ]
  },
  {
   "cell_type": "code",
   "execution_count": 184,
   "metadata": {},
   "outputs": [],
   "source": [
    "## since memory error split dataframes (only with join)\n",
    "## learning: if not merge on index -> use .merge() 2) reset_index() get datetime out of index first\n",
    "\n",
    "dfs1 =dfs[1:]\n",
    "df_total = pd.DataFrame({\"Date\": [0], 'Province': [0], dfs_type[0]:[0]})\n",
    "\n",
    "for index, df in enumerate(dfs1):\n",
    "    count = index + 1\n",
    "    df_name = dfs_names[index+1]+'Clean'\n",
    "    df_name = pd.DataFrame({\"Date\": [0], 'Province': [0], dfs_type[count]:[0]})\n",
    "    for i, province in enumerate(column_names):\n",
    "        case_numbers = df[province]\n",
    "        df_x = pd.DataFrame({'Province': case_numbers, dfs_type[count]: case_numbers })\n",
    "        df_x[\"Province\"] = column_names[i]\n",
    "        if i == 0:\n",
    "            df_name = df_x\n",
    "        else:\n",
    "            df_name = df_name.append(df_x)\n",
    "\n",
    "    df_name = df_name.reset_index()\n",
    "    if index == 0:\n",
    "        df_total = df_name\n",
    "    else:\n",
    "        df_total = pd.merge(df_total, df_name, on=['Date', 'Province'])   "
   ]
  },
  {
   "cell_type": "code",
   "execution_count": 185,
   "metadata": {},
   "outputs": [
    {
     "output_type": "stream",
     "name": "stdout",
     "text": [
      "2020-03-21 00:00:00\n"
     ]
    },
    {
     "output_type": "execute_result",
     "data": {
      "text/plain": [
       "            Date Province kasusHarian kasusAktif sembuh sembuhHarian  \\\n",
       "0     2020-03-21     Aceh           0          0      0            0   \n",
       "5348  2020-03-21   Kalsel           0          0      0            0   \n",
       "6494  2020-03-21      NTB           0          0      0            0   \n",
       "11460 2020-03-21    Papua           0          0      0            0   \n",
       "11842 2020-03-21   Sulbar           0          0      0            0   \n",
       "\n",
       "      meninggalDunia meninggalDuniaHarian  \n",
       "0                  0                    0  \n",
       "5348               0                    0  \n",
       "6494               0                    0  \n",
       "11460              0                    0  \n",
       "11842              0                    0  "
      ],
      "text/html": "<div>\n<style scoped>\n    .dataframe tbody tr th:only-of-type {\n        vertical-align: middle;\n    }\n\n    .dataframe tbody tr th {\n        vertical-align: top;\n    }\n\n    .dataframe thead th {\n        text-align: right;\n    }\n</style>\n<table border=\"1\" class=\"dataframe\">\n  <thead>\n    <tr style=\"text-align: right;\">\n      <th></th>\n      <th>Date</th>\n      <th>Province</th>\n      <th>kasusHarian</th>\n      <th>kasusAktif</th>\n      <th>sembuh</th>\n      <th>sembuhHarian</th>\n      <th>meninggalDunia</th>\n      <th>meninggalDuniaHarian</th>\n    </tr>\n  </thead>\n  <tbody>\n    <tr>\n      <th>0</th>\n      <td>2020-03-21</td>\n      <td>Aceh</td>\n      <td>0</td>\n      <td>0</td>\n      <td>0</td>\n      <td>0</td>\n      <td>0</td>\n      <td>0</td>\n    </tr>\n    <tr>\n      <th>5348</th>\n      <td>2020-03-21</td>\n      <td>Kalsel</td>\n      <td>0</td>\n      <td>0</td>\n      <td>0</td>\n      <td>0</td>\n      <td>0</td>\n      <td>0</td>\n    </tr>\n    <tr>\n      <th>6494</th>\n      <td>2020-03-21</td>\n      <td>NTB</td>\n      <td>0</td>\n      <td>0</td>\n      <td>0</td>\n      <td>0</td>\n      <td>0</td>\n      <td>0</td>\n    </tr>\n    <tr>\n      <th>11460</th>\n      <td>2020-03-21</td>\n      <td>Papua</td>\n      <td>0</td>\n      <td>0</td>\n      <td>0</td>\n      <td>0</td>\n      <td>0</td>\n      <td>0</td>\n    </tr>\n    <tr>\n      <th>11842</th>\n      <td>2020-03-21</td>\n      <td>Sulbar</td>\n      <td>0</td>\n      <td>0</td>\n      <td>0</td>\n      <td>0</td>\n      <td>0</td>\n      <td>0</td>\n    </tr>\n  </tbody>\n</table>\n</div>"
     },
     "metadata": {},
     "execution_count": 185
    }
   ],
   "source": [
    "## sort_dates\n",
    "# check if datetime format correct\n",
    "print(df_total['Date'].iloc[0])\n",
    "df_total = df_total.sort_values(by=\"Date\")\n",
    "df_total.head()"
   ]
  },
  {
   "cell_type": "code",
   "execution_count": 186,
   "metadata": {},
   "outputs": [
    {
     "output_type": "execute_result",
     "data": {
      "text/plain": [
       "            Date   Province kasusHarian kasusAktif sembuh sembuhHarian  \\\n",
       "12983 2021-04-07     Maluku           6        359   6921           24   \n",
       "12984 2021-04-07     Papbar          26        412   7900           26   \n",
       "12985 2021-04-07      Papua          60       9084  10500           20   \n",
       "12986 2021-04-07    Kaltara           6       1484   9640           38   \n",
       "12987 2021-04-07  Gorontalo          16        202   4873            4   \n",
       "\n",
       "      meninggalDunia meninggalDuniaHarian  Total Kasus  \n",
       "12983            112                    0         7392  \n",
       "12984            140                    3         8452  \n",
       "12985            204                    0        19788  \n",
       "12986            178                    1        11302  \n",
       "12987            150                    0         5225  "
      ],
      "text/html": "<div>\n<style scoped>\n    .dataframe tbody tr th:only-of-type {\n        vertical-align: middle;\n    }\n\n    .dataframe tbody tr th {\n        vertical-align: top;\n    }\n\n    .dataframe thead th {\n        text-align: right;\n    }\n</style>\n<table border=\"1\" class=\"dataframe\">\n  <thead>\n    <tr style=\"text-align: right;\">\n      <th></th>\n      <th>Date</th>\n      <th>Province</th>\n      <th>kasusHarian</th>\n      <th>kasusAktif</th>\n      <th>sembuh</th>\n      <th>sembuhHarian</th>\n      <th>meninggalDunia</th>\n      <th>meninggalDuniaHarian</th>\n      <th>Total Kasus</th>\n    </tr>\n  </thead>\n  <tbody>\n    <tr>\n      <th>12983</th>\n      <td>2021-04-07</td>\n      <td>Maluku</td>\n      <td>6</td>\n      <td>359</td>\n      <td>6921</td>\n      <td>24</td>\n      <td>112</td>\n      <td>0</td>\n      <td>7392</td>\n    </tr>\n    <tr>\n      <th>12984</th>\n      <td>2021-04-07</td>\n      <td>Papbar</td>\n      <td>26</td>\n      <td>412</td>\n      <td>7900</td>\n      <td>26</td>\n      <td>140</td>\n      <td>3</td>\n      <td>8452</td>\n    </tr>\n    <tr>\n      <th>12985</th>\n      <td>2021-04-07</td>\n      <td>Papua</td>\n      <td>60</td>\n      <td>9084</td>\n      <td>10500</td>\n      <td>20</td>\n      <td>204</td>\n      <td>0</td>\n      <td>19788</td>\n    </tr>\n    <tr>\n      <th>12986</th>\n      <td>2021-04-07</td>\n      <td>Kaltara</td>\n      <td>6</td>\n      <td>1484</td>\n      <td>9640</td>\n      <td>38</td>\n      <td>178</td>\n      <td>1</td>\n      <td>11302</td>\n    </tr>\n    <tr>\n      <th>12987</th>\n      <td>2021-04-07</td>\n      <td>Gorontalo</td>\n      <td>16</td>\n      <td>202</td>\n      <td>4873</td>\n      <td>4</td>\n      <td>150</td>\n      <td>0</td>\n      <td>5225</td>\n    </tr>\n  </tbody>\n</table>\n</div>"
     },
     "metadata": {},
     "execution_count": 186
    }
   ],
   "source": [
    "# merge with total Kasus df from before\n",
    "df_total = pd.merge(df_total, df_totKasus1, on=['Date', 'Province'])\n",
    "df_total.tail() "
   ]
  },
  {
   "cell_type": "code",
   "execution_count": 187,
   "metadata": {},
   "outputs": [
    {
     "output_type": "execute_result",
     "data": {
      "text/plain": [
       "array(['Aceh', 'Kalsel', 'NTB', 'Papua', 'Sulbar', 'Bali', 'Kalteng',\n",
       "       'Sumsel', 'Papbar', 'Banten', 'Kaltim', 'Sumbar', 'Kalbar',\n",
       "       'Maluku', 'NTT', 'Kep Riau', 'Sulut', 'Jatim', 'Gorontalo',\n",
       "       'Sumut', 'Malut', 'Bengkulu', 'Jateng', 'Sultra', 'Jabar',\n",
       "       'Sulsel', 'Riau', 'DIY', 'Jambi', 'Sulteng', 'Lampung', 'Babel',\n",
       "       'Kaltara', 'Jakarta'], dtype=object)"
      ]
     },
     "metadata": {},
     "execution_count": 187
    }
   ],
   "source": [
    "# adjust Province Names\n",
    "df_total['Province'].unique()"
   ]
  },
  {
   "cell_type": "code",
   "execution_count": 188,
   "metadata": {},
   "outputs": [],
   "source": [
    "# adjust Province Names\n",
    "indo_slang_prov_names = ['Aceh', 'Bali', 'Maluku', 'Sulbar', 'Malut', 'Banten', 'Riau',\n",
    "       'Lampung', 'Babel', 'Sulteng', 'Sulsel', 'Bengkulu', 'Sultra',\n",
    "       'Sumut', 'DIY', 'Papbar', 'Sulut', 'NTT', 'Jakarta', 'Sumsel',\n",
    "       'NTB', 'Jambi', 'Kep Riau', 'Jabar', 'Kaltara', 'Kalsel',\n",
    "       'Gorontalo', 'Jateng', 'Kalteng', 'Kaltim', 'Jatim', 'Sumbar',\n",
    "       'Papua', 'Kalbar']\n",
    "\n",
    "# from previous Indo-province dataset\n",
    "correct_prov_names = ['Jakarta Raya', 'Indonesia', 'Jawa Barat', 'Riau', 'Banten',\n",
    "       'Sulawesi Tenggara', 'Kalimantan Timur', 'Yogyakarta',\n",
    "       'Sumatera Utara', 'Jawa Tengah', 'Jawa Timur', 'Sulawesi Selatan',\n",
    "       'Maluku', 'Papua', 'Maluku Utara', 'Aceh', 'Kalimantan Tengah',\n",
    "       'Lampung', 'Sulawesi Tengah', 'Sumatera Barat', 'Irian Jaya Barat',\n",
    "       'Kalimantan Utara', 'Sulawesi Barat', 'Sumatera Selatan', 'Bali',\n",
    "       'Kalimantan Barat', 'Jambi', 'Kalimantan Selatan',\n",
    "       'Bangka-Belitung', 'Kepulauan Riau', 'Bengkulu',\n",
    "       'Nusa Tenggara Barat', 'Nusa Tenggara Timur',\n",
    "       'Gorontalo']\n"
   ]
  },
  {
   "cell_type": "code",
   "execution_count": 189,
   "metadata": {},
   "outputs": [
    {
     "output_type": "stream",
     "name": "stdout",
     "text": [
      "['Sumbar', 'Kep Riau', 'Papbar', 'DIY', 'Jakarta', 'Sulteng', 'Jabar', 'Malut', 'Kaltara', 'NTB', 'Sulsel', 'Kaltim', 'Sumsel', 'Kalteng', 'Sumut', 'Kalsel', 'Sultra', 'Sulbar', 'Sulut', 'Kalbar', 'Jateng', 'NTT', 'Babel', 'Jatim']\n"
     ]
    }
   ],
   "source": [
    "\n",
    "print(list(set(indo_slang_prov_names) - set(correct_prov_names)))\n",
    "\n",
    "# adjust column names\n",
    "df_total = df_total.replace({\n",
    "    'Sultra': 'Sulawesi Utara',\n",
    "    \"Jakarta\": 'Jakarta Raya',\n",
    "    \"Kalteng\": 'Kalimantan Tengah',\n",
    "    'Sulsel': 'Sulawesi Selatan',\n",
    "    'Sulut': 'Sulawesi Utara',\n",
    "    'Kaltim': \"Kalimantan Timur\", 'Kalsel': 'Kalimantan Selatan','Malut': 'Maluku Utara','Sumsel': 'Sumatera Barat','NTT': 'Nusa Tenggara Timur','Kalbar': 'Kalimantan Barat','Jateng': 'Jawa Tengah','Kep Riau': 'Kepulauan Riau','Kaltara': 'Kalimantan Utara','Sulbar': 'Sulawesi Barat','Babel': 'Bangka-Belitung','Jatim': \"Jawa Timur\",'Sumbar': 'Sumatera Barat',\"Sumut\": 'Sumatera Utara','Jabar': 'Jawa Barat','NTB': 'Nusa Tenggara Barat','DIY': 'Yogyakarta','Sulteng': 'Sulawesi Tengah','Papbar': 'Papua','Jakarta': 'Jakarta Raya'})\n"
   ]
  },
  {
   "cell_type": "code",
   "execution_count": 190,
   "metadata": {},
   "outputs": [
    {
     "output_type": "execute_result",
     "data": {
      "text/plain": [
       "Index(['Date', 'Province', 'kasusHarian', 'kasusAktif', 'sembuh',\n",
       "       'sembuhHarian', 'meninggalDunia', 'meninggalDuniaHarian',\n",
       "       'Total Kasus'],\n",
       "      dtype='object')"
      ]
     },
     "metadata": {},
     "execution_count": 190
    }
   ],
   "source": [
    "df_total.columns"
   ]
  },
  {
   "cell_type": "code",
   "execution_count": 191,
   "metadata": {},
   "outputs": [
    {
     "output_type": "execute_result",
     "data": {
      "text/plain": [
       "            Date          Province  new_cases  active_cases  total_recovered  \\\n",
       "12983 2021-04-07            Maluku          6           359             6921   \n",
       "12984 2021-04-07             Papua         26           412             7900   \n",
       "12985 2021-04-07             Papua         60          9084            10500   \n",
       "12986 2021-04-07  Kalimantan Utara          6          1484             9640   \n",
       "12987 2021-04-07         Gorontalo         16           202             4873   \n",
       "\n",
       "       new_recovered  total_deaths  new_deaths  total_cases  \n",
       "12983             24           112           0         7392  \n",
       "12984             26           140           3         8452  \n",
       "12985             20           204           0        19788  \n",
       "12986             38           178           1        11302  \n",
       "12987              4           150           0         5225  "
      ],
      "text/html": "<div>\n<style scoped>\n    .dataframe tbody tr th:only-of-type {\n        vertical-align: middle;\n    }\n\n    .dataframe tbody tr th {\n        vertical-align: top;\n    }\n\n    .dataframe thead th {\n        text-align: right;\n    }\n</style>\n<table border=\"1\" class=\"dataframe\">\n  <thead>\n    <tr style=\"text-align: right;\">\n      <th></th>\n      <th>Date</th>\n      <th>Province</th>\n      <th>new_cases</th>\n      <th>active_cases</th>\n      <th>total_recovered</th>\n      <th>new_recovered</th>\n      <th>total_deaths</th>\n      <th>new_deaths</th>\n      <th>total_cases</th>\n    </tr>\n  </thead>\n  <tbody>\n    <tr>\n      <th>12983</th>\n      <td>2021-04-07</td>\n      <td>Maluku</td>\n      <td>6</td>\n      <td>359</td>\n      <td>6921</td>\n      <td>24</td>\n      <td>112</td>\n      <td>0</td>\n      <td>7392</td>\n    </tr>\n    <tr>\n      <th>12984</th>\n      <td>2021-04-07</td>\n      <td>Papua</td>\n      <td>26</td>\n      <td>412</td>\n      <td>7900</td>\n      <td>26</td>\n      <td>140</td>\n      <td>3</td>\n      <td>8452</td>\n    </tr>\n    <tr>\n      <th>12985</th>\n      <td>2021-04-07</td>\n      <td>Papua</td>\n      <td>60</td>\n      <td>9084</td>\n      <td>10500</td>\n      <td>20</td>\n      <td>204</td>\n      <td>0</td>\n      <td>19788</td>\n    </tr>\n    <tr>\n      <th>12986</th>\n      <td>2021-04-07</td>\n      <td>Kalimantan Utara</td>\n      <td>6</td>\n      <td>1484</td>\n      <td>9640</td>\n      <td>38</td>\n      <td>178</td>\n      <td>1</td>\n      <td>11302</td>\n    </tr>\n    <tr>\n      <th>12987</th>\n      <td>2021-04-07</td>\n      <td>Gorontalo</td>\n      <td>16</td>\n      <td>202</td>\n      <td>4873</td>\n      <td>4</td>\n      <td>150</td>\n      <td>0</td>\n      <td>5225</td>\n    </tr>\n  </tbody>\n</table>\n</div>"
     },
     "metadata": {},
     "execution_count": 191
    }
   ],
   "source": [
    "#adjust column names\n",
    "new_col_names = ['Date', 'Province', 'new_cases', 'active_cases', 'total_recovered', 'new_recovered', 'total_deaths', 'new_deaths', 'total_cases']\n",
    "df_total.columns = new_col_names\n",
    "df_total.tail()"
   ]
  },
  {
   "cell_type": "code",
   "execution_count": 192,
   "metadata": {},
   "outputs": [
    {
     "output_type": "execute_result",
     "data": {
      "text/plain": [
       "                Location Location Level  City or Regency    Country Continent  \\\n",
       "13009  Sulawesi Tenggara       Province              NaN  Indonesia      Asia   \n",
       "13010     Sulawesi Utara       Province              NaN  Indonesia      Asia   \n",
       "13011     Sumatera Barat       Province              NaN  Indonesia      Asia   \n",
       "13012   Sumatera Selatan       Province              NaN  Indonesia      Asia   \n",
       "13013     Sumatera Utara       Province              NaN  Indonesia      Asia   \n",
       "\n",
       "         Island  Time Zone Special Status  Total Regencies  Total Cities  \\\n",
       "13009  Sulawesi  UTC+08:00            NaN               15           2.0   \n",
       "13010  Sulawesi  UTC+08:00            NaN               11           4.0   \n",
       "13011  Sumatera  UTC+07:00            NaN               12           7.0   \n",
       "13012  Sumatera  UTC+07:00            NaN               13           4.0   \n",
       "13013  Sumatera  UTC+07:00            NaN               25           8.0   \n",
       "\n",
       "       Total Districts  Total Urban Villages  Total Rural Villages  \\\n",
       "13009              219                 377.0                1911.0   \n",
       "13010              171                 332.0                1507.0   \n",
       "13011              179                 230.0                 928.0   \n",
       "13012              241                 387.0                2853.0   \n",
       "13013              450                 693.0                5417.0   \n",
       "\n",
       "       Area (km2)  Population  Population Density   Longitude  Latitude  id  \n",
       "13009       38068     2635461               69.23  122.070311 -4.124689  23  \n",
       "13010       13892     2641884              190.17  124.521240  1.259638  22  \n",
       "13011       42013     5519245              131.37  100.465062 -0.850253   2  \n",
       "13012       91592     8217551               89.72  104.169465 -3.216212  33  \n",
       "13013       72981    14874889              203.82   99.051964  2.191894   4  "
      ],
      "text/html": "<div>\n<style scoped>\n    .dataframe tbody tr th:only-of-type {\n        vertical-align: middle;\n    }\n\n    .dataframe tbody tr th {\n        vertical-align: top;\n    }\n\n    .dataframe thead th {\n        text-align: right;\n    }\n</style>\n<table border=\"1\" class=\"dataframe\">\n  <thead>\n    <tr style=\"text-align: right;\">\n      <th></th>\n      <th>Location</th>\n      <th>Location Level</th>\n      <th>City or Regency</th>\n      <th>Country</th>\n      <th>Continent</th>\n      <th>Island</th>\n      <th>Time Zone</th>\n      <th>Special Status</th>\n      <th>Total Regencies</th>\n      <th>Total Cities</th>\n      <th>Total Districts</th>\n      <th>Total Urban Villages</th>\n      <th>Total Rural Villages</th>\n      <th>Area (km2)</th>\n      <th>Population</th>\n      <th>Population Density</th>\n      <th>Longitude</th>\n      <th>Latitude</th>\n      <th>id</th>\n    </tr>\n  </thead>\n  <tbody>\n    <tr>\n      <th>13009</th>\n      <td>Sulawesi Tenggara</td>\n      <td>Province</td>\n      <td>NaN</td>\n      <td>Indonesia</td>\n      <td>Asia</td>\n      <td>Sulawesi</td>\n      <td>UTC+08:00</td>\n      <td>NaN</td>\n      <td>15</td>\n      <td>2.0</td>\n      <td>219</td>\n      <td>377.0</td>\n      <td>1911.0</td>\n      <td>38068</td>\n      <td>2635461</td>\n      <td>69.23</td>\n      <td>122.070311</td>\n      <td>-4.124689</td>\n      <td>23</td>\n    </tr>\n    <tr>\n      <th>13010</th>\n      <td>Sulawesi Utara</td>\n      <td>Province</td>\n      <td>NaN</td>\n      <td>Indonesia</td>\n      <td>Asia</td>\n      <td>Sulawesi</td>\n      <td>UTC+08:00</td>\n      <td>NaN</td>\n      <td>11</td>\n      <td>4.0</td>\n      <td>171</td>\n      <td>332.0</td>\n      <td>1507.0</td>\n      <td>13892</td>\n      <td>2641884</td>\n      <td>190.17</td>\n      <td>124.521240</td>\n      <td>1.259638</td>\n      <td>22</td>\n    </tr>\n    <tr>\n      <th>13011</th>\n      <td>Sumatera Barat</td>\n      <td>Province</td>\n      <td>NaN</td>\n      <td>Indonesia</td>\n      <td>Asia</td>\n      <td>Sumatera</td>\n      <td>UTC+07:00</td>\n      <td>NaN</td>\n      <td>12</td>\n      <td>7.0</td>\n      <td>179</td>\n      <td>230.0</td>\n      <td>928.0</td>\n      <td>42013</td>\n      <td>5519245</td>\n      <td>131.37</td>\n      <td>100.465062</td>\n      <td>-0.850253</td>\n      <td>2</td>\n    </tr>\n    <tr>\n      <th>13012</th>\n      <td>Sumatera Selatan</td>\n      <td>Province</td>\n      <td>NaN</td>\n      <td>Indonesia</td>\n      <td>Asia</td>\n      <td>Sumatera</td>\n      <td>UTC+07:00</td>\n      <td>NaN</td>\n      <td>13</td>\n      <td>4.0</td>\n      <td>241</td>\n      <td>387.0</td>\n      <td>2853.0</td>\n      <td>91592</td>\n      <td>8217551</td>\n      <td>89.72</td>\n      <td>104.169465</td>\n      <td>-3.216212</td>\n      <td>33</td>\n    </tr>\n    <tr>\n      <th>13013</th>\n      <td>Sumatera Utara</td>\n      <td>Province</td>\n      <td>NaN</td>\n      <td>Indonesia</td>\n      <td>Asia</td>\n      <td>Sumatera</td>\n      <td>UTC+07:00</td>\n      <td>NaN</td>\n      <td>25</td>\n      <td>8.0</td>\n      <td>450</td>\n      <td>693.0</td>\n      <td>5417.0</td>\n      <td>72981</td>\n      <td>14874889</td>\n      <td>203.82</td>\n      <td>99.051964</td>\n      <td>2.191894</td>\n      <td>4</td>\n    </tr>\n  </tbody>\n</table>\n</div>"
     },
     "metadata": {},
     "execution_count": 192
    }
   ],
   "source": [
    "# Get previous Indo_df with selected columns and merge with df_total Indo Province \n",
    "# use only selected columns\n",
    "cols = ['Location', 'Location Level', 'City or Regency', 'Country', 'Continent',\n",
    "       'Island', 'Time Zone', 'Special Status', 'Total Regencies',\n",
    "       'Total Cities', 'Total Districts', 'Total Urban Villages',\n",
    "       'Total Rural Villages', 'Area (km2)', 'Population',\n",
    "       'Population Density', 'Longitude', 'Latitude','id']\n",
    "df_indo_small = df_indo[cols]\n",
    "df_indo_small.tail()"
   ]
  },
  {
   "cell_type": "code",
   "execution_count": 193,
   "metadata": {},
   "outputs": [
    {
     "output_type": "stream",
     "name": "stdout",
     "text": [
      "(13014, 19) (12988, 9)\n"
     ]
    }
   ],
   "source": [
    "print(df_indo_small.shape, df_total.shape)"
   ]
  },
  {
   "cell_type": "code",
   "execution_count": 194,
   "metadata": {},
   "outputs": [
    {
     "output_type": "execute_result",
     "data": {
      "text/plain": [
       "(35, 19)"
      ]
     },
     "metadata": {},
     "execution_count": 194
    }
   ],
   "source": [
    "df_indo_small = df_indo_small.drop_duplicates(subset='Location')\n",
    "df_indo_small.shape"
   ]
  },
  {
   "cell_type": "code",
   "execution_count": 195,
   "metadata": {},
   "outputs": [
    {
     "output_type": "stream",
     "name": "stdout",
     "text": [
      "[]\n"
     ]
    }
   ],
   "source": [
    "# check if same Province Names\n",
    "print(list(set(df_total.Province.unique()) - set(df_indo_small.Location.unique())))"
   ]
  },
  {
   "cell_type": "code",
   "execution_count": 196,
   "metadata": {},
   "outputs": [
    {
     "output_type": "execute_result",
     "data": {
      "text/plain": [
       "            Date        Province  new_cases  active_cases  total_recovered  \\\n",
       "9167  2021-04-07     Jawa Tengah        535         31547           132934   \n",
       "3818  2021-04-07  Sumatera Barat         70          1430            15892   \n",
       "3819  2021-04-07  Sumatera Barat        129          1302            30438   \n",
       "2291  2021-04-07  Sulawesi Barat          1            85             5176   \n",
       "12987 2021-04-07    Jakarta Raya        862          6320           375628   \n",
       "\n",
       "       new_recovered  total_deaths  new_deaths  total_cases        Location  \\\n",
       "9167            2222          7389           2       171870     Jawa Tengah   \n",
       "3818              63           866           6        18188  Sumatera Barat   \n",
       "3819              89           700           2        32440  Sumatera Barat   \n",
       "2291              29           114           0         5375  Sulawesi Barat   \n",
       "12987            626          6390          11       388338    Jakarta Raya   \n",
       "\n",
       "       ... Total Cities  Total Districts Total Urban Villages  \\\n",
       "9167   ...          6.0              576                753.0   \n",
       "3818   ...          7.0              179                230.0   \n",
       "3819   ...          7.0              179                230.0   \n",
       "2291   ...          NaN               69                 73.0   \n",
       "12987  ...          5.0               44                267.0   \n",
       "\n",
       "      Total Rural Villages Area (km2) Population Population Density  \\\n",
       "9167                7809.0      32801   36364072            1108.64   \n",
       "3818                 928.0      42013    5519245             131.37   \n",
       "3819                 928.0      42013    5519245             131.37   \n",
       "2291                 575.0      16787    1559984              92.93   \n",
       "12987                  NaN        664   10846145           16334.31   \n",
       "\n",
       "        Longitude  Latitude  id  \n",
       "9167   110.201115 -7.259097  30  \n",
       "3818   100.465062 -0.850253   2  \n",
       "3819   100.465062 -0.850253   2  \n",
       "2291   119.345019 -2.461746  32  \n",
       "12987  106.836118 -6.204699  27  \n",
       "\n",
       "[5 rows x 28 columns]"
      ],
      "text/html": "<div>\n<style scoped>\n    .dataframe tbody tr th:only-of-type {\n        vertical-align: middle;\n    }\n\n    .dataframe tbody tr th {\n        vertical-align: top;\n    }\n\n    .dataframe thead th {\n        text-align: right;\n    }\n</style>\n<table border=\"1\" class=\"dataframe\">\n  <thead>\n    <tr style=\"text-align: right;\">\n      <th></th>\n      <th>Date</th>\n      <th>Province</th>\n      <th>new_cases</th>\n      <th>active_cases</th>\n      <th>total_recovered</th>\n      <th>new_recovered</th>\n      <th>total_deaths</th>\n      <th>new_deaths</th>\n      <th>total_cases</th>\n      <th>Location</th>\n      <th>...</th>\n      <th>Total Cities</th>\n      <th>Total Districts</th>\n      <th>Total Urban Villages</th>\n      <th>Total Rural Villages</th>\n      <th>Area (km2)</th>\n      <th>Population</th>\n      <th>Population Density</th>\n      <th>Longitude</th>\n      <th>Latitude</th>\n      <th>id</th>\n    </tr>\n  </thead>\n  <tbody>\n    <tr>\n      <th>9167</th>\n      <td>2021-04-07</td>\n      <td>Jawa Tengah</td>\n      <td>535</td>\n      <td>31547</td>\n      <td>132934</td>\n      <td>2222</td>\n      <td>7389</td>\n      <td>2</td>\n      <td>171870</td>\n      <td>Jawa Tengah</td>\n      <td>...</td>\n      <td>6.0</td>\n      <td>576</td>\n      <td>753.0</td>\n      <td>7809.0</td>\n      <td>32801</td>\n      <td>36364072</td>\n      <td>1108.64</td>\n      <td>110.201115</td>\n      <td>-7.259097</td>\n      <td>30</td>\n    </tr>\n    <tr>\n      <th>3818</th>\n      <td>2021-04-07</td>\n      <td>Sumatera Barat</td>\n      <td>70</td>\n      <td>1430</td>\n      <td>15892</td>\n      <td>63</td>\n      <td>866</td>\n      <td>6</td>\n      <td>18188</td>\n      <td>Sumatera Barat</td>\n      <td>...</td>\n      <td>7.0</td>\n      <td>179</td>\n      <td>230.0</td>\n      <td>928.0</td>\n      <td>42013</td>\n      <td>5519245</td>\n      <td>131.37</td>\n      <td>100.465062</td>\n      <td>-0.850253</td>\n      <td>2</td>\n    </tr>\n    <tr>\n      <th>3819</th>\n      <td>2021-04-07</td>\n      <td>Sumatera Barat</td>\n      <td>129</td>\n      <td>1302</td>\n      <td>30438</td>\n      <td>89</td>\n      <td>700</td>\n      <td>2</td>\n      <td>32440</td>\n      <td>Sumatera Barat</td>\n      <td>...</td>\n      <td>7.0</td>\n      <td>179</td>\n      <td>230.0</td>\n      <td>928.0</td>\n      <td>42013</td>\n      <td>5519245</td>\n      <td>131.37</td>\n      <td>100.465062</td>\n      <td>-0.850253</td>\n      <td>2</td>\n    </tr>\n    <tr>\n      <th>2291</th>\n      <td>2021-04-07</td>\n      <td>Sulawesi Barat</td>\n      <td>1</td>\n      <td>85</td>\n      <td>5176</td>\n      <td>29</td>\n      <td>114</td>\n      <td>0</td>\n      <td>5375</td>\n      <td>Sulawesi Barat</td>\n      <td>...</td>\n      <td>NaN</td>\n      <td>69</td>\n      <td>73.0</td>\n      <td>575.0</td>\n      <td>16787</td>\n      <td>1559984</td>\n      <td>92.93</td>\n      <td>119.345019</td>\n      <td>-2.461746</td>\n      <td>32</td>\n    </tr>\n    <tr>\n      <th>12987</th>\n      <td>2021-04-07</td>\n      <td>Jakarta Raya</td>\n      <td>862</td>\n      <td>6320</td>\n      <td>375628</td>\n      <td>626</td>\n      <td>6390</td>\n      <td>11</td>\n      <td>388338</td>\n      <td>Jakarta Raya</td>\n      <td>...</td>\n      <td>5.0</td>\n      <td>44</td>\n      <td>267.0</td>\n      <td>NaN</td>\n      <td>664</td>\n      <td>10846145</td>\n      <td>16334.31</td>\n      <td>106.836118</td>\n      <td>-6.204699</td>\n      <td>27</td>\n    </tr>\n  </tbody>\n</table>\n<p>5 rows × 28 columns</p>\n</div>"
     },
     "metadata": {},
     "execution_count": 196
    }
   ],
   "source": [
    "df_indo_full = pd.merge(df_total, df_indo_small, left_on='Province', right_on='Location')\n",
    "df_indo_full = df_indo_full.sort_values(by='Date')\n",
    "df_indo_full.tail()"
   ]
  },
  {
   "cell_type": "code",
   "execution_count": 197,
   "metadata": {},
   "outputs": [],
   "source": [
    "# ## add additional metrics\n",
    "#########################################\n",
    "\n",
    "df_indo_full['total_cases_per_100k'] = df_indo_full['total_cases'] / df_indo_full['Population'] * 100000\n",
    "df_indo_full['total_cases_per_100k'] = df_indo_full['total_cases_per_100k'].apply(pd.to_numeric)\n",
    "\n",
    "df_indo_full['total_deaths_per_100k'] = df_indo_full['total_deaths'] / df_indo_full['Population'] * 100000\n",
    "df_indo_full['total_deaths_per_100k'] = df_indo_full['total_deaths_per_100k'].apply(pd.to_numeric)\n",
    "\n",
    "df_indo_full['new_cases_per_mil'] = df_indo_full['new_cases'] / df_indo_full['Population'] *1000000\n",
    "df_indo_full['new_cases_per_mil'] = df_indo_full['new_cases_per_mil'].apply(pd.to_numeric)\n",
    "\n",
    "df_indo_full['cases7'] = df_indo_full['new_cases'].rolling(window=7, center=False).mean()\n",
    "df_indo_full['cases7_per_100k'] = df_indo_full['cases7'] / df_indo_full['Population'] * 100000\n",
    "df_indo_full['cases7_per_100k'] = df_indo_full['cases7_per_100k'].apply(pd.to_numeric)\n",
    "\n",
    "df_indo_full['deaths7'] = df_indo_full['new_deaths'].rolling(window=7, center=False).mean()\n",
    "df_indo_full['deaths7_per_100k'] = df_indo_full['total_deaths_per_100k'].rolling(window=7, center=False).mean()\n",
    "df_indo_full['deaths7_per_100k'] = df_indo_full['deaths7_per_100k'].apply(pd.to_numeric)\n",
    "\n",
    "df_indo_full['CFR'] = df_indo_full['total_deaths'] / df_indo_full['total_cases'] * 100\n",
    "df_indo_full['CFR'] = df_indo_full['CFR'].round(2)\n",
    "\n",
    "## Calculate in App after region selected and df only contains region?\n",
    "df_indo_full['growth_rate_new_cases'] = df_indo_full['new_cases'].pct_change(fill_method ='ffill', periods=7)"
   ]
  },
  {
   "cell_type": "code",
   "execution_count": 198,
   "metadata": {},
   "outputs": [
    {
     "output_type": "execute_result",
     "data": {
      "text/plain": [
       "       new_cases  Population  new_cases_per_mil  cases7_per_100k\n",
       "0              0     5247257           0.000000              NaN\n",
       "11842          0     1379767           0.000000              NaN\n",
       "9932           0     6074100           0.000000              NaN\n",
       "1146           0     4340348           0.000000              NaN\n",
       "1147           0     4340348           0.000000              NaN\n",
       "...          ...         ...                ...              ...\n",
       "9167         535    36364072          14.712324         0.832847\n",
       "3818          70     5519245          12.682894         5.093864\n",
       "3819         129     5519245          23.372762         4.884208\n",
       "2291           1     1559984           0.641032        15.210779\n",
       "12987        862    10846145          79.475242         3.216416\n",
       "\n",
       "[12988 rows x 4 columns]"
      ],
      "text/html": "<div>\n<style scoped>\n    .dataframe tbody tr th:only-of-type {\n        vertical-align: middle;\n    }\n\n    .dataframe tbody tr th {\n        vertical-align: top;\n    }\n\n    .dataframe thead th {\n        text-align: right;\n    }\n</style>\n<table border=\"1\" class=\"dataframe\">\n  <thead>\n    <tr style=\"text-align: right;\">\n      <th></th>\n      <th>new_cases</th>\n      <th>Population</th>\n      <th>new_cases_per_mil</th>\n      <th>cases7_per_100k</th>\n    </tr>\n  </thead>\n  <tbody>\n    <tr>\n      <th>0</th>\n      <td>0</td>\n      <td>5247257</td>\n      <td>0.000000</td>\n      <td>NaN</td>\n    </tr>\n    <tr>\n      <th>11842</th>\n      <td>0</td>\n      <td>1379767</td>\n      <td>0.000000</td>\n      <td>NaN</td>\n    </tr>\n    <tr>\n      <th>9932</th>\n      <td>0</td>\n      <td>6074100</td>\n      <td>0.000000</td>\n      <td>NaN</td>\n    </tr>\n    <tr>\n      <th>1146</th>\n      <td>0</td>\n      <td>4340348</td>\n      <td>0.000000</td>\n      <td>NaN</td>\n    </tr>\n    <tr>\n      <th>1147</th>\n      <td>0</td>\n      <td>4340348</td>\n      <td>0.000000</td>\n      <td>NaN</td>\n    </tr>\n    <tr>\n      <th>...</th>\n      <td>...</td>\n      <td>...</td>\n      <td>...</td>\n      <td>...</td>\n    </tr>\n    <tr>\n      <th>9167</th>\n      <td>535</td>\n      <td>36364072</td>\n      <td>14.712324</td>\n      <td>0.832847</td>\n    </tr>\n    <tr>\n      <th>3818</th>\n      <td>70</td>\n      <td>5519245</td>\n      <td>12.682894</td>\n      <td>5.093864</td>\n    </tr>\n    <tr>\n      <th>3819</th>\n      <td>129</td>\n      <td>5519245</td>\n      <td>23.372762</td>\n      <td>4.884208</td>\n    </tr>\n    <tr>\n      <th>2291</th>\n      <td>1</td>\n      <td>1559984</td>\n      <td>0.641032</td>\n      <td>15.210779</td>\n    </tr>\n    <tr>\n      <th>12987</th>\n      <td>862</td>\n      <td>10846145</td>\n      <td>79.475242</td>\n      <td>3.216416</td>\n    </tr>\n  </tbody>\n</table>\n<p>12988 rows × 4 columns</p>\n</div>"
     },
     "metadata": {},
     "execution_count": 198
    }
   ],
   "source": [
    "df_indo_full[['new_cases', 'Population', 'new_cases_per_mil', 'cases7_per_100k']]"
   ]
  },
  {
   "cell_type": "code",
   "execution_count": 199,
   "metadata": {},
   "outputs": [
    {
     "output_type": "execute_result",
     "data": {
      "text/plain": [
       "Index(['Date', 'Province', 'new_cases', 'active_cases', 'total_recovered',\n",
       "       'new_recovered', 'total_deaths', 'new_deaths', 'total_cases',\n",
       "       'Location', 'Location Level', 'City or Regency', 'Country', 'Continent',\n",
       "       'Island', 'Time Zone', 'Special Status', 'Total Regencies',\n",
       "       'Total Cities', 'Total Districts', 'Total Urban Villages',\n",
       "       'Total Rural Villages', 'Area (km2)', 'Population',\n",
       "       'Population Density', 'Longitude', 'Latitude', 'id',\n",
       "       'total_cases_per_100k', 'total_deaths_per_100k', 'new_cases_per_mil',\n",
       "       'cases7', 'cases7_per_100k', 'deaths7', 'deaths7_per_100k', 'CFR',\n",
       "       'growth_rate_new_cases'],\n",
       "      dtype='object')"
      ]
     },
     "metadata": {},
     "execution_count": 199
    }
   ],
   "source": [
    "df_indo_full.columns"
   ]
  },
  {
   "cell_type": "code",
   "execution_count": 200,
   "metadata": {
    "execution": {
     "iopub.execute_input": "2021-04-05T08:55:33.491602Z",
     "iopub.status.busy": "2021-04-05T08:55:33.490679Z",
     "iopub.status.idle": "2021-04-05T08:55:34.046598Z",
     "shell.execute_reply": "2021-04-05T08:55:34.047600Z"
    }
   },
   "outputs": [],
   "source": [
    "df_indo_full.to_csv('indo_province_data.csv')"
   ]
  },
  {
   "source": [
    "# 3. World Data \n",
    "Comparison Data\n",
    "\n",
    "https://github.com/owid/covid-19-data/blob/master/public/data/owid-covid-data.csv\n",
    "\n",
    "url = \"https://raw.githubusercontent.com/owid/covid-19-data/master/public/data/owid-covid-data.csv\"\n"
   ],
   "cell_type": "markdown",
   "metadata": {
    "execution": {
     "iopub.execute_input": "2021-04-05T08:55:34.083606Z",
     "iopub.status.busy": "2021-04-05T08:55:34.053605Z",
     "iopub.status.idle": "2021-04-05T08:56:11.626162Z",
     "shell.execute_reply": "2021-04-05T08:56:11.625162Z"
    }
   }
  },
  {
   "cell_type": "code",
   "execution_count": 201,
   "metadata": {},
   "outputs": [
    {
     "output_type": "error",
     "ename": "NameError",
     "evalue": "name 'url' is not defined",
     "traceback": [
      "\u001b[1;31m---------------------------------------------------------------------------\u001b[0m",
      "\u001b[1;31mNameError\u001b[0m                                 Traceback (most recent call last)",
      "\u001b[1;32m<ipython-input-201-567211d7d8ac>\u001b[0m in \u001b[0;36m<module>\u001b[1;34m\u001b[0m\n\u001b[1;32m----> 1\u001b[1;33m \u001b[0mdf_world\u001b[0m \u001b[1;33m=\u001b[0m \u001b[0mpd\u001b[0m\u001b[1;33m.\u001b[0m\u001b[0mread_csv\u001b[0m\u001b[1;33m(\u001b[0m\u001b[0murl\u001b[0m\u001b[1;33m)\u001b[0m\u001b[1;33m\u001b[0m\u001b[1;33m\u001b[0m\u001b[0m\n\u001b[0m",
      "\u001b[1;31mNameError\u001b[0m: name 'url' is not defined"
     ]
    }
   ],
   "source": [
    "df_world = pd.read_csv(url)"
   ]
  },
  {
   "cell_type": "code",
   "execution_count": 49,
   "metadata": {
    "execution": {
     "iopub.execute_input": "2021-04-05T08:56:11.657161Z",
     "iopub.status.busy": "2021-04-05T08:56:11.656157Z",
     "iopub.status.idle": "2021-04-05T08:56:11.662163Z",
     "shell.execute_reply": "2021-04-05T08:56:11.663156Z"
    }
   },
   "outputs": [
    {
     "data": {
      "text/html": [
       "<div>\n",
       "<style scoped>\n",
       "    .dataframe tbody tr th:only-of-type {\n",
       "        vertical-align: middle;\n",
       "    }\n",
       "\n",
       "    .dataframe tbody tr th {\n",
       "        vertical-align: top;\n",
       "    }\n",
       "\n",
       "    .dataframe thead th {\n",
       "        text-align: right;\n",
       "    }\n",
       "</style>\n",
       "<table border=\"1\" class=\"dataframe\">\n",
       "  <thead>\n",
       "    <tr style=\"text-align: right;\">\n",
       "      <th></th>\n",
       "      <th>iso_code</th>\n",
       "      <th>continent</th>\n",
       "      <th>location</th>\n",
       "      <th>date</th>\n",
       "      <th>total_cases</th>\n",
       "      <th>new_cases</th>\n",
       "      <th>new_cases_smoothed</th>\n",
       "      <th>total_deaths</th>\n",
       "      <th>new_deaths</th>\n",
       "      <th>new_deaths_smoothed</th>\n",
       "      <th>...</th>\n",
       "      <th>gdp_per_capita</th>\n",
       "      <th>extreme_poverty</th>\n",
       "      <th>cardiovasc_death_rate</th>\n",
       "      <th>diabetes_prevalence</th>\n",
       "      <th>female_smokers</th>\n",
       "      <th>male_smokers</th>\n",
       "      <th>handwashing_facilities</th>\n",
       "      <th>hospital_beds_per_thousand</th>\n",
       "      <th>life_expectancy</th>\n",
       "      <th>human_development_index</th>\n",
       "    </tr>\n",
       "  </thead>\n",
       "  <tbody>\n",
       "    <tr>\n",
       "      <th>0</th>\n",
       "      <td>AFG</td>\n",
       "      <td>Asia</td>\n",
       "      <td>Afghanistan</td>\n",
       "      <td>2020-02-24</td>\n",
       "      <td>1.0</td>\n",
       "      <td>1.0</td>\n",
       "      <td>NaN</td>\n",
       "      <td>NaN</td>\n",
       "      <td>NaN</td>\n",
       "      <td>NaN</td>\n",
       "      <td>...</td>\n",
       "      <td>1803.987</td>\n",
       "      <td>NaN</td>\n",
       "      <td>597.029</td>\n",
       "      <td>9.59</td>\n",
       "      <td>NaN</td>\n",
       "      <td>NaN</td>\n",
       "      <td>37.746</td>\n",
       "      <td>0.5</td>\n",
       "      <td>64.83</td>\n",
       "      <td>0.511</td>\n",
       "    </tr>\n",
       "    <tr>\n",
       "      <th>1</th>\n",
       "      <td>AFG</td>\n",
       "      <td>Asia</td>\n",
       "      <td>Afghanistan</td>\n",
       "      <td>2020-02-25</td>\n",
       "      <td>1.0</td>\n",
       "      <td>0.0</td>\n",
       "      <td>NaN</td>\n",
       "      <td>NaN</td>\n",
       "      <td>NaN</td>\n",
       "      <td>NaN</td>\n",
       "      <td>...</td>\n",
       "      <td>1803.987</td>\n",
       "      <td>NaN</td>\n",
       "      <td>597.029</td>\n",
       "      <td>9.59</td>\n",
       "      <td>NaN</td>\n",
       "      <td>NaN</td>\n",
       "      <td>37.746</td>\n",
       "      <td>0.5</td>\n",
       "      <td>64.83</td>\n",
       "      <td>0.511</td>\n",
       "    </tr>\n",
       "    <tr>\n",
       "      <th>2</th>\n",
       "      <td>AFG</td>\n",
       "      <td>Asia</td>\n",
       "      <td>Afghanistan</td>\n",
       "      <td>2020-02-26</td>\n",
       "      <td>1.0</td>\n",
       "      <td>0.0</td>\n",
       "      <td>NaN</td>\n",
       "      <td>NaN</td>\n",
       "      <td>NaN</td>\n",
       "      <td>NaN</td>\n",
       "      <td>...</td>\n",
       "      <td>1803.987</td>\n",
       "      <td>NaN</td>\n",
       "      <td>597.029</td>\n",
       "      <td>9.59</td>\n",
       "      <td>NaN</td>\n",
       "      <td>NaN</td>\n",
       "      <td>37.746</td>\n",
       "      <td>0.5</td>\n",
       "      <td>64.83</td>\n",
       "      <td>0.511</td>\n",
       "    </tr>\n",
       "    <tr>\n",
       "      <th>3</th>\n",
       "      <td>AFG</td>\n",
       "      <td>Asia</td>\n",
       "      <td>Afghanistan</td>\n",
       "      <td>2020-02-27</td>\n",
       "      <td>1.0</td>\n",
       "      <td>0.0</td>\n",
       "      <td>NaN</td>\n",
       "      <td>NaN</td>\n",
       "      <td>NaN</td>\n",
       "      <td>NaN</td>\n",
       "      <td>...</td>\n",
       "      <td>1803.987</td>\n",
       "      <td>NaN</td>\n",
       "      <td>597.029</td>\n",
       "      <td>9.59</td>\n",
       "      <td>NaN</td>\n",
       "      <td>NaN</td>\n",
       "      <td>37.746</td>\n",
       "      <td>0.5</td>\n",
       "      <td>64.83</td>\n",
       "      <td>0.511</td>\n",
       "    </tr>\n",
       "    <tr>\n",
       "      <th>4</th>\n",
       "      <td>AFG</td>\n",
       "      <td>Asia</td>\n",
       "      <td>Afghanistan</td>\n",
       "      <td>2020-02-28</td>\n",
       "      <td>1.0</td>\n",
       "      <td>0.0</td>\n",
       "      <td>NaN</td>\n",
       "      <td>NaN</td>\n",
       "      <td>NaN</td>\n",
       "      <td>NaN</td>\n",
       "      <td>...</td>\n",
       "      <td>1803.987</td>\n",
       "      <td>NaN</td>\n",
       "      <td>597.029</td>\n",
       "      <td>9.59</td>\n",
       "      <td>NaN</td>\n",
       "      <td>NaN</td>\n",
       "      <td>37.746</td>\n",
       "      <td>0.5</td>\n",
       "      <td>64.83</td>\n",
       "      <td>0.511</td>\n",
       "    </tr>\n",
       "  </tbody>\n",
       "</table>\n",
       "<p>5 rows × 59 columns</p>\n",
       "</div>"
      ],
      "text/plain": [
       "  iso_code continent     location        date  total_cases  new_cases  \\\n",
       "0      AFG      Asia  Afghanistan  2020-02-24          1.0        1.0   \n",
       "1      AFG      Asia  Afghanistan  2020-02-25          1.0        0.0   \n",
       "2      AFG      Asia  Afghanistan  2020-02-26          1.0        0.0   \n",
       "3      AFG      Asia  Afghanistan  2020-02-27          1.0        0.0   \n",
       "4      AFG      Asia  Afghanistan  2020-02-28          1.0        0.0   \n",
       "\n",
       "   new_cases_smoothed  total_deaths  new_deaths  new_deaths_smoothed  ...  \\\n",
       "0                 NaN           NaN         NaN                  NaN  ...   \n",
       "1                 NaN           NaN         NaN                  NaN  ...   \n",
       "2                 NaN           NaN         NaN                  NaN  ...   \n",
       "3                 NaN           NaN         NaN                  NaN  ...   \n",
       "4                 NaN           NaN         NaN                  NaN  ...   \n",
       "\n",
       "   gdp_per_capita  extreme_poverty  cardiovasc_death_rate  \\\n",
       "0        1803.987              NaN                597.029   \n",
       "1        1803.987              NaN                597.029   \n",
       "2        1803.987              NaN                597.029   \n",
       "3        1803.987              NaN                597.029   \n",
       "4        1803.987              NaN                597.029   \n",
       "\n",
       "   diabetes_prevalence  female_smokers  male_smokers  handwashing_facilities  \\\n",
       "0                 9.59             NaN           NaN                  37.746   \n",
       "1                 9.59             NaN           NaN                  37.746   \n",
       "2                 9.59             NaN           NaN                  37.746   \n",
       "3                 9.59             NaN           NaN                  37.746   \n",
       "4                 9.59             NaN           NaN                  37.746   \n",
       "\n",
       "   hospital_beds_per_thousand  life_expectancy  human_development_index  \n",
       "0                         0.5            64.83                    0.511  \n",
       "1                         0.5            64.83                    0.511  \n",
       "2                         0.5            64.83                    0.511  \n",
       "3                         0.5            64.83                    0.511  \n",
       "4                         0.5            64.83                    0.511  \n",
       "\n",
       "[5 rows x 59 columns]"
      ]
     },
     "execution_count": 1,
     "metadata": {},
     "output_type": "execute_result"
    }
   ],
   "source": [
    "df_world.head()"
   ]
  },
  {
   "cell_type": "code",
   "execution_count": 50,
   "metadata": {
    "execution": {
     "iopub.execute_input": "2021-04-05T08:56:11.672163Z",
     "iopub.status.busy": "2021-04-05T08:56:11.671162Z",
     "iopub.status.idle": "2021-04-05T08:56:11.678181Z",
     "shell.execute_reply": "2021-04-05T08:56:11.679178Z"
    }
   },
   "outputs": [
    {
     "data": {
      "text/plain": [
       "array(['Afghanistan', 'Africa', 'Albania', 'Algeria', 'Andorra', 'Angola',\n",
       "       'Anguilla', 'Antigua and Barbuda', 'Argentina', 'Armenia', 'Asia',\n",
       "       'Australia', 'Austria', 'Azerbaijan', 'Bahamas', 'Bahrain',\n",
       "       'Bangladesh', 'Barbados', 'Belarus', 'Belgium', 'Belize', 'Benin',\n",
       "       'Bermuda', 'Bhutan', 'Bolivia', 'Bosnia and Herzegovina',\n",
       "       'Botswana', 'Brazil', 'Brunei', 'Bulgaria', 'Burkina Faso',\n",
       "       'Burundi', 'Cambodia', 'Cameroon', 'Canada', 'Cape Verde',\n",
       "       'Cayman Islands', 'Central African Republic', 'Chad', 'Chile',\n",
       "       'China', 'Colombia', 'Comoros', 'Congo', 'Costa Rica',\n",
       "       \"Cote d'Ivoire\", 'Croatia', 'Cuba', 'Cyprus', 'Czechia',\n",
       "       'Democratic Republic of Congo', 'Denmark', 'Djibouti', 'Dominica',\n",
       "       'Dominican Republic', 'Ecuador', 'Egypt', 'El Salvador',\n",
       "       'Equatorial Guinea', 'Eritrea', 'Estonia', 'Eswatini', 'Ethiopia',\n",
       "       'Europe', 'European Union', 'Faeroe Islands', 'Falkland Islands',\n",
       "       'Fiji', 'Finland', 'France', 'Gabon', 'Gambia', 'Georgia',\n",
       "       'Germany', 'Ghana', 'Gibraltar', 'Greece', 'Greenland', 'Grenada',\n",
       "       'Guatemala', 'Guernsey', 'Guinea', 'Guinea-Bissau', 'Guyana',\n",
       "       'Haiti', 'Honduras', 'Hong Kong', 'Hungary', 'Iceland', 'India',\n",
       "       'Indonesia', 'International', 'Iran', 'Iraq', 'Ireland',\n",
       "       'Isle of Man', 'Israel', 'Italy', 'Jamaica', 'Japan', 'Jersey',\n",
       "       'Jordan', 'Kazakhstan', 'Kenya', 'Kosovo', 'Kuwait', 'Kyrgyzstan',\n",
       "       'Laos', 'Latvia', 'Lebanon', 'Lesotho', 'Liberia', 'Libya',\n",
       "       'Liechtenstein', 'Lithuania', 'Luxembourg', 'Macao', 'Madagascar',\n",
       "       'Malawi', 'Malaysia', 'Maldives', 'Mali', 'Malta',\n",
       "       'Marshall Islands', 'Mauritania', 'Mauritius', 'Mexico',\n",
       "       'Micronesia (country)', 'Moldova', 'Monaco', 'Mongolia',\n",
       "       'Montenegro', 'Montserrat', 'Morocco', 'Mozambique', 'Myanmar',\n",
       "       'Namibia', 'Nepal', 'Netherlands', 'New Zealand', 'Nicaragua',\n",
       "       'Niger', 'Nigeria', 'North America', 'North Macedonia',\n",
       "       'Northern Cyprus', 'Norway', 'Oceania', 'Oman', 'Pakistan',\n",
       "       'Palestine', 'Panama', 'Papua New Guinea', 'Paraguay', 'Peru',\n",
       "       'Philippines', 'Poland', 'Portugal', 'Qatar', 'Romania', 'Russia',\n",
       "       'Rwanda', 'Saint Helena', 'Saint Kitts and Nevis', 'Saint Lucia',\n",
       "       'Saint Vincent and the Grenadines', 'Samoa', 'San Marino',\n",
       "       'Sao Tome and Principe', 'Saudi Arabia', 'Senegal', 'Serbia',\n",
       "       'Seychelles', 'Sierra Leone', 'Singapore', 'Slovakia', 'Slovenia',\n",
       "       'Solomon Islands', 'Somalia', 'South Africa', 'South America',\n",
       "       'South Korea', 'South Sudan', 'Spain', 'Sri Lanka', 'Sudan',\n",
       "       'Suriname', 'Sweden', 'Switzerland', 'Syria', 'Taiwan',\n",
       "       'Tajikistan', 'Tanzania', 'Thailand', 'Timor', 'Togo',\n",
       "       'Trinidad and Tobago', 'Tunisia', 'Turkey',\n",
       "       'Turks and Caicos Islands', 'Uganda', 'Ukraine',\n",
       "       'United Arab Emirates', 'United Kingdom', 'United States',\n",
       "       'Uruguay', 'Uzbekistan', 'Vanuatu', 'Vatican', 'Venezuela',\n",
       "       'Vietnam', 'World', 'Yemen', 'Zambia', 'Zimbabwe'], dtype=object)"
      ]
     },
     "execution_count": 1,
     "metadata": {},
     "output_type": "execute_result"
    }
   ],
   "source": [
    "pd.unique(df_world['location'])"
   ]
  },
  {
   "cell_type": "code",
   "execution_count": 51,
   "metadata": {
    "execution": {
     "iopub.execute_input": "2021-04-05T08:56:11.687172Z",
     "iopub.status.busy": "2021-04-05T08:56:11.686172Z",
     "iopub.status.idle": "2021-04-05T08:56:11.690165Z",
     "shell.execute_reply": "2021-04-05T08:56:11.691166Z"
    }
   },
   "outputs": [
    {
     "data": {
      "text/plain": [
       "Index(['iso_code', 'continent', 'location', 'date', 'total_cases', 'new_cases',\n",
       "       'new_cases_smoothed', 'total_deaths', 'new_deaths',\n",
       "       'new_deaths_smoothed', 'total_cases_per_million',\n",
       "       'new_cases_per_million', 'new_cases_smoothed_per_million',\n",
       "       'total_deaths_per_million', 'new_deaths_per_million',\n",
       "       'new_deaths_smoothed_per_million', 'reproduction_rate', 'icu_patients',\n",
       "       'icu_patients_per_million', 'hosp_patients',\n",
       "       'hosp_patients_per_million', 'weekly_icu_admissions',\n",
       "       'weekly_icu_admissions_per_million', 'weekly_hosp_admissions',\n",
       "       'weekly_hosp_admissions_per_million', 'new_tests', 'total_tests',\n",
       "       'total_tests_per_thousand', 'new_tests_per_thousand',\n",
       "       'new_tests_smoothed', 'new_tests_smoothed_per_thousand',\n",
       "       'positive_rate', 'tests_per_case', 'tests_units', 'total_vaccinations',\n",
       "       'people_vaccinated', 'people_fully_vaccinated', 'new_vaccinations',\n",
       "       'new_vaccinations_smoothed', 'total_vaccinations_per_hundred',\n",
       "       'people_vaccinated_per_hundred', 'people_fully_vaccinated_per_hundred',\n",
       "       'new_vaccinations_smoothed_per_million', 'stringency_index',\n",
       "       'population', 'population_density', 'median_age', 'aged_65_older',\n",
       "       'aged_70_older', 'gdp_per_capita', 'extreme_poverty',\n",
       "       'cardiovasc_death_rate', 'diabetes_prevalence', 'female_smokers',\n",
       "       'male_smokers', 'handwashing_facilities', 'hospital_beds_per_thousand',\n",
       "       'life_expectancy', 'human_development_index'],\n",
       "      dtype='object')"
      ]
     },
     "execution_count": 1,
     "metadata": {},
     "output_type": "execute_result"
    }
   ],
   "source": [
    "df_world.columns"
   ]
  },
  {
   "cell_type": "code",
   "execution_count": 52,
   "metadata": {
    "execution": {
     "iopub.execute_input": "2021-04-05T08:56:11.697165Z",
     "iopub.status.busy": "2021-04-05T08:56:11.696173Z",
     "iopub.status.idle": "2021-04-05T08:56:11.701168Z",
     "shell.execute_reply": "2021-04-05T08:56:11.700168Z"
    }
   },
   "outputs": [],
   "source": [
    "# df_world['location'].unique()"
   ]
  },
  {
   "cell_type": "code",
   "execution_count": 53,
   "metadata": {
    "execution": {
     "iopub.execute_input": "2021-04-05T08:56:11.707811Z",
     "iopub.status.busy": "2021-04-05T08:56:11.706806Z",
     "iopub.status.idle": "2021-04-05T08:56:11.710800Z",
     "shell.execute_reply": "2021-04-05T08:56:11.710800Z"
    }
   },
   "outputs": [],
   "source": [
    "# relevant countries :\n",
    "rel_countries = [\"Germany\", 'Europe', 'World', 'International', 'Indonesia',  'United Kingdom', 'Australia', 'France', \"Italy\", 'United States']"
   ]
  },
  {
   "cell_type": "code",
   "execution_count": 54,
   "metadata": {
    "execution": {
     "iopub.execute_input": "2021-04-05T08:56:11.719813Z",
     "iopub.status.busy": "2021-04-05T08:56:11.718797Z",
     "iopub.status.idle": "2021-04-05T08:56:11.727799Z",
     "shell.execute_reply": "2021-04-05T08:56:11.726802Z"
    }
   },
   "outputs": [],
   "source": [
    "# CFR, total cases per 100k and total deaths, growth_rate, vaccination\n",
    "## add columns for total cases/deaths per 100k\n",
    "df_world['Date'] = df_world['date'] \n",
    "df_world['CFR'] = df_world['total_deaths'] / df_world['total_cases'] * 100\n",
    "df_world['total_cases_per_100k'] = df_world['total_cases_per_million'] / 10\n",
    "df_world['total_deaths_per_100k'] = df_world['total_deaths_per_million'] / 10\n",
    "df_world['new_cases_per_mil'] = df_world['new_cases_per_million']\n"
   ]
  },
  {
   "cell_type": "code",
   "execution_count": 55,
   "metadata": {
    "execution": {
     "iopub.execute_input": "2021-04-05T08:56:11.768039Z",
     "iopub.status.busy": "2021-04-05T08:56:11.767040Z",
     "iopub.status.idle": "2021-04-05T08:56:11.827062Z",
     "shell.execute_reply": "2021-04-05T08:56:11.826076Z"
    }
   },
   "outputs": [
    {
     "data": {
      "text/plain": [
       "3456.9022000000004"
      ]
     },
     "execution_count": 1,
     "metadata": {},
     "output_type": "execute_result"
    }
   ],
   "source": [
    "df_germany = df_world[df_world['location'] == 'Germany']\n",
    "df_germany.head()\n",
    "df_germany['total_cases_per_100k'].iloc[-1]\n",
    "# df_germany['total_cases_per_million'].iloc[-1]"
   ]
  },
  {
   "cell_type": "code",
   "execution_count": 56,
   "metadata": {
    "execution": {
     "iopub.execute_input": "2021-04-05T08:56:11.834069Z",
     "iopub.status.busy": "2021-04-05T08:56:11.833062Z",
     "iopub.status.idle": "2021-04-05T08:56:17.670101Z",
     "shell.execute_reply": "2021-04-05T08:56:17.670101Z"
    }
   },
   "outputs": [],
   "source": [
    "df_world.to_csv(\"world_data.csv\")"
   ]
  },
  {
   "cell_type": "code",
   "execution_count": null,
   "metadata": {},
   "outputs": [],
   "source": []
  }
 ],
 "metadata": {
  "kernelspec": {
   "name": "python3612jvsc74a57bd065435ba89cc7533fc114dd5bc8eb68e094897c9970f1910b28e461766a9f12e6",
   "display_name": "Python 3.6.12 64-bit ('bali_covid_dash_app': conda)"
  },
  "language_info": {
   "codemirror_mode": {
    "name": "ipython",
    "version": 3
   },
   "file_extension": ".py",
   "mimetype": "text/x-python",
   "name": "python",
   "nbconvert_exporter": "python",
   "pygments_lexer": "ipython3",
   "version": "3.6.12-final"
  }
 },
 "nbformat": 4,
 "nbformat_minor": 2
}