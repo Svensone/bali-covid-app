{
 "metadata": {
  "language_info": {
   "codemirror_mode": {
    "name": "ipython",
    "version": 3
   },
   "file_extension": ".py",
   "mimetype": "text/x-python",
   "name": "python",
   "nbconvert_exporter": "python",
   "pygments_lexer": "ipython3",
   "version": "3.7.6-final"
  },
  "orig_nbformat": 2,
  "kernelspec": {
   "name": "python3",
   "display_name": "Python 3",
   "language": "python"
  }
 },
 "nbformat": 4,
 "nbformat_minor": 2,
 "cells": [
  {
   "cell_type": "code",
   "execution_count": 122,
   "metadata": {},
   "outputs": [],
   "source": [
    "import pandas as pd\n",
    "import json\n",
    "import json_lines"
   ]
  },
  {
   "cell_type": "code",
   "execution_count": 123,
   "metadata": {},
   "outputs": [],
   "source": [
    "### 1. COVID DATA BALI REGENCIES\n",
    "###  -------------------------------------\n",
    "\n",
    "## From scrapy spider"
   ]
  },
  {
   "cell_type": "code",
   "execution_count": 124,
   "metadata": {},
   "outputs": [
    {
     "output_type": "execute_result",
     "data": {
      "text/plain": [
       "Index([ '0_x',     10,      1,  '2_x',  '3_x',  '4_x',  '5_x',  '6_x',  '7_x',\n",
       "        '8_x',  '9_x', '10_x',  '0_y',  '2_y',  '3_y',  '4_y',  '5_y',  '6_y',\n",
       "        '7_y',  '8_y',  '9_y', '10_y',     11,     12],\n",
       "      dtype='object')"
      ]
     },
     "metadata": {},
     "execution_count": 124
    }
   ],
   "source": [
    "## Converting Json-Lines File to pandas DataFrame\n",
    "##########################################\n",
    "\n",
    "json_file = r'C:\\Users\\ansve\\Coding\\Projects-WebScraping\\CovidBali\\CovidBali\\CovidBali\\daily.jl'\n",
    "\n",
    "##Extract data from First TABLE\n",
    "###############################################\n",
    "\n",
    "data_first = []\n",
    "with open(json_file, 'rb') as f:\n",
    "    count = 0\n",
    "    for line in json_lines.reader(f, broken=True):\n",
    "        count+=1\n",
    "        if count % 2 == 0: #this is the remainder operator\n",
    "            for x in range(0, 10):\n",
    "                data_first.append(line['data'][x])\n",
    "\n",
    "df_first = pd.DataFrame(data_first)\n",
    "df_first.to_csv('test.csv')\n",
    "\n",
    "##Extract data from SECOND TABLE\n",
    "###############################################\n",
    "data_second = []\n",
    "\n",
    "with open(json_file, 'rb') as f:\n",
    "    count =0\n",
    "    for line in json_lines.reader(f, broken=True):\n",
    "        count+= 1\n",
    "        if count % 2 != 0:\n",
    "            for x in range(0, 10):\n",
    "                data_second.append(line['data'][x])\n",
    "df_second = pd.DataFrame(data_second)\n",
    "df_second.head()\n",
    "\n",
    "## Merge both df\n",
    "#############################\n",
    "df_merged = pd.merge(df_first, df_second, how= 'left', left_on=[1, 10], right_on=[1, 12])\n",
    "df_merged.tail(11)\n",
    "df_bali = df_merged\n",
    "# df_bali.tail()\n",
    "df_bali.columns"
   ]
  },
  {
   "cell_type": "code",
   "execution_count": 125,
   "metadata": {},
   "outputs": [],
   "source": [
    "## Column names from https://infocorona.baliprov.go.id/API/pendataan/laporan-harian-01.php and ...-02.php\n",
    "\n",
    "columns = [\n",
    "    'No','Date', 'Kabupaten / County', 'new_treatment', 'total_treatment', 'new_recovered', 'total_recovered', 'new_deaths', 'total_deaths', 'new_cases', 'total_cases', 'Date1', 'no', 'new PPLN/PMI', 'New history-of-foreign-travel/ migrant-worker (PPLN/PMI)', 'new domestic-travel-histor', 'total domestic-travel-history (PPDN)', 'new_local_transmission', 'total_local_transmission',\t'new_other_transmission', 'total_other_transmission', 'new_cases' ,'total_cases', 'date' ]\n"
   ]
  },
  {
   "cell_type": "code",
   "execution_count": 126,
   "metadata": {},
   "outputs": [],
   "source": [
    "df_bali.columns = columns\n",
    "# df_bali.head()\n",
    "df = df_bali.copy()"
   ]
  },
  {
   "cell_type": "code",
   "execution_count": 127,
   "metadata": {},
   "outputs": [
    {
     "output_type": "execute_result",
     "data": {
      "text/plain": [
       "No                                                           int32\n",
       "Date                                                        object\n",
       "Kabupaten / County                                          object\n",
       "new_treatment                                               object\n",
       "total_treatment                                             object\n",
       "new_recovered                                               object\n",
       "total_recovered                                             object\n",
       "new_deaths                                                  object\n",
       "total_deaths                                                object\n",
       "new_cases                                                   object\n",
       "total_cases                                                 object\n",
       "Date1                                                       object\n",
       "no                                                          object\n",
       "new PPLN/PMI                                                object\n",
       "New history-of-foreign-travel/ migrant-worker (PPLN/PMI)    object\n",
       "new domestic-travel-histor                                  object\n",
       "total domestic-travel-history (PPDN)                        object\n",
       "new_local_transmission                                      object\n",
       "total_local_transmission                                    object\n",
       "new_other_transmission                                      object\n",
       "total_other_transmission                                    object\n",
       "date                                                        object\n",
       "Name_EN                                                     object\n",
       "dtype: object"
      ]
     },
     "metadata": {},
     "execution_count": 127
    }
   ],
   "source": [
    "# delete duplicate columns and convert dtypes\n",
    "df = df.loc[:,~df.columns.duplicated()]\n",
    "\n",
    "## fill NaN in Kabubaten Lain fileds (confirmed cases from outside of bali regency but detected in Bali have no match with reference-data e.g)\n",
    "################################################\n",
    "df_merged = df_merged.fillna(0)\n",
    "df_merged[df_merged.isna().any(axis=1)]\n",
    "\n",
    "## convert columns\n",
    "df['No'] = df['No'].astype(int)\n",
    "df['Name_EN'] = df['Kabupaten / County'].astype(str)\n",
    "df['Name_EN'] = df['Name_EN'].str.casefold()\n",
    "df.dtypes"
   ]
  },
  {
   "cell_type": "code",
   "execution_count": 128,
   "metadata": {},
   "outputs": [
    {
     "output_type": "execute_result",
     "data": {
      "text/plain": [
       "Timestamp('2020-12-05 00:00:00')"
      ]
     },
     "metadata": {},
     "execution_count": 128
    }
   ],
   "source": [
    "from dateutil.parser import parse\n",
    "df['Date'] = df['date'].str.strip()\n",
    "df['Date'] = df['Date'].astype(str)\n",
    "df['Date'] = df['Date'].apply(lambda x: parse(x))\n",
    "df.Date[1]"
   ]
  },
  {
   "cell_type": "code",
   "execution_count": 129,
   "metadata": {},
   "outputs": [],
   "source": [
    "# data cleaning, processing\n",
    "#------------------------\n",
    "\n",
    "# add addtitional data\n",
    "df_ref = pd.read_excel('Bali_reference_data.xlsx')\n",
    "df_ref = df_ref.drop(columns=['https://en.wikipedia.org/wiki/Bali#cite_note-BPS2019-2', 'https://sp2010.bps.go.id/index.php/site/tabel?tid=321&wid=0', 'Source'])\n",
    "df_ref['Name_EN'] = df_ref['Name_Indo'].str.casefold()\n",
    "df_ref.replace('kota denpasar', 'denpasar', inplace=True)\n",
    "df_ref.replace('totals', 'bali', inplace=True)\n",
    "df_ref.replace('Totals', 'Bali', inplace=True)\n",
    "\n",
    "# df_ref.head(15)"
   ]
  },
  {
   "cell_type": "code",
   "execution_count": 130,
   "metadata": {},
   "outputs": [
    {
     "output_type": "execute_result",
     "data": {
      "text/plain": [
       "Index(['No', 'Date', 'Kabupaten / County', 'new_treatment', 'total_treatment',\n",
       "       'new_recovered', 'total_recovered', 'new_deaths', 'total_deaths',\n",
       "       'new_cases', 'total_cases', 'Date1', 'no', 'new PPLN/PMI',\n",
       "       'New history-of-foreign-travel/ migrant-worker (PPLN/PMI)',\n",
       "       'new domestic-travel-histor', 'total domestic-travel-history (PPDN)',\n",
       "       'new_local_transmission', 'total_local_transmission',\n",
       "       'new_other_transmission', 'total_other_transmission', 'new_cases',\n",
       "       'total_cases', 'date'],\n",
       "      dtype='object')"
      ]
     },
     "metadata": {},
     "execution_count": 130
    }
   ],
   "source": [
    "df_merged.columns"
   ]
  },
  {
   "cell_type": "code",
   "execution_count": 131,
   "metadata": {},
   "outputs": [
    {
     "output_type": "stream",
     "name": "stdout",
     "text": [
      "Index([], dtype='object')\n"
     ]
    },
    {
     "output_type": "execute_result",
     "data": {
      "text/plain": [
       "     total_deaths  total_cases  total_deaths_per_100k population_2015  \\\n",
       "0              14          663                   0.05         271.423   \n",
       "1              47         1497                   0.11         435.753   \n",
       "2              51         2509                   0.08         615.148   \n",
       "3              90         3961                   0.10         879.098   \n",
       "4              75         1990                   0.15         494.729   \n",
       "..            ...          ...                    ...             ...   \n",
       "435            40         1036                   0.18         222.474   \n",
       "436            23         1049                   0.13         175.573   \n",
       "437            53         1158                   0.13         408.487   \n",
       "438            75         1515                   0.12         645.893   \n",
       "439             2          172                    NaN             NaN   \n",
       "\n",
       "     total_cases_per_100k  \n",
       "0                    2.44  \n",
       "1                    3.44  \n",
       "2                    4.08  \n",
       "3                    4.51  \n",
       "4                    4.02  \n",
       "..                    ...  \n",
       "435                  4.66  \n",
       "436                  5.97  \n",
       "437                  2.83  \n",
       "438                  2.35  \n",
       "439                   NaN  \n",
       "\n",
       "[440 rows x 5 columns]"
      ],
      "text/html": "<div>\n<style scoped>\n    .dataframe tbody tr th:only-of-type {\n        vertical-align: middle;\n    }\n\n    .dataframe tbody tr th {\n        vertical-align: top;\n    }\n\n    .dataframe thead th {\n        text-align: right;\n    }\n</style>\n<table border=\"1\" class=\"dataframe\">\n  <thead>\n    <tr style=\"text-align: right;\">\n      <th></th>\n      <th>total_deaths</th>\n      <th>total_cases</th>\n      <th>total_deaths_per_100k</th>\n      <th>population_2015</th>\n      <th>total_cases_per_100k</th>\n    </tr>\n  </thead>\n  <tbody>\n    <tr>\n      <th>0</th>\n      <td>14</td>\n      <td>663</td>\n      <td>0.05</td>\n      <td>271.423</td>\n      <td>2.44</td>\n    </tr>\n    <tr>\n      <th>1</th>\n      <td>47</td>\n      <td>1497</td>\n      <td>0.11</td>\n      <td>435.753</td>\n      <td>3.44</td>\n    </tr>\n    <tr>\n      <th>2</th>\n      <td>51</td>\n      <td>2509</td>\n      <td>0.08</td>\n      <td>615.148</td>\n      <td>4.08</td>\n    </tr>\n    <tr>\n      <th>3</th>\n      <td>90</td>\n      <td>3961</td>\n      <td>0.10</td>\n      <td>879.098</td>\n      <td>4.51</td>\n    </tr>\n    <tr>\n      <th>4</th>\n      <td>75</td>\n      <td>1990</td>\n      <td>0.15</td>\n      <td>494.729</td>\n      <td>4.02</td>\n    </tr>\n    <tr>\n      <th>...</th>\n      <td>...</td>\n      <td>...</td>\n      <td>...</td>\n      <td>...</td>\n      <td>...</td>\n    </tr>\n    <tr>\n      <th>435</th>\n      <td>40</td>\n      <td>1036</td>\n      <td>0.18</td>\n      <td>222.474</td>\n      <td>4.66</td>\n    </tr>\n    <tr>\n      <th>436</th>\n      <td>23</td>\n      <td>1049</td>\n      <td>0.13</td>\n      <td>175.573</td>\n      <td>5.97</td>\n    </tr>\n    <tr>\n      <th>437</th>\n      <td>53</td>\n      <td>1158</td>\n      <td>0.13</td>\n      <td>408.487</td>\n      <td>2.83</td>\n    </tr>\n    <tr>\n      <th>438</th>\n      <td>75</td>\n      <td>1515</td>\n      <td>0.12</td>\n      <td>645.893</td>\n      <td>2.35</td>\n    </tr>\n    <tr>\n      <th>439</th>\n      <td>2</td>\n      <td>172</td>\n      <td>NaN</td>\n      <td>NaN</td>\n      <td>NaN</td>\n    </tr>\n  </tbody>\n</table>\n<p>440 rows × 5 columns</p>\n</div>"
     },
     "metadata": {},
     "execution_count": 131
    }
   ],
   "source": [
    "# merge both df on 'Name_EN'\n",
    "df_merged = df.merge(df_ref, on=\"Name_EN\", how='left')\n",
    "df_merged = df_merged.drop(['Date1', 'no'], axis=1)\n",
    "df_merged.columns\n",
    "# # convert to integers\n",
    "int_numbers = ['new_treatment', 'total_treatment',\n",
    "       'new_recovered', 'total_recovered', 'new_deaths', 'total_deaths',\n",
    "       'new_cases', 'total_cases', 'new PPLN/PMI',\n",
    "       'New history-of-foreign-travel/ migrant-worker (PPLN/PMI)',\n",
    "       'new domestic-travel-histor', 'total domestic-travel-history (PPDN)',\n",
    "       'new_local_transmission', 'total_local_transmission',\n",
    "       'new_other_transmission', 'total_other_transmission']\n",
    "## check for duplicated columns\n",
    "print (df_merged.columns[df_merged.columns.duplicated(keep=False)])\n",
    "df_merged[int_numbers] = df_merged[int_numbers].apply(pd.to_numeric)\n",
    "\n",
    "\n",
    "# ## add columns\n",
    "df_merged['total_cases_per_100k'] = df_merged['total_cases'] / df_merged['population_2015'] * 100000\n",
    "df_merged['total_cases_per_100k'] = df_merged['total_cases_per_100k'].apply(pd.to_numeric).round(2)\n",
    "\n",
    "df_merged['total_deaths_per_100k'] = df_merged['total_deaths'] / df_merged['population_2015']\n",
    "df_merged['total_deaths_per_100k'] = df_merged['total_deaths_per_100k'].apply(pd.to_numeric).round(2)\n",
    "\n",
    "df_merged['cases7'] = df_merged['new_cases'].rolling(window=7, center=False).mean()\n",
    "df_merged['cases7_per_100k'] = df_merged['cases7'] / df_merged['population_2015']\n",
    "df_merged['cases7_per_100k'] = df_merged['cases7_per_100k'].apply(pd.to_numeric).round(2)\n",
    "\n",
    "df_merged['total_cases_per_100k'] = df_merged['total_cases'] / df_merged['population_2015']\n",
    "df_merged['total_cases_per_100k'] = df_merged['total_cases_per_100k'].apply(pd.to_numeric).round(2)\n",
    "\n",
    "df_merged['deaths7'] = df_merged['new_deaths'].rolling(window=7, center=False).mean()\n",
    "df_merged['deaths7_per_100k'] = df_merged['total_deaths_per_100k'].rolling(window=7, center=False).mean()\n",
    "df_merged['deaths7_per_100k'] = df_merged['deaths7_per_100k'].apply(pd.to_numeric).round(2)\n",
    "\n",
    "## Check new created values\n",
    "##############################\n",
    "df_merged[['total_deaths', 'total_cases', 'total_deaths_per_100k', 'population_2015', 'total_cases_per_100k']]"
   ]
  },
  {
   "cell_type": "code",
   "execution_count": 134,
   "metadata": {},
   "outputs": [],
   "source": [
    "\n",
    "# ## drop temporary unnecessary columns\n",
    "# drop_columns = ['New PPLN / PMI', 'new PPDN', 'total PPDN',\n",
    "#        'new_local_transmission', 'total_local_transmission',\n",
    "#        'new_other_transmission', 'total_other_transmission', 'Capital', 'population_2000',\n",
    "#        'population_2010', 'HDI_2014_estimate', 'Gouvernor',\n",
    "#        'Nr. of Sub-Districts', 'Nr of Keluruhan/Villages', 'area_km2' ]\n",
    "# df_clean = df_merged.drop(columns=drop_columns)"
   ]
  },
  {
   "cell_type": "code",
   "execution_count": 135,
   "metadata": {},
   "outputs": [],
   "source": [
    "## check NaN in df \n",
    "# nan_rows = df_clean[df_clean['population_2015'].isnull()]\n",
    "# nan_rows"
   ]
  },
  {
   "cell_type": "code",
   "execution_count": 136,
   "metadata": {},
   "outputs": [],
   "source": [
    "# infection fatality ratio (IFR), which estimates this proportion of deaths among all infected individuals. The second is case fatality ratio (CFR), which estimates this proportion of deaths among identified confirmed cases. \n",
    "# see https://www.who.int/news-room/commentaries/detail/estimating-mortality-from-covid-19\n",
    "\n",
    "df_merged['CFR'] = df_merged['total_deaths'] / df_merged['total_cases'] * 100\n",
    "df_merged['CFR'] = df_merged['CFR'].round(2)\n",
    "df_merged['growth_rate'] = df_merged['cases7'].pct_change(fill_method ='ffill', periods=7)"
   ]
  },
  {
   "cell_type": "code",
   "execution_count": 137,
   "metadata": {},
   "outputs": [
    {
     "output_type": "execute_result",
     "data": {
      "text/plain": [
       "   No       Date Kabupaten / County  new_treatment  total_treatment  \\\n",
       "0   1 2020-12-05           JEMBRANA             -7               70   \n",
       "1   2 2020-12-05            TABANAN            -10              434   \n",
       "2   3 2020-12-05             BADUNG             -9              159   \n",
       "3   4 2020-12-05           DENPASAR              1              166   \n",
       "4   5 2020-12-05            GIANYAR            -16              234   \n",
       "\n",
       "   new_recovered  total_recovered  new_deaths  total_deaths  new_cases  ...  \\\n",
       "0              7              579           1            14          1  ...   \n",
       "1             35             1016           0            47         25  ...   \n",
       "2             27             2299           0            51         18  ...   \n",
       "3             26             3705           0            90         27  ...   \n",
       "4             31             1681           0            75         15  ...   \n",
       "\n",
       "   Nr of Keluruhan/Villages  total_cases_per_100k  total_deaths_per_100k  \\\n",
       "0                     10/41                  2.44                   0.05   \n",
       "1                     -/133                  3.44                   0.11   \n",
       "2                     16/46                  4.08                   0.08   \n",
       "3                     16/27                  4.51                   0.10   \n",
       "4                      6/64                  4.02                   0.15   \n",
       "\n",
       "   cases7  cases7_per_100k  deaths7  deaths7_per_100k   CFR  growth_rate id  \n",
       "0     NaN              NaN      NaN               NaN  2.11          NaN  5  \n",
       "1     NaN              NaN      NaN               NaN  3.14          NaN  9  \n",
       "2     NaN              NaN      NaN               NaN  2.03          NaN  1  \n",
       "3     NaN              NaN      NaN               NaN  2.27          NaN  8  \n",
       "4     NaN              NaN      NaN               NaN  3.77          NaN  4  \n",
       "\n",
       "[5 rows x 40 columns]"
      ],
      "text/html": "<div>\n<style scoped>\n    .dataframe tbody tr th:only-of-type {\n        vertical-align: middle;\n    }\n\n    .dataframe tbody tr th {\n        vertical-align: top;\n    }\n\n    .dataframe thead th {\n        text-align: right;\n    }\n</style>\n<table border=\"1\" class=\"dataframe\">\n  <thead>\n    <tr style=\"text-align: right;\">\n      <th></th>\n      <th>No</th>\n      <th>Date</th>\n      <th>Kabupaten / County</th>\n      <th>new_treatment</th>\n      <th>total_treatment</th>\n      <th>new_recovered</th>\n      <th>total_recovered</th>\n      <th>new_deaths</th>\n      <th>total_deaths</th>\n      <th>new_cases</th>\n      <th>...</th>\n      <th>Nr of Keluruhan/Villages</th>\n      <th>total_cases_per_100k</th>\n      <th>total_deaths_per_100k</th>\n      <th>cases7</th>\n      <th>cases7_per_100k</th>\n      <th>deaths7</th>\n      <th>deaths7_per_100k</th>\n      <th>CFR</th>\n      <th>growth_rate</th>\n      <th>id</th>\n    </tr>\n  </thead>\n  <tbody>\n    <tr>\n      <th>0</th>\n      <td>1</td>\n      <td>2020-12-05</td>\n      <td>JEMBRANA</td>\n      <td>-7</td>\n      <td>70</td>\n      <td>7</td>\n      <td>579</td>\n      <td>1</td>\n      <td>14</td>\n      <td>1</td>\n      <td>...</td>\n      <td>10/41</td>\n      <td>2.44</td>\n      <td>0.05</td>\n      <td>NaN</td>\n      <td>NaN</td>\n      <td>NaN</td>\n      <td>NaN</td>\n      <td>2.11</td>\n      <td>NaN</td>\n      <td>5</td>\n    </tr>\n    <tr>\n      <th>1</th>\n      <td>2</td>\n      <td>2020-12-05</td>\n      <td>TABANAN</td>\n      <td>-10</td>\n      <td>434</td>\n      <td>35</td>\n      <td>1016</td>\n      <td>0</td>\n      <td>47</td>\n      <td>25</td>\n      <td>...</td>\n      <td>-/133</td>\n      <td>3.44</td>\n      <td>0.11</td>\n      <td>NaN</td>\n      <td>NaN</td>\n      <td>NaN</td>\n      <td>NaN</td>\n      <td>3.14</td>\n      <td>NaN</td>\n      <td>9</td>\n    </tr>\n    <tr>\n      <th>2</th>\n      <td>3</td>\n      <td>2020-12-05</td>\n      <td>BADUNG</td>\n      <td>-9</td>\n      <td>159</td>\n      <td>27</td>\n      <td>2299</td>\n      <td>0</td>\n      <td>51</td>\n      <td>18</td>\n      <td>...</td>\n      <td>16/46</td>\n      <td>4.08</td>\n      <td>0.08</td>\n      <td>NaN</td>\n      <td>NaN</td>\n      <td>NaN</td>\n      <td>NaN</td>\n      <td>2.03</td>\n      <td>NaN</td>\n      <td>1</td>\n    </tr>\n    <tr>\n      <th>3</th>\n      <td>4</td>\n      <td>2020-12-05</td>\n      <td>DENPASAR</td>\n      <td>1</td>\n      <td>166</td>\n      <td>26</td>\n      <td>3705</td>\n      <td>0</td>\n      <td>90</td>\n      <td>27</td>\n      <td>...</td>\n      <td>16/27</td>\n      <td>4.51</td>\n      <td>0.10</td>\n      <td>NaN</td>\n      <td>NaN</td>\n      <td>NaN</td>\n      <td>NaN</td>\n      <td>2.27</td>\n      <td>NaN</td>\n      <td>8</td>\n    </tr>\n    <tr>\n      <th>4</th>\n      <td>5</td>\n      <td>2020-12-05</td>\n      <td>GIANYAR</td>\n      <td>-16</td>\n      <td>234</td>\n      <td>31</td>\n      <td>1681</td>\n      <td>0</td>\n      <td>75</td>\n      <td>15</td>\n      <td>...</td>\n      <td>6/64</td>\n      <td>4.02</td>\n      <td>0.15</td>\n      <td>NaN</td>\n      <td>NaN</td>\n      <td>NaN</td>\n      <td>NaN</td>\n      <td>3.77</td>\n      <td>NaN</td>\n      <td>4</td>\n    </tr>\n  </tbody>\n</table>\n<p>5 rows × 40 columns</p>\n</div>"
     },
     "metadata": {},
     "execution_count": 137
    }
   ],
   "source": [
    "## add id from geojson file\n",
    "geojson_bali = 'new_bali_id.geojson'\n",
    "\n",
    "# open new geojson (with id) file\n",
    "bali_geo_id = json.load(open(geojson_bali, 'r'))\n",
    "\n",
    "## get names of regencies\n",
    "regencies = []\n",
    "for regency in bali_geo_id['features']:\n",
    "  regencies.append(regency['properties']['ADM2_EN'])\n",
    "\n",
    "  # add id column in df with feature.id from geojson\n",
    "bali_id_map = {}\n",
    "for regency in bali_geo_id['features']:\n",
    "  bali_id_map[regency['properties']['ADM2_EN']] = regency['id']\n",
    "bali_id_map\n",
    "\n",
    "## for Foreigners or Other Regency add 'id' = 0\n",
    "df_merged['id'] = df_merged['Name_Indo'].apply(lambda x: bali_id_map[x] if x in bali_id_map else 0)\n",
    "df_merged.head()"
   ]
  },
  {
   "cell_type": "code",
   "execution_count": 138,
   "metadata": {},
   "outputs": [],
   "source": [
    "df_merged.to_csv('bali_regency_data.csv')"
   ]
  },
  {
   "cell_type": "code",
   "execution_count": 139,
   "metadata": {},
   "outputs": [],
   "source": [
    "### 2. INDONESIA COVID DATA \n",
    "###  -------------------------------------\n",
    "\n",
    "## From Kaggel Dataset\n",
    "# 1. connect to kaggle and get latest dataset\n"
   ]
  },
  {
   "cell_type": "code",
   "execution_count": 140,
   "metadata": {},
   "outputs": [
    {
     "output_type": "stream",
     "name": "stdout",
     "text": [
      "Requirement already satisfied: kaggle in c:\\programdata\\anaconda3\\lib\\site-packages (1.5.10)\nRequirement already satisfied: urllib3 in c:\\programdata\\anaconda3\\lib\\site-packages (from kaggle) (1.25.8)\nRequirement already satisfied: python-dateutil in c:\\programdata\\anaconda3\\lib\\site-packages (from kaggle) (2.8.1)\nRequirement already satisfied: requests in c:\\programdata\\anaconda3\\lib\\site-packages (from kaggle) (2.22.0)\nRequirement already satisfied: certifi in c:\\programdata\\anaconda3\\lib\\site-packages (from kaggle) (2019.11.28)\nRequirement already satisfied: six>=1.10 in c:\\programdata\\anaconda3\\lib\\site-packages (from kaggle) (1.14.0)\nRequirement already satisfied: tqdm in c:\\programdata\\anaconda3\\lib\\site-packages (from kaggle) (4.42.1)\nRequirement already satisfied: python-slugify in c:\\programdata\\anaconda3\\lib\\site-packages (from kaggle) (4.0.1)\nRequirement already satisfied: chardet<3.1.0,>=3.0.2 in c:\\programdata\\anaconda3\\lib\\site-packages (from requests->kaggle) (3.0.4)\nRequirement already satisfied: idna<2.9,>=2.5 in c:\\programdata\\anaconda3\\lib\\site-packages (from requests->kaggle) (2.8)\nRequirement already satisfied: text-unidecode>=1.3 in c:\\programdata\\anaconda3\\lib\\site-packages (from python-slugify->kaggle) (1.3)\nNote: you may need to restart the kernel to use updated packages.\n"
     ]
    }
   ],
   "source": [
    "pip install kaggle"
   ]
  },
  {
   "cell_type": "code",
   "execution_count": 141,
   "metadata": {},
   "outputs": [],
   "source": [
    "from kaggle.api.kaggle_api_extended import KaggleApi\n",
    "\n",
    "# from keys import kaggle_api\n",
    "\n",
    "## 1. with Kaggle Api\n",
    "api =KaggleApi()\n",
    "api.authenticate()\n",
    "\n",
    "# downoad single file\n",
    "#Signature: dataset_download_file(dataset, file_name, path=None, force=False, quiet=True)\n",
    "api.dataset_download_files('hendratno/covid19-indonesia/covid_19_indonesia_time_series_all.csv', unzip = True)\n",
    "# "
   ]
  },
  {
   "cell_type": "code",
   "execution_count": 142,
   "metadata": {},
   "outputs": [
    {
     "output_type": "execute_result",
     "data": {
      "text/plain": [
       "       Date Location ISO Code     Location  New Cases  New Deaths  \\\n",
       "0  3/1/2020             ID-JK  DKI Jakarta          2           0   \n",
       "1  3/2/2020             ID-JK  DKI Jakarta          2           0   \n",
       "2  3/2/2020               IDN    Indonesia          2           0   \n",
       "3  3/2/2020             ID-JB   Jawa Barat          3           0   \n",
       "4  3/2/2020             ID-RI         Riau          1           0   \n",
       "\n",
       "   New Recovered  New Active Cases  Total Cases  Total Deaths  \\\n",
       "0              0                 2          489            20   \n",
       "1              0                 2          491            20   \n",
       "2              0                 2            2             0   \n",
       "3              0                 3           12             5   \n",
       "4              0                 1            2             1   \n",
       "\n",
       "   Total Recovered  ...   Longitude  Latitude  New Cases per Million  \\\n",
       "0               39  ...  106.836118 -6.204699                   0.18   \n",
       "1               39  ...  106.836118 -6.204699                   0.18   \n",
       "2                0  ...  113.921327 -0.789275                   0.01   \n",
       "3              120  ...  107.603708 -6.920432                   0.07   \n",
       "4                1  ...  101.805109  0.511648                   0.16   \n",
       "\n",
       "  Total Cases per Million New Deaths per Million Total Deaths per Million  \\\n",
       "0                   45.09                    0.0                     1.84   \n",
       "1                   45.27                    0.0                     1.84   \n",
       "2                    0.01                    0.0                     0.00   \n",
       "3                    0.27                    0.0                     0.11   \n",
       "4                    0.33                    0.0                     0.16   \n",
       "\n",
       "  Case Fatality Rate Case Recovered Rate Growth Factor of New Cases  \\\n",
       "0              4.09%               7.98%                        NaN   \n",
       "1              4.07%               7.94%                        1.0   \n",
       "2              0.00%               0.00%                        NaN   \n",
       "3             41.67%            1000.00%                        NaN   \n",
       "4             50.00%              50.00%                        NaN   \n",
       "\n",
       "   Growth Factor of New Deaths  \n",
       "0                          NaN  \n",
       "1                          1.0  \n",
       "2                          NaN  \n",
       "3                          NaN  \n",
       "4                          NaN  \n",
       "\n",
       "[5 rows x 37 columns]"
      ],
      "text/html": "<div>\n<style scoped>\n    .dataframe tbody tr th:only-of-type {\n        vertical-align: middle;\n    }\n\n    .dataframe tbody tr th {\n        vertical-align: top;\n    }\n\n    .dataframe thead th {\n        text-align: right;\n    }\n</style>\n<table border=\"1\" class=\"dataframe\">\n  <thead>\n    <tr style=\"text-align: right;\">\n      <th></th>\n      <th>Date</th>\n      <th>Location ISO Code</th>\n      <th>Location</th>\n      <th>New Cases</th>\n      <th>New Deaths</th>\n      <th>New Recovered</th>\n      <th>New Active Cases</th>\n      <th>Total Cases</th>\n      <th>Total Deaths</th>\n      <th>Total Recovered</th>\n      <th>...</th>\n      <th>Longitude</th>\n      <th>Latitude</th>\n      <th>New Cases per Million</th>\n      <th>Total Cases per Million</th>\n      <th>New Deaths per Million</th>\n      <th>Total Deaths per Million</th>\n      <th>Case Fatality Rate</th>\n      <th>Case Recovered Rate</th>\n      <th>Growth Factor of New Cases</th>\n      <th>Growth Factor of New Deaths</th>\n    </tr>\n  </thead>\n  <tbody>\n    <tr>\n      <th>0</th>\n      <td>3/1/2020</td>\n      <td>ID-JK</td>\n      <td>DKI Jakarta</td>\n      <td>2</td>\n      <td>0</td>\n      <td>0</td>\n      <td>2</td>\n      <td>489</td>\n      <td>20</td>\n      <td>39</td>\n      <td>...</td>\n      <td>106.836118</td>\n      <td>-6.204699</td>\n      <td>0.18</td>\n      <td>45.09</td>\n      <td>0.0</td>\n      <td>1.84</td>\n      <td>4.09%</td>\n      <td>7.98%</td>\n      <td>NaN</td>\n      <td>NaN</td>\n    </tr>\n    <tr>\n      <th>1</th>\n      <td>3/2/2020</td>\n      <td>ID-JK</td>\n      <td>DKI Jakarta</td>\n      <td>2</td>\n      <td>0</td>\n      <td>0</td>\n      <td>2</td>\n      <td>491</td>\n      <td>20</td>\n      <td>39</td>\n      <td>...</td>\n      <td>106.836118</td>\n      <td>-6.204699</td>\n      <td>0.18</td>\n      <td>45.27</td>\n      <td>0.0</td>\n      <td>1.84</td>\n      <td>4.07%</td>\n      <td>7.94%</td>\n      <td>1.0</td>\n      <td>1.0</td>\n    </tr>\n    <tr>\n      <th>2</th>\n      <td>3/2/2020</td>\n      <td>IDN</td>\n      <td>Indonesia</td>\n      <td>2</td>\n      <td>0</td>\n      <td>0</td>\n      <td>2</td>\n      <td>2</td>\n      <td>0</td>\n      <td>0</td>\n      <td>...</td>\n      <td>113.921327</td>\n      <td>-0.789275</td>\n      <td>0.01</td>\n      <td>0.01</td>\n      <td>0.0</td>\n      <td>0.00</td>\n      <td>0.00%</td>\n      <td>0.00%</td>\n      <td>NaN</td>\n      <td>NaN</td>\n    </tr>\n    <tr>\n      <th>3</th>\n      <td>3/2/2020</td>\n      <td>ID-JB</td>\n      <td>Jawa Barat</td>\n      <td>3</td>\n      <td>0</td>\n      <td>0</td>\n      <td>3</td>\n      <td>12</td>\n      <td>5</td>\n      <td>120</td>\n      <td>...</td>\n      <td>107.603708</td>\n      <td>-6.920432</td>\n      <td>0.07</td>\n      <td>0.27</td>\n      <td>0.0</td>\n      <td>0.11</td>\n      <td>41.67%</td>\n      <td>1000.00%</td>\n      <td>NaN</td>\n      <td>NaN</td>\n    </tr>\n    <tr>\n      <th>4</th>\n      <td>3/2/2020</td>\n      <td>ID-RI</td>\n      <td>Riau</td>\n      <td>1</td>\n      <td>0</td>\n      <td>0</td>\n      <td>1</td>\n      <td>2</td>\n      <td>1</td>\n      <td>1</td>\n      <td>...</td>\n      <td>101.805109</td>\n      <td>0.511648</td>\n      <td>0.16</td>\n      <td>0.33</td>\n      <td>0.0</td>\n      <td>0.16</td>\n      <td>50.00%</td>\n      <td>50.00%</td>\n      <td>NaN</td>\n      <td>NaN</td>\n    </tr>\n  </tbody>\n</table>\n<p>5 rows × 37 columns</p>\n</div>"
     },
     "metadata": {},
     "execution_count": 142
    }
   ],
   "source": [
    "df_indo = pd.read_csv('covid_19_indonesia_time_series_all.csv')\n",
    "\n",
    "df_indo.head()"
   ]
  },
  {
   "cell_type": "code",
   "execution_count": 143,
   "metadata": {},
   "outputs": [],
   "source": [
    "# df_indo.dtypes"
   ]
  },
  {
   "cell_type": "code",
   "execution_count": 144,
   "metadata": {},
   "outputs": [
    {
     "output_type": "stream",
     "name": "stdout",
     "text": [
      "['No', 'Date', 'Kabupaten / County', 'new_treatment', 'total_treatment', 'new_recovered', 'total_recovered', 'new_deaths', 'total_deaths', 'new_cases', 'total_cases', 'new PPLN/PMI', 'New history-of-foreign-travel/ migrant-worker (PPLN/PMI)', 'new domestic-travel-histor', 'total domestic-travel-history (PPDN)', 'new_local_transmission', 'total_local_transmission', 'new_other_transmission', 'total_other_transmission', 'date', 'Name_EN', 'Name_Indo', 'Capital', 'area_km2', 'population_2000', 'population_2010', 'population_2015', 'HDI_2014_estimate', 'Gouvernor', 'Nr. of Sub-Districts', 'Nr of Keluruhan/Villages', 'total_cases_per_100k', 'total_deaths_per_100k', 'cases7', 'cases7_per_100k', 'deaths7', 'deaths7_per_100k', 'CFR', 'growth_rate', 'id']\n"
     ]
    }
   ],
   "source": [
    "print(list(df_merged.columns))"
   ]
  },
  {
   "cell_type": "code",
   "execution_count": 145,
   "metadata": {},
   "outputs": [
    {
     "output_type": "execute_result",
     "data": {
      "text/plain": [
       "Index(['Date', 'Location ISO Code', 'Location', 'new_cases', 'new_deaths',\n",
       "       'new_recovered', 'New Active Cases', 'total_cases', 'total_deaths',\n",
       "       'total_recovered', 'Total Active Cases', 'Location Level',\n",
       "       'City or Regency', 'Province', 'Country', 'Continent', 'Island',\n",
       "       'Time Zone', 'Special Status', 'Total Regencies', 'Total Cities',\n",
       "       'Total Districts', 'Total Urban Villages', 'Total Rural Villages',\n",
       "       'Area (km2)', 'Population', 'Population Density', 'Longitude',\n",
       "       'Latitude', 'New Cases per Million', 'Total Cases per Million',\n",
       "       'New Deaths per Million', 'Total Deaths per Million', 'CFR',\n",
       "       'Case Recovered Rate', 'Growth Factor of New Cases',\n",
       "       'Growth Factor of New Deaths'],\n",
       "      dtype='object')"
      ]
     },
     "metadata": {},
     "execution_count": 145
    }
   ],
   "source": [
    "# adjust column names\n",
    "columns_new = ['Date', 'Location ISO Code', 'Location', 'new_cases', 'new_deaths',\n",
    "       'new_recovered', 'New Active Cases', 'total_cases', 'total_deaths',\n",
    "       'total_recovered', 'Total Active Cases', 'Location Level',\n",
    "       'City or Regency', 'Province', 'Country', 'Continent', 'Island',\n",
    "       'Time Zone', 'Special Status', 'Total Regencies', 'Total Cities',\n",
    "       'Total Districts', 'Total Urban Villages', 'Total Rural Villages',\n",
    "       'Area (km2)', 'Population', 'Population Density', 'Longitude',\n",
    "       'Latitude', 'New Cases per Million', 'Total Cases per Million',\n",
    "       'New Deaths per Million', 'Total Deaths per Million',\n",
    "       'CFR', 'Case Recovered Rate',\n",
    "       'Growth Factor of New Cases', 'Growth Factor of New Deaths']\n",
    "\n",
    "df_indo.columns = columns_new\n",
    "df_indo.columns"
   ]
  },
  {
   "cell_type": "code",
   "execution_count": 146,
   "metadata": {},
   "outputs": [
    {
     "output_type": "execute_result",
     "data": {
      "text/plain": [
       "            Date Location ISO Code           Location  new_cases  new_deaths  \\\n",
       "9954  12/31/2020             ID-SG  Sulawesi Tenggara         38           0   \n",
       "9955  12/31/2020             ID-SA     Sulawesi Utara         88           1   \n",
       "9956  12/31/2020             ID-SB     Sumatera Barat        117           3   \n",
       "9957  12/31/2020             ID-SS   Sumatera Selatan         92           1   \n",
       "9958  12/31/2020             ID-SU     Sumatera Utara         83           0   \n",
       "\n",
       "      new_recovered  New Active Cases  total_cases  total_deaths  \\\n",
       "9954             24                14         7907           147   \n",
       "9955              0                87         9671           310   \n",
       "9956             26                88        23464           522   \n",
       "9957             50                41        11826           599   \n",
       "9958             82                 1        18149           679   \n",
       "\n",
       "      total_recovered  ...            Name_EN new_cases_per_100k  \\\n",
       "9954             6696  ...  sulawesi tenggara               0.14   \n",
       "9955             7003  ...     sulawesi utara               0.33   \n",
       "9956            18030  ...     sumatera barat               0.21   \n",
       "9957             9364  ...   sumatera selatan               0.11   \n",
       "9958            15403  ...     sumatera utara               0.06   \n",
       "\n",
       "      new_deaths_per_100k total_cases_per_100k total_deaths_per_100k  cases7  \\\n",
       "9954                 0.00                30.00                  0.56  133.86   \n",
       "9955                 0.00                36.61                  1.17  138.57   \n",
       "9956                 0.01                42.51                  0.95  150.57   \n",
       "9957                 0.00                14.39                  0.73  148.00   \n",
       "9958                 0.00                12.20                  0.46  156.00   \n",
       "\n",
       "     deaths7 cases7_per_100k deaths7_per_100k  growth_rate  \n",
       "9954    0.29            5.08             0.01         0.60  \n",
       "9955    0.29            5.25             0.01         2.59  \n",
       "9956    0.71            2.73             0.01         0.94  \n",
       "9957    0.71            1.80             0.01         0.84  \n",
       "9958    0.71            1.05             0.00         0.93  \n",
       "\n",
       "[5 rows x 47 columns]"
      ],
      "text/html": "<div>\n<style scoped>\n    .dataframe tbody tr th:only-of-type {\n        vertical-align: middle;\n    }\n\n    .dataframe tbody tr th {\n        vertical-align: top;\n    }\n\n    .dataframe thead th {\n        text-align: right;\n    }\n</style>\n<table border=\"1\" class=\"dataframe\">\n  <thead>\n    <tr style=\"text-align: right;\">\n      <th></th>\n      <th>Date</th>\n      <th>Location ISO Code</th>\n      <th>Location</th>\n      <th>new_cases</th>\n      <th>new_deaths</th>\n      <th>new_recovered</th>\n      <th>New Active Cases</th>\n      <th>total_cases</th>\n      <th>total_deaths</th>\n      <th>total_recovered</th>\n      <th>...</th>\n      <th>Name_EN</th>\n      <th>new_cases_per_100k</th>\n      <th>new_deaths_per_100k</th>\n      <th>total_cases_per_100k</th>\n      <th>total_deaths_per_100k</th>\n      <th>cases7</th>\n      <th>deaths7</th>\n      <th>cases7_per_100k</th>\n      <th>deaths7_per_100k</th>\n      <th>growth_rate</th>\n    </tr>\n  </thead>\n  <tbody>\n    <tr>\n      <th>9954</th>\n      <td>12/31/2020</td>\n      <td>ID-SG</td>\n      <td>Sulawesi Tenggara</td>\n      <td>38</td>\n      <td>0</td>\n      <td>24</td>\n      <td>14</td>\n      <td>7907</td>\n      <td>147</td>\n      <td>6696</td>\n      <td>...</td>\n      <td>sulawesi tenggara</td>\n      <td>0.14</td>\n      <td>0.00</td>\n      <td>30.00</td>\n      <td>0.56</td>\n      <td>133.86</td>\n      <td>0.29</td>\n      <td>5.08</td>\n      <td>0.01</td>\n      <td>0.60</td>\n    </tr>\n    <tr>\n      <th>9955</th>\n      <td>12/31/2020</td>\n      <td>ID-SA</td>\n      <td>Sulawesi Utara</td>\n      <td>88</td>\n      <td>1</td>\n      <td>0</td>\n      <td>87</td>\n      <td>9671</td>\n      <td>310</td>\n      <td>7003</td>\n      <td>...</td>\n      <td>sulawesi utara</td>\n      <td>0.33</td>\n      <td>0.00</td>\n      <td>36.61</td>\n      <td>1.17</td>\n      <td>138.57</td>\n      <td>0.29</td>\n      <td>5.25</td>\n      <td>0.01</td>\n      <td>2.59</td>\n    </tr>\n    <tr>\n      <th>9956</th>\n      <td>12/31/2020</td>\n      <td>ID-SB</td>\n      <td>Sumatera Barat</td>\n      <td>117</td>\n      <td>3</td>\n      <td>26</td>\n      <td>88</td>\n      <td>23464</td>\n      <td>522</td>\n      <td>18030</td>\n      <td>...</td>\n      <td>sumatera barat</td>\n      <td>0.21</td>\n      <td>0.01</td>\n      <td>42.51</td>\n      <td>0.95</td>\n      <td>150.57</td>\n      <td>0.71</td>\n      <td>2.73</td>\n      <td>0.01</td>\n      <td>0.94</td>\n    </tr>\n    <tr>\n      <th>9957</th>\n      <td>12/31/2020</td>\n      <td>ID-SS</td>\n      <td>Sumatera Selatan</td>\n      <td>92</td>\n      <td>1</td>\n      <td>50</td>\n      <td>41</td>\n      <td>11826</td>\n      <td>599</td>\n      <td>9364</td>\n      <td>...</td>\n      <td>sumatera selatan</td>\n      <td>0.11</td>\n      <td>0.00</td>\n      <td>14.39</td>\n      <td>0.73</td>\n      <td>148.00</td>\n      <td>0.71</td>\n      <td>1.80</td>\n      <td>0.01</td>\n      <td>0.84</td>\n    </tr>\n    <tr>\n      <th>9958</th>\n      <td>12/31/2020</td>\n      <td>ID-SU</td>\n      <td>Sumatera Utara</td>\n      <td>83</td>\n      <td>0</td>\n      <td>82</td>\n      <td>1</td>\n      <td>18149</td>\n      <td>679</td>\n      <td>15403</td>\n      <td>...</td>\n      <td>sumatera utara</td>\n      <td>0.06</td>\n      <td>0.00</td>\n      <td>12.20</td>\n      <td>0.46</td>\n      <td>156.00</td>\n      <td>0.71</td>\n      <td>1.05</td>\n      <td>0.00</td>\n      <td>0.93</td>\n    </tr>\n  </tbody>\n</table>\n<p>5 rows × 47 columns</p>\n</div>"
     },
     "metadata": {},
     "execution_count": 146
    }
   ],
   "source": [
    "\n",
    "# add columns so consistent with Bali_regency data\n",
    "df_indo['Name_EN'] = df_indo['Location'].str.casefold()\n",
    "\n",
    "df_indo['new_cases_per_100k'] = df_indo['New Cases per Million'] / 100.0\n",
    "df_indo['new_cases_per_100k'] = df_indo['new_cases_per_100k'].round(2)\n",
    "\n",
    "df_indo['new_deaths_per_100k'] = df_indo['New Deaths per Million'] / 100.0\n",
    "df_indo['new_deaths_per_100k']= df_indo['new_deaths_per_100k'].round(2)\n",
    "\n",
    "df_indo['total_cases_per_100k'] = df_indo['Total Cases per Million'] / 100.0\n",
    "df_indo['total_cases_per_100k'] = df_indo['total_cases_per_100k'].round(2)\n",
    "\n",
    "df_indo['total_deaths_per_100k'] = df_indo['Total Deaths per Million'] / 100.0\n",
    "df_indo['total_deaths_per_100k'] = df_indo['total_deaths_per_100k'].round(2)\n",
    "\n",
    "# rolling 7-day average\n",
    "df_indo['cases7'] = df_indo['new_cases'].rolling(window=7, center=False).mean().round(2)\n",
    "df_indo['deaths7'] = df_indo['new_deaths'].rolling(window=7, center = False).mean().round(2)\n",
    "\n",
    "df_indo['cases7_per_100k'] = df_indo['cases7'] / df_indo['Population'] *100000\n",
    "df_indo['deaths7_per_100k'] = df_indo['deaths7'] / df_indo['Population'] *100000\n",
    "df_indo['cases7_per_100k'] = df_indo['cases7_per_100k'].round(2)\n",
    "df_indo['deaths7_per_100k'] = df_indo['deaths7_per_100k'].round(2)\n",
    "\n",
    "df_indo['growth_rate'] = df_indo['Growth Factor of New Cases']\n",
    "# df_indo['growth_rate'] = df_indo['cases7'].pct_change(periods=7, fill_method='ffill')\n",
    "\n",
    "df_indo.tail()"
   ]
  },
  {
   "cell_type": "code",
   "execution_count": 147,
   "metadata": {},
   "outputs": [],
   "source": [
    "## add id from geojson\n",
    "geojson_indo = 'new_indo_id.geojson'\n",
    "\n",
    "# open new geojson (with id) file\n",
    "indo_geo_id = json.load(open(geojson_indo, 'r'))\n"
   ]
  },
  {
   "cell_type": "code",
   "execution_count": 148,
   "metadata": {},
   "outputs": [
    {
     "output_type": "execute_result",
     "data": {
      "text/plain": [
       "8"
      ]
     },
     "metadata": {},
     "execution_count": 148
    }
   ],
   "source": [
    "indo_geo_id['features'][7]['id']"
   ]
  },
  {
   "cell_type": "code",
   "execution_count": 149,
   "metadata": {},
   "outputs": [
    {
     "output_type": "execute_result",
     "data": {
      "text/plain": [
       "['Irian Jaya Barat', 'Yogyakarta', 'Jakarta Raya', 'Bangka-Belitung']"
      ]
     },
     "metadata": {},
     "execution_count": 149
    }
   ],
   "source": [
    "## ADJUST NAMES OF df_indo with NAMES OF GEOJSON ADM1_EN\n",
    "\n",
    "# which names are different\n",
    "names_df = df_indo['Location'].unique()\n",
    "provinces = []\n",
    "for province in indo_geo_id['features']:\n",
    "  provinces.append(province['properties']['state'])\n",
    "\n",
    "list(set(provinces) - set(names_df))"
   ]
  },
  {
   "cell_type": "code",
   "execution_count": 150,
   "metadata": {},
   "outputs": [],
   "source": [
    "list_df = ['DKI Jakarta', 'Kalimantan Utara', 'Daerah Istimewa Yogyakarta', 'Papua Barat','Kepulauan Bangka Belitung']\n",
    "\n",
    "list(set(provinces) - set(names_df))\n",
    "list1= ['Bangka-Belitung', 'Jakarta Raya', 'Yogyakarta', 'Irian Jaya Barat']\n"
   ]
  },
  {
   "cell_type": "code",
   "execution_count": 151,
   "metadata": {},
   "outputs": [],
   "source": [
    "# adjust Names of provnices in Indo\n",
    "\n",
    "df_indo = df_indo.replace(\"DKI Jakarta\", 'Jakarta Raya')\n",
    "df_indo = df_indo.replace(\"Papua Barat\", 'Irian Jaya Barat')\n",
    "df_indo = df_indo.replace(\"Daerah Istimewa Yogyakarta\", 'Yogyakarta')\n",
    "df_indo = df_indo.replace(\"Kepulauan Bangka Belitung\", 'Bangka-Belitung')"
   ]
  },
  {
   "cell_type": "code",
   "execution_count": 152,
   "metadata": {},
   "outputs": [
    {
     "output_type": "execute_result",
     "data": {
      "text/plain": [
       "       Date Location ISO Code      Location  new_cases  new_deaths  \\\n",
       "0  3/1/2020             ID-JK  Jakarta Raya          2           0   \n",
       "1  3/2/2020             ID-JK  Jakarta Raya          2           0   \n",
       "2  3/2/2020               IDN     Indonesia          2           0   \n",
       "3  3/2/2020             ID-JB    Jawa Barat          3           0   \n",
       "4  3/2/2020             ID-RI          Riau          1           0   \n",
       "\n",
       "   new_recovered  New Active Cases  total_cases  total_deaths  \\\n",
       "0              0                 2          489            20   \n",
       "1              0                 2          491            20   \n",
       "2              0                 2            2             0   \n",
       "3              0                 3           12             5   \n",
       "4              0                 1            2             1   \n",
       "\n",
       "   total_recovered  ...  new_cases_per_100k new_deaths_per_100k  \\\n",
       "0               39  ...                 0.0                 0.0   \n",
       "1               39  ...                 0.0                 0.0   \n",
       "2                0  ...                 0.0                 0.0   \n",
       "3              120  ...                 0.0                 0.0   \n",
       "4                1  ...                 0.0                 0.0   \n",
       "\n",
       "   total_cases_per_100k total_deaths_per_100k cases7 deaths7 cases7_per_100k  \\\n",
       "0                  0.45                  0.02    NaN     NaN             NaN   \n",
       "1                  0.45                  0.02    NaN     NaN             NaN   \n",
       "2                  0.00                  0.00    NaN     NaN             NaN   \n",
       "3                  0.00                  0.00    NaN     NaN             NaN   \n",
       "4                  0.00                  0.00    NaN     NaN             NaN   \n",
       "\n",
       "  deaths7_per_100k growth_rate  id  \n",
       "0              NaN         NaN  27  \n",
       "1              NaN         1.0  27  \n",
       "2              NaN         NaN   0  \n",
       "3              NaN         NaN  29  \n",
       "4              NaN         NaN  18  \n",
       "\n",
       "[5 rows x 48 columns]"
      ],
      "text/html": "<div>\n<style scoped>\n    .dataframe tbody tr th:only-of-type {\n        vertical-align: middle;\n    }\n\n    .dataframe tbody tr th {\n        vertical-align: top;\n    }\n\n    .dataframe thead th {\n        text-align: right;\n    }\n</style>\n<table border=\"1\" class=\"dataframe\">\n  <thead>\n    <tr style=\"text-align: right;\">\n      <th></th>\n      <th>Date</th>\n      <th>Location ISO Code</th>\n      <th>Location</th>\n      <th>new_cases</th>\n      <th>new_deaths</th>\n      <th>new_recovered</th>\n      <th>New Active Cases</th>\n      <th>total_cases</th>\n      <th>total_deaths</th>\n      <th>total_recovered</th>\n      <th>...</th>\n      <th>new_cases_per_100k</th>\n      <th>new_deaths_per_100k</th>\n      <th>total_cases_per_100k</th>\n      <th>total_deaths_per_100k</th>\n      <th>cases7</th>\n      <th>deaths7</th>\n      <th>cases7_per_100k</th>\n      <th>deaths7_per_100k</th>\n      <th>growth_rate</th>\n      <th>id</th>\n    </tr>\n  </thead>\n  <tbody>\n    <tr>\n      <th>0</th>\n      <td>3/1/2020</td>\n      <td>ID-JK</td>\n      <td>Jakarta Raya</td>\n      <td>2</td>\n      <td>0</td>\n      <td>0</td>\n      <td>2</td>\n      <td>489</td>\n      <td>20</td>\n      <td>39</td>\n      <td>...</td>\n      <td>0.0</td>\n      <td>0.0</td>\n      <td>0.45</td>\n      <td>0.02</td>\n      <td>NaN</td>\n      <td>NaN</td>\n      <td>NaN</td>\n      <td>NaN</td>\n      <td>NaN</td>\n      <td>27</td>\n    </tr>\n    <tr>\n      <th>1</th>\n      <td>3/2/2020</td>\n      <td>ID-JK</td>\n      <td>Jakarta Raya</td>\n      <td>2</td>\n      <td>0</td>\n      <td>0</td>\n      <td>2</td>\n      <td>491</td>\n      <td>20</td>\n      <td>39</td>\n      <td>...</td>\n      <td>0.0</td>\n      <td>0.0</td>\n      <td>0.45</td>\n      <td>0.02</td>\n      <td>NaN</td>\n      <td>NaN</td>\n      <td>NaN</td>\n      <td>NaN</td>\n      <td>1.0</td>\n      <td>27</td>\n    </tr>\n    <tr>\n      <th>2</th>\n      <td>3/2/2020</td>\n      <td>IDN</td>\n      <td>Indonesia</td>\n      <td>2</td>\n      <td>0</td>\n      <td>0</td>\n      <td>2</td>\n      <td>2</td>\n      <td>0</td>\n      <td>0</td>\n      <td>...</td>\n      <td>0.0</td>\n      <td>0.0</td>\n      <td>0.00</td>\n      <td>0.00</td>\n      <td>NaN</td>\n      <td>NaN</td>\n      <td>NaN</td>\n      <td>NaN</td>\n      <td>NaN</td>\n      <td>0</td>\n    </tr>\n    <tr>\n      <th>3</th>\n      <td>3/2/2020</td>\n      <td>ID-JB</td>\n      <td>Jawa Barat</td>\n      <td>3</td>\n      <td>0</td>\n      <td>0</td>\n      <td>3</td>\n      <td>12</td>\n      <td>5</td>\n      <td>120</td>\n      <td>...</td>\n      <td>0.0</td>\n      <td>0.0</td>\n      <td>0.00</td>\n      <td>0.00</td>\n      <td>NaN</td>\n      <td>NaN</td>\n      <td>NaN</td>\n      <td>NaN</td>\n      <td>NaN</td>\n      <td>29</td>\n    </tr>\n    <tr>\n      <th>4</th>\n      <td>3/2/2020</td>\n      <td>ID-RI</td>\n      <td>Riau</td>\n      <td>1</td>\n      <td>0</td>\n      <td>0</td>\n      <td>1</td>\n      <td>2</td>\n      <td>1</td>\n      <td>1</td>\n      <td>...</td>\n      <td>0.0</td>\n      <td>0.0</td>\n      <td>0.00</td>\n      <td>0.00</td>\n      <td>NaN</td>\n      <td>NaN</td>\n      <td>NaN</td>\n      <td>NaN</td>\n      <td>NaN</td>\n      <td>18</td>\n    </tr>\n  </tbody>\n</table>\n<p>5 rows × 48 columns</p>\n</div>"
     },
     "metadata": {},
     "execution_count": 152
    }
   ],
   "source": [
    "provinces = []\n",
    "for province in indo_geo_id['features']:\n",
    "  provinces.append(province['properties']['state'])\n",
    "\n",
    "# add id column in df with feature.id from geojson\n",
    "indo_id_map = {}\n",
    "for province in indo_geo_id['features']:\n",
    "  indo_id_map[province['properties']['state']] = province['id']\n",
    "# indo_id_map\n",
    "\n",
    "# ## for Foreigners or Other Regency add 'id' = 0\n",
    "df_indo['id'] = df_indo['Location'].apply(lambda x: indo_id_map[x] if x in indo_id_map else 0)\n",
    "\n",
    "df_indo.head()\n"
   ]
  },
  {
   "cell_type": "code",
   "execution_count": 153,
   "metadata": {},
   "outputs": [],
   "source": [
    "df_indo.to_csv('indo_province_data.csv')"
   ]
  },
  {
   "cell_type": "code",
   "execution_count": 154,
   "metadata": {},
   "outputs": [],
   "source": [
    "### 3. World Data\n",
    "##------------------------\n",
    "\n",
    "\n",
    "from kaggle.api.kaggle_api_extended import KaggleApi\n",
    "\n",
    "# from keys import kaggle_api\n",
    "\n",
    "## 1. with Kaggle Api\n",
    "api =KaggleApi()\n",
    "api.authenticate()\n",
    "\n",
    "# downoad single file\n",
    "#Signature: dataset_download_file(dataset, file_name, path=None, force=False, quiet=True)\n",
    "# api.dataset_download_files('imdevskp/corona-virus-report/worldometer_data.csv', unzip=True)\n",
    "\n",
    "# ## Datasets\n",
    "\n",
    "# REALLY GOOD !!!!\n",
    "# https://github.com/owid/covid-19-data/blob/master/public/data/owid-covid-data.csv\n"
   ]
  },
  {
   "cell_type": "code",
   "execution_count": null,
   "metadata": {},
   "outputs": [],
   "source": []
  }
 ]
}