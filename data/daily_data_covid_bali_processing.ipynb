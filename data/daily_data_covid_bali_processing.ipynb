{
 "metadata": {
  "language_info": {
   "codemirror_mode": {
    "name": "ipython",
    "version": 3
   },
   "file_extension": ".py",
   "mimetype": "text/x-python",
   "name": "python",
   "nbconvert_exporter": "python",
   "pygments_lexer": "ipython3",
   "version": "3.7.6-final"
  },
  "orig_nbformat": 2,
  "kernelspec": {
   "name": "python3",
   "display_name": "Python 3",
   "language": "python"
  }
 },
 "nbformat": 4,
 "nbformat_minor": 2,
 "cells": [
  {
   "cell_type": "code",
   "execution_count": 65,
   "metadata": {},
   "outputs": [],
   "source": [
    "import pandas as pd\n",
    "import json\n",
    "import json_lines"
   ]
  },
  {
   "cell_type": "code",
   "execution_count": 66,
   "metadata": {},
   "outputs": [],
   "source": [
    "### 1. COVID DATA BALI REGENCIES\n",
    "###  -------------------------------------\n",
    "\n",
    "## From scrapy spider"
   ]
  },
  {
   "cell_type": "code",
   "execution_count": 67,
   "metadata": {},
   "outputs": [
    {
     "output_type": "stream",
     "name": "stderr",
     "text": [
      "Error: JSON line can't be decoded. JSONDecodeError(\"Expecting ',' delimiter: line 1 column 13 (char 12)\")\n",
      "Error: JSON line can't be decoded. JSONDecodeError(\"Expecting ',' delimiter: line 1 column 13 (char 12)\")\n",
      "Error: JSON line can't be decoded. JSONDecodeError('Extra data: line 1 column 7 (char 6)')\n",
      "Error: JSON line can't be decoded. JSONDecodeError(\"Expecting ',' delimiter: line 1 column 13 (char 12)\")\n",
      "Error: JSON line can't be decoded. JSONDecodeError(\"Expecting ',' delimiter: line 1 column 13 (char 12)\")\n",
      "Error: JSON line can't be decoded. JSONDecodeError('Extra data: line 1 column 7 (char 6)')\n",
      "  0_x            10         1  2_x  3_x 4_x   5_x 6_x 7_x 8_x  ... 3_y 4_y  \\\n",
      "0   1   05 Dec 2020  JEMBRANA   -7   70   7   579   1  14   1  ...  26   0   \n",
      "1   2   05 Dec 2020   TABANAN  -10  434  35  1016   0  47  25  ...  21   2   \n",
      "2   3   05 Dec 2020    BADUNG   -9  159  27  2299   0  51  18  ...  27   0   \n",
      "3   4   05 Dec 2020  DENPASAR    1  166  26  3705   0  90  27  ...  48  -1   \n",
      "4   5   05 Dec 2020   GIANYAR  -16  234  31  1681   0  75  15  ...  29  -1   \n",
      "\n",
      "  5_y 6_y   7_y 8_y 9_y 10_y  11_y          12_y  \n",
      "0  11   1   626   0   0    1   663   05 Dec 2020  \n",
      "1  10  23  1466   0   0   25  1497   05 Dec 2020  \n",
      "2   4  18  2478   0   0   18  2509   05 Dec 2020  \n",
      "3  22  28  3891   0   0   27  3961   05 Dec 2020  \n",
      "4  10  16  1951   0   0   15  1990   05 Dec 2020  \n",
      "\n",
      "[5 rows x 26 columns]\n"
     ]
    }
   ],
   "source": [
    "## Converting Json-Lines File to pandas DataFrame\n",
    "##########################################\n",
    "\n",
    "json_file = r'C:\\Users\\ansve\\Coding\\Projects-WebScraping\\CovidBali\\CovidBali\\CovidBali\\daily.jl'\n",
    "\n",
    "##Extract data from First TABLE\n",
    "###############################################\n",
    "\n",
    "data_first = []\n",
    "with open(json_file, 'rb') as f:\n",
    "    count = 0\n",
    "    for line in json_lines.reader(f, broken=True):\n",
    "        count+=1\n",
    "        if count % 2 == 0: #this is the remainder operator\n",
    "            for x in range(0, 10):\n",
    "                data_first.append(line['data'][x])\n",
    "\n",
    "df_first = pd.DataFrame(data_first)\n",
    "df_first.to_csv('test.csv')\n",
    "\n",
    "##Extract data from SECOND TABLE\n",
    "###############################################\n",
    "data_second = []\n",
    "\n",
    "with open(json_file, 'rb') as f:\n",
    "    count =0\n",
    "    for line in json_lines.reader(f, broken=True):\n",
    "        count+= 1\n",
    "        if count % 2 != 0:\n",
    "            for x in range(0, 10):\n",
    "                data_second.append(line['data'][x])\n",
    "df_second = pd.DataFrame(data_second)\n",
    "df_second.head()\n",
    "\n",
    "## Merge both df\n",
    "#############################\n",
    "df_merged = pd.merge(df_first, df_second, how= 'left', left_on=[1, 10], right_on=[1, 12])\n",
    "df_merged.tail(11)\n",
    "df_bali = df_merged\n",
    "# df_bali.tail()\n",
    "print(df_bali.head())"
   ]
  },
  {
   "cell_type": "code",
   "execution_count": 68,
   "metadata": {},
   "outputs": [],
   "source": [
    "## Column names from https://infocorona.baliprov.go.id/API/pendataan/laporan-harian-01.php and ...-02.php\n",
    "\n",
    "columns = [\n",
    "    'No','Date', 'Kabupaten / County', 'new_treatment', 'total_treatment', 'new_recovered', 'total_recovered', 'new_deaths', 'total_deaths', 'new_cases', 'total_cases', 'Date1', 'no', 'new PPLN/PMI', 'total history-of-foreign-travel/ migrant-worker (PPLN/PMI)', 'new domestic-travel-history', 'total domestic-travel-history (PPDN)', 'new_local_transmission', 'total_local_transmission',\t'new_other_transmission', 'total_other_transmission', 'new_cases' ,'total_cases', 'date' ]\n"
   ]
  },
  {
   "cell_type": "code",
   "execution_count": 69,
   "metadata": {},
   "outputs": [],
   "source": [
    "\n",
    "# delete columns 11_x and 12_x since both are empty\n",
    "df_bali = df_bali.drop(['11_x', '12_x'], axis=1 )"
   ]
  },
  {
   "cell_type": "code",
   "execution_count": 70,
   "metadata": {},
   "outputs": [
    {
     "output_type": "stream",
     "name": "stdout",
     "text": [
      "24 24\n"
     ]
    },
    {
     "output_type": "execute_result",
     "data": {
      "text/plain": [
       "No                                                                           10\n",
       "Date                                                                          0\n",
       "Kabupaten / County                                            KABUPATEN LAINNYA\n",
       "new_treatment                                                                 0\n",
       "total_treatment                                                               6\n",
       "new_recovered                                                                 0\n",
       "total_recovered                                                              78\n",
       "new_deaths                                                                    0\n",
       "total_deaths                                                                234\n",
       "new_cases                                                                     0\n",
       "total_cases                                                                   0\n",
       "Date1                                                                         0\n",
       "no                                                                          NaN\n",
       "new PPLN/PMI                                                                NaN\n",
       "total history-of-foreign-travel/ migrant-worker (PPLN/PMI)                  NaN\n",
       "new domestic-travel-history                                                 NaN\n",
       "total domestic-travel-history (PPDN)                                        NaN\n",
       "new_local_transmission                                                      NaN\n",
       "total_local_transmission                                                    NaN\n",
       "new_other_transmission                                                      NaN\n",
       "total_other_transmission                                                    NaN\n",
       "new_cases                                                                   NaN\n",
       "total_cases                                                                 NaN\n",
       "date                                                                        NaN\n",
       "Name: 609, dtype: object"
      ]
     },
     "metadata": {},
     "execution_count": 70
    }
   ],
   "source": [
    "# adjust column names\n",
    "\n",
    "print(len(df_bali.columns), len(columns))\n",
    "\n",
    "\n",
    "df_bali.columns= columns\n",
    "df_bali.iloc[-1]\n",
    "\n"
   ]
  },
  {
   "cell_type": "code",
   "execution_count": 71,
   "metadata": {},
   "outputs": [],
   "source": [
    "df = df_bali.copy()"
   ]
  },
  {
   "cell_type": "code",
   "execution_count": 72,
   "metadata": {},
   "outputs": [
    {
     "output_type": "execute_result",
     "data": {
      "text/plain": [
       "No                                                             int32\n",
       "Date                                                          object\n",
       "Kabupaten / County                                            object\n",
       "new_treatment                                                 object\n",
       "total_treatment                                               object\n",
       "new_recovered                                                 object\n",
       "total_recovered                                               object\n",
       "new_deaths                                                    object\n",
       "total_deaths                                                  object\n",
       "new_cases                                                     object\n",
       "total_cases                                                   object\n",
       "Date1                                                         object\n",
       "no                                                            object\n",
       "new PPLN/PMI                                                  object\n",
       "total history-of-foreign-travel/ migrant-worker (PPLN/PMI)    object\n",
       "new domestic-travel-history                                   object\n",
       "total domestic-travel-history (PPDN)                          object\n",
       "new_local_transmission                                        object\n",
       "total_local_transmission                                      object\n",
       "new_other_transmission                                        object\n",
       "total_other_transmission                                      object\n",
       "date                                                          object\n",
       "Name_EN                                                       object\n",
       "dtype: object"
      ]
     },
     "metadata": {},
     "execution_count": 72
    }
   ],
   "source": [
    "# delete duplicate columns and convert dtypes\n",
    "df = df.loc[:,~df.columns.duplicated()]\n",
    "\n",
    "## fill NaN in Kabubaten Lain fileds (confirmed cases from outside of bali regency but detected in Bali have no match with reference-data e.g)\n",
    "################################################\n",
    "df_merged = df_merged.fillna(0)\n",
    "df_merged[df_merged.isna().any(axis=1)]\n",
    "\n",
    "## convert columns\n",
    "df['No'] = df['No'].astype(int)\n",
    "df['Name_EN'] = df['Kabupaten / County'].astype(str)\n",
    "df['Name_EN'] = df['Name_EN'].str.casefold()\n",
    "df.dtypes"
   ]
  },
  {
   "cell_type": "code",
   "execution_count": 76,
   "metadata": {},
   "outputs": [
    {
     "output_type": "error",
     "ename": "AttributeError",
     "evalue": "Can only use .str accessor with string values!",
     "traceback": [
      "\u001b[1;31m---------------------------------------------------------------------------\u001b[0m",
      "\u001b[1;31mAttributeError\u001b[0m                            Traceback (most recent call last)",
      "\u001b[1;32m<ipython-input-76-cc4fae89258d>\u001b[0m in \u001b[0;36m<module>\u001b[1;34m\u001b[0m\n\u001b[0;32m     11\u001b[0m \u001b[1;31m# df['Date'].isnull().values\u001b[0m\u001b[1;33m\u001b[0m\u001b[1;33m\u001b[0m\u001b[1;33m\u001b[0m\u001b[0m\n\u001b[0;32m     12\u001b[0m \u001b[1;33m\u001b[0m\u001b[0m\n\u001b[1;32m---> 13\u001b[1;33m \u001b[0mdf\u001b[0m\u001b[1;33m[\u001b[0m\u001b[1;34m'Date'\u001b[0m\u001b[1;33m]\u001b[0m \u001b[1;33m=\u001b[0m \u001b[0mdf\u001b[0m\u001b[1;33m[\u001b[0m\u001b[1;34m'Date'\u001b[0m\u001b[1;33m]\u001b[0m\u001b[1;33m.\u001b[0m\u001b[0mstr\u001b[0m\u001b[1;33m.\u001b[0m\u001b[0mstrip\u001b[0m\u001b[1;33m(\u001b[0m\u001b[1;33m)\u001b[0m\u001b[1;33m\u001b[0m\u001b[1;33m\u001b[0m\u001b[0m\n\u001b[0m\u001b[0;32m     14\u001b[0m \u001b[1;31m# df['Date'] = df['Date'].astype(str)\u001b[0m\u001b[1;33m\u001b[0m\u001b[1;33m\u001b[0m\u001b[1;33m\u001b[0m\u001b[0m\n\u001b[0;32m     15\u001b[0m \u001b[1;31m# df[\"Date\"].apply(lambda x: parse(df['Date']))\u001b[0m\u001b[1;33m\u001b[0m\u001b[1;33m\u001b[0m\u001b[1;33m\u001b[0m\u001b[0m\n",
      "\u001b[1;32mC:\\ProgramData\\Anaconda3\\lib\\site-packages\\pandas\\core\\generic.py\u001b[0m in \u001b[0;36m__getattr__\u001b[1;34m(self, name)\u001b[0m\n\u001b[0;32m   5268\u001b[0m             \u001b[1;32mor\u001b[0m \u001b[0mname\u001b[0m \u001b[1;32min\u001b[0m \u001b[0mself\u001b[0m\u001b[1;33m.\u001b[0m\u001b[0m_accessors\u001b[0m\u001b[1;33m\u001b[0m\u001b[1;33m\u001b[0m\u001b[0m\n\u001b[0;32m   5269\u001b[0m         ):\n\u001b[1;32m-> 5270\u001b[1;33m             \u001b[1;32mreturn\u001b[0m \u001b[0mobject\u001b[0m\u001b[1;33m.\u001b[0m\u001b[0m__getattribute__\u001b[0m\u001b[1;33m(\u001b[0m\u001b[0mself\u001b[0m\u001b[1;33m,\u001b[0m \u001b[0mname\u001b[0m\u001b[1;33m)\u001b[0m\u001b[1;33m\u001b[0m\u001b[1;33m\u001b[0m\u001b[0m\n\u001b[0m\u001b[0;32m   5271\u001b[0m         \u001b[1;32melse\u001b[0m\u001b[1;33m:\u001b[0m\u001b[1;33m\u001b[0m\u001b[1;33m\u001b[0m\u001b[0m\n\u001b[0;32m   5272\u001b[0m             \u001b[1;32mif\u001b[0m \u001b[0mself\u001b[0m\u001b[1;33m.\u001b[0m\u001b[0m_info_axis\u001b[0m\u001b[1;33m.\u001b[0m\u001b[0m_can_hold_identifiers_and_holds_name\u001b[0m\u001b[1;33m(\u001b[0m\u001b[0mname\u001b[0m\u001b[1;33m)\u001b[0m\u001b[1;33m:\u001b[0m\u001b[1;33m\u001b[0m\u001b[1;33m\u001b[0m\u001b[0m\n",
      "\u001b[1;32mC:\\ProgramData\\Anaconda3\\lib\\site-packages\\pandas\\core\\accessor.py\u001b[0m in \u001b[0;36m__get__\u001b[1;34m(self, obj, cls)\u001b[0m\n\u001b[0;32m    185\u001b[0m             \u001b[1;31m# we're accessing the attribute of the class, i.e., Dataset.geo\u001b[0m\u001b[1;33m\u001b[0m\u001b[1;33m\u001b[0m\u001b[1;33m\u001b[0m\u001b[0m\n\u001b[0;32m    186\u001b[0m             \u001b[1;32mreturn\u001b[0m \u001b[0mself\u001b[0m\u001b[1;33m.\u001b[0m\u001b[0m_accessor\u001b[0m\u001b[1;33m\u001b[0m\u001b[1;33m\u001b[0m\u001b[0m\n\u001b[1;32m--> 187\u001b[1;33m         \u001b[0maccessor_obj\u001b[0m \u001b[1;33m=\u001b[0m \u001b[0mself\u001b[0m\u001b[1;33m.\u001b[0m\u001b[0m_accessor\u001b[0m\u001b[1;33m(\u001b[0m\u001b[0mobj\u001b[0m\u001b[1;33m)\u001b[0m\u001b[1;33m\u001b[0m\u001b[1;33m\u001b[0m\u001b[0m\n\u001b[0m\u001b[0;32m    188\u001b[0m         \u001b[1;31m# Replace the property with the accessor object. Inspired by:\u001b[0m\u001b[1;33m\u001b[0m\u001b[1;33m\u001b[0m\u001b[1;33m\u001b[0m\u001b[0m\n\u001b[0;32m    189\u001b[0m         \u001b[1;31m# http://www.pydanny.com/cached-property.html\u001b[0m\u001b[1;33m\u001b[0m\u001b[1;33m\u001b[0m\u001b[1;33m\u001b[0m\u001b[0m\n",
      "\u001b[1;32mC:\\ProgramData\\Anaconda3\\lib\\site-packages\\pandas\\core\\strings.py\u001b[0m in \u001b[0;36m__init__\u001b[1;34m(self, data)\u001b[0m\n\u001b[0;32m   2037\u001b[0m \u001b[1;33m\u001b[0m\u001b[0m\n\u001b[0;32m   2038\u001b[0m     \u001b[1;32mdef\u001b[0m \u001b[0m__init__\u001b[0m\u001b[1;33m(\u001b[0m\u001b[0mself\u001b[0m\u001b[1;33m,\u001b[0m \u001b[0mdata\u001b[0m\u001b[1;33m)\u001b[0m\u001b[1;33m:\u001b[0m\u001b[1;33m\u001b[0m\u001b[1;33m\u001b[0m\u001b[0m\n\u001b[1;32m-> 2039\u001b[1;33m         \u001b[0mself\u001b[0m\u001b[1;33m.\u001b[0m\u001b[0m_inferred_dtype\u001b[0m \u001b[1;33m=\u001b[0m \u001b[0mself\u001b[0m\u001b[1;33m.\u001b[0m\u001b[0m_validate\u001b[0m\u001b[1;33m(\u001b[0m\u001b[0mdata\u001b[0m\u001b[1;33m)\u001b[0m\u001b[1;33m\u001b[0m\u001b[1;33m\u001b[0m\u001b[0m\n\u001b[0m\u001b[0;32m   2040\u001b[0m         \u001b[0mself\u001b[0m\u001b[1;33m.\u001b[0m\u001b[0m_is_categorical\u001b[0m \u001b[1;33m=\u001b[0m \u001b[0mis_categorical_dtype\u001b[0m\u001b[1;33m(\u001b[0m\u001b[0mdata\u001b[0m\u001b[1;33m)\u001b[0m\u001b[1;33m\u001b[0m\u001b[1;33m\u001b[0m\u001b[0m\n\u001b[0;32m   2041\u001b[0m         \u001b[0mself\u001b[0m\u001b[1;33m.\u001b[0m\u001b[0m_is_string\u001b[0m \u001b[1;33m=\u001b[0m \u001b[0mdata\u001b[0m\u001b[1;33m.\u001b[0m\u001b[0mdtype\u001b[0m\u001b[1;33m.\u001b[0m\u001b[0mname\u001b[0m \u001b[1;33m==\u001b[0m \u001b[1;34m\"string\"\u001b[0m\u001b[1;33m\u001b[0m\u001b[1;33m\u001b[0m\u001b[0m\n",
      "\u001b[1;32mC:\\ProgramData\\Anaconda3\\lib\\site-packages\\pandas\\core\\strings.py\u001b[0m in \u001b[0;36m_validate\u001b[1;34m(data)\u001b[0m\n\u001b[0;32m   2094\u001b[0m \u001b[1;33m\u001b[0m\u001b[0m\n\u001b[0;32m   2095\u001b[0m         \u001b[1;32mif\u001b[0m \u001b[0minferred_dtype\u001b[0m \u001b[1;32mnot\u001b[0m \u001b[1;32min\u001b[0m \u001b[0mallowed_types\u001b[0m\u001b[1;33m:\u001b[0m\u001b[1;33m\u001b[0m\u001b[1;33m\u001b[0m\u001b[0m\n\u001b[1;32m-> 2096\u001b[1;33m             \u001b[1;32mraise\u001b[0m \u001b[0mAttributeError\u001b[0m\u001b[1;33m(\u001b[0m\u001b[1;34m\"Can only use .str accessor with string values!\"\u001b[0m\u001b[1;33m)\u001b[0m\u001b[1;33m\u001b[0m\u001b[1;33m\u001b[0m\u001b[0m\n\u001b[0m\u001b[0;32m   2097\u001b[0m         \u001b[1;32mreturn\u001b[0m \u001b[0minferred_dtype\u001b[0m\u001b[1;33m\u001b[0m\u001b[1;33m\u001b[0m\u001b[0m\n\u001b[0;32m   2098\u001b[0m \u001b[1;33m\u001b[0m\u001b[0m\n",
      "\u001b[1;31mAttributeError\u001b[0m: Can only use .str accessor with string values!"
     ]
    }
   ],
   "source": [
    "## convert date to datetime \n",
    "################################\n",
    "\n",
    "# from datetime import datetime -> datetime.strptime(date, format)\n",
    "# df[\"Date\"].apply(lambda x: parse(df['Date']))\n",
    "# or\n",
    "# df['Date'] = pd.to_datetime(df['Date'])\n",
    "## also possible\n",
    "\n",
    "from dateutil.parser import parse\n",
    "# check if Nan\n",
    "# df['Date'].isnull().values\n",
    "\n",
    "df['Date'] = df['Date'].str.strip()\n",
    "df['Date'] = df['Date'].astype(str) \n",
    "df['Date'] = pd.to_datetime(df.Date, errors='coerce')\n",
    "df['Date'][0]"
   ]
  },
  {
   "cell_type": "code",
   "execution_count": 28,
   "metadata": {},
   "outputs": [],
   "source": [
    "# data cleaning, processing\n",
    "##########################\n",
    "\n",
    "# add addtitional data\n",
    "df_ref = pd.read_excel('Bali_reference_data.xlsx')\n",
    "df_ref = df_ref.drop(columns=['https://en.wikipedia.org/wiki/Bali#cite_note-BPS2019-2', 'https://sp2010.bps.go.id/index.php/site/tabel?tid=321&wid=0', 'Source'])\n",
    "\n",
    "## adjust regency names of both data sources before merge\n",
    "##########################\n",
    "df_ref['Name_EN'] = df_ref['Name_Indo'].str.casefold()\n",
    "df_ref.replace('kota denpasar', 'denpasar', inplace=True)\n",
    "df_ref.replace('totals', 'bali', inplace=True)\n",
    "df_ref.replace('Totals', 'Bali', inplace=True)\n",
    "\n",
    "# df_ref.head(15)"
   ]
  },
  {
   "cell_type": "code",
   "execution_count": 29,
   "metadata": {},
   "outputs": [
    {
     "output_type": "execute_result",
     "data": {
      "text/plain": [
       "Index([ '0_x',     10,      1,  '2_x',  '3_x',  '4_x',  '5_x',  '6_x',  '7_x',\n",
       "        '8_x',  '9_x', '10_x', '11_x', '12_x',  '0_y',  '2_y',  '3_y',  '4_y',\n",
       "        '5_y',  '6_y',  '7_y',  '8_y',  '9_y', '10_y', '11_y', '12_y'],\n",
       "      dtype='object')"
      ]
     },
     "metadata": {},
     "execution_count": 29
    }
   ],
   "source": []
  },
  {
   "cell_type": "code",
   "execution_count": 31,
   "metadata": {},
   "outputs": [
    {
     "output_type": "execute_result",
     "data": {
      "text/plain": [
       "No                                                                                 2\n",
       "Date                                                             2020-12-05 00:00:00\n",
       "Kabupaten / County                                                           TABANAN\n",
       "new_treatment                                                                    -10\n",
       "total_treatment                                                                  434\n",
       "new_recovered                                                                     35\n",
       "total_recovered                                                                 1016\n",
       "new_deaths                                                                         0\n",
       "total_deaths                                                                      47\n",
       "new_cases                                                                         25\n",
       "total_cases                                                                     1497\n",
       "Date1                                                                    05 Dec 2020\n",
       "no                                                                                 2\n",
       "new PPLN/PMI                                                                       0\n",
       "total history-of-foreign-travel/ migrant-worker (PPLN/PMI)                        21\n",
       "new domestic-travel-history                                                        2\n",
       "total domestic-travel-history (PPDN)                                              10\n",
       "new_local_transmission                                                            23\n",
       "total_local_transmission                                                        1466\n",
       "new_other_transmission                                                             0\n",
       "total_other_transmission                                                           0\n",
       "date                                                                     05 Dec 2020\n",
       "Name_EN                                                                      tabanan\n",
       "Date_clean                                                               05 Dec 2020\n",
       "Date_1                                                                   05 Dec 2020\n",
       "Date_2                                                           2020-12-05 00:00:00\n",
       "Name_Indo                                                                    Tabanan\n",
       "Capital                                                                      Tabanan\n",
       "area_km2                                                                      839.30\n",
       "population_2000                                                               376.03\n",
       "population_2010                                                              420.913\n",
       "population_2015                                                              435.753\n",
       "HDI_2014_estimate                                                       0.726 (High)\n",
       "Gouvernor                                                     Ni Putu Eka Wiryastuti\n",
       "Nr. of Sub-Districts                                                              10\n",
       "Nr of Keluruhan/Villages                                                       -/133\n",
       "Name: 1, dtype: object"
      ]
     },
     "metadata": {},
     "execution_count": 31
    }
   ],
   "source": [
    "# merge both df on 'Name_EN'\n",
    "df_merged = df.merge(df_ref, on=\"Name_EN\", how='left')\n",
    "df_merged.iloc[1]\n"
   ]
  },
  {
   "cell_type": "code",
   "execution_count": null,
   "metadata": {},
   "outputs": [],
   "source": [
    "\n",
    "df_merged = df_merged.drop(['Date1', 'no'], axis=1)\n",
    "df_merged.columns\n",
    "\n",
    "# # convert to integers\n",
    "int_numbers = ['new_treatment', 'total_treatment',\n",
    "       'new_recovered', 'total_recovered', 'new_deaths', 'total_deaths',\n",
    "       'new_cases', 'total_cases', 'new PPLN/PMI',\n",
    "       'total domestic-travel-history (PPDN)',\n",
    "       'new domestic-travel-history', 'total domestic-travel-history (PPDN)',\n",
    "       'new_local_transmission', 'total_local_transmission',\n",
    "       'new_other_transmission', 'total_other_transmission']\n",
    "## check for duplicated columns\n",
    "print (df_merged.columns[df_merged.columns.duplicated(keep=False)])\n",
    "df_merged[int_numbers] = df_merged[int_numbers].apply(pd.to_numeric)\n"
   ]
  },
  {
   "cell_type": "code",
   "execution_count": null,
   "metadata": {},
   "outputs": [],
   "source": [
    "\n",
    "\n",
    "# ## add columns\n",
    "df_merged['total_cases_per_100k'] = df_merged['total_cases'] / df_merged['population_2015'] * 100000\n",
    "df_merged['total_cases_per_100k'] = df_merged['total_cases_per_100k'].apply(pd.to_numeric).round(2)\n",
    "\n",
    "df_merged['total_deaths_per_100k'] = df_merged['total_deaths'] / df_merged['population_2015']\n",
    "df_merged['total_deaths_per_100k'] = df_merged['total_deaths_per_100k'].apply(pd.to_numeric).round(2)\n",
    "\n",
    "df_merged['cases7'] = df_merged['new_cases'].rolling(window=7, center=False).mean()\n",
    "df_merged['cases7_per_100k'] = df_merged['cases7'] / df_merged['population_2015']\n",
    "df_merged['cases7_per_100k'] = df_merged['cases7_per_100k'].apply(pd.to_numeric).round(2)\n",
    "\n",
    "df_merged['total_cases_per_100k'] = df_merged['total_cases'] / df_merged['population_2015']\n",
    "df_merged['total_cases_per_100k'] = df_merged['total_cases_per_100k'].apply(pd.to_numeric).round(2)\n",
    "\n",
    "df_merged['deaths7'] = df_merged['new_deaths'].rolling(window=7, center=False).mean()\n",
    "df_merged['deaths7_per_100k'] = df_merged['total_deaths_per_100k'].rolling(window=7, center=False).mean()\n",
    "df_merged['deaths7_per_100k'] = df_merged['deaths7_per_100k'].apply(pd.to_numeric).round(2)\n",
    "\n",
    "## Check new created values\n",
    "##############################\n",
    "df_merged[['total_deaths', 'total_cases', 'total_deaths_per_100k', 'population_2015', 'total_cases_per_100k']]"
   ]
  },
  {
   "cell_type": "code",
   "execution_count": 11,
   "metadata": {},
   "outputs": [],
   "source": [
    "\n",
    "# ## drop temporary unnecessary columns\n",
    "# drop_columns = ['New PPLN / PMI', 'new PPDN', 'total PPDN',\n",
    "#        'new_local_transmission', 'total_local_transmission',\n",
    "#        'new_other_transmission', 'total_other_transmission', 'Capital', 'population_2000',\n",
    "#        'population_2010', 'HDI_2014_estimate', 'Gouvernor',\n",
    "#        'Nr. of Sub-Districts', 'Nr of Keluruhan/Villages', 'area_km2' ]\n",
    "# df_clean = df_merged.drop(columns=drop_columns)"
   ]
  },
  {
   "cell_type": "code",
   "execution_count": 12,
   "metadata": {},
   "outputs": [],
   "source": [
    "## check NaN in df \n",
    "# nan_rows = df_clean[df_clean['population_2015'].isnull()]\n",
    "# nan_rows"
   ]
  },
  {
   "cell_type": "code",
   "execution_count": 13,
   "metadata": {},
   "outputs": [],
   "source": [
    "# infection fatality ratio (IFR), which estimates this proportion of deaths among all infected individuals. The second is case fatality ratio (CFR), which estimates this proportion of deaths among identified confirmed cases. \n",
    "# see https://www.who.int/news-room/commentaries/detail/estimating-mortality-from-covid-19\n",
    "\n",
    "df_merged['CFR'] = df_merged['total_deaths'] / df_merged['total_cases'] * 100\n",
    "df_merged['CFR'] = df_merged['CFR'].round(2)\n",
    "df_merged['growth_rate_new_cases'] = df_merged['new_cases'].pct_change(fill_method ='ffill', periods=7)"
   ]
  },
  {
   "cell_type": "code",
   "execution_count": 14,
   "metadata": {},
   "outputs": [
    {
     "output_type": "execute_result",
     "data": {
      "text/plain": [
       "   No       Date Kabupaten / County  new_treatment  total_treatment  \\\n",
       "0   1 2020-12-05           JEMBRANA             -7               70   \n",
       "1   2 2020-12-05            TABANAN            -10              434   \n",
       "2   3 2020-12-05             BADUNG             -9              159   \n",
       "3   4 2020-12-05           DENPASAR              1              166   \n",
       "4   5 2020-12-05            GIANYAR            -16              234   \n",
       "\n",
       "   new_recovered  total_recovered  new_deaths  total_deaths  new_cases  ...  \\\n",
       "0              7              579           1            14          1  ...   \n",
       "1             35             1016           0            47         25  ...   \n",
       "2             27             2299           0            51         18  ...   \n",
       "3             26             3705           0            90         27  ...   \n",
       "4             31             1681           0            75         15  ...   \n",
       "\n",
       "   Nr of Keluruhan/Villages  total_cases_per_100k  total_deaths_per_100k  \\\n",
       "0                     10/41                  2.44                   0.05   \n",
       "1                     -/133                  3.44                   0.11   \n",
       "2                     16/46                  4.08                   0.08   \n",
       "3                     16/27                  4.51                   0.10   \n",
       "4                      6/64                  4.02                   0.15   \n",
       "\n",
       "   cases7  cases7_per_100k  deaths7  deaths7_per_100k   CFR  \\\n",
       "0     NaN              NaN      NaN               NaN  2.11   \n",
       "1     NaN              NaN      NaN               NaN  3.14   \n",
       "2     NaN              NaN      NaN               NaN  2.03   \n",
       "3     NaN              NaN      NaN               NaN  2.27   \n",
       "4     NaN              NaN      NaN               NaN  3.77   \n",
       "\n",
       "   growth_rate_new_cases id  \n",
       "0                    NaN  5  \n",
       "1                    NaN  9  \n",
       "2                    NaN  1  \n",
       "3                    NaN  8  \n",
       "4                    NaN  4  \n",
       "\n",
       "[5 rows x 40 columns]"
      ],
      "text/html": "<div>\n<style scoped>\n    .dataframe tbody tr th:only-of-type {\n        vertical-align: middle;\n    }\n\n    .dataframe tbody tr th {\n        vertical-align: top;\n    }\n\n    .dataframe thead th {\n        text-align: right;\n    }\n</style>\n<table border=\"1\" class=\"dataframe\">\n  <thead>\n    <tr style=\"text-align: right;\">\n      <th></th>\n      <th>No</th>\n      <th>Date</th>\n      <th>Kabupaten / County</th>\n      <th>new_treatment</th>\n      <th>total_treatment</th>\n      <th>new_recovered</th>\n      <th>total_recovered</th>\n      <th>new_deaths</th>\n      <th>total_deaths</th>\n      <th>new_cases</th>\n      <th>...</th>\n      <th>Nr of Keluruhan/Villages</th>\n      <th>total_cases_per_100k</th>\n      <th>total_deaths_per_100k</th>\n      <th>cases7</th>\n      <th>cases7_per_100k</th>\n      <th>deaths7</th>\n      <th>deaths7_per_100k</th>\n      <th>CFR</th>\n      <th>growth_rate_new_cases</th>\n      <th>id</th>\n    </tr>\n  </thead>\n  <tbody>\n    <tr>\n      <th>0</th>\n      <td>1</td>\n      <td>2020-12-05</td>\n      <td>JEMBRANA</td>\n      <td>-7</td>\n      <td>70</td>\n      <td>7</td>\n      <td>579</td>\n      <td>1</td>\n      <td>14</td>\n      <td>1</td>\n      <td>...</td>\n      <td>10/41</td>\n      <td>2.44</td>\n      <td>0.05</td>\n      <td>NaN</td>\n      <td>NaN</td>\n      <td>NaN</td>\n      <td>NaN</td>\n      <td>2.11</td>\n      <td>NaN</td>\n      <td>5</td>\n    </tr>\n    <tr>\n      <th>1</th>\n      <td>2</td>\n      <td>2020-12-05</td>\n      <td>TABANAN</td>\n      <td>-10</td>\n      <td>434</td>\n      <td>35</td>\n      <td>1016</td>\n      <td>0</td>\n      <td>47</td>\n      <td>25</td>\n      <td>...</td>\n      <td>-/133</td>\n      <td>3.44</td>\n      <td>0.11</td>\n      <td>NaN</td>\n      <td>NaN</td>\n      <td>NaN</td>\n      <td>NaN</td>\n      <td>3.14</td>\n      <td>NaN</td>\n      <td>9</td>\n    </tr>\n    <tr>\n      <th>2</th>\n      <td>3</td>\n      <td>2020-12-05</td>\n      <td>BADUNG</td>\n      <td>-9</td>\n      <td>159</td>\n      <td>27</td>\n      <td>2299</td>\n      <td>0</td>\n      <td>51</td>\n      <td>18</td>\n      <td>...</td>\n      <td>16/46</td>\n      <td>4.08</td>\n      <td>0.08</td>\n      <td>NaN</td>\n      <td>NaN</td>\n      <td>NaN</td>\n      <td>NaN</td>\n      <td>2.03</td>\n      <td>NaN</td>\n      <td>1</td>\n    </tr>\n    <tr>\n      <th>3</th>\n      <td>4</td>\n      <td>2020-12-05</td>\n      <td>DENPASAR</td>\n      <td>1</td>\n      <td>166</td>\n      <td>26</td>\n      <td>3705</td>\n      <td>0</td>\n      <td>90</td>\n      <td>27</td>\n      <td>...</td>\n      <td>16/27</td>\n      <td>4.51</td>\n      <td>0.10</td>\n      <td>NaN</td>\n      <td>NaN</td>\n      <td>NaN</td>\n      <td>NaN</td>\n      <td>2.27</td>\n      <td>NaN</td>\n      <td>8</td>\n    </tr>\n    <tr>\n      <th>4</th>\n      <td>5</td>\n      <td>2020-12-05</td>\n      <td>GIANYAR</td>\n      <td>-16</td>\n      <td>234</td>\n      <td>31</td>\n      <td>1681</td>\n      <td>0</td>\n      <td>75</td>\n      <td>15</td>\n      <td>...</td>\n      <td>6/64</td>\n      <td>4.02</td>\n      <td>0.15</td>\n      <td>NaN</td>\n      <td>NaN</td>\n      <td>NaN</td>\n      <td>NaN</td>\n      <td>3.77</td>\n      <td>NaN</td>\n      <td>4</td>\n    </tr>\n  </tbody>\n</table>\n<p>5 rows × 40 columns</p>\n</div>"
     },
     "metadata": {},
     "execution_count": 14
    }
   ],
   "source": [
    "## add id from geojson file\n",
    "geojson_bali = 'new_bali_id.geojson'\n",
    "\n",
    "# open new geojson (with id) file\n",
    "bali_geo_id = json.load(open(geojson_bali, 'r'))\n",
    "\n",
    "## get names of regencies\n",
    "regencies = []\n",
    "for regency in bali_geo_id['features']:\n",
    "  regencies.append(regency['properties']['ADM2_EN'])\n",
    "\n",
    "  # add id column in df with feature.id from geojson\n",
    "bali_id_map = {}\n",
    "for regency in bali_geo_id['features']:\n",
    "  bali_id_map[regency['properties']['ADM2_EN']] = regency['id']\n",
    "bali_id_map\n",
    "\n",
    "## for Foreigners or Other Regency add 'id' = 0\n",
    "df_merged['id'] = df_merged['Name_Indo'].apply(lambda x: bali_id_map[x] if x in bali_id_map else 0)\n",
    "df_merged.head()"
   ]
  },
  {
   "cell_type": "code",
   "execution_count": 15,
   "metadata": {},
   "outputs": [],
   "source": [
    "df_merged.to_csv('bali_regency_data.csv')"
   ]
  },
  {
   "cell_type": "code",
   "execution_count": 16,
   "metadata": {},
   "outputs": [],
   "source": [
    "### 2. INDONESIA COVID DATA \n",
    "###  -------------------------------------\n",
    "\n",
    "## From Kaggel Dataset\n",
    "# 1. connect to kaggle and get latest dataset\n"
   ]
  },
  {
   "cell_type": "code",
   "execution_count": 17,
   "metadata": {},
   "outputs": [
    {
     "output_type": "stream",
     "name": "stdout",
     "text": [
      "Requirement already satisfied: kaggle in c:\\programdata\\anaconda3\\lib\\site-packages (1.5.10)\nRequirement already satisfied: python-dateutil in c:\\programdata\\anaconda3\\lib\\site-packages (from kaggle) (2.8.1)\nRequirement already satisfied: six>=1.10 in c:\\programdata\\anaconda3\\lib\\site-packages (from kaggle) (1.14.0)\nRequirement already satisfied: python-slugify in c:\\programdata\\anaconda3\\lib\\site-packages (from kaggle) (4.0.1)\nRequirement already satisfied: requests in c:\\programdata\\anaconda3\\lib\\site-packages (from kaggle) (2.22.0)\nRequirement already satisfied: certifi in c:\\programdata\\anaconda3\\lib\\site-packages (from kaggle) (2019.11.28)\nRequirement already satisfied: urllib3 in c:\\programdata\\anaconda3\\lib\\site-packages (from kaggle) (1.25.8)\nRequirement already satisfied: tqdm in c:\\programdata\\anaconda3\\lib\\site-packages (from kaggle) (4.42.1)\nRequirement already satisfied: text-unidecode>=1.3 in c:\\programdata\\anaconda3\\lib\\site-packages (from python-slugify->kaggle) (1.3)\nRequirement already satisfied: idna<2.9,>=2.5 in c:\\programdata\\anaconda3\\lib\\site-packages (from requests->kaggle) (2.8)\nRequirement already satisfied: chardet<3.1.0,>=3.0.2 in c:\\programdata\\anaconda3\\lib\\site-packages (from requests->kaggle) (3.0.4)\nNote: you may need to restart the kernel to use updated packages.\n"
     ]
    }
   ],
   "source": [
    "pip install kaggle"
   ]
  },
  {
   "cell_type": "code",
   "execution_count": 18,
   "metadata": {},
   "outputs": [],
   "source": [
    "from kaggle.api.kaggle_api_extended import KaggleApi\n",
    "\n",
    "# from keys import kaggle_api\n",
    "\n",
    "## 1. with Kaggle Api\n",
    "api =KaggleApi()\n",
    "api.authenticate()\n",
    "\n",
    "# downoad single file\n",
    "#Signature: dataset_download_file(dataset, file_name, path=None, force=False, quiet=True)\n",
    "api.dataset_download_files('hendratno/covid19-indonesia/covid_19_indonesia_time_series_all.csv', unzip = True)\n",
    "# "
   ]
  },
  {
   "cell_type": "code",
   "execution_count": 19,
   "metadata": {},
   "outputs": [
    {
     "output_type": "execute_result",
     "data": {
      "text/plain": [
       "       Date Location ISO Code     Location  New Cases  New Deaths  \\\n",
       "0  3/1/2020             ID-JK  DKI Jakarta          2           0   \n",
       "1  3/2/2020             ID-JK  DKI Jakarta          2           0   \n",
       "2  3/2/2020               IDN    Indonesia          2           0   \n",
       "3  3/2/2020             ID-JB   Jawa Barat          3           0   \n",
       "4  3/2/2020             ID-RI         Riau          1           0   \n",
       "\n",
       "   New Recovered  New Active Cases  Total Cases  Total Deaths  \\\n",
       "0              0                 2          489            20   \n",
       "1              0                 2          491            20   \n",
       "2              0                 2            2             0   \n",
       "3              0                 3           12             5   \n",
       "4              0                 1            2             1   \n",
       "\n",
       "   Total Recovered  ...   Longitude  Latitude  New Cases per Million  \\\n",
       "0               39  ...  106.836118 -6.204699                   0.18   \n",
       "1               39  ...  106.836118 -6.204699                   0.18   \n",
       "2                0  ...  113.921327 -0.789275                   0.01   \n",
       "3              120  ...  107.603708 -6.920432                   0.07   \n",
       "4                1  ...  101.805109  0.511648                   0.16   \n",
       "\n",
       "  Total Cases per Million New Deaths per Million Total Deaths per Million  \\\n",
       "0                   45.09                    0.0                     1.84   \n",
       "1                   45.27                    0.0                     1.84   \n",
       "2                    0.01                    0.0                     0.00   \n",
       "3                    0.27                    0.0                     0.11   \n",
       "4                    0.33                    0.0                     0.16   \n",
       "\n",
       "  Case Fatality Rate Case Recovered Rate Growth Factor of New Cases  \\\n",
       "0              4.09%               7.98%                        NaN   \n",
       "1              4.07%               7.94%                        1.0   \n",
       "2              0.00%               0.00%                        NaN   \n",
       "3             41.67%            1000.00%                        NaN   \n",
       "4             50.00%              50.00%                        NaN   \n",
       "\n",
       "   Growth Factor of New Deaths  \n",
       "0                          NaN  \n",
       "1                          1.0  \n",
       "2                          NaN  \n",
       "3                          NaN  \n",
       "4                          NaN  \n",
       "\n",
       "[5 rows x 37 columns]"
      ],
      "text/html": "<div>\n<style scoped>\n    .dataframe tbody tr th:only-of-type {\n        vertical-align: middle;\n    }\n\n    .dataframe tbody tr th {\n        vertical-align: top;\n    }\n\n    .dataframe thead th {\n        text-align: right;\n    }\n</style>\n<table border=\"1\" class=\"dataframe\">\n  <thead>\n    <tr style=\"text-align: right;\">\n      <th></th>\n      <th>Date</th>\n      <th>Location ISO Code</th>\n      <th>Location</th>\n      <th>New Cases</th>\n      <th>New Deaths</th>\n      <th>New Recovered</th>\n      <th>New Active Cases</th>\n      <th>Total Cases</th>\n      <th>Total Deaths</th>\n      <th>Total Recovered</th>\n      <th>...</th>\n      <th>Longitude</th>\n      <th>Latitude</th>\n      <th>New Cases per Million</th>\n      <th>Total Cases per Million</th>\n      <th>New Deaths per Million</th>\n      <th>Total Deaths per Million</th>\n      <th>Case Fatality Rate</th>\n      <th>Case Recovered Rate</th>\n      <th>Growth Factor of New Cases</th>\n      <th>Growth Factor of New Deaths</th>\n    </tr>\n  </thead>\n  <tbody>\n    <tr>\n      <th>0</th>\n      <td>3/1/2020</td>\n      <td>ID-JK</td>\n      <td>DKI Jakarta</td>\n      <td>2</td>\n      <td>0</td>\n      <td>0</td>\n      <td>2</td>\n      <td>489</td>\n      <td>20</td>\n      <td>39</td>\n      <td>...</td>\n      <td>106.836118</td>\n      <td>-6.204699</td>\n      <td>0.18</td>\n      <td>45.09</td>\n      <td>0.0</td>\n      <td>1.84</td>\n      <td>4.09%</td>\n      <td>7.98%</td>\n      <td>NaN</td>\n      <td>NaN</td>\n    </tr>\n    <tr>\n      <th>1</th>\n      <td>3/2/2020</td>\n      <td>ID-JK</td>\n      <td>DKI Jakarta</td>\n      <td>2</td>\n      <td>0</td>\n      <td>0</td>\n      <td>2</td>\n      <td>491</td>\n      <td>20</td>\n      <td>39</td>\n      <td>...</td>\n      <td>106.836118</td>\n      <td>-6.204699</td>\n      <td>0.18</td>\n      <td>45.27</td>\n      <td>0.0</td>\n      <td>1.84</td>\n      <td>4.07%</td>\n      <td>7.94%</td>\n      <td>1.0</td>\n      <td>1.0</td>\n    </tr>\n    <tr>\n      <th>2</th>\n      <td>3/2/2020</td>\n      <td>IDN</td>\n      <td>Indonesia</td>\n      <td>2</td>\n      <td>0</td>\n      <td>0</td>\n      <td>2</td>\n      <td>2</td>\n      <td>0</td>\n      <td>0</td>\n      <td>...</td>\n      <td>113.921327</td>\n      <td>-0.789275</td>\n      <td>0.01</td>\n      <td>0.01</td>\n      <td>0.0</td>\n      <td>0.00</td>\n      <td>0.00%</td>\n      <td>0.00%</td>\n      <td>NaN</td>\n      <td>NaN</td>\n    </tr>\n    <tr>\n      <th>3</th>\n      <td>3/2/2020</td>\n      <td>ID-JB</td>\n      <td>Jawa Barat</td>\n      <td>3</td>\n      <td>0</td>\n      <td>0</td>\n      <td>3</td>\n      <td>12</td>\n      <td>5</td>\n      <td>120</td>\n      <td>...</td>\n      <td>107.603708</td>\n      <td>-6.920432</td>\n      <td>0.07</td>\n      <td>0.27</td>\n      <td>0.0</td>\n      <td>0.11</td>\n      <td>41.67%</td>\n      <td>1000.00%</td>\n      <td>NaN</td>\n      <td>NaN</td>\n    </tr>\n    <tr>\n      <th>4</th>\n      <td>3/2/2020</td>\n      <td>ID-RI</td>\n      <td>Riau</td>\n      <td>1</td>\n      <td>0</td>\n      <td>0</td>\n      <td>1</td>\n      <td>2</td>\n      <td>1</td>\n      <td>1</td>\n      <td>...</td>\n      <td>101.805109</td>\n      <td>0.511648</td>\n      <td>0.16</td>\n      <td>0.33</td>\n      <td>0.0</td>\n      <td>0.16</td>\n      <td>50.00%</td>\n      <td>50.00%</td>\n      <td>NaN</td>\n      <td>NaN</td>\n    </tr>\n  </tbody>\n</table>\n<p>5 rows × 37 columns</p>\n</div>"
     },
     "metadata": {},
     "execution_count": 19
    }
   ],
   "source": [
    "df_indo = pd.read_csv('covid_19_indonesia_time_series_all.csv')\n",
    "\n",
    "df_indo.head()"
   ]
  },
  {
   "cell_type": "code",
   "execution_count": 20,
   "metadata": {},
   "outputs": [
    {
     "output_type": "stream",
     "name": "stdout",
     "text": [
      "3/1/2020\n"
     ]
    },
    {
     "output_type": "execute_result",
     "data": {
      "text/plain": [
       "Timestamp('2020-03-01 00:00:00')"
      ]
     },
     "metadata": {},
     "execution_count": 20
    }
   ],
   "source": [
    "## convert dates to datetime format so matching with new dataframe before merging\n",
    "\n",
    "from datetime import datetime\n",
    "print(df_indo['Date'][0])\n",
    "df_indo['Date'] = pd.to_datetime(df_indo['Date'])\n",
    "\n",
    "## with datetime libary\n",
    "# df_indo['Date'] = datetime.strptime(df_indo['Date'], '%m/%d/%Y').date()\n",
    "# datetime.strptime(df_indo[\"Date\"][0], '%m/%d/%Y').date()\n",
    "\n",
    "df_indo['Date'][0]"
   ]
  },
  {
   "cell_type": "code",
   "execution_count": 21,
   "metadata": {},
   "outputs": [
    {
     "output_type": "execute_result",
     "data": {
      "text/plain": [
       "        Date Location ISO Code     Location  New Cases  New Deaths  \\\n",
       "0 2020-03-01             ID-JK  DKI Jakarta          2           0   \n",
       "1 2020-03-02             ID-JK  DKI Jakarta          2           0   \n",
       "2 2020-03-02               IDN    Indonesia          2           0   \n",
       "3 2020-03-02             ID-JB   Jawa Barat          3           0   \n",
       "4 2020-03-02             ID-RI         Riau          1           0   \n",
       "\n",
       "   New Recovered  New Active Cases  Total Cases  Total Deaths  \\\n",
       "0              0                 2          489            20   \n",
       "1              0                 2          491            20   \n",
       "2              0                 2            2             0   \n",
       "3              0                 3           12             5   \n",
       "4              0                 1            2             1   \n",
       "\n",
       "   Total Recovered  ...   Longitude  Latitude  New Cases per Million  \\\n",
       "0               39  ...  106.836118 -6.204699                   0.18   \n",
       "1               39  ...  106.836118 -6.204699                   0.18   \n",
       "2                0  ...  113.921327 -0.789275                   0.01   \n",
       "3              120  ...  107.603708 -6.920432                   0.07   \n",
       "4                1  ...  101.805109  0.511648                   0.16   \n",
       "\n",
       "  Total Cases per Million New Deaths per Million Total Deaths per Million  \\\n",
       "0                   45.09                    0.0                     1.84   \n",
       "1                   45.27                    0.0                     1.84   \n",
       "2                    0.01                    0.0                     0.00   \n",
       "3                    0.27                    0.0                     0.11   \n",
       "4                    0.33                    0.0                     0.16   \n",
       "\n",
       "  Case Fatality Rate Case Recovered Rate Growth Factor of New Cases  \\\n",
       "0              4.09%               7.98%                        NaN   \n",
       "1              4.07%               7.94%                        1.0   \n",
       "2              0.00%               0.00%                        NaN   \n",
       "3             41.67%            1000.00%                        NaN   \n",
       "4             50.00%              50.00%                        NaN   \n",
       "\n",
       "   Growth Factor of New Deaths  \n",
       "0                          NaN  \n",
       "1                          1.0  \n",
       "2                          NaN  \n",
       "3                          NaN  \n",
       "4                          NaN  \n",
       "\n",
       "[5 rows x 37 columns]"
      ],
      "text/html": "<div>\n<style scoped>\n    .dataframe tbody tr th:only-of-type {\n        vertical-align: middle;\n    }\n\n    .dataframe tbody tr th {\n        vertical-align: top;\n    }\n\n    .dataframe thead th {\n        text-align: right;\n    }\n</style>\n<table border=\"1\" class=\"dataframe\">\n  <thead>\n    <tr style=\"text-align: right;\">\n      <th></th>\n      <th>Date</th>\n      <th>Location ISO Code</th>\n      <th>Location</th>\n      <th>New Cases</th>\n      <th>New Deaths</th>\n      <th>New Recovered</th>\n      <th>New Active Cases</th>\n      <th>Total Cases</th>\n      <th>Total Deaths</th>\n      <th>Total Recovered</th>\n      <th>...</th>\n      <th>Longitude</th>\n      <th>Latitude</th>\n      <th>New Cases per Million</th>\n      <th>Total Cases per Million</th>\n      <th>New Deaths per Million</th>\n      <th>Total Deaths per Million</th>\n      <th>Case Fatality Rate</th>\n      <th>Case Recovered Rate</th>\n      <th>Growth Factor of New Cases</th>\n      <th>Growth Factor of New Deaths</th>\n    </tr>\n  </thead>\n  <tbody>\n    <tr>\n      <th>0</th>\n      <td>2020-03-01</td>\n      <td>ID-JK</td>\n      <td>DKI Jakarta</td>\n      <td>2</td>\n      <td>0</td>\n      <td>0</td>\n      <td>2</td>\n      <td>489</td>\n      <td>20</td>\n      <td>39</td>\n      <td>...</td>\n      <td>106.836118</td>\n      <td>-6.204699</td>\n      <td>0.18</td>\n      <td>45.09</td>\n      <td>0.0</td>\n      <td>1.84</td>\n      <td>4.09%</td>\n      <td>7.98%</td>\n      <td>NaN</td>\n      <td>NaN</td>\n    </tr>\n    <tr>\n      <th>1</th>\n      <td>2020-03-02</td>\n      <td>ID-JK</td>\n      <td>DKI Jakarta</td>\n      <td>2</td>\n      <td>0</td>\n      <td>0</td>\n      <td>2</td>\n      <td>491</td>\n      <td>20</td>\n      <td>39</td>\n      <td>...</td>\n      <td>106.836118</td>\n      <td>-6.204699</td>\n      <td>0.18</td>\n      <td>45.27</td>\n      <td>0.0</td>\n      <td>1.84</td>\n      <td>4.07%</td>\n      <td>7.94%</td>\n      <td>1.0</td>\n      <td>1.0</td>\n    </tr>\n    <tr>\n      <th>2</th>\n      <td>2020-03-02</td>\n      <td>IDN</td>\n      <td>Indonesia</td>\n      <td>2</td>\n      <td>0</td>\n      <td>0</td>\n      <td>2</td>\n      <td>2</td>\n      <td>0</td>\n      <td>0</td>\n      <td>...</td>\n      <td>113.921327</td>\n      <td>-0.789275</td>\n      <td>0.01</td>\n      <td>0.01</td>\n      <td>0.0</td>\n      <td>0.00</td>\n      <td>0.00%</td>\n      <td>0.00%</td>\n      <td>NaN</td>\n      <td>NaN</td>\n    </tr>\n    <tr>\n      <th>3</th>\n      <td>2020-03-02</td>\n      <td>ID-JB</td>\n      <td>Jawa Barat</td>\n      <td>3</td>\n      <td>0</td>\n      <td>0</td>\n      <td>3</td>\n      <td>12</td>\n      <td>5</td>\n      <td>120</td>\n      <td>...</td>\n      <td>107.603708</td>\n      <td>-6.920432</td>\n      <td>0.07</td>\n      <td>0.27</td>\n      <td>0.0</td>\n      <td>0.11</td>\n      <td>41.67%</td>\n      <td>1000.00%</td>\n      <td>NaN</td>\n      <td>NaN</td>\n    </tr>\n    <tr>\n      <th>4</th>\n      <td>2020-03-02</td>\n      <td>ID-RI</td>\n      <td>Riau</td>\n      <td>1</td>\n      <td>0</td>\n      <td>0</td>\n      <td>1</td>\n      <td>2</td>\n      <td>1</td>\n      <td>1</td>\n      <td>...</td>\n      <td>101.805109</td>\n      <td>0.511648</td>\n      <td>0.16</td>\n      <td>0.33</td>\n      <td>0.0</td>\n      <td>0.16</td>\n      <td>50.00%</td>\n      <td>50.00%</td>\n      <td>NaN</td>\n      <td>NaN</td>\n    </tr>\n  </tbody>\n</table>\n<p>5 rows × 37 columns</p>\n</div>"
     },
     "metadata": {},
     "execution_count": 21
    }
   ],
   "source": [
    "df_indo.head()"
   ]
  },
  {
   "cell_type": "code",
   "execution_count": 22,
   "metadata": {},
   "outputs": [
    {
     "output_type": "execute_result",
     "data": {
      "text/plain": [
       "        Date Location ISO Code     Location  New Cases  New Deaths  \\\n",
       "0 2020-03-01             ID-JK  DKI Jakarta          2           0   \n",
       "1 2020-03-02             ID-JK  DKI Jakarta          2           0   \n",
       "2 2020-03-02               IDN    Indonesia          2           0   \n",
       "3 2020-03-02             ID-JB   Jawa Barat          3           0   \n",
       "4 2020-03-02             ID-RI         Riau          1           0   \n",
       "\n",
       "   New Recovered  New Active Cases  Total Cases  Total Deaths  \\\n",
       "0              0               2.0          489            20   \n",
       "1              0               2.0          491            20   \n",
       "2              0               2.0            2             0   \n",
       "3              0               3.0           12             5   \n",
       "4              0               1.0            2             1   \n",
       "\n",
       "   Total Recovered  ...  Latitude New Cases per Million  \\\n",
       "0               39  ... -6.204699                  0.18   \n",
       "1               39  ... -6.204699                  0.18   \n",
       "2                0  ... -0.789275                  0.01   \n",
       "3              120  ... -6.920432                  0.07   \n",
       "4                1  ...  0.511648                  0.16   \n",
       "\n",
       "   Total Cases per Million New Deaths per Million Total Deaths per Million  \\\n",
       "0                    45.09                    0.0                     1.84   \n",
       "1                    45.27                    0.0                     1.84   \n",
       "2                     0.01                    0.0                     0.00   \n",
       "3                     0.27                    0.0                     0.11   \n",
       "4                     0.33                    0.0                     0.16   \n",
       "\n",
       "  Case Fatality Rate Case Recovered Rate Growth Factor of New Cases  \\\n",
       "0              4.09%               7.98%                        NaN   \n",
       "1              4.07%               7.94%                        1.0   \n",
       "2              0.00%               0.00%                        NaN   \n",
       "3             41.67%            1000.00%                        NaN   \n",
       "4             50.00%              50.00%                        NaN   \n",
       "\n",
       "  Growth Factor of New Deaths  Total Active Cases  \n",
       "0                         NaN                 NaN  \n",
       "1                         1.0                 NaN  \n",
       "2                         NaN                 NaN  \n",
       "3                         NaN                 NaN  \n",
       "4                         NaN                 NaN  \n",
       "\n",
       "[5 rows x 38 columns]"
      ],
      "text/html": "<div>\n<style scoped>\n    .dataframe tbody tr th:only-of-type {\n        vertical-align: middle;\n    }\n\n    .dataframe tbody tr th {\n        vertical-align: top;\n    }\n\n    .dataframe thead th {\n        text-align: right;\n    }\n</style>\n<table border=\"1\" class=\"dataframe\">\n  <thead>\n    <tr style=\"text-align: right;\">\n      <th></th>\n      <th>Date</th>\n      <th>Location ISO Code</th>\n      <th>Location</th>\n      <th>New Cases</th>\n      <th>New Deaths</th>\n      <th>New Recovered</th>\n      <th>New Active Cases</th>\n      <th>Total Cases</th>\n      <th>Total Deaths</th>\n      <th>Total Recovered</th>\n      <th>...</th>\n      <th>Latitude</th>\n      <th>New Cases per Million</th>\n      <th>Total Cases per Million</th>\n      <th>New Deaths per Million</th>\n      <th>Total Deaths per Million</th>\n      <th>Case Fatality Rate</th>\n      <th>Case Recovered Rate</th>\n      <th>Growth Factor of New Cases</th>\n      <th>Growth Factor of New Deaths</th>\n      <th>Total Active Cases</th>\n    </tr>\n  </thead>\n  <tbody>\n    <tr>\n      <th>0</th>\n      <td>2020-03-01</td>\n      <td>ID-JK</td>\n      <td>DKI Jakarta</td>\n      <td>2</td>\n      <td>0</td>\n      <td>0</td>\n      <td>2.0</td>\n      <td>489</td>\n      <td>20</td>\n      <td>39</td>\n      <td>...</td>\n      <td>-6.204699</td>\n      <td>0.18</td>\n      <td>45.09</td>\n      <td>0.0</td>\n      <td>1.84</td>\n      <td>4.09%</td>\n      <td>7.98%</td>\n      <td>NaN</td>\n      <td>NaN</td>\n      <td>NaN</td>\n    </tr>\n    <tr>\n      <th>1</th>\n      <td>2020-03-02</td>\n      <td>ID-JK</td>\n      <td>DKI Jakarta</td>\n      <td>2</td>\n      <td>0</td>\n      <td>0</td>\n      <td>2.0</td>\n      <td>491</td>\n      <td>20</td>\n      <td>39</td>\n      <td>...</td>\n      <td>-6.204699</td>\n      <td>0.18</td>\n      <td>45.27</td>\n      <td>0.0</td>\n      <td>1.84</td>\n      <td>4.07%</td>\n      <td>7.94%</td>\n      <td>1.0</td>\n      <td>1.0</td>\n      <td>NaN</td>\n    </tr>\n    <tr>\n      <th>2</th>\n      <td>2020-03-02</td>\n      <td>IDN</td>\n      <td>Indonesia</td>\n      <td>2</td>\n      <td>0</td>\n      <td>0</td>\n      <td>2.0</td>\n      <td>2</td>\n      <td>0</td>\n      <td>0</td>\n      <td>...</td>\n      <td>-0.789275</td>\n      <td>0.01</td>\n      <td>0.01</td>\n      <td>0.0</td>\n      <td>0.00</td>\n      <td>0.00%</td>\n      <td>0.00%</td>\n      <td>NaN</td>\n      <td>NaN</td>\n      <td>NaN</td>\n    </tr>\n    <tr>\n      <th>3</th>\n      <td>2020-03-02</td>\n      <td>ID-JB</td>\n      <td>Jawa Barat</td>\n      <td>3</td>\n      <td>0</td>\n      <td>0</td>\n      <td>3.0</td>\n      <td>12</td>\n      <td>5</td>\n      <td>120</td>\n      <td>...</td>\n      <td>-6.920432</td>\n      <td>0.07</td>\n      <td>0.27</td>\n      <td>0.0</td>\n      <td>0.11</td>\n      <td>41.67%</td>\n      <td>1000.00%</td>\n      <td>NaN</td>\n      <td>NaN</td>\n      <td>NaN</td>\n    </tr>\n    <tr>\n      <th>4</th>\n      <td>2020-03-02</td>\n      <td>ID-RI</td>\n      <td>Riau</td>\n      <td>1</td>\n      <td>0</td>\n      <td>0</td>\n      <td>1.0</td>\n      <td>2</td>\n      <td>1</td>\n      <td>1</td>\n      <td>...</td>\n      <td>0.511648</td>\n      <td>0.16</td>\n      <td>0.33</td>\n      <td>0.0</td>\n      <td>0.16</td>\n      <td>50.00%</td>\n      <td>50.00%</td>\n      <td>NaN</td>\n      <td>NaN</td>\n      <td>NaN</td>\n    </tr>\n  </tbody>\n</table>\n<p>5 rows × 38 columns</p>\n</div>"
     },
     "metadata": {},
     "execution_count": 22
    }
   ],
   "source": [
    "## Get Bali and Indo Data from new Xlsx Sheet\n",
    "## Source Kawal-Indo\n",
    "\n",
    "df_indo_new = pd.read_excel('Indo_data.xlsx', 'Bali and Indo')\n",
    "df_indo_new= df_indo_new.sort_values(by=['Date'], ascending=True)\n",
    "df_indo_new['Date'][0]\n",
    "\n",
    "## Merge with old data df\n",
    "\n",
    "df_indo = df_indo.append(df_indo_new)\n",
    "\n",
    "# check values\n",
    "df_indo.head()\n"
   ]
  },
  {
   "cell_type": "code",
   "execution_count": 23,
   "metadata": {},
   "outputs": [],
   "source": [
    "# df_indo.dtypes"
   ]
  },
  {
   "cell_type": "code",
   "execution_count": 24,
   "metadata": {},
   "outputs": [
    {
     "output_type": "stream",
     "name": "stdout",
     "text": [
      "['No', 'Date', 'Kabupaten / County', 'new_treatment', 'total_treatment', 'new_recovered', 'total_recovered', 'new_deaths', 'total_deaths', 'new_cases', 'total_cases', 'new PPLN/PMI', 'New history-of-foreign-travel/ migrant-worker (PPLN/PMI)', 'new domestic-travel-histor', 'total domestic-travel-history (PPDN)', 'new_local_transmission', 'total_local_transmission', 'new_other_transmission', 'total_other_transmission', 'date', 'Name_EN', 'Name_Indo', 'Capital', 'area_km2', 'population_2000', 'population_2010', 'population_2015', 'HDI_2014_estimate', 'Gouvernor', 'Nr. of Sub-Districts', 'Nr of Keluruhan/Villages', 'total_cases_per_100k', 'total_deaths_per_100k', 'cases7', 'cases7_per_100k', 'deaths7', 'deaths7_per_100k', 'CFR', 'growth_rate_new_cases', 'id']\n"
     ]
    }
   ],
   "source": [
    "print(list(df_merged.columns))"
   ]
  },
  {
   "cell_type": "code",
   "execution_count": 25,
   "metadata": {},
   "outputs": [
    {
     "output_type": "execute_result",
     "data": {
      "text/plain": [
       "Index(['Date', 'Location ISO Code', 'Location', 'New Cases', 'New Deaths',\n",
       "       'New Recovered', 'New Active Cases', 'Total Cases', 'Total Deaths',\n",
       "       'Total Recovered', 'Total Active Cases', 'Location Level',\n",
       "       'City or Regency', 'Province', 'Country', 'Continent', 'Island',\n",
       "       'Time Zone', 'Special Status', 'Total Regencies', 'Total Cities',\n",
       "       'Total Districts', 'Total Urban Villages', 'Total Rural Villages',\n",
       "       'Area (km2)', 'Population', 'Population Density', 'Longitude',\n",
       "       'Latitude', 'New Cases per Million', 'Total Cases per Million',\n",
       "       'New Deaths per Million', 'Total Deaths per Million',\n",
       "       'Case Fatality Rate', 'Case Recovered Rate',\n",
       "       'Growth Factor of New Cases', 'Growth Factor of New Deaths',\n",
       "       'Total Active Cases'],\n",
       "      dtype='object')"
      ]
     },
     "metadata": {},
     "execution_count": 25
    }
   ],
   "source": [
    "df_indo.columns"
   ]
  },
  {
   "cell_type": "code",
   "execution_count": 26,
   "metadata": {},
   "outputs": [
    {
     "output_type": "execute_result",
     "data": {
      "text/plain": [
       "Index(['Date', 'Location ISO Code', 'Location', 'new_cases', 'new_deaths',\n",
       "       'new_recovered', 'New Active Cases', 'total_cases', 'total_deaths',\n",
       "       'total_recovered', 'Total Active Cases', 'Location Level',\n",
       "       'City or Regency', 'Province', 'Country', 'Continent', 'Island',\n",
       "       'Time Zone', 'Special Status', 'Total Regencies', 'Total Cities',\n",
       "       'Total Districts', 'Total Urban Villages', 'Total Rural Villages',\n",
       "       'Area (km2)', 'Population', 'Population Density', 'Longitude',\n",
       "       'Latitude', 'New Cases per Million', 'Total Cases per Million',\n",
       "       'New Deaths per Million', 'Total Deaths per Million', 'CFR',\n",
       "       'Case Recovered Rate', 'Growth Factor of New Cases',\n",
       "       'Growth Factor of New Deaths', 'Total Active Cases'],\n",
       "      dtype='object')"
      ]
     },
     "metadata": {},
     "execution_count": 26
    }
   ],
   "source": [
    "# adjust column names\n",
    "columns_new = ['Date', 'Location ISO Code', 'Location', 'new_cases', 'new_deaths',\n",
    "       'new_recovered', 'New Active Cases', 'total_cases', 'total_deaths',\n",
    "       'total_recovered', 'Total Active Cases', 'Location Level',\n",
    "       'City or Regency', 'Province', 'Country', 'Continent', 'Island',\n",
    "       'Time Zone', 'Special Status', 'Total Regencies', 'Total Cities',\n",
    "       'Total Districts', 'Total Urban Villages', 'Total Rural Villages',\n",
    "       'Area (km2)', 'Population', 'Population Density', 'Longitude',\n",
    "       'Latitude', 'New Cases per Million', 'Total Cases per Million',\n",
    "       'New Deaths per Million', 'Total Deaths per Million',\n",
    "       'CFR', 'Case Recovered Rate',\n",
    "       'Growth Factor of New Cases', 'Growth Factor of New Deaths', 'Total Active Cases']\n",
    "\n",
    "df_indo.columns = columns_new\n",
    "df_indo.columns"
   ]
  },
  {
   "cell_type": "code",
   "execution_count": 27,
   "metadata": {},
   "outputs": [
    {
     "output_type": "execute_result",
     "data": {
      "text/plain": [
       "         Date Location ISO Code   Location  new_cases  new_deaths  \\\n",
       "15 2021-01-16               NaN       Bali        319           3   \n",
       "34 2021-01-17               NaN  Indonesia      11287         220   \n",
       "16 2021-01-17               NaN       Bali        262           1   \n",
       "17 2021-01-18               NaN       Bali        238           4   \n",
       "35 2021-01-18               NaN  Indonesia       9086         295   \n",
       "\n",
       "    new_recovered  New Active Cases  total_cases  total_deaths  \\\n",
       "15            149               NaN        21030           586   \n",
       "34           9102               NaN       907929         25987   \n",
       "16            129               NaN        21292           587   \n",
       "17            251               NaN        21530           591   \n",
       "35           9475               NaN       917015         26282   \n",
       "\n",
       "    total_recovered  ...    Name_EN new_cases_per_100k  new_deaths_per_100k  \\\n",
       "15            18217  ...       bali               7.57                 0.07   \n",
       "34           736460  ...  indonesia               4.26                 0.08   \n",
       "16            18346  ...       bali               6.21                 0.02   \n",
       "17            18597  ...       bali               5.64                 0.09   \n",
       "35           745935  ...  indonesia               3.43                 0.11   \n",
       "\n",
       "   total_cases_per_100k total_deaths_per_100k   cases7 deaths7  \\\n",
       "15               498.79                 13.90  7257.71  161.86   \n",
       "34               342.38                  9.80  7259.00  149.57   \n",
       "16               505.01                 13.92  5645.43  107.57   \n",
       "17               510.65                 14.02  5637.00  107.86   \n",
       "35               345.80                  9.91  5103.86  116.00   \n",
       "\n",
       "   cases7_per_100k deaths7_per_100k  growth_rate_new_cases  \n",
       "15          172.14             3.84               0.190299  \n",
       "34            2.74             0.06               0.000798  \n",
       "16          133.90             2.55              -0.977330  \n",
       "17          133.70             2.56              -0.198653  \n",
       "35            1.92             0.04              -0.291153  \n",
       "\n",
       "[5 rows x 48 columns]"
      ],
      "text/html": "<div>\n<style scoped>\n    .dataframe tbody tr th:only-of-type {\n        vertical-align: middle;\n    }\n\n    .dataframe tbody tr th {\n        vertical-align: top;\n    }\n\n    .dataframe thead th {\n        text-align: right;\n    }\n</style>\n<table border=\"1\" class=\"dataframe\">\n  <thead>\n    <tr style=\"text-align: right;\">\n      <th></th>\n      <th>Date</th>\n      <th>Location ISO Code</th>\n      <th>Location</th>\n      <th>new_cases</th>\n      <th>new_deaths</th>\n      <th>new_recovered</th>\n      <th>New Active Cases</th>\n      <th>total_cases</th>\n      <th>total_deaths</th>\n      <th>total_recovered</th>\n      <th>...</th>\n      <th>Name_EN</th>\n      <th>new_cases_per_100k</th>\n      <th>new_deaths_per_100k</th>\n      <th>total_cases_per_100k</th>\n      <th>total_deaths_per_100k</th>\n      <th>cases7</th>\n      <th>deaths7</th>\n      <th>cases7_per_100k</th>\n      <th>deaths7_per_100k</th>\n      <th>growth_rate_new_cases</th>\n    </tr>\n  </thead>\n  <tbody>\n    <tr>\n      <th>15</th>\n      <td>2021-01-16</td>\n      <td>NaN</td>\n      <td>Bali</td>\n      <td>319</td>\n      <td>3</td>\n      <td>149</td>\n      <td>NaN</td>\n      <td>21030</td>\n      <td>586</td>\n      <td>18217</td>\n      <td>...</td>\n      <td>bali</td>\n      <td>7.57</td>\n      <td>0.07</td>\n      <td>498.79</td>\n      <td>13.90</td>\n      <td>7257.71</td>\n      <td>161.86</td>\n      <td>172.14</td>\n      <td>3.84</td>\n      <td>0.190299</td>\n    </tr>\n    <tr>\n      <th>34</th>\n      <td>2021-01-17</td>\n      <td>NaN</td>\n      <td>Indonesia</td>\n      <td>11287</td>\n      <td>220</td>\n      <td>9102</td>\n      <td>NaN</td>\n      <td>907929</td>\n      <td>25987</td>\n      <td>736460</td>\n      <td>...</td>\n      <td>indonesia</td>\n      <td>4.26</td>\n      <td>0.08</td>\n      <td>342.38</td>\n      <td>9.80</td>\n      <td>7259.00</td>\n      <td>149.57</td>\n      <td>2.74</td>\n      <td>0.06</td>\n      <td>0.000798</td>\n    </tr>\n    <tr>\n      <th>16</th>\n      <td>2021-01-17</td>\n      <td>NaN</td>\n      <td>Bali</td>\n      <td>262</td>\n      <td>1</td>\n      <td>129</td>\n      <td>NaN</td>\n      <td>21292</td>\n      <td>587</td>\n      <td>18346</td>\n      <td>...</td>\n      <td>bali</td>\n      <td>6.21</td>\n      <td>0.02</td>\n      <td>505.01</td>\n      <td>13.92</td>\n      <td>5645.43</td>\n      <td>107.57</td>\n      <td>133.90</td>\n      <td>2.55</td>\n      <td>-0.977330</td>\n    </tr>\n    <tr>\n      <th>17</th>\n      <td>2021-01-18</td>\n      <td>NaN</td>\n      <td>Bali</td>\n      <td>238</td>\n      <td>4</td>\n      <td>251</td>\n      <td>NaN</td>\n      <td>21530</td>\n      <td>591</td>\n      <td>18597</td>\n      <td>...</td>\n      <td>bali</td>\n      <td>5.64</td>\n      <td>0.09</td>\n      <td>510.65</td>\n      <td>14.02</td>\n      <td>5637.00</td>\n      <td>107.86</td>\n      <td>133.70</td>\n      <td>2.56</td>\n      <td>-0.198653</td>\n    </tr>\n    <tr>\n      <th>35</th>\n      <td>2021-01-18</td>\n      <td>NaN</td>\n      <td>Indonesia</td>\n      <td>9086</td>\n      <td>295</td>\n      <td>9475</td>\n      <td>NaN</td>\n      <td>917015</td>\n      <td>26282</td>\n      <td>745935</td>\n      <td>...</td>\n      <td>indonesia</td>\n      <td>3.43</td>\n      <td>0.11</td>\n      <td>345.80</td>\n      <td>9.91</td>\n      <td>5103.86</td>\n      <td>116.00</td>\n      <td>1.92</td>\n      <td>0.04</td>\n      <td>-0.291153</td>\n    </tr>\n  </tbody>\n</table>\n<p>5 rows × 48 columns</p>\n</div>"
     },
     "metadata": {},
     "execution_count": 27
    }
   ],
   "source": [
    "# add columns so consistent with Bali_regency data\n",
    "df_indo['Name_EN'] = df_indo['Location'].str.casefold()\n",
    "\n",
    "df_indo['new_cases_per_100k'] = df_indo['new_cases'] / df_indo['Population'] * 100000.0\n",
    "df_indo['new_cases_per_100k'] = df_indo['new_cases_per_100k'].round(2)\n",
    "\n",
    "df_indo['new_deaths_per_100k'] = df_indo['new_deaths'] / df_indo['Population'] * 100000.0\n",
    "df_indo['new_deaths_per_100k']= df_indo['new_deaths_per_100k'].round(2)\n",
    "\n",
    "df_indo['total_cases_per_100k'] = df_indo['total_cases'] / df_indo['Population'] * 100000.0\n",
    "df_indo['total_cases_per_100k'] = df_indo['total_cases_per_100k'].round(2)\n",
    "\n",
    "df_indo['total_deaths_per_100k'] = df_indo['total_deaths'] / df_indo['Population'] * 100000.0\n",
    "df_indo['total_deaths_per_100k'] = df_indo['total_deaths_per_100k'].round(2)\n",
    "\n",
    "# rolling 7-day average\n",
    "df_indo['cases7'] = df_indo['new_cases'].rolling(window=7, center=False).mean().round(2)\n",
    "df_indo['deaths7'] = df_indo['new_deaths'].rolling(window=7, center = False).mean().round(2)\n",
    "\n",
    "df_indo['cases7_per_100k'] = df_indo['cases7'] / df_indo['Population'] *100000\n",
    "df_indo['deaths7_per_100k'] = df_indo['deaths7'] / df_indo['Population'] *100000\n",
    "df_indo['cases7_per_100k'] = df_indo['cases7_per_100k'].round(2)\n",
    "df_indo['deaths7_per_100k'] = df_indo['deaths7_per_100k'].round(2)\n",
    "\n",
    "# df_indo['growth_rate'] = df_indo['Growth Factor of New Cases']\n",
    "df_indo['growth_rate_new_cases'] = df_indo['new_cases'].pct_change(periods=7, fill_method='ffill')\n",
    "\n",
    "df_indo.tail()"
   ]
  },
  {
   "cell_type": "code",
   "execution_count": 28,
   "metadata": {},
   "outputs": [],
   "source": [
    "## add id from geojson for choropleth Map\n",
    "#########################################\n",
    "\n",
    "# open new geojson (with id) file\n",
    "geojson_indo = 'new_indo_id.geojson'\n",
    "indo_geo_id = json.load(open(geojson_indo, 'r'))\n"
   ]
  },
  {
   "cell_type": "code",
   "execution_count": 29,
   "metadata": {},
   "outputs": [
    {
     "output_type": "execute_result",
     "data": {
      "text/plain": [
       "8"
      ]
     },
     "metadata": {},
     "execution_count": 29
    }
   ],
   "source": [
    "indo_geo_id['features'][7]['id']"
   ]
  },
  {
   "cell_type": "code",
   "execution_count": 30,
   "metadata": {},
   "outputs": [
    {
     "output_type": "execute_result",
     "data": {
      "text/plain": [
       "['Jakarta Raya', 'Bangka-Belitung', 'Yogyakarta', 'Irian Jaya Barat']"
      ]
     },
     "metadata": {},
     "execution_count": 30
    }
   ],
   "source": [
    "## ADJUST NAMES OF df_indo with NAMES OF GEOJSON ADM1_EN\n",
    "\n",
    "# which names are different\n",
    "names_df = df_indo['Location'].unique()\n",
    "provinces = []\n",
    "for province in indo_geo_id['features']:\n",
    "  provinces.append(province['properties']['state'])\n",
    "\n",
    "list(set(provinces) - set(names_df))"
   ]
  },
  {
   "cell_type": "code",
   "execution_count": 31,
   "metadata": {},
   "outputs": [],
   "source": [
    "list_df = ['DKI Jakarta', 'Kalimantan Utara', 'Daerah Istimewa Yogyakarta', 'Papua Barat','Kepulauan Bangka Belitung']\n",
    "\n",
    "list(set(provinces) - set(names_df))\n",
    "list1= ['Bangka-Belitung', 'Jakarta Raya', 'Yogyakarta', 'Irian Jaya Barat']\n"
   ]
  },
  {
   "cell_type": "code",
   "execution_count": 32,
   "metadata": {},
   "outputs": [],
   "source": [
    "# adjust Names of provnices in Indo\n",
    "\n",
    "df_indo = df_indo.replace(\"DKI Jakarta\", 'Jakarta Raya')\n",
    "df_indo = df_indo.replace(\"Papua Barat\", 'Irian Jaya Barat')\n",
    "df_indo = df_indo.replace(\"Daerah Istimewa Yogyakarta\", 'Yogyakarta')\n",
    "df_indo = df_indo.replace(\"Kepulauan Bangka Belitung\", 'Bangka-Belitung')"
   ]
  },
  {
   "cell_type": "code",
   "execution_count": 33,
   "metadata": {},
   "outputs": [
    {
     "output_type": "execute_result",
     "data": {
      "text/plain": [
       "           Date Location ISO Code          Location  new_cases  new_deaths  \\\n",
       "9955 2020-12-31             ID-SA    Sulawesi Utara         88           1   \n",
       "9956 2020-12-31             ID-SB    Sumatera Barat        117           3   \n",
       "9957 2020-12-31             ID-SS  Sumatera Selatan         92           1   \n",
       "9958 2020-12-31             ID-SU    Sumatera Utara         83           0   \n",
       "0    2021-01-01               NaN              Bali        101           1   \n",
       "18   2021-01-01               NaN         Indonesia       8072         191   \n",
       "1    2021-01-02               NaN              Bali        165           5   \n",
       "19   2021-01-02               NaN         Indonesia       7203         226   \n",
       "2    2021-01-03               NaN              Bali        119           2   \n",
       "20   2021-01-03               NaN         Indonesia       6877         179   \n",
       "21   2021-01-04               NaN         Indonesia       6753         177   \n",
       "3    2021-01-04               NaN              Bali        118           7   \n",
       "22   2021-01-05               NaN         Indonesia       7445         198   \n",
       "4    2021-01-05               NaN              Bali        167           2   \n",
       "5    2021-01-06               NaN              Bali        191           7   \n",
       "23   2021-01-06               NaN         Indonesia       8854         187   \n",
       "24   2021-01-07               NaN         Indonesia       9321         224   \n",
       "6    2021-01-07               NaN              Bali        189           5   \n",
       "7    2021-01-08               NaN              Bali        231           4   \n",
       "25   2021-01-08               NaN         Indonesia      10617         233   \n",
       "8    2021-01-09               NaN              Bali        189           4   \n",
       "26   2021-01-09               NaN         Indonesia      10046         194   \n",
       "9    2021-01-10               NaN              Bali        169           3   \n",
       "27   2021-01-10               NaN         Indonesia       9640         182   \n",
       "28   2021-01-11               NaN         Indonesia       8692         214   \n",
       "10   2021-01-11               NaN              Bali        253           4   \n",
       "29   2021-01-12               NaN         Indonesia      10047         302   \n",
       "11   2021-01-12               NaN              Bali        350           6   \n",
       "12   2021-01-13               NaN              Bali        268           6   \n",
       "30   2021-01-13               NaN         Indonesia      11278         306   \n",
       "31   2021-01-14               NaN         Indonesia      11557         295   \n",
       "13   2021-01-14               NaN              Bali        297           2   \n",
       "32   2021-01-15               NaN         Indonesia      12818         238   \n",
       "14   2021-01-15               NaN              Bali        311           6   \n",
       "33   2021-01-16               NaN         Indonesia      14224         283   \n",
       "15   2021-01-16               NaN              Bali        319           3   \n",
       "34   2021-01-17               NaN         Indonesia      11287         220   \n",
       "16   2021-01-17               NaN              Bali        262           1   \n",
       "17   2021-01-18               NaN              Bali        238           4   \n",
       "35   2021-01-18               NaN         Indonesia       9086         295   \n",
       "\n",
       "      new_recovered  New Active Cases  total_cases  total_deaths  \\\n",
       "9955              0              87.0         9671           310   \n",
       "9956             26              88.0        23464           522   \n",
       "9957             50              41.0        11826           599   \n",
       "9958             82               1.0        18149           679   \n",
       "0                93               NaN        17694           520   \n",
       "18             6839               NaN       751270         22329   \n",
       "1               128               NaN        17859           525   \n",
       "19             7582               NaN       758473         22555   \n",
       "2                78               NaN        17978           527   \n",
       "20             6419               NaN       765350         22734   \n",
       "21             7166               NaN       772103         22911   \n",
       "3               131               NaN        18096           534   \n",
       "22             6643               NaN       779548         23109   \n",
       "4               110               NaN        18263           536   \n",
       "5               155               NaN        18454           543   \n",
       "23             6767               NaN       788402         23296   \n",
       "24             6924               NaN       797723         23520   \n",
       "6               137               NaN        18643           548   \n",
       "7               114               NaN        18874           552   \n",
       "25             7446               NaN       808340         23753   \n",
       "8               110               NaN        19063           556   \n",
       "26             6628               NaN       818386         23947   \n",
       "9               112               NaN        19232           559   \n",
       "27             7513               NaN       828026         24129   \n",
       "28             7715               NaN       836718         24343   \n",
       "10              162               NaN        19485           563   \n",
       "29             7068               NaN       846765         24645   \n",
       "11              136               NaN        19835           569   \n",
       "12              121               NaN        20103           575   \n",
       "30             7657               NaN       858043         24951   \n",
       "31             7741               NaN       869600         25246   \n",
       "13              248               NaN        20400           577   \n",
       "32             7491               NaN       882418         25484   \n",
       "14              202               NaN        20711           583   \n",
       "33             8662               NaN       896642         25767   \n",
       "15              149               NaN        21030           586   \n",
       "34             9102               NaN       907929         25987   \n",
       "16              129               NaN        21292           587   \n",
       "17              251               NaN        21530           591   \n",
       "35             9475               NaN       917015         26282   \n",
       "\n",
       "      total_recovered  ...  new_cases_per_100k new_deaths_per_100k  \\\n",
       "9955             7003  ...                3.33                0.04   \n",
       "9956            18030  ...                2.12                0.05   \n",
       "9957             9364  ...                1.12                0.01   \n",
       "9958            15403  ...                0.56                0.00   \n",
       "0               16124  ...                2.40                0.02   \n",
       "18             617936  ...                3.04                0.07   \n",
       "1               16252  ...                3.91                0.12   \n",
       "19             625518  ...                2.72                0.09   \n",
       "2               16330  ...                2.82                0.05   \n",
       "20             631937  ...                2.59                0.07   \n",
       "21             639103  ...                2.55                0.07   \n",
       "3               16461  ...                2.80                0.17   \n",
       "22             645746  ...                2.81                0.07   \n",
       "4               16571  ...                3.96                0.05   \n",
       "5               16726  ...                4.53                0.17   \n",
       "23             652513  ...                3.34                0.07   \n",
       "24             659437  ...                3.51                0.08   \n",
       "6               16863  ...                4.48                0.12   \n",
       "7               16977  ...                5.48                0.09   \n",
       "25             666883  ...                4.00                0.09   \n",
       "8               17087  ...                4.48                0.09   \n",
       "26             673511  ...                3.79                0.07   \n",
       "9               17199  ...                4.01                0.07   \n",
       "27             681024  ...                3.64                0.07   \n",
       "28             688739  ...                3.28                0.08   \n",
       "10              17361  ...                6.00                0.09   \n",
       "29             695807  ...                3.79                0.11   \n",
       "11              17497  ...                8.30                0.14   \n",
       "12              17618  ...                6.36                0.14   \n",
       "30             703464  ...                4.25                0.12   \n",
       "31             711205  ...                4.36                0.11   \n",
       "13              17866  ...                7.04                0.05   \n",
       "32             718696  ...                4.83                0.09   \n",
       "14              18068  ...                7.38                0.14   \n",
       "33             727358  ...                5.36                0.11   \n",
       "15              18217  ...                7.57                0.07   \n",
       "34             736460  ...                4.26                0.08   \n",
       "16              18346  ...                6.21                0.02   \n",
       "17              18597  ...                5.64                0.09   \n",
       "35             745935  ...                3.43                0.11   \n",
       "\n",
       "      total_cases_per_100k total_deaths_per_100k   cases7 deaths7  \\\n",
       "9955                366.06                 11.73   138.57    0.29   \n",
       "9956                425.13                  9.46   150.57    0.71   \n",
       "9957                143.91                  7.29   148.00    0.71   \n",
       "9958                122.01                  4.56   156.00    0.71   \n",
       "0                   419.67                 12.33   102.00    0.86   \n",
       "18                  283.30                  8.42  1227.29   28.14   \n",
       "1                   423.58                 12.45  1245.43   28.86   \n",
       "19                  286.02                  8.51  2261.86   61.00   \n",
       "2                   426.41                 12.50  2262.14   60.86   \n",
       "20                  288.61                  8.57  3231.43   86.29   \n",
       "21                  291.16                  8.64  4184.29  111.57   \n",
       "3                   429.20                 12.67  4186.71  112.43   \n",
       "22                  293.96                  8.71  4097.14  113.43   \n",
       "4                   433.17                 12.71  4097.43  113.00   \n",
       "5                   437.70                 12.88  3095.71   81.71   \n",
       "23                  297.30                  8.78  4343.57  108.14   \n",
       "24                  300.82                  8.87  4692.71  114.57   \n",
       "6                   442.18                 13.00  3755.00   90.00   \n",
       "7                   447.66                 13.09  3771.14   89.57   \n",
       "25                  304.82                  8.96  4224.29   94.57   \n",
       "8                   452.14                 13.19  4227.43   94.86   \n",
       "26                  308.61                  9.03  5635.29  121.57   \n",
       "9                   456.15                 13.26  4394.57   95.29   \n",
       "27                  312.24                  9.10  4440.14   89.29   \n",
       "28                  315.52                  9.18  5654.86  119.14   \n",
       "10                  462.15                 13.35  5658.00  119.14   \n",
       "29                  319.31                  9.29  5576.57  129.00   \n",
       "11                  470.45                 13.50  5599.57  129.29   \n",
       "12                  476.81                 13.64  4202.71  102.43   \n",
       "30                  323.56                  9.41  5789.71  145.71   \n",
       "31                  327.92                  9.52  6063.57  161.86   \n",
       "13                  483.85                 13.69  4864.29  131.57   \n",
       "32                  332.75                  9.61  6659.29  165.00   \n",
       "14                  491.23                 13.83  5268.43  122.71   \n",
       "33                  338.12                  9.72  7250.43  162.29   \n",
       "15                  498.79                 13.90  7257.71  161.86   \n",
       "34                  342.38                  9.80  7259.00  149.57   \n",
       "16                  505.01                 13.92  5645.43  107.57   \n",
       "17                  510.65                 14.02  5637.00  107.86   \n",
       "35                  345.80                  9.91  5103.86  116.00   \n",
       "\n",
       "     cases7_per_100k deaths7_per_100k growth_rate_new_cases  id  \n",
       "9955            5.25             0.01              0.600000  22  \n",
       "9956            2.73             0.01              2.545455   2  \n",
       "9957            1.80             0.01             -0.163636  33  \n",
       "9958            1.05             0.00              2.074074   4  \n",
       "0               2.42             0.02             -0.789144  24  \n",
       "18              0.46             0.01             40.394872   0  \n",
       "1              29.54             0.68              3.342105  24  \n",
       "19              0.85             0.02             80.852273   0  \n",
       "2              53.65             1.44              0.017094  24  \n",
       "20              1.22             0.03             73.750000   0  \n",
       "21              1.58             0.04             80.361446   0  \n",
       "3              99.30             2.67              0.168317  24  \n",
       "22              1.55             0.04             -0.077676   0  \n",
       "4              97.18             2.68              0.012121  24  \n",
       "5              73.42             1.94             -0.973483  24  \n",
       "23              1.64             0.04             73.403361   0  \n",
       "24              1.77             0.04              0.355388   0  \n",
       "6              89.06             2.13             -0.972012  24  \n",
       "7              89.44             2.12              0.957627  24  \n",
       "25              1.59             0.04              0.426058   0  \n",
       "8             100.27             2.25              0.131737  24  \n",
       "26              2.13             0.05             51.596859   0  \n",
       "9             104.23             2.26             -0.980913  24  \n",
       "27              1.67             0.03              0.034224   0  \n",
       "28              2.13             0.04             44.989418   0  \n",
       "10            134.20             2.83              0.095238  24  \n",
       "29              2.10             0.05             -0.053687   0  \n",
       "11            132.81             3.07              0.851852  24  \n",
       "12             99.68             2.43             -0.973323  24  \n",
       "30              2.18             0.05             65.733728   0  \n",
       "31              2.29             0.06              0.198859   0  \n",
       "13            115.37             3.12             -0.965831  24  \n",
       "32              2.51             0.06             49.664032   0  \n",
       "14            124.96             2.91             -0.969045  24  \n",
       "33              2.73             0.06             39.640000   0  \n",
       "15            172.14             3.84              0.190299  24  \n",
       "34              2.74             0.06              0.000798   0  \n",
       "16            133.90             2.55             -0.977330  24  \n",
       "17            133.70             2.56             -0.198653  24  \n",
       "35              1.92             0.04             -0.291153   0  \n",
       "\n",
       "[40 rows x 49 columns]"
      ],
      "text/html": "<div>\n<style scoped>\n    .dataframe tbody tr th:only-of-type {\n        vertical-align: middle;\n    }\n\n    .dataframe tbody tr th {\n        vertical-align: top;\n    }\n\n    .dataframe thead th {\n        text-align: right;\n    }\n</style>\n<table border=\"1\" class=\"dataframe\">\n  <thead>\n    <tr style=\"text-align: right;\">\n      <th></th>\n      <th>Date</th>\n      <th>Location ISO Code</th>\n      <th>Location</th>\n      <th>new_cases</th>\n      <th>new_deaths</th>\n      <th>new_recovered</th>\n      <th>New Active Cases</th>\n      <th>total_cases</th>\n      <th>total_deaths</th>\n      <th>total_recovered</th>\n      <th>...</th>\n      <th>new_cases_per_100k</th>\n      <th>new_deaths_per_100k</th>\n      <th>total_cases_per_100k</th>\n      <th>total_deaths_per_100k</th>\n      <th>cases7</th>\n      <th>deaths7</th>\n      <th>cases7_per_100k</th>\n      <th>deaths7_per_100k</th>\n      <th>growth_rate_new_cases</th>\n      <th>id</th>\n    </tr>\n  </thead>\n  <tbody>\n    <tr>\n      <th>9955</th>\n      <td>2020-12-31</td>\n      <td>ID-SA</td>\n      <td>Sulawesi Utara</td>\n      <td>88</td>\n      <td>1</td>\n      <td>0</td>\n      <td>87.0</td>\n      <td>9671</td>\n      <td>310</td>\n      <td>7003</td>\n      <td>...</td>\n      <td>3.33</td>\n      <td>0.04</td>\n      <td>366.06</td>\n      <td>11.73</td>\n      <td>138.57</td>\n      <td>0.29</td>\n      <td>5.25</td>\n      <td>0.01</td>\n      <td>0.600000</td>\n      <td>22</td>\n    </tr>\n    <tr>\n      <th>9956</th>\n      <td>2020-12-31</td>\n      <td>ID-SB</td>\n      <td>Sumatera Barat</td>\n      <td>117</td>\n      <td>3</td>\n      <td>26</td>\n      <td>88.0</td>\n      <td>23464</td>\n      <td>522</td>\n      <td>18030</td>\n      <td>...</td>\n      <td>2.12</td>\n      <td>0.05</td>\n      <td>425.13</td>\n      <td>9.46</td>\n      <td>150.57</td>\n      <td>0.71</td>\n      <td>2.73</td>\n      <td>0.01</td>\n      <td>2.545455</td>\n      <td>2</td>\n    </tr>\n    <tr>\n      <th>9957</th>\n      <td>2020-12-31</td>\n      <td>ID-SS</td>\n      <td>Sumatera Selatan</td>\n      <td>92</td>\n      <td>1</td>\n      <td>50</td>\n      <td>41.0</td>\n      <td>11826</td>\n      <td>599</td>\n      <td>9364</td>\n      <td>...</td>\n      <td>1.12</td>\n      <td>0.01</td>\n      <td>143.91</td>\n      <td>7.29</td>\n      <td>148.00</td>\n      <td>0.71</td>\n      <td>1.80</td>\n      <td>0.01</td>\n      <td>-0.163636</td>\n      <td>33</td>\n    </tr>\n    <tr>\n      <th>9958</th>\n      <td>2020-12-31</td>\n      <td>ID-SU</td>\n      <td>Sumatera Utara</td>\n      <td>83</td>\n      <td>0</td>\n      <td>82</td>\n      <td>1.0</td>\n      <td>18149</td>\n      <td>679</td>\n      <td>15403</td>\n      <td>...</td>\n      <td>0.56</td>\n      <td>0.00</td>\n      <td>122.01</td>\n      <td>4.56</td>\n      <td>156.00</td>\n      <td>0.71</td>\n      <td>1.05</td>\n      <td>0.00</td>\n      <td>2.074074</td>\n      <td>4</td>\n    </tr>\n    <tr>\n      <th>0</th>\n      <td>2021-01-01</td>\n      <td>NaN</td>\n      <td>Bali</td>\n      <td>101</td>\n      <td>1</td>\n      <td>93</td>\n      <td>NaN</td>\n      <td>17694</td>\n      <td>520</td>\n      <td>16124</td>\n      <td>...</td>\n      <td>2.40</td>\n      <td>0.02</td>\n      <td>419.67</td>\n      <td>12.33</td>\n      <td>102.00</td>\n      <td>0.86</td>\n      <td>2.42</td>\n      <td>0.02</td>\n      <td>-0.789144</td>\n      <td>24</td>\n    </tr>\n    <tr>\n      <th>18</th>\n      <td>2021-01-01</td>\n      <td>NaN</td>\n      <td>Indonesia</td>\n      <td>8072</td>\n      <td>191</td>\n      <td>6839</td>\n      <td>NaN</td>\n      <td>751270</td>\n      <td>22329</td>\n      <td>617936</td>\n      <td>...</td>\n      <td>3.04</td>\n      <td>0.07</td>\n      <td>283.30</td>\n      <td>8.42</td>\n      <td>1227.29</td>\n      <td>28.14</td>\n      <td>0.46</td>\n      <td>0.01</td>\n      <td>40.394872</td>\n      <td>0</td>\n    </tr>\n    <tr>\n      <th>1</th>\n      <td>2021-01-02</td>\n      <td>NaN</td>\n      <td>Bali</td>\n      <td>165</td>\n      <td>5</td>\n      <td>128</td>\n      <td>NaN</td>\n      <td>17859</td>\n      <td>525</td>\n      <td>16252</td>\n      <td>...</td>\n      <td>3.91</td>\n      <td>0.12</td>\n      <td>423.58</td>\n      <td>12.45</td>\n      <td>1245.43</td>\n      <td>28.86</td>\n      <td>29.54</td>\n      <td>0.68</td>\n      <td>3.342105</td>\n      <td>24</td>\n    </tr>\n    <tr>\n      <th>19</th>\n      <td>2021-01-02</td>\n      <td>NaN</td>\n      <td>Indonesia</td>\n      <td>7203</td>\n      <td>226</td>\n      <td>7582</td>\n      <td>NaN</td>\n      <td>758473</td>\n      <td>22555</td>\n      <td>625518</td>\n      <td>...</td>\n      <td>2.72</td>\n      <td>0.09</td>\n      <td>286.02</td>\n      <td>8.51</td>\n      <td>2261.86</td>\n      <td>61.00</td>\n      <td>0.85</td>\n      <td>0.02</td>\n      <td>80.852273</td>\n      <td>0</td>\n    </tr>\n    <tr>\n      <th>2</th>\n      <td>2021-01-03</td>\n      <td>NaN</td>\n      <td>Bali</td>\n      <td>119</td>\n      <td>2</td>\n      <td>78</td>\n      <td>NaN</td>\n      <td>17978</td>\n      <td>527</td>\n      <td>16330</td>\n      <td>...</td>\n      <td>2.82</td>\n      <td>0.05</td>\n      <td>426.41</td>\n      <td>12.50</td>\n      <td>2262.14</td>\n      <td>60.86</td>\n      <td>53.65</td>\n      <td>1.44</td>\n      <td>0.017094</td>\n      <td>24</td>\n    </tr>\n    <tr>\n      <th>20</th>\n      <td>2021-01-03</td>\n      <td>NaN</td>\n      <td>Indonesia</td>\n      <td>6877</td>\n      <td>179</td>\n      <td>6419</td>\n      <td>NaN</td>\n      <td>765350</td>\n      <td>22734</td>\n      <td>631937</td>\n      <td>...</td>\n      <td>2.59</td>\n      <td>0.07</td>\n      <td>288.61</td>\n      <td>8.57</td>\n      <td>3231.43</td>\n      <td>86.29</td>\n      <td>1.22</td>\n      <td>0.03</td>\n      <td>73.750000</td>\n      <td>0</td>\n    </tr>\n    <tr>\n      <th>21</th>\n      <td>2021-01-04</td>\n      <td>NaN</td>\n      <td>Indonesia</td>\n      <td>6753</td>\n      <td>177</td>\n      <td>7166</td>\n      <td>NaN</td>\n      <td>772103</td>\n      <td>22911</td>\n      <td>639103</td>\n      <td>...</td>\n      <td>2.55</td>\n      <td>0.07</td>\n      <td>291.16</td>\n      <td>8.64</td>\n      <td>4184.29</td>\n      <td>111.57</td>\n      <td>1.58</td>\n      <td>0.04</td>\n      <td>80.361446</td>\n      <td>0</td>\n    </tr>\n    <tr>\n      <th>3</th>\n      <td>2021-01-04</td>\n      <td>NaN</td>\n      <td>Bali</td>\n      <td>118</td>\n      <td>7</td>\n      <td>131</td>\n      <td>NaN</td>\n      <td>18096</td>\n      <td>534</td>\n      <td>16461</td>\n      <td>...</td>\n      <td>2.80</td>\n      <td>0.17</td>\n      <td>429.20</td>\n      <td>12.67</td>\n      <td>4186.71</td>\n      <td>112.43</td>\n      <td>99.30</td>\n      <td>2.67</td>\n      <td>0.168317</td>\n      <td>24</td>\n    </tr>\n    <tr>\n      <th>22</th>\n      <td>2021-01-05</td>\n      <td>NaN</td>\n      <td>Indonesia</td>\n      <td>7445</td>\n      <td>198</td>\n      <td>6643</td>\n      <td>NaN</td>\n      <td>779548</td>\n      <td>23109</td>\n      <td>645746</td>\n      <td>...</td>\n      <td>2.81</td>\n      <td>0.07</td>\n      <td>293.96</td>\n      <td>8.71</td>\n      <td>4097.14</td>\n      <td>113.43</td>\n      <td>1.55</td>\n      <td>0.04</td>\n      <td>-0.077676</td>\n      <td>0</td>\n    </tr>\n    <tr>\n      <th>4</th>\n      <td>2021-01-05</td>\n      <td>NaN</td>\n      <td>Bali</td>\n      <td>167</td>\n      <td>2</td>\n      <td>110</td>\n      <td>NaN</td>\n      <td>18263</td>\n      <td>536</td>\n      <td>16571</td>\n      <td>...</td>\n      <td>3.96</td>\n      <td>0.05</td>\n      <td>433.17</td>\n      <td>12.71</td>\n      <td>4097.43</td>\n      <td>113.00</td>\n      <td>97.18</td>\n      <td>2.68</td>\n      <td>0.012121</td>\n      <td>24</td>\n    </tr>\n    <tr>\n      <th>5</th>\n      <td>2021-01-06</td>\n      <td>NaN</td>\n      <td>Bali</td>\n      <td>191</td>\n      <td>7</td>\n      <td>155</td>\n      <td>NaN</td>\n      <td>18454</td>\n      <td>543</td>\n      <td>16726</td>\n      <td>...</td>\n      <td>4.53</td>\n      <td>0.17</td>\n      <td>437.70</td>\n      <td>12.88</td>\n      <td>3095.71</td>\n      <td>81.71</td>\n      <td>73.42</td>\n      <td>1.94</td>\n      <td>-0.973483</td>\n      <td>24</td>\n    </tr>\n    <tr>\n      <th>23</th>\n      <td>2021-01-06</td>\n      <td>NaN</td>\n      <td>Indonesia</td>\n      <td>8854</td>\n      <td>187</td>\n      <td>6767</td>\n      <td>NaN</td>\n      <td>788402</td>\n      <td>23296</td>\n      <td>652513</td>\n      <td>...</td>\n      <td>3.34</td>\n      <td>0.07</td>\n      <td>297.30</td>\n      <td>8.78</td>\n      <td>4343.57</td>\n      <td>108.14</td>\n      <td>1.64</td>\n      <td>0.04</td>\n      <td>73.403361</td>\n      <td>0</td>\n    </tr>\n    <tr>\n      <th>24</th>\n      <td>2021-01-07</td>\n      <td>NaN</td>\n      <td>Indonesia</td>\n      <td>9321</td>\n      <td>224</td>\n      <td>6924</td>\n      <td>NaN</td>\n      <td>797723</td>\n      <td>23520</td>\n      <td>659437</td>\n      <td>...</td>\n      <td>3.51</td>\n      <td>0.08</td>\n      <td>300.82</td>\n      <td>8.87</td>\n      <td>4692.71</td>\n      <td>114.57</td>\n      <td>1.77</td>\n      <td>0.04</td>\n      <td>0.355388</td>\n      <td>0</td>\n    </tr>\n    <tr>\n      <th>6</th>\n      <td>2021-01-07</td>\n      <td>NaN</td>\n      <td>Bali</td>\n      <td>189</td>\n      <td>5</td>\n      <td>137</td>\n      <td>NaN</td>\n      <td>18643</td>\n      <td>548</td>\n      <td>16863</td>\n      <td>...</td>\n      <td>4.48</td>\n      <td>0.12</td>\n      <td>442.18</td>\n      <td>13.00</td>\n      <td>3755.00</td>\n      <td>90.00</td>\n      <td>89.06</td>\n      <td>2.13</td>\n      <td>-0.972012</td>\n      <td>24</td>\n    </tr>\n    <tr>\n      <th>7</th>\n      <td>2021-01-08</td>\n      <td>NaN</td>\n      <td>Bali</td>\n      <td>231</td>\n      <td>4</td>\n      <td>114</td>\n      <td>NaN</td>\n      <td>18874</td>\n      <td>552</td>\n      <td>16977</td>\n      <td>...</td>\n      <td>5.48</td>\n      <td>0.09</td>\n      <td>447.66</td>\n      <td>13.09</td>\n      <td>3771.14</td>\n      <td>89.57</td>\n      <td>89.44</td>\n      <td>2.12</td>\n      <td>0.957627</td>\n      <td>24</td>\n    </tr>\n    <tr>\n      <th>25</th>\n      <td>2021-01-08</td>\n      <td>NaN</td>\n      <td>Indonesia</td>\n      <td>10617</td>\n      <td>233</td>\n      <td>7446</td>\n      <td>NaN</td>\n      <td>808340</td>\n      <td>23753</td>\n      <td>666883</td>\n      <td>...</td>\n      <td>4.00</td>\n      <td>0.09</td>\n      <td>304.82</td>\n      <td>8.96</td>\n      <td>4224.29</td>\n      <td>94.57</td>\n      <td>1.59</td>\n      <td>0.04</td>\n      <td>0.426058</td>\n      <td>0</td>\n    </tr>\n    <tr>\n      <th>8</th>\n      <td>2021-01-09</td>\n      <td>NaN</td>\n      <td>Bali</td>\n      <td>189</td>\n      <td>4</td>\n      <td>110</td>\n      <td>NaN</td>\n      <td>19063</td>\n      <td>556</td>\n      <td>17087</td>\n      <td>...</td>\n      <td>4.48</td>\n      <td>0.09</td>\n      <td>452.14</td>\n      <td>13.19</td>\n      <td>4227.43</td>\n      <td>94.86</td>\n      <td>100.27</td>\n      <td>2.25</td>\n      <td>0.131737</td>\n      <td>24</td>\n    </tr>\n    <tr>\n      <th>26</th>\n      <td>2021-01-09</td>\n      <td>NaN</td>\n      <td>Indonesia</td>\n      <td>10046</td>\n      <td>194</td>\n      <td>6628</td>\n      <td>NaN</td>\n      <td>818386</td>\n      <td>23947</td>\n      <td>673511</td>\n      <td>...</td>\n      <td>3.79</td>\n      <td>0.07</td>\n      <td>308.61</td>\n      <td>9.03</td>\n      <td>5635.29</td>\n      <td>121.57</td>\n      <td>2.13</td>\n      <td>0.05</td>\n      <td>51.596859</td>\n      <td>0</td>\n    </tr>\n    <tr>\n      <th>9</th>\n      <td>2021-01-10</td>\n      <td>NaN</td>\n      <td>Bali</td>\n      <td>169</td>\n      <td>3</td>\n      <td>112</td>\n      <td>NaN</td>\n      <td>19232</td>\n      <td>559</td>\n      <td>17199</td>\n      <td>...</td>\n      <td>4.01</td>\n      <td>0.07</td>\n      <td>456.15</td>\n      <td>13.26</td>\n      <td>4394.57</td>\n      <td>95.29</td>\n      <td>104.23</td>\n      <td>2.26</td>\n      <td>-0.980913</td>\n      <td>24</td>\n    </tr>\n    <tr>\n      <th>27</th>\n      <td>2021-01-10</td>\n      <td>NaN</td>\n      <td>Indonesia</td>\n      <td>9640</td>\n      <td>182</td>\n      <td>7513</td>\n      <td>NaN</td>\n      <td>828026</td>\n      <td>24129</td>\n      <td>681024</td>\n      <td>...</td>\n      <td>3.64</td>\n      <td>0.07</td>\n      <td>312.24</td>\n      <td>9.10</td>\n      <td>4440.14</td>\n      <td>89.29</td>\n      <td>1.67</td>\n      <td>0.03</td>\n      <td>0.034224</td>\n      <td>0</td>\n    </tr>\n    <tr>\n      <th>28</th>\n      <td>2021-01-11</td>\n      <td>NaN</td>\n      <td>Indonesia</td>\n      <td>8692</td>\n      <td>214</td>\n      <td>7715</td>\n      <td>NaN</td>\n      <td>836718</td>\n      <td>24343</td>\n      <td>688739</td>\n      <td>...</td>\n      <td>3.28</td>\n      <td>0.08</td>\n      <td>315.52</td>\n      <td>9.18</td>\n      <td>5654.86</td>\n      <td>119.14</td>\n      <td>2.13</td>\n      <td>0.04</td>\n      <td>44.989418</td>\n      <td>0</td>\n    </tr>\n    <tr>\n      <th>10</th>\n      <td>2021-01-11</td>\n      <td>NaN</td>\n      <td>Bali</td>\n      <td>253</td>\n      <td>4</td>\n      <td>162</td>\n      <td>NaN</td>\n      <td>19485</td>\n      <td>563</td>\n      <td>17361</td>\n      <td>...</td>\n      <td>6.00</td>\n      <td>0.09</td>\n      <td>462.15</td>\n      <td>13.35</td>\n      <td>5658.00</td>\n      <td>119.14</td>\n      <td>134.20</td>\n      <td>2.83</td>\n      <td>0.095238</td>\n      <td>24</td>\n    </tr>\n    <tr>\n      <th>29</th>\n      <td>2021-01-12</td>\n      <td>NaN</td>\n      <td>Indonesia</td>\n      <td>10047</td>\n      <td>302</td>\n      <td>7068</td>\n      <td>NaN</td>\n      <td>846765</td>\n      <td>24645</td>\n      <td>695807</td>\n      <td>...</td>\n      <td>3.79</td>\n      <td>0.11</td>\n      <td>319.31</td>\n      <td>9.29</td>\n      <td>5576.57</td>\n      <td>129.00</td>\n      <td>2.10</td>\n      <td>0.05</td>\n      <td>-0.053687</td>\n      <td>0</td>\n    </tr>\n    <tr>\n      <th>11</th>\n      <td>2021-01-12</td>\n      <td>NaN</td>\n      <td>Bali</td>\n      <td>350</td>\n      <td>6</td>\n      <td>136</td>\n      <td>NaN</td>\n      <td>19835</td>\n      <td>569</td>\n      <td>17497</td>\n      <td>...</td>\n      <td>8.30</td>\n      <td>0.14</td>\n      <td>470.45</td>\n      <td>13.50</td>\n      <td>5599.57</td>\n      <td>129.29</td>\n      <td>132.81</td>\n      <td>3.07</td>\n      <td>0.851852</td>\n      <td>24</td>\n    </tr>\n    <tr>\n      <th>12</th>\n      <td>2021-01-13</td>\n      <td>NaN</td>\n      <td>Bali</td>\n      <td>268</td>\n      <td>6</td>\n      <td>121</td>\n      <td>NaN</td>\n      <td>20103</td>\n      <td>575</td>\n      <td>17618</td>\n      <td>...</td>\n      <td>6.36</td>\n      <td>0.14</td>\n      <td>476.81</td>\n      <td>13.64</td>\n      <td>4202.71</td>\n      <td>102.43</td>\n      <td>99.68</td>\n      <td>2.43</td>\n      <td>-0.973323</td>\n      <td>24</td>\n    </tr>\n    <tr>\n      <th>30</th>\n      <td>2021-01-13</td>\n      <td>NaN</td>\n      <td>Indonesia</td>\n      <td>11278</td>\n      <td>306</td>\n      <td>7657</td>\n      <td>NaN</td>\n      <td>858043</td>\n      <td>24951</td>\n      <td>703464</td>\n      <td>...</td>\n      <td>4.25</td>\n      <td>0.12</td>\n      <td>323.56</td>\n      <td>9.41</td>\n      <td>5789.71</td>\n      <td>145.71</td>\n      <td>2.18</td>\n      <td>0.05</td>\n      <td>65.733728</td>\n      <td>0</td>\n    </tr>\n    <tr>\n      <th>31</th>\n      <td>2021-01-14</td>\n      <td>NaN</td>\n      <td>Indonesia</td>\n      <td>11557</td>\n      <td>295</td>\n      <td>7741</td>\n      <td>NaN</td>\n      <td>869600</td>\n      <td>25246</td>\n      <td>711205</td>\n      <td>...</td>\n      <td>4.36</td>\n      <td>0.11</td>\n      <td>327.92</td>\n      <td>9.52</td>\n      <td>6063.57</td>\n      <td>161.86</td>\n      <td>2.29</td>\n      <td>0.06</td>\n      <td>0.198859</td>\n      <td>0</td>\n    </tr>\n    <tr>\n      <th>13</th>\n      <td>2021-01-14</td>\n      <td>NaN</td>\n      <td>Bali</td>\n      <td>297</td>\n      <td>2</td>\n      <td>248</td>\n      <td>NaN</td>\n      <td>20400</td>\n      <td>577</td>\n      <td>17866</td>\n      <td>...</td>\n      <td>7.04</td>\n      <td>0.05</td>\n      <td>483.85</td>\n      <td>13.69</td>\n      <td>4864.29</td>\n      <td>131.57</td>\n      <td>115.37</td>\n      <td>3.12</td>\n      <td>-0.965831</td>\n      <td>24</td>\n    </tr>\n    <tr>\n      <th>32</th>\n      <td>2021-01-15</td>\n      <td>NaN</td>\n      <td>Indonesia</td>\n      <td>12818</td>\n      <td>238</td>\n      <td>7491</td>\n      <td>NaN</td>\n      <td>882418</td>\n      <td>25484</td>\n      <td>718696</td>\n      <td>...</td>\n      <td>4.83</td>\n      <td>0.09</td>\n      <td>332.75</td>\n      <td>9.61</td>\n      <td>6659.29</td>\n      <td>165.00</td>\n      <td>2.51</td>\n      <td>0.06</td>\n      <td>49.664032</td>\n      <td>0</td>\n    </tr>\n    <tr>\n      <th>14</th>\n      <td>2021-01-15</td>\n      <td>NaN</td>\n      <td>Bali</td>\n      <td>311</td>\n      <td>6</td>\n      <td>202</td>\n      <td>NaN</td>\n      <td>20711</td>\n      <td>583</td>\n      <td>18068</td>\n      <td>...</td>\n      <td>7.38</td>\n      <td>0.14</td>\n      <td>491.23</td>\n      <td>13.83</td>\n      <td>5268.43</td>\n      <td>122.71</td>\n      <td>124.96</td>\n      <td>2.91</td>\n      <td>-0.969045</td>\n      <td>24</td>\n    </tr>\n    <tr>\n      <th>33</th>\n      <td>2021-01-16</td>\n      <td>NaN</td>\n      <td>Indonesia</td>\n      <td>14224</td>\n      <td>283</td>\n      <td>8662</td>\n      <td>NaN</td>\n      <td>896642</td>\n      <td>25767</td>\n      <td>727358</td>\n      <td>...</td>\n      <td>5.36</td>\n      <td>0.11</td>\n      <td>338.12</td>\n      <td>9.72</td>\n      <td>7250.43</td>\n      <td>162.29</td>\n      <td>2.73</td>\n      <td>0.06</td>\n      <td>39.640000</td>\n      <td>0</td>\n    </tr>\n    <tr>\n      <th>15</th>\n      <td>2021-01-16</td>\n      <td>NaN</td>\n      <td>Bali</td>\n      <td>319</td>\n      <td>3</td>\n      <td>149</td>\n      <td>NaN</td>\n      <td>21030</td>\n      <td>586</td>\n      <td>18217</td>\n      <td>...</td>\n      <td>7.57</td>\n      <td>0.07</td>\n      <td>498.79</td>\n      <td>13.90</td>\n      <td>7257.71</td>\n      <td>161.86</td>\n      <td>172.14</td>\n      <td>3.84</td>\n      <td>0.190299</td>\n      <td>24</td>\n    </tr>\n    <tr>\n      <th>34</th>\n      <td>2021-01-17</td>\n      <td>NaN</td>\n      <td>Indonesia</td>\n      <td>11287</td>\n      <td>220</td>\n      <td>9102</td>\n      <td>NaN</td>\n      <td>907929</td>\n      <td>25987</td>\n      <td>736460</td>\n      <td>...</td>\n      <td>4.26</td>\n      <td>0.08</td>\n      <td>342.38</td>\n      <td>9.80</td>\n      <td>7259.00</td>\n      <td>149.57</td>\n      <td>2.74</td>\n      <td>0.06</td>\n      <td>0.000798</td>\n      <td>0</td>\n    </tr>\n    <tr>\n      <th>16</th>\n      <td>2021-01-17</td>\n      <td>NaN</td>\n      <td>Bali</td>\n      <td>262</td>\n      <td>1</td>\n      <td>129</td>\n      <td>NaN</td>\n      <td>21292</td>\n      <td>587</td>\n      <td>18346</td>\n      <td>...</td>\n      <td>6.21</td>\n      <td>0.02</td>\n      <td>505.01</td>\n      <td>13.92</td>\n      <td>5645.43</td>\n      <td>107.57</td>\n      <td>133.90</td>\n      <td>2.55</td>\n      <td>-0.977330</td>\n      <td>24</td>\n    </tr>\n    <tr>\n      <th>17</th>\n      <td>2021-01-18</td>\n      <td>NaN</td>\n      <td>Bali</td>\n      <td>238</td>\n      <td>4</td>\n      <td>251</td>\n      <td>NaN</td>\n      <td>21530</td>\n      <td>591</td>\n      <td>18597</td>\n      <td>...</td>\n      <td>5.64</td>\n      <td>0.09</td>\n      <td>510.65</td>\n      <td>14.02</td>\n      <td>5637.00</td>\n      <td>107.86</td>\n      <td>133.70</td>\n      <td>2.56</td>\n      <td>-0.198653</td>\n      <td>24</td>\n    </tr>\n    <tr>\n      <th>35</th>\n      <td>2021-01-18</td>\n      <td>NaN</td>\n      <td>Indonesia</td>\n      <td>9086</td>\n      <td>295</td>\n      <td>9475</td>\n      <td>NaN</td>\n      <td>917015</td>\n      <td>26282</td>\n      <td>745935</td>\n      <td>...</td>\n      <td>3.43</td>\n      <td>0.11</td>\n      <td>345.80</td>\n      <td>9.91</td>\n      <td>5103.86</td>\n      <td>116.00</td>\n      <td>1.92</td>\n      <td>0.04</td>\n      <td>-0.291153</td>\n      <td>0</td>\n    </tr>\n  </tbody>\n</table>\n<p>40 rows × 49 columns</p>\n</div>"
     },
     "metadata": {},
     "execution_count": 33
    }
   ],
   "source": [
    "provinces = []\n",
    "for province in indo_geo_id['features']:\n",
    "  provinces.append(province['properties']['state'])\n",
    "\n",
    "# add id column in df with feature.id from geojson\n",
    "indo_id_map = {}\n",
    "for province in indo_geo_id['features']:\n",
    "  indo_id_map[province['properties']['state']] = province['id']\n",
    "# indo_id_map\n",
    "\n",
    "# ## for Foreigners or Other Regency add 'id' = 0\n",
    "df_indo['id'] = df_indo['Location'].apply(lambda x: indo_id_map[x] if x in indo_id_map else 0)\n",
    "\n",
    "df_indo.tail(40)\n"
   ]
  },
  {
   "cell_type": "code",
   "execution_count": 34,
   "metadata": {},
   "outputs": [],
   "source": [
    "df_indo.to_csv('indo_province_data.csv')"
   ]
  },
  {
   "cell_type": "code",
   "execution_count": 35,
   "metadata": {},
   "outputs": [],
   "source": [
    "### 3. World Data\n",
    "##------------------------\n",
    "\n",
    "\n",
    "from kaggle.api.kaggle_api_extended import KaggleApi\n",
    "\n",
    "# from keys import kaggle_api\n",
    "\n",
    "## 1. with Kaggle Api\n",
    "api =KaggleApi()\n",
    "api.authenticate()\n",
    "\n",
    "# downoad single file\n",
    "#Signature: dataset_download_file(dataset, file_name, path=None, force=False, quiet=True)\n",
    "# api.dataset_download_files('imdevskp/corona-virus-report/worldometer_data.csv', unzip=True)\n",
    "\n",
    "# ## Datasets\n",
    "\n",
    "# REALLY GOOD !!!!\n",
    "# https://github.com/owid/covid-19-data/blob/master/public/data/owid-covid-data.csv\n"
   ]
  },
  {
   "cell_type": "code",
   "execution_count": null,
   "metadata": {},
   "outputs": [],
   "source": []
  }
 ]
}