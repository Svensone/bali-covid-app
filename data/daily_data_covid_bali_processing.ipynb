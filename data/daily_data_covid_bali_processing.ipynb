{
 "metadata": {
  "language_info": {
   "codemirror_mode": {
    "name": "ipython",
    "version": 3
   },
   "file_extension": ".py",
   "mimetype": "text/x-python",
   "name": "python",
   "nbconvert_exporter": "python",
   "pygments_lexer": "ipython3",
   "version": "3.7.6-final"
  },
  "orig_nbformat": 2,
  "kernelspec": {
   "name": "python3",
   "display_name": "Python 3",
   "language": "python"
  }
 },
 "nbformat": 4,
 "nbformat_minor": 2,
 "cells": [
  {
   "cell_type": "code",
   "execution_count": 17,
   "metadata": {},
   "outputs": [],
   "source": [
    "import pandas as pd\n",
    "import json"
   ]
  },
  {
   "cell_type": "code",
   "execution_count": 18,
   "metadata": {},
   "outputs": [],
   "source": [
    "\n",
    "### 1. COVID DATA BALI REGENCIES\n",
    "###  -------------------------------------\n",
    "\n",
    "## From scrapy spider"
   ]
  },
  {
   "cell_type": "code",
   "execution_count": 19,
   "metadata": {},
   "outputs": [],
   "source": [
    "json_file = json.load(open(r'C:\\Users\\ansve\\Coding\\Projects-WebScraping\\CovidBali\\CovidBali\\CovidBali\\dailyCases.json', 'r'))"
   ]
  },
  {
   "cell_type": "code",
   "execution_count": 20,
   "metadata": {},
   "outputs": [
    {
     "output_type": "execute_result",
     "data": {
      "text/plain": [
       "range(0, 24)"
      ]
     },
     "metadata": {},
     "execution_count": 20
    }
   ],
   "source": [
    "range(len(json_file))"
   ]
  },
  {
   "cell_type": "code",
   "execution_count": 21,
   "metadata": {},
   "outputs": [],
   "source": [
    "# w1= json_file[0]\n",
    "# w1[0]['data']"
   ]
  },
  {
   "cell_type": "code",
   "execution_count": 22,
   "metadata": {
    "tags": []
   },
   "outputs": [],
   "source": [
    "json_file[0]\n",
    "data = []\n",
    "\n",
    "for date in json_file:\n",
    "    for x in range(0, 10):\n",
    "        data1 = (date[0]['data'][x] + date[1]['data'][x])\n",
    "        data.append(data1)\n",
    "# data[:2]"
   ]
  },
  {
   "cell_type": "code",
   "execution_count": 23,
   "metadata": {},
   "outputs": [],
   "source": [
    "## Column names from https://infocorona.baliprov.go.id/API/pendataan/laporan-harian-01.php and ...-02.php\n",
    "\n",
    "list_1 = [\n",
    "    'No', 'Kabupaten / County', 'New PPLN / PMI', 'New PPLN / PMI', 'new PPDN', 'total PPDN',\t'new_local_transmission', 'total_local_transmission',\t'new_other_transmission', 'total_other_transmission', 'new_cases' ,'total_cases', 'date'\n",
    "]\n",
    "\n",
    "list_2 = ['No', 'Kabupaten / County', 'new_treatment', 'total_treatment', 'new_recovered', 'total_recovered', 'new_deaths', 'total_deaths', 'new_cases', 'total_cases', 'date']\n",
    "\n",
    "list_column_names = list_1 + list_2\n",
    "# print(list_column_names)"
   ]
  },
  {
   "cell_type": "code",
   "execution_count": 24,
   "metadata": {},
   "outputs": [
    {
     "output_type": "execute_result",
     "data": {
      "text/plain": [
       "  No Kabupaten / County New PPLN / PMI New PPLN / PMI new PPDN total PPDN  \\\n",
       "0  1           JEMBRANA              0             26        0         11   \n",
       "1  2            TABANAN              0             21        2         10   \n",
       "2  3             BADUNG              0             27        0          4   \n",
       "3  4           DENPASAR              0             48       -1         22   \n",
       "4  5            GIANYAR              0             29       -1         10   \n",
       "\n",
       "  new_local_transmission total_local_transmission new_other_transmission  \\\n",
       "0                      1                      626                      0   \n",
       "1                     23                     1466                      0   \n",
       "2                     18                     2478                      0   \n",
       "3                     28                     3891                      0   \n",
       "4                     16                     1951                      0   \n",
       "\n",
       "  total_other_transmission  ... Kabupaten / County new_treatment  \\\n",
       "0                        0  ...           JEMBRANA            -7   \n",
       "1                        0  ...            TABANAN           -10   \n",
       "2                        0  ...             BADUNG            -9   \n",
       "3                        0  ...           DENPASAR             1   \n",
       "4                        0  ...            GIANYAR           -16   \n",
       "\n",
       "  total_treatment new_recovered total_recovered new_deaths total_deaths  \\\n",
       "0              70             7             579          1           14   \n",
       "1             434            35            1016          0           47   \n",
       "2             159            27            2299          0           51   \n",
       "3             166            26            3705          0           90   \n",
       "4             234            31            1681          0           75   \n",
       "\n",
       "  new_cases total_cases          date  \n",
       "0         1         663   05 Dec 2020  \n",
       "1        25        1497   05 Dec 2020  \n",
       "2        18        2509   05 Dec 2020  \n",
       "3        27        3961   05 Dec 2020  \n",
       "4        15        1990   05 Dec 2020  \n",
       "\n",
       "[5 rows x 24 columns]"
      ],
      "text/html": "<div>\n<style scoped>\n    .dataframe tbody tr th:only-of-type {\n        vertical-align: middle;\n    }\n\n    .dataframe tbody tr th {\n        vertical-align: top;\n    }\n\n    .dataframe thead th {\n        text-align: right;\n    }\n</style>\n<table border=\"1\" class=\"dataframe\">\n  <thead>\n    <tr style=\"text-align: right;\">\n      <th></th>\n      <th>No</th>\n      <th>Kabupaten / County</th>\n      <th>New PPLN / PMI</th>\n      <th>New PPLN / PMI</th>\n      <th>new PPDN</th>\n      <th>total PPDN</th>\n      <th>new_local_transmission</th>\n      <th>total_local_transmission</th>\n      <th>new_other_transmission</th>\n      <th>total_other_transmission</th>\n      <th>...</th>\n      <th>Kabupaten / County</th>\n      <th>new_treatment</th>\n      <th>total_treatment</th>\n      <th>new_recovered</th>\n      <th>total_recovered</th>\n      <th>new_deaths</th>\n      <th>total_deaths</th>\n      <th>new_cases</th>\n      <th>total_cases</th>\n      <th>date</th>\n    </tr>\n  </thead>\n  <tbody>\n    <tr>\n      <th>0</th>\n      <td>1</td>\n      <td>JEMBRANA</td>\n      <td>0</td>\n      <td>26</td>\n      <td>0</td>\n      <td>11</td>\n      <td>1</td>\n      <td>626</td>\n      <td>0</td>\n      <td>0</td>\n      <td>...</td>\n      <td>JEMBRANA</td>\n      <td>-7</td>\n      <td>70</td>\n      <td>7</td>\n      <td>579</td>\n      <td>1</td>\n      <td>14</td>\n      <td>1</td>\n      <td>663</td>\n      <td>05 Dec 2020</td>\n    </tr>\n    <tr>\n      <th>1</th>\n      <td>2</td>\n      <td>TABANAN</td>\n      <td>0</td>\n      <td>21</td>\n      <td>2</td>\n      <td>10</td>\n      <td>23</td>\n      <td>1466</td>\n      <td>0</td>\n      <td>0</td>\n      <td>...</td>\n      <td>TABANAN</td>\n      <td>-10</td>\n      <td>434</td>\n      <td>35</td>\n      <td>1016</td>\n      <td>0</td>\n      <td>47</td>\n      <td>25</td>\n      <td>1497</td>\n      <td>05 Dec 2020</td>\n    </tr>\n    <tr>\n      <th>2</th>\n      <td>3</td>\n      <td>BADUNG</td>\n      <td>0</td>\n      <td>27</td>\n      <td>0</td>\n      <td>4</td>\n      <td>18</td>\n      <td>2478</td>\n      <td>0</td>\n      <td>0</td>\n      <td>...</td>\n      <td>BADUNG</td>\n      <td>-9</td>\n      <td>159</td>\n      <td>27</td>\n      <td>2299</td>\n      <td>0</td>\n      <td>51</td>\n      <td>18</td>\n      <td>2509</td>\n      <td>05 Dec 2020</td>\n    </tr>\n    <tr>\n      <th>3</th>\n      <td>4</td>\n      <td>DENPASAR</td>\n      <td>0</td>\n      <td>48</td>\n      <td>-1</td>\n      <td>22</td>\n      <td>28</td>\n      <td>3891</td>\n      <td>0</td>\n      <td>0</td>\n      <td>...</td>\n      <td>DENPASAR</td>\n      <td>1</td>\n      <td>166</td>\n      <td>26</td>\n      <td>3705</td>\n      <td>0</td>\n      <td>90</td>\n      <td>27</td>\n      <td>3961</td>\n      <td>05 Dec 2020</td>\n    </tr>\n    <tr>\n      <th>4</th>\n      <td>5</td>\n      <td>GIANYAR</td>\n      <td>0</td>\n      <td>29</td>\n      <td>-1</td>\n      <td>10</td>\n      <td>16</td>\n      <td>1951</td>\n      <td>0</td>\n      <td>0</td>\n      <td>...</td>\n      <td>GIANYAR</td>\n      <td>-16</td>\n      <td>234</td>\n      <td>31</td>\n      <td>1681</td>\n      <td>0</td>\n      <td>75</td>\n      <td>15</td>\n      <td>1990</td>\n      <td>05 Dec 2020</td>\n    </tr>\n  </tbody>\n</table>\n<p>5 rows × 24 columns</p>\n</div>"
     },
     "metadata": {},
     "execution_count": 24
    }
   ],
   "source": [
    "df = pd.DataFrame(data, columns= list_column_names)\n",
    "df.head()"
   ]
  },
  {
   "cell_type": "code",
   "execution_count": 25,
   "metadata": {},
   "outputs": [],
   "source": [
    "# # Check dataframe\n",
    "# df.columns\n",
    "# df.describe()\n",
    "# df.dtypes"
   ]
  },
  {
   "cell_type": "code",
   "execution_count": 26,
   "metadata": {},
   "outputs": [],
   "source": [
    "# delete duplicate columns and convert dtypes\n",
    "df = df.loc[:,~df.columns.duplicated()]\n",
    "\n",
    "df['No'] = df['No'].astype(int)\n",
    "df['Name_EN'] = df['Kabupaten / County'].astype(str)\n",
    "df['Name_EN'] = df['Name_EN'].str.casefold()\n",
    "# df.dtypes"
   ]
  },
  {
   "cell_type": "code",
   "execution_count": 27,
   "metadata": {},
   "outputs": [
    {
     "output_type": "execute_result",
     "data": {
      "text/plain": [
       "Timestamp('2020-12-05 00:00:00')"
      ]
     },
     "metadata": {},
     "execution_count": 27
    }
   ],
   "source": [
    "from dateutil.parser import parse\n",
    "\n",
    "df['Date'] = df['date'].apply(lambda x: parse(x))\n",
    "df.Date[1]"
   ]
  },
  {
   "cell_type": "code",
   "execution_count": 28,
   "metadata": {},
   "outputs": [],
   "source": [
    "# data cleaning, processing\n",
    "#------------------------\n",
    "\n",
    "# add addtitional data\n",
    "df_ref = pd.read_excel('Bali_reference_data.xlsx')\n",
    "df_ref = df_ref.drop(columns=['https://en.wikipedia.org/wiki/Bali#cite_note-BPS2019-2', 'https://sp2010.bps.go.id/index.php/site/tabel?tid=321&wid=0', 'Source'])\n",
    "df_ref['Name_EN'] = df_ref['Name_Indo'].str.casefold()\n",
    "df_ref.replace('kota denpasar', 'denpasar', inplace=True)\n",
    "df_ref.replace('totals', 'bali', inplace=True)\n",
    "df_ref.replace('Totals', 'Bali', inplace=True)\n",
    "\n",
    "# df_ref.head(15)"
   ]
  },
  {
   "cell_type": "code",
   "execution_count": 29,
   "metadata": {},
   "outputs": [],
   "source": [
    "# merge both df on 'Name_EN'\n",
    "df_merged = df.merge(df_ref, on=\"Name_EN\", how='left')\n",
    "\n",
    "# convert to integers\n",
    "int_numbers = ['total_recovered','new_deaths','total_deaths','new_total','total_cases']\n",
    "\n",
    "df_merged[['total_recovered','new_deaths','total_deaths','new_total','total_cases']] = df_merged[['total_recovered','new_deaths','total_deaths','new_cases','total_cases']].apply(pd.to_numeric)\n",
    "\n",
    "## add columns\n",
    "df_merged['total_cases_per_100k'] = df_merged['total_cases'] / df_merged['population_2015'] * 100000\n",
    "df_merged['total_cases_per_100k'] = df_merged['total_cases_per_100k'].apply(pd.to_numeric).round(2)\n",
    "\n",
    "df_merged['total_deaths_per_100k'] = df_merged['total_deaths'] / df_merged['population_2015'] * 100000\n",
    "df_merged['total_deaths_per_100k'] = df_merged['total_deaths_per_100k'].apply(pd.to_numeric).round(2)\n",
    "\n",
    "df_merged['cases7'] = df_merged['new_cases'].rolling(window=7, center=False).mean()\n",
    "df_merged['cases7_per_100k'] = df_merged['cases7'] / df_merged['population_2015']\n",
    "df_merged['cases7_per_100k'] = df_merged['cases7_per_100k'].apply(pd.to_numeric).round(2)\n",
    "\n",
    "df_merged['total_cases_per_100k'] = df_merged['total_cases'] / df_merged['population_2015']\n",
    "df_merged['total_cases_per_100k'] = df_merged['total_cases_per_100k'].apply(pd.to_numeric).round(2)\n",
    "\n",
    "df_merged['deaths7'] = df_merged['new_deaths'].rolling(window=7, center=False).mean()\n",
    "df_merged['deaths7_per_100k'] = df_merged['total_deaths_per_100k'].rolling(window=7, center=False).mean()\n",
    "df_merged['deaths7_per_100k'] = df_merged['deaths7_per_100k'].apply(pd.to_numeric).round(2)\n",
    "\n"
   ]
  },
  {
   "cell_type": "code",
   "execution_count": 30,
   "metadata": {},
   "outputs": [],
   "source": [
    "## drop temporary unnecessary columns\n",
    "drop_columns = ['New PPLN / PMI', 'new PPDN', 'total PPDN',\n",
    "       'new_local_transmission', 'total_local_transmission',\n",
    "       'new_other_transmission', 'total_other_transmission', 'Capital', 'population_2000',\n",
    "       'population_2010', 'HDI_2014_estimate', 'Gouvernor',\n",
    "       'Nr. of Sub-Districts', 'Nr of Keluruhan/Villages', 'area_km2' ]\n",
    "df_clean = df_merged.drop(columns=drop_columns)"
   ]
  },
  {
   "cell_type": "code",
   "execution_count": 31,
   "metadata": {},
   "outputs": [],
   "source": [
    "## check NaN in df \n",
    "# nan_rows = df_clean[df_clean['population_2015'].isnull()]\n",
    "# nan_rows"
   ]
  },
  {
   "cell_type": "code",
   "execution_count": 32,
   "metadata": {},
   "outputs": [],
   "source": [
    "# infection fatality ratio (IFR), which estimates this proportion of deaths among all infected individuals. The second is case fatality ratio (CFR), which estimates this proportion of deaths among identified confirmed cases. \n",
    "# see https://www.who.int/news-room/commentaries/detail/estimating-mortality-from-covid-19\n",
    "\n",
    "df_merged['CFR'] = df_merged['total_deaths'] / df_merged['total_cases'] * 100\n",
    "df_merged['CFR'] = df_merged['CFR'].round(2)\n",
    "# df_merged['CFR']\n"
   ]
  },
  {
   "cell_type": "code",
   "execution_count": 33,
   "metadata": {},
   "outputs": [],
   "source": [
    "## add id from geojson\n",
    "geojson_bali = r'C:\\Users\\ansve\\Coding\\Projects-WebScraping\\CovidBali\\testingDash\\plotly apps-dash-oil-and-gas\\data\\new_bali_geojson_id.geojson'\n",
    "\n",
    "# open new geojson (with id) file\n",
    "bali_geo_id = json.load(open(geojson_bali, 'r'))\n",
    "\n",
    "## get names of regencies\n",
    "regencies = []\n",
    "for regency in bali_geo_id['features']:\n",
    "  regencies.append(regency['properties']['ADM2_EN'])\n",
    "\n",
    "  # add id column in df with feature.id from geojson\n",
    "bali_id_map = {}\n",
    "for regency in bali_geo_id['features']:\n",
    "  bali_id_map[regency['properties']['ADM2_EN']] = regency['id']\n",
    "bali_id_map\n",
    "## for Foreigners or Other Regency add 'id' = 0\n",
    "df_merged['id'] = df_merged['Name_Indo'].apply(lambda x: bali_id_map[x] if x in bali_id_map else 0)\n",
    "# df_merged.head(15)"
   ]
  },
  {
   "cell_type": "code",
   "execution_count": 34,
   "metadata": {},
   "outputs": [],
   "source": [
    "df_merged.to_csv('bali_regency_data.csv')"
   ]
  },
  {
   "cell_type": "code",
   "execution_count": 35,
   "metadata": {},
   "outputs": [],
   "source": [
    "\n",
    "### 2. INDONESIA COVID DATA \n",
    "###  -------------------------------------\n",
    "\n",
    "## From Kaggel Dataset\n",
    "\n"
   ]
  },
  {
   "cell_type": "code",
   "execution_count": 36,
   "metadata": {},
   "outputs": [],
   "source": [
    "# 1. connect to kaggle and get latest dataset\n",
    "\n",
    "#--------------------------\n",
    "## RUN IN CONDA BASE environment \n",
    "# -----------------------------------\n",
    "\n",
    "# (kaggle api installed here)\n"
   ]
  },
  {
   "cell_type": "code",
   "execution_count": 37,
   "metadata": {},
   "outputs": [
    {
     "output_type": "stream",
     "name": "stdout",
     "text": [
      "Requirement already satisfied: kaggle in c:\\programdata\\anaconda3\\lib\\site-packages (1.5.10)\nRequirement already satisfied: python-dateutil in c:\\programdata\\anaconda3\\lib\\site-packages (from kaggle) (2.8.1)\nRequirement already satisfied: requests in c:\\programdata\\anaconda3\\lib\\site-packages (from kaggle) (2.22.0)\nRequirement already satisfied: urllib3 in c:\\programdata\\anaconda3\\lib\\site-packages (from kaggle) (1.25.8)\nRequirement already satisfied: six>=1.10 in c:\\programdata\\anaconda3\\lib\\site-packages (from kaggle) (1.14.0)\nRequirement already satisfied: python-slugify in c:\\programdata\\anaconda3\\lib\\site-packages (from kaggle) (4.0.1)\nRequirement already satisfied: tqdm in c:\\programdata\\anaconda3\\lib\\site-packages (from kaggle) (4.42.1)\nRequirement already satisfied: certifi in c:\\programdata\\anaconda3\\lib\\site-packages (from kaggle) (2019.11.28)\nRequirement already satisfied: chardet<3.1.0,>=3.0.2 in c:\\programdata\\anaconda3\\lib\\site-packages (from requests->kaggle) (3.0.4)\nRequirement already satisfied: idna<2.9,>=2.5 in c:\\programdata\\anaconda3\\lib\\site-packages (from requests->kaggle) (2.8)\nRequirement already satisfied: text-unidecode>=1.3 in c:\\programdata\\anaconda3\\lib\\site-packages (from python-slugify->kaggle) (1.3)\nNote: you may need to restart the kernel to use updated packages.\n"
     ]
    }
   ],
   "source": [
    "pip install kaggle"
   ]
  },
  {
   "cell_type": "code",
   "execution_count": 38,
   "metadata": {},
   "outputs": [],
   "source": [
    "from kaggle.api.kaggle_api_extended import KaggleApi\n",
    "\n",
    "# from keys import kaggle_api\n",
    "\n",
    "## 1. with Kaggle Api\n",
    "api =KaggleApi()\n",
    "api.authenticate()\n",
    "\n",
    "# downoad single file\n",
    "#Signature: dataset_download_file(dataset, file_name, path=None, force=False, quiet=True)\n",
    "api.dataset_download_files('hendratno/covid19-indonesia/covid_19_indonesia_time_series_all.csv', unzip = True)\n",
    "# "
   ]
  },
  {
   "cell_type": "code",
   "execution_count": 39,
   "metadata": {},
   "outputs": [
    {
     "output_type": "execute_result",
     "data": {
      "text/plain": [
       "       Date Location ISO Code     Location  New Cases  New Deaths  \\\n",
       "0  3/1/2020             ID-JK  DKI Jakarta          2           0   \n",
       "1  3/2/2020             ID-JK  DKI Jakarta          2           0   \n",
       "2  3/2/2020               IDN    Indonesia          2           0   \n",
       "3  3/2/2020             ID-JB   Jawa Barat          3           0   \n",
       "4  3/2/2020             ID-RI         Riau          1           0   \n",
       "\n",
       "   New Recovered  New Active Cases  Total Cases  Total Deaths  \\\n",
       "0              0                 2          489            20   \n",
       "1              0                 2          491            20   \n",
       "2              0                 2            2             0   \n",
       "3              0                 3           12             5   \n",
       "4              0                 1            2             1   \n",
       "\n",
       "   Total Recovered  ...   Longitude  Latitude  New Cases per Million  \\\n",
       "0               39  ...  106.836118 -6.204699                   0.18   \n",
       "1               39  ...  106.836118 -6.204699                   0.18   \n",
       "2                0  ...  113.921327 -0.789275                   0.01   \n",
       "3               44  ...  107.603708 -6.920432                   0.07   \n",
       "4               12  ...  101.805109  0.511648                   0.16   \n",
       "\n",
       "  Total Cases per Million New Deaths per Million Total Deaths per Million  \\\n",
       "0                   45.09                    0.0                     1.84   \n",
       "1                   45.27                    0.0                     1.84   \n",
       "2                    0.01                    0.0                     0.00   \n",
       "3                    0.27                    0.0                     0.11   \n",
       "4                    0.33                    0.0                     0.16   \n",
       "\n",
       "  Case Fatality Rate Case Recovered Rate Growth Factor of New Cases  \\\n",
       "0              4.09%               7.98%                        NaN   \n",
       "1              4.07%               7.94%                        1.0   \n",
       "2              0.00%               0.00%                        NaN   \n",
       "3             41.67%             366.67%                        NaN   \n",
       "4             50.00%             600.00%                        NaN   \n",
       "\n",
       "   Growth Factor of New Deaths  \n",
       "0                          NaN  \n",
       "1                          1.0  \n",
       "2                          NaN  \n",
       "3                          NaN  \n",
       "4                          NaN  \n",
       "\n",
       "[5 rows x 37 columns]"
      ],
      "text/html": "<div>\n<style scoped>\n    .dataframe tbody tr th:only-of-type {\n        vertical-align: middle;\n    }\n\n    .dataframe tbody tr th {\n        vertical-align: top;\n    }\n\n    .dataframe thead th {\n        text-align: right;\n    }\n</style>\n<table border=\"1\" class=\"dataframe\">\n  <thead>\n    <tr style=\"text-align: right;\">\n      <th></th>\n      <th>Date</th>\n      <th>Location ISO Code</th>\n      <th>Location</th>\n      <th>New Cases</th>\n      <th>New Deaths</th>\n      <th>New Recovered</th>\n      <th>New Active Cases</th>\n      <th>Total Cases</th>\n      <th>Total Deaths</th>\n      <th>Total Recovered</th>\n      <th>...</th>\n      <th>Longitude</th>\n      <th>Latitude</th>\n      <th>New Cases per Million</th>\n      <th>Total Cases per Million</th>\n      <th>New Deaths per Million</th>\n      <th>Total Deaths per Million</th>\n      <th>Case Fatality Rate</th>\n      <th>Case Recovered Rate</th>\n      <th>Growth Factor of New Cases</th>\n      <th>Growth Factor of New Deaths</th>\n    </tr>\n  </thead>\n  <tbody>\n    <tr>\n      <th>0</th>\n      <td>3/1/2020</td>\n      <td>ID-JK</td>\n      <td>DKI Jakarta</td>\n      <td>2</td>\n      <td>0</td>\n      <td>0</td>\n      <td>2</td>\n      <td>489</td>\n      <td>20</td>\n      <td>39</td>\n      <td>...</td>\n      <td>106.836118</td>\n      <td>-6.204699</td>\n      <td>0.18</td>\n      <td>45.09</td>\n      <td>0.0</td>\n      <td>1.84</td>\n      <td>4.09%</td>\n      <td>7.98%</td>\n      <td>NaN</td>\n      <td>NaN</td>\n    </tr>\n    <tr>\n      <th>1</th>\n      <td>3/2/2020</td>\n      <td>ID-JK</td>\n      <td>DKI Jakarta</td>\n      <td>2</td>\n      <td>0</td>\n      <td>0</td>\n      <td>2</td>\n      <td>491</td>\n      <td>20</td>\n      <td>39</td>\n      <td>...</td>\n      <td>106.836118</td>\n      <td>-6.204699</td>\n      <td>0.18</td>\n      <td>45.27</td>\n      <td>0.0</td>\n      <td>1.84</td>\n      <td>4.07%</td>\n      <td>7.94%</td>\n      <td>1.0</td>\n      <td>1.0</td>\n    </tr>\n    <tr>\n      <th>2</th>\n      <td>3/2/2020</td>\n      <td>IDN</td>\n      <td>Indonesia</td>\n      <td>2</td>\n      <td>0</td>\n      <td>0</td>\n      <td>2</td>\n      <td>2</td>\n      <td>0</td>\n      <td>0</td>\n      <td>...</td>\n      <td>113.921327</td>\n      <td>-0.789275</td>\n      <td>0.01</td>\n      <td>0.01</td>\n      <td>0.0</td>\n      <td>0.00</td>\n      <td>0.00%</td>\n      <td>0.00%</td>\n      <td>NaN</td>\n      <td>NaN</td>\n    </tr>\n    <tr>\n      <th>3</th>\n      <td>3/2/2020</td>\n      <td>ID-JB</td>\n      <td>Jawa Barat</td>\n      <td>3</td>\n      <td>0</td>\n      <td>0</td>\n      <td>3</td>\n      <td>12</td>\n      <td>5</td>\n      <td>44</td>\n      <td>...</td>\n      <td>107.603708</td>\n      <td>-6.920432</td>\n      <td>0.07</td>\n      <td>0.27</td>\n      <td>0.0</td>\n      <td>0.11</td>\n      <td>41.67%</td>\n      <td>366.67%</td>\n      <td>NaN</td>\n      <td>NaN</td>\n    </tr>\n    <tr>\n      <th>4</th>\n      <td>3/2/2020</td>\n      <td>ID-RI</td>\n      <td>Riau</td>\n      <td>1</td>\n      <td>0</td>\n      <td>0</td>\n      <td>1</td>\n      <td>2</td>\n      <td>1</td>\n      <td>12</td>\n      <td>...</td>\n      <td>101.805109</td>\n      <td>0.511648</td>\n      <td>0.16</td>\n      <td>0.33</td>\n      <td>0.0</td>\n      <td>0.16</td>\n      <td>50.00%</td>\n      <td>600.00%</td>\n      <td>NaN</td>\n      <td>NaN</td>\n    </tr>\n  </tbody>\n</table>\n<p>5 rows × 37 columns</p>\n</div>"
     },
     "metadata": {},
     "execution_count": 39
    }
   ],
   "source": [
    "df_indo = pd.read_csv(r'C:\\Users\\ansve\\Coding\\Projects-WebScraping\\CovidBali\\testingDash\\plotly apps-dash-oil-and-gas\\data\\data_process\\covid_19_indonesia_time_series_all.csv')\r\n",
    "\r\n",
    "df_indo.head()"
   ]
  },
  {
   "cell_type": "code",
   "execution_count": 40,
   "metadata": {},
   "outputs": [],
   "source": [
    "# df_indo.dtypes"
   ]
  },
  {
   "cell_type": "code",
   "execution_count": 41,
   "metadata": {},
   "outputs": [
    {
     "output_type": "stream",
     "name": "stdout",
     "text": [
      "['No', 'Kabupaten / County', 'New PPLN / PMI', 'new PPDN', 'total PPDN', 'new_local_transmission', 'total_local_transmission', 'new_other_transmission', 'total_other_transmission', 'new_cases', 'total_cases', 'date', 'new_treatment', 'total_treatment', 'new_recovered', 'total_recovered', 'new_deaths', 'total_deaths', 'Name_EN', 'Date', 'Name_Indo', 'Capital', 'area_km2', 'population_2000', 'population_2010', 'population_2015', 'HDI_2014_estimate', 'Gouvernor', 'Nr. of Sub-Districts', 'Nr of Keluruhan/Villages', 'new_total', 'total_cases_per_100k', 'total_deaths_per_100k', 'cases7', 'cases7_per_100k', 'deaths7', 'deaths7_per_100k', 'CFR', 'id']\n"
     ]
    }
   ],
   "source": [
    "print(list(df_merged.columns))"
   ]
  },
  {
   "cell_type": "code",
   "execution_count": 42,
   "metadata": {},
   "outputs": [
    {
     "output_type": "execute_result",
     "data": {
      "text/plain": [
       "Index(['Date', 'Location ISO Code', 'Location', 'new_cases', 'new_deaths',\n",
       "       'new_recovered', 'New Active Cases', 'total_cases', 'total_deaths',\n",
       "       'total_recovered', 'Total Active Cases', 'Location Level',\n",
       "       'City or Regency', 'Province', 'Country', 'Continent', 'Island',\n",
       "       'Time Zone', 'Special Status', 'Total Regencies', 'Total Cities',\n",
       "       'Total Districts', 'Total Urban Villages', 'Total Rural Villages',\n",
       "       'Area (km2)', 'Population', 'Population Density', 'Longitude',\n",
       "       'Latitude', 'New Cases per Million', 'Total Cases per Million',\n",
       "       'New Deaths per Million', 'Total Deaths per Million', 'CFR',\n",
       "       'Case Recovered Rate', 'Growth Factor of New Cases',\n",
       "       'Growth Factor of New Deaths'],\n",
       "      dtype='object')"
      ]
     },
     "metadata": {},
     "execution_count": 42
    }
   ],
   "source": [
    "# adjust column names\n",
    "columns_new = ['Date', 'Location ISO Code', 'Location', 'new_cases', 'new_deaths',\n",
    "       'new_recovered', 'New Active Cases', 'total_cases', 'total_deaths',\n",
    "       'total_recovered', 'Total Active Cases', 'Location Level',\n",
    "       'City or Regency', 'Province', 'Country', 'Continent', 'Island',\n",
    "       'Time Zone', 'Special Status', 'Total Regencies', 'Total Cities',\n",
    "       'Total Districts', 'Total Urban Villages', 'Total Rural Villages',\n",
    "       'Area (km2)', 'Population', 'Population Density', 'Longitude',\n",
    "       'Latitude', 'New Cases per Million', 'Total Cases per Million',\n",
    "       'New Deaths per Million', 'Total Deaths per Million',\n",
    "       'CFR', 'Case Recovered Rate',\n",
    "       'Growth Factor of New Cases', 'Growth Factor of New Deaths']\n",
    "\n",
    "df_indo.columns = columns_new\n",
    "df_indo.columns"
   ]
  },
  {
   "cell_type": "code",
   "execution_count": 43,
   "metadata": {},
   "outputs": [
    {
     "output_type": "execute_result",
     "data": {
      "text/plain": [
       "Index(['Date', 'Location ISO Code', 'Location', 'new_cases', 'new_deaths',\n",
       "       'new_recovered', 'New Active Cases', 'total_cases', 'total_deaths',\n",
       "       'total_recovered', 'Total Active Cases', 'Location Level',\n",
       "       'City or Regency', 'Province', 'Country', 'Continent', 'Island',\n",
       "       'Time Zone', 'Special Status', 'Total Regencies', 'Total Cities',\n",
       "       'Total Districts', 'Total Urban Villages', 'Total Rural Villages',\n",
       "       'Area (km2)', 'Population', 'Population Density', 'Longitude',\n",
       "       'Latitude', 'New Cases per Million', 'Total Cases per Million',\n",
       "       'New Deaths per Million', 'Total Deaths per Million', 'CFR',\n",
       "       'Case Recovered Rate', 'Growth Factor of New Cases',\n",
       "       'Growth Factor of New Deaths', 'Name_EN', 'new_cases_per_100k',\n",
       "       'new_deaths_per_100k', 'total_cases_per_100k', 'total_deaths_per_100k',\n",
       "       'cases7', 'deaths7'],\n",
       "      dtype='object')"
      ]
     },
     "metadata": {},
     "execution_count": 43
    }
   ],
   "source": [
    "\n",
    "# add columns so consistent with Bali_regency data\n",
    "\n",
    "df_indo['Name_EN'] = df_indo['Location'].str.casefold()\n",
    "df_indo['new_cases_per_100k'] = df_indo['New Cases per Million'] / 100\n",
    "df_indo['new_deaths_per_100k'] = df_indo['New Deaths per Million'] / 100\n",
    "\n",
    "df_indo['total_cases_per_100k'] = df_indo['Total Cases per Million'] / 100\n",
    "df_indo['total_deaths_per_100k'] = df_indo['Total Deaths per Million'] / 100\n",
    "\n",
    "# rolling 7-day average\n",
    "df_indo['cases7'] = df_indo['new_cases'].rolling(window=7, center=False).mean().round(2)\n",
    "df_indo['deaths7'] = df_indo['new_deaths'].rolling(window=7, center = False).mean().round(2)\n",
    "\n",
    "df_indo.columns"
   ]
  },
  {
   "cell_type": "code",
   "execution_count": 44,
   "metadata": {},
   "outputs": [],
   "source": [
    "## add id from geojson\n",
    "geojson_indo = r'C:\\Users\\ansve\\Coding\\Projects-WebScraping\\CovidBali\\testingDash\\plotly apps-dash-oil-and-gas\\data\\indo_level1_id.geojson'\n",
    "\n",
    "# open new geojson (with id) file\n",
    "indo_geo_id = json.load(open(geojson_indo, 'r'))\n"
   ]
  },
  {
   "cell_type": "code",
   "execution_count": 45,
   "metadata": {},
   "outputs": [
    {
     "output_type": "execute_result",
     "data": {
      "text/plain": [
       "'1'"
      ]
     },
     "metadata": {},
     "execution_count": 45
    }
   ],
   "source": [
    "indo_geo_id['features'][0]['id']"
   ]
  },
  {
   "cell_type": "code",
   "execution_count": 46,
   "metadata": {},
   "outputs": [
    {
     "output_type": "execute_result",
     "data": {
      "text/plain": [
       "['Indonesia', 'DKI Jakarta']"
      ]
     },
     "metadata": {},
     "execution_count": 46
    }
   ],
   "source": [
    "## ADJUST NAMES OF df_indo with NAMES OF GEOJSON ADM1_EN\n",
    "\n",
    "# which names are different\n",
    "names_df = df_indo['Location'].unique()\n",
    "provinces = []\n",
    "for province in indo_geo_id['features']:\n",
    "  provinces.append(province['properties']['ADM1_EN'])\n",
    "\n",
    "list(set(names_df) - set(provinces))"
   ]
  },
  {
   "cell_type": "code",
   "execution_count": 47,
   "metadata": {},
   "outputs": [],
   "source": [
    "# adjust dki jakarte\n",
    "df_indo = df_indo.replace(\"DKI Jakarta\", 'Dki Jakarta')"
   ]
  },
  {
   "cell_type": "code",
   "execution_count": 48,
   "metadata": {},
   "outputs": [
    {
     "output_type": "execute_result",
     "data": {
      "text/plain": [
       "       Date Location ISO Code     Location  new_cases  new_deaths  \\\n",
       "0  3/1/2020             ID-JK  Dki Jakarta          2           0   \n",
       "1  3/2/2020             ID-JK  Dki Jakarta          2           0   \n",
       "2  3/2/2020               IDN    Indonesia          2           0   \n",
       "3  3/2/2020             ID-JB   Jawa Barat          3           0   \n",
       "4  3/2/2020             ID-RI         Riau          1           0   \n",
       "\n",
       "   new_recovered  New Active Cases  total_cases  total_deaths  \\\n",
       "0              0                 2          489            20   \n",
       "1              0                 2          491            20   \n",
       "2              0                 2            2             0   \n",
       "3              0                 3           12             5   \n",
       "4              0                 1            2             1   \n",
       "\n",
       "   total_recovered  ...  Growth Factor of New Cases  \\\n",
       "0               39  ...                         NaN   \n",
       "1               39  ...                         1.0   \n",
       "2                0  ...                         NaN   \n",
       "3               44  ...                         NaN   \n",
       "4               12  ...                         NaN   \n",
       "\n",
       "  Growth Factor of New Deaths      Name_EN new_cases_per_100k  \\\n",
       "0                         NaN  dki jakarta             0.0018   \n",
       "1                         1.0  dki jakarta             0.0018   \n",
       "2                         NaN    indonesia             0.0001   \n",
       "3                         NaN   jawa barat             0.0007   \n",
       "4                         NaN         riau             0.0016   \n",
       "\n",
       "  new_deaths_per_100k total_cases_per_100k total_deaths_per_100k cases7  \\\n",
       "0                 0.0               0.4509                0.0184    NaN   \n",
       "1                 0.0               0.4527                0.0184    NaN   \n",
       "2                 0.0               0.0001                0.0000    NaN   \n",
       "3                 0.0               0.0027                0.0011    NaN   \n",
       "4                 0.0               0.0033                0.0016    NaN   \n",
       "\n",
       "  deaths7  id  \n",
       "0     NaN   6  \n",
       "1     NaN   6  \n",
       "2     NaN   0  \n",
       "3     NaN   9  \n",
       "4     NaN  26  \n",
       "\n",
       "[5 rows x 45 columns]"
      ],
      "text/html": "<div>\n<style scoped>\n    .dataframe tbody tr th:only-of-type {\n        vertical-align: middle;\n    }\n\n    .dataframe tbody tr th {\n        vertical-align: top;\n    }\n\n    .dataframe thead th {\n        text-align: right;\n    }\n</style>\n<table border=\"1\" class=\"dataframe\">\n  <thead>\n    <tr style=\"text-align: right;\">\n      <th></th>\n      <th>Date</th>\n      <th>Location ISO Code</th>\n      <th>Location</th>\n      <th>new_cases</th>\n      <th>new_deaths</th>\n      <th>new_recovered</th>\n      <th>New Active Cases</th>\n      <th>total_cases</th>\n      <th>total_deaths</th>\n      <th>total_recovered</th>\n      <th>...</th>\n      <th>Growth Factor of New Cases</th>\n      <th>Growth Factor of New Deaths</th>\n      <th>Name_EN</th>\n      <th>new_cases_per_100k</th>\n      <th>new_deaths_per_100k</th>\n      <th>total_cases_per_100k</th>\n      <th>total_deaths_per_100k</th>\n      <th>cases7</th>\n      <th>deaths7</th>\n      <th>id</th>\n    </tr>\n  </thead>\n  <tbody>\n    <tr>\n      <th>0</th>\n      <td>3/1/2020</td>\n      <td>ID-JK</td>\n      <td>Dki Jakarta</td>\n      <td>2</td>\n      <td>0</td>\n      <td>0</td>\n      <td>2</td>\n      <td>489</td>\n      <td>20</td>\n      <td>39</td>\n      <td>...</td>\n      <td>NaN</td>\n      <td>NaN</td>\n      <td>dki jakarta</td>\n      <td>0.0018</td>\n      <td>0.0</td>\n      <td>0.4509</td>\n      <td>0.0184</td>\n      <td>NaN</td>\n      <td>NaN</td>\n      <td>6</td>\n    </tr>\n    <tr>\n      <th>1</th>\n      <td>3/2/2020</td>\n      <td>ID-JK</td>\n      <td>Dki Jakarta</td>\n      <td>2</td>\n      <td>0</td>\n      <td>0</td>\n      <td>2</td>\n      <td>491</td>\n      <td>20</td>\n      <td>39</td>\n      <td>...</td>\n      <td>1.0</td>\n      <td>1.0</td>\n      <td>dki jakarta</td>\n      <td>0.0018</td>\n      <td>0.0</td>\n      <td>0.4527</td>\n      <td>0.0184</td>\n      <td>NaN</td>\n      <td>NaN</td>\n      <td>6</td>\n    </tr>\n    <tr>\n      <th>2</th>\n      <td>3/2/2020</td>\n      <td>IDN</td>\n      <td>Indonesia</td>\n      <td>2</td>\n      <td>0</td>\n      <td>0</td>\n      <td>2</td>\n      <td>2</td>\n      <td>0</td>\n      <td>0</td>\n      <td>...</td>\n      <td>NaN</td>\n      <td>NaN</td>\n      <td>indonesia</td>\n      <td>0.0001</td>\n      <td>0.0</td>\n      <td>0.0001</td>\n      <td>0.0000</td>\n      <td>NaN</td>\n      <td>NaN</td>\n      <td>0</td>\n    </tr>\n    <tr>\n      <th>3</th>\n      <td>3/2/2020</td>\n      <td>ID-JB</td>\n      <td>Jawa Barat</td>\n      <td>3</td>\n      <td>0</td>\n      <td>0</td>\n      <td>3</td>\n      <td>12</td>\n      <td>5</td>\n      <td>44</td>\n      <td>...</td>\n      <td>NaN</td>\n      <td>NaN</td>\n      <td>jawa barat</td>\n      <td>0.0007</td>\n      <td>0.0</td>\n      <td>0.0027</td>\n      <td>0.0011</td>\n      <td>NaN</td>\n      <td>NaN</td>\n      <td>9</td>\n    </tr>\n    <tr>\n      <th>4</th>\n      <td>3/2/2020</td>\n      <td>ID-RI</td>\n      <td>Riau</td>\n      <td>1</td>\n      <td>0</td>\n      <td>0</td>\n      <td>1</td>\n      <td>2</td>\n      <td>1</td>\n      <td>12</td>\n      <td>...</td>\n      <td>NaN</td>\n      <td>NaN</td>\n      <td>riau</td>\n      <td>0.0016</td>\n      <td>0.0</td>\n      <td>0.0033</td>\n      <td>0.0016</td>\n      <td>NaN</td>\n      <td>NaN</td>\n      <td>26</td>\n    </tr>\n  </tbody>\n</table>\n<p>5 rows × 45 columns</p>\n</div>"
     },
     "metadata": {},
     "execution_count": 48
    }
   ],
   "source": [
    "provinces = []\n",
    "for province in indo_geo_id['features']:\n",
    "  provinces.append(province['properties']['ADM1_EN'])\n",
    "\n",
    "# add id column in df with feature.id from geojson\n",
    "indo_id_map = {}\n",
    "for province in indo_geo_id['features']:\n",
    "  indo_id_map[province['properties']['ADM1_EN']] = province['id']\n",
    "indo_id_map\n",
    "\n",
    "# ## for Foreigners or Other Regency add 'id' = 0\n",
    "df_indo['id'] = df_indo['Location'].apply(lambda x: indo_id_map[x] if x in indo_id_map else 0)\n",
    "\n",
    "df_indo.head()\n"
   ]
  },
  {
   "cell_type": "code",
   "execution_count": 49,
   "metadata": {},
   "outputs": [],
   "source": [
    "df_indo.to_csv('indo_province_data.csv')"
   ]
  },
  {
   "cell_type": "code",
   "execution_count": null,
   "metadata": {},
   "outputs": [],
   "source": []
  }
 ]
}