{
 "cells": [
  {
   "source": [
    "## CONTENT\n",
    "#####################\n",
    " \n",
    " 1. Bali Regency data\n",
    " * from Scrapy spider, combined with Wikipedia Data and geojson file from indo.gov.co.id\n",
    " 2. Indo Province Data (transittion to kawal data - march 2021)\n",
    " * kawalCovid data with Kaggle Dataset by Hendra\n",
    " 3. World - Country Data\n",
    " * owid world data"
   ],
   "cell_type": "markdown",
   "metadata": {
    "execution": {
     "iopub.execute_input": "2021-04-05T08:55:27.783128Z",
     "iopub.status.busy": "2021-04-05T08:55:27.782121Z",
     "iopub.status.idle": "2021-04-05T08:55:27.786121Z",
     "shell.execute_reply": "2021-04-05T08:55:27.785126Z"
    }
   }
  },
  {
   "source": [
    "# Setup"
   ],
   "cell_type": "markdown",
   "metadata": {}
  },
  {
   "cell_type": "code",
   "execution_count": 1,
   "metadata": {
    "execution": {
     "iopub.execute_input": "2021-04-05T08:55:22.040085Z",
     "iopub.status.busy": "2021-04-05T08:55:22.038093Z",
     "iopub.status.idle": "2021-04-05T08:55:23.984041Z",
     "shell.execute_reply": "2021-04-05T08:55:23.985053Z"
    }
   },
   "outputs": [
    {
     "output_type": "stream",
     "name": "stdout",
     "text": [
      "Requirement already satisfied: kaggle in c:\\users\\ansve\\.conda\\envs\\bali_covid_dash_app\\lib\\site-packages (1.5.12)Note: you may need to restart the kernel to use updated packages.\nRequirement already satisfied: six>=1.10 in c:\\users\\ansve\\.conda\\envs\\bali_covid_dash_app\\lib\\site-packages (from kaggle) (1.15.0)\nRequirement already satisfied: tqdm in c:\\users\\ansve\\.conda\\envs\\bali_covid_dash_app\\lib\\site-packages (from kaggle) (4.60.0)\nRequirement already satisfied: urllib3 in c:\\users\\ansve\\.conda\\envs\\bali_covid_dash_app\\lib\\site-packages (from kaggle) (1.26.4)\nRequirement already satisfied: python-slugify in c:\\users\\ansve\\.conda\\envs\\bali_covid_dash_app\\lib\\site-packages (from kaggle) (4.0.1)\nRequirement already satisfied: python-dateutil in c:\\users\\ansve\\.conda\\envs\\bali_covid_dash_app\\lib\\site-packages (from kaggle) (2.8.1)\nRequirement already satisfied: requests in c:\\users\\ansve\\.conda\\envs\\bali_covid_dash_app\\lib\\site-packages (from kaggle) (2.25.1)\nRequirement already satisfied: certifi in c:\\users\\ansve\\.conda\\envs\\bali_covid_dash_app\\lib\\site-packages (from kaggle) (2020.12.5)\nRequirement already satisfied: text-unidecode>=1.3 in c:\\users\\ansve\\.conda\\envs\\bali_covid_dash_app\\lib\\site-packages (from python-slugify->kaggle) (1.3)\nRequirement already satisfied: chardet<5,>=3.0.2 in c:\\users\\ansve\\.conda\\envs\\bali_covid_dash_app\\lib\\site-packages (from requests->kaggle) (4.0.0)\nRequirement already satisfied: idna<3,>=2.5 in c:\\users\\ansve\\.conda\\envs\\bali_covid_dash_app\\lib\\site-packages (from requests->kaggle) (2.10)\n\n"
     ]
    }
   ],
   "source": [
    "pip install kaggle"
   ]
  },
  {
   "cell_type": "code",
   "execution_count": 2,
   "metadata": {
    "execution": {
     "iopub.execute_input": "2021-04-05T08:55:23.990041Z",
     "iopub.status.busy": "2021-04-05T08:55:23.988046Z",
     "iopub.status.idle": "2021-04-05T08:55:24.236164Z",
     "shell.execute_reply": "2021-04-05T08:55:24.235165Z"
    }
   },
   "outputs": [],
   "source": [
    "from kaggle.api.kaggle_api_extended import KaggleApi\n",
    "\n",
    "# from keys import kaggle_api\n",
    "## 1. with Kaggle Api\n",
    "api =KaggleApi()\n",
    "api.authenticate()"
   ]
  },
  {
   "cell_type": "code",
   "execution_count": 3,
   "metadata": {
    "execution": {
     "iopub.execute_input": "2021-04-05T08:55:24.244166Z",
     "iopub.status.busy": "2021-04-05T08:55:24.242164Z",
     "iopub.status.idle": "2021-04-05T08:55:25.998171Z",
     "shell.execute_reply": "2021-04-05T08:55:25.999168Z"
    }
   },
   "outputs": [
    {
     "output_type": "stream",
     "name": "stdout",
     "text": [
      "Requirement already satisfied: json_lines in c:\\users\\ansve\\.conda\\envs\\bali_covid_dash_app\\lib\\site-packages (0.5.0)\nRequirement already satisfied: six in c:\\users\\ansve\\.conda\\envs\\bali_covid_dash_app\\lib\\site-packages (from json_lines) (1.15.0)\nNote: you may need to restart the kernel to use updated packages.\n"
     ]
    }
   ],
   "source": [
    "pip install json_lines"
   ]
  },
  {
   "cell_type": "code",
   "execution_count": 4,
   "metadata": {
    "execution": {
     "iopub.execute_input": "2021-04-05T08:55:26.006168Z",
     "iopub.status.busy": "2021-04-05T08:55:26.005169Z",
     "iopub.status.idle": "2021-04-05T08:55:27.775127Z",
     "shell.execute_reply": "2021-04-05T08:55:27.776121Z"
    }
   },
   "outputs": [],
   "source": [
    "import pandas as pd\n",
    "import json\n",
    "import json_lines\n"
   ]
  },
  {
   "source": [
    "# Data Loading and Processing"
   ],
   "cell_type": "markdown",
   "metadata": {}
  },
  {
   "source": [
    "###  -------------------------------------\n",
    "### 1. COVID DATA BALI REGENCIES\n",
    "###  -------------------------------------\n",
    "\n",
    "From scrapy spider"
   ],
   "cell_type": "markdown",
   "metadata": {
    "execution": {
     "iopub.execute_input": "2021-04-05T08:55:27.792130Z",
     "iopub.status.busy": "2021-04-05T08:55:27.791126Z",
     "iopub.status.idle": "2021-04-05T08:55:27.794124Z",
     "shell.execute_reply": "2021-04-05T08:55:27.795121Z"
    }
   }
  },
  {
   "cell_type": "code",
   "execution_count": 5,
   "metadata": {
    "execution": {
     "iopub.execute_input": "2021-04-05T08:55:27.804124Z",
     "iopub.status.busy": "2021-04-05T08:55:27.803126Z",
     "iopub.status.idle": "2021-04-05T08:55:27.847127Z",
     "shell.execute_reply": "2021-04-05T08:55:27.846141Z"
    }
   },
   "outputs": [
    {
     "output_type": "stream",
     "name": "stderr",
     "text": [
      "Error: JSON line can't be decoded. JSONDecodeError('Extra data: line 1 column 875 (char 874)',)\n"
     ]
    },
    {
     "output_type": "execute_result",
     "data": {
      "text/plain": [
       "  0         1    2    3   4     5  6   7   8     9             10\n",
       "0  1  JEMBRANA   -7   70   7   579  1  14   1   663   05 Dec 2020\n",
       "1  2   TABANAN  -10  434  35  1016  0  47  25  1497   05 Dec 2020\n",
       "2  3    BADUNG   -9  159  27  2299  0  51  18  2509   05 Dec 2020\n",
       "3  4  DENPASAR    1  166  26  3705  0  90  27  3961   05 Dec 2020\n",
       "4  5   GIANYAR  -16  234  31  1681  0  75  15  1990   05 Dec 2020"
      ],
      "text/html": "<div>\n<style scoped>\n    .dataframe tbody tr th:only-of-type {\n        vertical-align: middle;\n    }\n\n    .dataframe tbody tr th {\n        vertical-align: top;\n    }\n\n    .dataframe thead th {\n        text-align: right;\n    }\n</style>\n<table border=\"1\" class=\"dataframe\">\n  <thead>\n    <tr style=\"text-align: right;\">\n      <th></th>\n      <th>0</th>\n      <th>1</th>\n      <th>2</th>\n      <th>3</th>\n      <th>4</th>\n      <th>5</th>\n      <th>6</th>\n      <th>7</th>\n      <th>8</th>\n      <th>9</th>\n      <th>10</th>\n    </tr>\n  </thead>\n  <tbody>\n    <tr>\n      <th>0</th>\n      <td>1</td>\n      <td>JEMBRANA</td>\n      <td>-7</td>\n      <td>70</td>\n      <td>7</td>\n      <td>579</td>\n      <td>1</td>\n      <td>14</td>\n      <td>1</td>\n      <td>663</td>\n      <td>05 Dec 2020</td>\n    </tr>\n    <tr>\n      <th>1</th>\n      <td>2</td>\n      <td>TABANAN</td>\n      <td>-10</td>\n      <td>434</td>\n      <td>35</td>\n      <td>1016</td>\n      <td>0</td>\n      <td>47</td>\n      <td>25</td>\n      <td>1497</td>\n      <td>05 Dec 2020</td>\n    </tr>\n    <tr>\n      <th>2</th>\n      <td>3</td>\n      <td>BADUNG</td>\n      <td>-9</td>\n      <td>159</td>\n      <td>27</td>\n      <td>2299</td>\n      <td>0</td>\n      <td>51</td>\n      <td>18</td>\n      <td>2509</td>\n      <td>05 Dec 2020</td>\n    </tr>\n    <tr>\n      <th>3</th>\n      <td>4</td>\n      <td>DENPASAR</td>\n      <td>1</td>\n      <td>166</td>\n      <td>26</td>\n      <td>3705</td>\n      <td>0</td>\n      <td>90</td>\n      <td>27</td>\n      <td>3961</td>\n      <td>05 Dec 2020</td>\n    </tr>\n    <tr>\n      <th>4</th>\n      <td>5</td>\n      <td>GIANYAR</td>\n      <td>-16</td>\n      <td>234</td>\n      <td>31</td>\n      <td>1681</td>\n      <td>0</td>\n      <td>75</td>\n      <td>15</td>\n      <td>1990</td>\n      <td>05 Dec 2020</td>\n    </tr>\n  </tbody>\n</table>\n</div>"
     },
     "metadata": {},
     "execution_count": 5
    }
   ],
   "source": [
    "## Converting Json-Lines File to pandas DataFrame\n",
    "##########################################\n",
    "json_file = r'C:\\Users\\ansve\\Coding\\Projects-WebScraping\\CovidBali\\CovidBali\\CovidBali\\daily.jl'\n",
    "\n",
    "## Extract data from First TABLE\n",
    "###############################################\n",
    "data_first = []\n",
    "with open(json_file, 'rb') as f:\n",
    "    count = 0\n",
    "    for line in json_lines.reader(f, broken=True):\n",
    "        count+=1\n",
    "        if count % 2 == 0: #this is the remainder operator\n",
    "            for x in range(0, 10):\n",
    "                data_first.append(line['data'][x])\n",
    "\n",
    "df_first = pd.DataFrame(data_first)\n",
    "df_first.head()"
   ]
  },
  {
   "cell_type": "code",
   "execution_count": 6,
   "metadata": {
    "execution": {
     "iopub.execute_input": "2021-04-05T08:55:27.880125Z",
     "iopub.status.busy": "2021-04-05T08:55:27.878124Z",
     "iopub.status.idle": "2021-04-05T08:55:27.885581Z",
     "shell.execute_reply": "2021-04-05T08:55:27.886587Z"
    }
   },
   "outputs": [],
   "source": [
    "# df_first.tail()"
   ]
  },
  {
   "cell_type": "code",
   "execution_count": 7,
   "metadata": {
    "execution": {
     "iopub.execute_input": "2021-04-05T08:55:27.905689Z",
     "iopub.status.busy": "2021-04-05T08:55:27.905689Z",
     "iopub.status.idle": "2021-04-05T08:55:27.910704Z",
     "shell.execute_reply": "2021-04-05T08:55:27.909683Z"
    }
   },
   "outputs": [],
   "source": [
    "## Column names from https://infocorona.baliprov.go.id/API/pendataan/laporan-harian-02.php = df_first and ...-01.php = df_second\n",
    "\n",
    "columns_first = [\n",
    "    'No','Kabupaten / County', 'new_treatment', 'total_treatment', 'new_recovered', 'total_recovered', 'new_deaths', 'total_deaths', 'new_cases', 'total_cases', 'Date']\n",
    "\n",
    "df_first.columns = columns_first\n",
    "# df_first.head()"
   ]
  },
  {
   "cell_type": "code",
   "execution_count": 8,
   "metadata": {
    "execution": {
     "iopub.execute_input": "2021-04-05T08:55:27.918701Z",
     "iopub.status.busy": "2021-04-05T08:55:27.917698Z",
     "iopub.status.idle": "2021-04-05T08:55:27.932699Z",
     "shell.execute_reply": "2021-04-05T08:55:27.931706Z"
    }
   },
   "outputs": [
    {
     "output_type": "stream",
     "name": "stderr",
     "text": [
      "Error: JSON line can't be decoded. JSONDecodeError('Extra data: line 1 column 875 (char 874)',)\n"
     ]
    }
   ],
   "source": [
    "################################################\n",
    "##Extract data from SECOND TABLE\n",
    "###############################################\n",
    "data_second = []\n",
    "\n",
    "with open(json_file, 'rb') as f:\n",
    "    count =0\n",
    "    for line in json_lines.reader(f, broken=True):\n",
    "        count+= 1\n",
    "        if count % 2 != 0:\n",
    "            for x in range(0, 10):\n",
    "                data_second.append(line['data'][x])\n",
    "df_second = pd.DataFrame(data_second)"
   ]
  },
  {
   "cell_type": "code",
   "execution_count": 9,
   "metadata": {
    "execution": {
     "iopub.execute_input": "2021-04-05T08:55:27.954700Z",
     "iopub.status.busy": "2021-04-05T08:55:27.953679Z",
     "iopub.status.idle": "2021-04-05T08:55:27.959700Z",
     "shell.execute_reply": "2021-04-05T08:55:27.958688Z"
    }
   },
   "outputs": [
    {
     "output_type": "execute_result",
     "data": {
      "text/plain": [
       "      0                  1  2   3  4    5   6     7  8  9   10    11  \\\n",
       "1295   6             BANGLI  0  59  0   32  10  2169  0  0  10  2260   \n",
       "1296   7          KLUNGKUNG  0  20  0   69   2  1616  0  0   2  1705   \n",
       "1297   8         KARANGASEM  0  23  0  249   0  1537  0  0   0  1809   \n",
       "1298   9           BULELENG  0  44  0   32   8  3401  0  0   8  3477   \n",
       "1299  10  KABUPATEN LAINNYA  0   9  0  142   0   464  0  0   0   615   \n",
       "\n",
       "                12  \n",
       "1295   25 Apr 2021  \n",
       "1296   25 Apr 2021  \n",
       "1297   25 Apr 2021  \n",
       "1298   25 Apr 2021  \n",
       "1299   25 Apr 2021  "
      ],
      "text/html": "<div>\n<style scoped>\n    .dataframe tbody tr th:only-of-type {\n        vertical-align: middle;\n    }\n\n    .dataframe tbody tr th {\n        vertical-align: top;\n    }\n\n    .dataframe thead th {\n        text-align: right;\n    }\n</style>\n<table border=\"1\" class=\"dataframe\">\n  <thead>\n    <tr style=\"text-align: right;\">\n      <th></th>\n      <th>0</th>\n      <th>1</th>\n      <th>2</th>\n      <th>3</th>\n      <th>4</th>\n      <th>5</th>\n      <th>6</th>\n      <th>7</th>\n      <th>8</th>\n      <th>9</th>\n      <th>10</th>\n      <th>11</th>\n      <th>12</th>\n    </tr>\n  </thead>\n  <tbody>\n    <tr>\n      <th>1295</th>\n      <td>6</td>\n      <td>BANGLI</td>\n      <td>0</td>\n      <td>59</td>\n      <td>0</td>\n      <td>32</td>\n      <td>10</td>\n      <td>2169</td>\n      <td>0</td>\n      <td>0</td>\n      <td>10</td>\n      <td>2260</td>\n      <td>25 Apr 2021</td>\n    </tr>\n    <tr>\n      <th>1296</th>\n      <td>7</td>\n      <td>KLUNGKUNG</td>\n      <td>0</td>\n      <td>20</td>\n      <td>0</td>\n      <td>69</td>\n      <td>2</td>\n      <td>1616</td>\n      <td>0</td>\n      <td>0</td>\n      <td>2</td>\n      <td>1705</td>\n      <td>25 Apr 2021</td>\n    </tr>\n    <tr>\n      <th>1297</th>\n      <td>8</td>\n      <td>KARANGASEM</td>\n      <td>0</td>\n      <td>23</td>\n      <td>0</td>\n      <td>249</td>\n      <td>0</td>\n      <td>1537</td>\n      <td>0</td>\n      <td>0</td>\n      <td>0</td>\n      <td>1809</td>\n      <td>25 Apr 2021</td>\n    </tr>\n    <tr>\n      <th>1298</th>\n      <td>9</td>\n      <td>BULELENG</td>\n      <td>0</td>\n      <td>44</td>\n      <td>0</td>\n      <td>32</td>\n      <td>8</td>\n      <td>3401</td>\n      <td>0</td>\n      <td>0</td>\n      <td>8</td>\n      <td>3477</td>\n      <td>25 Apr 2021</td>\n    </tr>\n    <tr>\n      <th>1299</th>\n      <td>10</td>\n      <td>KABUPATEN LAINNYA</td>\n      <td>0</td>\n      <td>9</td>\n      <td>0</td>\n      <td>142</td>\n      <td>0</td>\n      <td>464</td>\n      <td>0</td>\n      <td>0</td>\n      <td>0</td>\n      <td>615</td>\n      <td>25 Apr 2021</td>\n    </tr>\n  </tbody>\n</table>\n</div>"
     },
     "metadata": {},
     "execution_count": 9
    }
   ],
   "source": [
    "df_second.tail()"
   ]
  },
  {
   "cell_type": "code",
   "execution_count": 10,
   "metadata": {
    "execution": {
     "iopub.execute_input": "2021-04-05T08:55:27.966703Z",
     "iopub.status.busy": "2021-04-05T08:55:27.965681Z",
     "iopub.status.idle": "2021-04-05T08:55:27.970705Z",
     "shell.execute_reply": "2021-04-05T08:55:27.968701Z"
    }
   },
   "outputs": [],
   "source": [
    "# # Second data entry\n",
    "columnName_second =['No', 'Kabupaten / County', 'new PPLN/PMI', 'total history-of-foreign-travel/ migrant-worker (PPLN/PMI)', 'new domestic-travel-history', 'total domestic-travel-history (PPDN)', 'new_local_transmission', 'total_local_transmission',\t'new_other_transmission', 'total_other_transmission', 'new_cases' ,'total_cases', 'Date' ]\n",
    "\n",
    "df_second.columns = columnName_second\n"
   ]
  },
  {
   "cell_type": "code",
   "execution_count": 11,
   "metadata": {
    "execution": {
     "iopub.execute_input": "2021-04-05T08:55:27.981699Z",
     "iopub.status.busy": "2021-04-05T08:55:27.980703Z",
     "iopub.status.idle": "2021-04-05T08:55:27.983703Z",
     "shell.execute_reply": "2021-04-05T08:55:27.983703Z"
    }
   },
   "outputs": [],
   "source": [
    "df_second = df_second.drop(['Kabupaten / County','new_cases', 'total_cases'], axis=1)"
   ]
  },
  {
   "cell_type": "code",
   "execution_count": 12,
   "metadata": {
    "execution": {
     "iopub.execute_input": "2021-04-05T08:55:28.003684Z",
     "iopub.status.busy": "2021-04-05T08:55:28.002684Z",
     "iopub.status.idle": "2021-04-05T08:55:28.005684Z",
     "shell.execute_reply": "2021-04-05T08:55:28.005684Z"
    }
   },
   "outputs": [
    {
     "output_type": "execute_result",
     "data": {
      "text/plain": [
       "      No new PPLN/PMI  \\\n",
       "1295   6            0   \n",
       "1296   7            0   \n",
       "1297   8            0   \n",
       "1298   9            0   \n",
       "1299  10            0   \n",
       "\n",
       "     total history-of-foreign-travel/ migrant-worker (PPLN/PMI)  \\\n",
       "1295                                                 59           \n",
       "1296                                                 20           \n",
       "1297                                                 23           \n",
       "1298                                                 44           \n",
       "1299                                                  9           \n",
       "\n",
       "     new domestic-travel-history total domestic-travel-history (PPDN)  \\\n",
       "1295                           0                                   32   \n",
       "1296                           0                                   69   \n",
       "1297                           0                                  249   \n",
       "1298                           0                                   32   \n",
       "1299                           0                                  142   \n",
       "\n",
       "     new_local_transmission total_local_transmission new_other_transmission  \\\n",
       "1295                     10                     2169                      0   \n",
       "1296                      2                     1616                      0   \n",
       "1297                      0                     1537                      0   \n",
       "1298                      8                     3401                      0   \n",
       "1299                      0                      464                      0   \n",
       "\n",
       "     total_other_transmission          Date  \n",
       "1295                        0   25 Apr 2021  \n",
       "1296                        0   25 Apr 2021  \n",
       "1297                        0   25 Apr 2021  \n",
       "1298                        0   25 Apr 2021  \n",
       "1299                        0   25 Apr 2021  "
      ],
      "text/html": "<div>\n<style scoped>\n    .dataframe tbody tr th:only-of-type {\n        vertical-align: middle;\n    }\n\n    .dataframe tbody tr th {\n        vertical-align: top;\n    }\n\n    .dataframe thead th {\n        text-align: right;\n    }\n</style>\n<table border=\"1\" class=\"dataframe\">\n  <thead>\n    <tr style=\"text-align: right;\">\n      <th></th>\n      <th>No</th>\n      <th>new PPLN/PMI</th>\n      <th>total history-of-foreign-travel/ migrant-worker (PPLN/PMI)</th>\n      <th>new domestic-travel-history</th>\n      <th>total domestic-travel-history (PPDN)</th>\n      <th>new_local_transmission</th>\n      <th>total_local_transmission</th>\n      <th>new_other_transmission</th>\n      <th>total_other_transmission</th>\n      <th>Date</th>\n    </tr>\n  </thead>\n  <tbody>\n    <tr>\n      <th>1295</th>\n      <td>6</td>\n      <td>0</td>\n      <td>59</td>\n      <td>0</td>\n      <td>32</td>\n      <td>10</td>\n      <td>2169</td>\n      <td>0</td>\n      <td>0</td>\n      <td>25 Apr 2021</td>\n    </tr>\n    <tr>\n      <th>1296</th>\n      <td>7</td>\n      <td>0</td>\n      <td>20</td>\n      <td>0</td>\n      <td>69</td>\n      <td>2</td>\n      <td>1616</td>\n      <td>0</td>\n      <td>0</td>\n      <td>25 Apr 2021</td>\n    </tr>\n    <tr>\n      <th>1297</th>\n      <td>8</td>\n      <td>0</td>\n      <td>23</td>\n      <td>0</td>\n      <td>249</td>\n      <td>0</td>\n      <td>1537</td>\n      <td>0</td>\n      <td>0</td>\n      <td>25 Apr 2021</td>\n    </tr>\n    <tr>\n      <th>1298</th>\n      <td>9</td>\n      <td>0</td>\n      <td>44</td>\n      <td>0</td>\n      <td>32</td>\n      <td>8</td>\n      <td>3401</td>\n      <td>0</td>\n      <td>0</td>\n      <td>25 Apr 2021</td>\n    </tr>\n    <tr>\n      <th>1299</th>\n      <td>10</td>\n      <td>0</td>\n      <td>9</td>\n      <td>0</td>\n      <td>142</td>\n      <td>0</td>\n      <td>464</td>\n      <td>0</td>\n      <td>0</td>\n      <td>25 Apr 2021</td>\n    </tr>\n  </tbody>\n</table>\n</div>"
     },
     "metadata": {},
     "execution_count": 12
    }
   ],
   "source": [
    "df_second.tail()"
   ]
  },
  {
   "cell_type": "code",
   "execution_count": 13,
   "metadata": {
    "execution": {
     "iopub.execute_input": "2021-04-05T08:55:28.015700Z",
     "iopub.status.busy": "2021-04-05T08:55:28.013704Z",
     "iopub.status.idle": "2021-04-05T08:55:28.041614Z",
     "shell.execute_reply": "2021-04-05T08:55:28.041614Z"
    }
   },
   "outputs": [],
   "source": [
    "############################\n",
    "## Merge both df\n",
    "#############################\n",
    "df_merged = pd.merge(df_first, df_second, how= 'left', left_on=['No', \"Date\"], right_on=['No', \"Date\"])\n",
    "\n",
    "df_bali = df_merged.copy()\n",
    "# df_bali.head()"
   ]
  },
  {
   "cell_type": "code",
   "execution_count": 14,
   "metadata": {
    "execution": {
     "iopub.execute_input": "2021-04-05T08:55:28.048616Z",
     "iopub.status.busy": "2021-04-05T08:55:28.047619Z",
     "iopub.status.idle": "2021-04-05T08:55:28.076638Z",
     "shell.execute_reply": "2021-04-05T08:55:28.075631Z"
    }
   },
   "outputs": [],
   "source": [
    "df = df_bali.copy()\n",
    "# df.tail()"
   ]
  },
  {
   "cell_type": "code",
   "execution_count": 15,
   "metadata": {
    "execution": {
     "iopub.execute_input": "2021-04-05T08:55:28.083645Z",
     "iopub.status.busy": "2021-04-05T08:55:28.083645Z",
     "iopub.status.idle": "2021-04-05T08:55:28.111635Z",
     "shell.execute_reply": "2021-04-05T08:55:28.111635Z"
    }
   },
   "outputs": [
    {
     "output_type": "execute_result",
     "data": {
      "text/plain": [
       "No                                                             int32\n",
       "Kabupaten / County                                            object\n",
       "new_treatment                                                 object\n",
       "total_treatment                                               object\n",
       "new_recovered                                                 object\n",
       "total_recovered                                               object\n",
       "new_deaths                                                    object\n",
       "total_deaths                                                  object\n",
       "new_cases                                                     object\n",
       "total_cases                                                   object\n",
       "Date                                                          object\n",
       "new PPLN/PMI                                                  object\n",
       "total history-of-foreign-travel/ migrant-worker (PPLN/PMI)    object\n",
       "new domestic-travel-history                                   object\n",
       "total domestic-travel-history (PPDN)                          object\n",
       "new_local_transmission                                        object\n",
       "total_local_transmission                                      object\n",
       "new_other_transmission                                        object\n",
       "total_other_transmission                                      object\n",
       "Name_EN                                                       object\n",
       "dtype: object"
      ]
     },
     "metadata": {},
     "execution_count": 15
    }
   ],
   "source": [
    "# delete duplicate columns and convert dtypes\n",
    "df = df.loc[:,~df.columns.duplicated()]\n",
    "\n",
    "## fill NaN in Kabubaten Lain fileds (confirmed cases from outside of bali regency but detected in Bali have no match with reference-data e.g)\n",
    "################################################\n",
    "df = df.fillna(0)\n",
    "df[df.isna().any(axis=1)]\n",
    "\n",
    "## convert columns data types, and capitalize Names\n",
    "df['No'] = df['No'].astype(int)\n",
    "df['Name_EN'] = df['Kabupaten / County'].astype(str)\n",
    "df.replace(\"KABUPATEN LAIN\", \"Others\", inplace=True)\n",
    "df['Name_EN'] = df['Name_EN'].str.capitalize()\n",
    "\n",
    "df.dtypes"
   ]
  },
  {
   "cell_type": "code",
   "execution_count": 16,
   "metadata": {
    "execution": {
     "iopub.execute_input": "2021-04-05T08:55:28.166615Z",
     "iopub.status.busy": "2021-04-05T08:55:28.165615Z",
     "iopub.status.idle": "2021-04-05T08:55:28.170613Z",
     "shell.execute_reply": "2021-04-05T08:55:28.169616Z"
    }
   },
   "outputs": [
    {
     "output_type": "execute_result",
     "data": {
      "text/plain": [
       "Timestamp('2020-12-05 00:00:00')"
      ]
     },
     "metadata": {},
     "execution_count": 16
    }
   ],
   "source": [
    "## convert date to datetime \n",
    "################################\n",
    "\n",
    "# from datetime import datetime -> datetime.strptime(date, format)\n",
    "# df[\"Date\"].apply(lambda x: parse(df['Date']))\n",
    "# or\n",
    "# df['Date'] = pd.to_datetime(df['Date'])\n",
    "## also possible\n",
    "\n",
    "from dateutil.parser import parse\n",
    "# check if Nan\n",
    "# df['Date'].isnull().values\n",
    "\n",
    "df['Date'] = df['Date'].str.strip()\n",
    "df['Date'] = df['Date'].astype(str) \n",
    "df['Date'] = pd.to_datetime(df.Date, errors='coerce')\n",
    "df['Date'][0]\n"
   ]
  },
  {
   "cell_type": "code",
   "execution_count": 17,
   "metadata": {
    "execution": {
     "iopub.execute_input": "2021-04-05T08:55:28.177639Z",
     "iopub.status.busy": "2021-04-05T08:55:28.177639Z",
     "iopub.status.idle": "2021-04-05T08:55:28.262617Z",
     "shell.execute_reply": "2021-04-05T08:55:28.260616Z"
    }
   },
   "outputs": [
    {
     "output_type": "execute_result",
     "data": {
      "text/plain": [
       "    Name_Indo     Name_EN    Capital  area_km2 population_2000  \\\n",
       "0        Bali        Bali        NaN  5,780.06       3,146,999   \n",
       "1    Buleleng    Buleleng  Singaraja  1,364.73         558.181   \n",
       "2    Jembrana    Jembrana     Negara    841.80         231.806   \n",
       "3  Karangasem  Karangasem   Amlapura    839.54         360.486   \n",
       "4     Tabanan     Tabanan    Tabanan    839.30          376.03   \n",
       "\n",
       "  population_2010 population_2015 HDI_2014_estimate                Gouvernor  \\\n",
       "0       3,890,757       4,148,588      0.724 (High)                      NaN   \n",
       "1         624.125         645.893    0.691 (Medium)     Putu Agus Suradnyana   \n",
       "2         261.638         271.423    0.686 (Medium)             I Putu Artha   \n",
       "3         396.487         408.487    0.640 (Medium)  I Gusti Ayu Mas Sumatri   \n",
       "4         420.913         435.753      0.726 (High)   Ni Putu Eka Wiryastuti   \n",
       "\n",
       "   Nr. of Sub-Districts Nr of Keluruhan/Villages  \n",
       "0                   NaN                      NaN  \n",
       "1                   9.0                   19/129  \n",
       "2                   5.0                    10/41  \n",
       "3                   8.0                     3/75  \n",
       "4                  10.0                    -/133  "
      ],
      "text/html": "<div>\n<style scoped>\n    .dataframe tbody tr th:only-of-type {\n        vertical-align: middle;\n    }\n\n    .dataframe tbody tr th {\n        vertical-align: top;\n    }\n\n    .dataframe thead th {\n        text-align: right;\n    }\n</style>\n<table border=\"1\" class=\"dataframe\">\n  <thead>\n    <tr style=\"text-align: right;\">\n      <th></th>\n      <th>Name_Indo</th>\n      <th>Name_EN</th>\n      <th>Capital</th>\n      <th>area_km2</th>\n      <th>population_2000</th>\n      <th>population_2010</th>\n      <th>population_2015</th>\n      <th>HDI_2014_estimate</th>\n      <th>Gouvernor</th>\n      <th>Nr. of Sub-Districts</th>\n      <th>Nr of Keluruhan/Villages</th>\n    </tr>\n  </thead>\n  <tbody>\n    <tr>\n      <th>0</th>\n      <td>Bali</td>\n      <td>Bali</td>\n      <td>NaN</td>\n      <td>5,780.06</td>\n      <td>3,146,999</td>\n      <td>3,890,757</td>\n      <td>4,148,588</td>\n      <td>0.724 (High)</td>\n      <td>NaN</td>\n      <td>NaN</td>\n      <td>NaN</td>\n    </tr>\n    <tr>\n      <th>1</th>\n      <td>Buleleng</td>\n      <td>Buleleng</td>\n      <td>Singaraja</td>\n      <td>1,364.73</td>\n      <td>558.181</td>\n      <td>624.125</td>\n      <td>645.893</td>\n      <td>0.691 (Medium)</td>\n      <td>Putu Agus Suradnyana</td>\n      <td>9.0</td>\n      <td>19/129</td>\n    </tr>\n    <tr>\n      <th>2</th>\n      <td>Jembrana</td>\n      <td>Jembrana</td>\n      <td>Negara</td>\n      <td>841.80</td>\n      <td>231.806</td>\n      <td>261.638</td>\n      <td>271.423</td>\n      <td>0.686 (Medium)</td>\n      <td>I Putu Artha</td>\n      <td>5.0</td>\n      <td>10/41</td>\n    </tr>\n    <tr>\n      <th>3</th>\n      <td>Karangasem</td>\n      <td>Karangasem</td>\n      <td>Amlapura</td>\n      <td>839.54</td>\n      <td>360.486</td>\n      <td>396.487</td>\n      <td>408.487</td>\n      <td>0.640 (Medium)</td>\n      <td>I Gusti Ayu Mas Sumatri</td>\n      <td>8.0</td>\n      <td>3/75</td>\n    </tr>\n    <tr>\n      <th>4</th>\n      <td>Tabanan</td>\n      <td>Tabanan</td>\n      <td>Tabanan</td>\n      <td>839.30</td>\n      <td>376.03</td>\n      <td>420.913</td>\n      <td>435.753</td>\n      <td>0.726 (High)</td>\n      <td>Ni Putu Eka Wiryastuti</td>\n      <td>10.0</td>\n      <td>-/133</td>\n    </tr>\n  </tbody>\n</table>\n</div>"
     },
     "metadata": {},
     "execution_count": 17
    }
   ],
   "source": [
    "## Reference Data \n",
    "## additional data like population, density etc.\n",
    "\n",
    "# data cleaning, processing\n",
    "##########################\n",
    "\n",
    "# add addtitional data\n",
    "df_ref = pd.read_excel('Bali_reference_data.xlsx')\n",
    "df_ref = df_ref.drop(columns=['https://en.wikipedia.org/wiki/Bali#cite_note-BPS2019-2', 'https://sp2010.bps.go.id/index.php/site/tabel?tid=321&wid=0', 'Source'])\n",
    "\n",
    "## adjust regency names of both data sources before merge\n",
    "##########################\n",
    "df_ref['Name_EN'] = df_ref['Name_Indo'].str.capitalize()\n",
    "df_ref.replace('Kota denpasar', 'Denpasar', inplace=True)\n",
    "df_ref.replace('totals', 'Bali', inplace=True)\n",
    "df_ref.replace('Totals', 'Bali', inplace=True)\n",
    "\n",
    "df_ref.head()"
   ]
  },
  {
   "cell_type": "code",
   "execution_count": 18,
   "metadata": {
    "execution": {
     "iopub.execute_input": "2021-04-05T08:55:28.276641Z",
     "iopub.status.busy": "2021-04-05T08:55:28.275613Z",
     "iopub.status.idle": "2021-04-05T08:55:28.281615Z",
     "shell.execute_reply": "2021-04-05T08:55:28.282632Z"
    }
   },
   "outputs": [],
   "source": [
    "# merge both df on 'Name_EN'\n",
    "df_merged = df.merge(df_ref, on=\"Name_EN\", how='left')"
   ]
  },
  {
   "cell_type": "code",
   "execution_count": 19,
   "metadata": {
    "execution": {
     "iopub.execute_input": "2021-04-05T08:55:28.289616Z",
     "iopub.status.busy": "2021-04-05T08:55:28.288619Z",
     "iopub.status.idle": "2021-04-05T08:55:28.294635Z",
     "shell.execute_reply": "2021-04-05T08:55:28.293634Z"
    }
   },
   "outputs": [
    {
     "output_type": "execute_result",
     "data": {
      "text/plain": [
       "Index(['No', 'Kabupaten / County', 'new_treatment', 'total_treatment',\n",
       "       'new_recovered', 'total_recovered', 'new_deaths', 'total_deaths',\n",
       "       'new_cases', 'total_cases', 'Date', 'new PPLN/PMI',\n",
       "       'total history-of-foreign-travel/ migrant-worker (PPLN/PMI)',\n",
       "       'new domestic-travel-history', 'total domestic-travel-history (PPDN)',\n",
       "       'new_local_transmission', 'total_local_transmission',\n",
       "       'new_other_transmission', 'total_other_transmission', 'Name_EN',\n",
       "       'Name_Indo', 'Capital', 'area_km2', 'population_2000',\n",
       "       'population_2010', 'population_2015', 'HDI_2014_estimate', 'Gouvernor',\n",
       "       'Nr. of Sub-Districts', 'Nr of Keluruhan/Villages'],\n",
       "      dtype='object')"
      ]
     },
     "metadata": {},
     "execution_count": 19
    }
   ],
   "source": [
    "df_merged.columns"
   ]
  },
  {
   "cell_type": "code",
   "execution_count": 20,
   "metadata": {
    "execution": {
     "iopub.execute_input": "2021-04-05T08:55:28.302617Z",
     "iopub.status.busy": "2021-04-05T08:55:28.301619Z",
     "iopub.status.idle": "2021-04-05T08:55:28.358637Z",
     "shell.execute_reply": "2021-04-05T08:55:28.357635Z"
    }
   },
   "outputs": [],
   "source": [
    "# # convert to integers\n",
    "int_numbers = ['new_treatment', 'total_treatment',\n",
    "       'new_recovered', 'total_recovered', 'new_deaths', 'total_deaths',\n",
    "       'new_cases', 'total_cases', 'new PPLN/PMI',\n",
    "       'total domestic-travel-history (PPDN)', \n",
    "       'new domestic-travel-history', 'total domestic-travel-history (PPDN)',\n",
    "       'new_local_transmission', 'total_local_transmission',\n",
    "       'new_other_transmission', 'total_other_transmission', 'population_2015']\n",
    "## check for duplicated columns\n",
    "# print(df_merged.columns[df_merged.columns.duplicated(keep=False)])\n",
    "df_merged[int_numbers] = df_merged[int_numbers].apply(pd.to_numeric)\n",
    "# df_merged.tail()"
   ]
  },
  {
   "cell_type": "code",
   "execution_count": 21,
   "metadata": {},
   "outputs": [
    {
     "output_type": "execute_result",
     "data": {
      "text/plain": [
       "dtype('float64')"
      ]
     },
     "metadata": {},
     "execution_count": 21
    }
   ],
   "source": [
    "df_merged.population_2015.dtypes"
   ]
  },
  {
   "cell_type": "code",
   "execution_count": 98,
   "metadata": {
    "execution": {
     "iopub.execute_input": "2021-04-05T08:55:28.369636Z",
     "iopub.status.busy": "2021-04-05T08:55:28.368633Z",
     "iopub.status.idle": "2021-04-05T08:55:28.402742Z",
     "shell.execute_reply": "2021-04-05T08:55:28.401747Z"
    }
   },
   "outputs": [],
   "source": [
    "# ## add columns with new calculated data\n",
    "#########################################\n",
    "\n",
    "df_merged['total_cases_per_100k'] = df_merged['total_cases'] / df_merged['population_2015'] * 100\n",
    "df_merged['total_cases_per_100k'] = df_merged['total_cases_per_100k'].apply(pd.to_numeric).round(2)\n",
    "\n",
    "df_merged['total_deaths_per_100k'] = df_merged['total_deaths'] / df_merged['population_2015'] * 100\n",
    "df_merged['total_deaths_per_100k'] = df_merged['total_deaths_per_100k'].apply(pd.to_numeric).round(2)\n",
    "\n",
    "df_merged['new_cases_per_mil'] = (df_merged['new_cases'] / df_merged['population_2015'])\n",
    "df_merged['new_cases_per_mil'] = ((df_merged['new_cases_per_mil'].apply(pd.to_numeric)) * 100)\n",
    "\n",
    "df_merged['cases7'] = df_merged['new_cases'].rolling(window=7, center=False).mean()\n",
    "df_merged['cases7_per_100k'] = df_merged['cases7'] / df_merged['population_2015'] * 100\n",
    "\n",
    "df_merged['deaths7'] = df_merged['new_deaths'].rolling(window=7, center=False).mean()\n",
    "df_merged['deaths7_per_100k'] = df_merged['total_deaths_per_100k'] / df_merged['population_2015'] * 100\n",
    "\n",
    "# infection fatality ratio (IFR), which estimates this proportion of deaths among all infected individuals. The second is case fatality ratio (CFR), which estimates this proportion of deaths among identified confirmed cases. \n",
    "# see https://www.who.int/news-room/commentaries/detail/estimating-mortality-from-covid-19\n",
    "df_merged['CFR'] = df_merged['total_deaths'] / df_merged['total_cases'] * 100\n",
    "df_merged['CFR'] = df_merged['CFR'].round(2)\n",
    "\n",
    "## Calculate in App after region selected and df only contains region\n",
    "df_merged['growth_rate_new_cases'] = df_merged['new_cases'].pct_change(fill_method ='ffill', periods=7)\n"
   ]
  },
  {
   "cell_type": "code",
   "execution_count": 101,
   "metadata": {},
   "outputs": [
    {
     "output_type": "execute_result",
     "data": {
      "text/plain": [
       "      total_deaths  total_cases  total_deaths_per_100k  population_2015  \\\n",
       "0               14          663                   5.16          271.423   \n",
       "1               47         1497                  10.79          435.753   \n",
       "2               51         2509                   8.29          615.148   \n",
       "3               90         3961                  10.24          879.098   \n",
       "4               75         1990                  15.16          494.729   \n",
       "...            ...          ...                    ...              ...   \n",
       "1305            91         2260                  40.90          222.474   \n",
       "1306            63         1705                  35.88          175.573   \n",
       "1307            94         1809                  23.01          408.487   \n",
       "1308           139         3477                  21.52          645.893   \n",
       "1309            11          615                    NaN              NaN   \n",
       "\n",
       "      total_cases_per_100k  \n",
       "0                   244.27  \n",
       "1                   343.54  \n",
       "2                   407.87  \n",
       "3                   450.58  \n",
       "4                   402.24  \n",
       "...                    ...  \n",
       "1305               1015.85  \n",
       "1306                971.11  \n",
       "1307                442.85  \n",
       "1308                538.32  \n",
       "1309                   NaN  \n",
       "\n",
       "[1310 rows x 5 columns]"
      ],
      "text/html": "<div>\n<style scoped>\n    .dataframe tbody tr th:only-of-type {\n        vertical-align: middle;\n    }\n\n    .dataframe tbody tr th {\n        vertical-align: top;\n    }\n\n    .dataframe thead th {\n        text-align: right;\n    }\n</style>\n<table border=\"1\" class=\"dataframe\">\n  <thead>\n    <tr style=\"text-align: right;\">\n      <th></th>\n      <th>total_deaths</th>\n      <th>total_cases</th>\n      <th>total_deaths_per_100k</th>\n      <th>population_2015</th>\n      <th>total_cases_per_100k</th>\n    </tr>\n  </thead>\n  <tbody>\n    <tr>\n      <th>0</th>\n      <td>14</td>\n      <td>663</td>\n      <td>5.16</td>\n      <td>271.423</td>\n      <td>244.27</td>\n    </tr>\n    <tr>\n      <th>1</th>\n      <td>47</td>\n      <td>1497</td>\n      <td>10.79</td>\n      <td>435.753</td>\n      <td>343.54</td>\n    </tr>\n    <tr>\n      <th>2</th>\n      <td>51</td>\n      <td>2509</td>\n      <td>8.29</td>\n      <td>615.148</td>\n      <td>407.87</td>\n    </tr>\n    <tr>\n      <th>3</th>\n      <td>90</td>\n      <td>3961</td>\n      <td>10.24</td>\n      <td>879.098</td>\n      <td>450.58</td>\n    </tr>\n    <tr>\n      <th>4</th>\n      <td>75</td>\n      <td>1990</td>\n      <td>15.16</td>\n      <td>494.729</td>\n      <td>402.24</td>\n    </tr>\n    <tr>\n      <th>...</th>\n      <td>...</td>\n      <td>...</td>\n      <td>...</td>\n      <td>...</td>\n      <td>...</td>\n    </tr>\n    <tr>\n      <th>1305</th>\n      <td>91</td>\n      <td>2260</td>\n      <td>40.90</td>\n      <td>222.474</td>\n      <td>1015.85</td>\n    </tr>\n    <tr>\n      <th>1306</th>\n      <td>63</td>\n      <td>1705</td>\n      <td>35.88</td>\n      <td>175.573</td>\n      <td>971.11</td>\n    </tr>\n    <tr>\n      <th>1307</th>\n      <td>94</td>\n      <td>1809</td>\n      <td>23.01</td>\n      <td>408.487</td>\n      <td>442.85</td>\n    </tr>\n    <tr>\n      <th>1308</th>\n      <td>139</td>\n      <td>3477</td>\n      <td>21.52</td>\n      <td>645.893</td>\n      <td>538.32</td>\n    </tr>\n    <tr>\n      <th>1309</th>\n      <td>11</td>\n      <td>615</td>\n      <td>NaN</td>\n      <td>NaN</td>\n      <td>NaN</td>\n    </tr>\n  </tbody>\n</table>\n<p>1310 rows × 5 columns</p>\n</div>"
     },
     "metadata": {},
     "execution_count": 101
    }
   ],
   "source": [
    "## Check new created values\n",
    "##############################\n",
    "# df_merged[['total_deaths', 'total_cases', 'total_deaths_per_100k', 'population_2015', 'total_cases_per_100k']]\n",
    "# df_merged[['Name_EN', 'Date', \"total_cases\", 'total_deaths', 'population_2015', 'total_cases_per_100k', 'total_deaths_per_100k', ]][-20:]\n",
    "# df_merged[['Name_EN', \"Date\", 'population_2015', 'new_cases', 'new_deaths', 'new_cases_per_mil',  'cases7_per_100k', 'new_cases_per_mil', 'population_2015', ]][-5:]"
   ]
  },
  {
   "cell_type": "code",
   "execution_count": 25,
   "metadata": {
    "execution": {
     "iopub.execute_input": "2021-04-05T08:55:28.423742Z",
     "iopub.status.busy": "2021-04-05T08:55:28.422744Z",
     "iopub.status.idle": "2021-04-05T08:55:28.606743Z",
     "shell.execute_reply": "2021-04-05T08:55:28.605747Z"
    }
   },
   "outputs": [
    {
     "output_type": "execute_result",
     "data": {
      "text/plain": [
       "   No Kabupaten / County  new_treatment  total_treatment  new_recovered  \\\n",
       "0   1           JEMBRANA             -7               70              7   \n",
       "1   2            TABANAN            -10              434             35   \n",
       "2   3             BADUNG             -9              159             27   \n",
       "3   4           DENPASAR              1              166             26   \n",
       "4   5            GIANYAR            -16              234             31   \n",
       "\n",
       "   total_recovered  new_deaths  total_deaths  new_cases  total_cases  ...  \\\n",
       "0              579           1            14          1          663  ...   \n",
       "1             1016           0            47         25         1497  ...   \n",
       "2             2299           0            51         18         2509  ...   \n",
       "3             3705           0            90         27         3961  ...   \n",
       "4             1681           0            75         15         1990  ...   \n",
       "\n",
       "  total_cases_per_100k  total_deaths_per_100k new_cases_per_mil  cases7  \\\n",
       "0               244.27                   5.16         36.842862     NaN   \n",
       "1               343.54                  10.79        573.719515     NaN   \n",
       "2               407.87                   8.29        292.612510     NaN   \n",
       "3               450.58                  10.24        307.132993     NaN   \n",
       "4               402.24                  15.16        303.196295     NaN   \n",
       "\n",
       "   cases7_per_100k  deaths7  deaths7_per_100k   CFR  growth_rate_new_cases id  \n",
       "0              NaN      NaN          1.901092  2.11                    NaN  5  \n",
       "1              NaN      NaN          2.476173  3.14                    NaN  9  \n",
       "2              NaN      NaN          1.347643  2.03                    NaN  1  \n",
       "3              NaN      NaN          1.164830  2.27                    NaN  8  \n",
       "4              NaN      NaN          3.064304  3.77                    NaN  4  \n",
       "\n",
       "[5 rows x 40 columns]"
      ],
      "text/html": "<div>\n<style scoped>\n    .dataframe tbody tr th:only-of-type {\n        vertical-align: middle;\n    }\n\n    .dataframe tbody tr th {\n        vertical-align: top;\n    }\n\n    .dataframe thead th {\n        text-align: right;\n    }\n</style>\n<table border=\"1\" class=\"dataframe\">\n  <thead>\n    <tr style=\"text-align: right;\">\n      <th></th>\n      <th>No</th>\n      <th>Kabupaten / County</th>\n      <th>new_treatment</th>\n      <th>total_treatment</th>\n      <th>new_recovered</th>\n      <th>total_recovered</th>\n      <th>new_deaths</th>\n      <th>total_deaths</th>\n      <th>new_cases</th>\n      <th>total_cases</th>\n      <th>...</th>\n      <th>total_cases_per_100k</th>\n      <th>total_deaths_per_100k</th>\n      <th>new_cases_per_mil</th>\n      <th>cases7</th>\n      <th>cases7_per_100k</th>\n      <th>deaths7</th>\n      <th>deaths7_per_100k</th>\n      <th>CFR</th>\n      <th>growth_rate_new_cases</th>\n      <th>id</th>\n    </tr>\n  </thead>\n  <tbody>\n    <tr>\n      <th>0</th>\n      <td>1</td>\n      <td>JEMBRANA</td>\n      <td>-7</td>\n      <td>70</td>\n      <td>7</td>\n      <td>579</td>\n      <td>1</td>\n      <td>14</td>\n      <td>1</td>\n      <td>663</td>\n      <td>...</td>\n      <td>244.27</td>\n      <td>5.16</td>\n      <td>36.842862</td>\n      <td>NaN</td>\n      <td>NaN</td>\n      <td>NaN</td>\n      <td>1.901092</td>\n      <td>2.11</td>\n      <td>NaN</td>\n      <td>5</td>\n    </tr>\n    <tr>\n      <th>1</th>\n      <td>2</td>\n      <td>TABANAN</td>\n      <td>-10</td>\n      <td>434</td>\n      <td>35</td>\n      <td>1016</td>\n      <td>0</td>\n      <td>47</td>\n      <td>25</td>\n      <td>1497</td>\n      <td>...</td>\n      <td>343.54</td>\n      <td>10.79</td>\n      <td>573.719515</td>\n      <td>NaN</td>\n      <td>NaN</td>\n      <td>NaN</td>\n      <td>2.476173</td>\n      <td>3.14</td>\n      <td>NaN</td>\n      <td>9</td>\n    </tr>\n    <tr>\n      <th>2</th>\n      <td>3</td>\n      <td>BADUNG</td>\n      <td>-9</td>\n      <td>159</td>\n      <td>27</td>\n      <td>2299</td>\n      <td>0</td>\n      <td>51</td>\n      <td>18</td>\n      <td>2509</td>\n      <td>...</td>\n      <td>407.87</td>\n      <td>8.29</td>\n      <td>292.612510</td>\n      <td>NaN</td>\n      <td>NaN</td>\n      <td>NaN</td>\n      <td>1.347643</td>\n      <td>2.03</td>\n      <td>NaN</td>\n      <td>1</td>\n    </tr>\n    <tr>\n      <th>3</th>\n      <td>4</td>\n      <td>DENPASAR</td>\n      <td>1</td>\n      <td>166</td>\n      <td>26</td>\n      <td>3705</td>\n      <td>0</td>\n      <td>90</td>\n      <td>27</td>\n      <td>3961</td>\n      <td>...</td>\n      <td>450.58</td>\n      <td>10.24</td>\n      <td>307.132993</td>\n      <td>NaN</td>\n      <td>NaN</td>\n      <td>NaN</td>\n      <td>1.164830</td>\n      <td>2.27</td>\n      <td>NaN</td>\n      <td>8</td>\n    </tr>\n    <tr>\n      <th>4</th>\n      <td>5</td>\n      <td>GIANYAR</td>\n      <td>-16</td>\n      <td>234</td>\n      <td>31</td>\n      <td>1681</td>\n      <td>0</td>\n      <td>75</td>\n      <td>15</td>\n      <td>1990</td>\n      <td>...</td>\n      <td>402.24</td>\n      <td>15.16</td>\n      <td>303.196295</td>\n      <td>NaN</td>\n      <td>NaN</td>\n      <td>NaN</td>\n      <td>3.064304</td>\n      <td>3.77</td>\n      <td>NaN</td>\n      <td>4</td>\n    </tr>\n  </tbody>\n</table>\n<p>5 rows × 40 columns</p>\n</div>"
     },
     "metadata": {},
     "execution_count": 25
    }
   ],
   "source": [
    "## add id from geojson file\n",
    "geojson_bali = 'new_bali_id.geojson'\n",
    "\n",
    "# open new geojson (with id) file\n",
    "bali_geo_id = json.load(open(geojson_bali, 'r'))\n",
    "\n",
    "## get names of regencies\n",
    "regencies = []\n",
    "for regency in bali_geo_id['features']:\n",
    "  regencies.append(regency['properties']['ADM2_EN'])\n",
    "\n",
    "  # add id column in df with feature.id from geojson\n",
    "bali_id_map = {}\n",
    "for regency in bali_geo_id['features']:\n",
    "  bali_id_map[regency['properties']['ADM2_EN']] = regency['id']\n",
    "bali_id_map\n",
    "\n",
    "## for Foreigners or Other Regency add 'id' = 0\n",
    "df_merged['id'] = df_merged['Name_Indo'].apply(lambda x: bali_id_map[x] if x in bali_id_map else 0)\n",
    "df_merged.head()"
   ]
  },
  {
   "cell_type": "code",
   "execution_count": 26,
   "metadata": {
    "execution": {
     "iopub.execute_input": "2021-04-05T08:55:28.633750Z",
     "iopub.status.busy": "2021-04-05T08:55:28.633208Z",
     "iopub.status.idle": "2021-04-05T08:55:28.639747Z",
     "shell.execute_reply": "2021-04-05T08:55:28.639747Z"
    }
   },
   "outputs": [
    {
     "output_type": "execute_result",
     "data": {
      "text/plain": [
       "      No Kabupaten / County  new_treatment  total_treatment  new_recovered  \\\n",
       "1305   6             BANGLI              6               71              3   \n",
       "1306   7          KLUNGKUNG              0               37              1   \n",
       "1307   8         KARANGASEM             -6               76              5   \n",
       "1308   9           BULELENG             -6              185             14   \n",
       "1309  10  KABUPATEN LAINNYA              0               42              0   \n",
       "\n",
       "      total_recovered  new_deaths  total_deaths  new_cases  total_cases  ...  \\\n",
       "1305             2098           1            91         10         2260  ...   \n",
       "1306             1605           1            63          2         1705  ...   \n",
       "1307             1639           1            94          0         1809  ...   \n",
       "1308             3153           0           139          8         3477  ...   \n",
       "1309              562           0            11          0          615  ...   \n",
       "\n",
       "     total_cases_per_100k  total_deaths_per_100k new_cases_per_mil    cases7  \\\n",
       "1305              1015.85                  40.90        449.490727  8.571429   \n",
       "1306               971.11                  35.88        113.912731  8.285714   \n",
       "1307               442.85                  23.01          0.000000  8.285714   \n",
       "1308               538.32                  21.52        123.859525  8.714286   \n",
       "1309                  NaN                    NaN               NaN  7.571429   \n",
       "\n",
       "      cases7_per_100k   deaths7  deaths7_per_100k   CFR  \\\n",
       "1305         3.852778  0.428571         18.384171  4.03   \n",
       "1306         4.719242  0.571429         20.435944  3.70   \n",
       "1307         2.028391  0.714286          5.632982  5.20   \n",
       "1308         1.349184  0.571429          3.331821  4.00   \n",
       "1309              NaN  0.571429               NaN  1.79   \n",
       "\n",
       "      growth_rate_new_cases id  \n",
       "1305              -0.545455  2  \n",
       "1306              -0.500000  7  \n",
       "1307                    NaN  6  \n",
       "1308               0.600000  3  \n",
       "1309              -1.000000  0  \n",
       "\n",
       "[5 rows x 40 columns]"
      ],
      "text/html": "<div>\n<style scoped>\n    .dataframe tbody tr th:only-of-type {\n        vertical-align: middle;\n    }\n\n    .dataframe tbody tr th {\n        vertical-align: top;\n    }\n\n    .dataframe thead th {\n        text-align: right;\n    }\n</style>\n<table border=\"1\" class=\"dataframe\">\n  <thead>\n    <tr style=\"text-align: right;\">\n      <th></th>\n      <th>No</th>\n      <th>Kabupaten / County</th>\n      <th>new_treatment</th>\n      <th>total_treatment</th>\n      <th>new_recovered</th>\n      <th>total_recovered</th>\n      <th>new_deaths</th>\n      <th>total_deaths</th>\n      <th>new_cases</th>\n      <th>total_cases</th>\n      <th>...</th>\n      <th>total_cases_per_100k</th>\n      <th>total_deaths_per_100k</th>\n      <th>new_cases_per_mil</th>\n      <th>cases7</th>\n      <th>cases7_per_100k</th>\n      <th>deaths7</th>\n      <th>deaths7_per_100k</th>\n      <th>CFR</th>\n      <th>growth_rate_new_cases</th>\n      <th>id</th>\n    </tr>\n  </thead>\n  <tbody>\n    <tr>\n      <th>1305</th>\n      <td>6</td>\n      <td>BANGLI</td>\n      <td>6</td>\n      <td>71</td>\n      <td>3</td>\n      <td>2098</td>\n      <td>1</td>\n      <td>91</td>\n      <td>10</td>\n      <td>2260</td>\n      <td>...</td>\n      <td>1015.85</td>\n      <td>40.90</td>\n      <td>449.490727</td>\n      <td>8.571429</td>\n      <td>3.852778</td>\n      <td>0.428571</td>\n      <td>18.384171</td>\n      <td>4.03</td>\n      <td>-0.545455</td>\n      <td>2</td>\n    </tr>\n    <tr>\n      <th>1306</th>\n      <td>7</td>\n      <td>KLUNGKUNG</td>\n      <td>0</td>\n      <td>37</td>\n      <td>1</td>\n      <td>1605</td>\n      <td>1</td>\n      <td>63</td>\n      <td>2</td>\n      <td>1705</td>\n      <td>...</td>\n      <td>971.11</td>\n      <td>35.88</td>\n      <td>113.912731</td>\n      <td>8.285714</td>\n      <td>4.719242</td>\n      <td>0.571429</td>\n      <td>20.435944</td>\n      <td>3.70</td>\n      <td>-0.500000</td>\n      <td>7</td>\n    </tr>\n    <tr>\n      <th>1307</th>\n      <td>8</td>\n      <td>KARANGASEM</td>\n      <td>-6</td>\n      <td>76</td>\n      <td>5</td>\n      <td>1639</td>\n      <td>1</td>\n      <td>94</td>\n      <td>0</td>\n      <td>1809</td>\n      <td>...</td>\n      <td>442.85</td>\n      <td>23.01</td>\n      <td>0.000000</td>\n      <td>8.285714</td>\n      <td>2.028391</td>\n      <td>0.714286</td>\n      <td>5.632982</td>\n      <td>5.20</td>\n      <td>NaN</td>\n      <td>6</td>\n    </tr>\n    <tr>\n      <th>1308</th>\n      <td>9</td>\n      <td>BULELENG</td>\n      <td>-6</td>\n      <td>185</td>\n      <td>14</td>\n      <td>3153</td>\n      <td>0</td>\n      <td>139</td>\n      <td>8</td>\n      <td>3477</td>\n      <td>...</td>\n      <td>538.32</td>\n      <td>21.52</td>\n      <td>123.859525</td>\n      <td>8.714286</td>\n      <td>1.349184</td>\n      <td>0.571429</td>\n      <td>3.331821</td>\n      <td>4.00</td>\n      <td>0.600000</td>\n      <td>3</td>\n    </tr>\n    <tr>\n      <th>1309</th>\n      <td>10</td>\n      <td>KABUPATEN LAINNYA</td>\n      <td>0</td>\n      <td>42</td>\n      <td>0</td>\n      <td>562</td>\n      <td>0</td>\n      <td>11</td>\n      <td>0</td>\n      <td>615</td>\n      <td>...</td>\n      <td>NaN</td>\n      <td>NaN</td>\n      <td>NaN</td>\n      <td>7.571429</td>\n      <td>NaN</td>\n      <td>0.571429</td>\n      <td>NaN</td>\n      <td>1.79</td>\n      <td>-1.000000</td>\n      <td>0</td>\n    </tr>\n  </tbody>\n</table>\n<p>5 rows × 40 columns</p>\n</div>"
     },
     "metadata": {},
     "execution_count": 26
    }
   ],
   "source": [
    "df_merged.tail()"
   ]
  },
  {
   "cell_type": "code",
   "execution_count": 27,
   "metadata": {
    "execution": {
     "iopub.execute_input": "2021-04-05T08:55:28.646753Z",
     "iopub.status.busy": "2021-04-05T08:55:28.644750Z",
     "iopub.status.idle": "2021-04-05T08:55:28.709752Z",
     "shell.execute_reply": "2021-04-05T08:55:28.709752Z"
    }
   },
   "outputs": [],
   "source": [
    "# create csv for Bali Dash App\n",
    "df_merged.to_csv('bali_regency_data.csv')\n"
   ]
  },
  {
   "cell_type": "code",
   "execution_count": 28,
   "metadata": {
    "execution": {
     "iopub.execute_input": "2021-04-05T08:55:28.716745Z",
     "iopub.status.busy": "2021-04-05T08:55:28.715751Z",
     "iopub.status.idle": "2021-04-05T08:55:28.765764Z",
     "shell.execute_reply": "2021-04-05T08:55:28.765764Z"
    }
   },
   "outputs": [],
   "source": [
    "# save a version in Kaggle Datasets (upload daily)\n",
    "\n",
    "df_merged.to_csv(r'C:\\Users\\ansve\\Coding\\Kaggle\\Datasets\\Covid19_Bali\\Covid19_Bali_Regencies_Data.csv')"
   ]
  },
  {
   "cell_type": "code",
   "execution_count": 29,
   "metadata": {
    "execution": {
     "iopub.execute_input": "2021-04-05T08:55:28.771491Z",
     "iopub.status.busy": "2021-04-05T08:55:28.770462Z",
     "iopub.status.idle": "2021-04-05T08:55:28.774495Z",
     "shell.execute_reply": "2021-04-05T08:55:28.773477Z"
    }
   },
   "outputs": [],
   "source": [
    "###  -------------------------------------\n",
    "### 2. INDONESIA COVID DATA \n",
    "###  -------------------------------------\n",
    "\n",
    "## From Kaggel Dataset\n",
    "# 1. connect to kaggle and get latest dataset\n"
   ]
  },
  {
   "cell_type": "code",
   "execution_count": 30,
   "metadata": {
    "execution": {
     "iopub.execute_input": "2021-04-05T08:55:28.782501Z",
     "iopub.status.busy": "2021-04-05T08:55:28.781483Z",
     "iopub.status.idle": "2021-04-05T08:55:33.055592Z",
     "shell.execute_reply": "2021-04-05T08:55:33.054594Z"
    }
   },
   "outputs": [],
   "source": [
    "# downoad single file\n",
    "#Signature: dataset_download_file(dataset, file_name, path=None, force=False, quiet=True)\n",
    "# api.dataset_download_files('hendratno/covid19-indonesia/covid_19_indonesia_time_series_all.csv', unzip = True)\n",
    "# "
   ]
  },
  {
   "cell_type": "code",
   "execution_count": 31,
   "metadata": {
    "execution": {
     "iopub.execute_input": "2021-04-05T08:55:33.061573Z",
     "iopub.status.busy": "2021-04-05T08:55:33.061573Z",
     "iopub.status.idle": "2021-04-05T08:55:33.163578Z",
     "shell.execute_reply": "2021-04-05T08:55:33.164579Z"
    }
   },
   "outputs": [
    {
     "output_type": "execute_result",
     "data": {
      "text/plain": [
       "            Date Location ISO Code           Location  New Cases  New Deaths  \\\n",
       "13009  3/28/2021             ID-SG  Sulawesi Tenggara          4           0   \n",
       "13010  3/28/2021             ID-SA     Sulawesi Utara          5           0   \n",
       "13011  3/28/2021             ID-SB     Sumatera Barat        106           2   \n",
       "13012  3/28/2021             ID-SS   Sumatera Selatan        101           3   \n",
       "13013  3/28/2021             ID-SU     Sumatera Utara         69           2   \n",
       "\n",
       "       New Recovered  New Active Cases  Total Cases  Total Deaths  \\\n",
       "13009              1                 3        10249           205   \n",
       "13010              4                 1        15351           499   \n",
       "13011             74                30        31455           682   \n",
       "13012             77                21        17443           828   \n",
       "13013             37                30        27120           903   \n",
       "\n",
       "       Total Recovered  ...   Longitude  Latitude  New Cases per Million  \\\n",
       "13009             9593  ...  122.070311 -4.124689                   1.52   \n",
       "13010            12420  ...  124.521240  1.259638                   1.89   \n",
       "13011            29611  ...  100.465062 -0.850253                  19.21   \n",
       "13012            15450  ...  104.169465 -3.216212                  12.29   \n",
       "13013            23714  ...   99.051964  2.191894                   4.64   \n",
       "\n",
       "      Total Cases per Million New Deaths per Million Total Deaths per Million  \\\n",
       "13009                 3888.88                   0.00                    77.79   \n",
       "13010                 5810.63                   0.00                   188.88   \n",
       "13011                 5699.15                   0.36                   123.57   \n",
       "13012                 2122.65                   0.37                   100.76   \n",
       "13013                 1823.21                   0.13                    60.71   \n",
       "\n",
       "      Case Fatality Rate Case Recovered Rate Growth Factor of New Cases  \\\n",
       "13009              2.00%              93.60%                       0.31   \n",
       "13010              3.25%              80.91%                       0.26   \n",
       "13011              2.17%              94.14%                       0.96   \n",
       "13012              4.75%              88.57%                       1.20   \n",
       "13013              3.33%              87.44%                       0.86   \n",
       "\n",
       "       Growth Factor of New Deaths  \n",
       "13009                         0.00  \n",
       "13010                         1.00  \n",
       "13011                         2.00  \n",
       "13012                         1.50  \n",
       "13013                         0.67  \n",
       "\n",
       "[5 rows x 37 columns]"
      ],
      "text/html": "<div>\n<style scoped>\n    .dataframe tbody tr th:only-of-type {\n        vertical-align: middle;\n    }\n\n    .dataframe tbody tr th {\n        vertical-align: top;\n    }\n\n    .dataframe thead th {\n        text-align: right;\n    }\n</style>\n<table border=\"1\" class=\"dataframe\">\n  <thead>\n    <tr style=\"text-align: right;\">\n      <th></th>\n      <th>Date</th>\n      <th>Location ISO Code</th>\n      <th>Location</th>\n      <th>New Cases</th>\n      <th>New Deaths</th>\n      <th>New Recovered</th>\n      <th>New Active Cases</th>\n      <th>Total Cases</th>\n      <th>Total Deaths</th>\n      <th>Total Recovered</th>\n      <th>...</th>\n      <th>Longitude</th>\n      <th>Latitude</th>\n      <th>New Cases per Million</th>\n      <th>Total Cases per Million</th>\n      <th>New Deaths per Million</th>\n      <th>Total Deaths per Million</th>\n      <th>Case Fatality Rate</th>\n      <th>Case Recovered Rate</th>\n      <th>Growth Factor of New Cases</th>\n      <th>Growth Factor of New Deaths</th>\n    </tr>\n  </thead>\n  <tbody>\n    <tr>\n      <th>13009</th>\n      <td>3/28/2021</td>\n      <td>ID-SG</td>\n      <td>Sulawesi Tenggara</td>\n      <td>4</td>\n      <td>0</td>\n      <td>1</td>\n      <td>3</td>\n      <td>10249</td>\n      <td>205</td>\n      <td>9593</td>\n      <td>...</td>\n      <td>122.070311</td>\n      <td>-4.124689</td>\n      <td>1.52</td>\n      <td>3888.88</td>\n      <td>0.00</td>\n      <td>77.79</td>\n      <td>2.00%</td>\n      <td>93.60%</td>\n      <td>0.31</td>\n      <td>0.00</td>\n    </tr>\n    <tr>\n      <th>13010</th>\n      <td>3/28/2021</td>\n      <td>ID-SA</td>\n      <td>Sulawesi Utara</td>\n      <td>5</td>\n      <td>0</td>\n      <td>4</td>\n      <td>1</td>\n      <td>15351</td>\n      <td>499</td>\n      <td>12420</td>\n      <td>...</td>\n      <td>124.521240</td>\n      <td>1.259638</td>\n      <td>1.89</td>\n      <td>5810.63</td>\n      <td>0.00</td>\n      <td>188.88</td>\n      <td>3.25%</td>\n      <td>80.91%</td>\n      <td>0.26</td>\n      <td>1.00</td>\n    </tr>\n    <tr>\n      <th>13011</th>\n      <td>3/28/2021</td>\n      <td>ID-SB</td>\n      <td>Sumatera Barat</td>\n      <td>106</td>\n      <td>2</td>\n      <td>74</td>\n      <td>30</td>\n      <td>31455</td>\n      <td>682</td>\n      <td>29611</td>\n      <td>...</td>\n      <td>100.465062</td>\n      <td>-0.850253</td>\n      <td>19.21</td>\n      <td>5699.15</td>\n      <td>0.36</td>\n      <td>123.57</td>\n      <td>2.17%</td>\n      <td>94.14%</td>\n      <td>0.96</td>\n      <td>2.00</td>\n    </tr>\n    <tr>\n      <th>13012</th>\n      <td>3/28/2021</td>\n      <td>ID-SS</td>\n      <td>Sumatera Selatan</td>\n      <td>101</td>\n      <td>3</td>\n      <td>77</td>\n      <td>21</td>\n      <td>17443</td>\n      <td>828</td>\n      <td>15450</td>\n      <td>...</td>\n      <td>104.169465</td>\n      <td>-3.216212</td>\n      <td>12.29</td>\n      <td>2122.65</td>\n      <td>0.37</td>\n      <td>100.76</td>\n      <td>4.75%</td>\n      <td>88.57%</td>\n      <td>1.20</td>\n      <td>1.50</td>\n    </tr>\n    <tr>\n      <th>13013</th>\n      <td>3/28/2021</td>\n      <td>ID-SU</td>\n      <td>Sumatera Utara</td>\n      <td>69</td>\n      <td>2</td>\n      <td>37</td>\n      <td>30</td>\n      <td>27120</td>\n      <td>903</td>\n      <td>23714</td>\n      <td>...</td>\n      <td>99.051964</td>\n      <td>2.191894</td>\n      <td>4.64</td>\n      <td>1823.21</td>\n      <td>0.13</td>\n      <td>60.71</td>\n      <td>3.33%</td>\n      <td>87.44%</td>\n      <td>0.86</td>\n      <td>0.67</td>\n    </tr>\n  </tbody>\n</table>\n<p>5 rows × 37 columns</p>\n</div>"
     },
     "metadata": {},
     "execution_count": 31
    }
   ],
   "source": [
    "df_indo = pd.read_csv('covid_19_indonesia_time_series_all.csv')\n",
    "df_indo.tail()"
   ]
  },
  {
   "cell_type": "code",
   "execution_count": 32,
   "metadata": {
    "execution": {
     "iopub.execute_input": "2021-04-05T08:55:33.173575Z",
     "iopub.status.busy": "2021-04-05T08:55:33.172576Z",
     "iopub.status.idle": "2021-04-05T08:55:33.220575Z",
     "shell.execute_reply": "2021-04-05T08:55:33.219578Z"
    }
   },
   "outputs": [
    {
     "output_type": "stream",
     "name": "stdout",
     "text": [
      "3/1/2020\n"
     ]
    }
   ],
   "source": [
    "## convert dates to datetime format so matching with new dataframe before merging\n",
    "print(df_indo['Date'][0])\n",
    "df_indo['Date'] = pd.to_datetime(df_indo['Date'])\n"
   ]
  },
  {
   "cell_type": "code",
   "execution_count": 33,
   "metadata": {
    "execution": {
     "iopub.execute_input": "2021-04-05T08:55:33.227576Z",
     "iopub.status.busy": "2021-04-05T08:55:33.226573Z",
     "iopub.status.idle": "2021-04-05T08:55:33.231578Z",
     "shell.execute_reply": "2021-04-05T08:55:33.230573Z"
    }
   },
   "outputs": [
    {
     "output_type": "execute_result",
     "data": {
      "text/plain": [
       "Index(['Date', 'Location ISO Code', 'Location', 'New Cases', 'New Deaths',\n",
       "       'New Recovered', 'New Active Cases', 'Total Cases', 'Total Deaths',\n",
       "       'Total Recovered', 'Total Active Cases', 'Location Level',\n",
       "       'City or Regency', 'Province', 'Country', 'Continent', 'Island',\n",
       "       'Time Zone', 'Special Status', 'Total Regencies', 'Total Cities',\n",
       "       'Total Districts', 'Total Urban Villages', 'Total Rural Villages',\n",
       "       'Area (km2)', 'Population', 'Population Density', 'Longitude',\n",
       "       'Latitude', 'New Cases per Million', 'Total Cases per Million',\n",
       "       'New Deaths per Million', 'Total Deaths per Million',\n",
       "       'Case Fatality Rate', 'Case Recovered Rate',\n",
       "       'Growth Factor of New Cases', 'Growth Factor of New Deaths'],\n",
       "      dtype='object')"
      ]
     },
     "metadata": {},
     "execution_count": 33
    }
   ],
   "source": [
    "df_indo.columns"
   ]
  },
  {
   "cell_type": "code",
   "execution_count": 34,
   "metadata": {
    "execution": {
     "iopub.execute_input": "2021-04-05T08:55:33.240577Z",
     "iopub.status.busy": "2021-04-05T08:55:33.239578Z",
     "iopub.status.idle": "2021-04-05T08:55:33.245574Z",
     "shell.execute_reply": "2021-04-05T08:55:33.244575Z"
    }
   },
   "outputs": [
    {
     "output_type": "execute_result",
     "data": {
      "text/plain": [
       "Index(['Date', 'Location ISO Code', 'Location', 'new_cases', 'new_deaths',\n",
       "       'new_recovered', 'New Active Cases', 'total_cases', 'total_deaths',\n",
       "       'total_recovered', 'Total Active Cases', 'Location Level',\n",
       "       'City or Regency', 'Province', 'Country', 'Continent', 'Island',\n",
       "       'Time Zone', 'Special Status', 'Total Regencies', 'Total Cities',\n",
       "       'Total Districts', 'Total Urban Villages', 'Total Rural Villages',\n",
       "       'Area (km2)', 'Population', 'Population Density', 'Longitude',\n",
       "       'Latitude', 'New Cases per Million', 'Total Cases per Million',\n",
       "       'New Deaths per Million', 'Total Deaths per Million', 'CFR',\n",
       "       'Case Recovered Rate', 'Growth Factor of New Cases',\n",
       "       'Growth Factor of New Deaths'],\n",
       "      dtype='object')"
      ]
     },
     "metadata": {},
     "execution_count": 34
    }
   ],
   "source": [
    "# adjust column names\n",
    "columns_new = ['Date', 'Location ISO Code', 'Location', 'new_cases', 'new_deaths',\n",
    "       'new_recovered', 'New Active Cases', 'total_cases', 'total_deaths',\n",
    "       'total_recovered', 'Total Active Cases', 'Location Level',\n",
    "       'City or Regency', 'Province', 'Country', 'Continent', 'Island',\n",
    "       'Time Zone', 'Special Status', 'Total Regencies', 'Total Cities',\n",
    "       'Total Districts', 'Total Urban Villages', 'Total Rural Villages',\n",
    "       'Area (km2)', 'Population', 'Population Density', 'Longitude',\n",
    "       'Latitude', 'New Cases per Million', 'Total Cases per Million',\n",
    "       'New Deaths per Million', 'Total Deaths per Million',\n",
    "       'CFR', 'Case Recovered Rate',\n",
    "       'Growth Factor of New Cases', 'Growth Factor of New Deaths']\n",
    "\n",
    "df_indo.columns = columns_new\n",
    "df_indo.columns"
   ]
  },
  {
   "cell_type": "code",
   "execution_count": 35,
   "metadata": {
    "execution": {
     "iopub.execute_input": "2021-04-05T08:55:33.251576Z",
     "iopub.status.busy": "2021-04-05T08:55:33.251576Z",
     "iopub.status.idle": "2021-04-05T08:55:33.256578Z",
     "shell.execute_reply": "2021-04-05T08:55:33.255583Z"
    }
   },
   "outputs": [
    {
     "output_type": "execute_result",
     "data": {
      "text/plain": [
       "10846145"
      ]
     },
     "metadata": {},
     "execution_count": 35
    }
   ],
   "source": [
    "df_indo['Population'].iloc[1]\n"
   ]
  },
  {
   "cell_type": "code",
   "execution_count": 36,
   "metadata": {
    "execution": {
     "iopub.execute_input": "2021-04-05T08:55:33.290593Z",
     "iopub.status.busy": "2021-04-05T08:55:33.288579Z",
     "iopub.status.idle": "2021-04-05T08:55:33.308594Z",
     "shell.execute_reply": "2021-04-05T08:55:33.307576Z"
    }
   },
   "outputs": [],
   "source": [
    "## add id from geojson for choropleth Map\n",
    "#########################################\n",
    "# open new geojson (with id) file\n",
    "geojson_indo = 'new_indo_id.geojson'\n",
    "indo_geo_id = json.load(open(geojson_indo, 'r'))\n"
   ]
  },
  {
   "cell_type": "code",
   "execution_count": 37,
   "metadata": {
    "execution": {
     "iopub.execute_input": "2021-04-05T08:55:33.315579Z",
     "iopub.status.busy": "2021-04-05T08:55:33.314583Z",
     "iopub.status.idle": "2021-04-05T08:55:33.319576Z",
     "shell.execute_reply": "2021-04-05T08:55:33.318576Z"
    }
   },
   "outputs": [],
   "source": [
    "# indo_geo_id['features'][7]['id']"
   ]
  },
  {
   "cell_type": "code",
   "execution_count": 38,
   "metadata": {
    "execution": {
     "iopub.execute_input": "2021-04-05T08:55:33.328577Z",
     "iopub.status.busy": "2021-04-05T08:55:33.326578Z",
     "iopub.status.idle": "2021-04-05T08:55:33.332575Z",
     "shell.execute_reply": "2021-04-05T08:55:33.333598Z"
    }
   },
   "outputs": [
    {
     "output_type": "execute_result",
     "data": {
      "text/plain": [
       "['Yogyakarta', 'Bangka-Belitung', 'Jakarta Raya', 'Irian Jaya Barat']"
      ]
     },
     "metadata": {},
     "execution_count": 38
    }
   ],
   "source": [
    "## ADJUST NAMES OF df_indo with NAMES OF GEOJSON ADM1_EN\n",
    "\n",
    "# which names are different\n",
    "names_df = df_indo['Location'].unique()\n",
    "provinces = []\n",
    "for province in indo_geo_id['features']:\n",
    "  provinces.append(province['properties']['state'])\n",
    "\n",
    "list(set(provinces) - set(names_df))"
   ]
  },
  {
   "cell_type": "code",
   "execution_count": 39,
   "metadata": {
    "execution": {
     "iopub.execute_input": "2021-04-05T08:55:33.340578Z",
     "iopub.status.busy": "2021-04-05T08:55:33.339576Z",
     "iopub.status.idle": "2021-04-05T08:55:33.342590Z",
     "shell.execute_reply": "2021-04-05T08:55:33.342590Z"
    }
   },
   "outputs": [],
   "source": [
    "list_df = ['DKI Jakarta', 'Kalimantan Utara', 'Daerah Istimewa Yogyakarta', 'Papua Barat','Kepulauan Bangka Belitung']\n",
    "\n",
    "list(set(provinces) - set(names_df))\n",
    "list1= ['Bangka-Belitung', 'Jakarta Raya', 'Yogyakarta', 'Irian Jaya Barat']\n"
   ]
  },
  {
   "cell_type": "code",
   "execution_count": 40,
   "metadata": {
    "execution": {
     "iopub.execute_input": "2021-04-05T08:55:33.349597Z",
     "iopub.status.busy": "2021-04-05T08:55:33.348603Z",
     "iopub.status.idle": "2021-04-05T08:55:33.382594Z",
     "shell.execute_reply": "2021-04-05T08:55:33.381597Z"
    }
   },
   "outputs": [],
   "source": [
    "# adjust Names of provnices in Indo\n",
    "\n",
    "df_indo = df_indo.replace(\"DKI Jakarta\", 'Jakarta Raya')\n",
    "df_indo = df_indo.replace(\"Papua Barat\", 'Irian Jaya Barat')\n",
    "df_indo = df_indo.replace(\"Daerah Istimewa Yogyakarta\", 'Yogyakarta')\n",
    "df_indo = df_indo.replace(\"Kepulauan Bangka Belitung\", 'Bangka-Belitung')"
   ]
  },
  {
   "cell_type": "code",
   "execution_count": 41,
   "metadata": {
    "execution": {
     "iopub.execute_input": "2021-04-05T08:55:33.389597Z",
     "iopub.status.busy": "2021-04-05T08:55:33.388576Z",
     "iopub.status.idle": "2021-04-05T08:55:33.392603Z",
     "shell.execute_reply": "2021-04-05T08:55:33.392603Z"
    }
   },
   "outputs": [
    {
     "output_type": "execute_result",
     "data": {
      "text/plain": [
       "Index(['Date', 'Location ISO Code', 'Location', 'new_cases', 'new_deaths',\n",
       "       'new_recovered', 'New Active Cases', 'total_cases', 'total_deaths',\n",
       "       'total_recovered', 'Total Active Cases', 'Location Level',\n",
       "       'City or Regency', 'Province', 'Country', 'Continent', 'Island',\n",
       "       'Time Zone', 'Special Status', 'Total Regencies', 'Total Cities',\n",
       "       'Total Districts', 'Total Urban Villages', 'Total Rural Villages',\n",
       "       'Area (km2)', 'Population', 'Population Density', 'Longitude',\n",
       "       'Latitude', 'New Cases per Million', 'Total Cases per Million',\n",
       "       'New Deaths per Million', 'Total Deaths per Million', 'CFR',\n",
       "       'Case Recovered Rate', 'Growth Factor of New Cases',\n",
       "       'Growth Factor of New Deaths'],\n",
       "      dtype='object')"
      ]
     },
     "metadata": {},
     "execution_count": 41
    }
   ],
   "source": [
    "df_indo.columns"
   ]
  },
  {
   "cell_type": "code",
   "execution_count": 42,
   "metadata": {
    "execution": {
     "iopub.execute_input": "2021-04-05T08:55:33.400576Z",
     "iopub.status.busy": "2021-04-05T08:55:33.399572Z",
     "iopub.status.idle": "2021-04-05T08:55:33.406597Z",
     "shell.execute_reply": "2021-04-05T08:55:33.406597Z"
    }
   },
   "outputs": [
    {
     "output_type": "execute_result",
     "data": {
      "text/plain": [
       "array(['Jakarta Raya', 'Indonesia', 'Jawa Barat', 'Riau', 'Banten',\n",
       "       'Sulawesi Tenggara', 'Kalimantan Timur', 'Yogyakarta',\n",
       "       'Sumatera Utara', 'Jawa Tengah', 'Jawa Timur', 'Sulawesi Selatan',\n",
       "       'Jambi', 'Maluku', 'Papua', 'Maluku Utara', 'Aceh',\n",
       "       'Kalimantan Tengah', 'Lampung', 'Sulawesi Tengah',\n",
       "       'Sumatera Barat', 'Irian Jaya Barat', 'Kalimantan Utara',\n",
       "       'Sulawesi Barat', 'Sumatera Selatan', 'Bali', 'Kalimantan Barat',\n",
       "       'Kalimantan Selatan', 'Bangka-Belitung', 'Kepulauan Riau',\n",
       "       'Bengkulu', 'Nusa Tenggara Barat', 'Sulawesi Utara',\n",
       "       'Nusa Tenggara Timur', 'Gorontalo'], dtype=object)"
      ]
     },
     "metadata": {},
     "execution_count": 42
    }
   ],
   "source": [
    "df_indo.Location.unique()"
   ]
  },
  {
   "cell_type": "code",
   "execution_count": 43,
   "metadata": {
    "execution": {
     "iopub.execute_input": "2021-04-05T08:55:33.457576Z",
     "iopub.status.busy": "2021-04-05T08:55:33.423606Z",
     "iopub.status.idle": "2021-04-05T08:55:33.462576Z",
     "shell.execute_reply": "2021-04-05T08:55:33.461588Z"
    }
   },
   "outputs": [
    {
     "output_type": "execute_result",
     "data": {
      "text/plain": [
       "            Date Location ISO Code          Location  new_cases  new_deaths  \\\n",
       "13012 2021-03-28             ID-SS  Sumatera Selatan        101           3   \n",
       "13013 2021-03-28             ID-SU    Sumatera Utara         69           2   \n",
       "\n",
       "       new_recovered  New Active Cases  total_cases  total_deaths  \\\n",
       "13012             77                21        17443           828   \n",
       "13013             37                30        27120           903   \n",
       "\n",
       "       total_recovered  ...  Latitude New Cases per Million  \\\n",
       "13012            15450  ... -3.216212                 12.29   \n",
       "13013            23714  ...  2.191894                  4.64   \n",
       "\n",
       "       Total Cases per Million New Deaths per Million  \\\n",
       "13012                  2122.65                   0.37   \n",
       "13013                  1823.21                   0.13   \n",
       "\n",
       "      Total Deaths per Million    CFR Case Recovered Rate  \\\n",
       "13012                   100.76  4.75%              88.57%   \n",
       "13013                    60.71  3.33%              87.44%   \n",
       "\n",
       "      Growth Factor of New Cases Growth Factor of New Deaths  id  \n",
       "13012                       1.20                        1.50  33  \n",
       "13013                       0.86                        0.67   4  \n",
       "\n",
       "[2 rows x 38 columns]"
      ],
      "text/html": "<div>\n<style scoped>\n    .dataframe tbody tr th:only-of-type {\n        vertical-align: middle;\n    }\n\n    .dataframe tbody tr th {\n        vertical-align: top;\n    }\n\n    .dataframe thead th {\n        text-align: right;\n    }\n</style>\n<table border=\"1\" class=\"dataframe\">\n  <thead>\n    <tr style=\"text-align: right;\">\n      <th></th>\n      <th>Date</th>\n      <th>Location ISO Code</th>\n      <th>Location</th>\n      <th>new_cases</th>\n      <th>new_deaths</th>\n      <th>new_recovered</th>\n      <th>New Active Cases</th>\n      <th>total_cases</th>\n      <th>total_deaths</th>\n      <th>total_recovered</th>\n      <th>...</th>\n      <th>Latitude</th>\n      <th>New Cases per Million</th>\n      <th>Total Cases per Million</th>\n      <th>New Deaths per Million</th>\n      <th>Total Deaths per Million</th>\n      <th>CFR</th>\n      <th>Case Recovered Rate</th>\n      <th>Growth Factor of New Cases</th>\n      <th>Growth Factor of New Deaths</th>\n      <th>id</th>\n    </tr>\n  </thead>\n  <tbody>\n    <tr>\n      <th>13012</th>\n      <td>2021-03-28</td>\n      <td>ID-SS</td>\n      <td>Sumatera Selatan</td>\n      <td>101</td>\n      <td>3</td>\n      <td>77</td>\n      <td>21</td>\n      <td>17443</td>\n      <td>828</td>\n      <td>15450</td>\n      <td>...</td>\n      <td>-3.216212</td>\n      <td>12.29</td>\n      <td>2122.65</td>\n      <td>0.37</td>\n      <td>100.76</td>\n      <td>4.75%</td>\n      <td>88.57%</td>\n      <td>1.20</td>\n      <td>1.50</td>\n      <td>33</td>\n    </tr>\n    <tr>\n      <th>13013</th>\n      <td>2021-03-28</td>\n      <td>ID-SU</td>\n      <td>Sumatera Utara</td>\n      <td>69</td>\n      <td>2</td>\n      <td>37</td>\n      <td>30</td>\n      <td>27120</td>\n      <td>903</td>\n      <td>23714</td>\n      <td>...</td>\n      <td>2.191894</td>\n      <td>4.64</td>\n      <td>1823.21</td>\n      <td>0.13</td>\n      <td>60.71</td>\n      <td>3.33%</td>\n      <td>87.44%</td>\n      <td>0.86</td>\n      <td>0.67</td>\n      <td>4</td>\n    </tr>\n  </tbody>\n</table>\n<p>2 rows × 38 columns</p>\n</div>"
     },
     "metadata": {},
     "execution_count": 43
    }
   ],
   "source": [
    "provinces = []\n",
    "for province in indo_geo_id['features']:\n",
    "  provinces.append(province['properties']['state'])\n",
    "\n",
    "# add id column in df with feature.id from geojson\n",
    "indo_id_map = {}\n",
    "for province in indo_geo_id['features']:\n",
    "  indo_id_map[province['properties']['state']] = province['id']\n",
    "# indo_id_map\n",
    "\n",
    "# ## for Foreigners or Other Regency add 'id' = 0\n",
    "df_indo['id'] = df_indo['Location'].apply(lambda x: indo_id_map[x] if x in indo_id_map else 0)\n",
    "\n",
    "df_indo.tail(2)\n"
   ]
  },
  {
   "source": [
    "## KawalCovid19 Data\n",
    "\n",
    "## get latest Province Data from \n",
    "https://docs.google.com/spreadsheets/d/1ma1T9hWbec1pXlwZ89WakRk-OfVUQZsOCFl4FwZxzVw/edit#gid=2052139453\n",
    "\n",
    "* process and clean\n",
    "* merge with df_indo\n",
    "* update daily\n"
   ],
   "cell_type": "markdown",
   "metadata": {}
  },
  {
   "cell_type": "code",
   "execution_count": 44,
   "metadata": {},
   "outputs": [],
   "source": [
    "df = pd.read_excel('kawalcovid19.xlsx', sheet_name=\"Timeline\")\n"
   ]
  },
  {
   "cell_type": "code",
   "execution_count": 45,
   "metadata": {},
   "outputs": [],
   "source": [
    "# df.head()"
   ]
  },
  {
   "cell_type": "code",
   "execution_count": 46,
   "metadata": {},
   "outputs": [],
   "source": [
    "## transform excel sheet to timeseries table (columns: Data, Province, total_cases, daily_cases, active_cases etc.)\n",
    "case_type = ['Total Kasus', 'Kasus Harian', 'Kasus Aktif', 'Sembuh', 'Sembuh Harian', 'Meninggal Dunia', 'Meninggal Dunia Harian', 'Meninggal Dunia Harian']"
   ]
  },
  {
   "cell_type": "code",
   "execution_count": 47,
   "metadata": {},
   "outputs": [],
   "source": [
    "# extract df for each case-type\n",
    "##################################\n",
    "\n",
    "# replace all NaN with 0\n",
    "# delete empty rows\n",
    "# adjust header\n",
    "# extract for each Province, add Province Name and merge, and sort by date\n",
    "\n",
    "df_totalKasus = df.iloc[:df.loc[df['Total Kasus'].str.contains('Kasus Harian', na=False)].index[0]]\n",
    "df_totalKasus = df_totalKasus.rename(columns={'Total Kasus': \"Date\"})\n",
    "df_totalKasus= df_totalKasus.fillna(0)\n",
    "df_totalKasus.set_index('Date', inplace=True)\n",
    "df_totalKasus= df_totalKasus[:-1]\n",
    "df_totalKasus = df_totalKasus.drop(['?', 'Unnamed: 36'], axis=1)\n",
    "\n",
    "df_kasusHarian = df.iloc[df.loc[df['Total Kasus'].str.contains('Kasus Harian', na=False)].index[0]:df.loc[df['Total Kasus'].str.contains('Kasus Aktif', na=False)].index[0]]\n",
    "df_kasusHarian = df_kasusHarian.rename(columns={'Total Kasus': \"Date\"})\n",
    "df_kasusHarian= df_kasusHarian.fillna(0)\n",
    "df_kasusHarian.set_index('Date', inplace=True)\n",
    "df_kasusHarian= df_kasusHarian[1:-1]\n",
    "df_kasusHarian = df_kasusHarian.drop(['?', 'Unnamed: 36'], axis=1)\n",
    "\n",
    "df_kasusAktif = df.iloc[df.loc[df['Total Kasus'].str.contains('Kasus Aktif', na=False)].index[0]:df.loc[df['Total Kasus'].str.contains('Sembuh', na=False)].index[0]]\n",
    "df_kasusAktif = df_kasusAktif.rename(columns={'Total Kasus': \"Date\"})\n",
    "df_kasusAktif= df_kasusAktif.fillna(0)\n",
    "df_kasusAktif.set_index('Date', inplace=True)\n",
    "df_kasusAktif= df_kasusAktif[1:-1]\n",
    "df_kasusAktif = df_kasusAktif.drop(['?', 'Unnamed: 36'], axis=1)\n",
    "\n",
    "df_sembuh = df.iloc[df.loc[df['Total Kasus'].str.contains('Sembuh', na=False)].index[0]:df.loc[df['Total Kasus'].str.contains('Sembuh Harian', na=False)].index[0]]\n",
    "df_sembuh = df_sembuh.rename(columns={'Total Kasus': \"Date\"})\n",
    "df_sembuh= df_sembuh.fillna(0)\n",
    "df_sembuh.set_index('Date', inplace=True)\n",
    "df_sembuh= df_sembuh[1:-1]\n",
    "df_sembuh = df_sembuh.drop(['?', 'Unnamed: 36'], axis=1)\n",
    "\n",
    "df_sembuhHarian = df.iloc[df.loc[df['Total Kasus'].str.contains('Sembuh Harian', na=False)].index[0]:df.loc[df['Total Kasus'].str.contains('Meninggal Dunia', na=False)].index[0]]\n",
    "df_sembuhHarian = df_sembuhHarian.rename(columns={'Total Kasus': \"Date\"})\n",
    "df_sembuhHarian= df_sembuhHarian.fillna(0)\n",
    "df_sembuhHarian.set_index('Date', inplace=True)\n",
    "df_sembuhHarian= df_sembuhHarian[1:-1]\n",
    "df_sembuhHarian = df_sembuhHarian.drop(['?', 'Unnamed: 36'], axis=1)\n",
    "\n",
    "df_meninggalDunia = df.iloc[df.loc[df['Total Kasus'].str.contains('Meninggal Dunia', na=False)].index[0]:df.loc[df['Total Kasus'].str.contains('Meninggal Dunia Harian', na=False)].index[0]]\n",
    "df_meninggalDunia = df_meninggalDunia.rename(columns={'Total Kasus': \"Date\"})\n",
    "df_meninggalDunia= df_meninggalDunia.fillna(0)\n",
    "df_meninggalDunia.set_index('Date', inplace=True)\n",
    "df_meninggalDunia= df_meninggalDunia[1:-1]\n",
    "df_meninggalDunia = df_meninggalDunia.drop(['?', 'Unnamed: 36'], axis=1)\n",
    "\n",
    "df_meninggalDuniaHarian = df.iloc[df.loc[df['Total Kasus'].str.contains('Meninggal Dunia Harian', na=False)].index[0]:df.loc[df['Total Kasus'].str.contains('Meninggal Dunia Harian', na=False)].index[1]]\n",
    "df_meninggalDuniaHarian = df_meninggalDuniaHarian.rename(columns={'Total Kasus': \"Date\"})\n",
    "df_meninggalDuniaHarian= df_meninggalDuniaHarian.fillna(0)\n",
    "df_meninggalDuniaHarian.set_index('Date', inplace=True)\n",
    "df_meninggalDuniaHarian= df_meninggalDuniaHarian[1:-3]\n",
    "df_meninggalDuniaHarian = df_meninggalDuniaHarian.drop(['?', 'Unnamed: 36'], axis=1)\n",
    "\n",
    "dfs = [df_totalKasus, df_kasusHarian, df_kasusAktif, df_sembuh, df_sembuhHarian, df_meninggalDunia, df_meninggalDuniaHarian]\n",
    "dfs_names = [\"df_totalKasus\", \"df_kasusHarian\", \"df_kasusAktif\", \"df_sembuh\",\"df_sembuhHarian\", \"df_meninggalDunia\", \"df_meninggalDuniaHarian\"]\n",
    "dfs_type = [\"totalKasus\", \"kasusHarian\", \"kasusAktif\", \"sembuh\",\"sembuhHarian\", \"meninggalDunia\", \"meninggalDuniaHarian\"]"
   ]
  },
  {
   "cell_type": "code",
   "execution_count": 48,
   "metadata": {},
   "outputs": [
    {
     "output_type": "execute_result",
     "data": {
      "text/plain": [
       "Index(['Aceh', 'Bali', 'Banten', 'Babel', 'Bengkulu', 'DIY', 'Jakarta',\n",
       "       'Jambi', 'Jabar', 'Jateng', 'Jatim', 'Kalbar', 'Kaltim', 'Kalteng',\n",
       "       'Kalsel', 'Kaltara', 'Kep Riau', 'NTB', 'Sumsel', 'Sumbar', 'Sulut',\n",
       "       'Sumut', 'Sultra', 'Sulsel', 'Sulteng', 'Lampung', 'Riau', 'Malut',\n",
       "       'Maluku', 'Papbar', 'Papua', 'Sulbar', 'NTT', 'Gorontalo'],\n",
       "      dtype='object')"
      ]
     },
     "metadata": {},
     "execution_count": 48
    }
   ],
   "source": [
    "column_names = df_totalKasus.columns\n",
    "# column_names"
   ]
  },
  {
   "cell_type": "code",
   "execution_count": 49,
   "metadata": {},
   "outputs": [],
   "source": [
    "## First Dataframe - Total Cases per Province\n",
    "\n",
    "df_totKasus = pd.DataFrame({'Province': [0], \"Total Kasus\":[0]})\n",
    "for i, province in enumerate(column_names):\n",
    "    case_numbers = df_totalKasus[province]\n",
    "    df_x = pd.DataFrame({'Province': case_numbers, \"Total Kasus\": case_numbers })\n",
    "    df_x[\"Province\"] = column_names[i]\n",
    "    # df_x['Total Kasus'] = df_totalKasus[province]\n",
    "    if i == 0:\n",
    "        df_totKasus = df_x\n",
    "    else:\n",
    "        df_totKasus = df_totKasus.append(df_x)"
   ]
  },
  {
   "cell_type": "code",
   "execution_count": 50,
   "metadata": {},
   "outputs": [
    {
     "output_type": "stream",
     "name": "stdout",
     "text": [
      "(13736, 2)\n"
     ]
    },
    {
     "output_type": "execute_result",
     "data": {
      "text/plain": [
       "        Date Province  Total Kasus\n",
       "0 2020-03-18     Aceh            0\n",
       "1 2020-03-19     Aceh            0\n",
       "2 2020-03-20     Aceh            0\n",
       "3 2020-03-21     Aceh            0\n",
       "4 2020-03-22     Aceh            0"
      ],
      "text/html": "<div>\n<style scoped>\n    .dataframe tbody tr th:only-of-type {\n        vertical-align: middle;\n    }\n\n    .dataframe tbody tr th {\n        vertical-align: top;\n    }\n\n    .dataframe thead th {\n        text-align: right;\n    }\n</style>\n<table border=\"1\" class=\"dataframe\">\n  <thead>\n    <tr style=\"text-align: right;\">\n      <th></th>\n      <th>Date</th>\n      <th>Province</th>\n      <th>Total Kasus</th>\n    </tr>\n  </thead>\n  <tbody>\n    <tr>\n      <th>0</th>\n      <td>2020-03-18</td>\n      <td>Aceh</td>\n      <td>0</td>\n    </tr>\n    <tr>\n      <th>1</th>\n      <td>2020-03-19</td>\n      <td>Aceh</td>\n      <td>0</td>\n    </tr>\n    <tr>\n      <th>2</th>\n      <td>2020-03-20</td>\n      <td>Aceh</td>\n      <td>0</td>\n    </tr>\n    <tr>\n      <th>3</th>\n      <td>2020-03-21</td>\n      <td>Aceh</td>\n      <td>0</td>\n    </tr>\n    <tr>\n      <th>4</th>\n      <td>2020-03-22</td>\n      <td>Aceh</td>\n      <td>0</td>\n    </tr>\n  </tbody>\n</table>\n</div>"
     },
     "metadata": {},
     "execution_count": 50
    }
   ],
   "source": [
    "print(df_totKasus.shape)\n",
    "df_totKasus1 = df_totKasus.reset_index()\n",
    "# df_totKasus1.head()"
   ]
  },
  {
   "cell_type": "code",
   "execution_count": 51,
   "metadata": {},
   "outputs": [],
   "source": [
    "## since memory error split dataframes (only with join)\n",
    "## learning: if not merge on index -> use .merge() 2) reset_index() get datetime out of index first\n",
    "\n",
    "dfs1 =dfs[1:]\n",
    "df_total = pd.DataFrame({\"Date\": [0], 'Province': [0], dfs_type[0]:[0]})\n",
    "\n",
    "for index, df in enumerate(dfs1):\n",
    "    count = index + 1\n",
    "    df_name = dfs_names[index+1]+'Clean'\n",
    "    df_name = pd.DataFrame({\"Date\": [0], 'Province': [0], dfs_type[count]:[0]})\n",
    "    for i, province in enumerate(column_names):\n",
    "        case_numbers = df[province]\n",
    "        df_x = pd.DataFrame({'Province': case_numbers, dfs_type[count]: case_numbers })\n",
    "        df_x[\"Province\"] = column_names[i]\n",
    "        if i == 0:\n",
    "            df_name = df_x\n",
    "        else:\n",
    "            df_name = df_name.append(df_x)\n",
    "\n",
    "    df_name = df_name.reset_index()\n",
    "    if index == 0:\n",
    "        df_total = df_name\n",
    "    else:\n",
    "        df_total = pd.merge(df_total, df_name, on=['Date', 'Province'])   "
   ]
  },
  {
   "cell_type": "code",
   "execution_count": 52,
   "metadata": {},
   "outputs": [
    {
     "output_type": "stream",
     "name": "stdout",
     "text": [
      "2020-03-21 00:00:00\n"
     ]
    },
    {
     "output_type": "execute_result",
     "data": {
      "text/plain": [
       "           Date Province kasusHarian kasusAktif sembuh sembuhHarian  \\\n",
       "0    2020-03-21     Aceh           0          0      0            0   \n",
       "9950 2020-03-21  Lampung           0          1      0            0   \n",
       "9552 2020-03-21  Sulteng           0          0      0            0   \n",
       "9154 2020-03-21   Sulsel           2          2      0            0   \n",
       "8756 2020-03-21   Sultra           0          3      0            0   \n",
       "\n",
       "     meninggalDunia meninggalDuniaHarian  \n",
       "0                 0                    0  \n",
       "9950              0                    0  \n",
       "9552              0                    0  \n",
       "9154              0                    0  \n",
       "8756              0                    0  "
      ],
      "text/html": "<div>\n<style scoped>\n    .dataframe tbody tr th:only-of-type {\n        vertical-align: middle;\n    }\n\n    .dataframe tbody tr th {\n        vertical-align: top;\n    }\n\n    .dataframe thead th {\n        text-align: right;\n    }\n</style>\n<table border=\"1\" class=\"dataframe\">\n  <thead>\n    <tr style=\"text-align: right;\">\n      <th></th>\n      <th>Date</th>\n      <th>Province</th>\n      <th>kasusHarian</th>\n      <th>kasusAktif</th>\n      <th>sembuh</th>\n      <th>sembuhHarian</th>\n      <th>meninggalDunia</th>\n      <th>meninggalDuniaHarian</th>\n    </tr>\n  </thead>\n  <tbody>\n    <tr>\n      <th>0</th>\n      <td>2020-03-21</td>\n      <td>Aceh</td>\n      <td>0</td>\n      <td>0</td>\n      <td>0</td>\n      <td>0</td>\n      <td>0</td>\n      <td>0</td>\n    </tr>\n    <tr>\n      <th>9950</th>\n      <td>2020-03-21</td>\n      <td>Lampung</td>\n      <td>0</td>\n      <td>1</td>\n      <td>0</td>\n      <td>0</td>\n      <td>0</td>\n      <td>0</td>\n    </tr>\n    <tr>\n      <th>9552</th>\n      <td>2020-03-21</td>\n      <td>Sulteng</td>\n      <td>0</td>\n      <td>0</td>\n      <td>0</td>\n      <td>0</td>\n      <td>0</td>\n      <td>0</td>\n    </tr>\n    <tr>\n      <th>9154</th>\n      <td>2020-03-21</td>\n      <td>Sulsel</td>\n      <td>2</td>\n      <td>2</td>\n      <td>0</td>\n      <td>0</td>\n      <td>0</td>\n      <td>0</td>\n    </tr>\n    <tr>\n      <th>8756</th>\n      <td>2020-03-21</td>\n      <td>Sultra</td>\n      <td>0</td>\n      <td>3</td>\n      <td>0</td>\n      <td>0</td>\n      <td>0</td>\n      <td>0</td>\n    </tr>\n  </tbody>\n</table>\n</div>"
     },
     "metadata": {},
     "execution_count": 52
    }
   ],
   "source": [
    "## sort_dates\n",
    "# check if datetime format correct\n",
    "print(df_total['Date'].iloc[0])\n",
    "df_total = df_total.sort_values(by=\"Date\")\n",
    "# df_total.head()"
   ]
  },
  {
   "cell_type": "code",
   "execution_count": 53,
   "metadata": {},
   "outputs": [
    {
     "output_type": "execute_result",
     "data": {
      "text/plain": [
       "            Date   Province kasusHarian kasusAktif sembuh sembuhHarian  \\\n",
       "13527 2021-04-23     Maluku           8        349   7042           11   \n",
       "13528 2021-04-23     Papbar          24        371   8292           18   \n",
       "13529 2021-04-23      Papua           8       8923  11149            3   \n",
       "13530 2021-04-23    Kaltara          19        557  10885           14   \n",
       "13531 2021-04-23  Gorontalo           2        194   4985            2   \n",
       "\n",
       "      meninggalDunia meninggalDuniaHarian  Total Kasus  \n",
       "13527            116                    0         7507  \n",
       "13528            144                    0         8807  \n",
       "13529            207                    0        20279  \n",
       "13530            186                    0        11628  \n",
       "13531            161                    0         5340  "
      ],
      "text/html": "<div>\n<style scoped>\n    .dataframe tbody tr th:only-of-type {\n        vertical-align: middle;\n    }\n\n    .dataframe tbody tr th {\n        vertical-align: top;\n    }\n\n    .dataframe thead th {\n        text-align: right;\n    }\n</style>\n<table border=\"1\" class=\"dataframe\">\n  <thead>\n    <tr style=\"text-align: right;\">\n      <th></th>\n      <th>Date</th>\n      <th>Province</th>\n      <th>kasusHarian</th>\n      <th>kasusAktif</th>\n      <th>sembuh</th>\n      <th>sembuhHarian</th>\n      <th>meninggalDunia</th>\n      <th>meninggalDuniaHarian</th>\n      <th>Total Kasus</th>\n    </tr>\n  </thead>\n  <tbody>\n    <tr>\n      <th>13527</th>\n      <td>2021-04-23</td>\n      <td>Maluku</td>\n      <td>8</td>\n      <td>349</td>\n      <td>7042</td>\n      <td>11</td>\n      <td>116</td>\n      <td>0</td>\n      <td>7507</td>\n    </tr>\n    <tr>\n      <th>13528</th>\n      <td>2021-04-23</td>\n      <td>Papbar</td>\n      <td>24</td>\n      <td>371</td>\n      <td>8292</td>\n      <td>18</td>\n      <td>144</td>\n      <td>0</td>\n      <td>8807</td>\n    </tr>\n    <tr>\n      <th>13529</th>\n      <td>2021-04-23</td>\n      <td>Papua</td>\n      <td>8</td>\n      <td>8923</td>\n      <td>11149</td>\n      <td>3</td>\n      <td>207</td>\n      <td>0</td>\n      <td>20279</td>\n    </tr>\n    <tr>\n      <th>13530</th>\n      <td>2021-04-23</td>\n      <td>Kaltara</td>\n      <td>19</td>\n      <td>557</td>\n      <td>10885</td>\n      <td>14</td>\n      <td>186</td>\n      <td>0</td>\n      <td>11628</td>\n    </tr>\n    <tr>\n      <th>13531</th>\n      <td>2021-04-23</td>\n      <td>Gorontalo</td>\n      <td>2</td>\n      <td>194</td>\n      <td>4985</td>\n      <td>2</td>\n      <td>161</td>\n      <td>0</td>\n      <td>5340</td>\n    </tr>\n  </tbody>\n</table>\n</div>"
     },
     "metadata": {},
     "execution_count": 53
    }
   ],
   "source": [
    "# merge with total Kasus df from before\n",
    "df_total = pd.merge(df_total, df_totKasus1, on=['Date', 'Province'])\n",
    "# df_total.tail() "
   ]
  },
  {
   "cell_type": "code",
   "execution_count": 54,
   "metadata": {},
   "outputs": [
    {
     "output_type": "execute_result",
     "data": {
      "text/plain": [
       "array(['Aceh', 'Lampung', 'Sulteng', 'Sulsel', 'Sultra', 'Sumut', 'NTT',\n",
       "       'Sulut', 'Sumbar', 'Sumsel', 'NTB', 'Kep Riau', 'Kaltara', 'Riau',\n",
       "       'Kalsel', 'Kaltim', 'Kalbar', 'Gorontalo', 'Jatim', 'Jateng',\n",
       "       'Jabar', 'Jambi', 'Jakarta', 'DIY', 'Bengkulu', 'Babel', 'Banten',\n",
       "       'Kalteng', 'Malut', 'Bali', 'Maluku', 'Papua', 'Sulbar', 'Papbar'],\n",
       "      dtype=object)"
      ]
     },
     "metadata": {},
     "execution_count": 54
    }
   ],
   "source": [
    "# adjust Province Names\n",
    "df_total['Province'].unique()"
   ]
  },
  {
   "cell_type": "code",
   "execution_count": 55,
   "metadata": {},
   "outputs": [],
   "source": [
    "# adjust Province Names\n",
    "indo_slang_prov_names = ['Aceh', 'Bali', 'Maluku', 'Sulbar', 'Malut', 'Banten', 'Riau',\n",
    "       'Lampung', 'Babel', 'Sulteng', 'Sulsel', 'Bengkulu', 'Sultra',\n",
    "       'Sumut', 'DIY', 'Papbar', 'Sulut', 'NTT', 'Jakarta', 'Sumsel',\n",
    "       'NTB', 'Jambi', 'Kep Riau', 'Jabar', 'Kaltara', 'Kalsel',\n",
    "       'Gorontalo', 'Jateng', 'Kalteng', 'Kaltim', 'Jatim', 'Sumbar',\n",
    "       'Papua', 'Kalbar']\n",
    "\n",
    "# from previous Indo-province dataset\n",
    "correct_prov_names = ['Jakarta Raya', 'Indonesia', 'Jawa Barat', 'Riau', 'Banten',\n",
    "       'Sulawesi Tenggara', 'Kalimantan Timur', 'Yogyakarta',\n",
    "       'Sumatera Utara', 'Jawa Tengah', 'Jawa Timur', 'Sulawesi Selatan',\n",
    "       'Maluku', 'Papua', 'Maluku Utara', 'Aceh', 'Kalimantan Tengah',\n",
    "       'Lampung', 'Sulawesi Tengah', 'Sumatera Barat', 'Irian Jaya Barat',\n",
    "       'Kalimantan Utara', 'Sulawesi Barat', 'Sumatera Selatan', 'Bali',\n",
    "       'Kalimantan Barat', 'Jambi', 'Kalimantan Selatan',\n",
    "       'Bangka-Belitung', 'Kepulauan Riau', 'Bengkulu',\n",
    "       'Nusa Tenggara Barat', 'Nusa Tenggara Timur',\n",
    "       'Gorontalo']\n"
   ]
  },
  {
   "cell_type": "code",
   "execution_count": 56,
   "metadata": {},
   "outputs": [
    {
     "output_type": "stream",
     "name": "stdout",
     "text": [
      "['Kalsel', 'NTB', 'Jatim', 'Sulteng', 'Sulut', 'Sumbar', 'Sumsel', 'Sulsel', 'DIY', 'Sumut', 'Sulbar', 'Kalbar', 'Papbar', 'Jakarta', 'Jateng', 'Kalteng', 'Kaltim', 'NTT', 'Sultra', 'Jabar', 'Kep Riau', 'Babel', 'Malut', 'Kaltara']\n"
     ]
    }
   ],
   "source": [
    "# print names which are different in both dfs and make same\n",
    "print(list(set(indo_slang_prov_names) - set(correct_prov_names)))\n",
    "\n",
    "# adjust column names\n",
    "df_total = df_total.replace({\n",
    "    'Sultra': 'Sulawesi Utara',\n",
    "    \"Jakarta\": 'Jakarta Raya',\n",
    "    \"Kalteng\": 'Kalimantan Tengah',\n",
    "    'Sulsel': 'Sulawesi Selatan',\n",
    "    'Sulut': 'Sulawesi Utara',\n",
    "    'Kaltim': \"Kalimantan Timur\", 'Kalsel': 'Kalimantan Selatan','Malut': 'Maluku Utara','Sumsel': 'Sumatera Barat','NTT': 'Nusa Tenggara Timur','Kalbar': 'Kalimantan Barat','Jateng': 'Jawa Tengah','Kep Riau': 'Kepulauan Riau','Kaltara': 'Kalimantan Utara','Sulbar': 'Sulawesi Barat','Babel': 'Bangka-Belitung','Jatim': \"Jawa Timur\",'Sumbar': 'Sumatera Barat',\"Sumut\": 'Sumatera Utara','Jabar': 'Jawa Barat','NTB': 'Nusa Tenggara Barat','DIY': 'Yogyakarta','Sulteng': 'Sulawesi Tengah','Papbar': 'Papua','Jakarta': 'Jakarta Raya'})\n"
   ]
  },
  {
   "cell_type": "code",
   "execution_count": 57,
   "metadata": {},
   "outputs": [
    {
     "output_type": "execute_result",
     "data": {
      "text/plain": [
       "Index(['Date', 'Province', 'kasusHarian', 'kasusAktif', 'sembuh',\n",
       "       'sembuhHarian', 'meninggalDunia', 'meninggalDuniaHarian',\n",
       "       'Total Kasus'],\n",
       "      dtype='object')"
      ]
     },
     "metadata": {},
     "execution_count": 57
    }
   ],
   "source": [
    "df_total.columns"
   ]
  },
  {
   "cell_type": "code",
   "execution_count": 58,
   "metadata": {},
   "outputs": [
    {
     "output_type": "execute_result",
     "data": {
      "text/plain": [
       "            Date          Province  new_cases  active_cases  total_recovered  \\\n",
       "13527 2021-04-23            Maluku          8           349             7042   \n",
       "13528 2021-04-23             Papua         24           371             8292   \n",
       "13529 2021-04-23             Papua          8          8923            11149   \n",
       "13530 2021-04-23  Kalimantan Utara         19           557            10885   \n",
       "13531 2021-04-23         Gorontalo          2           194             4985   \n",
       "\n",
       "       new_recovered  total_deaths  new_deaths  total_cases  \n",
       "13527             11           116           0         7507  \n",
       "13528             18           144           0         8807  \n",
       "13529              3           207           0        20279  \n",
       "13530             14           186           0        11628  \n",
       "13531              2           161           0         5340  "
      ],
      "text/html": "<div>\n<style scoped>\n    .dataframe tbody tr th:only-of-type {\n        vertical-align: middle;\n    }\n\n    .dataframe tbody tr th {\n        vertical-align: top;\n    }\n\n    .dataframe thead th {\n        text-align: right;\n    }\n</style>\n<table border=\"1\" class=\"dataframe\">\n  <thead>\n    <tr style=\"text-align: right;\">\n      <th></th>\n      <th>Date</th>\n      <th>Province</th>\n      <th>new_cases</th>\n      <th>active_cases</th>\n      <th>total_recovered</th>\n      <th>new_recovered</th>\n      <th>total_deaths</th>\n      <th>new_deaths</th>\n      <th>total_cases</th>\n    </tr>\n  </thead>\n  <tbody>\n    <tr>\n      <th>13527</th>\n      <td>2021-04-23</td>\n      <td>Maluku</td>\n      <td>8</td>\n      <td>349</td>\n      <td>7042</td>\n      <td>11</td>\n      <td>116</td>\n      <td>0</td>\n      <td>7507</td>\n    </tr>\n    <tr>\n      <th>13528</th>\n      <td>2021-04-23</td>\n      <td>Papua</td>\n      <td>24</td>\n      <td>371</td>\n      <td>8292</td>\n      <td>18</td>\n      <td>144</td>\n      <td>0</td>\n      <td>8807</td>\n    </tr>\n    <tr>\n      <th>13529</th>\n      <td>2021-04-23</td>\n      <td>Papua</td>\n      <td>8</td>\n      <td>8923</td>\n      <td>11149</td>\n      <td>3</td>\n      <td>207</td>\n      <td>0</td>\n      <td>20279</td>\n    </tr>\n    <tr>\n      <th>13530</th>\n      <td>2021-04-23</td>\n      <td>Kalimantan Utara</td>\n      <td>19</td>\n      <td>557</td>\n      <td>10885</td>\n      <td>14</td>\n      <td>186</td>\n      <td>0</td>\n      <td>11628</td>\n    </tr>\n    <tr>\n      <th>13531</th>\n      <td>2021-04-23</td>\n      <td>Gorontalo</td>\n      <td>2</td>\n      <td>194</td>\n      <td>4985</td>\n      <td>2</td>\n      <td>161</td>\n      <td>0</td>\n      <td>5340</td>\n    </tr>\n  </tbody>\n</table>\n</div>"
     },
     "metadata": {},
     "execution_count": 58
    }
   ],
   "source": [
    "#adjust column names\n",
    "new_col_names = ['Date', 'Province', 'new_cases', 'active_cases', 'total_recovered', 'new_recovered', 'total_deaths', 'new_deaths', 'total_cases']\n",
    "df_total.columns = new_col_names\n",
    "df_total.tail()"
   ]
  },
  {
   "cell_type": "code",
   "execution_count": 59,
   "metadata": {},
   "outputs": [
    {
     "output_type": "execute_result",
     "data": {
      "text/plain": [
       "                Location Location Level  City or Regency    Country Continent  \\\n",
       "13009  Sulawesi Tenggara       Province              NaN  Indonesia      Asia   \n",
       "13010     Sulawesi Utara       Province              NaN  Indonesia      Asia   \n",
       "13011     Sumatera Barat       Province              NaN  Indonesia      Asia   \n",
       "13012   Sumatera Selatan       Province              NaN  Indonesia      Asia   \n",
       "13013     Sumatera Utara       Province              NaN  Indonesia      Asia   \n",
       "\n",
       "         Island  Time Zone Special Status  Total Regencies  Total Cities  \\\n",
       "13009  Sulawesi  UTC+08:00            NaN               15           2.0   \n",
       "13010  Sulawesi  UTC+08:00            NaN               11           4.0   \n",
       "13011  Sumatera  UTC+07:00            NaN               12           7.0   \n",
       "13012  Sumatera  UTC+07:00            NaN               13           4.0   \n",
       "13013  Sumatera  UTC+07:00            NaN               25           8.0   \n",
       "\n",
       "       Total Districts  Total Urban Villages  Total Rural Villages  \\\n",
       "13009              219                 377.0                1911.0   \n",
       "13010              171                 332.0                1507.0   \n",
       "13011              179                 230.0                 928.0   \n",
       "13012              241                 387.0                2853.0   \n",
       "13013              450                 693.0                5417.0   \n",
       "\n",
       "       Area (km2)  Population  Population Density   Longitude  Latitude  id  \n",
       "13009       38068     2635461               69.23  122.070311 -4.124689  23  \n",
       "13010       13892     2641884              190.17  124.521240  1.259638  22  \n",
       "13011       42013     5519245              131.37  100.465062 -0.850253   2  \n",
       "13012       91592     8217551               89.72  104.169465 -3.216212  33  \n",
       "13013       72981    14874889              203.82   99.051964  2.191894   4  "
      ],
      "text/html": "<div>\n<style scoped>\n    .dataframe tbody tr th:only-of-type {\n        vertical-align: middle;\n    }\n\n    .dataframe tbody tr th {\n        vertical-align: top;\n    }\n\n    .dataframe thead th {\n        text-align: right;\n    }\n</style>\n<table border=\"1\" class=\"dataframe\">\n  <thead>\n    <tr style=\"text-align: right;\">\n      <th></th>\n      <th>Location</th>\n      <th>Location Level</th>\n      <th>City or Regency</th>\n      <th>Country</th>\n      <th>Continent</th>\n      <th>Island</th>\n      <th>Time Zone</th>\n      <th>Special Status</th>\n      <th>Total Regencies</th>\n      <th>Total Cities</th>\n      <th>Total Districts</th>\n      <th>Total Urban Villages</th>\n      <th>Total Rural Villages</th>\n      <th>Area (km2)</th>\n      <th>Population</th>\n      <th>Population Density</th>\n      <th>Longitude</th>\n      <th>Latitude</th>\n      <th>id</th>\n    </tr>\n  </thead>\n  <tbody>\n    <tr>\n      <th>13009</th>\n      <td>Sulawesi Tenggara</td>\n      <td>Province</td>\n      <td>NaN</td>\n      <td>Indonesia</td>\n      <td>Asia</td>\n      <td>Sulawesi</td>\n      <td>UTC+08:00</td>\n      <td>NaN</td>\n      <td>15</td>\n      <td>2.0</td>\n      <td>219</td>\n      <td>377.0</td>\n      <td>1911.0</td>\n      <td>38068</td>\n      <td>2635461</td>\n      <td>69.23</td>\n      <td>122.070311</td>\n      <td>-4.124689</td>\n      <td>23</td>\n    </tr>\n    <tr>\n      <th>13010</th>\n      <td>Sulawesi Utara</td>\n      <td>Province</td>\n      <td>NaN</td>\n      <td>Indonesia</td>\n      <td>Asia</td>\n      <td>Sulawesi</td>\n      <td>UTC+08:00</td>\n      <td>NaN</td>\n      <td>11</td>\n      <td>4.0</td>\n      <td>171</td>\n      <td>332.0</td>\n      <td>1507.0</td>\n      <td>13892</td>\n      <td>2641884</td>\n      <td>190.17</td>\n      <td>124.521240</td>\n      <td>1.259638</td>\n      <td>22</td>\n    </tr>\n    <tr>\n      <th>13011</th>\n      <td>Sumatera Barat</td>\n      <td>Province</td>\n      <td>NaN</td>\n      <td>Indonesia</td>\n      <td>Asia</td>\n      <td>Sumatera</td>\n      <td>UTC+07:00</td>\n      <td>NaN</td>\n      <td>12</td>\n      <td>7.0</td>\n      <td>179</td>\n      <td>230.0</td>\n      <td>928.0</td>\n      <td>42013</td>\n      <td>5519245</td>\n      <td>131.37</td>\n      <td>100.465062</td>\n      <td>-0.850253</td>\n      <td>2</td>\n    </tr>\n    <tr>\n      <th>13012</th>\n      <td>Sumatera Selatan</td>\n      <td>Province</td>\n      <td>NaN</td>\n      <td>Indonesia</td>\n      <td>Asia</td>\n      <td>Sumatera</td>\n      <td>UTC+07:00</td>\n      <td>NaN</td>\n      <td>13</td>\n      <td>4.0</td>\n      <td>241</td>\n      <td>387.0</td>\n      <td>2853.0</td>\n      <td>91592</td>\n      <td>8217551</td>\n      <td>89.72</td>\n      <td>104.169465</td>\n      <td>-3.216212</td>\n      <td>33</td>\n    </tr>\n    <tr>\n      <th>13013</th>\n      <td>Sumatera Utara</td>\n      <td>Province</td>\n      <td>NaN</td>\n      <td>Indonesia</td>\n      <td>Asia</td>\n      <td>Sumatera</td>\n      <td>UTC+07:00</td>\n      <td>NaN</td>\n      <td>25</td>\n      <td>8.0</td>\n      <td>450</td>\n      <td>693.0</td>\n      <td>5417.0</td>\n      <td>72981</td>\n      <td>14874889</td>\n      <td>203.82</td>\n      <td>99.051964</td>\n      <td>2.191894</td>\n      <td>4</td>\n    </tr>\n  </tbody>\n</table>\n</div>"
     },
     "metadata": {},
     "execution_count": 59
    }
   ],
   "source": [
    "# Get previous Indo_df with selected columns and merge with df_total Indo Province \n",
    "# use only selected columns\n",
    "cols = ['Location', 'Location Level', 'City or Regency', 'Country', 'Continent',\n",
    "       'Island', 'Time Zone', 'Special Status', 'Total Regencies',\n",
    "       'Total Cities', 'Total Districts', 'Total Urban Villages',\n",
    "       'Total Rural Villages', 'Area (km2)', 'Population',\n",
    "       'Population Density', 'Longitude', 'Latitude','id']\n",
    "df_indo_small = df_indo[cols]\n",
    "df_indo_small.tail()"
   ]
  },
  {
   "cell_type": "code",
   "execution_count": 60,
   "metadata": {},
   "outputs": [
    {
     "output_type": "stream",
     "name": "stdout",
     "text": [
      "(13014, 19) (13532, 9)\n"
     ]
    }
   ],
   "source": [
    "print(df_indo_small.shape, df_total.shape)"
   ]
  },
  {
   "cell_type": "code",
   "execution_count": 61,
   "metadata": {},
   "outputs": [
    {
     "output_type": "execute_result",
     "data": {
      "text/plain": [
       "(35, 19)"
      ]
     },
     "metadata": {},
     "execution_count": 61
    }
   ],
   "source": [
    "df_indo_small = df_indo_small.drop_duplicates(subset='Location')\n",
    "df_indo_small.shape"
   ]
  },
  {
   "cell_type": "code",
   "execution_count": 62,
   "metadata": {},
   "outputs": [
    {
     "output_type": "stream",
     "name": "stdout",
     "text": [
      "[]\n"
     ]
    }
   ],
   "source": [
    "# check if same Province Names\n",
    "print(list(set(df_total.Province.unique()) - set(df_indo_small.Location.unique())))"
   ]
  },
  {
   "cell_type": "code",
   "execution_count": 63,
   "metadata": {},
   "outputs": [
    {
     "output_type": "execute_result",
     "data": {
      "text/plain": [
       "            Date          Province  new_cases  active_cases  total_recovered  \\\n",
       "11541 2021-04-23      Maluku Utara          3           190             4092   \n",
       "11939 2021-04-23              Bali        138          1374            41124   \n",
       "12337 2021-04-23            Maluku          8           349             7042   \n",
       "6367  2021-04-23  Kalimantan Timur        188          2017            63954   \n",
       "13531 2021-04-23    Sulawesi Barat          2            84             5232   \n",
       "\n",
       "       new_recovered  total_deaths  new_deaths  total_cases          Location  \\\n",
       "11541              6           120           0         4402      Maluku Utara   \n",
       "11939            147          1293          10        43791              Bali   \n",
       "12337             11           116           0         7507            Maluku   \n",
       "6367             181          1611           3        67582  Kalimantan Timur   \n",
       "13531              4           117           0         5433    Sulawesi Barat   \n",
       "\n",
       "       ... Total Cities  Total Districts Total Urban Villages  \\\n",
       "11541  ...          2.0              116                118.0   \n",
       "11939  ...          1.0               57                 80.0   \n",
       "12337  ...          2.0              118                 35.0   \n",
       "6367   ...          3.0              103                197.0   \n",
       "13531  ...          NaN               69                 73.0   \n",
       "\n",
       "      Total Rural Villages Area (km2) Population Population Density  \\\n",
       "11541               1063.0      31983    1307803              40.89   \n",
       "11939                636.0       5780    4216171             729.43   \n",
       "12337               1198.0      46914    1847097              39.37   \n",
       "6367                 841.0     129067    3552191              27.52   \n",
       "13531                575.0      16787    1559984              92.93   \n",
       "\n",
       "        Longitude  Latitude  id  \n",
       "11541  127.539107  0.212037  14  \n",
       "11939  115.131714 -8.369472  24  \n",
       "12337  129.576792 -3.192572  13  \n",
       "6367   116.468440  0.453858  10  \n",
       "13531  119.345019 -2.461746  32  \n",
       "\n",
       "[5 rows x 28 columns]"
      ],
      "text/html": "<div>\n<style scoped>\n    .dataframe tbody tr th:only-of-type {\n        vertical-align: middle;\n    }\n\n    .dataframe tbody tr th {\n        vertical-align: top;\n    }\n\n    .dataframe thead th {\n        text-align: right;\n    }\n</style>\n<table border=\"1\" class=\"dataframe\">\n  <thead>\n    <tr style=\"text-align: right;\">\n      <th></th>\n      <th>Date</th>\n      <th>Province</th>\n      <th>new_cases</th>\n      <th>active_cases</th>\n      <th>total_recovered</th>\n      <th>new_recovered</th>\n      <th>total_deaths</th>\n      <th>new_deaths</th>\n      <th>total_cases</th>\n      <th>Location</th>\n      <th>...</th>\n      <th>Total Cities</th>\n      <th>Total Districts</th>\n      <th>Total Urban Villages</th>\n      <th>Total Rural Villages</th>\n      <th>Area (km2)</th>\n      <th>Population</th>\n      <th>Population Density</th>\n      <th>Longitude</th>\n      <th>Latitude</th>\n      <th>id</th>\n    </tr>\n  </thead>\n  <tbody>\n    <tr>\n      <th>11541</th>\n      <td>2021-04-23</td>\n      <td>Maluku Utara</td>\n      <td>3</td>\n      <td>190</td>\n      <td>4092</td>\n      <td>6</td>\n      <td>120</td>\n      <td>0</td>\n      <td>4402</td>\n      <td>Maluku Utara</td>\n      <td>...</td>\n      <td>2.0</td>\n      <td>116</td>\n      <td>118.0</td>\n      <td>1063.0</td>\n      <td>31983</td>\n      <td>1307803</td>\n      <td>40.89</td>\n      <td>127.539107</td>\n      <td>0.212037</td>\n      <td>14</td>\n    </tr>\n    <tr>\n      <th>11939</th>\n      <td>2021-04-23</td>\n      <td>Bali</td>\n      <td>138</td>\n      <td>1374</td>\n      <td>41124</td>\n      <td>147</td>\n      <td>1293</td>\n      <td>10</td>\n      <td>43791</td>\n      <td>Bali</td>\n      <td>...</td>\n      <td>1.0</td>\n      <td>57</td>\n      <td>80.0</td>\n      <td>636.0</td>\n      <td>5780</td>\n      <td>4216171</td>\n      <td>729.43</td>\n      <td>115.131714</td>\n      <td>-8.369472</td>\n      <td>24</td>\n    </tr>\n    <tr>\n      <th>12337</th>\n      <td>2021-04-23</td>\n      <td>Maluku</td>\n      <td>8</td>\n      <td>349</td>\n      <td>7042</td>\n      <td>11</td>\n      <td>116</td>\n      <td>0</td>\n      <td>7507</td>\n      <td>Maluku</td>\n      <td>...</td>\n      <td>2.0</td>\n      <td>118</td>\n      <td>35.0</td>\n      <td>1198.0</td>\n      <td>46914</td>\n      <td>1847097</td>\n      <td>39.37</td>\n      <td>129.576792</td>\n      <td>-3.192572</td>\n      <td>13</td>\n    </tr>\n    <tr>\n      <th>6367</th>\n      <td>2021-04-23</td>\n      <td>Kalimantan Timur</td>\n      <td>188</td>\n      <td>2017</td>\n      <td>63954</td>\n      <td>181</td>\n      <td>1611</td>\n      <td>3</td>\n      <td>67582</td>\n      <td>Kalimantan Timur</td>\n      <td>...</td>\n      <td>3.0</td>\n      <td>103</td>\n      <td>197.0</td>\n      <td>841.0</td>\n      <td>129067</td>\n      <td>3552191</td>\n      <td>27.52</td>\n      <td>116.468440</td>\n      <td>0.453858</td>\n      <td>10</td>\n    </tr>\n    <tr>\n      <th>13531</th>\n      <td>2021-04-23</td>\n      <td>Sulawesi Barat</td>\n      <td>2</td>\n      <td>84</td>\n      <td>5232</td>\n      <td>4</td>\n      <td>117</td>\n      <td>0</td>\n      <td>5433</td>\n      <td>Sulawesi Barat</td>\n      <td>...</td>\n      <td>NaN</td>\n      <td>69</td>\n      <td>73.0</td>\n      <td>575.0</td>\n      <td>16787</td>\n      <td>1559984</td>\n      <td>92.93</td>\n      <td>119.345019</td>\n      <td>-2.461746</td>\n      <td>32</td>\n    </tr>\n  </tbody>\n</table>\n<p>5 rows × 28 columns</p>\n</div>"
     },
     "metadata": {},
     "execution_count": 63
    }
   ],
   "source": [
    "df_indo_full = pd.merge(df_total, df_indo_small, left_on='Province', right_on='Location')\n",
    "df_indo_full = df_indo_full.sort_values(by='Date')\n",
    "df_indo_full.tail()"
   ]
  },
  {
   "cell_type": "code",
   "execution_count": 64,
   "metadata": {},
   "outputs": [],
   "source": [
    "# ## add additional metrics\n",
    "#########################################\n",
    "\n",
    "df_indo_full['total_cases_per_100k'] = df_indo_full['total_cases'] / df_indo_full['Population'] * 100000\n",
    "df_indo_full['total_cases_per_100k'] = df_indo_full['total_cases_per_100k'].apply(pd.to_numeric)\n",
    "\n",
    "df_indo_full['total_deaths_per_100k'] = df_indo_full['total_deaths'] / df_indo_full['Population'] * 100000\n",
    "df_indo_full['total_deaths_per_100k'] = df_indo_full['total_deaths_per_100k'].apply(pd.to_numeric)\n",
    "\n",
    "df_indo_full['new_cases_per_mil'] = df_indo_full['new_cases'] / df_indo_full['Population'] *1000000\n",
    "df_indo_full['new_cases_per_mil'] = df_indo_full['new_cases_per_mil'].apply(pd.to_numeric)\n",
    "\n",
    "df_indo_full['cases7'] = df_indo_full['new_cases'].rolling(window=7, center=False).mean()\n",
    "df_indo_full['cases7_per_100k'] = df_indo_full['cases7'] / df_indo_full['Population'] * 100000\n",
    "df_indo_full['cases7_per_100k'] = df_indo_full['cases7_per_100k'].apply(pd.to_numeric)\n",
    "\n",
    "df_indo_full['deaths7'] = df_indo_full['new_deaths'].rolling(window=7, center=False).mean()\n",
    "df_indo_full['deaths7_per_100k'] = df_indo_full['total_deaths_per_100k'].rolling(window=7, center=False).mean()\n",
    "df_indo_full['deaths7_per_100k'] = df_indo_full['deaths7_per_100k'].apply(pd.to_numeric)\n",
    "\n",
    "df_indo_full['CFR'] = df_indo_full['total_deaths'] / df_indo_full['total_cases'] * 100\n",
    "df_indo_full['CFR'] = df_indo_full['CFR'].round(2)\n",
    "\n",
    "## Or Calculate in App after region selected and df only contains region?\n",
    "df_indo_full['growth_rate_new_cases'] = df_indo_full['new_cases'].pct_change(fill_method ='ffill', periods=7)"
   ]
  },
  {
   "cell_type": "code",
   "execution_count": 102,
   "metadata": {},
   "outputs": [
    {
     "output_type": "execute_result",
     "data": {
      "text/plain": [
       "Index(['Date', 'Province', 'new_cases', 'active_cases', 'total_recovered',\n",
       "       'new_recovered', 'total_deaths', 'new_deaths', 'total_cases',\n",
       "       'Location', 'Location Level', 'City or Regency', 'Country', 'Continent',\n",
       "       'Island', 'Time Zone', 'Special Status', 'Total Regencies',\n",
       "       'Total Cities', 'Total Districts', 'Total Urban Villages',\n",
       "       'Total Rural Villages', 'Area (km2)', 'Population',\n",
       "       'Population Density', 'Longitude', 'Latitude', 'id',\n",
       "       'total_cases_per_100k', 'total_deaths_per_100k', 'new_cases_per_mil',\n",
       "       'cases7', 'cases7_per_100k', 'deaths7', 'deaths7_per_100k', 'CFR',\n",
       "       'growth_rate_new_cases', 'Name_EN'],\n",
       "      dtype='object')"
      ]
     },
     "metadata": {},
     "execution_count": 102
    }
   ],
   "source": [
    "df_indo_full.columns"
   ]
  },
  {
   "cell_type": "code",
   "execution_count": 103,
   "metadata": {},
   "outputs": [
    {
     "output_type": "execute_result",
     "data": {
      "text/plain": [
       "            Date          Province  new_cases  total_deaths  new_deaths  \\\n",
       "11541 2021-04-23      Maluku Utara          3           120           0   \n",
       "11939 2021-04-23              Bali        138          1293          10   \n",
       "12337 2021-04-23            Maluku          8           116           0   \n",
       "6367  2021-04-23  Kalimantan Timur        188          1611           3   \n",
       "13531 2021-04-23    Sulawesi Barat          2           117           0   \n",
       "\n",
       "       total_cases  Population  total_cases_per_100k  total_deaths_per_100k  \\\n",
       "11541         4402     1307803            336.595038               9.175694   \n",
       "11939        43791     4216171           1038.643831              30.667637   \n",
       "12337         7507     1847097            406.421536               6.280125   \n",
       "6367         67582     3552191           1902.544092              45.352291   \n",
       "13531         5433     1559984            348.272803               7.500077   \n",
       "\n",
       "       new_cases_per_mil  cases7_per_100k   deaths7  deaths7_per_100k  \n",
       "11541           2.293923        18.690015  4.000000         20.809283  \n",
       "11939          32.731120         3.269724  2.857143         16.539505  \n",
       "12337           4.331121         6.465744  2.142857         13.769844  \n",
       "6367           52.925082         3.756233  2.285714         19.048466  \n",
       "13531           1.282064         5.467089  2.142857         18.163054  "
      ],
      "text/html": "<div>\n<style scoped>\n    .dataframe tbody tr th:only-of-type {\n        vertical-align: middle;\n    }\n\n    .dataframe tbody tr th {\n        vertical-align: top;\n    }\n\n    .dataframe thead th {\n        text-align: right;\n    }\n</style>\n<table border=\"1\" class=\"dataframe\">\n  <thead>\n    <tr style=\"text-align: right;\">\n      <th></th>\n      <th>Date</th>\n      <th>Province</th>\n      <th>new_cases</th>\n      <th>total_deaths</th>\n      <th>new_deaths</th>\n      <th>total_cases</th>\n      <th>Population</th>\n      <th>total_cases_per_100k</th>\n      <th>total_deaths_per_100k</th>\n      <th>new_cases_per_mil</th>\n      <th>cases7_per_100k</th>\n      <th>deaths7</th>\n      <th>deaths7_per_100k</th>\n    </tr>\n  </thead>\n  <tbody>\n    <tr>\n      <th>11541</th>\n      <td>2021-04-23</td>\n      <td>Maluku Utara</td>\n      <td>3</td>\n      <td>120</td>\n      <td>0</td>\n      <td>4402</td>\n      <td>1307803</td>\n      <td>336.595038</td>\n      <td>9.175694</td>\n      <td>2.293923</td>\n      <td>18.690015</td>\n      <td>4.000000</td>\n      <td>20.809283</td>\n    </tr>\n    <tr>\n      <th>11939</th>\n      <td>2021-04-23</td>\n      <td>Bali</td>\n      <td>138</td>\n      <td>1293</td>\n      <td>10</td>\n      <td>43791</td>\n      <td>4216171</td>\n      <td>1038.643831</td>\n      <td>30.667637</td>\n      <td>32.731120</td>\n      <td>3.269724</td>\n      <td>2.857143</td>\n      <td>16.539505</td>\n    </tr>\n    <tr>\n      <th>12337</th>\n      <td>2021-04-23</td>\n      <td>Maluku</td>\n      <td>8</td>\n      <td>116</td>\n      <td>0</td>\n      <td>7507</td>\n      <td>1847097</td>\n      <td>406.421536</td>\n      <td>6.280125</td>\n      <td>4.331121</td>\n      <td>6.465744</td>\n      <td>2.142857</td>\n      <td>13.769844</td>\n    </tr>\n    <tr>\n      <th>6367</th>\n      <td>2021-04-23</td>\n      <td>Kalimantan Timur</td>\n      <td>188</td>\n      <td>1611</td>\n      <td>3</td>\n      <td>67582</td>\n      <td>3552191</td>\n      <td>1902.544092</td>\n      <td>45.352291</td>\n      <td>52.925082</td>\n      <td>3.756233</td>\n      <td>2.285714</td>\n      <td>19.048466</td>\n    </tr>\n    <tr>\n      <th>13531</th>\n      <td>2021-04-23</td>\n      <td>Sulawesi Barat</td>\n      <td>2</td>\n      <td>117</td>\n      <td>0</td>\n      <td>5433</td>\n      <td>1559984</td>\n      <td>348.272803</td>\n      <td>7.500077</td>\n      <td>1.282064</td>\n      <td>5.467089</td>\n      <td>2.142857</td>\n      <td>18.163054</td>\n    </tr>\n  </tbody>\n</table>\n</div>"
     },
     "metadata": {},
     "execution_count": 103
    }
   ],
   "source": [
    "# Check new created values\n",
    "\n",
    "# df_indo_full[['Date', \"Province\",'new_cases', 'total_deaths', 'new_deaths', 'total_cases', 'Population', 'total_cases_per_100k', 'total_deaths_per_100k', 'new_cases_per_mil', 'cases7_per_100k', 'deaths7', 'deaths7_per_100k',]].tail()"
   ]
  },
  {
   "cell_type": "code",
   "execution_count": 65,
   "metadata": {},
   "outputs": [],
   "source": [
    "df_indo_full['Name_EN'] = df_indo_full['Province']\n"
   ]
  },
  {
   "cell_type": "code",
   "execution_count": 67,
   "metadata": {},
   "outputs": [
    {
     "output_type": "execute_result",
     "data": {
      "text/plain": [
       "Index(['Date', 'Province', 'new_cases', 'active_cases', 'total_recovered',\n",
       "       'new_recovered', 'total_deaths', 'new_deaths', 'total_cases',\n",
       "       'Location', 'Location Level', 'City or Regency', 'Country', 'Continent',\n",
       "       'Island', 'Time Zone', 'Special Status', 'Total Regencies',\n",
       "       'Total Cities', 'Total Districts', 'Total Urban Villages',\n",
       "       'Total Rural Villages', 'Area (km2)', 'Population',\n",
       "       'Population Density', 'Longitude', 'Latitude', 'id',\n",
       "       'total_cases_per_100k', 'total_deaths_per_100k', 'new_cases_per_mil',\n",
       "       'cases7', 'cases7_per_100k', 'deaths7', 'deaths7_per_100k', 'CFR',\n",
       "       'growth_rate_new_cases', 'Name_EN'],\n",
       "      dtype='object')"
      ]
     },
     "metadata": {},
     "execution_count": 67
    }
   ],
   "source": [
    "df_indo_full.columns"
   ]
  },
  {
   "cell_type": "code",
   "execution_count": 68,
   "metadata": {
    "execution": {
     "iopub.execute_input": "2021-04-05T08:55:33.491602Z",
     "iopub.status.busy": "2021-04-05T08:55:33.490679Z",
     "iopub.status.idle": "2021-04-05T08:55:34.046598Z",
     "shell.execute_reply": "2021-04-05T08:55:34.047600Z"
    }
   },
   "outputs": [],
   "source": [
    "df_indo_full.to_csv('indo_province_data.csv')"
   ]
  },
  {
   "source": [
    "# 3. World Data \n",
    "Comparison Data\n",
    "\n",
    "https://github.com/owid/covid-19-data/blob/master/public/data/owid-covid-data.csv\n",
    "\n",
    "url = \"https://raw.githubusercontent.com/owid/covid-19-data/master/public/data/owid-covid-data.csv\"\n"
   ],
   "cell_type": "markdown",
   "metadata": {
    "execution": {
     "iopub.execute_input": "2021-04-05T08:55:34.083606Z",
     "iopub.status.busy": "2021-04-05T08:55:34.053605Z",
     "iopub.status.idle": "2021-04-05T08:56:11.626162Z",
     "shell.execute_reply": "2021-04-05T08:56:11.625162Z"
    }
   }
  },
  {
   "cell_type": "code",
   "execution_count": 69,
   "metadata": {},
   "outputs": [],
   "source": [
    "url = \"https://raw.githubusercontent.com/owid/covid-19-data/master/public/data/owid-covid-data.csv\"\n",
    "df_world = pd.read_csv(url)\n"
   ]
  },
  {
   "cell_type": "code",
   "execution_count": 70,
   "metadata": {
    "execution": {
     "iopub.execute_input": "2021-04-05T08:56:11.657161Z",
     "iopub.status.busy": "2021-04-05T08:56:11.656157Z",
     "iopub.status.idle": "2021-04-05T08:56:11.662163Z",
     "shell.execute_reply": "2021-04-05T08:56:11.663156Z"
    }
   },
   "outputs": [
    {
     "output_type": "execute_result",
     "data": {
      "text/plain": [
       "  iso_code continent     location        date  total_cases  new_cases  \\\n",
       "0      AFG      Asia  Afghanistan  2020-02-24          1.0        1.0   \n",
       "1      AFG      Asia  Afghanistan  2020-02-25          1.0        0.0   \n",
       "2      AFG      Asia  Afghanistan  2020-02-26          1.0        0.0   \n",
       "3      AFG      Asia  Afghanistan  2020-02-27          1.0        0.0   \n",
       "4      AFG      Asia  Afghanistan  2020-02-28          1.0        0.0   \n",
       "\n",
       "   new_cases_smoothed  total_deaths  new_deaths  new_deaths_smoothed  ...  \\\n",
       "0                 NaN           NaN         NaN                  NaN  ...   \n",
       "1                 NaN           NaN         NaN                  NaN  ...   \n",
       "2                 NaN           NaN         NaN                  NaN  ...   \n",
       "3                 NaN           NaN         NaN                  NaN  ...   \n",
       "4                 NaN           NaN         NaN                  NaN  ...   \n",
       "\n",
       "   gdp_per_capita  extreme_poverty  cardiovasc_death_rate  \\\n",
       "0        1803.987              NaN                597.029   \n",
       "1        1803.987              NaN                597.029   \n",
       "2        1803.987              NaN                597.029   \n",
       "3        1803.987              NaN                597.029   \n",
       "4        1803.987              NaN                597.029   \n",
       "\n",
       "   diabetes_prevalence  female_smokers  male_smokers  handwashing_facilities  \\\n",
       "0                 9.59             NaN           NaN                  37.746   \n",
       "1                 9.59             NaN           NaN                  37.746   \n",
       "2                 9.59             NaN           NaN                  37.746   \n",
       "3                 9.59             NaN           NaN                  37.746   \n",
       "4                 9.59             NaN           NaN                  37.746   \n",
       "\n",
       "   hospital_beds_per_thousand  life_expectancy  human_development_index  \n",
       "0                         0.5            64.83                    0.511  \n",
       "1                         0.5            64.83                    0.511  \n",
       "2                         0.5            64.83                    0.511  \n",
       "3                         0.5            64.83                    0.511  \n",
       "4                         0.5            64.83                    0.511  \n",
       "\n",
       "[5 rows x 59 columns]"
      ],
      "text/html": "<div>\n<style scoped>\n    .dataframe tbody tr th:only-of-type {\n        vertical-align: middle;\n    }\n\n    .dataframe tbody tr th {\n        vertical-align: top;\n    }\n\n    .dataframe thead th {\n        text-align: right;\n    }\n</style>\n<table border=\"1\" class=\"dataframe\">\n  <thead>\n    <tr style=\"text-align: right;\">\n      <th></th>\n      <th>iso_code</th>\n      <th>continent</th>\n      <th>location</th>\n      <th>date</th>\n      <th>total_cases</th>\n      <th>new_cases</th>\n      <th>new_cases_smoothed</th>\n      <th>total_deaths</th>\n      <th>new_deaths</th>\n      <th>new_deaths_smoothed</th>\n      <th>...</th>\n      <th>gdp_per_capita</th>\n      <th>extreme_poverty</th>\n      <th>cardiovasc_death_rate</th>\n      <th>diabetes_prevalence</th>\n      <th>female_smokers</th>\n      <th>male_smokers</th>\n      <th>handwashing_facilities</th>\n      <th>hospital_beds_per_thousand</th>\n      <th>life_expectancy</th>\n      <th>human_development_index</th>\n    </tr>\n  </thead>\n  <tbody>\n    <tr>\n      <th>0</th>\n      <td>AFG</td>\n      <td>Asia</td>\n      <td>Afghanistan</td>\n      <td>2020-02-24</td>\n      <td>1.0</td>\n      <td>1.0</td>\n      <td>NaN</td>\n      <td>NaN</td>\n      <td>NaN</td>\n      <td>NaN</td>\n      <td>...</td>\n      <td>1803.987</td>\n      <td>NaN</td>\n      <td>597.029</td>\n      <td>9.59</td>\n      <td>NaN</td>\n      <td>NaN</td>\n      <td>37.746</td>\n      <td>0.5</td>\n      <td>64.83</td>\n      <td>0.511</td>\n    </tr>\n    <tr>\n      <th>1</th>\n      <td>AFG</td>\n      <td>Asia</td>\n      <td>Afghanistan</td>\n      <td>2020-02-25</td>\n      <td>1.0</td>\n      <td>0.0</td>\n      <td>NaN</td>\n      <td>NaN</td>\n      <td>NaN</td>\n      <td>NaN</td>\n      <td>...</td>\n      <td>1803.987</td>\n      <td>NaN</td>\n      <td>597.029</td>\n      <td>9.59</td>\n      <td>NaN</td>\n      <td>NaN</td>\n      <td>37.746</td>\n      <td>0.5</td>\n      <td>64.83</td>\n      <td>0.511</td>\n    </tr>\n    <tr>\n      <th>2</th>\n      <td>AFG</td>\n      <td>Asia</td>\n      <td>Afghanistan</td>\n      <td>2020-02-26</td>\n      <td>1.0</td>\n      <td>0.0</td>\n      <td>NaN</td>\n      <td>NaN</td>\n      <td>NaN</td>\n      <td>NaN</td>\n      <td>...</td>\n      <td>1803.987</td>\n      <td>NaN</td>\n      <td>597.029</td>\n      <td>9.59</td>\n      <td>NaN</td>\n      <td>NaN</td>\n      <td>37.746</td>\n      <td>0.5</td>\n      <td>64.83</td>\n      <td>0.511</td>\n    </tr>\n    <tr>\n      <th>3</th>\n      <td>AFG</td>\n      <td>Asia</td>\n      <td>Afghanistan</td>\n      <td>2020-02-27</td>\n      <td>1.0</td>\n      <td>0.0</td>\n      <td>NaN</td>\n      <td>NaN</td>\n      <td>NaN</td>\n      <td>NaN</td>\n      <td>...</td>\n      <td>1803.987</td>\n      <td>NaN</td>\n      <td>597.029</td>\n      <td>9.59</td>\n      <td>NaN</td>\n      <td>NaN</td>\n      <td>37.746</td>\n      <td>0.5</td>\n      <td>64.83</td>\n      <td>0.511</td>\n    </tr>\n    <tr>\n      <th>4</th>\n      <td>AFG</td>\n      <td>Asia</td>\n      <td>Afghanistan</td>\n      <td>2020-02-28</td>\n      <td>1.0</td>\n      <td>0.0</td>\n      <td>NaN</td>\n      <td>NaN</td>\n      <td>NaN</td>\n      <td>NaN</td>\n      <td>...</td>\n      <td>1803.987</td>\n      <td>NaN</td>\n      <td>597.029</td>\n      <td>9.59</td>\n      <td>NaN</td>\n      <td>NaN</td>\n      <td>37.746</td>\n      <td>0.5</td>\n      <td>64.83</td>\n      <td>0.511</td>\n    </tr>\n  </tbody>\n</table>\n<p>5 rows × 59 columns</p>\n</div>"
     },
     "metadata": {},
     "execution_count": 70
    }
   ],
   "source": [
    "df_world.head()"
   ]
  },
  {
   "cell_type": "code",
   "execution_count": 104,
   "metadata": {
    "execution": {
     "iopub.execute_input": "2021-04-05T08:56:11.672163Z",
     "iopub.status.busy": "2021-04-05T08:56:11.671162Z",
     "iopub.status.idle": "2021-04-05T08:56:11.678181Z",
     "shell.execute_reply": "2021-04-05T08:56:11.679178Z"
    }
   },
   "outputs": [],
   "source": [
    "# pd.unique(df_world['location'])"
   ]
  },
  {
   "cell_type": "code",
   "execution_count": 72,
   "metadata": {
    "execution": {
     "iopub.execute_input": "2021-04-05T08:56:11.687172Z",
     "iopub.status.busy": "2021-04-05T08:56:11.686172Z",
     "iopub.status.idle": "2021-04-05T08:56:11.690165Z",
     "shell.execute_reply": "2021-04-05T08:56:11.691166Z"
    }
   },
   "outputs": [
    {
     "output_type": "execute_result",
     "data": {
      "text/plain": [
       "Index(['iso_code', 'continent', 'location', 'date', 'total_cases', 'new_cases',\n",
       "       'new_cases_smoothed', 'total_deaths', 'new_deaths',\n",
       "       'new_deaths_smoothed', 'total_cases_per_million',\n",
       "       'new_cases_per_million', 'new_cases_smoothed_per_million',\n",
       "       'total_deaths_per_million', 'new_deaths_per_million',\n",
       "       'new_deaths_smoothed_per_million', 'reproduction_rate', 'icu_patients',\n",
       "       'icu_patients_per_million', 'hosp_patients',\n",
       "       'hosp_patients_per_million', 'weekly_icu_admissions',\n",
       "       'weekly_icu_admissions_per_million', 'weekly_hosp_admissions',\n",
       "       'weekly_hosp_admissions_per_million', 'new_tests', 'total_tests',\n",
       "       'total_tests_per_thousand', 'new_tests_per_thousand',\n",
       "       'new_tests_smoothed', 'new_tests_smoothed_per_thousand',\n",
       "       'positive_rate', 'tests_per_case', 'tests_units', 'total_vaccinations',\n",
       "       'people_vaccinated', 'people_fully_vaccinated', 'new_vaccinations',\n",
       "       'new_vaccinations_smoothed', 'total_vaccinations_per_hundred',\n",
       "       'people_vaccinated_per_hundred', 'people_fully_vaccinated_per_hundred',\n",
       "       'new_vaccinations_smoothed_per_million', 'stringency_index',\n",
       "       'population', 'population_density', 'median_age', 'aged_65_older',\n",
       "       'aged_70_older', 'gdp_per_capita', 'extreme_poverty',\n",
       "       'cardiovasc_death_rate', 'diabetes_prevalence', 'female_smokers',\n",
       "       'male_smokers', 'handwashing_facilities', 'hospital_beds_per_thousand',\n",
       "       'life_expectancy', 'human_development_index'],\n",
       "      dtype='object')"
      ]
     },
     "metadata": {},
     "execution_count": 72
    }
   ],
   "source": [
    "df_world.columns"
   ]
  },
  {
   "cell_type": "code",
   "execution_count": 73,
   "metadata": {
    "execution": {
     "iopub.execute_input": "2021-04-05T08:56:11.697165Z",
     "iopub.status.busy": "2021-04-05T08:56:11.696173Z",
     "iopub.status.idle": "2021-04-05T08:56:11.701168Z",
     "shell.execute_reply": "2021-04-05T08:56:11.700168Z"
    }
   },
   "outputs": [],
   "source": [
    "# df_world['location'].unique()"
   ]
  },
  {
   "cell_type": "code",
   "execution_count": 74,
   "metadata": {
    "execution": {
     "iopub.execute_input": "2021-04-05T08:56:11.707811Z",
     "iopub.status.busy": "2021-04-05T08:56:11.706806Z",
     "iopub.status.idle": "2021-04-05T08:56:11.710800Z",
     "shell.execute_reply": "2021-04-05T08:56:11.710800Z"
    }
   },
   "outputs": [],
   "source": [
    "# relevant countries :\n",
    "rel_countries = [\"Germany\", 'Europe', 'World', 'International', 'Indonesia',  'United Kingdom', 'Australia', 'France', \"Italy\", 'United States']"
   ]
  },
  {
   "cell_type": "code",
   "execution_count": 75,
   "metadata": {
    "execution": {
     "iopub.execute_input": "2021-04-05T08:56:11.719813Z",
     "iopub.status.busy": "2021-04-05T08:56:11.718797Z",
     "iopub.status.idle": "2021-04-05T08:56:11.727799Z",
     "shell.execute_reply": "2021-04-05T08:56:11.726802Z"
    }
   },
   "outputs": [],
   "source": [
    "# CFR, total cases per 100k and total deaths, growth_rate, vaccination\n",
    "## add columns for total cases/deaths per 100k\n",
    "df_world['Date'] = df_world['date'] \n",
    "df_world['CFR'] = df_world['total_deaths'] / df_world['total_cases'] * 100\n",
    "df_world['total_cases_per_100k'] = df_world['total_cases_per_million'] / 10\n",
    "df_world['total_deaths_per_100k'] = df_world['total_deaths_per_million'] / 10\n",
    "df_world['new_cases_per_mil'] = df_world['new_cases_per_million']\n"
   ]
  },
  {
   "cell_type": "code",
   "execution_count": 76,
   "metadata": {
    "execution": {
     "iopub.execute_input": "2021-04-05T08:56:11.768039Z",
     "iopub.status.busy": "2021-04-05T08:56:11.767040Z",
     "iopub.status.idle": "2021-04-05T08:56:11.827062Z",
     "shell.execute_reply": "2021-04-05T08:56:11.826076Z"
    }
   },
   "outputs": [
    {
     "output_type": "execute_result",
     "data": {
      "text/plain": [
       "3928.3099"
      ]
     },
     "metadata": {},
     "execution_count": 76
    }
   ],
   "source": [
    "df_germany = df_world[df_world['location'] == 'Germany']\n",
    "df_germany.head()\n",
    "df_germany['total_cases_per_100k'].iloc[-1]\n",
    "# df_germany['total_cases_per_million'].iloc[-1]"
   ]
  },
  {
   "cell_type": "code",
   "execution_count": 77,
   "metadata": {
    "execution": {
     "iopub.execute_input": "2021-04-05T08:56:11.834069Z",
     "iopub.status.busy": "2021-04-05T08:56:11.833062Z",
     "iopub.status.idle": "2021-04-05T08:56:17.670101Z",
     "shell.execute_reply": "2021-04-05T08:56:17.670101Z"
    }
   },
   "outputs": [],
   "source": [
    "df_world.to_csv(\"world_data.csv\")"
   ]
  }
 ],
 "metadata": {
  "kernelspec": {
   "name": "python3612jvsc74a57bd065435ba89cc7533fc114dd5bc8eb68e094897c9970f1910b28e461766a9f12e6",
   "display_name": "Python 3.6.12 64-bit ('bali_covid_dash_app': conda)"
  },
  "language_info": {
   "codemirror_mode": {
    "name": "ipython",
    "version": 3
   },
   "file_extension": ".py",
   "mimetype": "text/x-python",
   "name": "python",
   "nbconvert_exporter": "python",
   "pygments_lexer": "ipython3",
   "version": "3.6.12"
  }
 },
 "nbformat": 4,
 "nbformat_minor": 2
}