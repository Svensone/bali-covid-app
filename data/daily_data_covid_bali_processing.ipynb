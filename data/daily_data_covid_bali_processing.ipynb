{
 "cells": [
  {
   "cell_type": "code",
   "execution_count": 20,
   "metadata": {
    "execution": {
     "iopub.execute_input": "2021-03-26T05:10:04.468367Z",
     "iopub.status.busy": "2021-03-26T05:10:04.467368Z",
     "iopub.status.idle": "2021-03-26T05:10:07.104361Z",
     "shell.execute_reply": "2021-03-26T05:10:07.104361Z"
    }
   },
   "outputs": [
    {
     "output_type": "stream",
     "name": "stdout",
     "text": [
      "Requirement already satisfied: kaggle in c:\\programdata\\anaconda3\\lib\\site-packages (1.5.12)\nRequirement already satisfied: certifi in c:\\programdata\\anaconda3\\lib\\site-packages (from kaggle) (2019.11.28)\nRequirement already satisfied: urllib3 in c:\\programdata\\anaconda3\\lib\\site-packages (from kaggle) (1.25.8)\nRequirement already satisfied: requests in c:\\programdata\\anaconda3\\lib\\site-packages (from kaggle) (2.22.0)\nRequirement already satisfied: tqdm in c:\\programdata\\anaconda3\\lib\\site-packages (from kaggle) (4.42.1)\nRequirement already satisfied: python-dateutil in c:\\programdata\\anaconda3\\lib\\site-packages (from kaggle) (2.8.1)\nRequirement already satisfied: python-slugify in c:\\programdata\\anaconda3\\lib\\site-packages (from kaggle) (4.0.1)\nRequirement already satisfied: six>=1.10 in c:\\programdata\\anaconda3\\lib\\site-packages (from kaggle) (1.14.0)\nRequirement already satisfied: idna<2.9,>=2.5 in c:\\programdata\\anaconda3\\lib\\site-packages (from requests->kaggle) (2.8)\nRequirement already satisfied: chardet<3.1.0,>=3.0.2 in c:\\programdata\\anaconda3\\lib\\site-packages (from requests->kaggle) (3.0.4)\nRequirement already satisfied: text-unidecode>=1.3 in c:\\programdata\\anaconda3\\lib\\site-packages (from python-slugify->kaggle) (1.3)\nNote: you may need to restart the kernel to use updated packages.\n"
     ]
    }
   ],
   "source": [
    "pip install kaggle"
   ]
  },
  {
   "cell_type": "code",
   "execution_count": 22,
   "metadata": {
    "execution": {
     "iopub.execute_input": "2021-03-26T05:10:07.110367Z",
     "iopub.status.busy": "2021-03-26T05:10:07.109367Z",
     "iopub.status.idle": "2021-03-26T05:10:08.965365Z",
     "shell.execute_reply": "2021-03-26T05:10:08.966362Z"
    }
   },
   "outputs": [],
   "source": [
    "import pandas as pd\n",
    "import json\n",
    "import json_lines\n",
    "\n",
    "from kaggle.api.kaggle_api_extended import KaggleApi\n",
    "\n",
    "# from keys import kaggle_api\n",
    "\n",
    "## 1. with Kaggle Api\n",
    "api =KaggleApi()\n",
    "api.authenticate()"
   ]
  },
  {
   "cell_type": "code",
   "execution_count": 23,
   "metadata": {
    "execution": {
     "iopub.execute_input": "2021-03-26T05:10:08.970364Z",
     "iopub.status.busy": "2021-03-26T05:10:08.969374Z",
     "iopub.status.idle": "2021-03-26T05:10:08.974364Z",
     "shell.execute_reply": "2021-03-26T05:10:08.973365Z"
    }
   },
   "outputs": [],
   "source": [
    "## CONTENT\n",
    "#####################\n",
    " \n",
    "# 1. Bali Regency data\n",
    "# 2. Indo Province Data (transittion to kawal data - march 2021)\n",
    "# 3. World - Country Data"
   ]
  },
  {
   "cell_type": "code",
   "execution_count": 24,
   "metadata": {
    "execution": {
     "iopub.execute_input": "2021-03-26T05:10:08.979363Z",
     "iopub.status.busy": "2021-03-26T05:10:08.978364Z",
     "iopub.status.idle": "2021-03-26T05:10:08.982363Z",
     "shell.execute_reply": "2021-03-26T05:10:08.982363Z"
    }
   },
   "outputs": [],
   "source": [
    "###  -------------------------------------\n",
    "### 1. COVID DATA BALI REGENCIES\n",
    "###  -------------------------------------\n",
    "\n",
    "## From scrapy spider"
   ]
  },
  {
   "cell_type": "code",
   "execution_count": 25,
   "metadata": {
    "execution": {
     "iopub.execute_input": "2021-03-26T05:10:08.990368Z",
     "iopub.status.busy": "2021-03-26T05:10:08.989363Z",
     "iopub.status.idle": "2021-03-26T05:10:09.032363Z",
     "shell.execute_reply": "2021-03-26T05:10:09.033362Z"
    }
   },
   "outputs": [
    {
     "output_type": "stream",
     "name": "stderr",
     "text": [
      "Error: JSON line can't be decoded. JSONDecodeError('Extra data: line 1 column 875 (char 874)')\n"
     ]
    },
    {
     "output_type": "execute_result",
     "data": {
      "text/plain": [
       "   0         1    2    3   4     5  6   7   8     9            10\n",
       "0  1  JEMBRANA   -7   70   7   579  1  14   1   663   05 Dec 2020\n",
       "1  2   TABANAN  -10  434  35  1016  0  47  25  1497   05 Dec 2020\n",
       "2  3    BADUNG   -9  159  27  2299  0  51  18  2509   05 Dec 2020\n",
       "3  4  DENPASAR    1  166  26  3705  0  90  27  3961   05 Dec 2020\n",
       "4  5   GIANYAR  -16  234  31  1681  0  75  15  1990   05 Dec 2020"
      ],
      "text/html": "<div>\n<style scoped>\n    .dataframe tbody tr th:only-of-type {\n        vertical-align: middle;\n    }\n\n    .dataframe tbody tr th {\n        vertical-align: top;\n    }\n\n    .dataframe thead th {\n        text-align: right;\n    }\n</style>\n<table border=\"1\" class=\"dataframe\">\n  <thead>\n    <tr style=\"text-align: right;\">\n      <th></th>\n      <th>0</th>\n      <th>1</th>\n      <th>2</th>\n      <th>3</th>\n      <th>4</th>\n      <th>5</th>\n      <th>6</th>\n      <th>7</th>\n      <th>8</th>\n      <th>9</th>\n      <th>10</th>\n    </tr>\n  </thead>\n  <tbody>\n    <tr>\n      <th>0</th>\n      <td>1</td>\n      <td>JEMBRANA</td>\n      <td>-7</td>\n      <td>70</td>\n      <td>7</td>\n      <td>579</td>\n      <td>1</td>\n      <td>14</td>\n      <td>1</td>\n      <td>663</td>\n      <td>05 Dec 2020</td>\n    </tr>\n    <tr>\n      <th>1</th>\n      <td>2</td>\n      <td>TABANAN</td>\n      <td>-10</td>\n      <td>434</td>\n      <td>35</td>\n      <td>1016</td>\n      <td>0</td>\n      <td>47</td>\n      <td>25</td>\n      <td>1497</td>\n      <td>05 Dec 2020</td>\n    </tr>\n    <tr>\n      <th>2</th>\n      <td>3</td>\n      <td>BADUNG</td>\n      <td>-9</td>\n      <td>159</td>\n      <td>27</td>\n      <td>2299</td>\n      <td>0</td>\n      <td>51</td>\n      <td>18</td>\n      <td>2509</td>\n      <td>05 Dec 2020</td>\n    </tr>\n    <tr>\n      <th>3</th>\n      <td>4</td>\n      <td>DENPASAR</td>\n      <td>1</td>\n      <td>166</td>\n      <td>26</td>\n      <td>3705</td>\n      <td>0</td>\n      <td>90</td>\n      <td>27</td>\n      <td>3961</td>\n      <td>05 Dec 2020</td>\n    </tr>\n    <tr>\n      <th>4</th>\n      <td>5</td>\n      <td>GIANYAR</td>\n      <td>-16</td>\n      <td>234</td>\n      <td>31</td>\n      <td>1681</td>\n      <td>0</td>\n      <td>75</td>\n      <td>15</td>\n      <td>1990</td>\n      <td>05 Dec 2020</td>\n    </tr>\n  </tbody>\n</table>\n</div>"
     },
     "metadata": {},
     "execution_count": 25
    }
   ],
   "source": [
    "## Converting Json-Lines File to pandas DataFrame\n",
    "##########################################\n",
    "\n",
    "json_file = r'C:\\Users\\ansve\\Coding\\Projects-WebScraping\\CovidBali\\CovidBali\\CovidBali\\daily.jl'\n",
    "\n",
    "##Extract data from First TABLE\n",
    "###############################################\n",
    "\n",
    "data_first = []\n",
    "with open(json_file, 'rb') as f:\n",
    "    count = 0\n",
    "    for line in json_lines.reader(f, broken=True):\n",
    "        count+=1\n",
    "        if count % 2 == 0: #this is the remainder operator\n",
    "            for x in range(0, 10):\n",
    "                data_first.append(line['data'][x])\n",
    "\n",
    "df_first = pd.DataFrame(data_first)\n",
    "df_first.head()"
   ]
  },
  {
   "cell_type": "code",
   "execution_count": 26,
   "metadata": {
    "execution": {
     "iopub.execute_input": "2021-03-26T05:10:09.063368Z",
     "iopub.status.busy": "2021-03-26T05:10:09.062362Z",
     "iopub.status.idle": "2021-03-26T05:10:09.068363Z",
     "shell.execute_reply": "2021-03-26T05:10:09.069362Z"
    }
   },
   "outputs": [
    {
     "output_type": "execute_result",
     "data": {
      "text/plain": [
       "      0                  1    2    3   4      5  6    7   8      9  \\\n",
       "950   1           JEMBRANA    0   48   1   2032  0   72   1   2152   \n",
       "951   2            TABANAN   14  110   4   3813  1  134  19   4057   \n",
       "952   3             BADUNG    5  282  27   6880  3  184  35   7346   \n",
       "953   4           DENPASAR   10  578  37  11165  3  238  50  11981   \n",
       "954   5            GIANYAR   -1    3  16   4290  0  129  15   4422   \n",
       "955   6             BANGLI    4   96  17   1861  2   77  23   2034   \n",
       "956   7          KLUNGKUNG    3   82   7   1407  1   46  11   1535   \n",
       "957   8         KARANGASEM  -13   53  17   1504  1   81   5   1638   \n",
       "958   9           BULELENG   12  167  10   2512  1  114  23   2793   \n",
       "959  10  KABUPATEN LAINNYA   -1   93   1    353  0    4   0    450   \n",
       "960   1           JEMBRANA    5   53   2   2034  0   72   7   2159   \n",
       "961   2            TABANAN    7  117   9   3822  2  136  18   4075   \n",
       "962   3             BADUNG   20  302  26   6906  2  186  48   7394   \n",
       "963   4           DENPASAR    2  580  50  11215  2  240  54  12035   \n",
       "964   5            GIANYAR    0    3  16   4306  0  129  16   4438   \n",
       "965   6             BANGLI   -4   92   8   1869  2   79   6   2040   \n",
       "966   7          KLUNGKUNG    2   84  10   1417  0   46  12   1547   \n",
       "967   8         KARANGASEM    1   54   4   1508  1   82   6   1644   \n",
       "968   9           BULELENG   17  184   3   2515  2  116  22   2815   \n",
       "969  10  KABUPATEN LAINNYA   -3   90   3    356  0    4   0    450   \n",
       "970   1           JEMBRANA   -6   51  10   2047  0   72   4   2170   \n",
       "971   2            TABANAN    7  134  10   3843  0  139  17   4116   \n",
       "972   3             BADUNG   29  353  21   6958  2  189  52   7500   \n",
       "973   4           DENPASAR  -41  583  81  11318  4  244  44  12145   \n",
       "974   5            GIANYAR    0    3   7   4324  0  129   7   4456   \n",
       "975   6             BANGLI    4   84   1   1887  0   79   5   2050   \n",
       "976   7          KLUNGKUNG    1   97   9   1431  0   46  10   1574   \n",
       "977   8         KARANGASEM    2   53   0   1509  0   84   2   1646   \n",
       "978   9           BULELENG   10  201  12   2537  0  116  22   2854   \n",
       "979  10  KABUPATEN LAINNYA   11   77   0    380  0    4  11    461   \n",
       "\n",
       "               10  \n",
       "950   23 Mar 2021  \n",
       "951   23 Mar 2021  \n",
       "952   23 Mar 2021  \n",
       "953   23 Mar 2021  \n",
       "954   23 Mar 2021  \n",
       "955   23 Mar 2021  \n",
       "956   23 Mar 2021  \n",
       "957   23 Mar 2021  \n",
       "958   23 Mar 2021  \n",
       "959   23 Mar 2021  \n",
       "960   24 Mar 2021  \n",
       "961   24 Mar 2021  \n",
       "962   24 Mar 2021  \n",
       "963   24 Mar 2021  \n",
       "964   24 Mar 2021  \n",
       "965   24 Mar 2021  \n",
       "966   24 Mar 2021  \n",
       "967   24 Mar 2021  \n",
       "968   24 Mar 2021  \n",
       "969   24 Mar 2021  \n",
       "970   26 Mar 2021  \n",
       "971   26 Mar 2021  \n",
       "972   26 Mar 2021  \n",
       "973   26 Mar 2021  \n",
       "974   26 Mar 2021  \n",
       "975   26 Mar 2021  \n",
       "976   26 Mar 2021  \n",
       "977   26 Mar 2021  \n",
       "978   26 Mar 2021  \n",
       "979   26 Mar 2021  "
      ],
      "text/html": "<div>\n<style scoped>\n    .dataframe tbody tr th:only-of-type {\n        vertical-align: middle;\n    }\n\n    .dataframe tbody tr th {\n        vertical-align: top;\n    }\n\n    .dataframe thead th {\n        text-align: right;\n    }\n</style>\n<table border=\"1\" class=\"dataframe\">\n  <thead>\n    <tr style=\"text-align: right;\">\n      <th></th>\n      <th>0</th>\n      <th>1</th>\n      <th>2</th>\n      <th>3</th>\n      <th>4</th>\n      <th>5</th>\n      <th>6</th>\n      <th>7</th>\n      <th>8</th>\n      <th>9</th>\n      <th>10</th>\n    </tr>\n  </thead>\n  <tbody>\n    <tr>\n      <th>950</th>\n      <td>1</td>\n      <td>JEMBRANA</td>\n      <td>0</td>\n      <td>48</td>\n      <td>1</td>\n      <td>2032</td>\n      <td>0</td>\n      <td>72</td>\n      <td>1</td>\n      <td>2152</td>\n      <td>23 Mar 2021</td>\n    </tr>\n    <tr>\n      <th>951</th>\n      <td>2</td>\n      <td>TABANAN</td>\n      <td>14</td>\n      <td>110</td>\n      <td>4</td>\n      <td>3813</td>\n      <td>1</td>\n      <td>134</td>\n      <td>19</td>\n      <td>4057</td>\n      <td>23 Mar 2021</td>\n    </tr>\n    <tr>\n      <th>952</th>\n      <td>3</td>\n      <td>BADUNG</td>\n      <td>5</td>\n      <td>282</td>\n      <td>27</td>\n      <td>6880</td>\n      <td>3</td>\n      <td>184</td>\n      <td>35</td>\n      <td>7346</td>\n      <td>23 Mar 2021</td>\n    </tr>\n    <tr>\n      <th>953</th>\n      <td>4</td>\n      <td>DENPASAR</td>\n      <td>10</td>\n      <td>578</td>\n      <td>37</td>\n      <td>11165</td>\n      <td>3</td>\n      <td>238</td>\n      <td>50</td>\n      <td>11981</td>\n      <td>23 Mar 2021</td>\n    </tr>\n    <tr>\n      <th>954</th>\n      <td>5</td>\n      <td>GIANYAR</td>\n      <td>-1</td>\n      <td>3</td>\n      <td>16</td>\n      <td>4290</td>\n      <td>0</td>\n      <td>129</td>\n      <td>15</td>\n      <td>4422</td>\n      <td>23 Mar 2021</td>\n    </tr>\n    <tr>\n      <th>955</th>\n      <td>6</td>\n      <td>BANGLI</td>\n      <td>4</td>\n      <td>96</td>\n      <td>17</td>\n      <td>1861</td>\n      <td>2</td>\n      <td>77</td>\n      <td>23</td>\n      <td>2034</td>\n      <td>23 Mar 2021</td>\n    </tr>\n    <tr>\n      <th>956</th>\n      <td>7</td>\n      <td>KLUNGKUNG</td>\n      <td>3</td>\n      <td>82</td>\n      <td>7</td>\n      <td>1407</td>\n      <td>1</td>\n      <td>46</td>\n      <td>11</td>\n      <td>1535</td>\n      <td>23 Mar 2021</td>\n    </tr>\n    <tr>\n      <th>957</th>\n      <td>8</td>\n      <td>KARANGASEM</td>\n      <td>-13</td>\n      <td>53</td>\n      <td>17</td>\n      <td>1504</td>\n      <td>1</td>\n      <td>81</td>\n      <td>5</td>\n      <td>1638</td>\n      <td>23 Mar 2021</td>\n    </tr>\n    <tr>\n      <th>958</th>\n      <td>9</td>\n      <td>BULELENG</td>\n      <td>12</td>\n      <td>167</td>\n      <td>10</td>\n      <td>2512</td>\n      <td>1</td>\n      <td>114</td>\n      <td>23</td>\n      <td>2793</td>\n      <td>23 Mar 2021</td>\n    </tr>\n    <tr>\n      <th>959</th>\n      <td>10</td>\n      <td>KABUPATEN LAINNYA</td>\n      <td>-1</td>\n      <td>93</td>\n      <td>1</td>\n      <td>353</td>\n      <td>0</td>\n      <td>4</td>\n      <td>0</td>\n      <td>450</td>\n      <td>23 Mar 2021</td>\n    </tr>\n    <tr>\n      <th>960</th>\n      <td>1</td>\n      <td>JEMBRANA</td>\n      <td>5</td>\n      <td>53</td>\n      <td>2</td>\n      <td>2034</td>\n      <td>0</td>\n      <td>72</td>\n      <td>7</td>\n      <td>2159</td>\n      <td>24 Mar 2021</td>\n    </tr>\n    <tr>\n      <th>961</th>\n      <td>2</td>\n      <td>TABANAN</td>\n      <td>7</td>\n      <td>117</td>\n      <td>9</td>\n      <td>3822</td>\n      <td>2</td>\n      <td>136</td>\n      <td>18</td>\n      <td>4075</td>\n      <td>24 Mar 2021</td>\n    </tr>\n    <tr>\n      <th>962</th>\n      <td>3</td>\n      <td>BADUNG</td>\n      <td>20</td>\n      <td>302</td>\n      <td>26</td>\n      <td>6906</td>\n      <td>2</td>\n      <td>186</td>\n      <td>48</td>\n      <td>7394</td>\n      <td>24 Mar 2021</td>\n    </tr>\n    <tr>\n      <th>963</th>\n      <td>4</td>\n      <td>DENPASAR</td>\n      <td>2</td>\n      <td>580</td>\n      <td>50</td>\n      <td>11215</td>\n      <td>2</td>\n      <td>240</td>\n      <td>54</td>\n      <td>12035</td>\n      <td>24 Mar 2021</td>\n    </tr>\n    <tr>\n      <th>964</th>\n      <td>5</td>\n      <td>GIANYAR</td>\n      <td>0</td>\n      <td>3</td>\n      <td>16</td>\n      <td>4306</td>\n      <td>0</td>\n      <td>129</td>\n      <td>16</td>\n      <td>4438</td>\n      <td>24 Mar 2021</td>\n    </tr>\n    <tr>\n      <th>965</th>\n      <td>6</td>\n      <td>BANGLI</td>\n      <td>-4</td>\n      <td>92</td>\n      <td>8</td>\n      <td>1869</td>\n      <td>2</td>\n      <td>79</td>\n      <td>6</td>\n      <td>2040</td>\n      <td>24 Mar 2021</td>\n    </tr>\n    <tr>\n      <th>966</th>\n      <td>7</td>\n      <td>KLUNGKUNG</td>\n      <td>2</td>\n      <td>84</td>\n      <td>10</td>\n      <td>1417</td>\n      <td>0</td>\n      <td>46</td>\n      <td>12</td>\n      <td>1547</td>\n      <td>24 Mar 2021</td>\n    </tr>\n    <tr>\n      <th>967</th>\n      <td>8</td>\n      <td>KARANGASEM</td>\n      <td>1</td>\n      <td>54</td>\n      <td>4</td>\n      <td>1508</td>\n      <td>1</td>\n      <td>82</td>\n      <td>6</td>\n      <td>1644</td>\n      <td>24 Mar 2021</td>\n    </tr>\n    <tr>\n      <th>968</th>\n      <td>9</td>\n      <td>BULELENG</td>\n      <td>17</td>\n      <td>184</td>\n      <td>3</td>\n      <td>2515</td>\n      <td>2</td>\n      <td>116</td>\n      <td>22</td>\n      <td>2815</td>\n      <td>24 Mar 2021</td>\n    </tr>\n    <tr>\n      <th>969</th>\n      <td>10</td>\n      <td>KABUPATEN LAINNYA</td>\n      <td>-3</td>\n      <td>90</td>\n      <td>3</td>\n      <td>356</td>\n      <td>0</td>\n      <td>4</td>\n      <td>0</td>\n      <td>450</td>\n      <td>24 Mar 2021</td>\n    </tr>\n    <tr>\n      <th>970</th>\n      <td>1</td>\n      <td>JEMBRANA</td>\n      <td>-6</td>\n      <td>51</td>\n      <td>10</td>\n      <td>2047</td>\n      <td>0</td>\n      <td>72</td>\n      <td>4</td>\n      <td>2170</td>\n      <td>26 Mar 2021</td>\n    </tr>\n    <tr>\n      <th>971</th>\n      <td>2</td>\n      <td>TABANAN</td>\n      <td>7</td>\n      <td>134</td>\n      <td>10</td>\n      <td>3843</td>\n      <td>0</td>\n      <td>139</td>\n      <td>17</td>\n      <td>4116</td>\n      <td>26 Mar 2021</td>\n    </tr>\n    <tr>\n      <th>972</th>\n      <td>3</td>\n      <td>BADUNG</td>\n      <td>29</td>\n      <td>353</td>\n      <td>21</td>\n      <td>6958</td>\n      <td>2</td>\n      <td>189</td>\n      <td>52</td>\n      <td>7500</td>\n      <td>26 Mar 2021</td>\n    </tr>\n    <tr>\n      <th>973</th>\n      <td>4</td>\n      <td>DENPASAR</td>\n      <td>-41</td>\n      <td>583</td>\n      <td>81</td>\n      <td>11318</td>\n      <td>4</td>\n      <td>244</td>\n      <td>44</td>\n      <td>12145</td>\n      <td>26 Mar 2021</td>\n    </tr>\n    <tr>\n      <th>974</th>\n      <td>5</td>\n      <td>GIANYAR</td>\n      <td>0</td>\n      <td>3</td>\n      <td>7</td>\n      <td>4324</td>\n      <td>0</td>\n      <td>129</td>\n      <td>7</td>\n      <td>4456</td>\n      <td>26 Mar 2021</td>\n    </tr>\n    <tr>\n      <th>975</th>\n      <td>6</td>\n      <td>BANGLI</td>\n      <td>4</td>\n      <td>84</td>\n      <td>1</td>\n      <td>1887</td>\n      <td>0</td>\n      <td>79</td>\n      <td>5</td>\n      <td>2050</td>\n      <td>26 Mar 2021</td>\n    </tr>\n    <tr>\n      <th>976</th>\n      <td>7</td>\n      <td>KLUNGKUNG</td>\n      <td>1</td>\n      <td>97</td>\n      <td>9</td>\n      <td>1431</td>\n      <td>0</td>\n      <td>46</td>\n      <td>10</td>\n      <td>1574</td>\n      <td>26 Mar 2021</td>\n    </tr>\n    <tr>\n      <th>977</th>\n      <td>8</td>\n      <td>KARANGASEM</td>\n      <td>2</td>\n      <td>53</td>\n      <td>0</td>\n      <td>1509</td>\n      <td>0</td>\n      <td>84</td>\n      <td>2</td>\n      <td>1646</td>\n      <td>26 Mar 2021</td>\n    </tr>\n    <tr>\n      <th>978</th>\n      <td>9</td>\n      <td>BULELENG</td>\n      <td>10</td>\n      <td>201</td>\n      <td>12</td>\n      <td>2537</td>\n      <td>0</td>\n      <td>116</td>\n      <td>22</td>\n      <td>2854</td>\n      <td>26 Mar 2021</td>\n    </tr>\n    <tr>\n      <th>979</th>\n      <td>10</td>\n      <td>KABUPATEN LAINNYA</td>\n      <td>11</td>\n      <td>77</td>\n      <td>0</td>\n      <td>380</td>\n      <td>0</td>\n      <td>4</td>\n      <td>11</td>\n      <td>461</td>\n      <td>26 Mar 2021</td>\n    </tr>\n  </tbody>\n</table>\n</div>"
     },
     "metadata": {},
     "execution_count": 26
    }
   ],
   "source": [
    "df_first.tail(30)"
   ]
  },
  {
   "cell_type": "code",
   "execution_count": 27,
   "metadata": {
    "execution": {
     "iopub.execute_input": "2021-03-26T05:10:09.088369Z",
     "iopub.status.busy": "2021-03-26T05:10:09.072363Z",
     "iopub.status.idle": "2021-03-26T05:10:09.094367Z",
     "shell.execute_reply": "2021-03-26T05:10:09.095362Z"
    }
   },
   "outputs": [
    {
     "output_type": "execute_result",
     "data": {
      "text/plain": [
       "  No Kabupaten / County new_treatment total_treatment new_recovered  \\\n",
       "0  1           JEMBRANA            -7              70             7   \n",
       "1  2            TABANAN           -10             434            35   \n",
       "2  3             BADUNG            -9             159            27   \n",
       "3  4           DENPASAR             1             166            26   \n",
       "4  5            GIANYAR           -16             234            31   \n",
       "\n",
       "  total_recovered new_deaths total_deaths new_cases total_cases          Date  \n",
       "0             579          1           14         1         663   05 Dec 2020  \n",
       "1            1016          0           47        25        1497   05 Dec 2020  \n",
       "2            2299          0           51        18        2509   05 Dec 2020  \n",
       "3            3705          0           90        27        3961   05 Dec 2020  \n",
       "4            1681          0           75        15        1990   05 Dec 2020  "
      ],
      "text/html": "<div>\n<style scoped>\n    .dataframe tbody tr th:only-of-type {\n        vertical-align: middle;\n    }\n\n    .dataframe tbody tr th {\n        vertical-align: top;\n    }\n\n    .dataframe thead th {\n        text-align: right;\n    }\n</style>\n<table border=\"1\" class=\"dataframe\">\n  <thead>\n    <tr style=\"text-align: right;\">\n      <th></th>\n      <th>No</th>\n      <th>Kabupaten / County</th>\n      <th>new_treatment</th>\n      <th>total_treatment</th>\n      <th>new_recovered</th>\n      <th>total_recovered</th>\n      <th>new_deaths</th>\n      <th>total_deaths</th>\n      <th>new_cases</th>\n      <th>total_cases</th>\n      <th>Date</th>\n    </tr>\n  </thead>\n  <tbody>\n    <tr>\n      <th>0</th>\n      <td>1</td>\n      <td>JEMBRANA</td>\n      <td>-7</td>\n      <td>70</td>\n      <td>7</td>\n      <td>579</td>\n      <td>1</td>\n      <td>14</td>\n      <td>1</td>\n      <td>663</td>\n      <td>05 Dec 2020</td>\n    </tr>\n    <tr>\n      <th>1</th>\n      <td>2</td>\n      <td>TABANAN</td>\n      <td>-10</td>\n      <td>434</td>\n      <td>35</td>\n      <td>1016</td>\n      <td>0</td>\n      <td>47</td>\n      <td>25</td>\n      <td>1497</td>\n      <td>05 Dec 2020</td>\n    </tr>\n    <tr>\n      <th>2</th>\n      <td>3</td>\n      <td>BADUNG</td>\n      <td>-9</td>\n      <td>159</td>\n      <td>27</td>\n      <td>2299</td>\n      <td>0</td>\n      <td>51</td>\n      <td>18</td>\n      <td>2509</td>\n      <td>05 Dec 2020</td>\n    </tr>\n    <tr>\n      <th>3</th>\n      <td>4</td>\n      <td>DENPASAR</td>\n      <td>1</td>\n      <td>166</td>\n      <td>26</td>\n      <td>3705</td>\n      <td>0</td>\n      <td>90</td>\n      <td>27</td>\n      <td>3961</td>\n      <td>05 Dec 2020</td>\n    </tr>\n    <tr>\n      <th>4</th>\n      <td>5</td>\n      <td>GIANYAR</td>\n      <td>-16</td>\n      <td>234</td>\n      <td>31</td>\n      <td>1681</td>\n      <td>0</td>\n      <td>75</td>\n      <td>15</td>\n      <td>1990</td>\n      <td>05 Dec 2020</td>\n    </tr>\n  </tbody>\n</table>\n</div>"
     },
     "metadata": {},
     "execution_count": 27
    }
   ],
   "source": [
    "## Column names from https://infocorona.baliprov.go.id/API/pendataan/laporan-harian-02.php = df_first and ...-01.php = df_second\n",
    "\n",
    "columns_first = [\n",
    "    'No','Kabupaten / County', 'new_treatment', 'total_treatment', 'new_recovered', 'total_recovered', 'new_deaths', 'total_deaths', 'new_cases', 'total_cases', 'Date']\n",
    "\n",
    "df_first.columns = columns_first\n",
    "df_first.head()"
   ]
  },
  {
   "cell_type": "code",
   "execution_count": 28,
   "metadata": {
    "execution": {
     "iopub.execute_input": "2021-03-26T05:10:09.105369Z",
     "iopub.status.busy": "2021-03-26T05:10:09.104364Z",
     "iopub.status.idle": "2021-03-26T05:10:09.120366Z",
     "shell.execute_reply": "2021-03-26T05:10:09.121388Z"
    }
   },
   "outputs": [
    {
     "output_type": "stream",
     "name": "stderr",
     "text": [
      "Error: JSON line can't be decoded. JSONDecodeError('Extra data: line 1 column 875 (char 874)')\n"
     ]
    }
   ],
   "source": [
    "\n",
    "##Extract data from SECOND TABLE\n",
    "###############################################\n",
    "data_second = []\n",
    "\n",
    "with open(json_file, 'rb') as f:\n",
    "    count =0\n",
    "    for line in json_lines.reader(f, broken=True):\n",
    "        count+= 1\n",
    "        if count % 2 != 0:\n",
    "            for x in range(0, 10):\n",
    "                data_second.append(line['data'][x])\n",
    "df_second = pd.DataFrame(data_second)"
   ]
  },
  {
   "cell_type": "code",
   "execution_count": 29,
   "metadata": {
    "execution": {
     "iopub.execute_input": "2021-03-26T05:10:09.136363Z",
     "iopub.status.busy": "2021-03-26T05:10:09.135366Z",
     "iopub.status.idle": "2021-03-26T05:10:09.140365Z",
     "shell.execute_reply": "2021-03-26T05:10:09.140365Z"
    }
   },
   "outputs": [
    {
     "output_type": "execute_result",
     "data": {
      "text/plain": [
       "      0                  1  2   3  4    5   6     7  8  9  10    11  \\\n",
       "985   6             BANGLI  0  58  1   22   4  1970  0  0   5  2050   \n",
       "986   7          KLUNGKUNG  0  19  1   51   9  1504  0  0  10  1574   \n",
       "987   8         KARANGASEM  0  23  0  165   2  1458  0  0   2  1646   \n",
       "988   9           BULELENG  0  42  0   24  22  2788  0  0  22  2854   \n",
       "989  10  KABUPATEN LAINNYA  1   7  4  118   6   336  0  0  11   461   \n",
       "\n",
       "               12  \n",
       "985   26 Mar 2021  \n",
       "986   26 Mar 2021  \n",
       "987   26 Mar 2021  \n",
       "988   26 Mar 2021  \n",
       "989   26 Mar 2021  "
      ],
      "text/html": "<div>\n<style scoped>\n    .dataframe tbody tr th:only-of-type {\n        vertical-align: middle;\n    }\n\n    .dataframe tbody tr th {\n        vertical-align: top;\n    }\n\n    .dataframe thead th {\n        text-align: right;\n    }\n</style>\n<table border=\"1\" class=\"dataframe\">\n  <thead>\n    <tr style=\"text-align: right;\">\n      <th></th>\n      <th>0</th>\n      <th>1</th>\n      <th>2</th>\n      <th>3</th>\n      <th>4</th>\n      <th>5</th>\n      <th>6</th>\n      <th>7</th>\n      <th>8</th>\n      <th>9</th>\n      <th>10</th>\n      <th>11</th>\n      <th>12</th>\n    </tr>\n  </thead>\n  <tbody>\n    <tr>\n      <th>985</th>\n      <td>6</td>\n      <td>BANGLI</td>\n      <td>0</td>\n      <td>58</td>\n      <td>1</td>\n      <td>22</td>\n      <td>4</td>\n      <td>1970</td>\n      <td>0</td>\n      <td>0</td>\n      <td>5</td>\n      <td>2050</td>\n      <td>26 Mar 2021</td>\n    </tr>\n    <tr>\n      <th>986</th>\n      <td>7</td>\n      <td>KLUNGKUNG</td>\n      <td>0</td>\n      <td>19</td>\n      <td>1</td>\n      <td>51</td>\n      <td>9</td>\n      <td>1504</td>\n      <td>0</td>\n      <td>0</td>\n      <td>10</td>\n      <td>1574</td>\n      <td>26 Mar 2021</td>\n    </tr>\n    <tr>\n      <th>987</th>\n      <td>8</td>\n      <td>KARANGASEM</td>\n      <td>0</td>\n      <td>23</td>\n      <td>0</td>\n      <td>165</td>\n      <td>2</td>\n      <td>1458</td>\n      <td>0</td>\n      <td>0</td>\n      <td>2</td>\n      <td>1646</td>\n      <td>26 Mar 2021</td>\n    </tr>\n    <tr>\n      <th>988</th>\n      <td>9</td>\n      <td>BULELENG</td>\n      <td>0</td>\n      <td>42</td>\n      <td>0</td>\n      <td>24</td>\n      <td>22</td>\n      <td>2788</td>\n      <td>0</td>\n      <td>0</td>\n      <td>22</td>\n      <td>2854</td>\n      <td>26 Mar 2021</td>\n    </tr>\n    <tr>\n      <th>989</th>\n      <td>10</td>\n      <td>KABUPATEN LAINNYA</td>\n      <td>1</td>\n      <td>7</td>\n      <td>4</td>\n      <td>118</td>\n      <td>6</td>\n      <td>336</td>\n      <td>0</td>\n      <td>0</td>\n      <td>11</td>\n      <td>461</td>\n      <td>26 Mar 2021</td>\n    </tr>\n  </tbody>\n</table>\n</div>"
     },
     "metadata": {},
     "execution_count": 29
    }
   ],
   "source": [
    "df_second.tail()"
   ]
  },
  {
   "cell_type": "code",
   "execution_count": 30,
   "metadata": {
    "execution": {
     "iopub.execute_input": "2021-03-26T05:10:09.146366Z",
     "iopub.status.busy": "2021-03-26T05:10:09.145366Z",
     "iopub.status.idle": "2021-03-26T05:10:09.147365Z",
     "shell.execute_reply": "2021-03-26T05:10:09.147365Z"
    }
   },
   "outputs": [],
   "source": [
    "# # Second data entry\n",
    "columnName_second =['No', 'Kabupaten / County', 'new PPLN/PMI', 'total history-of-foreign-travel/ migrant-worker (PPLN/PMI)', 'new domestic-travel-history', 'total domestic-travel-history (PPDN)', 'new_local_transmission', 'total_local_transmission',\t'new_other_transmission', 'total_other_transmission', 'new_cases' ,'total_cases', 'Date' ]\n",
    "\n",
    "df_second.columns = columnName_second\n"
   ]
  },
  {
   "cell_type": "code",
   "execution_count": 31,
   "metadata": {
    "execution": {
     "iopub.execute_input": "2021-03-26T05:10:09.154361Z",
     "iopub.status.busy": "2021-03-26T05:10:09.153362Z",
     "iopub.status.idle": "2021-03-26T05:10:09.157368Z",
     "shell.execute_reply": "2021-03-26T05:10:09.158365Z"
    }
   },
   "outputs": [],
   "source": [
    "df_second = df_second.drop(['Kabupaten / County','new_cases', 'total_cases'], axis=1)"
   ]
  },
  {
   "cell_type": "code",
   "execution_count": 32,
   "metadata": {
    "execution": {
     "iopub.execute_input": "2021-03-26T05:10:09.173361Z",
     "iopub.status.busy": "2021-03-26T05:10:09.172361Z",
     "iopub.status.idle": "2021-03-26T05:10:09.177365Z",
     "shell.execute_reply": "2021-03-26T05:10:09.177365Z"
    }
   },
   "outputs": [
    {
     "output_type": "execute_result",
     "data": {
      "text/plain": [
       "     No new PPLN/PMI  \\\n",
       "985   6            0   \n",
       "986   7            0   \n",
       "987   8            0   \n",
       "988   9            0   \n",
       "989  10            1   \n",
       "\n",
       "    total history-of-foreign-travel/ migrant-worker (PPLN/PMI)  \\\n",
       "985                                                 58           \n",
       "986                                                 19           \n",
       "987                                                 23           \n",
       "988                                                 42           \n",
       "989                                                  7           \n",
       "\n",
       "    new domestic-travel-history total domestic-travel-history (PPDN)  \\\n",
       "985                           1                                   22   \n",
       "986                           1                                   51   \n",
       "987                           0                                  165   \n",
       "988                           0                                   24   \n",
       "989                           4                                  118   \n",
       "\n",
       "    new_local_transmission total_local_transmission new_other_transmission  \\\n",
       "985                      4                     1970                      0   \n",
       "986                      9                     1504                      0   \n",
       "987                      2                     1458                      0   \n",
       "988                     22                     2788                      0   \n",
       "989                      6                      336                      0   \n",
       "\n",
       "    total_other_transmission          Date  \n",
       "985                        0   26 Mar 2021  \n",
       "986                        0   26 Mar 2021  \n",
       "987                        0   26 Mar 2021  \n",
       "988                        0   26 Mar 2021  \n",
       "989                        0   26 Mar 2021  "
      ],
      "text/html": "<div>\n<style scoped>\n    .dataframe tbody tr th:only-of-type {\n        vertical-align: middle;\n    }\n\n    .dataframe tbody tr th {\n        vertical-align: top;\n    }\n\n    .dataframe thead th {\n        text-align: right;\n    }\n</style>\n<table border=\"1\" class=\"dataframe\">\n  <thead>\n    <tr style=\"text-align: right;\">\n      <th></th>\n      <th>No</th>\n      <th>new PPLN/PMI</th>\n      <th>total history-of-foreign-travel/ migrant-worker (PPLN/PMI)</th>\n      <th>new domestic-travel-history</th>\n      <th>total domestic-travel-history (PPDN)</th>\n      <th>new_local_transmission</th>\n      <th>total_local_transmission</th>\n      <th>new_other_transmission</th>\n      <th>total_other_transmission</th>\n      <th>Date</th>\n    </tr>\n  </thead>\n  <tbody>\n    <tr>\n      <th>985</th>\n      <td>6</td>\n      <td>0</td>\n      <td>58</td>\n      <td>1</td>\n      <td>22</td>\n      <td>4</td>\n      <td>1970</td>\n      <td>0</td>\n      <td>0</td>\n      <td>26 Mar 2021</td>\n    </tr>\n    <tr>\n      <th>986</th>\n      <td>7</td>\n      <td>0</td>\n      <td>19</td>\n      <td>1</td>\n      <td>51</td>\n      <td>9</td>\n      <td>1504</td>\n      <td>0</td>\n      <td>0</td>\n      <td>26 Mar 2021</td>\n    </tr>\n    <tr>\n      <th>987</th>\n      <td>8</td>\n      <td>0</td>\n      <td>23</td>\n      <td>0</td>\n      <td>165</td>\n      <td>2</td>\n      <td>1458</td>\n      <td>0</td>\n      <td>0</td>\n      <td>26 Mar 2021</td>\n    </tr>\n    <tr>\n      <th>988</th>\n      <td>9</td>\n      <td>0</td>\n      <td>42</td>\n      <td>0</td>\n      <td>24</td>\n      <td>22</td>\n      <td>2788</td>\n      <td>0</td>\n      <td>0</td>\n      <td>26 Mar 2021</td>\n    </tr>\n    <tr>\n      <th>989</th>\n      <td>10</td>\n      <td>1</td>\n      <td>7</td>\n      <td>4</td>\n      <td>118</td>\n      <td>6</td>\n      <td>336</td>\n      <td>0</td>\n      <td>0</td>\n      <td>26 Mar 2021</td>\n    </tr>\n  </tbody>\n</table>\n</div>"
     },
     "metadata": {},
     "execution_count": 32
    }
   ],
   "source": [
    "df_second.tail()"
   ]
  },
  {
   "cell_type": "code",
   "execution_count": 33,
   "metadata": {
    "execution": {
     "iopub.execute_input": "2021-03-26T05:10:09.184385Z",
     "iopub.status.busy": "2021-03-26T05:10:09.183369Z",
     "iopub.status.idle": "2021-03-26T05:10:09.221368Z",
     "shell.execute_reply": "2021-03-26T05:10:09.221368Z"
    }
   },
   "outputs": [
    {
     "output_type": "execute_result",
     "data": {
      "text/plain": [
       "  No Kabupaten / County new_treatment total_treatment new_recovered  \\\n",
       "0  1           JEMBRANA            -7              70             7   \n",
       "1  2            TABANAN           -10             434            35   \n",
       "2  3             BADUNG            -9             159            27   \n",
       "3  4           DENPASAR             1             166            26   \n",
       "4  5            GIANYAR           -16             234            31   \n",
       "\n",
       "  total_recovered new_deaths total_deaths new_cases total_cases          Date  \\\n",
       "0             579          1           14         1         663   05 Dec 2020   \n",
       "1            1016          0           47        25        1497   05 Dec 2020   \n",
       "2            2299          0           51        18        2509   05 Dec 2020   \n",
       "3            3705          0           90        27        3961   05 Dec 2020   \n",
       "4            1681          0           75        15        1990   05 Dec 2020   \n",
       "\n",
       "  new PPLN/PMI total history-of-foreign-travel/ migrant-worker (PPLN/PMI)  \\\n",
       "0            0                                                 26           \n",
       "1            0                                                 21           \n",
       "2            0                                                 27           \n",
       "3            0                                                 48           \n",
       "4            0                                                 29           \n",
       "\n",
       "  new domestic-travel-history total domestic-travel-history (PPDN)  \\\n",
       "0                           0                                   11   \n",
       "1                           2                                   10   \n",
       "2                           0                                    4   \n",
       "3                          -1                                   22   \n",
       "4                          -1                                   10   \n",
       "\n",
       "  new_local_transmission total_local_transmission new_other_transmission  \\\n",
       "0                      1                      626                      0   \n",
       "1                     23                     1466                      0   \n",
       "2                     18                     2478                      0   \n",
       "3                     28                     3891                      0   \n",
       "4                     16                     1951                      0   \n",
       "\n",
       "  total_other_transmission  \n",
       "0                        0  \n",
       "1                        0  \n",
       "2                        0  \n",
       "3                        0  \n",
       "4                        0  "
      ],
      "text/html": "<div>\n<style scoped>\n    .dataframe tbody tr th:only-of-type {\n        vertical-align: middle;\n    }\n\n    .dataframe tbody tr th {\n        vertical-align: top;\n    }\n\n    .dataframe thead th {\n        text-align: right;\n    }\n</style>\n<table border=\"1\" class=\"dataframe\">\n  <thead>\n    <tr style=\"text-align: right;\">\n      <th></th>\n      <th>No</th>\n      <th>Kabupaten / County</th>\n      <th>new_treatment</th>\n      <th>total_treatment</th>\n      <th>new_recovered</th>\n      <th>total_recovered</th>\n      <th>new_deaths</th>\n      <th>total_deaths</th>\n      <th>new_cases</th>\n      <th>total_cases</th>\n      <th>Date</th>\n      <th>new PPLN/PMI</th>\n      <th>total history-of-foreign-travel/ migrant-worker (PPLN/PMI)</th>\n      <th>new domestic-travel-history</th>\n      <th>total domestic-travel-history (PPDN)</th>\n      <th>new_local_transmission</th>\n      <th>total_local_transmission</th>\n      <th>new_other_transmission</th>\n      <th>total_other_transmission</th>\n    </tr>\n  </thead>\n  <tbody>\n    <tr>\n      <th>0</th>\n      <td>1</td>\n      <td>JEMBRANA</td>\n      <td>-7</td>\n      <td>70</td>\n      <td>7</td>\n      <td>579</td>\n      <td>1</td>\n      <td>14</td>\n      <td>1</td>\n      <td>663</td>\n      <td>05 Dec 2020</td>\n      <td>0</td>\n      <td>26</td>\n      <td>0</td>\n      <td>11</td>\n      <td>1</td>\n      <td>626</td>\n      <td>0</td>\n      <td>0</td>\n    </tr>\n    <tr>\n      <th>1</th>\n      <td>2</td>\n      <td>TABANAN</td>\n      <td>-10</td>\n      <td>434</td>\n      <td>35</td>\n      <td>1016</td>\n      <td>0</td>\n      <td>47</td>\n      <td>25</td>\n      <td>1497</td>\n      <td>05 Dec 2020</td>\n      <td>0</td>\n      <td>21</td>\n      <td>2</td>\n      <td>10</td>\n      <td>23</td>\n      <td>1466</td>\n      <td>0</td>\n      <td>0</td>\n    </tr>\n    <tr>\n      <th>2</th>\n      <td>3</td>\n      <td>BADUNG</td>\n      <td>-9</td>\n      <td>159</td>\n      <td>27</td>\n      <td>2299</td>\n      <td>0</td>\n      <td>51</td>\n      <td>18</td>\n      <td>2509</td>\n      <td>05 Dec 2020</td>\n      <td>0</td>\n      <td>27</td>\n      <td>0</td>\n      <td>4</td>\n      <td>18</td>\n      <td>2478</td>\n      <td>0</td>\n      <td>0</td>\n    </tr>\n    <tr>\n      <th>3</th>\n      <td>4</td>\n      <td>DENPASAR</td>\n      <td>1</td>\n      <td>166</td>\n      <td>26</td>\n      <td>3705</td>\n      <td>0</td>\n      <td>90</td>\n      <td>27</td>\n      <td>3961</td>\n      <td>05 Dec 2020</td>\n      <td>0</td>\n      <td>48</td>\n      <td>-1</td>\n      <td>22</td>\n      <td>28</td>\n      <td>3891</td>\n      <td>0</td>\n      <td>0</td>\n    </tr>\n    <tr>\n      <th>4</th>\n      <td>5</td>\n      <td>GIANYAR</td>\n      <td>-16</td>\n      <td>234</td>\n      <td>31</td>\n      <td>1681</td>\n      <td>0</td>\n      <td>75</td>\n      <td>15</td>\n      <td>1990</td>\n      <td>05 Dec 2020</td>\n      <td>0</td>\n      <td>29</td>\n      <td>-1</td>\n      <td>10</td>\n      <td>16</td>\n      <td>1951</td>\n      <td>0</td>\n      <td>0</td>\n    </tr>\n  </tbody>\n</table>\n</div>"
     },
     "metadata": {},
     "execution_count": 33
    }
   ],
   "source": [
    "\n",
    "## Merge both df\n",
    "#############################\n",
    "df_merged = pd.merge(df_first, df_second, how= 'left', left_on=['No', \"Date\"], right_on=['No', \"Date\"])\n",
    "\n",
    "df_bali = df_merged.copy()\n",
    "df_bali.head()"
   ]
  },
  {
   "cell_type": "code",
   "execution_count": 34,
   "metadata": {
    "execution": {
     "iopub.execute_input": "2021-03-26T05:10:09.227367Z",
     "iopub.status.busy": "2021-03-26T05:10:09.225360Z",
     "iopub.status.idle": "2021-03-26T05:10:09.260365Z",
     "shell.execute_reply": "2021-03-26T05:10:09.260365Z"
    }
   },
   "outputs": [
    {
     "output_type": "execute_result",
     "data": {
      "text/plain": [
       "     No Kabupaten / County new_treatment total_treatment new_recovered  \\\n",
       "887   8         KARANGASEM             1              74             0   \n",
       "888   9           BULELENG           -13             138            19   \n",
       "889  10  KABUPATEN LAINNYA             2             103             4   \n",
       "890   1           JEMBRANA             2             110             1   \n",
       "891   2            TABANAN            -7             102            29   \n",
       "..   ..                ...           ...             ...           ...   \n",
       "975   6             BANGLI             4              84             1   \n",
       "976   7          KLUNGKUNG             1              97             9   \n",
       "977   8         KARANGASEM             2              53             0   \n",
       "978   9           BULELENG            10             201            12   \n",
       "979  10  KABUPATEN LAINNYA            11              77             0   \n",
       "\n",
       "    total_recovered new_deaths total_deaths new_cases total_cases  \\\n",
       "887            1450          0           77         1        1601   \n",
       "888            2388          2          109         8        2635   \n",
       "889             320          0            4         6         427   \n",
       "890            1926          0           71         3        2107   \n",
       "891            3748          1          128        23        3978   \n",
       "..              ...        ...          ...       ...         ...   \n",
       "975            1887          0           79         5        2050   \n",
       "976            1431          0           46        10        1574   \n",
       "977            1509          0           84         2        1646   \n",
       "978            2537          0          116        22        2854   \n",
       "979             380          0            4        11         461   \n",
       "\n",
       "             Date new PPLN/PMI  \\\n",
       "887   16 Mar 2021            0   \n",
       "888   16 Mar 2021            0   \n",
       "889   16 Mar 2021            0   \n",
       "890   17 Mar 2021            0   \n",
       "891   17 Mar 2021            0   \n",
       "..            ...          ...   \n",
       "975   26 Mar 2021            0   \n",
       "976   26 Mar 2021            0   \n",
       "977   26 Mar 2021            0   \n",
       "978   26 Mar 2021            0   \n",
       "979   26 Mar 2021            1   \n",
       "\n",
       "    total history-of-foreign-travel/ migrant-worker (PPLN/PMI)  \\\n",
       "887                                                 23           \n",
       "888                                                 41           \n",
       "889                                                  6           \n",
       "890                                                 26           \n",
       "891                                                 23           \n",
       "..                                                 ...           \n",
       "975                                                 58           \n",
       "976                                                 19           \n",
       "977                                                 23           \n",
       "978                                                 42           \n",
       "979                                                  7           \n",
       "\n",
       "    new domestic-travel-history total domestic-travel-history (PPDN)  \\\n",
       "887                           1                                  145   \n",
       "888                           0                                   24   \n",
       "889                           1                                  111   \n",
       "890                           0                                   61   \n",
       "891                           0                                  142   \n",
       "..                          ...                                  ...   \n",
       "975                           1                                   22   \n",
       "976                           1                                   51   \n",
       "977                           0                                  165   \n",
       "978                           0                                   24   \n",
       "979                           4                                  118   \n",
       "\n",
       "    new_local_transmission total_local_transmission new_other_transmission  \\\n",
       "887                      0                     1433                      0   \n",
       "888                      8                     2570                      0   \n",
       "889                      5                      310                      0   \n",
       "890                      3                     2020                      0   \n",
       "891                     23                     3813                      0   \n",
       "..                     ...                      ...                    ...   \n",
       "975                      4                     1970                      0   \n",
       "976                      9                     1504                      0   \n",
       "977                      2                     1458                      0   \n",
       "978                     22                     2788                      0   \n",
       "979                      6                      336                      0   \n",
       "\n",
       "    total_other_transmission  \n",
       "887                        0  \n",
       "888                        0  \n",
       "889                        0  \n",
       "890                        0  \n",
       "891                        0  \n",
       "..                       ...  \n",
       "975                        0  \n",
       "976                        0  \n",
       "977                        0  \n",
       "978                        0  \n",
       "979                        0  \n",
       "\n",
       "[93 rows x 19 columns]"
      ],
      "text/html": "<div>\n<style scoped>\n    .dataframe tbody tr th:only-of-type {\n        vertical-align: middle;\n    }\n\n    .dataframe tbody tr th {\n        vertical-align: top;\n    }\n\n    .dataframe thead th {\n        text-align: right;\n    }\n</style>\n<table border=\"1\" class=\"dataframe\">\n  <thead>\n    <tr style=\"text-align: right;\">\n      <th></th>\n      <th>No</th>\n      <th>Kabupaten / County</th>\n      <th>new_treatment</th>\n      <th>total_treatment</th>\n      <th>new_recovered</th>\n      <th>total_recovered</th>\n      <th>new_deaths</th>\n      <th>total_deaths</th>\n      <th>new_cases</th>\n      <th>total_cases</th>\n      <th>Date</th>\n      <th>new PPLN/PMI</th>\n      <th>total history-of-foreign-travel/ migrant-worker (PPLN/PMI)</th>\n      <th>new domestic-travel-history</th>\n      <th>total domestic-travel-history (PPDN)</th>\n      <th>new_local_transmission</th>\n      <th>total_local_transmission</th>\n      <th>new_other_transmission</th>\n      <th>total_other_transmission</th>\n    </tr>\n  </thead>\n  <tbody>\n    <tr>\n      <th>887</th>\n      <td>8</td>\n      <td>KARANGASEM</td>\n      <td>1</td>\n      <td>74</td>\n      <td>0</td>\n      <td>1450</td>\n      <td>0</td>\n      <td>77</td>\n      <td>1</td>\n      <td>1601</td>\n      <td>16 Mar 2021</td>\n      <td>0</td>\n      <td>23</td>\n      <td>1</td>\n      <td>145</td>\n      <td>0</td>\n      <td>1433</td>\n      <td>0</td>\n      <td>0</td>\n    </tr>\n    <tr>\n      <th>888</th>\n      <td>9</td>\n      <td>BULELENG</td>\n      <td>-13</td>\n      <td>138</td>\n      <td>19</td>\n      <td>2388</td>\n      <td>2</td>\n      <td>109</td>\n      <td>8</td>\n      <td>2635</td>\n      <td>16 Mar 2021</td>\n      <td>0</td>\n      <td>41</td>\n      <td>0</td>\n      <td>24</td>\n      <td>8</td>\n      <td>2570</td>\n      <td>0</td>\n      <td>0</td>\n    </tr>\n    <tr>\n      <th>889</th>\n      <td>10</td>\n      <td>KABUPATEN LAINNYA</td>\n      <td>2</td>\n      <td>103</td>\n      <td>4</td>\n      <td>320</td>\n      <td>0</td>\n      <td>4</td>\n      <td>6</td>\n      <td>427</td>\n      <td>16 Mar 2021</td>\n      <td>0</td>\n      <td>6</td>\n      <td>1</td>\n      <td>111</td>\n      <td>5</td>\n      <td>310</td>\n      <td>0</td>\n      <td>0</td>\n    </tr>\n    <tr>\n      <th>890</th>\n      <td>1</td>\n      <td>JEMBRANA</td>\n      <td>2</td>\n      <td>110</td>\n      <td>1</td>\n      <td>1926</td>\n      <td>0</td>\n      <td>71</td>\n      <td>3</td>\n      <td>2107</td>\n      <td>17 Mar 2021</td>\n      <td>0</td>\n      <td>26</td>\n      <td>0</td>\n      <td>61</td>\n      <td>3</td>\n      <td>2020</td>\n      <td>0</td>\n      <td>0</td>\n    </tr>\n    <tr>\n      <th>891</th>\n      <td>2</td>\n      <td>TABANAN</td>\n      <td>-7</td>\n      <td>102</td>\n      <td>29</td>\n      <td>3748</td>\n      <td>1</td>\n      <td>128</td>\n      <td>23</td>\n      <td>3978</td>\n      <td>17 Mar 2021</td>\n      <td>0</td>\n      <td>23</td>\n      <td>0</td>\n      <td>142</td>\n      <td>23</td>\n      <td>3813</td>\n      <td>0</td>\n      <td>0</td>\n    </tr>\n    <tr>\n      <th>...</th>\n      <td>...</td>\n      <td>...</td>\n      <td>...</td>\n      <td>...</td>\n      <td>...</td>\n      <td>...</td>\n      <td>...</td>\n      <td>...</td>\n      <td>...</td>\n      <td>...</td>\n      <td>...</td>\n      <td>...</td>\n      <td>...</td>\n      <td>...</td>\n      <td>...</td>\n      <td>...</td>\n      <td>...</td>\n      <td>...</td>\n      <td>...</td>\n    </tr>\n    <tr>\n      <th>975</th>\n      <td>6</td>\n      <td>BANGLI</td>\n      <td>4</td>\n      <td>84</td>\n      <td>1</td>\n      <td>1887</td>\n      <td>0</td>\n      <td>79</td>\n      <td>5</td>\n      <td>2050</td>\n      <td>26 Mar 2021</td>\n      <td>0</td>\n      <td>58</td>\n      <td>1</td>\n      <td>22</td>\n      <td>4</td>\n      <td>1970</td>\n      <td>0</td>\n      <td>0</td>\n    </tr>\n    <tr>\n      <th>976</th>\n      <td>7</td>\n      <td>KLUNGKUNG</td>\n      <td>1</td>\n      <td>97</td>\n      <td>9</td>\n      <td>1431</td>\n      <td>0</td>\n      <td>46</td>\n      <td>10</td>\n      <td>1574</td>\n      <td>26 Mar 2021</td>\n      <td>0</td>\n      <td>19</td>\n      <td>1</td>\n      <td>51</td>\n      <td>9</td>\n      <td>1504</td>\n      <td>0</td>\n      <td>0</td>\n    </tr>\n    <tr>\n      <th>977</th>\n      <td>8</td>\n      <td>KARANGASEM</td>\n      <td>2</td>\n      <td>53</td>\n      <td>0</td>\n      <td>1509</td>\n      <td>0</td>\n      <td>84</td>\n      <td>2</td>\n      <td>1646</td>\n      <td>26 Mar 2021</td>\n      <td>0</td>\n      <td>23</td>\n      <td>0</td>\n      <td>165</td>\n      <td>2</td>\n      <td>1458</td>\n      <td>0</td>\n      <td>0</td>\n    </tr>\n    <tr>\n      <th>978</th>\n      <td>9</td>\n      <td>BULELENG</td>\n      <td>10</td>\n      <td>201</td>\n      <td>12</td>\n      <td>2537</td>\n      <td>0</td>\n      <td>116</td>\n      <td>22</td>\n      <td>2854</td>\n      <td>26 Mar 2021</td>\n      <td>0</td>\n      <td>42</td>\n      <td>0</td>\n      <td>24</td>\n      <td>22</td>\n      <td>2788</td>\n      <td>0</td>\n      <td>0</td>\n    </tr>\n    <tr>\n      <th>979</th>\n      <td>10</td>\n      <td>KABUPATEN LAINNYA</td>\n      <td>11</td>\n      <td>77</td>\n      <td>0</td>\n      <td>380</td>\n      <td>0</td>\n      <td>4</td>\n      <td>11</td>\n      <td>461</td>\n      <td>26 Mar 2021</td>\n      <td>1</td>\n      <td>7</td>\n      <td>4</td>\n      <td>118</td>\n      <td>6</td>\n      <td>336</td>\n      <td>0</td>\n      <td>0</td>\n    </tr>\n  </tbody>\n</table>\n<p>93 rows × 19 columns</p>\n</div>"
     },
     "metadata": {},
     "execution_count": 34
    }
   ],
   "source": [
    "df = df_bali.copy()\n",
    "df.tail(93)"
   ]
  },
  {
   "cell_type": "code",
   "execution_count": 35,
   "metadata": {
    "execution": {
     "iopub.execute_input": "2021-03-26T05:10:09.269365Z",
     "iopub.status.busy": "2021-03-26T05:10:09.268364Z",
     "iopub.status.idle": "2021-03-26T05:10:09.296367Z",
     "shell.execute_reply": "2021-03-26T05:10:09.296367Z"
    }
   },
   "outputs": [
    {
     "output_type": "execute_result",
     "data": {
      "text/plain": [
       "No                                                             int32\n",
       "Kabupaten / County                                            object\n",
       "new_treatment                                                 object\n",
       "total_treatment                                               object\n",
       "new_recovered                                                 object\n",
       "total_recovered                                               object\n",
       "new_deaths                                                    object\n",
       "total_deaths                                                  object\n",
       "new_cases                                                     object\n",
       "total_cases                                                   object\n",
       "Date                                                          object\n",
       "new PPLN/PMI                                                  object\n",
       "total history-of-foreign-travel/ migrant-worker (PPLN/PMI)    object\n",
       "new domestic-travel-history                                   object\n",
       "total domestic-travel-history (PPDN)                          object\n",
       "new_local_transmission                                        object\n",
       "total_local_transmission                                      object\n",
       "new_other_transmission                                        object\n",
       "total_other_transmission                                      object\n",
       "Name_EN                                                       object\n",
       "dtype: object"
      ]
     },
     "metadata": {},
     "execution_count": 35
    }
   ],
   "source": [
    "# delete duplicate columns and convert dtypes\n",
    "df = df.loc[:,~df.columns.duplicated()]\n",
    "\n",
    "## fill NaN in Kabubaten Lain fileds (confirmed cases from outside of bali regency but detected in Bali have no match with reference-data e.g)\n",
    "################################################\n",
    "df = df.fillna(0)\n",
    "df[df.isna().any(axis=1)]\n",
    "\n",
    "## convert columns\n",
    "df['No'] = df['No'].astype(int)\n",
    "df['Name_EN'] = df['Kabupaten / County'].astype(str)\n",
    "df.replace(\"KABUPATEN LAIN\", \"Others\", inplace=True)\n",
    "df['Name_EN'] = df['Name_EN'].str.capitalize()\n",
    "\n",
    "df.dtypes"
   ]
  },
  {
   "cell_type": "code",
   "execution_count": 36,
   "metadata": {},
   "outputs": [
    {
     "output_type": "execute_result",
     "data": {
      "text/plain": [
       "   No Kabupaten / County new_treatment total_treatment new_recovered  \\\n",
       "0   1           JEMBRANA            -7              70             7   \n",
       "1   2            TABANAN           -10             434            35   \n",
       "2   3             BADUNG            -9             159            27   \n",
       "3   4           DENPASAR             1             166            26   \n",
       "4   5            GIANYAR           -16             234            31   \n",
       "\n",
       "  total_recovered new_deaths total_deaths new_cases total_cases          Date  \\\n",
       "0             579          1           14         1         663   05 Dec 2020   \n",
       "1            1016          0           47        25        1497   05 Dec 2020   \n",
       "2            2299          0           51        18        2509   05 Dec 2020   \n",
       "3            3705          0           90        27        3961   05 Dec 2020   \n",
       "4            1681          0           75        15        1990   05 Dec 2020   \n",
       "\n",
       "  new PPLN/PMI total history-of-foreign-travel/ migrant-worker (PPLN/PMI)  \\\n",
       "0            0                                                 26           \n",
       "1            0                                                 21           \n",
       "2            0                                                 27           \n",
       "3            0                                                 48           \n",
       "4            0                                                 29           \n",
       "\n",
       "  new domestic-travel-history total domestic-travel-history (PPDN)  \\\n",
       "0                           0                                   11   \n",
       "1                           2                                   10   \n",
       "2                           0                                    4   \n",
       "3                          -1                                   22   \n",
       "4                          -1                                   10   \n",
       "\n",
       "  new_local_transmission total_local_transmission new_other_transmission  \\\n",
       "0                      1                      626                      0   \n",
       "1                     23                     1466                      0   \n",
       "2                     18                     2478                      0   \n",
       "3                     28                     3891                      0   \n",
       "4                     16                     1951                      0   \n",
       "\n",
       "  total_other_transmission   Name_EN  \n",
       "0                        0  Jembrana  \n",
       "1                        0   Tabanan  \n",
       "2                        0    Badung  \n",
       "3                        0  Denpasar  \n",
       "4                        0   Gianyar  "
      ],
      "text/html": "<div>\n<style scoped>\n    .dataframe tbody tr th:only-of-type {\n        vertical-align: middle;\n    }\n\n    .dataframe tbody tr th {\n        vertical-align: top;\n    }\n\n    .dataframe thead th {\n        text-align: right;\n    }\n</style>\n<table border=\"1\" class=\"dataframe\">\n  <thead>\n    <tr style=\"text-align: right;\">\n      <th></th>\n      <th>No</th>\n      <th>Kabupaten / County</th>\n      <th>new_treatment</th>\n      <th>total_treatment</th>\n      <th>new_recovered</th>\n      <th>total_recovered</th>\n      <th>new_deaths</th>\n      <th>total_deaths</th>\n      <th>new_cases</th>\n      <th>total_cases</th>\n      <th>Date</th>\n      <th>new PPLN/PMI</th>\n      <th>total history-of-foreign-travel/ migrant-worker (PPLN/PMI)</th>\n      <th>new domestic-travel-history</th>\n      <th>total domestic-travel-history (PPDN)</th>\n      <th>new_local_transmission</th>\n      <th>total_local_transmission</th>\n      <th>new_other_transmission</th>\n      <th>total_other_transmission</th>\n      <th>Name_EN</th>\n    </tr>\n  </thead>\n  <tbody>\n    <tr>\n      <th>0</th>\n      <td>1</td>\n      <td>JEMBRANA</td>\n      <td>-7</td>\n      <td>70</td>\n      <td>7</td>\n      <td>579</td>\n      <td>1</td>\n      <td>14</td>\n      <td>1</td>\n      <td>663</td>\n      <td>05 Dec 2020</td>\n      <td>0</td>\n      <td>26</td>\n      <td>0</td>\n      <td>11</td>\n      <td>1</td>\n      <td>626</td>\n      <td>0</td>\n      <td>0</td>\n      <td>Jembrana</td>\n    </tr>\n    <tr>\n      <th>1</th>\n      <td>2</td>\n      <td>TABANAN</td>\n      <td>-10</td>\n      <td>434</td>\n      <td>35</td>\n      <td>1016</td>\n      <td>0</td>\n      <td>47</td>\n      <td>25</td>\n      <td>1497</td>\n      <td>05 Dec 2020</td>\n      <td>0</td>\n      <td>21</td>\n      <td>2</td>\n      <td>10</td>\n      <td>23</td>\n      <td>1466</td>\n      <td>0</td>\n      <td>0</td>\n      <td>Tabanan</td>\n    </tr>\n    <tr>\n      <th>2</th>\n      <td>3</td>\n      <td>BADUNG</td>\n      <td>-9</td>\n      <td>159</td>\n      <td>27</td>\n      <td>2299</td>\n      <td>0</td>\n      <td>51</td>\n      <td>18</td>\n      <td>2509</td>\n      <td>05 Dec 2020</td>\n      <td>0</td>\n      <td>27</td>\n      <td>0</td>\n      <td>4</td>\n      <td>18</td>\n      <td>2478</td>\n      <td>0</td>\n      <td>0</td>\n      <td>Badung</td>\n    </tr>\n    <tr>\n      <th>3</th>\n      <td>4</td>\n      <td>DENPASAR</td>\n      <td>1</td>\n      <td>166</td>\n      <td>26</td>\n      <td>3705</td>\n      <td>0</td>\n      <td>90</td>\n      <td>27</td>\n      <td>3961</td>\n      <td>05 Dec 2020</td>\n      <td>0</td>\n      <td>48</td>\n      <td>-1</td>\n      <td>22</td>\n      <td>28</td>\n      <td>3891</td>\n      <td>0</td>\n      <td>0</td>\n      <td>Denpasar</td>\n    </tr>\n    <tr>\n      <th>4</th>\n      <td>5</td>\n      <td>GIANYAR</td>\n      <td>-16</td>\n      <td>234</td>\n      <td>31</td>\n      <td>1681</td>\n      <td>0</td>\n      <td>75</td>\n      <td>15</td>\n      <td>1990</td>\n      <td>05 Dec 2020</td>\n      <td>0</td>\n      <td>29</td>\n      <td>-1</td>\n      <td>10</td>\n      <td>16</td>\n      <td>1951</td>\n      <td>0</td>\n      <td>0</td>\n      <td>Gianyar</td>\n    </tr>\n  </tbody>\n</table>\n</div>"
     },
     "metadata": {},
     "execution_count": 36
    }
   ],
   "source": [
    "df.head()"
   ]
  },
  {
   "cell_type": "code",
   "execution_count": 37,
   "metadata": {
    "execution": {
     "iopub.execute_input": "2021-03-26T05:10:09.326373Z",
     "iopub.status.busy": "2021-03-26T05:10:09.318370Z",
     "iopub.status.idle": "2021-03-26T05:10:09.332379Z",
     "shell.execute_reply": "2021-03-26T05:10:09.332379Z"
    }
   },
   "outputs": [
    {
     "output_type": "execute_result",
     "data": {
      "text/plain": [
       "Timestamp('2020-12-05 00:00:00')"
      ]
     },
     "metadata": {},
     "execution_count": 37
    }
   ],
   "source": [
    "## convert date to datetime \n",
    "################################\n",
    "\n",
    "# from datetime import datetime -> datetime.strptime(date, format)\n",
    "# df[\"Date\"].apply(lambda x: parse(df['Date']))\n",
    "# or\n",
    "# df['Date'] = pd.to_datetime(df['Date'])\n",
    "## also possible\n",
    "\n",
    "from dateutil.parser import parse\n",
    "# check if Nan\n",
    "# df['Date'].isnull().values\n",
    "\n",
    "df['Date'] = df['Date'].str.strip()\n",
    "df['Date'] = df['Date'].astype(str) \n",
    "df['Date'] = pd.to_datetime(df.Date, errors='coerce')\n",
    "df['Date'][0]\n"
   ]
  },
  {
   "cell_type": "code",
   "execution_count": 38,
   "metadata": {
    "execution": {
     "iopub.execute_input": "2021-03-26T05:10:09.339366Z",
     "iopub.status.busy": "2021-03-26T05:10:09.338363Z",
     "iopub.status.idle": "2021-03-26T05:10:09.416364Z",
     "shell.execute_reply": "2021-03-26T05:10:09.417361Z"
    }
   },
   "outputs": [
    {
     "output_type": "execute_result",
     "data": {
      "text/plain": [
       "       Name_Indo     Name_EN     Capital  area_km2 population_2000  \\\n",
       "0           Bali        Bali         NaN  5,780.06       3,146,999   \n",
       "1       Buleleng    Buleleng   Singaraja  1,364.73         558.181   \n",
       "2       Jembrana    Jembrana      Negara    841.80         231.806   \n",
       "3     Karangasem  Karangasem    Amlapura    839.54         360.486   \n",
       "4        Tabanan     Tabanan     Tabanan    839.30          376.03   \n",
       "5         Bangli      Bangli      Bangli    490.71         193.776   \n",
       "6         Badung      Badung   Mangupura    418.52         345.863   \n",
       "7        Gianyar     Gianyar     Gianyar    368.00         393.155   \n",
       "8      Klungkung   Klungkung  Semarapura    315.00         155.262   \n",
       "9  Kota Denpasar    Denpasar    Denpasar    127.78          532.44   \n",
       "\n",
       "  population_2010 population_2015  HDI_2014_estimate  \\\n",
       "0       3,890,757       4,148,588       0.724 (High)   \n",
       "1         624.125         645.893     0.691 (Medium)   \n",
       "2         261.638         271.423     0.686 (Medium)   \n",
       "3         396.487         408.487     0.640 (Medium)   \n",
       "4         420.913         435.753       0.726 (High)   \n",
       "5         215.353         222.474     0.657 (Medium)   \n",
       "6         543.332         615.148       0.779 (High)   \n",
       "7         469.777         494.729       0.742 (High)   \n",
       "8         170.543         175.573     0.683 (Medium)   \n",
       "9         788.589         879.098  0.816 (Very High)   \n",
       "\n",
       "                           Gouvernor  Nr. of Sub-Districts  \\\n",
       "0                                NaN                   NaN   \n",
       "1               Putu Agus Suradnyana                   9.0   \n",
       "2                       I Putu Artha                   5.0   \n",
       "3            I Gusti Ayu Mas Sumatri                   8.0   \n",
       "4             Ni Putu Eka Wiryastuti                  10.0   \n",
       "5                     I Made Gianyar                   4.0   \n",
       "6               I Nyoman Giri Prasta                   6.0   \n",
       "7             I Made Agus Mahayastra                   7.0   \n",
       "8                   I Nyoman Suwirta                   4.0   \n",
       "9  Ida Bagus Rai Dharmawijaya Mantra                   4.0   \n",
       "\n",
       "  Nr of Keluruhan/Villages  \n",
       "0                      NaN  \n",
       "1                   19/129  \n",
       "2                    10/41  \n",
       "3                     3/75  \n",
       "4                    -/133  \n",
       "5                     4/68  \n",
       "6                    16/46  \n",
       "7                     6/64  \n",
       "8                     6/53  \n",
       "9                    16/27  "
      ],
      "text/html": "<div>\n<style scoped>\n    .dataframe tbody tr th:only-of-type {\n        vertical-align: middle;\n    }\n\n    .dataframe tbody tr th {\n        vertical-align: top;\n    }\n\n    .dataframe thead th {\n        text-align: right;\n    }\n</style>\n<table border=\"1\" class=\"dataframe\">\n  <thead>\n    <tr style=\"text-align: right;\">\n      <th></th>\n      <th>Name_Indo</th>\n      <th>Name_EN</th>\n      <th>Capital</th>\n      <th>area_km2</th>\n      <th>population_2000</th>\n      <th>population_2010</th>\n      <th>population_2015</th>\n      <th>HDI_2014_estimate</th>\n      <th>Gouvernor</th>\n      <th>Nr. of Sub-Districts</th>\n      <th>Nr of Keluruhan/Villages</th>\n    </tr>\n  </thead>\n  <tbody>\n    <tr>\n      <th>0</th>\n      <td>Bali</td>\n      <td>Bali</td>\n      <td>NaN</td>\n      <td>5,780.06</td>\n      <td>3,146,999</td>\n      <td>3,890,757</td>\n      <td>4,148,588</td>\n      <td>0.724 (High)</td>\n      <td>NaN</td>\n      <td>NaN</td>\n      <td>NaN</td>\n    </tr>\n    <tr>\n      <th>1</th>\n      <td>Buleleng</td>\n      <td>Buleleng</td>\n      <td>Singaraja</td>\n      <td>1,364.73</td>\n      <td>558.181</td>\n      <td>624.125</td>\n      <td>645.893</td>\n      <td>0.691 (Medium)</td>\n      <td>Putu Agus Suradnyana</td>\n      <td>9.0</td>\n      <td>19/129</td>\n    </tr>\n    <tr>\n      <th>2</th>\n      <td>Jembrana</td>\n      <td>Jembrana</td>\n      <td>Negara</td>\n      <td>841.80</td>\n      <td>231.806</td>\n      <td>261.638</td>\n      <td>271.423</td>\n      <td>0.686 (Medium)</td>\n      <td>I Putu Artha</td>\n      <td>5.0</td>\n      <td>10/41</td>\n    </tr>\n    <tr>\n      <th>3</th>\n      <td>Karangasem</td>\n      <td>Karangasem</td>\n      <td>Amlapura</td>\n      <td>839.54</td>\n      <td>360.486</td>\n      <td>396.487</td>\n      <td>408.487</td>\n      <td>0.640 (Medium)</td>\n      <td>I Gusti Ayu Mas Sumatri</td>\n      <td>8.0</td>\n      <td>3/75</td>\n    </tr>\n    <tr>\n      <th>4</th>\n      <td>Tabanan</td>\n      <td>Tabanan</td>\n      <td>Tabanan</td>\n      <td>839.30</td>\n      <td>376.03</td>\n      <td>420.913</td>\n      <td>435.753</td>\n      <td>0.726 (High)</td>\n      <td>Ni Putu Eka Wiryastuti</td>\n      <td>10.0</td>\n      <td>-/133</td>\n    </tr>\n    <tr>\n      <th>5</th>\n      <td>Bangli</td>\n      <td>Bangli</td>\n      <td>Bangli</td>\n      <td>490.71</td>\n      <td>193.776</td>\n      <td>215.353</td>\n      <td>222.474</td>\n      <td>0.657 (Medium)</td>\n      <td>I Made Gianyar</td>\n      <td>4.0</td>\n      <td>4/68</td>\n    </tr>\n    <tr>\n      <th>6</th>\n      <td>Badung</td>\n      <td>Badung</td>\n      <td>Mangupura</td>\n      <td>418.52</td>\n      <td>345.863</td>\n      <td>543.332</td>\n      <td>615.148</td>\n      <td>0.779 (High)</td>\n      <td>I Nyoman Giri Prasta</td>\n      <td>6.0</td>\n      <td>16/46</td>\n    </tr>\n    <tr>\n      <th>7</th>\n      <td>Gianyar</td>\n      <td>Gianyar</td>\n      <td>Gianyar</td>\n      <td>368.00</td>\n      <td>393.155</td>\n      <td>469.777</td>\n      <td>494.729</td>\n      <td>0.742 (High)</td>\n      <td>I Made Agus Mahayastra</td>\n      <td>7.0</td>\n      <td>6/64</td>\n    </tr>\n    <tr>\n      <th>8</th>\n      <td>Klungkung</td>\n      <td>Klungkung</td>\n      <td>Semarapura</td>\n      <td>315.00</td>\n      <td>155.262</td>\n      <td>170.543</td>\n      <td>175.573</td>\n      <td>0.683 (Medium)</td>\n      <td>I Nyoman Suwirta</td>\n      <td>4.0</td>\n      <td>6/53</td>\n    </tr>\n    <tr>\n      <th>9</th>\n      <td>Kota Denpasar</td>\n      <td>Denpasar</td>\n      <td>Denpasar</td>\n      <td>127.78</td>\n      <td>532.44</td>\n      <td>788.589</td>\n      <td>879.098</td>\n      <td>0.816 (Very High)</td>\n      <td>Ida Bagus Rai Dharmawijaya Mantra</td>\n      <td>4.0</td>\n      <td>16/27</td>\n    </tr>\n  </tbody>\n</table>\n</div>"
     },
     "metadata": {},
     "execution_count": 38
    }
   ],
   "source": [
    "## Reference Data \n",
    "## additional data like population, density etc.\n",
    "\n",
    "# data cleaning, processing\n",
    "##########################\n",
    "\n",
    "# add addtitional data\n",
    "df_ref = pd.read_excel('Bali_reference_data.xlsx')\n",
    "df_ref = df_ref.drop(columns=['https://en.wikipedia.org/wiki/Bali#cite_note-BPS2019-2', 'https://sp2010.bps.go.id/index.php/site/tabel?tid=321&wid=0', 'Source'])\n",
    "\n",
    "## adjust regency names of both data sources before merge\n",
    "##########################\n",
    "df_ref['Name_EN'] = df_ref['Name_Indo'].str.capitalize()\n",
    "df_ref.replace('Kota denpasar', 'Denpasar', inplace=True)\n",
    "df_ref.replace('totals', 'Bali', inplace=True)\n",
    "df_ref.replace('Totals', 'Bali', inplace=True)\n",
    "\n",
    "df_ref.head(15)"
   ]
  },
  {
   "cell_type": "code",
   "execution_count": 39,
   "metadata": {
    "execution": {
     "iopub.execute_input": "2021-03-26T05:10:09.426370Z",
     "iopub.status.busy": "2021-03-26T05:10:09.423366Z",
     "iopub.status.idle": "2021-03-26T05:10:09.434404Z",
     "shell.execute_reply": "2021-03-26T05:10:09.435366Z"
    }
   },
   "outputs": [],
   "source": [
    "# merge both df on 'Name_EN'\n",
    "df_merged = df.merge(df_ref, on=\"Name_EN\", how='left')"
   ]
  },
  {
   "cell_type": "code",
   "execution_count": 40,
   "metadata": {
    "execution": {
     "iopub.execute_input": "2021-03-26T05:10:09.441363Z",
     "iopub.status.busy": "2021-03-26T05:10:09.440363Z",
     "iopub.status.idle": "2021-03-26T05:10:09.445364Z",
     "shell.execute_reply": "2021-03-26T05:10:09.445364Z"
    }
   },
   "outputs": [
    {
     "output_type": "execute_result",
     "data": {
      "text/plain": [
       "Index(['No', 'Kabupaten / County', 'new_treatment', 'total_treatment',\n",
       "       'new_recovered', 'total_recovered', 'new_deaths', 'total_deaths',\n",
       "       'new_cases', 'total_cases', 'Date', 'new PPLN/PMI',\n",
       "       'total history-of-foreign-travel/ migrant-worker (PPLN/PMI)',\n",
       "       'new domestic-travel-history', 'total domestic-travel-history (PPDN)',\n",
       "       'new_local_transmission', 'total_local_transmission',\n",
       "       'new_other_transmission', 'total_other_transmission', 'Name_EN',\n",
       "       'Name_Indo', 'Capital', 'area_km2', 'population_2000',\n",
       "       'population_2010', 'population_2015', 'HDI_2014_estimate', 'Gouvernor',\n",
       "       'Nr. of Sub-Districts', 'Nr of Keluruhan/Villages'],\n",
       "      dtype='object')"
      ]
     },
     "metadata": {},
     "execution_count": 40
    }
   ],
   "source": [
    "df_merged.columns"
   ]
  },
  {
   "cell_type": "code",
   "execution_count": 41,
   "metadata": {
    "execution": {
     "iopub.execute_input": "2021-03-26T05:10:09.454365Z",
     "iopub.status.busy": "2021-03-26T05:10:09.452365Z",
     "iopub.status.idle": "2021-03-26T05:10:09.514363Z",
     "shell.execute_reply": "2021-03-26T05:10:09.515366Z"
    }
   },
   "outputs": [
    {
     "output_type": "execute_result",
     "data": {
      "text/plain": [
       "     No Kabupaten / County  new_treatment  total_treatment  new_recovered  \\\n",
       "975   6             BANGLI              4               84              1   \n",
       "976   7          KLUNGKUNG              1               97              9   \n",
       "977   8         KARANGASEM              2               53              0   \n",
       "978   9           BULELENG             10              201             12   \n",
       "979  10  KABUPATEN LAINNYA             11               77              0   \n",
       "\n",
       "     total_recovered  new_deaths  total_deaths  new_cases  total_cases  ...  \\\n",
       "975             1887           0            79          5         2050  ...   \n",
       "976             1431           0            46         10         1574  ...   \n",
       "977             1509           0            84          2         1646  ...   \n",
       "978             2537           0           116         22         2854  ...   \n",
       "979              380           0             4         11          461  ...   \n",
       "\n",
       "      Name_Indo     Capital  area_km2  population_2000  population_2010  \\\n",
       "975      Bangli      Bangli    490.71          193.776          215.353   \n",
       "976   Klungkung  Semarapura    315.00          155.262          170.543   \n",
       "977  Karangasem    Amlapura    839.54          360.486          396.487   \n",
       "978    Buleleng   Singaraja  1,364.73          558.181          624.125   \n",
       "979         NaN         NaN       NaN              NaN              NaN   \n",
       "\n",
       "     population_2015  HDI_2014_estimate                Gouvernor  \\\n",
       "975          222.474     0.657 (Medium)           I Made Gianyar   \n",
       "976          175.573     0.683 (Medium)         I Nyoman Suwirta   \n",
       "977          408.487     0.640 (Medium)  I Gusti Ayu Mas Sumatri   \n",
       "978          645.893     0.691 (Medium)     Putu Agus Suradnyana   \n",
       "979              NaN                NaN                      NaN   \n",
       "\n",
       "     Nr. of Sub-Districts Nr of Keluruhan/Villages  \n",
       "975                   4.0                     4/68  \n",
       "976                   4.0                     6/53  \n",
       "977                   8.0                     3/75  \n",
       "978                   9.0                   19/129  \n",
       "979                   NaN                      NaN  \n",
       "\n",
       "[5 rows x 30 columns]"
      ],
      "text/html": "<div>\n<style scoped>\n    .dataframe tbody tr th:only-of-type {\n        vertical-align: middle;\n    }\n\n    .dataframe tbody tr th {\n        vertical-align: top;\n    }\n\n    .dataframe thead th {\n        text-align: right;\n    }\n</style>\n<table border=\"1\" class=\"dataframe\">\n  <thead>\n    <tr style=\"text-align: right;\">\n      <th></th>\n      <th>No</th>\n      <th>Kabupaten / County</th>\n      <th>new_treatment</th>\n      <th>total_treatment</th>\n      <th>new_recovered</th>\n      <th>total_recovered</th>\n      <th>new_deaths</th>\n      <th>total_deaths</th>\n      <th>new_cases</th>\n      <th>total_cases</th>\n      <th>...</th>\n      <th>Name_Indo</th>\n      <th>Capital</th>\n      <th>area_km2</th>\n      <th>population_2000</th>\n      <th>population_2010</th>\n      <th>population_2015</th>\n      <th>HDI_2014_estimate</th>\n      <th>Gouvernor</th>\n      <th>Nr. of Sub-Districts</th>\n      <th>Nr of Keluruhan/Villages</th>\n    </tr>\n  </thead>\n  <tbody>\n    <tr>\n      <th>975</th>\n      <td>6</td>\n      <td>BANGLI</td>\n      <td>4</td>\n      <td>84</td>\n      <td>1</td>\n      <td>1887</td>\n      <td>0</td>\n      <td>79</td>\n      <td>5</td>\n      <td>2050</td>\n      <td>...</td>\n      <td>Bangli</td>\n      <td>Bangli</td>\n      <td>490.71</td>\n      <td>193.776</td>\n      <td>215.353</td>\n      <td>222.474</td>\n      <td>0.657 (Medium)</td>\n      <td>I Made Gianyar</td>\n      <td>4.0</td>\n      <td>4/68</td>\n    </tr>\n    <tr>\n      <th>976</th>\n      <td>7</td>\n      <td>KLUNGKUNG</td>\n      <td>1</td>\n      <td>97</td>\n      <td>9</td>\n      <td>1431</td>\n      <td>0</td>\n      <td>46</td>\n      <td>10</td>\n      <td>1574</td>\n      <td>...</td>\n      <td>Klungkung</td>\n      <td>Semarapura</td>\n      <td>315.00</td>\n      <td>155.262</td>\n      <td>170.543</td>\n      <td>175.573</td>\n      <td>0.683 (Medium)</td>\n      <td>I Nyoman Suwirta</td>\n      <td>4.0</td>\n      <td>6/53</td>\n    </tr>\n    <tr>\n      <th>977</th>\n      <td>8</td>\n      <td>KARANGASEM</td>\n      <td>2</td>\n      <td>53</td>\n      <td>0</td>\n      <td>1509</td>\n      <td>0</td>\n      <td>84</td>\n      <td>2</td>\n      <td>1646</td>\n      <td>...</td>\n      <td>Karangasem</td>\n      <td>Amlapura</td>\n      <td>839.54</td>\n      <td>360.486</td>\n      <td>396.487</td>\n      <td>408.487</td>\n      <td>0.640 (Medium)</td>\n      <td>I Gusti Ayu Mas Sumatri</td>\n      <td>8.0</td>\n      <td>3/75</td>\n    </tr>\n    <tr>\n      <th>978</th>\n      <td>9</td>\n      <td>BULELENG</td>\n      <td>10</td>\n      <td>201</td>\n      <td>12</td>\n      <td>2537</td>\n      <td>0</td>\n      <td>116</td>\n      <td>22</td>\n      <td>2854</td>\n      <td>...</td>\n      <td>Buleleng</td>\n      <td>Singaraja</td>\n      <td>1,364.73</td>\n      <td>558.181</td>\n      <td>624.125</td>\n      <td>645.893</td>\n      <td>0.691 (Medium)</td>\n      <td>Putu Agus Suradnyana</td>\n      <td>9.0</td>\n      <td>19/129</td>\n    </tr>\n    <tr>\n      <th>979</th>\n      <td>10</td>\n      <td>KABUPATEN LAINNYA</td>\n      <td>11</td>\n      <td>77</td>\n      <td>0</td>\n      <td>380</td>\n      <td>0</td>\n      <td>4</td>\n      <td>11</td>\n      <td>461</td>\n      <td>...</td>\n      <td>NaN</td>\n      <td>NaN</td>\n      <td>NaN</td>\n      <td>NaN</td>\n      <td>NaN</td>\n      <td>NaN</td>\n      <td>NaN</td>\n      <td>NaN</td>\n      <td>NaN</td>\n      <td>NaN</td>\n    </tr>\n  </tbody>\n</table>\n<p>5 rows × 30 columns</p>\n</div>"
     },
     "metadata": {},
     "execution_count": 41
    }
   ],
   "source": [
    "# # convert to integers\n",
    "int_numbers = ['new_treatment', 'total_treatment',\n",
    "       'new_recovered', 'total_recovered', 'new_deaths', 'total_deaths',\n",
    "       'new_cases', 'total_cases', 'new PPLN/PMI',\n",
    "       'total domestic-travel-history (PPDN)',\n",
    "       'new domestic-travel-history', 'total domestic-travel-history (PPDN)',\n",
    "       'new_local_transmission', 'total_local_transmission',\n",
    "       'new_other_transmission', 'total_other_transmission']\n",
    "## check for duplicated columns\n",
    "# print(df_merged.columns[df_merged.columns.duplicated(keep=False)])\n",
    "df_merged[int_numbers] = df_merged[int_numbers].apply(pd.to_numeric)\n",
    "df_merged.tail()"
   ]
  },
  {
   "cell_type": "code",
   "execution_count": 42,
   "metadata": {
    "execution": {
     "iopub.execute_input": "2021-03-26T05:10:09.527374Z",
     "iopub.status.busy": "2021-03-26T05:10:09.526366Z",
     "iopub.status.idle": "2021-03-26T05:10:09.572373Z",
     "shell.execute_reply": "2021-03-26T05:10:09.571362Z"
    }
   },
   "outputs": [],
   "source": [
    "# ## add columns with new calculated data\n",
    "#########################################\n",
    "\n",
    "df_merged['total_cases_per_100k'] = df_merged['total_cases'] / df_merged['population_2015'] * 100\n",
    "df_merged['total_cases_per_100k'] = df_merged['total_cases_per_100k'].apply(pd.to_numeric).round(2)\n",
    "\n",
    "df_merged['total_deaths_per_100k'] = df_merged['total_deaths'] / df_merged['population_2015'] * 100\n",
    "df_merged['total_deaths_per_100k'] = df_merged['total_deaths_per_100k'].apply(pd.to_numeric).round(2)\n",
    "\n",
    "df_merged['cases7'] = df_merged['new_cases'].rolling(window=7, center=False).mean()\n",
    "df_merged['cases7_per_100k'] = df_merged['cases7'] / df_merged['population_2015'] * 100\n",
    "df_merged['cases7_per_100k'] = df_merged['cases7_per_100k'].apply(pd.to_numeric).round(2)\n",
    "\n",
    "df_merged['total_cases_per_100k'] = df_merged['total_cases'] / df_merged['population_2015'] * 100\n",
    "df_merged['total_cases_per_100k'] = df_merged['total_cases_per_100k'].apply(pd.to_numeric).round(2)\n",
    "\n",
    "df_merged['deaths7'] = df_merged['new_deaths'].rolling(window=7, center=False).mean()\n",
    "df_merged['deaths7_per_100k'] = df_merged['total_deaths_per_100k'].rolling(window=7, center=False).mean()\n",
    "df_merged['deaths7_per_100k'] = df_merged['deaths7_per_100k'].apply(pd.to_numeric).round(2)\n",
    "\n",
    "df_merged['CFR'] = df_merged['total_deaths'] / df_merged['total_cases'] * 100\n",
    "df_merged['CFR'] = df_merged['CFR'].round(2)\n",
    "\n",
    "## Check new created values\n",
    "##############################\n",
    "# df_merged[['total_deaths', 'total_cases', 'total_deaths_per_100k', 'population_2015', 'total_cases_per_100k']]"
   ]
  },
  {
   "cell_type": "code",
   "execution_count": null,
   "metadata": {
    "execution": {
     "iopub.execute_input": "2021-03-22T03:53:25.107501Z",
     "iopub.status.busy": "2021-03-22T03:53:25.106500Z",
     "iopub.status.idle": "2021-03-22T03:53:25.111514Z",
     "shell.execute_reply": "2021-03-22T03:53:25.110516Z"
    }
   },
   "outputs": [],
   "source": []
  },
  {
   "cell_type": "code",
   "execution_count": 43,
   "metadata": {
    "execution": {
     "iopub.execute_input": "2021-03-26T05:10:09.581365Z",
     "iopub.status.busy": "2021-03-26T05:10:09.580365Z",
     "iopub.status.idle": "2021-03-26T05:10:09.583365Z",
     "shell.execute_reply": "2021-03-26T05:10:09.584365Z"
    }
   },
   "outputs": [],
   "source": [
    "# infection fatality ratio (IFR), which estimates this proportion of deaths among all infected individuals. The second is case fatality ratio (CFR), which estimates this proportion of deaths among identified confirmed cases. \n",
    "# see https://www.who.int/news-room/commentaries/detail/estimating-mortality-from-covid-19\n",
    "\n",
    "## Calculate in App after region selected and df only contains region\n",
    "\n",
    "df_merged['growth_rate_new_cases'] = df_merged['new_cases'].pct_change(fill_method ='ffill', periods=7)"
   ]
  },
  {
   "cell_type": "code",
   "execution_count": 44,
   "metadata": {
    "execution": {
     "iopub.execute_input": "2021-03-26T05:10:09.593366Z",
     "iopub.status.busy": "2021-03-26T05:10:09.592365Z",
     "iopub.status.idle": "2021-03-26T05:10:09.825366Z",
     "shell.execute_reply": "2021-03-26T05:10:09.826362Z"
    }
   },
   "outputs": [
    {
     "output_type": "execute_result",
     "data": {
      "text/plain": [
       "   No Kabupaten / County  new_treatment  total_treatment  new_recovered  \\\n",
       "0   1           JEMBRANA             -7               70              7   \n",
       "1   2            TABANAN            -10              434             35   \n",
       "2   3             BADUNG             -9              159             27   \n",
       "3   4           DENPASAR              1              166             26   \n",
       "4   5            GIANYAR            -16              234             31   \n",
       "\n",
       "   total_recovered  new_deaths  total_deaths  new_cases  total_cases  ...  \\\n",
       "0              579           1            14          1          663  ...   \n",
       "1             1016           0            47         25         1497  ...   \n",
       "2             2299           0            51         18         2509  ...   \n",
       "3             3705           0            90         27         3961  ...   \n",
       "4             1681           0            75         15         1990  ...   \n",
       "\n",
       "  Nr of Keluruhan/Villages  total_cases_per_100k total_deaths_per_100k  \\\n",
       "0                    10/41                244.27                  5.16   \n",
       "1                    -/133                343.54                 10.79   \n",
       "2                    16/46                407.87                  8.29   \n",
       "3                    16/27                450.58                 10.24   \n",
       "4                     6/64                402.24                 15.16   \n",
       "\n",
       "   cases7  cases7_per_100k  deaths7  deaths7_per_100k   CFR  \\\n",
       "0     NaN              NaN      NaN               NaN  2.11   \n",
       "1     NaN              NaN      NaN               NaN  3.14   \n",
       "2     NaN              NaN      NaN               NaN  2.03   \n",
       "3     NaN              NaN      NaN               NaN  2.27   \n",
       "4     NaN              NaN      NaN               NaN  3.77   \n",
       "\n",
       "   growth_rate_new_cases id  \n",
       "0                    NaN  5  \n",
       "1                    NaN  9  \n",
       "2                    NaN  1  \n",
       "3                    NaN  8  \n",
       "4                    NaN  4  \n",
       "\n",
       "[5 rows x 39 columns]"
      ],
      "text/html": "<div>\n<style scoped>\n    .dataframe tbody tr th:only-of-type {\n        vertical-align: middle;\n    }\n\n    .dataframe tbody tr th {\n        vertical-align: top;\n    }\n\n    .dataframe thead th {\n        text-align: right;\n    }\n</style>\n<table border=\"1\" class=\"dataframe\">\n  <thead>\n    <tr style=\"text-align: right;\">\n      <th></th>\n      <th>No</th>\n      <th>Kabupaten / County</th>\n      <th>new_treatment</th>\n      <th>total_treatment</th>\n      <th>new_recovered</th>\n      <th>total_recovered</th>\n      <th>new_deaths</th>\n      <th>total_deaths</th>\n      <th>new_cases</th>\n      <th>total_cases</th>\n      <th>...</th>\n      <th>Nr of Keluruhan/Villages</th>\n      <th>total_cases_per_100k</th>\n      <th>total_deaths_per_100k</th>\n      <th>cases7</th>\n      <th>cases7_per_100k</th>\n      <th>deaths7</th>\n      <th>deaths7_per_100k</th>\n      <th>CFR</th>\n      <th>growth_rate_new_cases</th>\n      <th>id</th>\n    </tr>\n  </thead>\n  <tbody>\n    <tr>\n      <th>0</th>\n      <td>1</td>\n      <td>JEMBRANA</td>\n      <td>-7</td>\n      <td>70</td>\n      <td>7</td>\n      <td>579</td>\n      <td>1</td>\n      <td>14</td>\n      <td>1</td>\n      <td>663</td>\n      <td>...</td>\n      <td>10/41</td>\n      <td>244.27</td>\n      <td>5.16</td>\n      <td>NaN</td>\n      <td>NaN</td>\n      <td>NaN</td>\n      <td>NaN</td>\n      <td>2.11</td>\n      <td>NaN</td>\n      <td>5</td>\n    </tr>\n    <tr>\n      <th>1</th>\n      <td>2</td>\n      <td>TABANAN</td>\n      <td>-10</td>\n      <td>434</td>\n      <td>35</td>\n      <td>1016</td>\n      <td>0</td>\n      <td>47</td>\n      <td>25</td>\n      <td>1497</td>\n      <td>...</td>\n      <td>-/133</td>\n      <td>343.54</td>\n      <td>10.79</td>\n      <td>NaN</td>\n      <td>NaN</td>\n      <td>NaN</td>\n      <td>NaN</td>\n      <td>3.14</td>\n      <td>NaN</td>\n      <td>9</td>\n    </tr>\n    <tr>\n      <th>2</th>\n      <td>3</td>\n      <td>BADUNG</td>\n      <td>-9</td>\n      <td>159</td>\n      <td>27</td>\n      <td>2299</td>\n      <td>0</td>\n      <td>51</td>\n      <td>18</td>\n      <td>2509</td>\n      <td>...</td>\n      <td>16/46</td>\n      <td>407.87</td>\n      <td>8.29</td>\n      <td>NaN</td>\n      <td>NaN</td>\n      <td>NaN</td>\n      <td>NaN</td>\n      <td>2.03</td>\n      <td>NaN</td>\n      <td>1</td>\n    </tr>\n    <tr>\n      <th>3</th>\n      <td>4</td>\n      <td>DENPASAR</td>\n      <td>1</td>\n      <td>166</td>\n      <td>26</td>\n      <td>3705</td>\n      <td>0</td>\n      <td>90</td>\n      <td>27</td>\n      <td>3961</td>\n      <td>...</td>\n      <td>16/27</td>\n      <td>450.58</td>\n      <td>10.24</td>\n      <td>NaN</td>\n      <td>NaN</td>\n      <td>NaN</td>\n      <td>NaN</td>\n      <td>2.27</td>\n      <td>NaN</td>\n      <td>8</td>\n    </tr>\n    <tr>\n      <th>4</th>\n      <td>5</td>\n      <td>GIANYAR</td>\n      <td>-16</td>\n      <td>234</td>\n      <td>31</td>\n      <td>1681</td>\n      <td>0</td>\n      <td>75</td>\n      <td>15</td>\n      <td>1990</td>\n      <td>...</td>\n      <td>6/64</td>\n      <td>402.24</td>\n      <td>15.16</td>\n      <td>NaN</td>\n      <td>NaN</td>\n      <td>NaN</td>\n      <td>NaN</td>\n      <td>3.77</td>\n      <td>NaN</td>\n      <td>4</td>\n    </tr>\n  </tbody>\n</table>\n<p>5 rows × 39 columns</p>\n</div>"
     },
     "metadata": {},
     "execution_count": 44
    }
   ],
   "source": [
    "## add id from geojson file\n",
    "geojson_bali = 'new_bali_id.geojson'\n",
    "\n",
    "# open new geojson (with id) file\n",
    "bali_geo_id = json.load(open(geojson_bali, 'r'))\n",
    "\n",
    "## get names of regencies\n",
    "regencies = []\n",
    "for regency in bali_geo_id['features']:\n",
    "  regencies.append(regency['properties']['ADM2_EN'])\n",
    "\n",
    "  # add id column in df with feature.id from geojson\n",
    "bali_id_map = {}\n",
    "for regency in bali_geo_id['features']:\n",
    "  bali_id_map[regency['properties']['ADM2_EN']] = regency['id']\n",
    "bali_id_map\n",
    "\n",
    "## for Foreigners or Other Regency add 'id' = 0\n",
    "df_merged['id'] = df_merged['Name_Indo'].apply(lambda x: bali_id_map[x] if x in bali_id_map else 0)\n",
    "df_merged.head()"
   ]
  },
  {
   "cell_type": "code",
   "execution_count": 45,
   "metadata": {
    "execution": {
     "iopub.execute_input": "2021-03-26T05:10:09.832366Z",
     "iopub.status.busy": "2021-03-26T05:10:09.831367Z",
     "iopub.status.idle": "2021-03-26T05:10:09.860363Z",
     "shell.execute_reply": "2021-03-26T05:10:09.861362Z"
    }
   },
   "outputs": [
    {
     "output_type": "execute_result",
     "data": {
      "text/plain": [
       "     No Kabupaten / County  new_treatment  total_treatment  new_recovered  \\\n",
       "975   6             BANGLI              4               84              1   \n",
       "976   7          KLUNGKUNG              1               97              9   \n",
       "977   8         KARANGASEM              2               53              0   \n",
       "978   9           BULELENG             10              201             12   \n",
       "979  10  KABUPATEN LAINNYA             11               77              0   \n",
       "\n",
       "     total_recovered  new_deaths  total_deaths  new_cases  total_cases  ...  \\\n",
       "975             1887           0            79          5         2050  ...   \n",
       "976             1431           0            46         10         1574  ...   \n",
       "977             1509           0            84          2         1646  ...   \n",
       "978             2537           0           116         22         2854  ...   \n",
       "979              380           0             4         11          461  ...   \n",
       "\n",
       "    Nr of Keluruhan/Villages  total_cases_per_100k total_deaths_per_100k  \\\n",
       "975                     4/68                921.46                 35.51   \n",
       "976                     6/53                896.49                 26.20   \n",
       "977                     3/75                402.95                 20.56   \n",
       "978                   19/129                441.87                 17.96   \n",
       "979                      NaN                   NaN                   NaN   \n",
       "\n",
       "        cases7  cases7_per_100k   deaths7  deaths7_per_100k   CFR  \\\n",
       "975  18.428571             8.28  0.857143               NaN  3.85   \n",
       "976  19.857143            11.31  0.857143             29.24  2.92   \n",
       "977  19.571429             4.79  0.857143             28.39  5.10   \n",
       "978  20.285714             3.14  0.857143             26.40  4.06   \n",
       "979  14.428571              NaN  0.571429               NaN  0.87   \n",
       "\n",
       "     growth_rate_new_cases id  \n",
       "975              -0.772727  2  \n",
       "976                    inf  7  \n",
       "977              -0.500000  6  \n",
       "978               0.294118  3  \n",
       "979              -0.788462  0  \n",
       "\n",
       "[5 rows x 39 columns]"
      ],
      "text/html": "<div>\n<style scoped>\n    .dataframe tbody tr th:only-of-type {\n        vertical-align: middle;\n    }\n\n    .dataframe tbody tr th {\n        vertical-align: top;\n    }\n\n    .dataframe thead th {\n        text-align: right;\n    }\n</style>\n<table border=\"1\" class=\"dataframe\">\n  <thead>\n    <tr style=\"text-align: right;\">\n      <th></th>\n      <th>No</th>\n      <th>Kabupaten / County</th>\n      <th>new_treatment</th>\n      <th>total_treatment</th>\n      <th>new_recovered</th>\n      <th>total_recovered</th>\n      <th>new_deaths</th>\n      <th>total_deaths</th>\n      <th>new_cases</th>\n      <th>total_cases</th>\n      <th>...</th>\n      <th>Nr of Keluruhan/Villages</th>\n      <th>total_cases_per_100k</th>\n      <th>total_deaths_per_100k</th>\n      <th>cases7</th>\n      <th>cases7_per_100k</th>\n      <th>deaths7</th>\n      <th>deaths7_per_100k</th>\n      <th>CFR</th>\n      <th>growth_rate_new_cases</th>\n      <th>id</th>\n    </tr>\n  </thead>\n  <tbody>\n    <tr>\n      <th>975</th>\n      <td>6</td>\n      <td>BANGLI</td>\n      <td>4</td>\n      <td>84</td>\n      <td>1</td>\n      <td>1887</td>\n      <td>0</td>\n      <td>79</td>\n      <td>5</td>\n      <td>2050</td>\n      <td>...</td>\n      <td>4/68</td>\n      <td>921.46</td>\n      <td>35.51</td>\n      <td>18.428571</td>\n      <td>8.28</td>\n      <td>0.857143</td>\n      <td>NaN</td>\n      <td>3.85</td>\n      <td>-0.772727</td>\n      <td>2</td>\n    </tr>\n    <tr>\n      <th>976</th>\n      <td>7</td>\n      <td>KLUNGKUNG</td>\n      <td>1</td>\n      <td>97</td>\n      <td>9</td>\n      <td>1431</td>\n      <td>0</td>\n      <td>46</td>\n      <td>10</td>\n      <td>1574</td>\n      <td>...</td>\n      <td>6/53</td>\n      <td>896.49</td>\n      <td>26.20</td>\n      <td>19.857143</td>\n      <td>11.31</td>\n      <td>0.857143</td>\n      <td>29.24</td>\n      <td>2.92</td>\n      <td>inf</td>\n      <td>7</td>\n    </tr>\n    <tr>\n      <th>977</th>\n      <td>8</td>\n      <td>KARANGASEM</td>\n      <td>2</td>\n      <td>53</td>\n      <td>0</td>\n      <td>1509</td>\n      <td>0</td>\n      <td>84</td>\n      <td>2</td>\n      <td>1646</td>\n      <td>...</td>\n      <td>3/75</td>\n      <td>402.95</td>\n      <td>20.56</td>\n      <td>19.571429</td>\n      <td>4.79</td>\n      <td>0.857143</td>\n      <td>28.39</td>\n      <td>5.10</td>\n      <td>-0.500000</td>\n      <td>6</td>\n    </tr>\n    <tr>\n      <th>978</th>\n      <td>9</td>\n      <td>BULELENG</td>\n      <td>10</td>\n      <td>201</td>\n      <td>12</td>\n      <td>2537</td>\n      <td>0</td>\n      <td>116</td>\n      <td>22</td>\n      <td>2854</td>\n      <td>...</td>\n      <td>19/129</td>\n      <td>441.87</td>\n      <td>17.96</td>\n      <td>20.285714</td>\n      <td>3.14</td>\n      <td>0.857143</td>\n      <td>26.40</td>\n      <td>4.06</td>\n      <td>0.294118</td>\n      <td>3</td>\n    </tr>\n    <tr>\n      <th>979</th>\n      <td>10</td>\n      <td>KABUPATEN LAINNYA</td>\n      <td>11</td>\n      <td>77</td>\n      <td>0</td>\n      <td>380</td>\n      <td>0</td>\n      <td>4</td>\n      <td>11</td>\n      <td>461</td>\n      <td>...</td>\n      <td>NaN</td>\n      <td>NaN</td>\n      <td>NaN</td>\n      <td>14.428571</td>\n      <td>NaN</td>\n      <td>0.571429</td>\n      <td>NaN</td>\n      <td>0.87</td>\n      <td>-0.788462</td>\n      <td>0</td>\n    </tr>\n  </tbody>\n</table>\n<p>5 rows × 39 columns</p>\n</div>"
     },
     "metadata": {},
     "execution_count": 45
    }
   ],
   "source": [
    "df_merged.tail()"
   ]
  },
  {
   "cell_type": "code",
   "execution_count": 46,
   "metadata": {
    "execution": {
     "iopub.execute_input": "2021-03-26T05:10:09.866361Z",
     "iopub.status.busy": "2021-03-26T05:10:09.865632Z",
     "iopub.status.idle": "2021-03-26T05:10:09.916364Z",
     "shell.execute_reply": "2021-03-26T05:10:09.916364Z"
    }
   },
   "outputs": [],
   "source": [
    "# create csv for Bali Dash App\n",
    "df_merged.to_csv('bali_regency_data.csv')\n"
   ]
  },
  {
   "cell_type": "code",
   "execution_count": 47,
   "metadata": {
    "execution": {
     "iopub.execute_input": "2021-03-26T05:10:09.922366Z",
     "iopub.status.busy": "2021-03-26T05:10:09.921364Z",
     "iopub.status.idle": "2021-03-26T05:10:09.962366Z",
     "shell.execute_reply": "2021-03-26T05:10:09.963364Z"
    }
   },
   "outputs": [],
   "source": [
    "# save a version in Kaggle Datasets (upload daily)\n",
    "\n",
    "df_merged.to_csv(r'C:\\Users\\ansve\\Coding\\Kaggle\\Datasets\\Covid19_Bali\\Covid19_Bali_Regencies_Data.csv')"
   ]
  },
  {
   "cell_type": "code",
   "execution_count": 27,
   "metadata": {
    "execution": {
     "iopub.execute_input": "2021-03-26T05:10:09.967364Z",
     "iopub.status.busy": "2021-03-26T05:10:09.966366Z",
     "iopub.status.idle": "2021-03-26T05:10:09.972371Z",
     "shell.execute_reply": "2021-03-26T05:10:09.971370Z"
    }
   },
   "outputs": [],
   "source": [
    "###  -------------------------------------\n",
    "### 2. INDONESIA COVID DATA \n",
    "###  -------------------------------------\n",
    "\n",
    "## From Kaggel Dataset\n",
    "# 1. connect to kaggle and get latest dataset\n"
   ]
  },
  {
   "cell_type": "code",
   "execution_count": 28,
   "metadata": {
    "execution": {
     "iopub.execute_input": "2021-03-26T05:10:09.981370Z",
     "iopub.status.busy": "2021-03-26T05:10:09.979367Z",
     "iopub.status.idle": "2021-03-26T05:10:17.696698Z",
     "shell.execute_reply": "2021-03-26T05:10:17.695703Z"
    }
   },
   "outputs": [],
   "source": [
    "# downoad single file\n",
    "#Signature: dataset_download_file(dataset, file_name, path=None, force=False, quiet=True)\n",
    "api.dataset_download_files('hendratno/covid19-indonesia/covid_19_indonesia_time_series_all.csv', unzip = True)\n",
    "# "
   ]
  },
  {
   "cell_type": "code",
   "execution_count": 29,
   "metadata": {
    "execution": {
     "iopub.execute_input": "2021-03-26T05:10:17.705700Z",
     "iopub.status.busy": "2021-03-26T05:10:17.704698Z",
     "iopub.status.idle": "2021-03-26T05:10:17.861697Z",
     "shell.execute_reply": "2021-03-26T05:10:17.862703Z"
    }
   },
   "outputs": [
    {
     "data": {
      "text/html": [
       "<div>\n",
       "<style scoped>\n",
       "    .dataframe tbody tr th:only-of-type {\n",
       "        vertical-align: middle;\n",
       "    }\n",
       "\n",
       "    .dataframe tbody tr th {\n",
       "        vertical-align: top;\n",
       "    }\n",
       "\n",
       "    .dataframe thead th {\n",
       "        text-align: right;\n",
       "    }\n",
       "</style>\n",
       "<table border=\"1\" class=\"dataframe\">\n",
       "  <thead>\n",
       "    <tr style=\"text-align: right;\">\n",
       "      <th></th>\n",
       "      <th>Date</th>\n",
       "      <th>Location ISO Code</th>\n",
       "      <th>Location</th>\n",
       "      <th>New Cases</th>\n",
       "      <th>New Deaths</th>\n",
       "      <th>New Recovered</th>\n",
       "      <th>New Active Cases</th>\n",
       "      <th>Total Cases</th>\n",
       "      <th>Total Deaths</th>\n",
       "      <th>Total Recovered</th>\n",
       "      <th>...</th>\n",
       "      <th>Longitude</th>\n",
       "      <th>Latitude</th>\n",
       "      <th>New Cases per Million</th>\n",
       "      <th>Total Cases per Million</th>\n",
       "      <th>New Deaths per Million</th>\n",
       "      <th>Total Deaths per Million</th>\n",
       "      <th>Case Fatality Rate</th>\n",
       "      <th>Case Recovered Rate</th>\n",
       "      <th>Growth Factor of New Cases</th>\n",
       "      <th>Growth Factor of New Deaths</th>\n",
       "    </tr>\n",
       "  </thead>\n",
       "  <tbody>\n",
       "    <tr>\n",
       "      <th>10689</th>\n",
       "      <td>1/21/2021</td>\n",
       "      <td>ID-SG</td>\n",
       "      <td>Sulawesi Tenggara</td>\n",
       "      <td>77</td>\n",
       "      <td>1</td>\n",
       "      <td>1</td>\n",
       "      <td>75</td>\n",
       "      <td>9016</td>\n",
       "      <td>172</td>\n",
       "      <td>7392</td>\n",
       "      <td>...</td>\n",
       "      <td>122.070311</td>\n",
       "      <td>-4.124689</td>\n",
       "      <td>29.22</td>\n",
       "      <td>3421.03</td>\n",
       "      <td>0.38</td>\n",
       "      <td>65.26</td>\n",
       "      <td>1.91%</td>\n",
       "      <td>81.99%</td>\n",
       "      <td>1.97</td>\n",
       "      <td>NaN</td>\n",
       "    </tr>\n",
       "    <tr>\n",
       "      <th>10690</th>\n",
       "      <td>1/21/2021</td>\n",
       "      <td>ID-SA</td>\n",
       "      <td>Sulawesi Utara</td>\n",
       "      <td>92</td>\n",
       "      <td>2</td>\n",
       "      <td>83</td>\n",
       "      <td>7</td>\n",
       "      <td>11931</td>\n",
       "      <td>361</td>\n",
       "      <td>8497</td>\n",
       "      <td>...</td>\n",
       "      <td>124.521240</td>\n",
       "      <td>1.259638</td>\n",
       "      <td>34.82</td>\n",
       "      <td>4516.10</td>\n",
       "      <td>0.76</td>\n",
       "      <td>136.64</td>\n",
       "      <td>3.03%</td>\n",
       "      <td>71.22%</td>\n",
       "      <td>0.39</td>\n",
       "      <td>1.00</td>\n",
       "    </tr>\n",
       "    <tr>\n",
       "      <th>10691</th>\n",
       "      <td>1/21/2021</td>\n",
       "      <td>ID-SB</td>\n",
       "      <td>Sumatera Barat</td>\n",
       "      <td>181</td>\n",
       "      <td>4</td>\n",
       "      <td>49</td>\n",
       "      <td>128</td>\n",
       "      <td>26091</td>\n",
       "      <td>577</td>\n",
       "      <td>18591</td>\n",
       "      <td>...</td>\n",
       "      <td>100.465062</td>\n",
       "      <td>-0.850253</td>\n",
       "      <td>32.79</td>\n",
       "      <td>4727.28</td>\n",
       "      <td>0.72</td>\n",
       "      <td>104.54</td>\n",
       "      <td>2.21%</td>\n",
       "      <td>71.25%</td>\n",
       "      <td>1.08</td>\n",
       "      <td>0.57</td>\n",
       "    </tr>\n",
       "    <tr>\n",
       "      <th>10692</th>\n",
       "      <td>1/21/2021</td>\n",
       "      <td>ID-SS</td>\n",
       "      <td>Sumatera Selatan</td>\n",
       "      <td>101</td>\n",
       "      <td>6</td>\n",
       "      <td>49</td>\n",
       "      <td>46</td>\n",
       "      <td>13437</td>\n",
       "      <td>652</td>\n",
       "      <td>10834</td>\n",
       "      <td>...</td>\n",
       "      <td>104.169465</td>\n",
       "      <td>-3.216212</td>\n",
       "      <td>12.29</td>\n",
       "      <td>1635.16</td>\n",
       "      <td>0.73</td>\n",
       "      <td>79.34</td>\n",
       "      <td>4.85%</td>\n",
       "      <td>80.63%</td>\n",
       "      <td>0.92</td>\n",
       "      <td>6.00</td>\n",
       "    </tr>\n",
       "    <tr>\n",
       "      <th>10693</th>\n",
       "      <td>1/21/2021</td>\n",
       "      <td>ID-SU</td>\n",
       "      <td>Sumatera Utara</td>\n",
       "      <td>83</td>\n",
       "      <td>1</td>\n",
       "      <td>80</td>\n",
       "      <td>2</td>\n",
       "      <td>19962</td>\n",
       "      <td>719</td>\n",
       "      <td>17228</td>\n",
       "      <td>...</td>\n",
       "      <td>99.051964</td>\n",
       "      <td>2.191894</td>\n",
       "      <td>5.58</td>\n",
       "      <td>1341.99</td>\n",
       "      <td>0.07</td>\n",
       "      <td>48.34</td>\n",
       "      <td>3.60%</td>\n",
       "      <td>86.30%</td>\n",
       "      <td>1.04</td>\n",
       "      <td>0.50</td>\n",
       "    </tr>\n",
       "  </tbody>\n",
       "</table>\n",
       "<p>5 rows × 37 columns</p>\n",
       "</div>"
      ],
      "text/plain": [
       "            Date Location ISO Code           Location  New Cases  New Deaths  \\\n",
       "10689  1/21/2021             ID-SG  Sulawesi Tenggara         77           1   \n",
       "10690  1/21/2021             ID-SA     Sulawesi Utara         92           2   \n",
       "10691  1/21/2021             ID-SB     Sumatera Barat        181           4   \n",
       "10692  1/21/2021             ID-SS   Sumatera Selatan        101           6   \n",
       "10693  1/21/2021             ID-SU     Sumatera Utara         83           1   \n",
       "\n",
       "       New Recovered  New Active Cases  Total Cases  Total Deaths  \\\n",
       "10689              1                75         9016           172   \n",
       "10690             83                 7        11931           361   \n",
       "10691             49               128        26091           577   \n",
       "10692             49                46        13437           652   \n",
       "10693             80                 2        19962           719   \n",
       "\n",
       "       Total Recovered  ...   Longitude  Latitude  New Cases per Million  \\\n",
       "10689             7392  ...  122.070311 -4.124689                  29.22   \n",
       "10690             8497  ...  124.521240  1.259638                  34.82   \n",
       "10691            18591  ...  100.465062 -0.850253                  32.79   \n",
       "10692            10834  ...  104.169465 -3.216212                  12.29   \n",
       "10693            17228  ...   99.051964  2.191894                   5.58   \n",
       "\n",
       "      Total Cases per Million New Deaths per Million Total Deaths per Million  \\\n",
       "10689                 3421.03                   0.38                    65.26   \n",
       "10690                 4516.10                   0.76                   136.64   \n",
       "10691                 4727.28                   0.72                   104.54   \n",
       "10692                 1635.16                   0.73                    79.34   \n",
       "10693                 1341.99                   0.07                    48.34   \n",
       "\n",
       "      Case Fatality Rate Case Recovered Rate Growth Factor of New Cases  \\\n",
       "10689              1.91%              81.99%                       1.97   \n",
       "10690              3.03%              71.22%                       0.39   \n",
       "10691              2.21%              71.25%                       1.08   \n",
       "10692              4.85%              80.63%                       0.92   \n",
       "10693              3.60%              86.30%                       1.04   \n",
       "\n",
       "       Growth Factor of New Deaths  \n",
       "10689                          NaN  \n",
       "10690                         1.00  \n",
       "10691                         0.57  \n",
       "10692                         6.00  \n",
       "10693                         0.50  \n",
       "\n",
       "[5 rows x 37 columns]"
      ]
     },
     "execution_count": 1,
     "metadata": {},
     "output_type": "execute_result"
    }
   ],
   "source": [
    "df_indo = pd.read_csv('covid_19_indonesia_time_series_all.csv')\n",
    "\n",
    "df_indo.tail()"
   ]
  },
  {
   "cell_type": "code",
   "execution_count": 30,
   "metadata": {
    "execution": {
     "iopub.execute_input": "2021-03-26T05:10:17.871702Z",
     "iopub.status.busy": "2021-03-26T05:10:17.870698Z",
     "iopub.status.idle": "2021-03-26T05:10:17.920697Z",
     "shell.execute_reply": "2021-03-26T05:10:17.921696Z"
    }
   },
   "outputs": [
    {
     "name": "stdout",
     "output_type": "stream",
     "text": [
      "3/1/2020\n"
     ]
    }
   ],
   "source": [
    "## convert dates to datetime format so matching with new dataframe before merging\n",
    "\n",
    "print(df_indo['Date'][0])\n",
    "df_indo['Date'] = pd.to_datetime(df_indo['Date'])\n"
   ]
  },
  {
   "cell_type": "code",
   "execution_count": 31,
   "metadata": {
    "execution": {
     "iopub.execute_input": "2021-03-26T05:10:17.929696Z",
     "iopub.status.busy": "2021-03-26T05:10:17.928701Z",
     "iopub.status.idle": "2021-03-26T05:10:17.931696Z",
     "shell.execute_reply": "2021-03-26T05:10:17.932697Z"
    }
   },
   "outputs": [],
   "source": [
    "## Dont Need since transfer to kawalcovid19 Data\n",
    "## Get Bali and Indo Data from new Xlsx Sheet\n",
    "## Source Kawal-Indo\n",
    "\n",
    "# df_indo_new = pd.read_excel('Indo_data.xlsx', 'Bali and Indo')\n",
    "# df_indo_new= df_indo_new.sort_values(by=['Date'], ascending=True)\n",
    "# df_indo_new['Date'][0]\n",
    "\n",
    "# ## Merge with old data df\n",
    "\n",
    "# df_indo = df_indo.append(df_indo_new)\n",
    "\n",
    "# # check values\n",
    "# df_indo.head()\n"
   ]
  },
  {
   "cell_type": "code",
   "execution_count": 32,
   "metadata": {
    "execution": {
     "iopub.execute_input": "2021-03-26T05:10:17.941701Z",
     "iopub.status.busy": "2021-03-26T05:10:17.939697Z",
     "iopub.status.idle": "2021-03-26T05:10:17.944697Z",
     "shell.execute_reply": "2021-03-26T05:10:17.945699Z"
    }
   },
   "outputs": [
    {
     "data": {
      "text/plain": [
       "Index(['Date', 'Location ISO Code', 'Location', 'New Cases', 'New Deaths',\n",
       "       'New Recovered', 'New Active Cases', 'Total Cases', 'Total Deaths',\n",
       "       'Total Recovered', 'Total Active Cases', 'Location Level',\n",
       "       'City or Regency', 'Province', 'Country', 'Continent', 'Island',\n",
       "       'Time Zone', 'Special Status', 'Total Regencies', 'Total Cities',\n",
       "       'Total Districts', 'Total Urban Villages', 'Total Rural Villages',\n",
       "       'Area (km2)', 'Population', 'Population Density', 'Longitude',\n",
       "       'Latitude', 'New Cases per Million', 'Total Cases per Million',\n",
       "       'New Deaths per Million', 'Total Deaths per Million',\n",
       "       'Case Fatality Rate', 'Case Recovered Rate',\n",
       "       'Growth Factor of New Cases', 'Growth Factor of New Deaths'],\n",
       "      dtype='object')"
      ]
     },
     "execution_count": 1,
     "metadata": {},
     "output_type": "execute_result"
    }
   ],
   "source": [
    "df_indo.columns"
   ]
  },
  {
   "cell_type": "code",
   "execution_count": 33,
   "metadata": {
    "execution": {
     "iopub.execute_input": "2021-03-26T05:10:17.955697Z",
     "iopub.status.busy": "2021-03-26T05:10:17.954700Z",
     "iopub.status.idle": "2021-03-26T05:10:17.960697Z",
     "shell.execute_reply": "2021-03-26T05:10:17.961695Z"
    }
   },
   "outputs": [
    {
     "data": {
      "text/plain": [
       "Index(['Date', 'Location ISO Code', 'Location', 'new_cases', 'new_deaths',\n",
       "       'new_recovered', 'New Active Cases', 'total_cases', 'total_deaths',\n",
       "       'total_recovered', 'Total Active Cases', 'Location Level',\n",
       "       'City or Regency', 'Province', 'Country', 'Continent', 'Island',\n",
       "       'Time Zone', 'Special Status', 'Total Regencies', 'Total Cities',\n",
       "       'Total Districts', 'Total Urban Villages', 'Total Rural Villages',\n",
       "       'Area (km2)', 'Population', 'Population Density', 'Longitude',\n",
       "       'Latitude', 'New Cases per Million', 'Total Cases per Million',\n",
       "       'New Deaths per Million', 'Total Deaths per Million', 'CFR',\n",
       "       'Case Recovered Rate', 'Growth Factor of New Cases',\n",
       "       'Growth Factor of New Deaths'],\n",
       "      dtype='object')"
      ]
     },
     "execution_count": 1,
     "metadata": {},
     "output_type": "execute_result"
    }
   ],
   "source": [
    "# adjust column names\n",
    "columns_new = ['Date', 'Location ISO Code', 'Location', 'new_cases', 'new_deaths',\n",
    "       'new_recovered', 'New Active Cases', 'total_cases', 'total_deaths',\n",
    "       'total_recovered', 'Total Active Cases', 'Location Level',\n",
    "       'City or Regency', 'Province', 'Country', 'Continent', 'Island',\n",
    "       'Time Zone', 'Special Status', 'Total Regencies', 'Total Cities',\n",
    "       'Total Districts', 'Total Urban Villages', 'Total Rural Villages',\n",
    "       'Area (km2)', 'Population', 'Population Density', 'Longitude',\n",
    "       'Latitude', 'New Cases per Million', 'Total Cases per Million',\n",
    "       'New Deaths per Million', 'Total Deaths per Million',\n",
    "       'CFR', 'Case Recovered Rate',\n",
    "       'Growth Factor of New Cases', 'Growth Factor of New Deaths']\n",
    "\n",
    "df_indo.columns = columns_new\n",
    "df_indo.columns"
   ]
  },
  {
   "cell_type": "code",
   "execution_count": 34,
   "metadata": {
    "execution": {
     "iopub.execute_input": "2021-03-26T05:10:17.970703Z",
     "iopub.status.busy": "2021-03-26T05:10:17.968703Z",
     "iopub.status.idle": "2021-03-26T05:10:17.974701Z",
     "shell.execute_reply": "2021-03-26T05:10:17.976700Z"
    }
   },
   "outputs": [
    {
     "data": {
      "text/plain": [
       "10846145"
      ]
     },
     "execution_count": 1,
     "metadata": {},
     "output_type": "execute_result"
    }
   ],
   "source": [
    "df_indo['Population'].iloc[1]\n"
   ]
  },
  {
   "cell_type": "code",
   "execution_count": 35,
   "metadata": {
    "execution": {
     "iopub.execute_input": "2021-03-26T05:10:17.989702Z",
     "iopub.status.busy": "2021-03-26T05:10:17.979700Z",
     "iopub.status.idle": "2021-03-26T05:10:18.023699Z",
     "shell.execute_reply": "2021-03-26T05:10:18.024702Z"
    }
   },
   "outputs": [],
   "source": [
    "# add columns so consistent with Bali_regency data\n",
    "df_indo['Name_EN'] = df_indo['Location'].str.casefold()\n",
    "\n",
    "df_indo['new_cases_per_100k'] = df_indo['new_cases'] / df_indo['Population'] * 100000.0\n",
    "df_indo['new_cases_per_100k'] = df_indo['new_cases_per_100k'].round(2)\n",
    "\n",
    "df_indo['new_deaths_per_100k'] = df_indo['new_deaths'] / df_indo['Population'] * 100000.0\n",
    "df_indo['new_deaths_per_100k']= df_indo['new_deaths_per_100k'].round(2)\n",
    "\n",
    "df_indo['total_cases_per_100k'] = df_indo['total_cases'] / df_indo['Population'] * 100000.0\n",
    "df_indo['total_cases_per_100k'] = df_indo['total_cases_per_100k'].round(2)\n",
    "\n",
    "df_indo['total_deaths_per_100k'] = df_indo['total_deaths'] / df_indo['Population'] * 100000.0\n",
    "df_indo['total_deaths_per_100k'] = df_indo['total_deaths_per_100k'].round(2)\n",
    "\n",
    "# rolling 7-day average / in App calculated after df only has selected_region \n",
    "# df_indo['cases7'] = df_indo['new_cases'].rolling(window=7, center=False).mean().round(2)\n",
    "# df_indo['deaths7'] = df_indo['new_deaths'].rolling(window=7, center = False).mean().round(2)\n",
    "\n",
    "# df_indo['cases7_per_100k'] = df_indo['cases7'] / df_indo['Population'] *100000\n",
    "# df_indo['deaths7_per_100k'] = df_indo['deaths7'] / df_indo['Population'] *100000\n",
    "# df_indo['cases7_per_100k'] = df_indo['cases7_per_100k'].round(2)\n",
    "# df_indo['deaths7_per_100k'] = df_indo['deaths7_per_100k'].round(2)\n",
    "\n",
    "# df_indo['growth_rate'] = df_indo['Growth Factor of New Cases']\n",
    "# df_indo['growth_rate_new_cases'] = df_indo['new_cases'].pct_change(periods=7, fill_method='ffill')\n",
    "\n",
    "# CFR\n",
    "df_indo['CFR'] = df_indo['total_deaths'] / df_indo['total_cases'] * 100\n"
   ]
  },
  {
   "cell_type": "code",
   "execution_count": 36,
   "metadata": {
    "execution": {
     "iopub.execute_input": "2021-03-26T05:10:18.032699Z",
     "iopub.status.busy": "2021-03-26T05:10:18.031705Z",
     "iopub.status.idle": "2021-03-26T05:10:18.060700Z",
     "shell.execute_reply": "2021-03-26T05:10:18.061698Z"
    }
   },
   "outputs": [],
   "source": [
    "## add id from geojson for choropleth Map\n",
    "#########################################\n",
    "\n",
    "# open new geojson (with id) file\n",
    "geojson_indo = 'new_indo_id.geojson'\n",
    "indo_geo_id = json.load(open(geojson_indo, 'r'))\n"
   ]
  },
  {
   "cell_type": "code",
   "execution_count": 37,
   "metadata": {
    "execution": {
     "iopub.execute_input": "2021-03-26T05:10:18.069701Z",
     "iopub.status.busy": "2021-03-26T05:10:18.068702Z",
     "iopub.status.idle": "2021-03-26T05:10:18.075694Z",
     "shell.execute_reply": "2021-03-26T05:10:18.076706Z"
    }
   },
   "outputs": [
    {
     "data": {
      "text/plain": [
       "8"
      ]
     },
     "execution_count": 1,
     "metadata": {},
     "output_type": "execute_result"
    }
   ],
   "source": [
    "indo_geo_id['features'][7]['id']"
   ]
  },
  {
   "cell_type": "code",
   "execution_count": 38,
   "metadata": {
    "execution": {
     "iopub.execute_input": "2021-03-26T05:10:18.087700Z",
     "iopub.status.busy": "2021-03-26T05:10:18.085699Z",
     "iopub.status.idle": "2021-03-26T05:10:18.093698Z",
     "shell.execute_reply": "2021-03-26T05:10:18.094699Z"
    }
   },
   "outputs": [
    {
     "data": {
      "text/plain": [
       "['Bangka-Belitung', 'Irian Jaya Barat', 'Yogyakarta', 'Jakarta Raya']"
      ]
     },
     "execution_count": 1,
     "metadata": {},
     "output_type": "execute_result"
    }
   ],
   "source": [
    "## ADJUST NAMES OF df_indo with NAMES OF GEOJSON ADM1_EN\n",
    "\n",
    "# which names are different\n",
    "names_df = df_indo['Location'].unique()\n",
    "provinces = []\n",
    "for province in indo_geo_id['features']:\n",
    "  provinces.append(province['properties']['state'])\n",
    "\n",
    "list(set(provinces) - set(names_df))"
   ]
  },
  {
   "cell_type": "code",
   "execution_count": 39,
   "metadata": {
    "execution": {
     "iopub.execute_input": "2021-03-26T05:10:18.101699Z",
     "iopub.status.busy": "2021-03-26T05:10:18.100696Z",
     "iopub.status.idle": "2021-03-26T05:10:18.104701Z",
     "shell.execute_reply": "2021-03-26T05:10:18.105702Z"
    }
   },
   "outputs": [],
   "source": [
    "list_df = ['DKI Jakarta', 'Kalimantan Utara', 'Daerah Istimewa Yogyakarta', 'Papua Barat','Kepulauan Bangka Belitung']\n",
    "\n",
    "list(set(provinces) - set(names_df))\n",
    "list1= ['Bangka-Belitung', 'Jakarta Raya', 'Yogyakarta', 'Irian Jaya Barat']\n"
   ]
  },
  {
   "cell_type": "code",
   "execution_count": 40,
   "metadata": {
    "execution": {
     "iopub.execute_input": "2021-03-26T05:10:18.114696Z",
     "iopub.status.busy": "2021-03-26T05:10:18.113713Z",
     "iopub.status.idle": "2021-03-26T05:10:18.168697Z",
     "shell.execute_reply": "2021-03-26T05:10:18.167701Z"
    }
   },
   "outputs": [],
   "source": [
    "# adjust Names of provnices in Indo\n",
    "\n",
    "df_indo = df_indo.replace(\"DKI Jakarta\", 'Jakarta Raya')\n",
    "df_indo = df_indo.replace(\"Papua Barat\", 'Irian Jaya Barat')\n",
    "df_indo = df_indo.replace(\"Daerah Istimewa Yogyakarta\", 'Yogyakarta')\n",
    "df_indo = df_indo.replace(\"Kepulauan Bangka Belitung\", 'Bangka-Belitung')"
   ]
  },
  {
   "cell_type": "code",
   "execution_count": 41,
   "metadata": {
    "execution": {
     "iopub.execute_input": "2021-03-26T05:10:18.196713Z",
     "iopub.status.busy": "2021-03-26T05:10:18.178695Z",
     "iopub.status.idle": "2021-03-26T05:10:18.293706Z",
     "shell.execute_reply": "2021-03-26T05:10:18.294700Z"
    }
   },
   "outputs": [
    {
     "data": {
      "text/html": [
       "<div>\n",
       "<style scoped>\n",
       "    .dataframe tbody tr th:only-of-type {\n",
       "        vertical-align: middle;\n",
       "    }\n",
       "\n",
       "    .dataframe tbody tr th {\n",
       "        vertical-align: top;\n",
       "    }\n",
       "\n",
       "    .dataframe thead th {\n",
       "        text-align: right;\n",
       "    }\n",
       "</style>\n",
       "<table border=\"1\" class=\"dataframe\">\n",
       "  <thead>\n",
       "    <tr style=\"text-align: right;\">\n",
       "      <th></th>\n",
       "      <th>Date</th>\n",
       "      <th>Location ISO Code</th>\n",
       "      <th>Location</th>\n",
       "      <th>new_cases</th>\n",
       "      <th>new_deaths</th>\n",
       "      <th>new_recovered</th>\n",
       "      <th>New Active Cases</th>\n",
       "      <th>total_cases</th>\n",
       "      <th>total_deaths</th>\n",
       "      <th>total_recovered</th>\n",
       "      <th>...</th>\n",
       "      <th>CFR</th>\n",
       "      <th>Case Recovered Rate</th>\n",
       "      <th>Growth Factor of New Cases</th>\n",
       "      <th>Growth Factor of New Deaths</th>\n",
       "      <th>Name_EN</th>\n",
       "      <th>new_cases_per_100k</th>\n",
       "      <th>new_deaths_per_100k</th>\n",
       "      <th>total_cases_per_100k</th>\n",
       "      <th>total_deaths_per_100k</th>\n",
       "      <th>id</th>\n",
       "    </tr>\n",
       "  </thead>\n",
       "  <tbody>\n",
       "    <tr>\n",
       "      <th>10594</th>\n",
       "      <td>2021-01-19</td>\n",
       "      <td>ID-YO</td>\n",
       "      <td>Yogyakarta</td>\n",
       "      <td>287</td>\n",
       "      <td>1</td>\n",
       "      <td>107</td>\n",
       "      <td>179</td>\n",
       "      <td>17515</td>\n",
       "      <td>395</td>\n",
       "      <td>11761</td>\n",
       "      <td>...</td>\n",
       "      <td>2.255210</td>\n",
       "      <td>67.15%</td>\n",
       "      <td>0.97</td>\n",
       "      <td>0.17</td>\n",
       "      <td>daerah istimewa yogyakarta</td>\n",
       "      <td>7.90</td>\n",
       "      <td>0.03</td>\n",
       "      <td>482.37</td>\n",
       "      <td>10.88</td>\n",
       "      <td>3</td>\n",
       "    </tr>\n",
       "    <tr>\n",
       "      <th>10595</th>\n",
       "      <td>2021-01-19</td>\n",
       "      <td>ID-GO</td>\n",
       "      <td>Gorontalo</td>\n",
       "      <td>28</td>\n",
       "      <td>0</td>\n",
       "      <td>27</td>\n",
       "      <td>1</td>\n",
       "      <td>4108</td>\n",
       "      <td>107</td>\n",
       "      <td>3868</td>\n",
       "      <td>...</td>\n",
       "      <td>2.604674</td>\n",
       "      <td>94.16%</td>\n",
       "      <td>4.67</td>\n",
       "      <td>0.00</td>\n",
       "      <td>gorontalo</td>\n",
       "      <td>2.37</td>\n",
       "      <td>0.00</td>\n",
       "      <td>347.94</td>\n",
       "      <td>9.06</td>\n",
       "      <td>26</td>\n",
       "    </tr>\n",
       "    <tr>\n",
       "      <th>10596</th>\n",
       "      <td>2021-01-19</td>\n",
       "      <td>IDN</td>\n",
       "      <td>Indonesia</td>\n",
       "      <td>10365</td>\n",
       "      <td>308</td>\n",
       "      <td>8013</td>\n",
       "      <td>2044</td>\n",
       "      <td>927380</td>\n",
       "      <td>26590</td>\n",
       "      <td>753948</td>\n",
       "      <td>...</td>\n",
       "      <td>2.867217</td>\n",
       "      <td>81.30%</td>\n",
       "      <td>1.14</td>\n",
       "      <td>1.04</td>\n",
       "      <td>indonesia</td>\n",
       "      <td>3.91</td>\n",
       "      <td>0.12</td>\n",
       "      <td>349.71</td>\n",
       "      <td>10.03</td>\n",
       "      <td>0</td>\n",
       "    </tr>\n",
       "    <tr>\n",
       "      <th>10597</th>\n",
       "      <td>2021-01-19</td>\n",
       "      <td>ID-JA</td>\n",
       "      <td>Jambi</td>\n",
       "      <td>49</td>\n",
       "      <td>0</td>\n",
       "      <td>5</td>\n",
       "      <td>44</td>\n",
       "      <td>4024</td>\n",
       "      <td>61</td>\n",
       "      <td>2760</td>\n",
       "      <td>...</td>\n",
       "      <td>1.515905</td>\n",
       "      <td>68.59%</td>\n",
       "      <td>1.69</td>\n",
       "      <td>1.00</td>\n",
       "      <td>jambi</td>\n",
       "      <td>1.40</td>\n",
       "      <td>0.00</td>\n",
       "      <td>115.19</td>\n",
       "      <td>1.75</td>\n",
       "      <td>28</td>\n",
       "    </tr>\n",
       "    <tr>\n",
       "      <th>10598</th>\n",
       "      <td>2021-01-19</td>\n",
       "      <td>ID-JB</td>\n",
       "      <td>Jawa Barat</td>\n",
       "      <td>1684</td>\n",
       "      <td>24</td>\n",
       "      <td>1362</td>\n",
       "      <td>298</td>\n",
       "      <td>115756</td>\n",
       "      <td>1399</td>\n",
       "      <td>94133</td>\n",
       "      <td>...</td>\n",
       "      <td>1.208577</td>\n",
       "      <td>81.32%</td>\n",
       "      <td>1.13</td>\n",
       "      <td>0.86</td>\n",
       "      <td>jawa barat</td>\n",
       "      <td>3.73</td>\n",
       "      <td>0.05</td>\n",
       "      <td>256.32</td>\n",
       "      <td>3.10</td>\n",
       "      <td>29</td>\n",
       "    </tr>\n",
       "    <tr>\n",
       "      <th>...</th>\n",
       "      <td>...</td>\n",
       "      <td>...</td>\n",
       "      <td>...</td>\n",
       "      <td>...</td>\n",
       "      <td>...</td>\n",
       "      <td>...</td>\n",
       "      <td>...</td>\n",
       "      <td>...</td>\n",
       "      <td>...</td>\n",
       "      <td>...</td>\n",
       "      <td>...</td>\n",
       "      <td>...</td>\n",
       "      <td>...</td>\n",
       "      <td>...</td>\n",
       "      <td>...</td>\n",
       "      <td>...</td>\n",
       "      <td>...</td>\n",
       "      <td>...</td>\n",
       "      <td>...</td>\n",
       "      <td>...</td>\n",
       "      <td>...</td>\n",
       "    </tr>\n",
       "    <tr>\n",
       "      <th>10689</th>\n",
       "      <td>2021-01-21</td>\n",
       "      <td>ID-SG</td>\n",
       "      <td>Sulawesi Tenggara</td>\n",
       "      <td>77</td>\n",
       "      <td>1</td>\n",
       "      <td>1</td>\n",
       "      <td>75</td>\n",
       "      <td>9016</td>\n",
       "      <td>172</td>\n",
       "      <td>7392</td>\n",
       "      <td>...</td>\n",
       "      <td>1.907720</td>\n",
       "      <td>81.99%</td>\n",
       "      <td>1.97</td>\n",
       "      <td>NaN</td>\n",
       "      <td>sulawesi tenggara</td>\n",
       "      <td>2.92</td>\n",
       "      <td>0.04</td>\n",
       "      <td>342.10</td>\n",
       "      <td>6.53</td>\n",
       "      <td>23</td>\n",
       "    </tr>\n",
       "    <tr>\n",
       "      <th>10690</th>\n",
       "      <td>2021-01-21</td>\n",
       "      <td>ID-SA</td>\n",
       "      <td>Sulawesi Utara</td>\n",
       "      <td>92</td>\n",
       "      <td>2</td>\n",
       "      <td>83</td>\n",
       "      <td>7</td>\n",
       "      <td>11931</td>\n",
       "      <td>361</td>\n",
       "      <td>8497</td>\n",
       "      <td>...</td>\n",
       "      <td>3.025731</td>\n",
       "      <td>71.22%</td>\n",
       "      <td>0.39</td>\n",
       "      <td>1.00</td>\n",
       "      <td>sulawesi utara</td>\n",
       "      <td>3.48</td>\n",
       "      <td>0.08</td>\n",
       "      <td>451.61</td>\n",
       "      <td>13.66</td>\n",
       "      <td>22</td>\n",
       "    </tr>\n",
       "    <tr>\n",
       "      <th>10691</th>\n",
       "      <td>2021-01-21</td>\n",
       "      <td>ID-SB</td>\n",
       "      <td>Sumatera Barat</td>\n",
       "      <td>181</td>\n",
       "      <td>4</td>\n",
       "      <td>49</td>\n",
       "      <td>128</td>\n",
       "      <td>26091</td>\n",
       "      <td>577</td>\n",
       "      <td>18591</td>\n",
       "      <td>...</td>\n",
       "      <td>2.211491</td>\n",
       "      <td>71.25%</td>\n",
       "      <td>1.08</td>\n",
       "      <td>0.57</td>\n",
       "      <td>sumatera barat</td>\n",
       "      <td>3.28</td>\n",
       "      <td>0.07</td>\n",
       "      <td>472.73</td>\n",
       "      <td>10.45</td>\n",
       "      <td>2</td>\n",
       "    </tr>\n",
       "    <tr>\n",
       "      <th>10692</th>\n",
       "      <td>2021-01-21</td>\n",
       "      <td>ID-SS</td>\n",
       "      <td>Sumatera Selatan</td>\n",
       "      <td>101</td>\n",
       "      <td>6</td>\n",
       "      <td>49</td>\n",
       "      <td>46</td>\n",
       "      <td>13437</td>\n",
       "      <td>652</td>\n",
       "      <td>10834</td>\n",
       "      <td>...</td>\n",
       "      <td>4.852274</td>\n",
       "      <td>80.63%</td>\n",
       "      <td>0.92</td>\n",
       "      <td>6.00</td>\n",
       "      <td>sumatera selatan</td>\n",
       "      <td>1.23</td>\n",
       "      <td>0.07</td>\n",
       "      <td>163.52</td>\n",
       "      <td>7.93</td>\n",
       "      <td>33</td>\n",
       "    </tr>\n",
       "    <tr>\n",
       "      <th>10693</th>\n",
       "      <td>2021-01-21</td>\n",
       "      <td>ID-SU</td>\n",
       "      <td>Sumatera Utara</td>\n",
       "      <td>83</td>\n",
       "      <td>1</td>\n",
       "      <td>80</td>\n",
       "      <td>2</td>\n",
       "      <td>19962</td>\n",
       "      <td>719</td>\n",
       "      <td>17228</td>\n",
       "      <td>...</td>\n",
       "      <td>3.601844</td>\n",
       "      <td>86.30%</td>\n",
       "      <td>1.04</td>\n",
       "      <td>0.50</td>\n",
       "      <td>sumatera utara</td>\n",
       "      <td>0.56</td>\n",
       "      <td>0.01</td>\n",
       "      <td>134.20</td>\n",
       "      <td>4.83</td>\n",
       "      <td>4</td>\n",
       "    </tr>\n",
       "  </tbody>\n",
       "</table>\n",
       "<p>100 rows × 43 columns</p>\n",
       "</div>"
      ],
      "text/plain": [
       "            Date Location ISO Code           Location  new_cases  new_deaths  \\\n",
       "10594 2021-01-19             ID-YO         Yogyakarta        287           1   \n",
       "10595 2021-01-19             ID-GO          Gorontalo         28           0   \n",
       "10596 2021-01-19               IDN          Indonesia      10365         308   \n",
       "10597 2021-01-19             ID-JA              Jambi         49           0   \n",
       "10598 2021-01-19             ID-JB         Jawa Barat       1684          24   \n",
       "...          ...               ...                ...        ...         ...   \n",
       "10689 2021-01-21             ID-SG  Sulawesi Tenggara         77           1   \n",
       "10690 2021-01-21             ID-SA     Sulawesi Utara         92           2   \n",
       "10691 2021-01-21             ID-SB     Sumatera Barat        181           4   \n",
       "10692 2021-01-21             ID-SS   Sumatera Selatan        101           6   \n",
       "10693 2021-01-21             ID-SU     Sumatera Utara         83           1   \n",
       "\n",
       "       new_recovered  New Active Cases  total_cases  total_deaths  \\\n",
       "10594            107               179        17515           395   \n",
       "10595             27                 1         4108           107   \n",
       "10596           8013              2044       927380         26590   \n",
       "10597              5                44         4024            61   \n",
       "10598           1362               298       115756          1399   \n",
       "...              ...               ...          ...           ...   \n",
       "10689              1                75         9016           172   \n",
       "10690             83                 7        11931           361   \n",
       "10691             49               128        26091           577   \n",
       "10692             49                46        13437           652   \n",
       "10693             80                 2        19962           719   \n",
       "\n",
       "       total_recovered  ...       CFR Case Recovered Rate  \\\n",
       "10594            11761  ...  2.255210              67.15%   \n",
       "10595             3868  ...  2.604674              94.16%   \n",
       "10596           753948  ...  2.867217              81.30%   \n",
       "10597             2760  ...  1.515905              68.59%   \n",
       "10598            94133  ...  1.208577              81.32%   \n",
       "...                ...  ...       ...                 ...   \n",
       "10689             7392  ...  1.907720              81.99%   \n",
       "10690             8497  ...  3.025731              71.22%   \n",
       "10691            18591  ...  2.211491              71.25%   \n",
       "10692            10834  ...  4.852274              80.63%   \n",
       "10693            17228  ...  3.601844              86.30%   \n",
       "\n",
       "       Growth Factor of New Cases Growth Factor of New Deaths  \\\n",
       "10594                        0.97                        0.17   \n",
       "10595                        4.67                        0.00   \n",
       "10596                        1.14                        1.04   \n",
       "10597                        1.69                        1.00   \n",
       "10598                        1.13                        0.86   \n",
       "...                           ...                         ...   \n",
       "10689                        1.97                         NaN   \n",
       "10690                        0.39                        1.00   \n",
       "10691                        1.08                        0.57   \n",
       "10692                        0.92                        6.00   \n",
       "10693                        1.04                        0.50   \n",
       "\n",
       "                          Name_EN new_cases_per_100k new_deaths_per_100k  \\\n",
       "10594  daerah istimewa yogyakarta               7.90                0.03   \n",
       "10595                   gorontalo               2.37                0.00   \n",
       "10596                   indonesia               3.91                0.12   \n",
       "10597                       jambi               1.40                0.00   \n",
       "10598                  jawa barat               3.73                0.05   \n",
       "...                           ...                ...                 ...   \n",
       "10689           sulawesi tenggara               2.92                0.04   \n",
       "10690              sulawesi utara               3.48                0.08   \n",
       "10691              sumatera barat               3.28                0.07   \n",
       "10692            sumatera selatan               1.23                0.07   \n",
       "10693              sumatera utara               0.56                0.01   \n",
       "\n",
       "      total_cases_per_100k total_deaths_per_100k  id  \n",
       "10594               482.37                 10.88   3  \n",
       "10595               347.94                  9.06  26  \n",
       "10596               349.71                 10.03   0  \n",
       "10597               115.19                  1.75  28  \n",
       "10598               256.32                  3.10  29  \n",
       "...                    ...                   ...  ..  \n",
       "10689               342.10                  6.53  23  \n",
       "10690               451.61                 13.66  22  \n",
       "10691               472.73                 10.45   2  \n",
       "10692               163.52                  7.93  33  \n",
       "10693               134.20                  4.83   4  \n",
       "\n",
       "[100 rows x 43 columns]"
      ]
     },
     "execution_count": 1,
     "metadata": {},
     "output_type": "execute_result"
    }
   ],
   "source": [
    "provinces = []\n",
    "for province in indo_geo_id['features']:\n",
    "  provinces.append(province['properties']['state'])\n",
    "\n",
    "# add id column in df with feature.id from geojson\n",
    "indo_id_map = {}\n",
    "for province in indo_geo_id['features']:\n",
    "  indo_id_map[province['properties']['state']] = province['id']\n",
    "# indo_id_map\n",
    "\n",
    "# ## for Foreigners or Other Regency add 'id' = 0\n",
    "df_indo['id'] = df_indo['Location'].apply(lambda x: indo_id_map[x] if x in indo_id_map else 0)\n",
    "\n",
    "df_indo.tail(100)\n"
   ]
  },
  {
   "cell_type": "code",
   "execution_count": 42,
   "metadata": {
    "execution": {
     "iopub.execute_input": "2021-03-26T05:10:18.304704Z",
     "iopub.status.busy": "2021-03-26T05:10:18.302698Z",
     "iopub.status.idle": "2021-03-26T05:10:19.100699Z",
     "shell.execute_reply": "2021-03-26T05:10:19.101700Z"
    }
   },
   "outputs": [],
   "source": [
    "df_indo.to_csv('indo_province_data.csv')"
   ]
  },
  {
   "cell_type": "code",
   "execution_count": 43,
   "metadata": {
    "execution": {
     "iopub.execute_input": "2021-03-26T05:10:19.146696Z",
     "iopub.status.busy": "2021-03-26T05:10:19.109701Z",
     "iopub.status.idle": "2021-03-26T05:16:55.960471Z",
     "shell.execute_reply": "2021-03-26T05:16:55.962466Z"
    }
   },
   "outputs": [],
   "source": [
    "### 3. World Data? Comparison Data\n",
    "##------------------------\n",
    "\n",
    "# https://github.com/owid/covid-19-data/blob/master/public/data/owid-covid-data.csv\n",
    "\n",
    "url = \"https://raw.githubusercontent.com/owid/covid-19-data/master/public/data/owid-covid-data.csv\"\n",
    "df_world = pd.read_csv(url)"
   ]
  },
  {
   "cell_type": "code",
   "execution_count": 44,
   "metadata": {
    "execution": {
     "iopub.execute_input": "2021-03-26T05:16:56.005466Z",
     "iopub.status.busy": "2021-03-26T05:16:55.968469Z",
     "iopub.status.idle": "2021-03-26T05:16:56.043462Z",
     "shell.execute_reply": "2021-03-26T05:16:56.041461Z"
    }
   },
   "outputs": [
    {
     "data": {
      "text/html": [
       "<div>\n",
       "<style scoped>\n",
       "    .dataframe tbody tr th:only-of-type {\n",
       "        vertical-align: middle;\n",
       "    }\n",
       "\n",
       "    .dataframe tbody tr th {\n",
       "        vertical-align: top;\n",
       "    }\n",
       "\n",
       "    .dataframe thead th {\n",
       "        text-align: right;\n",
       "    }\n",
       "</style>\n",
       "<table border=\"1\" class=\"dataframe\">\n",
       "  <thead>\n",
       "    <tr style=\"text-align: right;\">\n",
       "      <th></th>\n",
       "      <th>iso_code</th>\n",
       "      <th>continent</th>\n",
       "      <th>location</th>\n",
       "      <th>date</th>\n",
       "      <th>total_cases</th>\n",
       "      <th>new_cases</th>\n",
       "      <th>new_cases_smoothed</th>\n",
       "      <th>total_deaths</th>\n",
       "      <th>new_deaths</th>\n",
       "      <th>new_deaths_smoothed</th>\n",
       "      <th>...</th>\n",
       "      <th>gdp_per_capita</th>\n",
       "      <th>extreme_poverty</th>\n",
       "      <th>cardiovasc_death_rate</th>\n",
       "      <th>diabetes_prevalence</th>\n",
       "      <th>female_smokers</th>\n",
       "      <th>male_smokers</th>\n",
       "      <th>handwashing_facilities</th>\n",
       "      <th>hospital_beds_per_thousand</th>\n",
       "      <th>life_expectancy</th>\n",
       "      <th>human_development_index</th>\n",
       "    </tr>\n",
       "  </thead>\n",
       "  <tbody>\n",
       "    <tr>\n",
       "      <th>0</th>\n",
       "      <td>AFG</td>\n",
       "      <td>Asia</td>\n",
       "      <td>Afghanistan</td>\n",
       "      <td>2020-02-24</td>\n",
       "      <td>1.0</td>\n",
       "      <td>1.0</td>\n",
       "      <td>NaN</td>\n",
       "      <td>NaN</td>\n",
       "      <td>NaN</td>\n",
       "      <td>NaN</td>\n",
       "      <td>...</td>\n",
       "      <td>1803.987</td>\n",
       "      <td>NaN</td>\n",
       "      <td>597.029</td>\n",
       "      <td>9.59</td>\n",
       "      <td>NaN</td>\n",
       "      <td>NaN</td>\n",
       "      <td>37.746</td>\n",
       "      <td>0.5</td>\n",
       "      <td>64.83</td>\n",
       "      <td>0.511</td>\n",
       "    </tr>\n",
       "    <tr>\n",
       "      <th>1</th>\n",
       "      <td>AFG</td>\n",
       "      <td>Asia</td>\n",
       "      <td>Afghanistan</td>\n",
       "      <td>2020-02-25</td>\n",
       "      <td>1.0</td>\n",
       "      <td>0.0</td>\n",
       "      <td>NaN</td>\n",
       "      <td>NaN</td>\n",
       "      <td>NaN</td>\n",
       "      <td>NaN</td>\n",
       "      <td>...</td>\n",
       "      <td>1803.987</td>\n",
       "      <td>NaN</td>\n",
       "      <td>597.029</td>\n",
       "      <td>9.59</td>\n",
       "      <td>NaN</td>\n",
       "      <td>NaN</td>\n",
       "      <td>37.746</td>\n",
       "      <td>0.5</td>\n",
       "      <td>64.83</td>\n",
       "      <td>0.511</td>\n",
       "    </tr>\n",
       "    <tr>\n",
       "      <th>2</th>\n",
       "      <td>AFG</td>\n",
       "      <td>Asia</td>\n",
       "      <td>Afghanistan</td>\n",
       "      <td>2020-02-26</td>\n",
       "      <td>1.0</td>\n",
       "      <td>0.0</td>\n",
       "      <td>NaN</td>\n",
       "      <td>NaN</td>\n",
       "      <td>NaN</td>\n",
       "      <td>NaN</td>\n",
       "      <td>...</td>\n",
       "      <td>1803.987</td>\n",
       "      <td>NaN</td>\n",
       "      <td>597.029</td>\n",
       "      <td>9.59</td>\n",
       "      <td>NaN</td>\n",
       "      <td>NaN</td>\n",
       "      <td>37.746</td>\n",
       "      <td>0.5</td>\n",
       "      <td>64.83</td>\n",
       "      <td>0.511</td>\n",
       "    </tr>\n",
       "    <tr>\n",
       "      <th>3</th>\n",
       "      <td>AFG</td>\n",
       "      <td>Asia</td>\n",
       "      <td>Afghanistan</td>\n",
       "      <td>2020-02-27</td>\n",
       "      <td>1.0</td>\n",
       "      <td>0.0</td>\n",
       "      <td>NaN</td>\n",
       "      <td>NaN</td>\n",
       "      <td>NaN</td>\n",
       "      <td>NaN</td>\n",
       "      <td>...</td>\n",
       "      <td>1803.987</td>\n",
       "      <td>NaN</td>\n",
       "      <td>597.029</td>\n",
       "      <td>9.59</td>\n",
       "      <td>NaN</td>\n",
       "      <td>NaN</td>\n",
       "      <td>37.746</td>\n",
       "      <td>0.5</td>\n",
       "      <td>64.83</td>\n",
       "      <td>0.511</td>\n",
       "    </tr>\n",
       "    <tr>\n",
       "      <th>4</th>\n",
       "      <td>AFG</td>\n",
       "      <td>Asia</td>\n",
       "      <td>Afghanistan</td>\n",
       "      <td>2020-02-28</td>\n",
       "      <td>1.0</td>\n",
       "      <td>0.0</td>\n",
       "      <td>NaN</td>\n",
       "      <td>NaN</td>\n",
       "      <td>NaN</td>\n",
       "      <td>NaN</td>\n",
       "      <td>...</td>\n",
       "      <td>1803.987</td>\n",
       "      <td>NaN</td>\n",
       "      <td>597.029</td>\n",
       "      <td>9.59</td>\n",
       "      <td>NaN</td>\n",
       "      <td>NaN</td>\n",
       "      <td>37.746</td>\n",
       "      <td>0.5</td>\n",
       "      <td>64.83</td>\n",
       "      <td>0.511</td>\n",
       "    </tr>\n",
       "  </tbody>\n",
       "</table>\n",
       "<p>5 rows × 59 columns</p>\n",
       "</div>"
      ],
      "text/plain": [
       "  iso_code continent     location        date  total_cases  new_cases  \\\n",
       "0      AFG      Asia  Afghanistan  2020-02-24          1.0        1.0   \n",
       "1      AFG      Asia  Afghanistan  2020-02-25          1.0        0.0   \n",
       "2      AFG      Asia  Afghanistan  2020-02-26          1.0        0.0   \n",
       "3      AFG      Asia  Afghanistan  2020-02-27          1.0        0.0   \n",
       "4      AFG      Asia  Afghanistan  2020-02-28          1.0        0.0   \n",
       "\n",
       "   new_cases_smoothed  total_deaths  new_deaths  new_deaths_smoothed  ...  \\\n",
       "0                 NaN           NaN         NaN                  NaN  ...   \n",
       "1                 NaN           NaN         NaN                  NaN  ...   \n",
       "2                 NaN           NaN         NaN                  NaN  ...   \n",
       "3                 NaN           NaN         NaN                  NaN  ...   \n",
       "4                 NaN           NaN         NaN                  NaN  ...   \n",
       "\n",
       "   gdp_per_capita  extreme_poverty  cardiovasc_death_rate  \\\n",
       "0        1803.987              NaN                597.029   \n",
       "1        1803.987              NaN                597.029   \n",
       "2        1803.987              NaN                597.029   \n",
       "3        1803.987              NaN                597.029   \n",
       "4        1803.987              NaN                597.029   \n",
       "\n",
       "   diabetes_prevalence  female_smokers  male_smokers  handwashing_facilities  \\\n",
       "0                 9.59             NaN           NaN                  37.746   \n",
       "1                 9.59             NaN           NaN                  37.746   \n",
       "2                 9.59             NaN           NaN                  37.746   \n",
       "3                 9.59             NaN           NaN                  37.746   \n",
       "4                 9.59             NaN           NaN                  37.746   \n",
       "\n",
       "   hospital_beds_per_thousand  life_expectancy  human_development_index  \n",
       "0                         0.5            64.83                    0.511  \n",
       "1                         0.5            64.83                    0.511  \n",
       "2                         0.5            64.83                    0.511  \n",
       "3                         0.5            64.83                    0.511  \n",
       "4                         0.5            64.83                    0.511  \n",
       "\n",
       "[5 rows x 59 columns]"
      ]
     },
     "execution_count": 1,
     "metadata": {},
     "output_type": "execute_result"
    }
   ],
   "source": [
    "df_world.head()"
   ]
  },
  {
   "cell_type": "code",
   "execution_count": 45,
   "metadata": {
    "execution": {
     "iopub.execute_input": "2021-03-26T05:16:56.060467Z",
     "iopub.status.busy": "2021-03-26T05:16:56.058471Z",
     "iopub.status.idle": "2021-03-26T05:16:56.071462Z",
     "shell.execute_reply": "2021-03-26T05:16:56.073470Z"
    }
   },
   "outputs": [
    {
     "data": {
      "text/plain": [
       "array(['Afghanistan', 'Africa', 'Albania', 'Algeria', 'Andorra', 'Angola',\n",
       "       'Anguilla', 'Antigua and Barbuda', 'Argentina', 'Armenia', 'Asia',\n",
       "       'Australia', 'Austria', 'Azerbaijan', 'Bahamas', 'Bahrain',\n",
       "       'Bangladesh', 'Barbados', 'Belarus', 'Belgium', 'Belize', 'Benin',\n",
       "       'Bermuda', 'Bhutan', 'Bolivia', 'Bosnia and Herzegovina',\n",
       "       'Botswana', 'Brazil', 'Brunei', 'Bulgaria', 'Burkina Faso',\n",
       "       'Burundi', 'Cambodia', 'Cameroon', 'Canada', 'Cape Verde',\n",
       "       'Cayman Islands', 'Central African Republic', 'Chad', 'Chile',\n",
       "       'China', 'Colombia', 'Comoros', 'Congo', 'Costa Rica',\n",
       "       \"Cote d'Ivoire\", 'Croatia', 'Cuba', 'Cyprus', 'Czechia',\n",
       "       'Democratic Republic of Congo', 'Denmark', 'Djibouti', 'Dominica',\n",
       "       'Dominican Republic', 'Ecuador', 'Egypt', 'El Salvador',\n",
       "       'Equatorial Guinea', 'Eritrea', 'Estonia', 'Eswatini', 'Ethiopia',\n",
       "       'Europe', 'European Union', 'Faeroe Islands', 'Falkland Islands',\n",
       "       'Fiji', 'Finland', 'France', 'Gabon', 'Gambia', 'Georgia',\n",
       "       'Germany', 'Ghana', 'Gibraltar', 'Greece', 'Greenland', 'Grenada',\n",
       "       'Guatemala', 'Guernsey', 'Guinea', 'Guinea-Bissau', 'Guyana',\n",
       "       'Haiti', 'Honduras', 'Hong Kong', 'Hungary', 'Iceland', 'India',\n",
       "       'Indonesia', 'International', 'Iran', 'Iraq', 'Ireland',\n",
       "       'Isle of Man', 'Israel', 'Italy', 'Jamaica', 'Japan', 'Jersey',\n",
       "       'Jordan', 'Kazakhstan', 'Kenya', 'Kosovo', 'Kuwait', 'Kyrgyzstan',\n",
       "       'Laos', 'Latvia', 'Lebanon', 'Lesotho', 'Liberia', 'Libya',\n",
       "       'Liechtenstein', 'Lithuania', 'Luxembourg', 'Macao', 'Madagascar',\n",
       "       'Malawi', 'Malaysia', 'Maldives', 'Mali', 'Malta',\n",
       "       'Marshall Islands', 'Mauritania', 'Mauritius', 'Mexico',\n",
       "       'Micronesia (country)', 'Moldova', 'Monaco', 'Mongolia',\n",
       "       'Montenegro', 'Montserrat', 'Morocco', 'Mozambique', 'Myanmar',\n",
       "       'Namibia', 'Nepal', 'Netherlands', 'New Zealand', 'Nicaragua',\n",
       "       'Niger', 'Nigeria', 'North America', 'North Macedonia',\n",
       "       'Northern Cyprus', 'Norway', 'Oceania', 'Oman', 'Pakistan',\n",
       "       'Palestine', 'Panama', 'Papua New Guinea', 'Paraguay', 'Peru',\n",
       "       'Philippines', 'Poland', 'Portugal', 'Qatar', 'Romania', 'Russia',\n",
       "       'Rwanda', 'Saint Helena', 'Saint Kitts and Nevis', 'Saint Lucia',\n",
       "       'Saint Vincent and the Grenadines', 'Samoa', 'San Marino',\n",
       "       'Sao Tome and Principe', 'Saudi Arabia', 'Senegal', 'Serbia',\n",
       "       'Seychelles', 'Sierra Leone', 'Singapore', 'Slovakia', 'Slovenia',\n",
       "       'Solomon Islands', 'Somalia', 'South Africa', 'South America',\n",
       "       'South Korea', 'South Sudan', 'Spain', 'Sri Lanka', 'Sudan',\n",
       "       'Suriname', 'Sweden', 'Switzerland', 'Syria', 'Taiwan',\n",
       "       'Tajikistan', 'Tanzania', 'Thailand', 'Timor', 'Togo',\n",
       "       'Trinidad and Tobago', 'Tunisia', 'Turkey',\n",
       "       'Turks and Caicos Islands', 'Uganda', 'Ukraine',\n",
       "       'United Arab Emirates', 'United Kingdom', 'United States',\n",
       "       'Uruguay', 'Uzbekistan', 'Vanuatu', 'Vatican', 'Venezuela',\n",
       "       'Vietnam', 'World', 'Yemen', 'Zambia', 'Zimbabwe'], dtype=object)"
      ]
     },
     "execution_count": 1,
     "metadata": {},
     "output_type": "execute_result"
    }
   ],
   "source": [
    "pd.unique(df_world['location'])"
   ]
  },
  {
   "cell_type": "code",
   "execution_count": 46,
   "metadata": {
    "execution": {
     "iopub.execute_input": "2021-03-26T05:16:56.086460Z",
     "iopub.status.busy": "2021-03-26T05:16:56.084468Z",
     "iopub.status.idle": "2021-03-26T05:16:56.092461Z",
     "shell.execute_reply": "2021-03-26T05:16:56.093469Z"
    }
   },
   "outputs": [
    {
     "data": {
      "text/plain": [
       "Index(['iso_code', 'continent', 'location', 'date', 'total_cases', 'new_cases',\n",
       "       'new_cases_smoothed', 'total_deaths', 'new_deaths',\n",
       "       'new_deaths_smoothed', 'total_cases_per_million',\n",
       "       'new_cases_per_million', 'new_cases_smoothed_per_million',\n",
       "       'total_deaths_per_million', 'new_deaths_per_million',\n",
       "       'new_deaths_smoothed_per_million', 'reproduction_rate', 'icu_patients',\n",
       "       'icu_patients_per_million', 'hosp_patients',\n",
       "       'hosp_patients_per_million', 'weekly_icu_admissions',\n",
       "       'weekly_icu_admissions_per_million', 'weekly_hosp_admissions',\n",
       "       'weekly_hosp_admissions_per_million', 'new_tests', 'total_tests',\n",
       "       'total_tests_per_thousand', 'new_tests_per_thousand',\n",
       "       'new_tests_smoothed', 'new_tests_smoothed_per_thousand',\n",
       "       'positive_rate', 'tests_per_case', 'tests_units', 'total_vaccinations',\n",
       "       'people_vaccinated', 'people_fully_vaccinated', 'new_vaccinations',\n",
       "       'new_vaccinations_smoothed', 'total_vaccinations_per_hundred',\n",
       "       'people_vaccinated_per_hundred', 'people_fully_vaccinated_per_hundred',\n",
       "       'new_vaccinations_smoothed_per_million', 'stringency_index',\n",
       "       'population', 'population_density', 'median_age', 'aged_65_older',\n",
       "       'aged_70_older', 'gdp_per_capita', 'extreme_poverty',\n",
       "       'cardiovasc_death_rate', 'diabetes_prevalence', 'female_smokers',\n",
       "       'male_smokers', 'handwashing_facilities', 'hospital_beds_per_thousand',\n",
       "       'life_expectancy', 'human_development_index'],\n",
       "      dtype='object')"
      ]
     },
     "execution_count": 1,
     "metadata": {},
     "output_type": "execute_result"
    }
   ],
   "source": [
    "df_world.columns"
   ]
  },
  {
   "cell_type": "code",
   "execution_count": 47,
   "metadata": {
    "execution": {
     "iopub.execute_input": "2021-03-26T05:16:56.104468Z",
     "iopub.status.busy": "2021-03-26T05:16:56.102465Z",
     "iopub.status.idle": "2021-03-26T05:16:56.106464Z",
     "shell.execute_reply": "2021-03-26T05:16:56.107477Z"
    }
   },
   "outputs": [],
   "source": [
    "# df_world['location'].unique()"
   ]
  },
  {
   "cell_type": "code",
   "execution_count": 48,
   "metadata": {
    "execution": {
     "iopub.execute_input": "2021-03-26T05:16:56.120462Z",
     "iopub.status.busy": "2021-03-26T05:16:56.118464Z",
     "iopub.status.idle": "2021-03-26T05:16:56.125467Z",
     "shell.execute_reply": "2021-03-26T05:16:56.126473Z"
    }
   },
   "outputs": [],
   "source": [
    "# relevant countries :\n",
    "rel_countries = [\"Germany\", 'Europe', 'World', 'International', 'Indonesia',  'United Kingdom', 'Australia', 'France', \"Italy\", 'United States']"
   ]
  },
  {
   "cell_type": "code",
   "execution_count": 49,
   "metadata": {
    "execution": {
     "iopub.execute_input": "2021-03-26T05:16:56.141462Z",
     "iopub.status.busy": "2021-03-26T05:16:56.138469Z",
     "iopub.status.idle": "2021-03-26T05:16:56.155469Z",
     "shell.execute_reply": "2021-03-26T05:16:56.157467Z"
    }
   },
   "outputs": [],
   "source": [
    "# CFR, total cases per 100k and total deaths, growth_rate, vaccination\n",
    "## add columns for total cases/deaths per 100k\n",
    "df_world['Date'] = df_world['date'] \n",
    "df_world['CFR'] = df_world['total_deaths'] / df_world['total_cases'] * 100\n",
    "df_world['total_cases_per_100k'] = df_world['total_cases_per_million'] / 10\n",
    "df_world['total_deaths_per_100k'] = df_world['total_deaths_per_million'] / 10\n"
   ]
  },
  {
   "cell_type": "code",
   "execution_count": 50,
   "metadata": {
    "execution": {
     "iopub.execute_input": "2021-03-26T05:16:56.184470Z",
     "iopub.status.busy": "2021-03-26T05:16:56.182463Z",
     "iopub.status.idle": "2021-03-26T05:16:56.347461Z",
     "shell.execute_reply": "2021-03-26T05:16:56.350462Z"
    }
   },
   "outputs": [
    {
     "data": {
      "text/plain": [
       "3250.0117"
      ]
     },
     "execution_count": 1,
     "metadata": {},
     "output_type": "execute_result"
    }
   ],
   "source": [
    "df_germany = df_world[df_world['location'] == 'Germany']\n",
    "df_germany.head()\n",
    "df_germany['total_cases_per_100k'].iloc[-1]\n",
    "# df_germany['total_cases_per_million'].iloc[-1]"
   ]
  },
  {
   "cell_type": "code",
   "execution_count": 51,
   "metadata": {
    "execution": {
     "iopub.execute_input": "2021-03-26T05:16:56.360461Z",
     "iopub.status.busy": "2021-03-26T05:16:56.358474Z",
     "iopub.status.idle": "2021-03-26T05:17:10.305013Z",
     "shell.execute_reply": "2021-03-26T05:17:10.303012Z"
    }
   },
   "outputs": [],
   "source": [
    "df_world.to_csv(\"world_data.csv\")"
   ]
  },
  {
   "cell_type": "code",
   "execution_count": null,
   "metadata": {},
   "outputs": [],
   "source": []
  }
 ],
 "metadata": {
  "kernelspec": {
   "display_name": "Python 3",
   "language": "python",
   "name": "python3"
  },
  "language_info": {
   "codemirror_mode": {
    "name": "ipython",
    "version": 3
   },
   "file_extension": ".py",
   "mimetype": "text/x-python",
   "name": "python",
   "nbconvert_exporter": "python",
   "pygments_lexer": "ipython3",
   "version": "3.7.6-final"
  }
 },
 "nbformat": 4,
 "nbformat_minor": 2
}