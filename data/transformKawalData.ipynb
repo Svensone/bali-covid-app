{
 "metadata": {
  "language_info": {
   "codemirror_mode": {
    "name": "ipython",
    "version": 3
   },
   "file_extension": ".py",
   "mimetype": "text/x-python",
   "name": "python",
   "nbconvert_exporter": "python",
   "pygments_lexer": "ipython3",
   "version": "3.7.6-final"
  },
  "orig_nbformat": 2,
  "kernelspec": {
   "name": "python3",
   "display_name": "Python 3.7.6 64-bit (conda)",
   "metadata": {
    "interpreter": {
     "hash": "b3ba2566441a7c06988d0923437866b63cedc61552a5af99d1f4fb67d367b25f"
    }
   }
  }
 },
 "nbformat": 4,
 "nbformat_minor": 2,
 "cells": [
  {
   "cell_type": "code",
   "execution_count": 121,
   "metadata": {},
   "outputs": [],
   "source": [
    "\n",
    "## To-Dos\n",
    "##################\n",
    "\n",
    "# in the end\n",
    "\n",
    "## sort_dates\n",
    "\n",
    "## save as csv\n",
    "\n",
    "## check\n",
    "\n",
    "## add to main data processing Notebook"
   ]
  },
  {
   "cell_type": "code",
   "execution_count": 122,
   "metadata": {},
   "outputs": [],
   "source": [
    "import pandas as pd\n",
    "import numpy as np"
   ]
  },
  {
   "cell_type": "code",
   "execution_count": 123,
   "metadata": {},
   "outputs": [
    {
     "output_type": "execute_result",
     "data": {
      "text/plain": [
       "           Total Kasus Aceh Bali Banten Babel Bengkulu DIY Jakarta Jambi  \\\n",
       "0  2020-03-18 00:00:00    0    1     17     0        0   3     158     0   \n",
       "1  2020-03-19 00:00:00    0    1     27     0        0   5     210     0   \n",
       "2  2020-03-20 00:00:00    0    4     37     0        0   4     215     0   \n",
       "3  2020-03-21 00:00:00    0    3     43     0        0   5     267     0   \n",
       "4  2020-03-22 00:00:00    0    3     47     0        0   5     307     0   \n",
       "\n",
       "  Jabar  ... Riau Malut Maluku Papbar Papua Sulbar NTT Gorontalo   ?  \\\n",
       "0    24  ...    1     0      0      0     0      0   0         0   0   \n",
       "1    26  ...    2     0      0      0     0      0   0         0   0   \n",
       "2    41  ...    1     0      0      0     0      0   0         0  13   \n",
       "3    55  ...    1     0      0      0     0      0   0         0  10   \n",
       "4    59  ...    1     0      1      0     2      0   0         0   6   \n",
       "\n",
       "  Unnamed: 36  \n",
       "0         NaN  \n",
       "1         NaN  \n",
       "2         NaN  \n",
       "3         NaN  \n",
       "4         NaN  \n",
       "\n",
       "[5 rows x 37 columns]"
      ],
      "text/html": "<div>\n<style scoped>\n    .dataframe tbody tr th:only-of-type {\n        vertical-align: middle;\n    }\n\n    .dataframe tbody tr th {\n        vertical-align: top;\n    }\n\n    .dataframe thead th {\n        text-align: right;\n    }\n</style>\n<table border=\"1\" class=\"dataframe\">\n  <thead>\n    <tr style=\"text-align: right;\">\n      <th></th>\n      <th>Total Kasus</th>\n      <th>Aceh</th>\n      <th>Bali</th>\n      <th>Banten</th>\n      <th>Babel</th>\n      <th>Bengkulu</th>\n      <th>DIY</th>\n      <th>Jakarta</th>\n      <th>Jambi</th>\n      <th>Jabar</th>\n      <th>...</th>\n      <th>Riau</th>\n      <th>Malut</th>\n      <th>Maluku</th>\n      <th>Papbar</th>\n      <th>Papua</th>\n      <th>Sulbar</th>\n      <th>NTT</th>\n      <th>Gorontalo</th>\n      <th>?</th>\n      <th>Unnamed: 36</th>\n    </tr>\n  </thead>\n  <tbody>\n    <tr>\n      <th>0</th>\n      <td>2020-03-18 00:00:00</td>\n      <td>0</td>\n      <td>1</td>\n      <td>17</td>\n      <td>0</td>\n      <td>0</td>\n      <td>3</td>\n      <td>158</td>\n      <td>0</td>\n      <td>24</td>\n      <td>...</td>\n      <td>1</td>\n      <td>0</td>\n      <td>0</td>\n      <td>0</td>\n      <td>0</td>\n      <td>0</td>\n      <td>0</td>\n      <td>0</td>\n      <td>0</td>\n      <td>NaN</td>\n    </tr>\n    <tr>\n      <th>1</th>\n      <td>2020-03-19 00:00:00</td>\n      <td>0</td>\n      <td>1</td>\n      <td>27</td>\n      <td>0</td>\n      <td>0</td>\n      <td>5</td>\n      <td>210</td>\n      <td>0</td>\n      <td>26</td>\n      <td>...</td>\n      <td>2</td>\n      <td>0</td>\n      <td>0</td>\n      <td>0</td>\n      <td>0</td>\n      <td>0</td>\n      <td>0</td>\n      <td>0</td>\n      <td>0</td>\n      <td>NaN</td>\n    </tr>\n    <tr>\n      <th>2</th>\n      <td>2020-03-20 00:00:00</td>\n      <td>0</td>\n      <td>4</td>\n      <td>37</td>\n      <td>0</td>\n      <td>0</td>\n      <td>4</td>\n      <td>215</td>\n      <td>0</td>\n      <td>41</td>\n      <td>...</td>\n      <td>1</td>\n      <td>0</td>\n      <td>0</td>\n      <td>0</td>\n      <td>0</td>\n      <td>0</td>\n      <td>0</td>\n      <td>0</td>\n      <td>13</td>\n      <td>NaN</td>\n    </tr>\n    <tr>\n      <th>3</th>\n      <td>2020-03-21 00:00:00</td>\n      <td>0</td>\n      <td>3</td>\n      <td>43</td>\n      <td>0</td>\n      <td>0</td>\n      <td>5</td>\n      <td>267</td>\n      <td>0</td>\n      <td>55</td>\n      <td>...</td>\n      <td>1</td>\n      <td>0</td>\n      <td>0</td>\n      <td>0</td>\n      <td>0</td>\n      <td>0</td>\n      <td>0</td>\n      <td>0</td>\n      <td>10</td>\n      <td>NaN</td>\n    </tr>\n    <tr>\n      <th>4</th>\n      <td>2020-03-22 00:00:00</td>\n      <td>0</td>\n      <td>3</td>\n      <td>47</td>\n      <td>0</td>\n      <td>0</td>\n      <td>5</td>\n      <td>307</td>\n      <td>0</td>\n      <td>59</td>\n      <td>...</td>\n      <td>1</td>\n      <td>0</td>\n      <td>1</td>\n      <td>0</td>\n      <td>2</td>\n      <td>0</td>\n      <td>0</td>\n      <td>0</td>\n      <td>6</td>\n      <td>NaN</td>\n    </tr>\n  </tbody>\n</table>\n<p>5 rows × 37 columns</p>\n</div>"
     },
     "metadata": {},
     "execution_count": 123
    }
   ],
   "source": [
    "df = pd.read_excel('kawalcovid19_Indo_Data.xlsx', sheet_name=\"Timeline\")\n",
    "df.head()"
   ]
  },
  {
   "cell_type": "code",
   "execution_count": 124,
   "metadata": {},
   "outputs": [],
   "source": [
    "## transform excel sheet to timeseries table (columns: Data, Province, total_cases, daily_cases, active_cases etc.)\n",
    "case_type = ['Total Kasus', 'Kasus Harian', 'Kasus Aktif', 'Sembuh', 'Sembuh Harian', 'Meninggal Dunia', 'Meninggal Dunia Harian', 'Meninggal Dunia Harian']"
   ]
  },
  {
   "cell_type": "code",
   "execution_count": 125,
   "metadata": {},
   "outputs": [],
   "source": [
    "# extract df for each case-type\n",
    "##################################\n",
    "\n",
    "# to do:\n",
    "# replace all NaN with 0\n",
    "# delete empty rows\n",
    "# adjust header\n",
    "# extract for each Province, add Province Name and merge, and sort by date\n",
    "\n",
    "df_totalKasus = df.iloc[:df.loc[df['Total Kasus'].str.contains('Kasus Harian', na=False)].index[0]]\n",
    "df_totalKasus = df_totalKasus.rename(columns={'Total Kasus': \"Date\"})\n",
    "df_totalKasus= df_totalKasus.fillna(0)\n",
    "df_totalKasus.set_index('Date', inplace=True)\n",
    "df_totalKasus= df_totalKasus[:-1]\n",
    "df_totalKasus = df_totalKasus.drop(['?', 'Unnamed: 36'], axis=1)\n",
    "\n",
    "df_kasusHarian = df.iloc[df.loc[df['Total Kasus'].str.contains('Kasus Harian', na=False)].index[0]:df.loc[df['Total Kasus'].str.contains('Kasus Aktif', na=False)].index[0]]\n",
    "df_kasusHarian = df_kasusHarian.rename(columns={'Total Kasus': \"Date\"})\n",
    "df_kasusHarian= df_kasusHarian.fillna(0)\n",
    "df_kasusHarian.set_index('Date', inplace=True)\n",
    "df_kasusHarian= df_kasusHarian[1:-1]\n",
    "df_kasusHarian = df_kasusHarian.drop(['?', 'Unnamed: 36'], axis=1)\n",
    "\n",
    "df_kasusAktif = df.iloc[df.loc[df['Total Kasus'].str.contains('Kasus Aktif', na=False)].index[0]:df.loc[df['Total Kasus'].str.contains('Sembuh', na=False)].index[0]]\n",
    "df_kasusAktif = df_kasusAktif.rename(columns={'Total Kasus': \"Date\"})\n",
    "df_kasusAktif= df_kasusAktif.fillna(0)\n",
    "df_kasusAktif.set_index('Date', inplace=True)\n",
    "df_kasusAktif= df_kasusAktif[1:-1]\n",
    "df_kasusAktif = df_kasusAktif.drop(['?', 'Unnamed: 36'], axis=1)\n",
    "\n",
    "df_sembuh = df.iloc[df.loc[df['Total Kasus'].str.contains('Sembuh', na=False)].index[0]:df.loc[df['Total Kasus'].str.contains('Sembuh Harian', na=False)].index[0]]\n",
    "df_sembuh = df_sembuh.rename(columns={'Total Kasus': \"Date\"})\n",
    "df_sembuh= df_sembuh.fillna(0)\n",
    "df_sembuh.set_index('Date', inplace=True)\n",
    "df_sembuh= df_sembuh[1:-1]\n",
    "df_sembuh = df_sembuh.drop(['?', 'Unnamed: 36'], axis=1)\n",
    "\n",
    "df_sembuhHarian = df.iloc[df.loc[df['Total Kasus'].str.contains('Sembuh Harian', na=False)].index[0]:df.loc[df['Total Kasus'].str.contains('Meninggal Dunia', na=False)].index[0]]\n",
    "df_sembuhHarian = df_sembuhHarian.rename(columns={'Total Kasus': \"Date\"})\n",
    "df_sembuhHarian= df_sembuhHarian.fillna(0)\n",
    "df_sembuhHarian.set_index('Date', inplace=True)\n",
    "df_sembuhHarian= df_sembuhHarian[1:-1]\n",
    "df_sembuhHarian = df_sembuhHarian.drop(['?', 'Unnamed: 36'], axis=1)\n",
    "\n",
    "df_meninggalDunia = df.iloc[df.loc[df['Total Kasus'].str.contains('Meninggal Dunia', na=False)].index[0]:df.loc[df['Total Kasus'].str.contains('Meninggal Dunia Harian', na=False)].index[0]]\n",
    "df_meninggalDunia = df_meninggalDunia.rename(columns={'Total Kasus': \"Date\"})\n",
    "df_meninggalDunia= df_meninggalDunia.fillna(0)\n",
    "df_meninggalDunia.set_index('Date', inplace=True)\n",
    "df_meninggalDunia= df_meninggalDunia[1:-1]\n",
    "df_meninggalDunia = df_meninggalDunia.drop(['?', 'Unnamed: 36'], axis=1)\n",
    "\n",
    "df_meninggalDuniaHarian = df.iloc[df.loc[df['Total Kasus'].str.contains('Meninggal Dunia Harian', na=False)].index[0]:df.loc[df['Total Kasus'].str.contains('Meninggal Dunia Harian', na=False)].index[1]]\n",
    "df_meninggalDuniaHarian = df_meninggalDuniaHarian.rename(columns={'Total Kasus': \"Date\"})\n",
    "df_meninggalDuniaHarian= df_meninggalDuniaHarian.fillna(0)\n",
    "df_meninggalDuniaHarian.set_index('Date', inplace=True)\n",
    "df_meninggalDuniaHarian= df_meninggalDuniaHarian[1:-3]\n",
    "df_meninggalDuniaHarian = df_meninggalDuniaHarian.drop(['?', 'Unnamed: 36'], axis=1)\n",
    "\n"
   ]
  },
  {
   "cell_type": "code",
   "execution_count": 126,
   "metadata": {},
   "outputs": [],
   "source": [
    "\n",
    "dfs = [df_totalKasus, df_kasusHarian, df_kasusAktif, df_sembuh, df_sembuhHarian, df_meninggalDunia, df_meninggalDuniaHarian]\n",
    "dfs_names = [\"df_totalKasus\", \"df_kasusHarian\", \"df_kasusAktif\", \"df_sembuh\",\"df_sembuhHarian\", \"df_meninggalDunia\", \"df_meninggalDuniaHarian\"]\n",
    "dfs_type = [\"totalKasus\", \"kasusHarian\", \"kasusAktif\", \"sembuh\",\"sembuhHarian\", \"meninggalDunia\", \"meninggalDuniaHarian\"]"
   ]
  },
  {
   "cell_type": "code",
   "execution_count": 127,
   "metadata": {},
   "outputs": [
    {
     "output_type": "execute_result",
     "data": {
      "text/plain": [
       "Index(['Aceh', 'Bali', 'Banten', 'Babel', 'Bengkulu', 'DIY', 'Jakarta',\n",
       "       'Jambi', 'Jabar', 'Jateng', 'Jatim', 'Kalbar', 'Kaltim', 'Kalteng',\n",
       "       'Kalsel', 'Kaltara', 'Kep Riau', 'NTB', 'Sumsel', 'Sumbar', 'Sulut',\n",
       "       'Sumut', 'Sultra', 'Sulsel', 'Sulteng', 'Lampung', 'Riau', 'Malut',\n",
       "       'Maluku', 'Papbar', 'Papua', 'Sulbar', 'NTT', 'Gorontalo'],\n",
       "      dtype='object')"
      ]
     },
     "metadata": {},
     "execution_count": 127
    }
   ],
   "source": [
    "column_names = df_totalKasus.columns\n",
    "column_names"
   ]
  },
  {
   "cell_type": "code",
   "execution_count": 128,
   "metadata": {},
   "outputs": [],
   "source": [
    "## First Dataframe - Total Kasus\n",
    "\n",
    "df_totKasus = pd.DataFrame({'Province': [0], \"Total Kasus\":[0]})\n",
    "for i, province in enumerate(column_names):\n",
    "    case_numbers = df_totalKasus[province]\n",
    "    df_x = pd.DataFrame({'Province': case_numbers, \"Total Kasus\": case_numbers })\n",
    "    df_x[\"Province\"] = column_names[i]\n",
    "    # df_x['Total Kasus'] = df_totalKasus[province]\n",
    "    if i == 0:\n",
    "        df_totKasus = df_x\n",
    "    else:\n",
    "        df_totKasus = df_totKasus.append(df_x)"
   ]
  },
  {
   "cell_type": "code",
   "execution_count": 129,
   "metadata": {},
   "outputs": [
    {
     "output_type": "stream",
     "name": "stdout",
     "text": [
      "(12036, 2)\n"
     ]
    },
    {
     "output_type": "execute_result",
     "data": {
      "text/plain": [
       "        Date Province  Total Kasus\n",
       "0 2020-03-18     Aceh            0\n",
       "1 2020-03-19     Aceh            0\n",
       "2 2020-03-20     Aceh            0\n",
       "3 2020-03-21     Aceh            0\n",
       "4 2020-03-22     Aceh            0"
      ],
      "text/html": "<div>\n<style scoped>\n    .dataframe tbody tr th:only-of-type {\n        vertical-align: middle;\n    }\n\n    .dataframe tbody tr th {\n        vertical-align: top;\n    }\n\n    .dataframe thead th {\n        text-align: right;\n    }\n</style>\n<table border=\"1\" class=\"dataframe\">\n  <thead>\n    <tr style=\"text-align: right;\">\n      <th></th>\n      <th>Date</th>\n      <th>Province</th>\n      <th>Total Kasus</th>\n    </tr>\n  </thead>\n  <tbody>\n    <tr>\n      <th>0</th>\n      <td>2020-03-18</td>\n      <td>Aceh</td>\n      <td>0</td>\n    </tr>\n    <tr>\n      <th>1</th>\n      <td>2020-03-19</td>\n      <td>Aceh</td>\n      <td>0</td>\n    </tr>\n    <tr>\n      <th>2</th>\n      <td>2020-03-20</td>\n      <td>Aceh</td>\n      <td>0</td>\n    </tr>\n    <tr>\n      <th>3</th>\n      <td>2020-03-21</td>\n      <td>Aceh</td>\n      <td>0</td>\n    </tr>\n    <tr>\n      <th>4</th>\n      <td>2020-03-22</td>\n      <td>Aceh</td>\n      <td>0</td>\n    </tr>\n  </tbody>\n</table>\n</div>"
     },
     "metadata": {},
     "execution_count": 129
    }
   ],
   "source": [
    "print(df_totKasus.shape)\n",
    "df_totKasus1 = df_totKasus.reset_index()\n",
    "df_totKasus1.head()"
   ]
  },
  {
   "cell_type": "code",
   "execution_count": 130,
   "metadata": {},
   "outputs": [],
   "source": [
    "## since memory error split dataframes (only with join)\n",
    "## learning: if not merge on index -> use .merge() 2) reset_index() get datetime out of index first\n",
    "\n",
    "dfs1 =dfs[1:]\n",
    "df_total = pd.DataFrame({\"Date\": [0], 'Province': [0], dfs_type[0]:[0]})\n",
    "\n",
    "for index, df in enumerate(dfs1):\n",
    "    count = index + 1\n",
    "    df_name = dfs_names[index+1]+'Clean'\n",
    "    df_name = pd.DataFrame({\"Date\": [0], 'Province': [0], dfs_type[count]:[0]})\n",
    "    for i, province in enumerate(column_names):\n",
    "        case_numbers = df[province]\n",
    "        df_x = pd.DataFrame({'Province': case_numbers, dfs_type[count]: case_numbers })\n",
    "        df_x[\"Province\"] = column_names[i]\n",
    "        if i == 0:\n",
    "            df_name = df_x\n",
    "        else:\n",
    "            df_name = df_name.append(df_x)\n",
    "\n",
    "    df_name = df_name.reset_index()\n",
    "    if index == 0:\n",
    "        df_total = df_name\n",
    "    else:\n",
    "        df_total = pd.merge(df_total, df_name, on=['Date', 'Province'])   "
   ]
  },
  {
   "cell_type": "code",
   "execution_count": 131,
   "metadata": {},
   "outputs": [
    {
     "output_type": "stream",
     "name": "stdout",
     "text": [
      "2020-03-21 00:00:00\n"
     ]
    },
    {
     "output_type": "execute_result",
     "data": {
      "text/plain": [
       "            Date Province kasusHarian kasusAktif sembuh sembuhHarian  \\\n",
       "0     2020-03-21     Aceh           0          0      0            0   \n",
       "350   2020-03-21     Bali           0          2      0            0   \n",
       "9800  2020-03-21   Maluku           0          0      0            0   \n",
       "10850 2020-03-21   Sulbar           0          0      0            0   \n",
       "9450  2020-03-21    Malut           0          0      0            0   \n",
       "\n",
       "      meninggalDunia meninggalDuniaHarian  \n",
       "0                  0                    0  \n",
       "350                1                    0  \n",
       "9800               0                    0  \n",
       "10850              0                    0  \n",
       "9450               0                    0  "
      ],
      "text/html": "<div>\n<style scoped>\n    .dataframe tbody tr th:only-of-type {\n        vertical-align: middle;\n    }\n\n    .dataframe tbody tr th {\n        vertical-align: top;\n    }\n\n    .dataframe thead th {\n        text-align: right;\n    }\n</style>\n<table border=\"1\" class=\"dataframe\">\n  <thead>\n    <tr style=\"text-align: right;\">\n      <th></th>\n      <th>Date</th>\n      <th>Province</th>\n      <th>kasusHarian</th>\n      <th>kasusAktif</th>\n      <th>sembuh</th>\n      <th>sembuhHarian</th>\n      <th>meninggalDunia</th>\n      <th>meninggalDuniaHarian</th>\n    </tr>\n  </thead>\n  <tbody>\n    <tr>\n      <th>0</th>\n      <td>2020-03-21</td>\n      <td>Aceh</td>\n      <td>0</td>\n      <td>0</td>\n      <td>0</td>\n      <td>0</td>\n      <td>0</td>\n      <td>0</td>\n    </tr>\n    <tr>\n      <th>350</th>\n      <td>2020-03-21</td>\n      <td>Bali</td>\n      <td>0</td>\n      <td>2</td>\n      <td>0</td>\n      <td>0</td>\n      <td>1</td>\n      <td>0</td>\n    </tr>\n    <tr>\n      <th>9800</th>\n      <td>2020-03-21</td>\n      <td>Maluku</td>\n      <td>0</td>\n      <td>0</td>\n      <td>0</td>\n      <td>0</td>\n      <td>0</td>\n      <td>0</td>\n    </tr>\n    <tr>\n      <th>10850</th>\n      <td>2020-03-21</td>\n      <td>Sulbar</td>\n      <td>0</td>\n      <td>0</td>\n      <td>0</td>\n      <td>0</td>\n      <td>0</td>\n      <td>0</td>\n    </tr>\n    <tr>\n      <th>9450</th>\n      <td>2020-03-21</td>\n      <td>Malut</td>\n      <td>0</td>\n      <td>0</td>\n      <td>0</td>\n      <td>0</td>\n      <td>0</td>\n      <td>0</td>\n    </tr>\n  </tbody>\n</table>\n</div>"
     },
     "metadata": {},
     "execution_count": 131
    }
   ],
   "source": [
    "## sort_dates\n",
    "# check if datetime format correct\n",
    "print(df_total['Date'].iloc[0])\n",
    "df_total = df_total.sort_values(by=\"Date\")\n",
    "df_total.head()"
   ]
  },
  {
   "cell_type": "code",
   "execution_count": 132,
   "metadata": {},
   "outputs": [
    {
     "output_type": "execute_result",
     "data": {
      "text/plain": [
       "        Date Province kasusHarian kasusAktif sembuh sembuhHarian  \\\n",
       "0 2020-03-21     Aceh           0          0      0            0   \n",
       "1 2020-03-21     Bali           0          2      0            0   \n",
       "2 2020-03-21   Maluku           0          0      0            0   \n",
       "3 2020-03-21   Sulbar           0          0      0            0   \n",
       "4 2020-03-21    Malut           0          0      0            0   \n",
       "\n",
       "  meninggalDunia meninggalDuniaHarian  Total Kasus  \n",
       "0              0                    0            0  \n",
       "1              1                    0            3  \n",
       "2              0                    0            0  \n",
       "3              0                    0            0  \n",
       "4              0                    0            0  "
      ],
      "text/html": "<div>\n<style scoped>\n    .dataframe tbody tr th:only-of-type {\n        vertical-align: middle;\n    }\n\n    .dataframe tbody tr th {\n        vertical-align: top;\n    }\n\n    .dataframe thead th {\n        text-align: right;\n    }\n</style>\n<table border=\"1\" class=\"dataframe\">\n  <thead>\n    <tr style=\"text-align: right;\">\n      <th></th>\n      <th>Date</th>\n      <th>Province</th>\n      <th>kasusHarian</th>\n      <th>kasusAktif</th>\n      <th>sembuh</th>\n      <th>sembuhHarian</th>\n      <th>meninggalDunia</th>\n      <th>meninggalDuniaHarian</th>\n      <th>Total Kasus</th>\n    </tr>\n  </thead>\n  <tbody>\n    <tr>\n      <th>0</th>\n      <td>2020-03-21</td>\n      <td>Aceh</td>\n      <td>0</td>\n      <td>0</td>\n      <td>0</td>\n      <td>0</td>\n      <td>0</td>\n      <td>0</td>\n      <td>0</td>\n    </tr>\n    <tr>\n      <th>1</th>\n      <td>2020-03-21</td>\n      <td>Bali</td>\n      <td>0</td>\n      <td>2</td>\n      <td>0</td>\n      <td>0</td>\n      <td>1</td>\n      <td>0</td>\n      <td>3</td>\n    </tr>\n    <tr>\n      <th>2</th>\n      <td>2020-03-21</td>\n      <td>Maluku</td>\n      <td>0</td>\n      <td>0</td>\n      <td>0</td>\n      <td>0</td>\n      <td>0</td>\n      <td>0</td>\n      <td>0</td>\n    </tr>\n    <tr>\n      <th>3</th>\n      <td>2020-03-21</td>\n      <td>Sulbar</td>\n      <td>0</td>\n      <td>0</td>\n      <td>0</td>\n      <td>0</td>\n      <td>0</td>\n      <td>0</td>\n      <td>0</td>\n    </tr>\n    <tr>\n      <th>4</th>\n      <td>2020-03-21</td>\n      <td>Malut</td>\n      <td>0</td>\n      <td>0</td>\n      <td>0</td>\n      <td>0</td>\n      <td>0</td>\n      <td>0</td>\n      <td>0</td>\n    </tr>\n  </tbody>\n</table>\n</div>"
     },
     "metadata": {},
     "execution_count": 132
    }
   ],
   "source": [
    "\n",
    "# merge with total Kasus df from before\n",
    "df_total = pd.merge(df_total, df_totKasus1, on=['Date', 'Province'])\n",
    "df_total.head() "
   ]
  },
  {
   "cell_type": "code",
   "execution_count": 133,
   "metadata": {},
   "outputs": [
    {
     "output_type": "execute_result",
     "data": {
      "text/plain": [
       "array(['Aceh', 'Bali', 'Maluku', 'Sulbar', 'Malut', 'Banten', 'Riau',\n",
       "       'Lampung', 'Babel', 'Sulteng', 'Sulsel', 'Bengkulu', 'Sultra',\n",
       "       'Sumut', 'DIY', 'Papbar', 'Sulut', 'NTT', 'Jakarta', 'Sumsel',\n",
       "       'NTB', 'Jambi', 'Kep Riau', 'Jabar', 'Kaltara', 'Kalsel',\n",
       "       'Gorontalo', 'Jateng', 'Kalteng', 'Kaltim', 'Jatim', 'Sumbar',\n",
       "       'Papua', 'Kalbar'], dtype=object)"
      ]
     },
     "metadata": {},
     "execution_count": 133
    }
   ],
   "source": [
    "df_total['Province'].unique()"
   ]
  },
  {
   "cell_type": "code",
   "execution_count": 134,
   "metadata": {},
   "outputs": [],
   "source": [
    "# adjust Province Names\n",
    "indo_slang_prov_names = ['Aceh', 'Bali', 'Maluku', 'Sulbar', 'Malut', 'Banten', 'Riau',\n",
    "       'Lampung', 'Babel', 'Sulteng', 'Sulsel', 'Bengkulu', 'Sultra',\n",
    "       'Sumut', 'DIY', 'Papbar', 'Sulut', 'NTT', 'Jakarta', 'Sumsel',\n",
    "       'NTB', 'Jambi', 'Kep Riau', 'Jabar', 'Kaltara', 'Kalsel',\n",
    "       'Gorontalo', 'Jateng', 'Kalteng', 'Kaltim', 'Jatim', 'Sumbar',\n",
    "       'Papua', 'Kalbar']\n",
    "\n",
    "# from previous Indo-province dataset\n",
    "correct_prov_names = ['Jakarta Raya', 'Indonesia', 'Jawa Barat', 'Riau', 'Banten',\n",
    "       'Sulawesi Tenggara', 'Kalimantan Timur', 'Yogyakarta',\n",
    "       'Sumatera Utara', 'Jawa Tengah', 'Jawa Timur', 'Sulawesi Selatan',\n",
    "       'Maluku', 'Papua', 'Maluku Utara', 'Aceh', 'Kalimantan Tengah',\n",
    "       'Lampung', 'Sulawesi Tengah', 'Sumatera Barat', 'Irian Jaya Barat',\n",
    "       'Kalimantan Utara', 'Sulawesi Barat', 'Sumatera Selatan', 'Bali',\n",
    "       'Kalimantan Barat', 'Jambi', 'Kalimantan Selatan',\n",
    "       'Bangka-Belitung', 'Kepulauan Riau', 'Bengkulu',\n",
    "       'Nusa Tenggara Barat', 'Nusa Tenggara Timur',\n",
    "       'Gorontalo']\n"
   ]
  },
  {
   "cell_type": "code",
   "execution_count": 135,
   "metadata": {},
   "outputs": [
    {
     "output_type": "stream",
     "name": "stdout",
     "text": [
      "['Sultra', 'Jakarta', 'Kalteng', 'Sulsel', 'Sulut', 'Kaltim', 'Kalsel', 'Malut', 'Sumsel', 'NTT', 'Kalbar', 'Jateng', 'Kep Riau', 'Kaltara', 'Sulbar', 'Babel', 'Jatim', 'Sumbar', 'Sumut', 'Jabar', 'NTB', 'DIY', 'Sulteng', 'Papbar']\n"
     ]
    }
   ],
   "source": [
    "\n",
    "print(list(set(indo_slang_prov_names) - set(correct_prov_names)))\n",
    "\n",
    "# adjust column names\n",
    "df_total = df_total.replace({'Sultra': 'Sulawesi Utara'})\n",
    "df_total = df_total.replace({\"Jakarta\": 'Jakarta Raya'})\n",
    "df_total = df_total.replace({\"Kalteng\": 'Kalimantan Tengah'})\n",
    "df_total = df_total.replace({'Sulsel': 'Sulawesi Selatan'})\n",
    "df_total = df_total.replace({'Sulut': 'Sulawesi Utara'})\n",
    "df_total = df_total.replace({'Kaltim': \"Kalimantan Timur\"})\n",
    "df_total = df_total.replace({'Kalsel': 'Kalimantan Selatan'})\n",
    "df_total = df_total.replace({'Malut': 'Maluku Utara'})\n",
    "df_total = df_total.replace({'Sumsel': 'Sumatera Barat'})\n",
    "df_total = df_total.replace({'NTT': 'Nusa Tenggara Timur'})\n",
    "df_total = df_total.replace({'Kalbar': 'Kalimantan Barat'})\n",
    "df_total = df_total.replace({'Jateng': 'Jawa Tengah'})\n",
    "df_total = df_total.replace({'Kep Riau': 'Kepulauan Riau'})\n",
    "df_total = df_total.replace({'Kaltara': 'Kalimantan Utara'})\n",
    "df_total = df_total.replace({'Sulbar': 'Sulawesi Barat'})\n",
    "df_total = df_total.replace({'Babel': 'Bangka-Belitung'})\n",
    "df_total = df_total.replace({'Jatim': \"Jawa Timur\"})\n",
    "df_total = df_total.replace({'Sumbar': 'Sumatera Barat'})\n",
    "df_total = df_total.replace({\"Sumut\": 'Sumatera Utara'})\n",
    "df_total = df_total.replace({'Jabar': 'Jawa Barat'})\n",
    "df_total = df_total.replace({'NTB': 'Nusa Tenggara Barat'})\n",
    "df_total = df_total.replace({'DIY': 'Yogyakarta'})\n",
    "df_total = df_total.replace({'Sulteng': 'Sulawesi Tengah'})\n",
    "df_total = df_total.replace({'Papbar': 'Papua'})\n",
    "df_total = df_total.replace({'Jakarta': 'Jakarta Raya'})\n"
   ]
  },
  {
   "cell_type": "code",
   "execution_count": 136,
   "metadata": {},
   "outputs": [
    {
     "output_type": "execute_result",
     "data": {
      "text/plain": [
       "Index(['Date', 'Province', 'kasusHarian', 'kasusAktif', 'sembuh',\n",
       "       'sembuhHarian', 'meninggalDunia', 'meninggalDuniaHarian',\n",
       "       'Total Kasus'],\n",
       "      dtype='object')"
      ]
     },
     "metadata": {},
     "execution_count": 136
    }
   ],
   "source": [
    "df_total.columns"
   ]
  },
  {
   "cell_type": "code",
   "execution_count": 137,
   "metadata": {},
   "outputs": [
    {
     "output_type": "execute_result",
     "data": {
      "text/plain": [
       "            Date          Province  new_cases  active_cases  total_recovered  \\\n",
       "11895 2021-03-06            Maluku         38           692             6319   \n",
       "11896 2021-03-06             Papua         44           545             6944   \n",
       "11897 2021-03-06             Papua         53          8021             9360   \n",
       "11898 2021-03-06  Kalimantan Utara         61          2084             7802   \n",
       "11899 2021-03-06         Gorontalo         13           292             4435   \n",
       "\n",
       "       new_recovered  total_deaths  new_deaths  total_cases  \n",
       "11895             53           105           0         7116  \n",
       "11896             29           126           0         7615  \n",
       "11897             27           179           1        17560  \n",
       "11898             35           152           0        10038  \n",
       "11899             10           137           1         4864  "
      ],
      "text/html": "<div>\n<style scoped>\n    .dataframe tbody tr th:only-of-type {\n        vertical-align: middle;\n    }\n\n    .dataframe tbody tr th {\n        vertical-align: top;\n    }\n\n    .dataframe thead th {\n        text-align: right;\n    }\n</style>\n<table border=\"1\" class=\"dataframe\">\n  <thead>\n    <tr style=\"text-align: right;\">\n      <th></th>\n      <th>Date</th>\n      <th>Province</th>\n      <th>new_cases</th>\n      <th>active_cases</th>\n      <th>total_recovered</th>\n      <th>new_recovered</th>\n      <th>total_deaths</th>\n      <th>new_deaths</th>\n      <th>total_cases</th>\n    </tr>\n  </thead>\n  <tbody>\n    <tr>\n      <th>11895</th>\n      <td>2021-03-06</td>\n      <td>Maluku</td>\n      <td>38</td>\n      <td>692</td>\n      <td>6319</td>\n      <td>53</td>\n      <td>105</td>\n      <td>0</td>\n      <td>7116</td>\n    </tr>\n    <tr>\n      <th>11896</th>\n      <td>2021-03-06</td>\n      <td>Papua</td>\n      <td>44</td>\n      <td>545</td>\n      <td>6944</td>\n      <td>29</td>\n      <td>126</td>\n      <td>0</td>\n      <td>7615</td>\n    </tr>\n    <tr>\n      <th>11897</th>\n      <td>2021-03-06</td>\n      <td>Papua</td>\n      <td>53</td>\n      <td>8021</td>\n      <td>9360</td>\n      <td>27</td>\n      <td>179</td>\n      <td>1</td>\n      <td>17560</td>\n    </tr>\n    <tr>\n      <th>11898</th>\n      <td>2021-03-06</td>\n      <td>Kalimantan Utara</td>\n      <td>61</td>\n      <td>2084</td>\n      <td>7802</td>\n      <td>35</td>\n      <td>152</td>\n      <td>0</td>\n      <td>10038</td>\n    </tr>\n    <tr>\n      <th>11899</th>\n      <td>2021-03-06</td>\n      <td>Gorontalo</td>\n      <td>13</td>\n      <td>292</td>\n      <td>4435</td>\n      <td>10</td>\n      <td>137</td>\n      <td>1</td>\n      <td>4864</td>\n    </tr>\n  </tbody>\n</table>\n</div>"
     },
     "metadata": {},
     "execution_count": 137
    }
   ],
   "source": [
    "#adjust column names\n",
    "\n",
    "new_col_names = ['Date', 'Province', 'new_cases', 'active_cases', 'total_recovered', 'new_recovered', 'total_deaths', 'new_deaths', 'total_cases']\n",
    "df_total.columns = new_col_names\n",
    "df_total.tail()"
   ]
  },
  {
   "cell_type": "code",
   "execution_count": 138,
   "metadata": {},
   "outputs": [],
   "source": [
    "# get old indo province dataset\n",
    "\n",
    "df_old = pd.read_csv('indo_province_data.csv')\n",
    "# df_old.tail()\n"
   ]
  },
  {
   "cell_type": "code",
   "execution_count": 159,
   "metadata": {},
   "outputs": [
    {
     "output_type": "execute_result",
     "data": {
      "text/plain": [
       "       Location Location Level  City or Regency    Country Continent  \\\n",
       "0  Jakarta Raya       Province              NaN  Indonesia      Asia   \n",
       "1  Jakarta Raya       Province              NaN  Indonesia      Asia   \n",
       "2     Indonesia        Country              NaN  Indonesia      Asia   \n",
       "3    Jawa Barat       Province              NaN  Indonesia      Asia   \n",
       "4          Riau       Province              NaN  Indonesia      Asia   \n",
       "\n",
       "     Island  Time Zone          Special Status  Total Regencies  Total Cities  \\\n",
       "0      Jawa  UTC+07:00  Daerah Khusus Ibu Kota                1           5.0   \n",
       "1      Jawa  UTC+07:00  Daerah Khusus Ibu Kota                1           5.0   \n",
       "2       NaN        NaN                     NaN              416          98.0   \n",
       "3      Jawa  UTC+07:00                     NaN               18           9.0   \n",
       "4  Sumatera  UTC+07:00                     NaN               10           2.0   \n",
       "\n",
       "   Total Districts  Total Urban Villages  Total Rural Villages  Area (km2)  \\\n",
       "0               44                 267.0                   NaN         664   \n",
       "1               44                 267.0                   NaN         664   \n",
       "2             7230                8488.0               74953.0     1916907   \n",
       "3              627                 645.0                5312.0       35378   \n",
       "4              169                 268.0                1591.0       87024   \n",
       "\n",
       "   Population  Population Density   Longitude  Latitude      Name_EN  id  \n",
       "0    10846145            16334.31  106.836118 -6.204699  dki jakarta  27  \n",
       "1    10846145            16334.31  106.836118 -6.204699  dki jakarta  27  \n",
       "2   265185520              138.34  113.921327 -0.789275    indonesia   0  \n",
       "3    45161325             1276.55  107.603708 -6.920432   jawa barat  29  \n",
       "4     6074100               69.80  101.805109  0.511648         riau  18  "
      ],
      "text/html": "<div>\n<style scoped>\n    .dataframe tbody tr th:only-of-type {\n        vertical-align: middle;\n    }\n\n    .dataframe tbody tr th {\n        vertical-align: top;\n    }\n\n    .dataframe thead th {\n        text-align: right;\n    }\n</style>\n<table border=\"1\" class=\"dataframe\">\n  <thead>\n    <tr style=\"text-align: right;\">\n      <th></th>\n      <th>Location</th>\n      <th>Location Level</th>\n      <th>City or Regency</th>\n      <th>Country</th>\n      <th>Continent</th>\n      <th>Island</th>\n      <th>Time Zone</th>\n      <th>Special Status</th>\n      <th>Total Regencies</th>\n      <th>Total Cities</th>\n      <th>Total Districts</th>\n      <th>Total Urban Villages</th>\n      <th>Total Rural Villages</th>\n      <th>Area (km2)</th>\n      <th>Population</th>\n      <th>Population Density</th>\n      <th>Longitude</th>\n      <th>Latitude</th>\n      <th>Name_EN</th>\n      <th>id</th>\n    </tr>\n  </thead>\n  <tbody>\n    <tr>\n      <th>0</th>\n      <td>Jakarta Raya</td>\n      <td>Province</td>\n      <td>NaN</td>\n      <td>Indonesia</td>\n      <td>Asia</td>\n      <td>Jawa</td>\n      <td>UTC+07:00</td>\n      <td>Daerah Khusus Ibu Kota</td>\n      <td>1</td>\n      <td>5.0</td>\n      <td>44</td>\n      <td>267.0</td>\n      <td>NaN</td>\n      <td>664</td>\n      <td>10846145</td>\n      <td>16334.31</td>\n      <td>106.836118</td>\n      <td>-6.204699</td>\n      <td>dki jakarta</td>\n      <td>27</td>\n    </tr>\n    <tr>\n      <th>1</th>\n      <td>Jakarta Raya</td>\n      <td>Province</td>\n      <td>NaN</td>\n      <td>Indonesia</td>\n      <td>Asia</td>\n      <td>Jawa</td>\n      <td>UTC+07:00</td>\n      <td>Daerah Khusus Ibu Kota</td>\n      <td>1</td>\n      <td>5.0</td>\n      <td>44</td>\n      <td>267.0</td>\n      <td>NaN</td>\n      <td>664</td>\n      <td>10846145</td>\n      <td>16334.31</td>\n      <td>106.836118</td>\n      <td>-6.204699</td>\n      <td>dki jakarta</td>\n      <td>27</td>\n    </tr>\n    <tr>\n      <th>2</th>\n      <td>Indonesia</td>\n      <td>Country</td>\n      <td>NaN</td>\n      <td>Indonesia</td>\n      <td>Asia</td>\n      <td>NaN</td>\n      <td>NaN</td>\n      <td>NaN</td>\n      <td>416</td>\n      <td>98.0</td>\n      <td>7230</td>\n      <td>8488.0</td>\n      <td>74953.0</td>\n      <td>1916907</td>\n      <td>265185520</td>\n      <td>138.34</td>\n      <td>113.921327</td>\n      <td>-0.789275</td>\n      <td>indonesia</td>\n      <td>0</td>\n    </tr>\n    <tr>\n      <th>3</th>\n      <td>Jawa Barat</td>\n      <td>Province</td>\n      <td>NaN</td>\n      <td>Indonesia</td>\n      <td>Asia</td>\n      <td>Jawa</td>\n      <td>UTC+07:00</td>\n      <td>NaN</td>\n      <td>18</td>\n      <td>9.0</td>\n      <td>627</td>\n      <td>645.0</td>\n      <td>5312.0</td>\n      <td>35378</td>\n      <td>45161325</td>\n      <td>1276.55</td>\n      <td>107.603708</td>\n      <td>-6.920432</td>\n      <td>jawa barat</td>\n      <td>29</td>\n    </tr>\n    <tr>\n      <th>4</th>\n      <td>Riau</td>\n      <td>Province</td>\n      <td>NaN</td>\n      <td>Indonesia</td>\n      <td>Asia</td>\n      <td>Sumatera</td>\n      <td>UTC+07:00</td>\n      <td>NaN</td>\n      <td>10</td>\n      <td>2.0</td>\n      <td>169</td>\n      <td>268.0</td>\n      <td>1591.0</td>\n      <td>87024</td>\n      <td>6074100</td>\n      <td>69.80</td>\n      <td>101.805109</td>\n      <td>0.511648</td>\n      <td>riau</td>\n      <td>18</td>\n    </tr>\n  </tbody>\n</table>\n</div>"
     },
     "metadata": {},
     "execution_count": 159
    }
   ],
   "source": [
    "# use only selected columns\n",
    "cols = ['Location', 'Location Level', 'City or Regency', 'Country', 'Continent',\n",
    "       'Island', 'Time Zone', 'Special Status', 'Total Regencies',\n",
    "       'Total Cities', 'Total Districts', 'Total Urban Villages',\n",
    "       'Total Rural Villages', 'Area (km2)', 'Population',\n",
    "       'Population Density', 'Longitude', 'Latitude', 'Name_EN','id']\n",
    "df_old_small = df_old[cols]\n",
    "df_old_small.head()"
   ]
  },
  {
   "cell_type": "code",
   "execution_count": 164,
   "metadata": {},
   "outputs": [
    {
     "output_type": "execute_result",
     "data": {
      "text/plain": [
       "(10694, 20)"
      ]
     },
     "metadata": {},
     "execution_count": 164
    }
   ],
   "source": [
    "df_old_small.shape"
   ]
  },
  {
   "cell_type": "code",
   "execution_count": 165,
   "metadata": {},
   "outputs": [
    {
     "output_type": "execute_result",
     "data": {
      "text/plain": [
       "(11900, 9)"
      ]
     },
     "metadata": {},
     "execution_count": 165
    }
   ],
   "source": [
    "df_total.shape"
   ]
  },
  {
   "cell_type": "code",
   "execution_count": 166,
   "metadata": {},
   "outputs": [
    {
     "output_type": "execute_result",
     "data": {
      "text/plain": [
       "(35, 20)"
      ]
     },
     "metadata": {},
     "execution_count": 166
    }
   ],
   "source": [
    "df_old_small2 =df_old_small.drop_duplicates(subset='Location')\n",
    "df_old_small2.shape"
   ]
  },
  {
   "cell_type": "code",
   "execution_count": 160,
   "metadata": {},
   "outputs": [
    {
     "output_type": "execute_result",
     "data": {
      "text/plain": [
       "array(['Jakarta Raya', 'Indonesia', 'Jawa Barat', 'Riau', 'Banten',\n",
       "       'Sulawesi Tenggara', 'Kalimantan Timur', 'Yogyakarta',\n",
       "       'Sumatera Utara', 'Jawa Tengah', 'Jawa Timur', 'Sulawesi Selatan',\n",
       "       'Maluku', 'Papua', 'Maluku Utara', 'Aceh', 'Kalimantan Tengah',\n",
       "       'Lampung', 'Sulawesi Tengah', 'Sumatera Barat', 'Irian Jaya Barat',\n",
       "       'Kalimantan Utara', 'Sulawesi Barat', 'Sumatera Selatan', 'Bali',\n",
       "       'Kalimantan Barat', 'Jambi', 'Kalimantan Selatan',\n",
       "       'Bangka-Belitung', 'Kepulauan Riau', 'Bengkulu',\n",
       "       'Nusa Tenggara Barat', 'Sulawesi Utara', 'Nusa Tenggara Timur',\n",
       "       'Gorontalo'], dtype=object)"
      ]
     },
     "metadata": {},
     "execution_count": 160
    }
   ],
   "source": [
    "df_old_small.Location.unique()"
   ]
  },
  {
   "cell_type": "code",
   "execution_count": 161,
   "metadata": {},
   "outputs": [
    {
     "output_type": "stream",
     "name": "stdout",
     "text": [
      "[]\n"
     ]
    }
   ],
   "source": [
    "# check if matching Province Names\n",
    "old_list = df_old_small.Location.unique()\n",
    "new_list = df_total.Province.unique()\n",
    "print(list(set(new_list) - set(old_list)))"
   ]
  },
  {
   "cell_type": "code",
   "execution_count": 172,
   "metadata": {},
   "outputs": [],
   "source": [
    "# add missing columns to new indo_province dataset\n",
    "df_complete = pd.merge(df_total, df_old_small2, left_on='Province', right_on='Location')"
   ]
  },
  {
   "cell_type": "code",
   "execution_count": 176,
   "metadata": {},
   "outputs": [
    {
     "output_type": "execute_result",
     "data": {
      "text/plain": [
       "            Date             Province  new_cases  active_cases  \\\n",
       "2098  2021-03-05               Banten        515          7134   \n",
       "3848  2021-03-05     Sulawesi Selatan        196          3362   \n",
       "11198 2021-03-05     Kalimantan Timur        293          6530   \n",
       "6296  2021-03-05                Papua         63          7996   \n",
       "1748  2021-03-05         Maluku Utara          4           491   \n",
       "10848 2021-03-05    Kalimantan Tengah        152          1311   \n",
       "1048  2021-03-05               Maluku          9           707   \n",
       "11898 2021-03-05     Kalimantan Barat         29           425   \n",
       "6297  2021-03-05                Papua         27           530   \n",
       "11548 2021-03-05           Jawa Timur        404          3012   \n",
       "1398  2021-03-05       Sulawesi Barat         14           997   \n",
       "5248  2021-03-05       Sumatera Utara         99          2526   \n",
       "6648  2021-03-05  Nusa Tenggara Timur        150          1938   \n",
       "10148 2021-03-05            Gorontalo          9           290   \n",
       "10498 2021-03-05          Jawa Tengah        949         42906   \n",
       "698   2021-03-05                 Bali        214          1997   \n",
       "7698  2021-03-06       Sumatera Barat         58           972   \n",
       "7699  2021-03-06       Sumatera Barat         92          1010   \n",
       "6649  2021-03-06  Nusa Tenggara Timur        130          2030   \n",
       "4199  2021-03-06             Bengkulu          8           208   \n",
       "6299  2021-03-06                Papua         53          8021   \n",
       "5249  2021-03-06       Sumatera Utara         87          2520   \n",
       "4898  2021-03-06       Sulawesi Utara         27          2575   \n",
       "4899  2021-03-06       Sulawesi Utara          2           508   \n",
       "6298  2021-03-06                Papua         44           545   \n",
       "6999  2021-03-06         Jakarta Raya       1616          7290   \n",
       "11549 2021-03-06           Jawa Timur        393          2922   \n",
       "8049  2021-03-06  Nusa Tenggara Barat          3          1313   \n",
       "349   2021-03-06                 Aceh         16          1324   \n",
       "11199 2021-03-06     Kalimantan Timur        396          6448   \n",
       "699   2021-03-06                 Bali        153          1926   \n",
       "10849 2021-03-06    Kalimantan Tengah        122          1267   \n",
       "1049  2021-03-06               Maluku         38           692   \n",
       "10499 2021-03-06          Jawa Tengah        586         43444   \n",
       "1399  2021-03-06       Sulawesi Barat          4           910   \n",
       "10149 2021-03-06            Gorontalo         13           292   \n",
       "1749  2021-03-06         Maluku Utara         12           484   \n",
       "3849  2021-03-06     Sulawesi Selatan        165          3213   \n",
       "9799  2021-03-06   Kalimantan Selatan        171          2049   \n",
       "9449  2021-03-06     Kalimantan Utara         61          2084   \n",
       "2449  2021-03-06                 Riau         68           961   \n",
       "9099  2021-03-06           Jawa Barat       1094         36066   \n",
       "2799  2021-03-06              Lampung         41           856   \n",
       "5599  2021-03-06           Yogyakarta         89          5036   \n",
       "8749  2021-03-06       Kepulauan Riau         13           160   \n",
       "3149  2021-03-06      Bangka-Belitung         75           516   \n",
       "8399  2021-03-06                Jambi         17          1074   \n",
       "3499  2021-03-06      Sulawesi Tengah         34          1569   \n",
       "2099  2021-03-06               Banten         13          6415   \n",
       "11899 2021-03-06     Kalimantan Barat         73           472   \n",
       "\n",
       "       total_recovered  new_recovered  total_deaths  new_deaths  total_cases  \\\n",
       "2098             22444            120           614           0        30192   \n",
       "3848             52941            263           869           7        57172   \n",
       "11198            49422            514          1340           7        57292   \n",
       "6296              9333             33           178           0        17507   \n",
       "1748              3436             13           113           0         4040   \n",
       "10848            12646             82           366           1        14323   \n",
       "1048              6266             16           105           0         7078   \n",
       "11898             4308             30            33           0         4766   \n",
       "6297              6915             14           126           0         7571   \n",
       "11548           119181            476          9257          19       131450   \n",
       "1398              4182             50           106           0         5285   \n",
       "5248             21787            128           851           4        25164   \n",
       "6648              7588            240           272           3         9798   \n",
       "10148             4425             17           136           0         4851   \n",
       "10498           107109            291          6742          11       156757   \n",
       "698              32264            252           966           6        35227   \n",
       "7698             14474             98           782           1        16228   \n",
       "7699             27982             88           654           1        29646   \n",
       "6649              7618             30           280           8         9928   \n",
       "4199              4662             10           147           0         5017   \n",
       "6299              9360             27           179           1        17560   \n",
       "5249             21877             90           854           3        25251   \n",
       "4898             12030              8           498           2        15103   \n",
       "4899              9385             24           200           0        10093   \n",
       "6298              6944             29           126           0         7615   \n",
       "6999            335545           1697          5756          44       348591   \n",
       "11549           119644            463          9277          20       131843   \n",
       "8049              7196             26           345           1         8854   \n",
       "349               7894             18           387           0         9605   \n",
       "11199            49896            474          1344           4        57688   \n",
       "699              32483            219           971           5        35380   \n",
       "10849            12810            164           368           2        14445   \n",
       "1049              6319             53           105           0         7116   \n",
       "10499           107156             47          6743           1       157343   \n",
       "1399              4271             89           108           2         5289   \n",
       "10149             4435             10           137           1         4864   \n",
       "1749              3455             19           113           0         4052   \n",
       "3849             53251            310           873           4        57337   \n",
       "9799             20147            181           748           4        22944   \n",
       "9449              7802             35           152           0        10038   \n",
       "2449             30166             87           778           4        31905   \n",
       "9099            182453           1325          2515           1       221034   \n",
       "2799             11333             69           670           0        12859   \n",
       "5599             23099            249           703           5        28838   \n",
       "8749              8394             18           220           0         8774   \n",
       "3149              6989             85           113           1         7618   \n",
       "8399              4452             34            85           0         5611   \n",
       "3499              8491              4           263           0        10323   \n",
       "2099             23163            719           627          13        30205   \n",
       "11899             4334             26            33           0         4839   \n",
       "\n",
       "                  Location  ... Total Districts  Total Urban Villages  \\\n",
       "2098                Banten  ...             155                 313.0   \n",
       "3848      Sulawesi Selatan  ...             311                 792.0   \n",
       "11198     Kalimantan Timur  ...             103                 197.0   \n",
       "6296                 Papua  ...             560                 110.0   \n",
       "1748          Maluku Utara  ...             116                 118.0   \n",
       "10848    Kalimantan Tengah  ...             136                 139.0   \n",
       "1048                Maluku  ...             118                  35.0   \n",
       "11898     Kalimantan Barat  ...             174                  99.0   \n",
       "6297                 Papua  ...             560                 110.0   \n",
       "11548           Jawa Timur  ...             666                 777.0   \n",
       "1398        Sulawesi Barat  ...              69                  73.0   \n",
       "5248        Sumatera Utara  ...             450                 693.0   \n",
       "6648   Nusa Tenggara Timur  ...             309                 327.0   \n",
       "10148            Gorontalo  ...              77                  72.0   \n",
       "10498          Jawa Tengah  ...             576                 753.0   \n",
       "698                   Bali  ...              57                  80.0   \n",
       "7698        Sumatera Barat  ...             179                 230.0   \n",
       "7699        Sumatera Barat  ...             179                 230.0   \n",
       "6649   Nusa Tenggara Timur  ...             309                 327.0   \n",
       "4199              Bengkulu  ...             129                 172.0   \n",
       "6299                 Papua  ...             560                 110.0   \n",
       "5249        Sumatera Utara  ...             450                 693.0   \n",
       "4898        Sulawesi Utara  ...             171                 332.0   \n",
       "4899        Sulawesi Utara  ...             171                 332.0   \n",
       "6298                 Papua  ...             560                 110.0   \n",
       "6999          Jakarta Raya  ...              44                 267.0   \n",
       "11549           Jawa Timur  ...             666                 777.0   \n",
       "8049   Nusa Tenggara Barat  ...             117                 145.0   \n",
       "349                   Aceh  ...             289                   NaN   \n",
       "11199     Kalimantan Timur  ...             103                 197.0   \n",
       "699                   Bali  ...              57                  80.0   \n",
       "10849    Kalimantan Tengah  ...             136                 139.0   \n",
       "1049                Maluku  ...             118                  35.0   \n",
       "10499          Jawa Tengah  ...             576                 753.0   \n",
       "1399        Sulawesi Barat  ...              69                  73.0   \n",
       "10149            Gorontalo  ...              77                  72.0   \n",
       "1749          Maluku Utara  ...             116                 118.0   \n",
       "3849      Sulawesi Selatan  ...             311                 792.0   \n",
       "9799    Kalimantan Selatan  ...             153                 144.0   \n",
       "9449      Kalimantan Utara  ...              53                  35.0   \n",
       "2449                  Riau  ...             169                 268.0   \n",
       "9099            Jawa Barat  ...             627                 645.0   \n",
       "2799               Lampung  ...             228                 205.0   \n",
       "5599            Yogyakarta  ...              78                  46.0   \n",
       "8749        Kepulauan Riau  ...              75                 142.0   \n",
       "3149       Bangka-Belitung  ...              47                  82.0   \n",
       "8399                 Jambi  ...             141                 163.0   \n",
       "3499       Sulawesi Tengah  ...             175                 175.0   \n",
       "2099                Banten  ...             155                 313.0   \n",
       "11899     Kalimantan Barat  ...             174                  99.0   \n",
       "\n",
       "      Total Rural Villages Area (km2) Population Population Density  \\\n",
       "2098                1238.0       9663   10722374            1109.64   \n",
       "3848                2255.0      46717    9426885             201.78   \n",
       "11198                841.0     129067    3552191              27.52   \n",
       "6296                5411.0     319036    4340348              13.60   \n",
       "1748                1063.0      31983    1307803              40.89   \n",
       "10848               1432.0     153565    2570289              16.74   \n",
       "1048                1198.0      46914    1847097              39.37   \n",
       "11898               2031.0     147307    5422814              36.81   \n",
       "6297                5411.0     319036    4340348              13.60   \n",
       "11548               7724.0      47803   40479023             846.78   \n",
       "1398                 575.0      16787    1559984              92.93   \n",
       "5248                5417.0      72981   14874889             203.82   \n",
       "6648                3026.0      48718    5411321             111.07   \n",
       "10148                657.0      11257    1180651             104.88   \n",
       "10498               7809.0      32801   36364072            1108.64   \n",
       "698                  636.0       5780    4216171             729.43   \n",
       "7698                 928.0      42013    5519245             131.37   \n",
       "7699                 928.0      42013    5519245             131.37   \n",
       "6649                3026.0      48718    5411321             111.07   \n",
       "4199                1341.0      19919    1999539             100.38   \n",
       "6299                5411.0     319036    4340348              13.60   \n",
       "5249                5417.0      72981   14874889             203.82   \n",
       "4898                1507.0      13892    2641884             190.17   \n",
       "4899                1507.0      13892    2641884             190.17   \n",
       "6298                5411.0     319036    4340348              13.60   \n",
       "6999                   NaN        664   10846145           16334.31   \n",
       "11549               7724.0      47803   40479023             846.78   \n",
       "8049                 995.0      18572    5270247             283.77   \n",
       "349                 6497.0      57956    5247257              90.54   \n",
       "11199                841.0     129067    3552191              27.52   \n",
       "699                  636.0       5780    4216171             729.43   \n",
       "10849               1432.0     153565    2570289              16.74   \n",
       "1049                1198.0      46914    1847097              39.37   \n",
       "10499               7809.0      32801   36364072            1108.64   \n",
       "1399                 575.0      16787    1559984              92.93   \n",
       "10149                657.0      11257    1180651             104.88   \n",
       "1749                1063.0      31983    1307803              40.89   \n",
       "3849                2255.0      46717    9426885             201.78   \n",
       "9799                1864.0      38744    4023049             103.84   \n",
       "9449                 447.0      75468     648407               8.59   \n",
       "2449                1591.0      87024    6074100              69.80   \n",
       "9099                5312.0      35378   45161325            1276.55   \n",
       "2799                2435.0      34624    9095591             262.70   \n",
       "5599                 392.0       3133    3631015            1158.90   \n",
       "8749                 275.0       8202    1929400             235.24   \n",
       "3149                 309.0      16424    1379767              84.01   \n",
       "8399                1399.0      50058    3493357              69.79   \n",
       "3499                1842.0      61841    2955567              47.79   \n",
       "2099                1238.0       9663   10722374            1109.64   \n",
       "11899               2031.0     147307    5422814              36.81   \n",
       "\n",
       "        Longitude  Latitude                     Name_EN  id  \n",
       "2098   106.109004 -6.456736                      banten  25  \n",
       "3848   120.162056 -3.731081            sulawesi selatan  19  \n",
       "11198  116.468440  0.453858            kalimantan timur  10  \n",
       "6296   138.696030 -4.666210                       papua  17  \n",
       "1748   127.539107  0.212037                maluku utara  14  \n",
       "10848  113.417654 -1.602485           kalimantan tengah  31  \n",
       "1048   129.576792 -3.192572                      maluku  13  \n",
       "11898  111.121178 -0.086475            kalimantan barat   8  \n",
       "6297   138.696030 -4.666210                       papua  17  \n",
       "11548  112.732941 -7.723346                  jawa timur   7  \n",
       "1398   119.345019 -2.461746              sulawesi barat  32  \n",
       "5248    99.051964  2.191894              sumatera utara   4  \n",
       "6648   121.592271 -8.682205         nusa tenggara timur  16  \n",
       "10148  122.376058  0.687003                   gorontalo  26  \n",
       "10498  110.201115 -7.259097                 jawa tengah  30  \n",
       "698    115.131714 -8.369472                        bali  24  \n",
       "7698   100.465062 -0.850253              sumatera barat   2  \n",
       "7699   100.465062 -0.850253              sumatera barat   2  \n",
       "6649   121.592271 -8.682205         nusa tenggara timur  16  \n",
       "4199   102.338421 -3.533584                    bengkulu  20  \n",
       "6299   138.696030 -4.666210                       papua  17  \n",
       "5249    99.051964  2.191894              sumatera utara   4  \n",
       "4898   124.521240  1.259638              sulawesi utara  22  \n",
       "4899   124.521240  1.259638              sulawesi utara  22  \n",
       "6298   138.696030 -4.666210                       papua  17  \n",
       "6999   106.836118 -6.204699                 dki jakarta  27  \n",
       "11549  112.732941 -7.723346                  jawa timur   7  \n",
       "8049   117.508626 -8.606999         nusa tenggara barat  15  \n",
       "349     96.910522  4.225615                        aceh   1  \n",
       "11199  116.468440  0.453858            kalimantan timur  10  \n",
       "699    115.131714 -8.369472                        bali  24  \n",
       "10849  113.417654 -1.602485           kalimantan tengah  31  \n",
       "1049   129.576792 -3.192572                      maluku  13  \n",
       "10499  110.201115 -7.259097                 jawa tengah  30  \n",
       "1399   119.345019 -2.461746              sulawesi barat  32  \n",
       "10149  122.376058  0.687003                   gorontalo  26  \n",
       "1749   127.539107  0.212037                maluku utara  14  \n",
       "3849   120.162056 -3.731081            sulawesi selatan  19  \n",
       "9799   115.438578 -2.993595          kalimantan selatan   9  \n",
       "9449   116.218879  2.891013            kalimantan utara   0  \n",
       "2449   101.805109  0.511648                        riau  18  \n",
       "9099   107.603708 -6.920432                  jawa barat  29  \n",
       "2799   105.021437 -4.916793                     lampung  12  \n",
       "5599   110.444878 -7.894502  daerah istimewa yogyakarta   3  \n",
       "8749   108.261746  3.916346              kepulauan riau  11  \n",
       "3149   106.549932 -2.447444   kepulauan bangka belitung   5  \n",
       "8399   102.723640 -1.697698                       jambi  28  \n",
       "3499   121.201093 -1.004137             sulawesi tengah  21  \n",
       "2099   106.109004 -6.456736                      banten  25  \n",
       "11899  111.121178 -0.086475            kalimantan barat   8  \n",
       "\n",
       "[50 rows x 29 columns]"
      ],
      "text/html": "<div>\n<style scoped>\n    .dataframe tbody tr th:only-of-type {\n        vertical-align: middle;\n    }\n\n    .dataframe tbody tr th {\n        vertical-align: top;\n    }\n\n    .dataframe thead th {\n        text-align: right;\n    }\n</style>\n<table border=\"1\" class=\"dataframe\">\n  <thead>\n    <tr style=\"text-align: right;\">\n      <th></th>\n      <th>Date</th>\n      <th>Province</th>\n      <th>new_cases</th>\n      <th>active_cases</th>\n      <th>total_recovered</th>\n      <th>new_recovered</th>\n      <th>total_deaths</th>\n      <th>new_deaths</th>\n      <th>total_cases</th>\n      <th>Location</th>\n      <th>...</th>\n      <th>Total Districts</th>\n      <th>Total Urban Villages</th>\n      <th>Total Rural Villages</th>\n      <th>Area (km2)</th>\n      <th>Population</th>\n      <th>Population Density</th>\n      <th>Longitude</th>\n      <th>Latitude</th>\n      <th>Name_EN</th>\n      <th>id</th>\n    </tr>\n  </thead>\n  <tbody>\n    <tr>\n      <th>2098</th>\n      <td>2021-03-05</td>\n      <td>Banten</td>\n      <td>515</td>\n      <td>7134</td>\n      <td>22444</td>\n      <td>120</td>\n      <td>614</td>\n      <td>0</td>\n      <td>30192</td>\n      <td>Banten</td>\n      <td>...</td>\n      <td>155</td>\n      <td>313.0</td>\n      <td>1238.0</td>\n      <td>9663</td>\n      <td>10722374</td>\n      <td>1109.64</td>\n      <td>106.109004</td>\n      <td>-6.456736</td>\n      <td>banten</td>\n      <td>25</td>\n    </tr>\n    <tr>\n      <th>3848</th>\n      <td>2021-03-05</td>\n      <td>Sulawesi Selatan</td>\n      <td>196</td>\n      <td>3362</td>\n      <td>52941</td>\n      <td>263</td>\n      <td>869</td>\n      <td>7</td>\n      <td>57172</td>\n      <td>Sulawesi Selatan</td>\n      <td>...</td>\n      <td>311</td>\n      <td>792.0</td>\n      <td>2255.0</td>\n      <td>46717</td>\n      <td>9426885</td>\n      <td>201.78</td>\n      <td>120.162056</td>\n      <td>-3.731081</td>\n      <td>sulawesi selatan</td>\n      <td>19</td>\n    </tr>\n    <tr>\n      <th>11198</th>\n      <td>2021-03-05</td>\n      <td>Kalimantan Timur</td>\n      <td>293</td>\n      <td>6530</td>\n      <td>49422</td>\n      <td>514</td>\n      <td>1340</td>\n      <td>7</td>\n      <td>57292</td>\n      <td>Kalimantan Timur</td>\n      <td>...</td>\n      <td>103</td>\n      <td>197.0</td>\n      <td>841.0</td>\n      <td>129067</td>\n      <td>3552191</td>\n      <td>27.52</td>\n      <td>116.468440</td>\n      <td>0.453858</td>\n      <td>kalimantan timur</td>\n      <td>10</td>\n    </tr>\n    <tr>\n      <th>6296</th>\n      <td>2021-03-05</td>\n      <td>Papua</td>\n      <td>63</td>\n      <td>7996</td>\n      <td>9333</td>\n      <td>33</td>\n      <td>178</td>\n      <td>0</td>\n      <td>17507</td>\n      <td>Papua</td>\n      <td>...</td>\n      <td>560</td>\n      <td>110.0</td>\n      <td>5411.0</td>\n      <td>319036</td>\n      <td>4340348</td>\n      <td>13.60</td>\n      <td>138.696030</td>\n      <td>-4.666210</td>\n      <td>papua</td>\n      <td>17</td>\n    </tr>\n    <tr>\n      <th>1748</th>\n      <td>2021-03-05</td>\n      <td>Maluku Utara</td>\n      <td>4</td>\n      <td>491</td>\n      <td>3436</td>\n      <td>13</td>\n      <td>113</td>\n      <td>0</td>\n      <td>4040</td>\n      <td>Maluku Utara</td>\n      <td>...</td>\n      <td>116</td>\n      <td>118.0</td>\n      <td>1063.0</td>\n      <td>31983</td>\n      <td>1307803</td>\n      <td>40.89</td>\n      <td>127.539107</td>\n      <td>0.212037</td>\n      <td>maluku utara</td>\n      <td>14</td>\n    </tr>\n    <tr>\n      <th>10848</th>\n      <td>2021-03-05</td>\n      <td>Kalimantan Tengah</td>\n      <td>152</td>\n      <td>1311</td>\n      <td>12646</td>\n      <td>82</td>\n      <td>366</td>\n      <td>1</td>\n      <td>14323</td>\n      <td>Kalimantan Tengah</td>\n      <td>...</td>\n      <td>136</td>\n      <td>139.0</td>\n      <td>1432.0</td>\n      <td>153565</td>\n      <td>2570289</td>\n      <td>16.74</td>\n      <td>113.417654</td>\n      <td>-1.602485</td>\n      <td>kalimantan tengah</td>\n      <td>31</td>\n    </tr>\n    <tr>\n      <th>1048</th>\n      <td>2021-03-05</td>\n      <td>Maluku</td>\n      <td>9</td>\n      <td>707</td>\n      <td>6266</td>\n      <td>16</td>\n      <td>105</td>\n      <td>0</td>\n      <td>7078</td>\n      <td>Maluku</td>\n      <td>...</td>\n      <td>118</td>\n      <td>35.0</td>\n      <td>1198.0</td>\n      <td>46914</td>\n      <td>1847097</td>\n      <td>39.37</td>\n      <td>129.576792</td>\n      <td>-3.192572</td>\n      <td>maluku</td>\n      <td>13</td>\n    </tr>\n    <tr>\n      <th>11898</th>\n      <td>2021-03-05</td>\n      <td>Kalimantan Barat</td>\n      <td>29</td>\n      <td>425</td>\n      <td>4308</td>\n      <td>30</td>\n      <td>33</td>\n      <td>0</td>\n      <td>4766</td>\n      <td>Kalimantan Barat</td>\n      <td>...</td>\n      <td>174</td>\n      <td>99.0</td>\n      <td>2031.0</td>\n      <td>147307</td>\n      <td>5422814</td>\n      <td>36.81</td>\n      <td>111.121178</td>\n      <td>-0.086475</td>\n      <td>kalimantan barat</td>\n      <td>8</td>\n    </tr>\n    <tr>\n      <th>6297</th>\n      <td>2021-03-05</td>\n      <td>Papua</td>\n      <td>27</td>\n      <td>530</td>\n      <td>6915</td>\n      <td>14</td>\n      <td>126</td>\n      <td>0</td>\n      <td>7571</td>\n      <td>Papua</td>\n      <td>...</td>\n      <td>560</td>\n      <td>110.0</td>\n      <td>5411.0</td>\n      <td>319036</td>\n      <td>4340348</td>\n      <td>13.60</td>\n      <td>138.696030</td>\n      <td>-4.666210</td>\n      <td>papua</td>\n      <td>17</td>\n    </tr>\n    <tr>\n      <th>11548</th>\n      <td>2021-03-05</td>\n      <td>Jawa Timur</td>\n      <td>404</td>\n      <td>3012</td>\n      <td>119181</td>\n      <td>476</td>\n      <td>9257</td>\n      <td>19</td>\n      <td>131450</td>\n      <td>Jawa Timur</td>\n      <td>...</td>\n      <td>666</td>\n      <td>777.0</td>\n      <td>7724.0</td>\n      <td>47803</td>\n      <td>40479023</td>\n      <td>846.78</td>\n      <td>112.732941</td>\n      <td>-7.723346</td>\n      <td>jawa timur</td>\n      <td>7</td>\n    </tr>\n    <tr>\n      <th>1398</th>\n      <td>2021-03-05</td>\n      <td>Sulawesi Barat</td>\n      <td>14</td>\n      <td>997</td>\n      <td>4182</td>\n      <td>50</td>\n      <td>106</td>\n      <td>0</td>\n      <td>5285</td>\n      <td>Sulawesi Barat</td>\n      <td>...</td>\n      <td>69</td>\n      <td>73.0</td>\n      <td>575.0</td>\n      <td>16787</td>\n      <td>1559984</td>\n      <td>92.93</td>\n      <td>119.345019</td>\n      <td>-2.461746</td>\n      <td>sulawesi barat</td>\n      <td>32</td>\n    </tr>\n    <tr>\n      <th>5248</th>\n      <td>2021-03-05</td>\n      <td>Sumatera Utara</td>\n      <td>99</td>\n      <td>2526</td>\n      <td>21787</td>\n      <td>128</td>\n      <td>851</td>\n      <td>4</td>\n      <td>25164</td>\n      <td>Sumatera Utara</td>\n      <td>...</td>\n      <td>450</td>\n      <td>693.0</td>\n      <td>5417.0</td>\n      <td>72981</td>\n      <td>14874889</td>\n      <td>203.82</td>\n      <td>99.051964</td>\n      <td>2.191894</td>\n      <td>sumatera utara</td>\n      <td>4</td>\n    </tr>\n    <tr>\n      <th>6648</th>\n      <td>2021-03-05</td>\n      <td>Nusa Tenggara Timur</td>\n      <td>150</td>\n      <td>1938</td>\n      <td>7588</td>\n      <td>240</td>\n      <td>272</td>\n      <td>3</td>\n      <td>9798</td>\n      <td>Nusa Tenggara Timur</td>\n      <td>...</td>\n      <td>309</td>\n      <td>327.0</td>\n      <td>3026.0</td>\n      <td>48718</td>\n      <td>5411321</td>\n      <td>111.07</td>\n      <td>121.592271</td>\n      <td>-8.682205</td>\n      <td>nusa tenggara timur</td>\n      <td>16</td>\n    </tr>\n    <tr>\n      <th>10148</th>\n      <td>2021-03-05</td>\n      <td>Gorontalo</td>\n      <td>9</td>\n      <td>290</td>\n      <td>4425</td>\n      <td>17</td>\n      <td>136</td>\n      <td>0</td>\n      <td>4851</td>\n      <td>Gorontalo</td>\n      <td>...</td>\n      <td>77</td>\n      <td>72.0</td>\n      <td>657.0</td>\n      <td>11257</td>\n      <td>1180651</td>\n      <td>104.88</td>\n      <td>122.376058</td>\n      <td>0.687003</td>\n      <td>gorontalo</td>\n      <td>26</td>\n    </tr>\n    <tr>\n      <th>10498</th>\n      <td>2021-03-05</td>\n      <td>Jawa Tengah</td>\n      <td>949</td>\n      <td>42906</td>\n      <td>107109</td>\n      <td>291</td>\n      <td>6742</td>\n      <td>11</td>\n      <td>156757</td>\n      <td>Jawa Tengah</td>\n      <td>...</td>\n      <td>576</td>\n      <td>753.0</td>\n      <td>7809.0</td>\n      <td>32801</td>\n      <td>36364072</td>\n      <td>1108.64</td>\n      <td>110.201115</td>\n      <td>-7.259097</td>\n      <td>jawa tengah</td>\n      <td>30</td>\n    </tr>\n    <tr>\n      <th>698</th>\n      <td>2021-03-05</td>\n      <td>Bali</td>\n      <td>214</td>\n      <td>1997</td>\n      <td>32264</td>\n      <td>252</td>\n      <td>966</td>\n      <td>6</td>\n      <td>35227</td>\n      <td>Bali</td>\n      <td>...</td>\n      <td>57</td>\n      <td>80.0</td>\n      <td>636.0</td>\n      <td>5780</td>\n      <td>4216171</td>\n      <td>729.43</td>\n      <td>115.131714</td>\n      <td>-8.369472</td>\n      <td>bali</td>\n      <td>24</td>\n    </tr>\n    <tr>\n      <th>7698</th>\n      <td>2021-03-06</td>\n      <td>Sumatera Barat</td>\n      <td>58</td>\n      <td>972</td>\n      <td>14474</td>\n      <td>98</td>\n      <td>782</td>\n      <td>1</td>\n      <td>16228</td>\n      <td>Sumatera Barat</td>\n      <td>...</td>\n      <td>179</td>\n      <td>230.0</td>\n      <td>928.0</td>\n      <td>42013</td>\n      <td>5519245</td>\n      <td>131.37</td>\n      <td>100.465062</td>\n      <td>-0.850253</td>\n      <td>sumatera barat</td>\n      <td>2</td>\n    </tr>\n    <tr>\n      <th>7699</th>\n      <td>2021-03-06</td>\n      <td>Sumatera Barat</td>\n      <td>92</td>\n      <td>1010</td>\n      <td>27982</td>\n      <td>88</td>\n      <td>654</td>\n      <td>1</td>\n      <td>29646</td>\n      <td>Sumatera Barat</td>\n      <td>...</td>\n      <td>179</td>\n      <td>230.0</td>\n      <td>928.0</td>\n      <td>42013</td>\n      <td>5519245</td>\n      <td>131.37</td>\n      <td>100.465062</td>\n      <td>-0.850253</td>\n      <td>sumatera barat</td>\n      <td>2</td>\n    </tr>\n    <tr>\n      <th>6649</th>\n      <td>2021-03-06</td>\n      <td>Nusa Tenggara Timur</td>\n      <td>130</td>\n      <td>2030</td>\n      <td>7618</td>\n      <td>30</td>\n      <td>280</td>\n      <td>8</td>\n      <td>9928</td>\n      <td>Nusa Tenggara Timur</td>\n      <td>...</td>\n      <td>309</td>\n      <td>327.0</td>\n      <td>3026.0</td>\n      <td>48718</td>\n      <td>5411321</td>\n      <td>111.07</td>\n      <td>121.592271</td>\n      <td>-8.682205</td>\n      <td>nusa tenggara timur</td>\n      <td>16</td>\n    </tr>\n    <tr>\n      <th>4199</th>\n      <td>2021-03-06</td>\n      <td>Bengkulu</td>\n      <td>8</td>\n      <td>208</td>\n      <td>4662</td>\n      <td>10</td>\n      <td>147</td>\n      <td>0</td>\n      <td>5017</td>\n      <td>Bengkulu</td>\n      <td>...</td>\n      <td>129</td>\n      <td>172.0</td>\n      <td>1341.0</td>\n      <td>19919</td>\n      <td>1999539</td>\n      <td>100.38</td>\n      <td>102.338421</td>\n      <td>-3.533584</td>\n      <td>bengkulu</td>\n      <td>20</td>\n    </tr>\n    <tr>\n      <th>6299</th>\n      <td>2021-03-06</td>\n      <td>Papua</td>\n      <td>53</td>\n      <td>8021</td>\n      <td>9360</td>\n      <td>27</td>\n      <td>179</td>\n      <td>1</td>\n      <td>17560</td>\n      <td>Papua</td>\n      <td>...</td>\n      <td>560</td>\n      <td>110.0</td>\n      <td>5411.0</td>\n      <td>319036</td>\n      <td>4340348</td>\n      <td>13.60</td>\n      <td>138.696030</td>\n      <td>-4.666210</td>\n      <td>papua</td>\n      <td>17</td>\n    </tr>\n    <tr>\n      <th>5249</th>\n      <td>2021-03-06</td>\n      <td>Sumatera Utara</td>\n      <td>87</td>\n      <td>2520</td>\n      <td>21877</td>\n      <td>90</td>\n      <td>854</td>\n      <td>3</td>\n      <td>25251</td>\n      <td>Sumatera Utara</td>\n      <td>...</td>\n      <td>450</td>\n      <td>693.0</td>\n      <td>5417.0</td>\n      <td>72981</td>\n      <td>14874889</td>\n      <td>203.82</td>\n      <td>99.051964</td>\n      <td>2.191894</td>\n      <td>sumatera utara</td>\n      <td>4</td>\n    </tr>\n    <tr>\n      <th>4898</th>\n      <td>2021-03-06</td>\n      <td>Sulawesi Utara</td>\n      <td>27</td>\n      <td>2575</td>\n      <td>12030</td>\n      <td>8</td>\n      <td>498</td>\n      <td>2</td>\n      <td>15103</td>\n      <td>Sulawesi Utara</td>\n      <td>...</td>\n      <td>171</td>\n      <td>332.0</td>\n      <td>1507.0</td>\n      <td>13892</td>\n      <td>2641884</td>\n      <td>190.17</td>\n      <td>124.521240</td>\n      <td>1.259638</td>\n      <td>sulawesi utara</td>\n      <td>22</td>\n    </tr>\n    <tr>\n      <th>4899</th>\n      <td>2021-03-06</td>\n      <td>Sulawesi Utara</td>\n      <td>2</td>\n      <td>508</td>\n      <td>9385</td>\n      <td>24</td>\n      <td>200</td>\n      <td>0</td>\n      <td>10093</td>\n      <td>Sulawesi Utara</td>\n      <td>...</td>\n      <td>171</td>\n      <td>332.0</td>\n      <td>1507.0</td>\n      <td>13892</td>\n      <td>2641884</td>\n      <td>190.17</td>\n      <td>124.521240</td>\n      <td>1.259638</td>\n      <td>sulawesi utara</td>\n      <td>22</td>\n    </tr>\n    <tr>\n      <th>6298</th>\n      <td>2021-03-06</td>\n      <td>Papua</td>\n      <td>44</td>\n      <td>545</td>\n      <td>6944</td>\n      <td>29</td>\n      <td>126</td>\n      <td>0</td>\n      <td>7615</td>\n      <td>Papua</td>\n      <td>...</td>\n      <td>560</td>\n      <td>110.0</td>\n      <td>5411.0</td>\n      <td>319036</td>\n      <td>4340348</td>\n      <td>13.60</td>\n      <td>138.696030</td>\n      <td>-4.666210</td>\n      <td>papua</td>\n      <td>17</td>\n    </tr>\n    <tr>\n      <th>6999</th>\n      <td>2021-03-06</td>\n      <td>Jakarta Raya</td>\n      <td>1616</td>\n      <td>7290</td>\n      <td>335545</td>\n      <td>1697</td>\n      <td>5756</td>\n      <td>44</td>\n      <td>348591</td>\n      <td>Jakarta Raya</td>\n      <td>...</td>\n      <td>44</td>\n      <td>267.0</td>\n      <td>NaN</td>\n      <td>664</td>\n      <td>10846145</td>\n      <td>16334.31</td>\n      <td>106.836118</td>\n      <td>-6.204699</td>\n      <td>dki jakarta</td>\n      <td>27</td>\n    </tr>\n    <tr>\n      <th>11549</th>\n      <td>2021-03-06</td>\n      <td>Jawa Timur</td>\n      <td>393</td>\n      <td>2922</td>\n      <td>119644</td>\n      <td>463</td>\n      <td>9277</td>\n      <td>20</td>\n      <td>131843</td>\n      <td>Jawa Timur</td>\n      <td>...</td>\n      <td>666</td>\n      <td>777.0</td>\n      <td>7724.0</td>\n      <td>47803</td>\n      <td>40479023</td>\n      <td>846.78</td>\n      <td>112.732941</td>\n      <td>-7.723346</td>\n      <td>jawa timur</td>\n      <td>7</td>\n    </tr>\n    <tr>\n      <th>8049</th>\n      <td>2021-03-06</td>\n      <td>Nusa Tenggara Barat</td>\n      <td>3</td>\n      <td>1313</td>\n      <td>7196</td>\n      <td>26</td>\n      <td>345</td>\n      <td>1</td>\n      <td>8854</td>\n      <td>Nusa Tenggara Barat</td>\n      <td>...</td>\n      <td>117</td>\n      <td>145.0</td>\n      <td>995.0</td>\n      <td>18572</td>\n      <td>5270247</td>\n      <td>283.77</td>\n      <td>117.508626</td>\n      <td>-8.606999</td>\n      <td>nusa tenggara barat</td>\n      <td>15</td>\n    </tr>\n    <tr>\n      <th>349</th>\n      <td>2021-03-06</td>\n      <td>Aceh</td>\n      <td>16</td>\n      <td>1324</td>\n      <td>7894</td>\n      <td>18</td>\n      <td>387</td>\n      <td>0</td>\n      <td>9605</td>\n      <td>Aceh</td>\n      <td>...</td>\n      <td>289</td>\n      <td>NaN</td>\n      <td>6497.0</td>\n      <td>57956</td>\n      <td>5247257</td>\n      <td>90.54</td>\n      <td>96.910522</td>\n      <td>4.225615</td>\n      <td>aceh</td>\n      <td>1</td>\n    </tr>\n    <tr>\n      <th>11199</th>\n      <td>2021-03-06</td>\n      <td>Kalimantan Timur</td>\n      <td>396</td>\n      <td>6448</td>\n      <td>49896</td>\n      <td>474</td>\n      <td>1344</td>\n      <td>4</td>\n      <td>57688</td>\n      <td>Kalimantan Timur</td>\n      <td>...</td>\n      <td>103</td>\n      <td>197.0</td>\n      <td>841.0</td>\n      <td>129067</td>\n      <td>3552191</td>\n      <td>27.52</td>\n      <td>116.468440</td>\n      <td>0.453858</td>\n      <td>kalimantan timur</td>\n      <td>10</td>\n    </tr>\n    <tr>\n      <th>699</th>\n      <td>2021-03-06</td>\n      <td>Bali</td>\n      <td>153</td>\n      <td>1926</td>\n      <td>32483</td>\n      <td>219</td>\n      <td>971</td>\n      <td>5</td>\n      <td>35380</td>\n      <td>Bali</td>\n      <td>...</td>\n      <td>57</td>\n      <td>80.0</td>\n      <td>636.0</td>\n      <td>5780</td>\n      <td>4216171</td>\n      <td>729.43</td>\n      <td>115.131714</td>\n      <td>-8.369472</td>\n      <td>bali</td>\n      <td>24</td>\n    </tr>\n    <tr>\n      <th>10849</th>\n      <td>2021-03-06</td>\n      <td>Kalimantan Tengah</td>\n      <td>122</td>\n      <td>1267</td>\n      <td>12810</td>\n      <td>164</td>\n      <td>368</td>\n      <td>2</td>\n      <td>14445</td>\n      <td>Kalimantan Tengah</td>\n      <td>...</td>\n      <td>136</td>\n      <td>139.0</td>\n      <td>1432.0</td>\n      <td>153565</td>\n      <td>2570289</td>\n      <td>16.74</td>\n      <td>113.417654</td>\n      <td>-1.602485</td>\n      <td>kalimantan tengah</td>\n      <td>31</td>\n    </tr>\n    <tr>\n      <th>1049</th>\n      <td>2021-03-06</td>\n      <td>Maluku</td>\n      <td>38</td>\n      <td>692</td>\n      <td>6319</td>\n      <td>53</td>\n      <td>105</td>\n      <td>0</td>\n      <td>7116</td>\n      <td>Maluku</td>\n      <td>...</td>\n      <td>118</td>\n      <td>35.0</td>\n      <td>1198.0</td>\n      <td>46914</td>\n      <td>1847097</td>\n      <td>39.37</td>\n      <td>129.576792</td>\n      <td>-3.192572</td>\n      <td>maluku</td>\n      <td>13</td>\n    </tr>\n    <tr>\n      <th>10499</th>\n      <td>2021-03-06</td>\n      <td>Jawa Tengah</td>\n      <td>586</td>\n      <td>43444</td>\n      <td>107156</td>\n      <td>47</td>\n      <td>6743</td>\n      <td>1</td>\n      <td>157343</td>\n      <td>Jawa Tengah</td>\n      <td>...</td>\n      <td>576</td>\n      <td>753.0</td>\n      <td>7809.0</td>\n      <td>32801</td>\n      <td>36364072</td>\n      <td>1108.64</td>\n      <td>110.201115</td>\n      <td>-7.259097</td>\n      <td>jawa tengah</td>\n      <td>30</td>\n    </tr>\n    <tr>\n      <th>1399</th>\n      <td>2021-03-06</td>\n      <td>Sulawesi Barat</td>\n      <td>4</td>\n      <td>910</td>\n      <td>4271</td>\n      <td>89</td>\n      <td>108</td>\n      <td>2</td>\n      <td>5289</td>\n      <td>Sulawesi Barat</td>\n      <td>...</td>\n      <td>69</td>\n      <td>73.0</td>\n      <td>575.0</td>\n      <td>16787</td>\n      <td>1559984</td>\n      <td>92.93</td>\n      <td>119.345019</td>\n      <td>-2.461746</td>\n      <td>sulawesi barat</td>\n      <td>32</td>\n    </tr>\n    <tr>\n      <th>10149</th>\n      <td>2021-03-06</td>\n      <td>Gorontalo</td>\n      <td>13</td>\n      <td>292</td>\n      <td>4435</td>\n      <td>10</td>\n      <td>137</td>\n      <td>1</td>\n      <td>4864</td>\n      <td>Gorontalo</td>\n      <td>...</td>\n      <td>77</td>\n      <td>72.0</td>\n      <td>657.0</td>\n      <td>11257</td>\n      <td>1180651</td>\n      <td>104.88</td>\n      <td>122.376058</td>\n      <td>0.687003</td>\n      <td>gorontalo</td>\n      <td>26</td>\n    </tr>\n    <tr>\n      <th>1749</th>\n      <td>2021-03-06</td>\n      <td>Maluku Utara</td>\n      <td>12</td>\n      <td>484</td>\n      <td>3455</td>\n      <td>19</td>\n      <td>113</td>\n      <td>0</td>\n      <td>4052</td>\n      <td>Maluku Utara</td>\n      <td>...</td>\n      <td>116</td>\n      <td>118.0</td>\n      <td>1063.0</td>\n      <td>31983</td>\n      <td>1307803</td>\n      <td>40.89</td>\n      <td>127.539107</td>\n      <td>0.212037</td>\n      <td>maluku utara</td>\n      <td>14</td>\n    </tr>\n    <tr>\n      <th>3849</th>\n      <td>2021-03-06</td>\n      <td>Sulawesi Selatan</td>\n      <td>165</td>\n      <td>3213</td>\n      <td>53251</td>\n      <td>310</td>\n      <td>873</td>\n      <td>4</td>\n      <td>57337</td>\n      <td>Sulawesi Selatan</td>\n      <td>...</td>\n      <td>311</td>\n      <td>792.0</td>\n      <td>2255.0</td>\n      <td>46717</td>\n      <td>9426885</td>\n      <td>201.78</td>\n      <td>120.162056</td>\n      <td>-3.731081</td>\n      <td>sulawesi selatan</td>\n      <td>19</td>\n    </tr>\n    <tr>\n      <th>9799</th>\n      <td>2021-03-06</td>\n      <td>Kalimantan Selatan</td>\n      <td>171</td>\n      <td>2049</td>\n      <td>20147</td>\n      <td>181</td>\n      <td>748</td>\n      <td>4</td>\n      <td>22944</td>\n      <td>Kalimantan Selatan</td>\n      <td>...</td>\n      <td>153</td>\n      <td>144.0</td>\n      <td>1864.0</td>\n      <td>38744</td>\n      <td>4023049</td>\n      <td>103.84</td>\n      <td>115.438578</td>\n      <td>-2.993595</td>\n      <td>kalimantan selatan</td>\n      <td>9</td>\n    </tr>\n    <tr>\n      <th>9449</th>\n      <td>2021-03-06</td>\n      <td>Kalimantan Utara</td>\n      <td>61</td>\n      <td>2084</td>\n      <td>7802</td>\n      <td>35</td>\n      <td>152</td>\n      <td>0</td>\n      <td>10038</td>\n      <td>Kalimantan Utara</td>\n      <td>...</td>\n      <td>53</td>\n      <td>35.0</td>\n      <td>447.0</td>\n      <td>75468</td>\n      <td>648407</td>\n      <td>8.59</td>\n      <td>116.218879</td>\n      <td>2.891013</td>\n      <td>kalimantan utara</td>\n      <td>0</td>\n    </tr>\n    <tr>\n      <th>2449</th>\n      <td>2021-03-06</td>\n      <td>Riau</td>\n      <td>68</td>\n      <td>961</td>\n      <td>30166</td>\n      <td>87</td>\n      <td>778</td>\n      <td>4</td>\n      <td>31905</td>\n      <td>Riau</td>\n      <td>...</td>\n      <td>169</td>\n      <td>268.0</td>\n      <td>1591.0</td>\n      <td>87024</td>\n      <td>6074100</td>\n      <td>69.80</td>\n      <td>101.805109</td>\n      <td>0.511648</td>\n      <td>riau</td>\n      <td>18</td>\n    </tr>\n    <tr>\n      <th>9099</th>\n      <td>2021-03-06</td>\n      <td>Jawa Barat</td>\n      <td>1094</td>\n      <td>36066</td>\n      <td>182453</td>\n      <td>1325</td>\n      <td>2515</td>\n      <td>1</td>\n      <td>221034</td>\n      <td>Jawa Barat</td>\n      <td>...</td>\n      <td>627</td>\n      <td>645.0</td>\n      <td>5312.0</td>\n      <td>35378</td>\n      <td>45161325</td>\n      <td>1276.55</td>\n      <td>107.603708</td>\n      <td>-6.920432</td>\n      <td>jawa barat</td>\n      <td>29</td>\n    </tr>\n    <tr>\n      <th>2799</th>\n      <td>2021-03-06</td>\n      <td>Lampung</td>\n      <td>41</td>\n      <td>856</td>\n      <td>11333</td>\n      <td>69</td>\n      <td>670</td>\n      <td>0</td>\n      <td>12859</td>\n      <td>Lampung</td>\n      <td>...</td>\n      <td>228</td>\n      <td>205.0</td>\n      <td>2435.0</td>\n      <td>34624</td>\n      <td>9095591</td>\n      <td>262.70</td>\n      <td>105.021437</td>\n      <td>-4.916793</td>\n      <td>lampung</td>\n      <td>12</td>\n    </tr>\n    <tr>\n      <th>5599</th>\n      <td>2021-03-06</td>\n      <td>Yogyakarta</td>\n      <td>89</td>\n      <td>5036</td>\n      <td>23099</td>\n      <td>249</td>\n      <td>703</td>\n      <td>5</td>\n      <td>28838</td>\n      <td>Yogyakarta</td>\n      <td>...</td>\n      <td>78</td>\n      <td>46.0</td>\n      <td>392.0</td>\n      <td>3133</td>\n      <td>3631015</td>\n      <td>1158.90</td>\n      <td>110.444878</td>\n      <td>-7.894502</td>\n      <td>daerah istimewa yogyakarta</td>\n      <td>3</td>\n    </tr>\n    <tr>\n      <th>8749</th>\n      <td>2021-03-06</td>\n      <td>Kepulauan Riau</td>\n      <td>13</td>\n      <td>160</td>\n      <td>8394</td>\n      <td>18</td>\n      <td>220</td>\n      <td>0</td>\n      <td>8774</td>\n      <td>Kepulauan Riau</td>\n      <td>...</td>\n      <td>75</td>\n      <td>142.0</td>\n      <td>275.0</td>\n      <td>8202</td>\n      <td>1929400</td>\n      <td>235.24</td>\n      <td>108.261746</td>\n      <td>3.916346</td>\n      <td>kepulauan riau</td>\n      <td>11</td>\n    </tr>\n    <tr>\n      <th>3149</th>\n      <td>2021-03-06</td>\n      <td>Bangka-Belitung</td>\n      <td>75</td>\n      <td>516</td>\n      <td>6989</td>\n      <td>85</td>\n      <td>113</td>\n      <td>1</td>\n      <td>7618</td>\n      <td>Bangka-Belitung</td>\n      <td>...</td>\n      <td>47</td>\n      <td>82.0</td>\n      <td>309.0</td>\n      <td>16424</td>\n      <td>1379767</td>\n      <td>84.01</td>\n      <td>106.549932</td>\n      <td>-2.447444</td>\n      <td>kepulauan bangka belitung</td>\n      <td>5</td>\n    </tr>\n    <tr>\n      <th>8399</th>\n      <td>2021-03-06</td>\n      <td>Jambi</td>\n      <td>17</td>\n      <td>1074</td>\n      <td>4452</td>\n      <td>34</td>\n      <td>85</td>\n      <td>0</td>\n      <td>5611</td>\n      <td>Jambi</td>\n      <td>...</td>\n      <td>141</td>\n      <td>163.0</td>\n      <td>1399.0</td>\n      <td>50058</td>\n      <td>3493357</td>\n      <td>69.79</td>\n      <td>102.723640</td>\n      <td>-1.697698</td>\n      <td>jambi</td>\n      <td>28</td>\n    </tr>\n    <tr>\n      <th>3499</th>\n      <td>2021-03-06</td>\n      <td>Sulawesi Tengah</td>\n      <td>34</td>\n      <td>1569</td>\n      <td>8491</td>\n      <td>4</td>\n      <td>263</td>\n      <td>0</td>\n      <td>10323</td>\n      <td>Sulawesi Tengah</td>\n      <td>...</td>\n      <td>175</td>\n      <td>175.0</td>\n      <td>1842.0</td>\n      <td>61841</td>\n      <td>2955567</td>\n      <td>47.79</td>\n      <td>121.201093</td>\n      <td>-1.004137</td>\n      <td>sulawesi tengah</td>\n      <td>21</td>\n    </tr>\n    <tr>\n      <th>2099</th>\n      <td>2021-03-06</td>\n      <td>Banten</td>\n      <td>13</td>\n      <td>6415</td>\n      <td>23163</td>\n      <td>719</td>\n      <td>627</td>\n      <td>13</td>\n      <td>30205</td>\n      <td>Banten</td>\n      <td>...</td>\n      <td>155</td>\n      <td>313.0</td>\n      <td>1238.0</td>\n      <td>9663</td>\n      <td>10722374</td>\n      <td>1109.64</td>\n      <td>106.109004</td>\n      <td>-6.456736</td>\n      <td>banten</td>\n      <td>25</td>\n    </tr>\n    <tr>\n      <th>11899</th>\n      <td>2021-03-06</td>\n      <td>Kalimantan Barat</td>\n      <td>73</td>\n      <td>472</td>\n      <td>4334</td>\n      <td>26</td>\n      <td>33</td>\n      <td>0</td>\n      <td>4839</td>\n      <td>Kalimantan Barat</td>\n      <td>...</td>\n      <td>174</td>\n      <td>99.0</td>\n      <td>2031.0</td>\n      <td>147307</td>\n      <td>5422814</td>\n      <td>36.81</td>\n      <td>111.121178</td>\n      <td>-0.086475</td>\n      <td>kalimantan barat</td>\n      <td>8</td>\n    </tr>\n  </tbody>\n</table>\n<p>50 rows × 29 columns</p>\n</div>"
     },
     "metadata": {},
     "execution_count": 176
    }
   ],
   "source": [
    "df_complete =df_complete.sort_values(by='Date')\n",
    "df_complete.tail(50)"
   ]
  },
  {
   "cell_type": "code",
   "execution_count": 167,
   "metadata": {},
   "outputs": [
    {
     "output_type": "execute_result",
     "data": {
      "text/plain": [
       "(3623550, 29)"
      ]
     },
     "metadata": {},
     "execution_count": 167
    }
   ],
   "source": [
    "df_complete2.shape"
   ]
  },
  {
   "cell_type": "code",
   "execution_count": 163,
   "metadata": {},
   "outputs": [
    {
     "output_type": "execute_result",
     "data": {
      "text/plain": [
       "        Date Province  new_cases  active_cases  total_recovered  \\\n",
       "0 2020-03-21     Aceh          0             0                0   \n",
       "1 2020-03-21     Aceh          0             0                0   \n",
       "2 2020-03-21     Aceh          0             0                0   \n",
       "3 2020-03-21     Aceh          0             0                0   \n",
       "4 2020-03-21     Aceh          0             0                0   \n",
       "\n",
       "   new_recovered  total_deaths  new_deaths  total_cases Location  ...  \\\n",
       "0              0             0           0            0     Aceh  ...   \n",
       "1              0             0           0            0     Aceh  ...   \n",
       "2              0             0           0            0     Aceh  ...   \n",
       "3              0             0           0            0     Aceh  ...   \n",
       "4              0             0           0            0     Aceh  ...   \n",
       "\n",
       "  Total Districts  Total Urban Villages Total Rural Villages Area (km2)  \\\n",
       "0             289                   NaN               6497.0      57956   \n",
       "1             289                   NaN               6497.0      57956   \n",
       "2             289                   NaN               6497.0      57956   \n",
       "3             289                   NaN               6497.0      57956   \n",
       "4             289                   NaN               6497.0      57956   \n",
       "\n",
       "  Population Population Density  Longitude  Latitude  Name_EN  id  \n",
       "0    5247257              90.54  96.910522  4.225615     aceh   1  \n",
       "1    5247257              90.54  96.910522  4.225615     aceh   1  \n",
       "2    5247257              90.54  96.910522  4.225615     aceh   1  \n",
       "3    5247257              90.54  96.910522  4.225615     aceh   1  \n",
       "4    5247257              90.54  96.910522  4.225615     aceh   1  \n",
       "\n",
       "[5 rows x 29 columns]"
      ],
      "text/html": "<div>\n<style scoped>\n    .dataframe tbody tr th:only-of-type {\n        vertical-align: middle;\n    }\n\n    .dataframe tbody tr th {\n        vertical-align: top;\n    }\n\n    .dataframe thead th {\n        text-align: right;\n    }\n</style>\n<table border=\"1\" class=\"dataframe\">\n  <thead>\n    <tr style=\"text-align: right;\">\n      <th></th>\n      <th>Date</th>\n      <th>Province</th>\n      <th>new_cases</th>\n      <th>active_cases</th>\n      <th>total_recovered</th>\n      <th>new_recovered</th>\n      <th>total_deaths</th>\n      <th>new_deaths</th>\n      <th>total_cases</th>\n      <th>Location</th>\n      <th>...</th>\n      <th>Total Districts</th>\n      <th>Total Urban Villages</th>\n      <th>Total Rural Villages</th>\n      <th>Area (km2)</th>\n      <th>Population</th>\n      <th>Population Density</th>\n      <th>Longitude</th>\n      <th>Latitude</th>\n      <th>Name_EN</th>\n      <th>id</th>\n    </tr>\n  </thead>\n  <tbody>\n    <tr>\n      <th>0</th>\n      <td>2020-03-21</td>\n      <td>Aceh</td>\n      <td>0</td>\n      <td>0</td>\n      <td>0</td>\n      <td>0</td>\n      <td>0</td>\n      <td>0</td>\n      <td>0</td>\n      <td>Aceh</td>\n      <td>...</td>\n      <td>289</td>\n      <td>NaN</td>\n      <td>6497.0</td>\n      <td>57956</td>\n      <td>5247257</td>\n      <td>90.54</td>\n      <td>96.910522</td>\n      <td>4.225615</td>\n      <td>aceh</td>\n      <td>1</td>\n    </tr>\n    <tr>\n      <th>1</th>\n      <td>2020-03-21</td>\n      <td>Aceh</td>\n      <td>0</td>\n      <td>0</td>\n      <td>0</td>\n      <td>0</td>\n      <td>0</td>\n      <td>0</td>\n      <td>0</td>\n      <td>Aceh</td>\n      <td>...</td>\n      <td>289</td>\n      <td>NaN</td>\n      <td>6497.0</td>\n      <td>57956</td>\n      <td>5247257</td>\n      <td>90.54</td>\n      <td>96.910522</td>\n      <td>4.225615</td>\n      <td>aceh</td>\n      <td>1</td>\n    </tr>\n    <tr>\n      <th>2</th>\n      <td>2020-03-21</td>\n      <td>Aceh</td>\n      <td>0</td>\n      <td>0</td>\n      <td>0</td>\n      <td>0</td>\n      <td>0</td>\n      <td>0</td>\n      <td>0</td>\n      <td>Aceh</td>\n      <td>...</td>\n      <td>289</td>\n      <td>NaN</td>\n      <td>6497.0</td>\n      <td>57956</td>\n      <td>5247257</td>\n      <td>90.54</td>\n      <td>96.910522</td>\n      <td>4.225615</td>\n      <td>aceh</td>\n      <td>1</td>\n    </tr>\n    <tr>\n      <th>3</th>\n      <td>2020-03-21</td>\n      <td>Aceh</td>\n      <td>0</td>\n      <td>0</td>\n      <td>0</td>\n      <td>0</td>\n      <td>0</td>\n      <td>0</td>\n      <td>0</td>\n      <td>Aceh</td>\n      <td>...</td>\n      <td>289</td>\n      <td>NaN</td>\n      <td>6497.0</td>\n      <td>57956</td>\n      <td>5247257</td>\n      <td>90.54</td>\n      <td>96.910522</td>\n      <td>4.225615</td>\n      <td>aceh</td>\n      <td>1</td>\n    </tr>\n    <tr>\n      <th>4</th>\n      <td>2020-03-21</td>\n      <td>Aceh</td>\n      <td>0</td>\n      <td>0</td>\n      <td>0</td>\n      <td>0</td>\n      <td>0</td>\n      <td>0</td>\n      <td>0</td>\n      <td>Aceh</td>\n      <td>...</td>\n      <td>289</td>\n      <td>NaN</td>\n      <td>6497.0</td>\n      <td>57956</td>\n      <td>5247257</td>\n      <td>90.54</td>\n      <td>96.910522</td>\n      <td>4.225615</td>\n      <td>aceh</td>\n      <td>1</td>\n    </tr>\n  </tbody>\n</table>\n<p>5 rows × 29 columns</p>\n</div>"
     },
     "metadata": {},
     "execution_count": 163
    }
   ],
   "source": [
    "# df_complete2.head(100)\n",
    "df_complete2.drop_duplicates()\n",
    "df_complete2.head()"
   ]
  },
  {
   "cell_type": "code",
   "execution_count": 151,
   "metadata": {},
   "outputs": [
    {
     "output_type": "execute_result",
     "data": {
      "text/plain": [
       "         Date Province_x  new_cases  active_cases  total_recovered  \\\n",
       "0  2020-03-21       Aceh          0             0                0   \n",
       "1  2020-03-21       Aceh          0             0                0   \n",
       "2  2020-03-21       Aceh          0             0                0   \n",
       "3  2020-03-21       Aceh          0             0                0   \n",
       "4  2020-03-21       Aceh          0             0                0   \n",
       "..        ...        ...        ...           ...              ...   \n",
       "95 2020-03-21       Aceh          0             0                0   \n",
       "96 2020-03-21       Aceh          0             0                0   \n",
       "97 2020-03-21       Aceh          0             0                0   \n",
       "98 2020-03-21       Aceh          0             0                0   \n",
       "99 2020-03-21       Aceh          0             0                0   \n",
       "\n",
       "    new_recovered  total_deaths  new_deaths  total_cases Location  ...  \\\n",
       "0               0             0           0            0     Aceh  ...   \n",
       "1               0             0           0            0     Aceh  ...   \n",
       "2               0             0           0            0     Aceh  ...   \n",
       "3               0             0           0            0     Aceh  ...   \n",
       "4               0             0           0            0     Aceh  ...   \n",
       "..            ...           ...         ...          ...      ...  ...   \n",
       "95              0             0           0            0     Aceh  ...   \n",
       "96              0             0           0            0     Aceh  ...   \n",
       "97              0             0           0            0     Aceh  ...   \n",
       "98              0             0           0            0     Aceh  ...   \n",
       "99              0             0           0            0     Aceh  ...   \n",
       "\n",
       "   Total Districts  Total Urban Villages Total Rural Villages Area (km2)  \\\n",
       "0              289                   NaN               6497.0      57956   \n",
       "1              289                   NaN               6497.0      57956   \n",
       "2              289                   NaN               6497.0      57956   \n",
       "3              289                   NaN               6497.0      57956   \n",
       "4              289                   NaN               6497.0      57956   \n",
       "..             ...                   ...                  ...        ...   \n",
       "95             289                   NaN               6497.0      57956   \n",
       "96             289                   NaN               6497.0      57956   \n",
       "97             289                   NaN               6497.0      57956   \n",
       "98             289                   NaN               6497.0      57956   \n",
       "99             289                   NaN               6497.0      57956   \n",
       "\n",
       "   Population Population Density  Longitude  Latitude  Name_EN  id  \n",
       "0     5247257              90.54  96.910522  4.225615     aceh   1  \n",
       "1     5247257              90.54  96.910522  4.225615     aceh   1  \n",
       "2     5247257              90.54  96.910522  4.225615     aceh   1  \n",
       "3     5247257              90.54  96.910522  4.225615     aceh   1  \n",
       "4     5247257              90.54  96.910522  4.225615     aceh   1  \n",
       "..        ...                ...        ...       ...      ...  ..  \n",
       "95    5247257              90.54  96.910522  4.225615     aceh   1  \n",
       "96    5247257              90.54  96.910522  4.225615     aceh   1  \n",
       "97    5247257              90.54  96.910522  4.225615     aceh   1  \n",
       "98    5247257              90.54  96.910522  4.225615     aceh   1  \n",
       "99    5247257              90.54  96.910522  4.225615     aceh   1  \n",
       "\n",
       "[100 rows x 30 columns]"
      ],
      "text/html": "<div>\n<style scoped>\n    .dataframe tbody tr th:only-of-type {\n        vertical-align: middle;\n    }\n\n    .dataframe tbody tr th {\n        vertical-align: top;\n    }\n\n    .dataframe thead th {\n        text-align: right;\n    }\n</style>\n<table border=\"1\" class=\"dataframe\">\n  <thead>\n    <tr style=\"text-align: right;\">\n      <th></th>\n      <th>Date</th>\n      <th>Province_x</th>\n      <th>new_cases</th>\n      <th>active_cases</th>\n      <th>total_recovered</th>\n      <th>new_recovered</th>\n      <th>total_deaths</th>\n      <th>new_deaths</th>\n      <th>total_cases</th>\n      <th>Location</th>\n      <th>...</th>\n      <th>Total Districts</th>\n      <th>Total Urban Villages</th>\n      <th>Total Rural Villages</th>\n      <th>Area (km2)</th>\n      <th>Population</th>\n      <th>Population Density</th>\n      <th>Longitude</th>\n      <th>Latitude</th>\n      <th>Name_EN</th>\n      <th>id</th>\n    </tr>\n  </thead>\n  <tbody>\n    <tr>\n      <th>0</th>\n      <td>2020-03-21</td>\n      <td>Aceh</td>\n      <td>0</td>\n      <td>0</td>\n      <td>0</td>\n      <td>0</td>\n      <td>0</td>\n      <td>0</td>\n      <td>0</td>\n      <td>Aceh</td>\n      <td>...</td>\n      <td>289</td>\n      <td>NaN</td>\n      <td>6497.0</td>\n      <td>57956</td>\n      <td>5247257</td>\n      <td>90.54</td>\n      <td>96.910522</td>\n      <td>4.225615</td>\n      <td>aceh</td>\n      <td>1</td>\n    </tr>\n    <tr>\n      <th>1</th>\n      <td>2020-03-21</td>\n      <td>Aceh</td>\n      <td>0</td>\n      <td>0</td>\n      <td>0</td>\n      <td>0</td>\n      <td>0</td>\n      <td>0</td>\n      <td>0</td>\n      <td>Aceh</td>\n      <td>...</td>\n      <td>289</td>\n      <td>NaN</td>\n      <td>6497.0</td>\n      <td>57956</td>\n      <td>5247257</td>\n      <td>90.54</td>\n      <td>96.910522</td>\n      <td>4.225615</td>\n      <td>aceh</td>\n      <td>1</td>\n    </tr>\n    <tr>\n      <th>2</th>\n      <td>2020-03-21</td>\n      <td>Aceh</td>\n      <td>0</td>\n      <td>0</td>\n      <td>0</td>\n      <td>0</td>\n      <td>0</td>\n      <td>0</td>\n      <td>0</td>\n      <td>Aceh</td>\n      <td>...</td>\n      <td>289</td>\n      <td>NaN</td>\n      <td>6497.0</td>\n      <td>57956</td>\n      <td>5247257</td>\n      <td>90.54</td>\n      <td>96.910522</td>\n      <td>4.225615</td>\n      <td>aceh</td>\n      <td>1</td>\n    </tr>\n    <tr>\n      <th>3</th>\n      <td>2020-03-21</td>\n      <td>Aceh</td>\n      <td>0</td>\n      <td>0</td>\n      <td>0</td>\n      <td>0</td>\n      <td>0</td>\n      <td>0</td>\n      <td>0</td>\n      <td>Aceh</td>\n      <td>...</td>\n      <td>289</td>\n      <td>NaN</td>\n      <td>6497.0</td>\n      <td>57956</td>\n      <td>5247257</td>\n      <td>90.54</td>\n      <td>96.910522</td>\n      <td>4.225615</td>\n      <td>aceh</td>\n      <td>1</td>\n    </tr>\n    <tr>\n      <th>4</th>\n      <td>2020-03-21</td>\n      <td>Aceh</td>\n      <td>0</td>\n      <td>0</td>\n      <td>0</td>\n      <td>0</td>\n      <td>0</td>\n      <td>0</td>\n      <td>0</td>\n      <td>Aceh</td>\n      <td>...</td>\n      <td>289</td>\n      <td>NaN</td>\n      <td>6497.0</td>\n      <td>57956</td>\n      <td>5247257</td>\n      <td>90.54</td>\n      <td>96.910522</td>\n      <td>4.225615</td>\n      <td>aceh</td>\n      <td>1</td>\n    </tr>\n    <tr>\n      <th>...</th>\n      <td>...</td>\n      <td>...</td>\n      <td>...</td>\n      <td>...</td>\n      <td>...</td>\n      <td>...</td>\n      <td>...</td>\n      <td>...</td>\n      <td>...</td>\n      <td>...</td>\n      <td>...</td>\n      <td>...</td>\n      <td>...</td>\n      <td>...</td>\n      <td>...</td>\n      <td>...</td>\n      <td>...</td>\n      <td>...</td>\n      <td>...</td>\n      <td>...</td>\n      <td>...</td>\n    </tr>\n    <tr>\n      <th>95</th>\n      <td>2020-03-21</td>\n      <td>Aceh</td>\n      <td>0</td>\n      <td>0</td>\n      <td>0</td>\n      <td>0</td>\n      <td>0</td>\n      <td>0</td>\n      <td>0</td>\n      <td>Aceh</td>\n      <td>...</td>\n      <td>289</td>\n      <td>NaN</td>\n      <td>6497.0</td>\n      <td>57956</td>\n      <td>5247257</td>\n      <td>90.54</td>\n      <td>96.910522</td>\n      <td>4.225615</td>\n      <td>aceh</td>\n      <td>1</td>\n    </tr>\n    <tr>\n      <th>96</th>\n      <td>2020-03-21</td>\n      <td>Aceh</td>\n      <td>0</td>\n      <td>0</td>\n      <td>0</td>\n      <td>0</td>\n      <td>0</td>\n      <td>0</td>\n      <td>0</td>\n      <td>Aceh</td>\n      <td>...</td>\n      <td>289</td>\n      <td>NaN</td>\n      <td>6497.0</td>\n      <td>57956</td>\n      <td>5247257</td>\n      <td>90.54</td>\n      <td>96.910522</td>\n      <td>4.225615</td>\n      <td>aceh</td>\n      <td>1</td>\n    </tr>\n    <tr>\n      <th>97</th>\n      <td>2020-03-21</td>\n      <td>Aceh</td>\n      <td>0</td>\n      <td>0</td>\n      <td>0</td>\n      <td>0</td>\n      <td>0</td>\n      <td>0</td>\n      <td>0</td>\n      <td>Aceh</td>\n      <td>...</td>\n      <td>289</td>\n      <td>NaN</td>\n      <td>6497.0</td>\n      <td>57956</td>\n      <td>5247257</td>\n      <td>90.54</td>\n      <td>96.910522</td>\n      <td>4.225615</td>\n      <td>aceh</td>\n      <td>1</td>\n    </tr>\n    <tr>\n      <th>98</th>\n      <td>2020-03-21</td>\n      <td>Aceh</td>\n      <td>0</td>\n      <td>0</td>\n      <td>0</td>\n      <td>0</td>\n      <td>0</td>\n      <td>0</td>\n      <td>0</td>\n      <td>Aceh</td>\n      <td>...</td>\n      <td>289</td>\n      <td>NaN</td>\n      <td>6497.0</td>\n      <td>57956</td>\n      <td>5247257</td>\n      <td>90.54</td>\n      <td>96.910522</td>\n      <td>4.225615</td>\n      <td>aceh</td>\n      <td>1</td>\n    </tr>\n    <tr>\n      <th>99</th>\n      <td>2020-03-21</td>\n      <td>Aceh</td>\n      <td>0</td>\n      <td>0</td>\n      <td>0</td>\n      <td>0</td>\n      <td>0</td>\n      <td>0</td>\n      <td>0</td>\n      <td>Aceh</td>\n      <td>...</td>\n      <td>289</td>\n      <td>NaN</td>\n      <td>6497.0</td>\n      <td>57956</td>\n      <td>5247257</td>\n      <td>90.54</td>\n      <td>96.910522</td>\n      <td>4.225615</td>\n      <td>aceh</td>\n      <td>1</td>\n    </tr>\n  </tbody>\n</table>\n<p>100 rows × 30 columns</p>\n</div>"
     },
     "metadata": {},
     "execution_count": 151
    }
   ],
   "source": [
    "\n",
    "# print(df_complete.tail())\n",
    "df_complete.head(100)\n",
    "# calculate metrics (like growth rate, deaths per 100k)\n"
   ]
  },
  {
   "cell_type": "code",
   "execution_count": null,
   "metadata": {},
   "outputs": [],
   "source": [
    "\n",
    "## save as csv\n",
    "# df_total.to_csv('indo_province_data')\n",
    "\n",
    "## check\n",
    "\n",
    "## add to main data processing Notebook"
   ]
  }
 ]
}