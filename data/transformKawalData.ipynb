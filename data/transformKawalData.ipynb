{
 "metadata": {
  "language_info": {
   "codemirror_mode": {
    "name": "ipython",
    "version": 3
   },
   "file_extension": ".py",
   "mimetype": "text/x-python",
   "name": "python",
   "nbconvert_exporter": "python",
   "pygments_lexer": "ipython3",
   "version": "3.7.6-final"
  },
  "orig_nbformat": 2,
  "kernelspec": {
   "name": "python376jvsc74a57bd0b3ba2566441a7c06988d0923437866b63cedc61552a5af99d1f4fb67d367b25f",
   "display_name": "Python 3.7.6 64-bit ('ProgramData': virtualenv)"
  }
 },
 "nbformat": 4,
 "nbformat_minor": 2,
 "cells": [
  {
   "cell_type": "code",
   "execution_count": 17,
   "metadata": {},
   "outputs": [],
   "source": [
    "\n",
    "## To-Dos\n",
    "##################\n",
    "# in the end\n",
    "## sort_dates\n",
    "## save as csv\n",
    "## check\n",
    "## add to main data processing Notebook"
   ]
  },
  {
   "cell_type": "code",
   "execution_count": 18,
   "metadata": {},
   "outputs": [],
   "source": [
    "import pandas as pd\n",
    "import numpy as np"
   ]
  },
  {
   "cell_type": "code",
   "execution_count": 19,
   "metadata": {},
   "outputs": [
    {
     "output_type": "execute_result",
     "data": {
      "text/plain": [
       "              Total Kasus     Aceh     Bali   Banten    Babel Bengkulu  DIY  \\\n",
       "2942  2020-06-16 00:00:00      120  40.6667      335  538.333     1034  NaN   \n",
       "2943  2020-06-17 00:00:00  123.333  56.3333  344.667  583.333  1107.67  NaN   \n",
       "2944  2020-06-18 00:00:00  133.667  71.3333      358  664.333  1227.33  NaN   \n",
       "2945  2020-06-19 00:00:00      147       63      331  656.333  1197.33  NaN   \n",
       "2946  2020-06-20 00:00:00  164.667  49.6667  383.333  651.333     1249  NaN   \n",
       "\n",
       "     Jakarta Jambi Jabar  ... Riau Malut Maluku Papbar Papua Sulbar  NTT  \\\n",
       "2942     NaN   NaN   NaN  ...  NaN   NaN    NaN    NaN   NaN    NaN  NaN   \n",
       "2943     NaN   NaN   NaN  ...  NaN   NaN    NaN    NaN   NaN    NaN  NaN   \n",
       "2944     NaN   NaN   NaN  ...  NaN   NaN    NaN    NaN   NaN    NaN  NaN   \n",
       "2945     NaN   NaN   NaN  ...  NaN   NaN    NaN    NaN   NaN    NaN  NaN   \n",
       "2946     NaN   NaN   NaN  ...  NaN   NaN    NaN    NaN   NaN    NaN  NaN   \n",
       "\n",
       "     Gorontalo    ? Unnamed: 36  \n",
       "2942       NaN  NaN         NaN  \n",
       "2943       NaN  NaN         NaN  \n",
       "2944       NaN  NaN         NaN  \n",
       "2945       NaN  NaN         NaN  \n",
       "2946       NaN  NaN         NaN  \n",
       "\n",
       "[5 rows x 37 columns]"
      ],
      "text/html": "<div>\n<style scoped>\n    .dataframe tbody tr th:only-of-type {\n        vertical-align: middle;\n    }\n\n    .dataframe tbody tr th {\n        vertical-align: top;\n    }\n\n    .dataframe thead th {\n        text-align: right;\n    }\n</style>\n<table border=\"1\" class=\"dataframe\">\n  <thead>\n    <tr style=\"text-align: right;\">\n      <th></th>\n      <th>Total Kasus</th>\n      <th>Aceh</th>\n      <th>Bali</th>\n      <th>Banten</th>\n      <th>Babel</th>\n      <th>Bengkulu</th>\n      <th>DIY</th>\n      <th>Jakarta</th>\n      <th>Jambi</th>\n      <th>Jabar</th>\n      <th>...</th>\n      <th>Riau</th>\n      <th>Malut</th>\n      <th>Maluku</th>\n      <th>Papbar</th>\n      <th>Papua</th>\n      <th>Sulbar</th>\n      <th>NTT</th>\n      <th>Gorontalo</th>\n      <th>?</th>\n      <th>Unnamed: 36</th>\n    </tr>\n  </thead>\n  <tbody>\n    <tr>\n      <th>2942</th>\n      <td>2020-06-16 00:00:00</td>\n      <td>120</td>\n      <td>40.6667</td>\n      <td>335</td>\n      <td>538.333</td>\n      <td>1034</td>\n      <td>NaN</td>\n      <td>NaN</td>\n      <td>NaN</td>\n      <td>NaN</td>\n      <td>...</td>\n      <td>NaN</td>\n      <td>NaN</td>\n      <td>NaN</td>\n      <td>NaN</td>\n      <td>NaN</td>\n      <td>NaN</td>\n      <td>NaN</td>\n      <td>NaN</td>\n      <td>NaN</td>\n      <td>NaN</td>\n    </tr>\n    <tr>\n      <th>2943</th>\n      <td>2020-06-17 00:00:00</td>\n      <td>123.333</td>\n      <td>56.3333</td>\n      <td>344.667</td>\n      <td>583.333</td>\n      <td>1107.67</td>\n      <td>NaN</td>\n      <td>NaN</td>\n      <td>NaN</td>\n      <td>NaN</td>\n      <td>...</td>\n      <td>NaN</td>\n      <td>NaN</td>\n      <td>NaN</td>\n      <td>NaN</td>\n      <td>NaN</td>\n      <td>NaN</td>\n      <td>NaN</td>\n      <td>NaN</td>\n      <td>NaN</td>\n      <td>NaN</td>\n    </tr>\n    <tr>\n      <th>2944</th>\n      <td>2020-06-18 00:00:00</td>\n      <td>133.667</td>\n      <td>71.3333</td>\n      <td>358</td>\n      <td>664.333</td>\n      <td>1227.33</td>\n      <td>NaN</td>\n      <td>NaN</td>\n      <td>NaN</td>\n      <td>NaN</td>\n      <td>...</td>\n      <td>NaN</td>\n      <td>NaN</td>\n      <td>NaN</td>\n      <td>NaN</td>\n      <td>NaN</td>\n      <td>NaN</td>\n      <td>NaN</td>\n      <td>NaN</td>\n      <td>NaN</td>\n      <td>NaN</td>\n    </tr>\n    <tr>\n      <th>2945</th>\n      <td>2020-06-19 00:00:00</td>\n      <td>147</td>\n      <td>63</td>\n      <td>331</td>\n      <td>656.333</td>\n      <td>1197.33</td>\n      <td>NaN</td>\n      <td>NaN</td>\n      <td>NaN</td>\n      <td>NaN</td>\n      <td>...</td>\n      <td>NaN</td>\n      <td>NaN</td>\n      <td>NaN</td>\n      <td>NaN</td>\n      <td>NaN</td>\n      <td>NaN</td>\n      <td>NaN</td>\n      <td>NaN</td>\n      <td>NaN</td>\n      <td>NaN</td>\n    </tr>\n    <tr>\n      <th>2946</th>\n      <td>2020-06-20 00:00:00</td>\n      <td>164.667</td>\n      <td>49.6667</td>\n      <td>383.333</td>\n      <td>651.333</td>\n      <td>1249</td>\n      <td>NaN</td>\n      <td>NaN</td>\n      <td>NaN</td>\n      <td>NaN</td>\n      <td>...</td>\n      <td>NaN</td>\n      <td>NaN</td>\n      <td>NaN</td>\n      <td>NaN</td>\n      <td>NaN</td>\n      <td>NaN</td>\n      <td>NaN</td>\n      <td>NaN</td>\n      <td>NaN</td>\n      <td>NaN</td>\n    </tr>\n  </tbody>\n</table>\n<p>5 rows × 37 columns</p>\n</div>"
     },
     "metadata": {},
     "execution_count": 19
    }
   ],
   "source": [
    "df = pd.read_excel('kawalcovid19_2021.04.09.xlsx', sheet_name=\"Timeline\")\n",
    "df.tail()"
   ]
  },
  {
   "cell_type": "code",
   "execution_count": 20,
   "metadata": {},
   "outputs": [],
   "source": [
    "## transform excel sheet to timeseries table (columns: Data, Province, total_cases, daily_cases, active_cases etc.)\n",
    "case_type = ['Total Kasus', 'Kasus Harian', 'Kasus Aktif', 'Sembuh', 'Sembuh Harian', 'Meninggal Dunia', 'Meninggal Dunia Harian', 'Meninggal Dunia Harian']"
   ]
  },
  {
   "cell_type": "code",
   "execution_count": 21,
   "metadata": {},
   "outputs": [],
   "source": [
    "# extract df for each case-type\n",
    "##################################\n",
    "\n",
    "# replace all NaN with 0\n",
    "# delete empty rows\n",
    "# adjust header\n",
    "# extract for each Province, add Province Name and merge, and sort by date\n",
    "\n",
    "df_totalKasus = df.iloc[:df.loc[df['Total Kasus'].str.contains('Kasus Harian', na=False)].index[0]]\n",
    "df_totalKasus = df_totalKasus.rename(columns={'Total Kasus': \"Date\"})\n",
    "df_totalKasus= df_totalKasus.fillna(0)\n",
    "df_totalKasus.set_index('Date', inplace=True)\n",
    "df_totalKasus= df_totalKasus[:-1]\n",
    "df_totalKasus = df_totalKasus.drop(['?', 'Unnamed: 36'], axis=1)\n",
    "\n",
    "df_kasusHarian = df.iloc[df.loc[df['Total Kasus'].str.contains('Kasus Harian', na=False)].index[0]:df.loc[df['Total Kasus'].str.contains('Kasus Aktif', na=False)].index[0]]\n",
    "df_kasusHarian = df_kasusHarian.rename(columns={'Total Kasus': \"Date\"})\n",
    "df_kasusHarian= df_kasusHarian.fillna(0)\n",
    "df_kasusHarian.set_index('Date', inplace=True)\n",
    "df_kasusHarian= df_kasusHarian[1:-1]\n",
    "df_kasusHarian = df_kasusHarian.drop(['?', 'Unnamed: 36'], axis=1)\n",
    "\n",
    "df_kasusAktif = df.iloc[df.loc[df['Total Kasus'].str.contains('Kasus Aktif', na=False)].index[0]:df.loc[df['Total Kasus'].str.contains('Sembuh', na=False)].index[0]]\n",
    "df_kasusAktif = df_kasusAktif.rename(columns={'Total Kasus': \"Date\"})\n",
    "df_kasusAktif= df_kasusAktif.fillna(0)\n",
    "df_kasusAktif.set_index('Date', inplace=True)\n",
    "df_kasusAktif= df_kasusAktif[1:-1]\n",
    "df_kasusAktif = df_kasusAktif.drop(['?', 'Unnamed: 36'], axis=1)\n",
    "\n",
    "df_sembuh = df.iloc[df.loc[df['Total Kasus'].str.contains('Sembuh', na=False)].index[0]:df.loc[df['Total Kasus'].str.contains('Sembuh Harian', na=False)].index[0]]\n",
    "df_sembuh = df_sembuh.rename(columns={'Total Kasus': \"Date\"})\n",
    "df_sembuh= df_sembuh.fillna(0)\n",
    "df_sembuh.set_index('Date', inplace=True)\n",
    "df_sembuh= df_sembuh[1:-1]\n",
    "df_sembuh = df_sembuh.drop(['?', 'Unnamed: 36'], axis=1)\n",
    "\n",
    "df_sembuhHarian = df.iloc[df.loc[df['Total Kasus'].str.contains('Sembuh Harian', na=False)].index[0]:df.loc[df['Total Kasus'].str.contains('Meninggal Dunia', na=False)].index[0]]\n",
    "df_sembuhHarian = df_sembuhHarian.rename(columns={'Total Kasus': \"Date\"})\n",
    "df_sembuhHarian= df_sembuhHarian.fillna(0)\n",
    "df_sembuhHarian.set_index('Date', inplace=True)\n",
    "df_sembuhHarian= df_sembuhHarian[1:-1]\n",
    "df_sembuhHarian = df_sembuhHarian.drop(['?', 'Unnamed: 36'], axis=1)\n",
    "\n",
    "df_meninggalDunia = df.iloc[df.loc[df['Total Kasus'].str.contains('Meninggal Dunia', na=False)].index[0]:df.loc[df['Total Kasus'].str.contains('Meninggal Dunia Harian', na=False)].index[0]]\n",
    "df_meninggalDunia = df_meninggalDunia.rename(columns={'Total Kasus': \"Date\"})\n",
    "df_meninggalDunia= df_meninggalDunia.fillna(0)\n",
    "df_meninggalDunia.set_index('Date', inplace=True)\n",
    "df_meninggalDunia= df_meninggalDunia[1:-1]\n",
    "df_meninggalDunia = df_meninggalDunia.drop(['?', 'Unnamed: 36'], axis=1)\n",
    "\n",
    "df_meninggalDuniaHarian = df.iloc[df.loc[df['Total Kasus'].str.contains('Meninggal Dunia Harian', na=False)].index[0]:df.loc[df['Total Kasus'].str.contains('Meninggal Dunia Harian', na=False)].index[1]]\n",
    "df_meninggalDuniaHarian = df_meninggalDuniaHarian.rename(columns={'Total Kasus': \"Date\"})\n",
    "df_meninggalDuniaHarian= df_meninggalDuniaHarian.fillna(0)\n",
    "df_meninggalDuniaHarian.set_index('Date', inplace=True)\n",
    "df_meninggalDuniaHarian= df_meninggalDuniaHarian[1:-3]\n",
    "df_meninggalDuniaHarian = df_meninggalDuniaHarian.drop(['?', 'Unnamed: 36'], axis=1)\n",
    "\n"
   ]
  },
  {
   "cell_type": "code",
   "execution_count": 22,
   "metadata": {},
   "outputs": [],
   "source": [
    "\n",
    "dfs = [df_totalKasus, df_kasusHarian, df_kasusAktif, df_sembuh, df_sembuhHarian, df_meninggalDunia, df_meninggalDuniaHarian]\n",
    "dfs_names = [\"df_totalKasus\", \"df_kasusHarian\", \"df_kasusAktif\", \"df_sembuh\",\"df_sembuhHarian\", \"df_meninggalDunia\", \"df_meninggalDuniaHarian\"]\n",
    "dfs_type = [\"totalKasus\", \"kasusHarian\", \"kasusAktif\", \"sembuh\",\"sembuhHarian\", \"meninggalDunia\", \"meninggalDuniaHarian\"]"
   ]
  },
  {
   "cell_type": "code",
   "execution_count": 23,
   "metadata": {},
   "outputs": [
    {
     "output_type": "execute_result",
     "data": {
      "text/plain": [
       "Index(['Aceh', 'Bali', 'Banten', 'Babel', 'Bengkulu', 'DIY', 'Jakarta',\n",
       "       'Jambi', 'Jabar', 'Jateng', 'Jatim', 'Kalbar', 'Kaltim', 'Kalteng',\n",
       "       'Kalsel', 'Kaltara', 'Kep Riau', 'NTB', 'Sumsel', 'Sumbar', 'Sulut',\n",
       "       'Sumut', 'Sultra', 'Sulsel', 'Sulteng', 'Lampung', 'Riau', 'Malut',\n",
       "       'Maluku', 'Papbar', 'Papua', 'Sulbar', 'NTT', 'Gorontalo'],\n",
       "      dtype='object')"
      ]
     },
     "metadata": {},
     "execution_count": 23
    }
   ],
   "source": [
    "column_names = df_totalKasus.columns\n",
    "column_names"
   ]
  },
  {
   "cell_type": "code",
   "execution_count": 24,
   "metadata": {},
   "outputs": [],
   "source": [
    "## First Dataframe - Total Cases per Province\n",
    "\n",
    "df_totKasus = pd.DataFrame({'Province': [0], \"Total Kasus\":[0]})\n",
    "for i, province in enumerate(column_names):\n",
    "    case_numbers = df_totalKasus[province]\n",
    "    df_x = pd.DataFrame({'Province': case_numbers, \"Total Kasus\": case_numbers })\n",
    "    df_x[\"Province\"] = column_names[i]\n",
    "    # df_x['Total Kasus'] = df_totalKasus[province]\n",
    "    if i == 0:\n",
    "        df_totKasus = df_x\n",
    "    else:\n",
    "        df_totKasus = df_totKasus.append(df_x)"
   ]
  },
  {
   "cell_type": "code",
   "execution_count": 25,
   "metadata": {},
   "outputs": [
    {
     "output_type": "stream",
     "name": "stdout",
     "text": [
      "(13124, 2)\n"
     ]
    },
    {
     "output_type": "execute_result",
     "data": {
      "text/plain": [
       "        Date Province  Total Kasus\n",
       "0 2020-03-18     Aceh            0\n",
       "1 2020-03-19     Aceh            0\n",
       "2 2020-03-20     Aceh            0\n",
       "3 2020-03-21     Aceh            0\n",
       "4 2020-03-22     Aceh            0"
      ],
      "text/html": "<div>\n<style scoped>\n    .dataframe tbody tr th:only-of-type {\n        vertical-align: middle;\n    }\n\n    .dataframe tbody tr th {\n        vertical-align: top;\n    }\n\n    .dataframe thead th {\n        text-align: right;\n    }\n</style>\n<table border=\"1\" class=\"dataframe\">\n  <thead>\n    <tr style=\"text-align: right;\">\n      <th></th>\n      <th>Date</th>\n      <th>Province</th>\n      <th>Total Kasus</th>\n    </tr>\n  </thead>\n  <tbody>\n    <tr>\n      <th>0</th>\n      <td>2020-03-18</td>\n      <td>Aceh</td>\n      <td>0</td>\n    </tr>\n    <tr>\n      <th>1</th>\n      <td>2020-03-19</td>\n      <td>Aceh</td>\n      <td>0</td>\n    </tr>\n    <tr>\n      <th>2</th>\n      <td>2020-03-20</td>\n      <td>Aceh</td>\n      <td>0</td>\n    </tr>\n    <tr>\n      <th>3</th>\n      <td>2020-03-21</td>\n      <td>Aceh</td>\n      <td>0</td>\n    </tr>\n    <tr>\n      <th>4</th>\n      <td>2020-03-22</td>\n      <td>Aceh</td>\n      <td>0</td>\n    </tr>\n  </tbody>\n</table>\n</div>"
     },
     "metadata": {},
     "execution_count": 25
    }
   ],
   "source": [
    "print(df_totKasus.shape)\n",
    "df_totKasus1 = df_totKasus.reset_index()\n",
    "df_totKasus1.head()"
   ]
  },
  {
   "cell_type": "code",
   "execution_count": 26,
   "metadata": {},
   "outputs": [
    {
     "output_type": "execute_result",
     "data": {
      "text/plain": [
       "            Date   Province  Total Kasus\n",
       "13119 2021-04-03  Gorontalo         5191\n",
       "13120 2021-04-04  Gorontalo         5202\n",
       "13121 2021-04-05  Gorontalo         5202\n",
       "13122 2021-04-06  Gorontalo         5209\n",
       "13123 2021-04-07  Gorontalo         5225"
      ],
      "text/html": "<div>\n<style scoped>\n    .dataframe tbody tr th:only-of-type {\n        vertical-align: middle;\n    }\n\n    .dataframe tbody tr th {\n        vertical-align: top;\n    }\n\n    .dataframe thead th {\n        text-align: right;\n    }\n</style>\n<table border=\"1\" class=\"dataframe\">\n  <thead>\n    <tr style=\"text-align: right;\">\n      <th></th>\n      <th>Date</th>\n      <th>Province</th>\n      <th>Total Kasus</th>\n    </tr>\n  </thead>\n  <tbody>\n    <tr>\n      <th>13119</th>\n      <td>2021-04-03</td>\n      <td>Gorontalo</td>\n      <td>5191</td>\n    </tr>\n    <tr>\n      <th>13120</th>\n      <td>2021-04-04</td>\n      <td>Gorontalo</td>\n      <td>5202</td>\n    </tr>\n    <tr>\n      <th>13121</th>\n      <td>2021-04-05</td>\n      <td>Gorontalo</td>\n      <td>5202</td>\n    </tr>\n    <tr>\n      <th>13122</th>\n      <td>2021-04-06</td>\n      <td>Gorontalo</td>\n      <td>5209</td>\n    </tr>\n    <tr>\n      <th>13123</th>\n      <td>2021-04-07</td>\n      <td>Gorontalo</td>\n      <td>5225</td>\n    </tr>\n  </tbody>\n</table>\n</div>"
     },
     "metadata": {},
     "execution_count": 26
    }
   ],
   "source": [
    "df_totKasus1.tail()"
   ]
  },
  {
   "cell_type": "code",
   "execution_count": 27,
   "metadata": {},
   "outputs": [],
   "source": [
    "## since memory error split dataframes (only with join)\n",
    "## learning: if not merge on index -> use .merge() 2) reset_index() get datetime out of index first\n",
    "\n",
    "dfs1 =dfs[1:]\n",
    "df_total = pd.DataFrame({\"Date\": [0], 'Province': [0], dfs_type[0]:[0]})\n",
    "\n",
    "for index, df in enumerate(dfs1):\n",
    "    count = index + 1\n",
    "    df_name = dfs_names[index+1]+'Clean'\n",
    "    df_name = pd.DataFrame({\"Date\": [0], 'Province': [0], dfs_type[count]:[0]})\n",
    "    for i, province in enumerate(column_names):\n",
    "        case_numbers = df[province]\n",
    "        df_x = pd.DataFrame({'Province': case_numbers, dfs_type[count]: case_numbers })\n",
    "        df_x[\"Province\"] = column_names[i]\n",
    "        if i == 0:\n",
    "            df_name = df_x\n",
    "        else:\n",
    "            df_name = df_name.append(df_x)\n",
    "\n",
    "    df_name = df_name.reset_index()\n",
    "    if index == 0:\n",
    "        df_total = df_name\n",
    "    else:\n",
    "        df_total = pd.merge(df_total, df_name, on=['Date', 'Province'])   "
   ]
  },
  {
   "cell_type": "code",
   "execution_count": 29,
   "metadata": {},
   "outputs": [
    {
     "output_type": "stream",
     "name": "stdout",
     "text": [
      "2020-03-21 00:00:00\n"
     ]
    },
    {
     "output_type": "execute_result",
     "data": {
      "text/plain": [
       "            Date Province kasusHarian kasusAktif sembuh sembuhHarian  \\\n",
       "0     2020-03-21     Aceh           0          0      0            0   \n",
       "2660  2020-03-21    Jambi           0          0      0            0   \n",
       "10260 2020-03-21    Malut           0          0      0            0   \n",
       "8740  2020-03-21   Sulsel           2          2      0            0   \n",
       "7980  2020-03-21    Sumut           0          1      0            0   \n",
       "\n",
       "      meninggalDunia meninggalDuniaHarian  \n",
       "0                  0                    0  \n",
       "2660               0                    0  \n",
       "10260              0                    0  \n",
       "8740               0                    0  \n",
       "7980               1                    0  "
      ],
      "text/html": "<div>\n<style scoped>\n    .dataframe tbody tr th:only-of-type {\n        vertical-align: middle;\n    }\n\n    .dataframe tbody tr th {\n        vertical-align: top;\n    }\n\n    .dataframe thead th {\n        text-align: right;\n    }\n</style>\n<table border=\"1\" class=\"dataframe\">\n  <thead>\n    <tr style=\"text-align: right;\">\n      <th></th>\n      <th>Date</th>\n      <th>Province</th>\n      <th>kasusHarian</th>\n      <th>kasusAktif</th>\n      <th>sembuh</th>\n      <th>sembuhHarian</th>\n      <th>meninggalDunia</th>\n      <th>meninggalDuniaHarian</th>\n    </tr>\n  </thead>\n  <tbody>\n    <tr>\n      <th>0</th>\n      <td>2020-03-21</td>\n      <td>Aceh</td>\n      <td>0</td>\n      <td>0</td>\n      <td>0</td>\n      <td>0</td>\n      <td>0</td>\n      <td>0</td>\n    </tr>\n    <tr>\n      <th>2660</th>\n      <td>2020-03-21</td>\n      <td>Jambi</td>\n      <td>0</td>\n      <td>0</td>\n      <td>0</td>\n      <td>0</td>\n      <td>0</td>\n      <td>0</td>\n    </tr>\n    <tr>\n      <th>10260</th>\n      <td>2020-03-21</td>\n      <td>Malut</td>\n      <td>0</td>\n      <td>0</td>\n      <td>0</td>\n      <td>0</td>\n      <td>0</td>\n      <td>0</td>\n    </tr>\n    <tr>\n      <th>8740</th>\n      <td>2020-03-21</td>\n      <td>Sulsel</td>\n      <td>2</td>\n      <td>2</td>\n      <td>0</td>\n      <td>0</td>\n      <td>0</td>\n      <td>0</td>\n    </tr>\n    <tr>\n      <th>7980</th>\n      <td>2020-03-21</td>\n      <td>Sumut</td>\n      <td>0</td>\n      <td>1</td>\n      <td>0</td>\n      <td>0</td>\n      <td>1</td>\n      <td>0</td>\n    </tr>\n  </tbody>\n</table>\n</div>"
     },
     "metadata": {},
     "execution_count": 29
    }
   ],
   "source": [
    "## sort_dates\n",
    "# check if datetime format correct\n",
    "print(df_total['Date'].iloc[0])\n",
    "df_total = df_total.sort_values(by=\"Date\")\n",
    "df_total.head()"
   ]
  },
  {
   "cell_type": "code",
   "execution_count": 30,
   "metadata": {},
   "outputs": [
    {
     "output_type": "execute_result",
     "data": {
      "text/plain": [
       "            Date   Province kasusHarian kasusAktif sembuh sembuhHarian  \\\n",
       "12915 2021-04-05     Maluku           2        382   6881            9   \n",
       "12916 2021-04-05     Papbar          11        412   7859           33   \n",
       "12917 2021-04-05      Papua           6       9017  10477           46   \n",
       "12918 2021-04-05    Kaltara           7       1569   9537            3   \n",
       "12919 2021-04-05  Gorontalo           0        192   4861           11   \n",
       "\n",
       "      meninggalDunia meninggalDuniaHarian  Total Kasus  \n",
       "12915            112                    2         7375  \n",
       "12916            135                    0         8406  \n",
       "12917            204                    1        19698  \n",
       "12918            176                    1        11282  \n",
       "12919            149                    1         5202  "
      ],
      "text/html": "<div>\n<style scoped>\n    .dataframe tbody tr th:only-of-type {\n        vertical-align: middle;\n    }\n\n    .dataframe tbody tr th {\n        vertical-align: top;\n    }\n\n    .dataframe thead th {\n        text-align: right;\n    }\n</style>\n<table border=\"1\" class=\"dataframe\">\n  <thead>\n    <tr style=\"text-align: right;\">\n      <th></th>\n      <th>Date</th>\n      <th>Province</th>\n      <th>kasusHarian</th>\n      <th>kasusAktif</th>\n      <th>sembuh</th>\n      <th>sembuhHarian</th>\n      <th>meninggalDunia</th>\n      <th>meninggalDuniaHarian</th>\n      <th>Total Kasus</th>\n    </tr>\n  </thead>\n  <tbody>\n    <tr>\n      <th>12915</th>\n      <td>2021-04-05</td>\n      <td>Maluku</td>\n      <td>2</td>\n      <td>382</td>\n      <td>6881</td>\n      <td>9</td>\n      <td>112</td>\n      <td>2</td>\n      <td>7375</td>\n    </tr>\n    <tr>\n      <th>12916</th>\n      <td>2021-04-05</td>\n      <td>Papbar</td>\n      <td>11</td>\n      <td>412</td>\n      <td>7859</td>\n      <td>33</td>\n      <td>135</td>\n      <td>0</td>\n      <td>8406</td>\n    </tr>\n    <tr>\n      <th>12917</th>\n      <td>2021-04-05</td>\n      <td>Papua</td>\n      <td>6</td>\n      <td>9017</td>\n      <td>10477</td>\n      <td>46</td>\n      <td>204</td>\n      <td>1</td>\n      <td>19698</td>\n    </tr>\n    <tr>\n      <th>12918</th>\n      <td>2021-04-05</td>\n      <td>Kaltara</td>\n      <td>7</td>\n      <td>1569</td>\n      <td>9537</td>\n      <td>3</td>\n      <td>176</td>\n      <td>1</td>\n      <td>11282</td>\n    </tr>\n    <tr>\n      <th>12919</th>\n      <td>2021-04-05</td>\n      <td>Gorontalo</td>\n      <td>0</td>\n      <td>192</td>\n      <td>4861</td>\n      <td>11</td>\n      <td>149</td>\n      <td>1</td>\n      <td>5202</td>\n    </tr>\n  </tbody>\n</table>\n</div>"
     },
     "metadata": {},
     "execution_count": 30
    }
   ],
   "source": [
    "# merge with total Kasus df from before\n",
    "df_total = pd.merge(df_total, df_totKasus1, on=['Date', 'Province'])\n",
    "df_total.tail() "
   ]
  },
  {
   "cell_type": "code",
   "execution_count": 28,
   "metadata": {},
   "outputs": [
    {
     "output_type": "execute_result",
     "data": {
      "text/plain": [
       "array(['Aceh', 'Bali', 'Banten', 'Babel', 'Bengkulu', 'DIY', 'Jakarta',\n",
       "       'Jambi', 'Jabar', 'Jateng', 'Jatim', 'Kalbar', 'Kaltim', 'Kalteng',\n",
       "       'Kalsel', 'Kaltara', 'Kep Riau', 'NTB', 'Sumsel', 'Sumbar',\n",
       "       'Sulut', 'Sumut', 'Sultra', 'Sulsel', 'Sulteng', 'Lampung', 'Riau',\n",
       "       'Malut', 'Maluku', 'Papbar', 'Papua', 'Sulbar', 'NTT', 'Gorontalo'],\n",
       "      dtype=object)"
      ]
     },
     "metadata": {},
     "execution_count": 28
    }
   ],
   "source": [
    "df_total['Province'].unique()"
   ]
  },
  {
   "cell_type": "code",
   "execution_count": 31,
   "metadata": {},
   "outputs": [],
   "source": [
    "# adjust Province Names\n",
    "indo_slang_prov_names = ['Aceh', 'Bali', 'Maluku', 'Sulbar', 'Malut', 'Banten', 'Riau',\n",
    "       'Lampung', 'Babel', 'Sulteng', 'Sulsel', 'Bengkulu', 'Sultra',\n",
    "       'Sumut', 'DIY', 'Papbar', 'Sulut', 'NTT', 'Jakarta', 'Sumsel',\n",
    "       'NTB', 'Jambi', 'Kep Riau', 'Jabar', 'Kaltara', 'Kalsel',\n",
    "       'Gorontalo', 'Jateng', 'Kalteng', 'Kaltim', 'Jatim', 'Sumbar',\n",
    "       'Papua', 'Kalbar']\n",
    "\n",
    "# from previous Indo-province dataset\n",
    "correct_prov_names = ['Jakarta Raya', 'Indonesia', 'Jawa Barat', 'Riau', 'Banten',\n",
    "       'Sulawesi Tenggara', 'Kalimantan Timur', 'Yogyakarta',\n",
    "       'Sumatera Utara', 'Jawa Tengah', 'Jawa Timur', 'Sulawesi Selatan',\n",
    "       'Maluku', 'Papua', 'Maluku Utara', 'Aceh', 'Kalimantan Tengah',\n",
    "       'Lampung', 'Sulawesi Tengah', 'Sumatera Barat', 'Irian Jaya Barat',\n",
    "       'Kalimantan Utara', 'Sulawesi Barat', 'Sumatera Selatan', 'Bali',\n",
    "       'Kalimantan Barat', 'Jambi', 'Kalimantan Selatan',\n",
    "       'Bangka-Belitung', 'Kepulauan Riau', 'Bengkulu',\n",
    "       'Nusa Tenggara Barat', 'Nusa Tenggara Timur',\n",
    "       'Gorontalo']\n"
   ]
  },
  {
   "cell_type": "code",
   "execution_count": 32,
   "metadata": {},
   "outputs": [
    {
     "output_type": "stream",
     "name": "stdout",
     "text": [
      "['Sumut', 'Sulteng', 'Jateng', 'Kep Riau', 'Kalteng', 'DIY', 'Sulut', 'Kaltim', 'NTB', 'Kaltara', 'NTT', 'Sulbar', 'Sultra', 'Sumsel', 'Babel', 'Papbar', 'Sumbar', 'Kalbar', 'Malut', 'Kalsel', 'Jakarta', 'Sulsel', 'Jabar', 'Jatim']\n"
     ]
    }
   ],
   "source": [
    "\n",
    "print(list(set(indo_slang_prov_names) - set(correct_prov_names)))\n",
    "\n",
    "# adjust column names\n",
    "df_total = df_total.replace({'Sultra': 'Sulawesi Utara'})\n",
    "df_total = df_total.replace({\"Jakarta\": 'Jakarta Raya'})\n",
    "df_total = df_total.replace({\"Kalteng\": 'Kalimantan Tengah'})\n",
    "df_total = df_total.replace({'Sulsel': 'Sulawesi Selatan'})\n",
    "df_total = df_total.replace({'Sulut': 'Sulawesi Utara'})\n",
    "df_total = df_total.replace({'Kaltim': \"Kalimantan Timur\"})\n",
    "df_total = df_total.replace({'Kalsel': 'Kalimantan Selatan'})\n",
    "df_total = df_total.replace({'Malut': 'Maluku Utara'})\n",
    "df_total = df_total.replace({'Sumsel': 'Sumatera Barat'})\n",
    "df_total = df_total.replace({'NTT': 'Nusa Tenggara Timur'})\n",
    "df_total = df_total.replace({'Kalbar': 'Kalimantan Barat'})\n",
    "df_total = df_total.replace({'Jateng': 'Jawa Tengah'})\n",
    "df_total = df_total.replace({'Kep Riau': 'Kepulauan Riau'})\n",
    "df_total = df_total.replace({'Kaltara': 'Kalimantan Utara'})\n",
    "df_total = df_total.replace({'Sulbar': 'Sulawesi Barat'})\n",
    "df_total = df_total.replace({'Babel': 'Bangka-Belitung'})\n",
    "df_total = df_total.replace({'Jatim': \"Jawa Timur\"})\n",
    "df_total = df_total.replace({'Sumbar': 'Sumatera Barat'})\n",
    "df_total = df_total.replace({\"Sumut\": 'Sumatera Utara'})\n",
    "df_total = df_total.replace({'Jabar': 'Jawa Barat'})\n",
    "df_total = df_total.replace({'NTB': 'Nusa Tenggara Barat'})\n",
    "df_total = df_total.replace({'DIY': 'Yogyakarta'})\n",
    "df_total = df_total.replace({'Sulteng': 'Sulawesi Tengah'})\n",
    "df_total = df_total.replace({'Papbar': 'Papua'})\n",
    "df_total = df_total.replace({'Jakarta': 'Jakarta Raya'})\n"
   ]
  },
  {
   "cell_type": "code",
   "execution_count": 33,
   "metadata": {},
   "outputs": [
    {
     "output_type": "execute_result",
     "data": {
      "text/plain": [
       "Index(['Date', 'Province', 'kasusHarian', 'kasusAktif', 'sembuh',\n",
       "       'sembuhHarian', 'meninggalDunia', 'meninggalDuniaHarian',\n",
       "       'Total Kasus'],\n",
       "      dtype='object')"
      ]
     },
     "metadata": {},
     "execution_count": 33
    }
   ],
   "source": [
    "df_total.columns"
   ]
  },
  {
   "cell_type": "code",
   "execution_count": 34,
   "metadata": {},
   "outputs": [
    {
     "output_type": "execute_result",
     "data": {
      "text/plain": [
       "            Date          Province  new_cases  active_cases  total_recovered  \\\n",
       "12915 2021-04-05            Maluku          2           382             6881   \n",
       "12916 2021-04-05             Papua         11           412             7859   \n",
       "12917 2021-04-05             Papua          6          9017            10477   \n",
       "12918 2021-04-05  Kalimantan Utara          7          1569             9537   \n",
       "12919 2021-04-05         Gorontalo          0           192             4861   \n",
       "\n",
       "       new_recovered  total_deaths  new_deaths  total_cases  \n",
       "12915              9           112           2         7375  \n",
       "12916             33           135           0         8406  \n",
       "12917             46           204           1        19698  \n",
       "12918              3           176           1        11282  \n",
       "12919             11           149           1         5202  "
      ],
      "text/html": "<div>\n<style scoped>\n    .dataframe tbody tr th:only-of-type {\n        vertical-align: middle;\n    }\n\n    .dataframe tbody tr th {\n        vertical-align: top;\n    }\n\n    .dataframe thead th {\n        text-align: right;\n    }\n</style>\n<table border=\"1\" class=\"dataframe\">\n  <thead>\n    <tr style=\"text-align: right;\">\n      <th></th>\n      <th>Date</th>\n      <th>Province</th>\n      <th>new_cases</th>\n      <th>active_cases</th>\n      <th>total_recovered</th>\n      <th>new_recovered</th>\n      <th>total_deaths</th>\n      <th>new_deaths</th>\n      <th>total_cases</th>\n    </tr>\n  </thead>\n  <tbody>\n    <tr>\n      <th>12915</th>\n      <td>2021-04-05</td>\n      <td>Maluku</td>\n      <td>2</td>\n      <td>382</td>\n      <td>6881</td>\n      <td>9</td>\n      <td>112</td>\n      <td>2</td>\n      <td>7375</td>\n    </tr>\n    <tr>\n      <th>12916</th>\n      <td>2021-04-05</td>\n      <td>Papua</td>\n      <td>11</td>\n      <td>412</td>\n      <td>7859</td>\n      <td>33</td>\n      <td>135</td>\n      <td>0</td>\n      <td>8406</td>\n    </tr>\n    <tr>\n      <th>12917</th>\n      <td>2021-04-05</td>\n      <td>Papua</td>\n      <td>6</td>\n      <td>9017</td>\n      <td>10477</td>\n      <td>46</td>\n      <td>204</td>\n      <td>1</td>\n      <td>19698</td>\n    </tr>\n    <tr>\n      <th>12918</th>\n      <td>2021-04-05</td>\n      <td>Kalimantan Utara</td>\n      <td>7</td>\n      <td>1569</td>\n      <td>9537</td>\n      <td>3</td>\n      <td>176</td>\n      <td>1</td>\n      <td>11282</td>\n    </tr>\n    <tr>\n      <th>12919</th>\n      <td>2021-04-05</td>\n      <td>Gorontalo</td>\n      <td>0</td>\n      <td>192</td>\n      <td>4861</td>\n      <td>11</td>\n      <td>149</td>\n      <td>1</td>\n      <td>5202</td>\n    </tr>\n  </tbody>\n</table>\n</div>"
     },
     "metadata": {},
     "execution_count": 34
    }
   ],
   "source": [
    "#adjust column names\n",
    "new_col_names = ['Date', 'Province', 'new_cases', 'active_cases', 'total_recovered', 'new_recovered', 'total_deaths', 'new_deaths', 'total_cases']\n",
    "df_total.columns = new_col_names\n",
    "df_total.tail()"
   ]
  },
  {
   "cell_type": "code",
   "execution_count": 35,
   "metadata": {},
   "outputs": [],
   "source": [
    "# get old indo province dataset for additional data\n",
    "df_old = pd.read_csv('indo_province_data.csv')\n",
    "# df_old.tail()\n"
   ]
  },
  {
   "cell_type": "code",
   "execution_count": 36,
   "metadata": {},
   "outputs": [
    {
     "output_type": "execute_result",
     "data": {
      "text/plain": [
       "       Location Location Level  City or Regency    Country Continent  \\\n",
       "0  Jakarta Raya       Province              NaN  Indonesia      Asia   \n",
       "1  Jakarta Raya       Province              NaN  Indonesia      Asia   \n",
       "2     Indonesia        Country              NaN  Indonesia      Asia   \n",
       "3    Jawa Barat       Province              NaN  Indonesia      Asia   \n",
       "4          Riau       Province              NaN  Indonesia      Asia   \n",
       "\n",
       "     Island  Time Zone          Special Status  Total Regencies  Total Cities  \\\n",
       "0      Jawa  UTC+07:00  Daerah Khusus Ibu Kota                1           5.0   \n",
       "1      Jawa  UTC+07:00  Daerah Khusus Ibu Kota                1           5.0   \n",
       "2       NaN        NaN                     NaN              416          98.0   \n",
       "3      Jawa  UTC+07:00                     NaN               18           9.0   \n",
       "4  Sumatera  UTC+07:00                     NaN               10           2.0   \n",
       "\n",
       "   Total Districts  Total Urban Villages  Total Rural Villages  Area (km2)  \\\n",
       "0               44                 267.0                   NaN         664   \n",
       "1               44                 267.0                   NaN         664   \n",
       "2             7230                8488.0               74953.0     1916907   \n",
       "3              627                 645.0                5312.0       35378   \n",
       "4              169                 268.0                1591.0       87024   \n",
       "\n",
       "   Population  Population Density   Longitude  Latitude      Name_EN  id  \n",
       "0    10846145            16334.31  106.836118 -6.204699  dki jakarta  27  \n",
       "1    10846145            16334.31  106.836118 -6.204699  dki jakarta  27  \n",
       "2   265185520              138.34  113.921327 -0.789275    indonesia   0  \n",
       "3    45161325             1276.55  107.603708 -6.920432   jawa barat  29  \n",
       "4     6074100               69.80  101.805109  0.511648         riau  18  "
      ],
      "text/html": "<div>\n<style scoped>\n    .dataframe tbody tr th:only-of-type {\n        vertical-align: middle;\n    }\n\n    .dataframe tbody tr th {\n        vertical-align: top;\n    }\n\n    .dataframe thead th {\n        text-align: right;\n    }\n</style>\n<table border=\"1\" class=\"dataframe\">\n  <thead>\n    <tr style=\"text-align: right;\">\n      <th></th>\n      <th>Location</th>\n      <th>Location Level</th>\n      <th>City or Regency</th>\n      <th>Country</th>\n      <th>Continent</th>\n      <th>Island</th>\n      <th>Time Zone</th>\n      <th>Special Status</th>\n      <th>Total Regencies</th>\n      <th>Total Cities</th>\n      <th>Total Districts</th>\n      <th>Total Urban Villages</th>\n      <th>Total Rural Villages</th>\n      <th>Area (km2)</th>\n      <th>Population</th>\n      <th>Population Density</th>\n      <th>Longitude</th>\n      <th>Latitude</th>\n      <th>Name_EN</th>\n      <th>id</th>\n    </tr>\n  </thead>\n  <tbody>\n    <tr>\n      <th>0</th>\n      <td>Jakarta Raya</td>\n      <td>Province</td>\n      <td>NaN</td>\n      <td>Indonesia</td>\n      <td>Asia</td>\n      <td>Jawa</td>\n      <td>UTC+07:00</td>\n      <td>Daerah Khusus Ibu Kota</td>\n      <td>1</td>\n      <td>5.0</td>\n      <td>44</td>\n      <td>267.0</td>\n      <td>NaN</td>\n      <td>664</td>\n      <td>10846145</td>\n      <td>16334.31</td>\n      <td>106.836118</td>\n      <td>-6.204699</td>\n      <td>dki jakarta</td>\n      <td>27</td>\n    </tr>\n    <tr>\n      <th>1</th>\n      <td>Jakarta Raya</td>\n      <td>Province</td>\n      <td>NaN</td>\n      <td>Indonesia</td>\n      <td>Asia</td>\n      <td>Jawa</td>\n      <td>UTC+07:00</td>\n      <td>Daerah Khusus Ibu Kota</td>\n      <td>1</td>\n      <td>5.0</td>\n      <td>44</td>\n      <td>267.0</td>\n      <td>NaN</td>\n      <td>664</td>\n      <td>10846145</td>\n      <td>16334.31</td>\n      <td>106.836118</td>\n      <td>-6.204699</td>\n      <td>dki jakarta</td>\n      <td>27</td>\n    </tr>\n    <tr>\n      <th>2</th>\n      <td>Indonesia</td>\n      <td>Country</td>\n      <td>NaN</td>\n      <td>Indonesia</td>\n      <td>Asia</td>\n      <td>NaN</td>\n      <td>NaN</td>\n      <td>NaN</td>\n      <td>416</td>\n      <td>98.0</td>\n      <td>7230</td>\n      <td>8488.0</td>\n      <td>74953.0</td>\n      <td>1916907</td>\n      <td>265185520</td>\n      <td>138.34</td>\n      <td>113.921327</td>\n      <td>-0.789275</td>\n      <td>indonesia</td>\n      <td>0</td>\n    </tr>\n    <tr>\n      <th>3</th>\n      <td>Jawa Barat</td>\n      <td>Province</td>\n      <td>NaN</td>\n      <td>Indonesia</td>\n      <td>Asia</td>\n      <td>Jawa</td>\n      <td>UTC+07:00</td>\n      <td>NaN</td>\n      <td>18</td>\n      <td>9.0</td>\n      <td>627</td>\n      <td>645.0</td>\n      <td>5312.0</td>\n      <td>35378</td>\n      <td>45161325</td>\n      <td>1276.55</td>\n      <td>107.603708</td>\n      <td>-6.920432</td>\n      <td>jawa barat</td>\n      <td>29</td>\n    </tr>\n    <tr>\n      <th>4</th>\n      <td>Riau</td>\n      <td>Province</td>\n      <td>NaN</td>\n      <td>Indonesia</td>\n      <td>Asia</td>\n      <td>Sumatera</td>\n      <td>UTC+07:00</td>\n      <td>NaN</td>\n      <td>10</td>\n      <td>2.0</td>\n      <td>169</td>\n      <td>268.0</td>\n      <td>1591.0</td>\n      <td>87024</td>\n      <td>6074100</td>\n      <td>69.80</td>\n      <td>101.805109</td>\n      <td>0.511648</td>\n      <td>riau</td>\n      <td>18</td>\n    </tr>\n  </tbody>\n</table>\n</div>"
     },
     "metadata": {},
     "execution_count": 36
    }
   ],
   "source": [
    "# use only selected columns\n",
    "cols = ['Location', 'Location Level', 'City or Regency', 'Country', 'Continent',\n",
    "       'Island', 'Time Zone', 'Special Status', 'Total Regencies',\n",
    "       'Total Cities', 'Total Districts', 'Total Urban Villages',\n",
    "       'Total Rural Villages', 'Area (km2)', 'Population',\n",
    "       'Population Density', 'Longitude', 'Latitude', 'Name_EN','id']\n",
    "df_old_small = df_old[cols]\n",
    "df_old_small.head()"
   ]
  },
  {
   "cell_type": "code",
   "execution_count": 37,
   "metadata": {},
   "outputs": [
    {
     "output_type": "execute_result",
     "data": {
      "text/plain": [
       "(13014, 20)"
      ]
     },
     "metadata": {},
     "execution_count": 37
    }
   ],
   "source": [
    "df_old_small.shape"
   ]
  },
  {
   "cell_type": "code",
   "execution_count": 38,
   "metadata": {},
   "outputs": [
    {
     "output_type": "execute_result",
     "data": {
      "text/plain": [
       "(12920, 9)"
      ]
     },
     "metadata": {},
     "execution_count": 38
    }
   ],
   "source": [
    "df_total.shape"
   ]
  },
  {
   "cell_type": "code",
   "execution_count": 39,
   "metadata": {},
   "outputs": [
    {
     "output_type": "execute_result",
     "data": {
      "text/plain": [
       "(35, 20)"
      ]
     },
     "metadata": {},
     "execution_count": 39
    }
   ],
   "source": [
    "df_old_small2 =df_old_small.drop_duplicates(subset='Location')\n",
    "df_old_small2.shape"
   ]
  },
  {
   "cell_type": "code",
   "execution_count": 40,
   "metadata": {},
   "outputs": [
    {
     "output_type": "execute_result",
     "data": {
      "text/plain": [
       "array(['Jakarta Raya', 'Indonesia', 'Jawa Barat', 'Riau', 'Banten',\n",
       "       'Sulawesi Tenggara', 'Kalimantan Timur', 'Yogyakarta',\n",
       "       'Sumatera Utara', 'Jawa Tengah', 'Jawa Timur', 'Sulawesi Selatan',\n",
       "       'Jambi', 'Maluku', 'Papua', 'Maluku Utara', 'Aceh',\n",
       "       'Kalimantan Tengah', 'Lampung', 'Sulawesi Tengah',\n",
       "       'Sumatera Barat', 'Irian Jaya Barat', 'Kalimantan Utara',\n",
       "       'Sulawesi Barat', 'Sumatera Selatan', 'Bali', 'Kalimantan Barat',\n",
       "       'Kalimantan Selatan', 'Bangka-Belitung', 'Kepulauan Riau',\n",
       "       'Bengkulu', 'Nusa Tenggara Barat', 'Sulawesi Utara',\n",
       "       'Nusa Tenggara Timur', 'Gorontalo'], dtype=object)"
      ]
     },
     "metadata": {},
     "execution_count": 40
    }
   ],
   "source": [
    "df_old_small.Location.unique()"
   ]
  },
  {
   "cell_type": "code",
   "execution_count": 41,
   "metadata": {},
   "outputs": [
    {
     "output_type": "stream",
     "name": "stdout",
     "text": [
      "[]\n"
     ]
    }
   ],
   "source": [
    "# check if matching Province Names\n",
    "old_list = df_old_small.Location.unique()\n",
    "new_list = df_total.Province.unique()\n",
    "print(list(set(new_list) - set(old_list)))"
   ]
  },
  {
   "cell_type": "code",
   "execution_count": 42,
   "metadata": {},
   "outputs": [],
   "source": [
    "# add missing columns to new indo_province dataset\n",
    "df_complete = pd.merge(df_total, df_old_small2, left_on='Province', right_on='Location')"
   ]
  },
  {
   "cell_type": "code",
   "execution_count": 43,
   "metadata": {},
   "outputs": [
    {
     "output_type": "execute_result",
     "data": {
      "text/plain": [
       "            Date             Province  new_cases  active_cases  \\\n",
       "11019 2021-04-05  Nusa Tenggara Timur          0          1734   \n",
       "11399 2021-04-05  Nusa Tenggara Barat         32          1763   \n",
       "11779 2021-04-05    Kalimantan Tengah        106          2830   \n",
       "6079  2021-04-05                Papua          6          9017   \n",
       "12919 2021-04-05   Kalimantan Selatan        153          3055   \n",
       "\n",
       "       total_recovered  new_recovered  total_deaths  new_deaths  total_cases  \\\n",
       "11019            10563              0           345           0        12642   \n",
       "11399             7572              0           363           2         9698   \n",
       "11779            14467            142           398           2        17695   \n",
       "6079             10477             46           204           1        19698   \n",
       "12919            25118            119           851           4        29024   \n",
       "\n",
       "                  Location  ... Total Districts  Total Urban Villages  \\\n",
       "11019  Nusa Tenggara Timur  ...             309                 327.0   \n",
       "11399  Nusa Tenggara Barat  ...             117                 145.0   \n",
       "11779    Kalimantan Tengah  ...             136                 139.0   \n",
       "6079                 Papua  ...             560                 110.0   \n",
       "12919   Kalimantan Selatan  ...             153                 144.0   \n",
       "\n",
       "      Total Rural Villages Area (km2) Population Population Density  \\\n",
       "11019               3026.0      48718    5411321             111.07   \n",
       "11399                995.0      18572    5270247             283.77   \n",
       "11779               1432.0     153565    2570289              16.74   \n",
       "6079                5411.0     319036    4340348              13.60   \n",
       "12919               1864.0      38744    4023049             103.84   \n",
       "\n",
       "        Longitude  Latitude              Name_EN  id  \n",
       "11019  121.592271 -8.682205  nusa tenggara timur  16  \n",
       "11399  117.508626 -8.606999  nusa tenggara barat  15  \n",
       "11779  113.417654 -1.602485    kalimantan tengah  31  \n",
       "6079   138.696030 -4.666210                papua  17  \n",
       "12919  115.438578 -2.993595   kalimantan selatan   9  \n",
       "\n",
       "[5 rows x 29 columns]"
      ],
      "text/html": "<div>\n<style scoped>\n    .dataframe tbody tr th:only-of-type {\n        vertical-align: middle;\n    }\n\n    .dataframe tbody tr th {\n        vertical-align: top;\n    }\n\n    .dataframe thead th {\n        text-align: right;\n    }\n</style>\n<table border=\"1\" class=\"dataframe\">\n  <thead>\n    <tr style=\"text-align: right;\">\n      <th></th>\n      <th>Date</th>\n      <th>Province</th>\n      <th>new_cases</th>\n      <th>active_cases</th>\n      <th>total_recovered</th>\n      <th>new_recovered</th>\n      <th>total_deaths</th>\n      <th>new_deaths</th>\n      <th>total_cases</th>\n      <th>Location</th>\n      <th>...</th>\n      <th>Total Districts</th>\n      <th>Total Urban Villages</th>\n      <th>Total Rural Villages</th>\n      <th>Area (km2)</th>\n      <th>Population</th>\n      <th>Population Density</th>\n      <th>Longitude</th>\n      <th>Latitude</th>\n      <th>Name_EN</th>\n      <th>id</th>\n    </tr>\n  </thead>\n  <tbody>\n    <tr>\n      <th>11019</th>\n      <td>2021-04-05</td>\n      <td>Nusa Tenggara Timur</td>\n      <td>0</td>\n      <td>1734</td>\n      <td>10563</td>\n      <td>0</td>\n      <td>345</td>\n      <td>0</td>\n      <td>12642</td>\n      <td>Nusa Tenggara Timur</td>\n      <td>...</td>\n      <td>309</td>\n      <td>327.0</td>\n      <td>3026.0</td>\n      <td>48718</td>\n      <td>5411321</td>\n      <td>111.07</td>\n      <td>121.592271</td>\n      <td>-8.682205</td>\n      <td>nusa tenggara timur</td>\n      <td>16</td>\n    </tr>\n    <tr>\n      <th>11399</th>\n      <td>2021-04-05</td>\n      <td>Nusa Tenggara Barat</td>\n      <td>32</td>\n      <td>1763</td>\n      <td>7572</td>\n      <td>0</td>\n      <td>363</td>\n      <td>2</td>\n      <td>9698</td>\n      <td>Nusa Tenggara Barat</td>\n      <td>...</td>\n      <td>117</td>\n      <td>145.0</td>\n      <td>995.0</td>\n      <td>18572</td>\n      <td>5270247</td>\n      <td>283.77</td>\n      <td>117.508626</td>\n      <td>-8.606999</td>\n      <td>nusa tenggara barat</td>\n      <td>15</td>\n    </tr>\n    <tr>\n      <th>11779</th>\n      <td>2021-04-05</td>\n      <td>Kalimantan Tengah</td>\n      <td>106</td>\n      <td>2830</td>\n      <td>14467</td>\n      <td>142</td>\n      <td>398</td>\n      <td>2</td>\n      <td>17695</td>\n      <td>Kalimantan Tengah</td>\n      <td>...</td>\n      <td>136</td>\n      <td>139.0</td>\n      <td>1432.0</td>\n      <td>153565</td>\n      <td>2570289</td>\n      <td>16.74</td>\n      <td>113.417654</td>\n      <td>-1.602485</td>\n      <td>kalimantan tengah</td>\n      <td>31</td>\n    </tr>\n    <tr>\n      <th>6079</th>\n      <td>2021-04-05</td>\n      <td>Papua</td>\n      <td>6</td>\n      <td>9017</td>\n      <td>10477</td>\n      <td>46</td>\n      <td>204</td>\n      <td>1</td>\n      <td>19698</td>\n      <td>Papua</td>\n      <td>...</td>\n      <td>560</td>\n      <td>110.0</td>\n      <td>5411.0</td>\n      <td>319036</td>\n      <td>4340348</td>\n      <td>13.60</td>\n      <td>138.696030</td>\n      <td>-4.666210</td>\n      <td>papua</td>\n      <td>17</td>\n    </tr>\n    <tr>\n      <th>12919</th>\n      <td>2021-04-05</td>\n      <td>Kalimantan Selatan</td>\n      <td>153</td>\n      <td>3055</td>\n      <td>25118</td>\n      <td>119</td>\n      <td>851</td>\n      <td>4</td>\n      <td>29024</td>\n      <td>Kalimantan Selatan</td>\n      <td>...</td>\n      <td>153</td>\n      <td>144.0</td>\n      <td>1864.0</td>\n      <td>38744</td>\n      <td>4023049</td>\n      <td>103.84</td>\n      <td>115.438578</td>\n      <td>-2.993595</td>\n      <td>kalimantan selatan</td>\n      <td>9</td>\n    </tr>\n  </tbody>\n</table>\n<p>5 rows × 29 columns</p>\n</div>"
     },
     "metadata": {},
     "execution_count": 43
    }
   ],
   "source": [
    "df_complete = df_complete.sort_values(by='Date')\n",
    "df_complete.tail()"
   ]
  },
  {
   "cell_type": "code",
   "execution_count": 44,
   "metadata": {},
   "outputs": [
    {
     "output_type": "execute_result",
     "data": {
      "text/plain": [
       "(12920, 29)"
      ]
     },
     "metadata": {},
     "execution_count": 44
    }
   ],
   "source": [
    "df_complete.shape"
   ]
  },
  {
   "cell_type": "code",
   "execution_count": 45,
   "metadata": {},
   "outputs": [
    {
     "output_type": "execute_result",
     "data": {
      "text/plain": [
       "(12916, 29)"
      ]
     },
     "metadata": {},
     "execution_count": 45
    }
   ],
   "source": [
    "# df_complete2.head(100)\n",
    "df_complete = df_complete.drop_duplicates()\n",
    "df_complete.shape"
   ]
  },
  {
   "cell_type": "code",
   "execution_count": 46,
   "metadata": {},
   "outputs": [
    {
     "output_type": "execute_result",
     "data": {
      "text/plain": [
       "Index(['Date', 'Province', 'new_cases', 'active_cases', 'total_recovered',\n",
       "       'new_recovered', 'total_deaths', 'new_deaths', 'total_cases',\n",
       "       'Location', 'Location Level', 'City or Regency', 'Country', 'Continent',\n",
       "       'Island', 'Time Zone', 'Special Status', 'Total Regencies',\n",
       "       'Total Cities', 'Total Districts', 'Total Urban Villages',\n",
       "       'Total Rural Villages', 'Area (km2)', 'Population',\n",
       "       'Population Density', 'Longitude', 'Latitude', 'Name_EN', 'id'],\n",
       "      dtype='object')"
      ]
     },
     "metadata": {},
     "execution_count": 46
    }
   ],
   "source": [
    "df_complete.columns"
   ]
  },
  {
   "cell_type": "code",
   "execution_count": 55,
   "metadata": {},
   "outputs": [],
   "source": []
  },
  {
   "cell_type": "code",
   "execution_count": 47,
   "metadata": {},
   "outputs": [],
   "source": [
    "# ## add additional metrics\n",
    "#########################################\n",
    "\n",
    "df_complete['total_cases_per_100k'] = df_complete['total_cases'] / df_complete['Population'] * 100\n",
    "df_complete['total_cases_per_100k'] = df_complete['total_cases_per_100k'].apply(pd.to_numeric).round(2)\n",
    "\n",
    "df_complete['total_deaths_per_100k'] = df_complete['total_deaths'] / df_complete['Population'] * 100\n",
    "df_complete['total_deaths_per_100k'] = df_complete['total_deaths_per_100k'].apply(pd.to_numeric).round(2)\n",
    "\n",
    "df_complete['new_cases_per_mil'] = df_complete['new_cases'] / df_complete['Population']\n",
    "df_complete['new_cases_per_mil'] = df_complete['new_cases_per_mil'].apply(pd.to_numeric)\n",
    "\n",
    "df_complete['cases7'] = df_complete['new_cases'].rolling(window=7, center=False).mean()\n",
    "df_complete['cases7_per_100k'] = df_complete['cases7'] / df_complete['Population'] * 100\n",
    "df_complete['cases7_per_100k'] = df_complete['cases7_per_100k'].apply(pd.to_numeric).round(2)\n",
    "\n",
    "df_complete['deaths7'] = df_complete['new_deaths'].rolling(window=7, center=False).mean()\n",
    "df_complete['deaths7_per_100k'] = df_complete['total_deaths_per_100k'].rolling(window=7, center=False).mean()\n",
    "df_complete['deaths7_per_100k'] = df_complete['deaths7_per_100k'].apply(pd.to_numeric).round(2)\n",
    "\n",
    "df_complete['CFR'] = df_complete['total_deaths'] / df_complete['total_cases'] * 100\n",
    "df_complete['CFR'] = df_complete['CFR'].round(2)\n",
    "\n",
    "## Calculate in App after region selected and df only contains region?\n",
    "df_complete['growth_rate_new_cases'] = df_complete['new_cases'].pct_change(fill_method ='ffill', periods=7)"
   ]
  },
  {
   "cell_type": "code",
   "execution_count": 52,
   "metadata": {},
   "outputs": [],
   "source": []
  },
  {
   "cell_type": "code",
   "execution_count": 53,
   "metadata": {},
   "outputs": [
    {
     "output_type": "execute_result",
     "data": {
      "text/plain": [
       "                  Province   CFR   deaths7     cases7  total_cases_per_100k  \\\n",
       "11019  Nusa Tenggara Timur  2.73  1.857143  45.571429                  0.23   \n",
       "11399  Nusa Tenggara Barat  3.74  1.857143  46.142857                  0.18   \n",
       "11779    Kalimantan Tengah  2.25  2.000000  61.285714                  0.69   \n",
       "6079                 Papua  1.04  1.857143  61.857143                  0.45   \n",
       "12919   Kalimantan Selatan  2.93  2.142857  69.142857                  0.72   \n",
       "\n",
       "       new_cases_per_mil  \n",
       "11019           0.000000  \n",
       "11399           0.000006  \n",
       "11779           0.000041  \n",
       "6079            0.000001  \n",
       "12919           0.000038  "
      ],
      "text/html": "<div>\n<style scoped>\n    .dataframe tbody tr th:only-of-type {\n        vertical-align: middle;\n    }\n\n    .dataframe tbody tr th {\n        vertical-align: top;\n    }\n\n    .dataframe thead th {\n        text-align: right;\n    }\n</style>\n<table border=\"1\" class=\"dataframe\">\n  <thead>\n    <tr style=\"text-align: right;\">\n      <th></th>\n      <th>Province</th>\n      <th>CFR</th>\n      <th>deaths7</th>\n      <th>cases7</th>\n      <th>total_cases_per_100k</th>\n      <th>new_cases_per_mil</th>\n    </tr>\n  </thead>\n  <tbody>\n    <tr>\n      <th>11019</th>\n      <td>Nusa Tenggara Timur</td>\n      <td>2.73</td>\n      <td>1.857143</td>\n      <td>45.571429</td>\n      <td>0.23</td>\n      <td>0.000000</td>\n    </tr>\n    <tr>\n      <th>11399</th>\n      <td>Nusa Tenggara Barat</td>\n      <td>3.74</td>\n      <td>1.857143</td>\n      <td>46.142857</td>\n      <td>0.18</td>\n      <td>0.000006</td>\n    </tr>\n    <tr>\n      <th>11779</th>\n      <td>Kalimantan Tengah</td>\n      <td>2.25</td>\n      <td>2.000000</td>\n      <td>61.285714</td>\n      <td>0.69</td>\n      <td>0.000041</td>\n    </tr>\n    <tr>\n      <th>6079</th>\n      <td>Papua</td>\n      <td>1.04</td>\n      <td>1.857143</td>\n      <td>61.857143</td>\n      <td>0.45</td>\n      <td>0.000001</td>\n    </tr>\n    <tr>\n      <th>12919</th>\n      <td>Kalimantan Selatan</td>\n      <td>2.93</td>\n      <td>2.142857</td>\n      <td>69.142857</td>\n      <td>0.72</td>\n      <td>0.000038</td>\n    </tr>\n  </tbody>\n</table>\n</div>"
     },
     "metadata": {},
     "execution_count": 53
    }
   ],
   "source": [
    "df_complete[['Province', \"CFR\", 'deaths7', 'cases7', 'total_cases_per_100k', \"new_cases_per_mil\"]].tail()"
   ]
  },
  {
   "cell_type": "code",
   "execution_count": null,
   "metadata": {},
   "outputs": [],
   "source": [
    "\n",
    "## save as csv\n",
    "# df_total.to_csv('indo_province_data')\n",
    "\n",
    "## check\n",
    "\n",
    "## add to main data processing Notebook"
   ]
  }
 ]
}