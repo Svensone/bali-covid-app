{
 "metadata": {
  "language_info": {
   "codemirror_mode": {
    "name": "ipython",
    "version": 3
   },
   "file_extension": ".py",
   "mimetype": "text/x-python",
   "name": "python",
   "nbconvert_exporter": "python",
   "pygments_lexer": "ipython3",
   "version": "3.7.6-final"
  },
  "orig_nbformat": 2,
  "kernelspec": {
   "name": "python3",
   "display_name": "Python 3.7.6 64-bit (conda)",
   "metadata": {
    "interpreter": {
     "hash": "b3ba2566441a7c06988d0923437866b63cedc61552a5af99d1f4fb67d367b25f"
    }
   }
  }
 },
 "nbformat": 4,
 "nbformat_minor": 2,
 "cells": [
  {
   "cell_type": "code",
   "execution_count": 21,
   "metadata": {},
   "outputs": [],
   "source": [
    "import pandas as pd\n",
    "import numpy as np"
   ]
  },
  {
   "cell_type": "code",
   "execution_count": 55,
   "metadata": {},
   "outputs": [
    {
     "output_type": "execute_result",
     "data": {
      "text/plain": [
       "           Total Kasus Aceh Bali Banten Babel Bengkulu DIY Jakarta Jambi  \\\n",
       "0  2020-03-18 00:00:00    0    1     17     0        0   3     158     0   \n",
       "1  2020-03-19 00:00:00    0    1     27     0        0   5     210     0   \n",
       "2  2020-03-20 00:00:00    0    4     37     0        0   4     215     0   \n",
       "3  2020-03-21 00:00:00    0    3     43     0        0   5     267     0   \n",
       "4  2020-03-22 00:00:00    0    3     47     0        0   5     307     0   \n",
       "\n",
       "  Jabar  ... Riau Malut Maluku Papbar Papua Sulbar NTT Gorontalo   ?  \\\n",
       "0    24  ...    1     0      0      0     0      0   0         0   0   \n",
       "1    26  ...    2     0      0      0     0      0   0         0   0   \n",
       "2    41  ...    1     0      0      0     0      0   0         0  13   \n",
       "3    55  ...    1     0      0      0     0      0   0         0  10   \n",
       "4    59  ...    1     0      1      0     2      0   0         0   6   \n",
       "\n",
       "  Unnamed: 36  \n",
       "0         NaN  \n",
       "1         NaN  \n",
       "2         NaN  \n",
       "3         NaN  \n",
       "4         NaN  \n",
       "\n",
       "[5 rows x 37 columns]"
      ],
      "text/html": "<div>\n<style scoped>\n    .dataframe tbody tr th:only-of-type {\n        vertical-align: middle;\n    }\n\n    .dataframe tbody tr th {\n        vertical-align: top;\n    }\n\n    .dataframe thead th {\n        text-align: right;\n    }\n</style>\n<table border=\"1\" class=\"dataframe\">\n  <thead>\n    <tr style=\"text-align: right;\">\n      <th></th>\n      <th>Total Kasus</th>\n      <th>Aceh</th>\n      <th>Bali</th>\n      <th>Banten</th>\n      <th>Babel</th>\n      <th>Bengkulu</th>\n      <th>DIY</th>\n      <th>Jakarta</th>\n      <th>Jambi</th>\n      <th>Jabar</th>\n      <th>...</th>\n      <th>Riau</th>\n      <th>Malut</th>\n      <th>Maluku</th>\n      <th>Papbar</th>\n      <th>Papua</th>\n      <th>Sulbar</th>\n      <th>NTT</th>\n      <th>Gorontalo</th>\n      <th>?</th>\n      <th>Unnamed: 36</th>\n    </tr>\n  </thead>\n  <tbody>\n    <tr>\n      <th>0</th>\n      <td>2020-03-18 00:00:00</td>\n      <td>0</td>\n      <td>1</td>\n      <td>17</td>\n      <td>0</td>\n      <td>0</td>\n      <td>3</td>\n      <td>158</td>\n      <td>0</td>\n      <td>24</td>\n      <td>...</td>\n      <td>1</td>\n      <td>0</td>\n      <td>0</td>\n      <td>0</td>\n      <td>0</td>\n      <td>0</td>\n      <td>0</td>\n      <td>0</td>\n      <td>0</td>\n      <td>NaN</td>\n    </tr>\n    <tr>\n      <th>1</th>\n      <td>2020-03-19 00:00:00</td>\n      <td>0</td>\n      <td>1</td>\n      <td>27</td>\n      <td>0</td>\n      <td>0</td>\n      <td>5</td>\n      <td>210</td>\n      <td>0</td>\n      <td>26</td>\n      <td>...</td>\n      <td>2</td>\n      <td>0</td>\n      <td>0</td>\n      <td>0</td>\n      <td>0</td>\n      <td>0</td>\n      <td>0</td>\n      <td>0</td>\n      <td>0</td>\n      <td>NaN</td>\n    </tr>\n    <tr>\n      <th>2</th>\n      <td>2020-03-20 00:00:00</td>\n      <td>0</td>\n      <td>4</td>\n      <td>37</td>\n      <td>0</td>\n      <td>0</td>\n      <td>4</td>\n      <td>215</td>\n      <td>0</td>\n      <td>41</td>\n      <td>...</td>\n      <td>1</td>\n      <td>0</td>\n      <td>0</td>\n      <td>0</td>\n      <td>0</td>\n      <td>0</td>\n      <td>0</td>\n      <td>0</td>\n      <td>13</td>\n      <td>NaN</td>\n    </tr>\n    <tr>\n      <th>3</th>\n      <td>2020-03-21 00:00:00</td>\n      <td>0</td>\n      <td>3</td>\n      <td>43</td>\n      <td>0</td>\n      <td>0</td>\n      <td>5</td>\n      <td>267</td>\n      <td>0</td>\n      <td>55</td>\n      <td>...</td>\n      <td>1</td>\n      <td>0</td>\n      <td>0</td>\n      <td>0</td>\n      <td>0</td>\n      <td>0</td>\n      <td>0</td>\n      <td>0</td>\n      <td>10</td>\n      <td>NaN</td>\n    </tr>\n    <tr>\n      <th>4</th>\n      <td>2020-03-22 00:00:00</td>\n      <td>0</td>\n      <td>3</td>\n      <td>47</td>\n      <td>0</td>\n      <td>0</td>\n      <td>5</td>\n      <td>307</td>\n      <td>0</td>\n      <td>59</td>\n      <td>...</td>\n      <td>1</td>\n      <td>0</td>\n      <td>1</td>\n      <td>0</td>\n      <td>2</td>\n      <td>0</td>\n      <td>0</td>\n      <td>0</td>\n      <td>6</td>\n      <td>NaN</td>\n    </tr>\n  </tbody>\n</table>\n<p>5 rows × 37 columns</p>\n</div>"
     },
     "metadata": {},
     "execution_count": 55
    }
   ],
   "source": [
    "df = pd.read_excel('kawalcovid19_Indo_Data.xlsx', sheet_name=\"Timeline\")\n",
    "df.head()"
   ]
  },
  {
   "cell_type": "code",
   "execution_count": 56,
   "metadata": {},
   "outputs": [],
   "source": [
    "# split df row-wise\n",
    "\n",
    "# df_new=df.iloc[:df.loc[df.Name.str.contains('Total',na=False)].index[0]]\n",
    "\n",
    "split_points = ['Total Kasus', 'Kasus Harian', 'Kasus Aktif', 'Sembuh', 'Sembuh Harian', 'Meninggal Dunia', 'Meninggal Dunia Harian']\n",
    "\n"
   ]
  },
  {
   "cell_type": "code",
   "execution_count": 103,
   "metadata": {},
   "outputs": [],
   "source": [
    "# extract df for each case-type\n",
    "##################################\n",
    "\n",
    "# to do:\n",
    "# replace all NaN with 0\n",
    "# delete empty rows\n",
    "# adjust header\n",
    "# extract for each Province, add Province Name and merge, and sort by date\n",
    "\n",
    "\n",
    "df_totalKasus = df.iloc[:df.loc[df['Total Kasus'].str.contains('Kasus Harian', na=False)].index[0]]\n",
    "\n",
    "df_kasusHarian = df.iloc[df.loc[df['Total Kasus'].str.contains('Kasus Harian', na=False)].index[0]:df.loc[df['Total Kasus'].str.contains('Kasus Aktif', na=False)].index[0]]\n",
    "\n",
    "df_kasusAktif = df.iloc[df.loc[df['Total Kasus'].str.contains('Kasus Aktif', na=False)].index[0]:df.loc[df['Total Kasus'].str.contains('Sembuh', na=False)].index[0]]\n",
    "\n",
    "df_sembuh = df.iloc[df.loc[df['Total Kasus'].str.contains('Sembuh', na=False)].index[0]:df.loc[df['Total Kasus'].str.contains('Sembuh Harian', na=False)].index[0]]\n",
    "\n",
    "df_sembuhHarian = df.iloc[df.loc[df['Total Kasus'].str.contains('Sembuh Harian', na=False)].index[0]:df.loc[df['Total Kasus'].str.contains('Meninggal Dunia', na=False)].index[0]]\n",
    "\n",
    "df_meninggalDunia = df.iloc[df.loc[df['Total Kasus'].str.contains('Meninggal Dunia', na=False)].index[0]:df.loc[df['Total Kasus'].str.contains('Meninggal Dunia Harian', na=False)].index[0]]\n",
    "\n",
    "df_meninggalDuniaHarian = df.iloc[df.loc[df['Total Kasus'].str.contains('Meninggal Dunia Harian', na=False)].index[0]:df.loc[df['Total Kasus'].str.contains('Meninggal Dunia Harian', na=False)].index[1]]\n",
    "\n",
    "df_frames = []\n",
    "\n",
    "## as a loop\n",
    "##############\n",
    "\n",
    "# for i, x in  enumerate(split_points):\n",
    "#     x = df.iloc[df.loc[df['Total Kasus'].str.contains(x, na=False)].index[0]: df.loc[df[split_points[i+1]].str.contains(split_points[i+1], na=False)].index[0]]\n",
    "\n"
   ]
  },
  {
   "cell_type": "code",
   "execution_count": 104,
   "metadata": {},
   "outputs": [
    {
     "output_type": "execute_result",
     "data": {
      "text/plain": [
       "             Aceh   Bali Banten Babel Bengkulu    DIY Jakarta Jambi   Jabar  \\\n",
       "Total Kasus                                                                   \n",
       "2020-03-18      0      1     17     0        0      3     158     0      24   \n",
       "2020-03-19      0      1     27     0        0      5     210     0      26   \n",
       "2020-03-20      0      4     37     0        0      4     215     0      41   \n",
       "2020-03-21      0      3     43     0        0      5     267     0      55   \n",
       "2020-03-22      0      3     47     0        0      5     307     0      59   \n",
       "...           ...    ...    ...   ...      ...    ...     ...   ...     ...   \n",
       "2021-03-02   9557  34547  29594  7400     4949  28117  342371  5534  214528   \n",
       "2021-03-03   9570  34745  29666  7461     4982  28346  343807  5543  216423   \n",
       "2021-03-04   9580  35013  29677  7493     4994  28574  345816  5587  218154   \n",
       "2021-03-05   9589  35227  30192  7543     5009  28749  346975  5594  219940   \n",
       "2021-03-06   9605  35380  30205  7618     5017  28838  348591  5611  221034   \n",
       "\n",
       "             Jateng  ... Sulteng Lampung   Riau Malut Maluku Papbar  Papua  \\\n",
       "Total Kasus          ...                                                     \n",
       "2020-03-18        8  ...       0       1      1     0      0      0      0   \n",
       "2020-03-19       12  ...       0       1      2     0      0      0      0   \n",
       "2020-03-20       12  ...       0       1      1     0      0      0      0   \n",
       "2020-03-21       14  ...       0       1      1     0      0      0      0   \n",
       "2020-03-22       15  ...       0       1      1     0      1      0      2   \n",
       "...             ...  ...     ...     ...    ...   ...    ...    ...    ...   \n",
       "2021-03-02   154669  ...   10133   12658  31542  3987   7021   7470  17165   \n",
       "2021-03-03   155217  ...   10199   12717  31621  4030   7044   7517  17281   \n",
       "2021-03-04   155808  ...   10276   12773  31708  4036   7069   7544  17444   \n",
       "2021-03-05   156757  ...   10289   12818  31837  4040   7078   7571  17507   \n",
       "2021-03-06   157343  ...   10323   12859  31905  4052   7116   7615  17560   \n",
       "\n",
       "            Sulbar   NTT Gorontalo  \n",
       "Total Kasus                         \n",
       "2020-03-18       0     0         0  \n",
       "2020-03-19       0     0         0  \n",
       "2020-03-20       0     0         0  \n",
       "2020-03-21       0     0         0  \n",
       "2020-03-22       0     0         0  \n",
       "...            ...   ...       ...  \n",
       "2021-03-02    5266  9404      4802  \n",
       "2021-03-03    5268  9545      4819  \n",
       "2021-03-04    5271  9648      4842  \n",
       "2021-03-05    5285  9798      4851  \n",
       "2021-03-06    5289  9928      4864  \n",
       "\n",
       "[354 rows x 34 columns]"
      ],
      "text/html": "<div>\n<style scoped>\n    .dataframe tbody tr th:only-of-type {\n        vertical-align: middle;\n    }\n\n    .dataframe tbody tr th {\n        vertical-align: top;\n    }\n\n    .dataframe thead th {\n        text-align: right;\n    }\n</style>\n<table border=\"1\" class=\"dataframe\">\n  <thead>\n    <tr style=\"text-align: right;\">\n      <th></th>\n      <th>Aceh</th>\n      <th>Bali</th>\n      <th>Banten</th>\n      <th>Babel</th>\n      <th>Bengkulu</th>\n      <th>DIY</th>\n      <th>Jakarta</th>\n      <th>Jambi</th>\n      <th>Jabar</th>\n      <th>Jateng</th>\n      <th>...</th>\n      <th>Sulteng</th>\n      <th>Lampung</th>\n      <th>Riau</th>\n      <th>Malut</th>\n      <th>Maluku</th>\n      <th>Papbar</th>\n      <th>Papua</th>\n      <th>Sulbar</th>\n      <th>NTT</th>\n      <th>Gorontalo</th>\n    </tr>\n    <tr>\n      <th>Total Kasus</th>\n      <th></th>\n      <th></th>\n      <th></th>\n      <th></th>\n      <th></th>\n      <th></th>\n      <th></th>\n      <th></th>\n      <th></th>\n      <th></th>\n      <th></th>\n      <th></th>\n      <th></th>\n      <th></th>\n      <th></th>\n      <th></th>\n      <th></th>\n      <th></th>\n      <th></th>\n      <th></th>\n      <th></th>\n    </tr>\n  </thead>\n  <tbody>\n    <tr>\n      <th>2020-03-18</th>\n      <td>0</td>\n      <td>1</td>\n      <td>17</td>\n      <td>0</td>\n      <td>0</td>\n      <td>3</td>\n      <td>158</td>\n      <td>0</td>\n      <td>24</td>\n      <td>8</td>\n      <td>...</td>\n      <td>0</td>\n      <td>1</td>\n      <td>1</td>\n      <td>0</td>\n      <td>0</td>\n      <td>0</td>\n      <td>0</td>\n      <td>0</td>\n      <td>0</td>\n      <td>0</td>\n    </tr>\n    <tr>\n      <th>2020-03-19</th>\n      <td>0</td>\n      <td>1</td>\n      <td>27</td>\n      <td>0</td>\n      <td>0</td>\n      <td>5</td>\n      <td>210</td>\n      <td>0</td>\n      <td>26</td>\n      <td>12</td>\n      <td>...</td>\n      <td>0</td>\n      <td>1</td>\n      <td>2</td>\n      <td>0</td>\n      <td>0</td>\n      <td>0</td>\n      <td>0</td>\n      <td>0</td>\n      <td>0</td>\n      <td>0</td>\n    </tr>\n    <tr>\n      <th>2020-03-20</th>\n      <td>0</td>\n      <td>4</td>\n      <td>37</td>\n      <td>0</td>\n      <td>0</td>\n      <td>4</td>\n      <td>215</td>\n      <td>0</td>\n      <td>41</td>\n      <td>12</td>\n      <td>...</td>\n      <td>0</td>\n      <td>1</td>\n      <td>1</td>\n      <td>0</td>\n      <td>0</td>\n      <td>0</td>\n      <td>0</td>\n      <td>0</td>\n      <td>0</td>\n      <td>0</td>\n    </tr>\n    <tr>\n      <th>2020-03-21</th>\n      <td>0</td>\n      <td>3</td>\n      <td>43</td>\n      <td>0</td>\n      <td>0</td>\n      <td>5</td>\n      <td>267</td>\n      <td>0</td>\n      <td>55</td>\n      <td>14</td>\n      <td>...</td>\n      <td>0</td>\n      <td>1</td>\n      <td>1</td>\n      <td>0</td>\n      <td>0</td>\n      <td>0</td>\n      <td>0</td>\n      <td>0</td>\n      <td>0</td>\n      <td>0</td>\n    </tr>\n    <tr>\n      <th>2020-03-22</th>\n      <td>0</td>\n      <td>3</td>\n      <td>47</td>\n      <td>0</td>\n      <td>0</td>\n      <td>5</td>\n      <td>307</td>\n      <td>0</td>\n      <td>59</td>\n      <td>15</td>\n      <td>...</td>\n      <td>0</td>\n      <td>1</td>\n      <td>1</td>\n      <td>0</td>\n      <td>1</td>\n      <td>0</td>\n      <td>2</td>\n      <td>0</td>\n      <td>0</td>\n      <td>0</td>\n    </tr>\n    <tr>\n      <th>...</th>\n      <td>...</td>\n      <td>...</td>\n      <td>...</td>\n      <td>...</td>\n      <td>...</td>\n      <td>...</td>\n      <td>...</td>\n      <td>...</td>\n      <td>...</td>\n      <td>...</td>\n      <td>...</td>\n      <td>...</td>\n      <td>...</td>\n      <td>...</td>\n      <td>...</td>\n      <td>...</td>\n      <td>...</td>\n      <td>...</td>\n      <td>...</td>\n      <td>...</td>\n      <td>...</td>\n    </tr>\n    <tr>\n      <th>2021-03-02</th>\n      <td>9557</td>\n      <td>34547</td>\n      <td>29594</td>\n      <td>7400</td>\n      <td>4949</td>\n      <td>28117</td>\n      <td>342371</td>\n      <td>5534</td>\n      <td>214528</td>\n      <td>154669</td>\n      <td>...</td>\n      <td>10133</td>\n      <td>12658</td>\n      <td>31542</td>\n      <td>3987</td>\n      <td>7021</td>\n      <td>7470</td>\n      <td>17165</td>\n      <td>5266</td>\n      <td>9404</td>\n      <td>4802</td>\n    </tr>\n    <tr>\n      <th>2021-03-03</th>\n      <td>9570</td>\n      <td>34745</td>\n      <td>29666</td>\n      <td>7461</td>\n      <td>4982</td>\n      <td>28346</td>\n      <td>343807</td>\n      <td>5543</td>\n      <td>216423</td>\n      <td>155217</td>\n      <td>...</td>\n      <td>10199</td>\n      <td>12717</td>\n      <td>31621</td>\n      <td>4030</td>\n      <td>7044</td>\n      <td>7517</td>\n      <td>17281</td>\n      <td>5268</td>\n      <td>9545</td>\n      <td>4819</td>\n    </tr>\n    <tr>\n      <th>2021-03-04</th>\n      <td>9580</td>\n      <td>35013</td>\n      <td>29677</td>\n      <td>7493</td>\n      <td>4994</td>\n      <td>28574</td>\n      <td>345816</td>\n      <td>5587</td>\n      <td>218154</td>\n      <td>155808</td>\n      <td>...</td>\n      <td>10276</td>\n      <td>12773</td>\n      <td>31708</td>\n      <td>4036</td>\n      <td>7069</td>\n      <td>7544</td>\n      <td>17444</td>\n      <td>5271</td>\n      <td>9648</td>\n      <td>4842</td>\n    </tr>\n    <tr>\n      <th>2021-03-05</th>\n      <td>9589</td>\n      <td>35227</td>\n      <td>30192</td>\n      <td>7543</td>\n      <td>5009</td>\n      <td>28749</td>\n      <td>346975</td>\n      <td>5594</td>\n      <td>219940</td>\n      <td>156757</td>\n      <td>...</td>\n      <td>10289</td>\n      <td>12818</td>\n      <td>31837</td>\n      <td>4040</td>\n      <td>7078</td>\n      <td>7571</td>\n      <td>17507</td>\n      <td>5285</td>\n      <td>9798</td>\n      <td>4851</td>\n    </tr>\n    <tr>\n      <th>2021-03-06</th>\n      <td>9605</td>\n      <td>35380</td>\n      <td>30205</td>\n      <td>7618</td>\n      <td>5017</td>\n      <td>28838</td>\n      <td>348591</td>\n      <td>5611</td>\n      <td>221034</td>\n      <td>157343</td>\n      <td>...</td>\n      <td>10323</td>\n      <td>12859</td>\n      <td>31905</td>\n      <td>4052</td>\n      <td>7116</td>\n      <td>7615</td>\n      <td>17560</td>\n      <td>5289</td>\n      <td>9928</td>\n      <td>4864</td>\n    </tr>\n  </tbody>\n</table>\n<p>354 rows × 34 columns</p>\n</div>"
     },
     "metadata": {},
     "execution_count": 104
    }
   ],
   "source": [
    "# df_totalKasus= df_totalKasus.fillna(0)\n",
    "df_totalKasus.set_index('Total Kasus', inplace=True)\n",
    "df_totalKasus= df_totalKasus[:-1]\n"
   ]
  },
  {
   "cell_type": "code",
   "execution_count": 106,
   "metadata": {},
   "outputs": [
    {
     "output_type": "execute_result",
     "data": {
      "text/plain": [
       "Index(['Aceh', 'Bali', 'Banten', 'Babel', 'Bengkulu', 'DIY', 'Jakarta',\n",
       "       'Jambi', 'Jabar', 'Jateng', 'Jatim', 'Kalbar', 'Kaltim', 'Kalteng',\n",
       "       'Kalsel', 'Kaltara', 'Kep Riau', 'NTB', 'Sumsel', 'Sumbar', 'Sulut',\n",
       "       'Sumut', 'Sultra', 'Sulsel', 'Sulteng', 'Lampung', 'Riau', 'Malut',\n",
       "       'Maluku', 'Papbar', 'Papua', 'Sulbar', 'NTT', 'Gorontalo'],\n",
       "      dtype='object')"
      ]
     },
     "metadata": {},
     "execution_count": 106
    }
   ],
   "source": [
    "# \n",
    "df_totalKasus = df_totalKasus.drop(['?', 'Unnamed: 36'], axis=1)\n",
    "\n",
    "column_names = df_totalKasus.columns\n",
    "column_names\n"
   ]
  },
  {
   "cell_type": "code",
   "execution_count": 111,
   "metadata": {},
   "outputs": [
    {
     "output_type": "execute_result",
     "data": {
      "text/plain": [
       "Total Kasus\n",
       "2020-03-18 00:00:00        1\n",
       "2020-03-19 00:00:00        1\n",
       "2020-03-20 00:00:00        4\n",
       "2020-03-21 00:00:00        3\n",
       "2020-03-22 00:00:00        3\n",
       "                       ...  \n",
       "2021-03-04 00:00:00    35013\n",
       "2021-03-05 00:00:00    35227\n",
       "2021-03-06 00:00:00    35380\n",
       "Bali                    Bali\n",
       "Province                Bali\n",
       "Name: Bali, Length: 356, dtype: object"
      ]
     },
     "metadata": {},
     "execution_count": 111
    }
   ],
   "source": [
    "\n",
    "df_total = pd.DataFrame(index=[0,1], columns=['Total Kasus', 'Province'])\n",
    "df_total = df_total.fillna(0)\n",
    "\n",
    "df_x = df_totalKasus['Bali']\n",
    "df_x['Province'] = \"Bali\"\n",
    "df_x\n",
    "# for province in column_names:\n",
    "#     df_x = df_totalKasus[province]\n",
    "#     df_x[province] = province\n",
    "#     # df_total = df_total.append(df_x)\n",
    "# df_x.head()\n",
    "# df_total"
   ]
  },
  {
   "cell_type": "code",
   "execution_count": null,
   "metadata": {},
   "outputs": [],
   "source": [
    "\n",
    "\n",
    "# for each column\n",
    "df_totalKasus = df_totalKasus.set_index(df_totalKasus['Total Kasus'])\n",
    "df_totalKasus.head()"
   ]
  },
  {
   "cell_type": "code",
   "execution_count": 17,
   "metadata": {},
   "outputs": [
    {
     "output_type": "execute_result",
     "data": {
      "text/plain": [
       "            Bali\n",
       "Total Kasus     \n",
       "2020-03-18     1\n",
       "2020-03-19     1\n",
       "2020-03-20     4\n",
       "2020-03-21     3\n",
       "2020-03-22     3"
      ],
      "text/html": "<div>\n<style scoped>\n    .dataframe tbody tr th:only-of-type {\n        vertical-align: middle;\n    }\n\n    .dataframe tbody tr th {\n        vertical-align: top;\n    }\n\n    .dataframe thead th {\n        text-align: right;\n    }\n</style>\n<table border=\"1\" class=\"dataframe\">\n  <thead>\n    <tr style=\"text-align: right;\">\n      <th></th>\n      <th>Bali</th>\n    </tr>\n    <tr>\n      <th>Total Kasus</th>\n      <th></th>\n    </tr>\n  </thead>\n  <tbody>\n    <tr>\n      <th>2020-03-18</th>\n      <td>1</td>\n    </tr>\n    <tr>\n      <th>2020-03-19</th>\n      <td>1</td>\n    </tr>\n    <tr>\n      <th>2020-03-20</th>\n      <td>4</td>\n    </tr>\n    <tr>\n      <th>2020-03-21</th>\n      <td>3</td>\n    </tr>\n    <tr>\n      <th>2020-03-22</th>\n      <td>3</td>\n    </tr>\n  </tbody>\n</table>\n</div>"
     },
     "metadata": {},
     "execution_count": 17
    }
   ],
   "source": [
    "df_bali = df_totalKasus[['Bali']]\n",
    "\n",
    "df_bali.head()"
   ]
  },
  {
   "cell_type": "code",
   "execution_count": null,
   "metadata": {},
   "outputs": [],
   "source": [
    "df_bali.where()"
   ]
  }
 ]
}