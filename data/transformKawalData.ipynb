{
 "metadata": {
  "language_info": {
   "codemirror_mode": {
    "name": "ipython",
    "version": 3
   },
   "file_extension": ".py",
   "mimetype": "text/x-python",
   "name": "python",
   "nbconvert_exporter": "python",
   "pygments_lexer": "ipython3",
   "version": "3.7.6-final"
  },
  "orig_nbformat": 2,
  "kernelspec": {
   "name": "python3",
   "display_name": "Python 3.7.6 64-bit (conda)",
   "metadata": {
    "interpreter": {
     "hash": "b3ba2566441a7c06988d0923437866b63cedc61552a5af99d1f4fb67d367b25f"
    }
   }
  }
 },
 "nbformat": 4,
 "nbformat_minor": 2,
 "cells": [
  {
   "cell_type": "code",
   "execution_count": null,
   "metadata": {},
   "outputs": [],
   "source": [
    "\n",
    "## To-Dos\n",
    "##################\n",
    "\n",
    "# in the end\n",
    "\n",
    "## sort_dates\n",
    "\n",
    "## save as csv\n",
    "\n",
    "## check\n",
    "\n",
    "## add to main data processing Notebook"
   ]
  },
  {
   "cell_type": "code",
   "execution_count": 130,
   "metadata": {},
   "outputs": [],
   "source": [
    "import pandas as pd\n",
    "import numpy as np"
   ]
  },
  {
   "cell_type": "code",
   "execution_count": 131,
   "metadata": {},
   "outputs": [
    {
     "output_type": "execute_result",
     "data": {
      "text/plain": [
       "           Total Kasus Aceh Bali Banten Babel Bengkulu DIY Jakarta Jambi  \\\n",
       "0  2020-03-18 00:00:00    0    1     17     0        0   3     158     0   \n",
       "1  2020-03-19 00:00:00    0    1     27     0        0   5     210     0   \n",
       "2  2020-03-20 00:00:00    0    4     37     0        0   4     215     0   \n",
       "3  2020-03-21 00:00:00    0    3     43     0        0   5     267     0   \n",
       "4  2020-03-22 00:00:00    0    3     47     0        0   5     307     0   \n",
       "\n",
       "  Jabar  ... Riau Malut Maluku Papbar Papua Sulbar NTT Gorontalo   ?  \\\n",
       "0    24  ...    1     0      0      0     0      0   0         0   0   \n",
       "1    26  ...    2     0      0      0     0      0   0         0   0   \n",
       "2    41  ...    1     0      0      0     0      0   0         0  13   \n",
       "3    55  ...    1     0      0      0     0      0   0         0  10   \n",
       "4    59  ...    1     0      1      0     2      0   0         0   6   \n",
       "\n",
       "  Unnamed: 36  \n",
       "0         NaN  \n",
       "1         NaN  \n",
       "2         NaN  \n",
       "3         NaN  \n",
       "4         NaN  \n",
       "\n",
       "[5 rows x 37 columns]"
      ],
      "text/html": "<div>\n<style scoped>\n    .dataframe tbody tr th:only-of-type {\n        vertical-align: middle;\n    }\n\n    .dataframe tbody tr th {\n        vertical-align: top;\n    }\n\n    .dataframe thead th {\n        text-align: right;\n    }\n</style>\n<table border=\"1\" class=\"dataframe\">\n  <thead>\n    <tr style=\"text-align: right;\">\n      <th></th>\n      <th>Total Kasus</th>\n      <th>Aceh</th>\n      <th>Bali</th>\n      <th>Banten</th>\n      <th>Babel</th>\n      <th>Bengkulu</th>\n      <th>DIY</th>\n      <th>Jakarta</th>\n      <th>Jambi</th>\n      <th>Jabar</th>\n      <th>...</th>\n      <th>Riau</th>\n      <th>Malut</th>\n      <th>Maluku</th>\n      <th>Papbar</th>\n      <th>Papua</th>\n      <th>Sulbar</th>\n      <th>NTT</th>\n      <th>Gorontalo</th>\n      <th>?</th>\n      <th>Unnamed: 36</th>\n    </tr>\n  </thead>\n  <tbody>\n    <tr>\n      <th>0</th>\n      <td>2020-03-18 00:00:00</td>\n      <td>0</td>\n      <td>1</td>\n      <td>17</td>\n      <td>0</td>\n      <td>0</td>\n      <td>3</td>\n      <td>158</td>\n      <td>0</td>\n      <td>24</td>\n      <td>...</td>\n      <td>1</td>\n      <td>0</td>\n      <td>0</td>\n      <td>0</td>\n      <td>0</td>\n      <td>0</td>\n      <td>0</td>\n      <td>0</td>\n      <td>0</td>\n      <td>NaN</td>\n    </tr>\n    <tr>\n      <th>1</th>\n      <td>2020-03-19 00:00:00</td>\n      <td>0</td>\n      <td>1</td>\n      <td>27</td>\n      <td>0</td>\n      <td>0</td>\n      <td>5</td>\n      <td>210</td>\n      <td>0</td>\n      <td>26</td>\n      <td>...</td>\n      <td>2</td>\n      <td>0</td>\n      <td>0</td>\n      <td>0</td>\n      <td>0</td>\n      <td>0</td>\n      <td>0</td>\n      <td>0</td>\n      <td>0</td>\n      <td>NaN</td>\n    </tr>\n    <tr>\n      <th>2</th>\n      <td>2020-03-20 00:00:00</td>\n      <td>0</td>\n      <td>4</td>\n      <td>37</td>\n      <td>0</td>\n      <td>0</td>\n      <td>4</td>\n      <td>215</td>\n      <td>0</td>\n      <td>41</td>\n      <td>...</td>\n      <td>1</td>\n      <td>0</td>\n      <td>0</td>\n      <td>0</td>\n      <td>0</td>\n      <td>0</td>\n      <td>0</td>\n      <td>0</td>\n      <td>13</td>\n      <td>NaN</td>\n    </tr>\n    <tr>\n      <th>3</th>\n      <td>2020-03-21 00:00:00</td>\n      <td>0</td>\n      <td>3</td>\n      <td>43</td>\n      <td>0</td>\n      <td>0</td>\n      <td>5</td>\n      <td>267</td>\n      <td>0</td>\n      <td>55</td>\n      <td>...</td>\n      <td>1</td>\n      <td>0</td>\n      <td>0</td>\n      <td>0</td>\n      <td>0</td>\n      <td>0</td>\n      <td>0</td>\n      <td>0</td>\n      <td>10</td>\n      <td>NaN</td>\n    </tr>\n    <tr>\n      <th>4</th>\n      <td>2020-03-22 00:00:00</td>\n      <td>0</td>\n      <td>3</td>\n      <td>47</td>\n      <td>0</td>\n      <td>0</td>\n      <td>5</td>\n      <td>307</td>\n      <td>0</td>\n      <td>59</td>\n      <td>...</td>\n      <td>1</td>\n      <td>0</td>\n      <td>1</td>\n      <td>0</td>\n      <td>2</td>\n      <td>0</td>\n      <td>0</td>\n      <td>0</td>\n      <td>6</td>\n      <td>NaN</td>\n    </tr>\n  </tbody>\n</table>\n<p>5 rows × 37 columns</p>\n</div>"
     },
     "metadata": {},
     "execution_count": 131
    }
   ],
   "source": [
    "df = pd.read_excel('kawalcovid19_Indo_Data.xlsx', sheet_name=\"Timeline\")\n",
    "df.head()"
   ]
  },
  {
   "cell_type": "code",
   "execution_count": 133,
   "metadata": {},
   "outputs": [],
   "source": [
    "## transform excel sheet to timeseries table (columns: Data, Province, total_cases, daily_cases, active_cases etc.)\n",
    "case_type = ['Total Kasus', 'Kasus Harian', 'Kasus Aktif', 'Sembuh', 'Sembuh Harian', 'Meninggal Dunia', 'Meninggal Dunia Harian', 'Meninggal Dunia Harian']\n",
    "\n",
    "# as a loop\n",
    "################\n",
    "# df_list = []\n",
    "# for x in range(7):\n",
    "#     df_Name = case_type[x].replace(\" \", \"\")\n",
    "#     df_name = f\"df_{df_Name}\"\n",
    "#     # print(df_name)\n",
    "#     df_list.append(df_Name)\n",
    "#     if x == 0:\n",
    "#         df_name = df.iloc[:df.loc[df[case_type[0]].str.contains(case_type[1], na=False)].index[0]]\n",
    "#     elif x == 6:\n",
    "#         df.iloc[df.loc[df[case_type[0]].str.contains(case_type[7], na=False)].index[0]:df.loc[df[case_type[0]].str.contains('Meninggal Dunia Harian', na=False)].index[1]]\n",
    "#     else:\n",
    "#         df_name = df.iloc[df.loc[df[case_type[0]].str.contains(case_type[x], na=False)].index[0]:df.loc[df[case_type[0]].str.contains(case_type[x+1], na=False)].index[0]]\n",
    "\n",
    "    # print(df_name.head())\n",
    "\n"
   ]
  },
  {
   "cell_type": "code",
   "execution_count": 134,
   "metadata": {},
   "outputs": [],
   "source": [
    "# extract df for each case-type\n",
    "##################################\n",
    "\n",
    "# to do:\n",
    "# replace all NaN with 0\n",
    "# delete empty rows\n",
    "# adjust header\n",
    "# extract for each Province, add Province Name and merge, and sort by date\n",
    "\n",
    "df_totalKasus = df.iloc[:df.loc[df['Total Kasus'].str.contains('Kasus Harian', na=False)].index[0]]\n",
    "df_totalKasus = df_totalKasus.rename(columns={'Total Kasus': \"Date\"})\n",
    "df_totalKasus= df_totalKasus.fillna(0)\n",
    "df_totalKasus.set_index('Date', inplace=True)\n",
    "df_totalKasus= df_totalKasus[:-1]\n",
    "df_totalKasus = df_totalKasus.drop(['?', 'Unnamed: 36'], axis=1)\n",
    "\n",
    "df_kasusHarian = df.iloc[df.loc[df['Total Kasus'].str.contains('Kasus Harian', na=False)].index[0]:df.loc[df['Total Kasus'].str.contains('Kasus Aktif', na=False)].index[0]]\n",
    "df_kasusHarian = df_kasusHarian.rename(columns={'Total Kasus': \"Date\"})\n",
    "df_kasusHarian= df_kasusHarian.fillna(0)\n",
    "df_kasusHarian.set_index('Date', inplace=True)\n",
    "df_kasusHarian= df_kasusHarian[1:-1]\n",
    "df_kasusHarian = df_kasusHarian.drop(['?', 'Unnamed: 36'], axis=1)\n",
    "\n",
    "df_kasusAktif = df.iloc[df.loc[df['Total Kasus'].str.contains('Kasus Aktif', na=False)].index[0]:df.loc[df['Total Kasus'].str.contains('Sembuh', na=False)].index[0]]\n",
    "df_kasusAktif = df_kasusAktif.rename(columns={'Total Kasus': \"Date\"})\n",
    "df_kasusAktif= df_kasusAktif.fillna(0)\n",
    "df_kasusAktif.set_index('Date', inplace=True)\n",
    "df_kasusAktif= df_kasusAktif[1:-1]\n",
    "df_kasusAktif = df_kasusAktif.drop(['?', 'Unnamed: 36'], axis=1)\n",
    "\n",
    "df_sembuh = df.iloc[df.loc[df['Total Kasus'].str.contains('Sembuh', na=False)].index[0]:df.loc[df['Total Kasus'].str.contains('Sembuh Harian', na=False)].index[0]]\n",
    "df_sembuh = df_sembuh.rename(columns={'Total Kasus': \"Date\"})\n",
    "df_sembuh= df_sembuh.fillna(0)\n",
    "df_sembuh.set_index('Date', inplace=True)\n",
    "df_sembuh= df_sembuh[1:-1]\n",
    "df_sembuh = df_sembuh.drop(['?', 'Unnamed: 36'], axis=1)\n",
    "\n",
    "df_sembuhHarian = df.iloc[df.loc[df['Total Kasus'].str.contains('Sembuh Harian', na=False)].index[0]:df.loc[df['Total Kasus'].str.contains('Meninggal Dunia', na=False)].index[0]]\n",
    "df_sembuhHarian = df_sembuhHarian.rename(columns={'Total Kasus': \"Date\"})\n",
    "df_sembuhHarian= df_sembuhHarian.fillna(0)\n",
    "df_sembuhHarian.set_index('Date', inplace=True)\n",
    "df_sembuhHarian= df_sembuhHarian[1:-1]\n",
    "df_sembuhHarian = df_sembuhHarian.drop(['?', 'Unnamed: 36'], axis=1)\n",
    "\n",
    "df_meninggalDunia = df.iloc[df.loc[df['Total Kasus'].str.contains('Meninggal Dunia', na=False)].index[0]:df.loc[df['Total Kasus'].str.contains('Meninggal Dunia Harian', na=False)].index[0]]\n",
    "df_meninggalDunia = df_meninggalDunia.rename(columns={'Total Kasus': \"Date\"})\n",
    "df_meninggalDunia= df_meninggalDunia.fillna(0)\n",
    "df_meninggalDunia.set_index('Date', inplace=True)\n",
    "df_meninggalDunia= df_meninggalDunia[1:-1]\n",
    "df_meninggalDunia = df_meninggalDunia.drop(['?', 'Unnamed: 36'], axis=1)\n",
    "\n",
    "df_meninggalDuniaHarian = df.iloc[df.loc[df['Total Kasus'].str.contains('Meninggal Dunia Harian', na=False)].index[0]:df.loc[df['Total Kasus'].str.contains('Meninggal Dunia Harian', na=False)].index[1]]\n",
    "df_meninggalDuniaHarian = df_meninggalDuniaHarian.rename(columns={'Total Kasus': \"Date\"})\n",
    "df_meninggalDuniaHarian= df_meninggalDuniaHarian.fillna(0)\n",
    "df_meninggalDuniaHarian.set_index('Date', inplace=True)\n",
    "df_meninggalDuniaHarian= df_meninggalDuniaHarian[1:-3]\n",
    "df_meninggalDuniaHarian = df_meninggalDuniaHarian.drop(['?', 'Unnamed: 36'], axis=1)\n",
    "\n"
   ]
  },
  {
   "cell_type": "code",
   "execution_count": 135,
   "metadata": {},
   "outputs": [],
   "source": [
    "\n",
    "dfs = [df_totalKasus, df_kasusHarian, df_kasusAktif, df_sembuh, df_sembuhHarian, df_meninggalDunia, df_meninggalDuniaHarian]\n",
    "dfs_names = [\"df_totalKasus\", \"df_kasusHarian\", \"df_kasusAktif\", \"df_sembuh\",\"df_sembuhHarian\", \"df_meninggalDunia\", \"df_meninggalDuniaHarian\"]\n",
    "dfs_type = [\"totalKasus\", \"kasusHarian\", \"kasusAktif\", \"sembuh\",\"sembuhHarian\", \"meninggalDunia\", \"meninggalDuniaHarian\"]"
   ]
  },
  {
   "cell_type": "code",
   "execution_count": 136,
   "metadata": {},
   "outputs": [
    {
     "output_type": "execute_result",
     "data": {
      "text/plain": [
       "Index(['Aceh', 'Bali', 'Banten', 'Babel', 'Bengkulu', 'DIY', 'Jakarta',\n",
       "       'Jambi', 'Jabar', 'Jateng', 'Jatim', 'Kalbar', 'Kaltim', 'Kalteng',\n",
       "       'Kalsel', 'Kaltara', 'Kep Riau', 'NTB', 'Sumsel', 'Sumbar', 'Sulut',\n",
       "       'Sumut', 'Sultra', 'Sulsel', 'Sulteng', 'Lampung', 'Riau', 'Malut',\n",
       "       'Maluku', 'Papbar', 'Papua', 'Sulbar', 'NTT', 'Gorontalo'],\n",
       "      dtype='object')"
      ]
     },
     "metadata": {},
     "execution_count": 136
    }
   ],
   "source": [
    "df_totalKasus.columns"
   ]
  },
  {
   "cell_type": "code",
   "execution_count": 137,
   "metadata": {},
   "outputs": [
    {
     "output_type": "execute_result",
     "data": {
      "text/plain": [
       "Index(['Aceh', 'Bali', 'Banten', 'Babel', 'Bengkulu', 'DIY', 'Jakarta',\n",
       "       'Jambi', 'Jabar', 'Jateng', 'Jatim', 'Kalbar', 'Kaltim', 'Kalteng',\n",
       "       'Kalsel', 'Kaltara', 'Kep Riau', 'NTB', 'Sumsel', 'Sumbar', 'Sulut',\n",
       "       'Sumut', 'Sultra', 'Sulsel', 'Sulteng', 'Lampung', 'Riau', 'Malut',\n",
       "       'Maluku', 'Papbar', 'Papua', 'Sulbar', 'NTT', 'Gorontalo'],\n",
       "      dtype='object')"
      ]
     },
     "metadata": {},
     "execution_count": 137
    }
   ],
   "source": [
    "column_names = df_totalKasus.columns\n",
    "column_names\n"
   ]
  },
  {
   "cell_type": "code",
   "execution_count": 138,
   "metadata": {},
   "outputs": [],
   "source": [
    "## First Dataframe - Total Kasus\n",
    "\n",
    "df_totKasus = pd.DataFrame({'Province': [0], \"Total Kasus\":[0]})\n",
    "for i, province in enumerate(column_names):\n",
    "    case_numbers = df_totalKasus[province]\n",
    "    df_x = pd.DataFrame({'Province': case_numbers, \"Total Kasus\": case_numbers })\n",
    "    df_x[\"Province\"] = column_names[i]\n",
    "    # df_x['Total Kasus'] = df_totalKasus[province]\n",
    "    if i == 0:\n",
    "        df_totKasus = df_x\n",
    "    else:\n",
    "        df_totKasus = df_totKasus.append(df_x)"
   ]
  },
  {
   "cell_type": "code",
   "execution_count": 132,
   "metadata": {},
   "outputs": [
    {
     "output_type": "stream",
     "name": "stdout",
     "text": [
      "(12036, 2)\n"
     ]
    },
    {
     "output_type": "execute_result",
     "data": {
      "text/plain": [
       "           Province  Total Kasus\n",
       "Date                            \n",
       "2020-03-18     Aceh            0\n",
       "2020-03-19     Aceh            0\n",
       "2020-03-20     Aceh            0\n",
       "2020-03-21     Aceh            0\n",
       "2020-03-22     Aceh            0"
      ],
      "text/html": "<div>\n<style scoped>\n    .dataframe tbody tr th:only-of-type {\n        vertical-align: middle;\n    }\n\n    .dataframe tbody tr th {\n        vertical-align: top;\n    }\n\n    .dataframe thead th {\n        text-align: right;\n    }\n</style>\n<table border=\"1\" class=\"dataframe\">\n  <thead>\n    <tr style=\"text-align: right;\">\n      <th></th>\n      <th>Province</th>\n      <th>Total Kasus</th>\n    </tr>\n    <tr>\n      <th>Date</th>\n      <th></th>\n      <th></th>\n    </tr>\n  </thead>\n  <tbody>\n    <tr>\n      <th>2020-03-18</th>\n      <td>Aceh</td>\n      <td>0</td>\n    </tr>\n    <tr>\n      <th>2020-03-19</th>\n      <td>Aceh</td>\n      <td>0</td>\n    </tr>\n    <tr>\n      <th>2020-03-20</th>\n      <td>Aceh</td>\n      <td>0</td>\n    </tr>\n    <tr>\n      <th>2020-03-21</th>\n      <td>Aceh</td>\n      <td>0</td>\n    </tr>\n    <tr>\n      <th>2020-03-22</th>\n      <td>Aceh</td>\n      <td>0</td>\n    </tr>\n  </tbody>\n</table>\n</div>"
     },
     "metadata": {},
     "execution_count": 132
    }
   ],
   "source": [
    "print(df_totKasus.shape)\n",
    "df_totKasus.head()"
   ]
  },
  {
   "cell_type": "code",
   "execution_count": 142,
   "metadata": {},
   "outputs": [],
   "source": [
    "## since memory error split dataframes (only with join)\n",
    "## learning: if not merge on index -> use .merge() 2) reset_index() get datetime out of index first\n",
    "\n",
    "dfs1 =dfs[1:]\n",
    "df_total = pd.DataFrame({\"Date\": [0], 'Province': [0], dfs_type[index+1]:[0]})\n",
    "\n",
    "for index, df in enumerate(dfs1):\n",
    "    count = index+1\n",
    "    df_name = dfs_names[index+1]+'Clean'\n",
    "    df_name = pd.DataFrame({\"Date\": [0], 'Province': [0], dfs_type[index+1]:[0]})\n",
    "    for i, province in enumerate(column_names):\n",
    "        case_numbers = df[province]\n",
    "        df_x = pd.DataFrame({'Province': case_numbers, dfs_type[count]: case_numbers })\n",
    "        df_x[\"Province\"] = column_names[i]\n",
    "        if i == 0:\n",
    "            df_name = df_x\n",
    "        else:\n",
    "            df_name = df_name.append(df_x)\n",
    "\n",
    "    df_name = df_name.reset_index()\n",
    "    if index == 0:\n",
    "        df_total = df_name\n",
    "    else:\n",
    "        df_total = pd.merge(df_total, df_name, on=['Date', 'Province'])   "
   ]
  },
  {
   "cell_type": "code",
   "execution_count": 144,
   "metadata": {},
   "outputs": [
    {
     "output_type": "stream",
     "name": "stdout",
     "text": [
      "(11900, 8)\n"
     ]
    },
    {
     "output_type": "execute_result",
     "data": {
      "text/plain": [
       "            Date   Province kasusHarian kasusAktif sembuh sembuhHarian  \\\n",
       "11895 2021-03-02  Gorontalo           4        271   4395           16   \n",
       "11896 2021-03-03  Gorontalo          17        282   4401            6   \n",
       "11897 2021-03-04  Gorontalo          23        298   4408            7   \n",
       "11898 2021-03-05  Gorontalo           9        290   4425           17   \n",
       "11899 2021-03-06  Gorontalo          13        292   4435           10   \n",
       "\n",
       "      meninggalDunia meninggalDuniaHarian  \n",
       "11895            136                    0  \n",
       "11896            136                    0  \n",
       "11897            136                    0  \n",
       "11898            136                    0  \n",
       "11899            137                    1  "
      ],
      "text/html": "<div>\n<style scoped>\n    .dataframe tbody tr th:only-of-type {\n        vertical-align: middle;\n    }\n\n    .dataframe tbody tr th {\n        vertical-align: top;\n    }\n\n    .dataframe thead th {\n        text-align: right;\n    }\n</style>\n<table border=\"1\" class=\"dataframe\">\n  <thead>\n    <tr style=\"text-align: right;\">\n      <th></th>\n      <th>Date</th>\n      <th>Province</th>\n      <th>kasusHarian</th>\n      <th>kasusAktif</th>\n      <th>sembuh</th>\n      <th>sembuhHarian</th>\n      <th>meninggalDunia</th>\n      <th>meninggalDuniaHarian</th>\n    </tr>\n  </thead>\n  <tbody>\n    <tr>\n      <th>11895</th>\n      <td>2021-03-02</td>\n      <td>Gorontalo</td>\n      <td>4</td>\n      <td>271</td>\n      <td>4395</td>\n      <td>16</td>\n      <td>136</td>\n      <td>0</td>\n    </tr>\n    <tr>\n      <th>11896</th>\n      <td>2021-03-03</td>\n      <td>Gorontalo</td>\n      <td>17</td>\n      <td>282</td>\n      <td>4401</td>\n      <td>6</td>\n      <td>136</td>\n      <td>0</td>\n    </tr>\n    <tr>\n      <th>11897</th>\n      <td>2021-03-04</td>\n      <td>Gorontalo</td>\n      <td>23</td>\n      <td>298</td>\n      <td>4408</td>\n      <td>7</td>\n      <td>136</td>\n      <td>0</td>\n    </tr>\n    <tr>\n      <th>11898</th>\n      <td>2021-03-05</td>\n      <td>Gorontalo</td>\n      <td>9</td>\n      <td>290</td>\n      <td>4425</td>\n      <td>17</td>\n      <td>136</td>\n      <td>0</td>\n    </tr>\n    <tr>\n      <th>11899</th>\n      <td>2021-03-06</td>\n      <td>Gorontalo</td>\n      <td>13</td>\n      <td>292</td>\n      <td>4435</td>\n      <td>10</td>\n      <td>137</td>\n      <td>1</td>\n    </tr>\n  </tbody>\n</table>\n</div>"
     },
     "metadata": {},
     "execution_count": 144
    }
   ],
   "source": [
    "print(df_total.shape)\n",
    "df_total.tail()"
   ]
  },
  {
   "cell_type": "code",
   "execution_count": 146,
   "metadata": {},
   "outputs": [
    {
     "output_type": "execute_result",
     "data": {
      "text/plain": [
       "        Date Province kasusHarian kasusAktif sembuh sembuhHarian  \\\n",
       "0 2020-03-21     Aceh           0          0      0            0   \n",
       "1 2020-03-22     Aceh           0          0      0            0   \n",
       "2 2020-03-23     Aceh           0          0      0            0   \n",
       "3 2020-03-24     Aceh           0          0      0            0   \n",
       "4 2020-03-25     Aceh           0          0      0            0   \n",
       "\n",
       "  meninggalDunia meninggalDuniaHarian  \n",
       "0              0                    0  \n",
       "1              0                    0  \n",
       "2              0                    0  \n",
       "3              0                    0  \n",
       "4              0                    0  "
      ],
      "text/html": "<div>\n<style scoped>\n    .dataframe tbody tr th:only-of-type {\n        vertical-align: middle;\n    }\n\n    .dataframe tbody tr th {\n        vertical-align: top;\n    }\n\n    .dataframe thead th {\n        text-align: right;\n    }\n</style>\n<table border=\"1\" class=\"dataframe\">\n  <thead>\n    <tr style=\"text-align: right;\">\n      <th></th>\n      <th>Date</th>\n      <th>Province</th>\n      <th>kasusHarian</th>\n      <th>kasusAktif</th>\n      <th>sembuh</th>\n      <th>sembuhHarian</th>\n      <th>meninggalDunia</th>\n      <th>meninggalDuniaHarian</th>\n    </tr>\n  </thead>\n  <tbody>\n    <tr>\n      <th>0</th>\n      <td>2020-03-21</td>\n      <td>Aceh</td>\n      <td>0</td>\n      <td>0</td>\n      <td>0</td>\n      <td>0</td>\n      <td>0</td>\n      <td>0</td>\n    </tr>\n    <tr>\n      <th>1</th>\n      <td>2020-03-22</td>\n      <td>Aceh</td>\n      <td>0</td>\n      <td>0</td>\n      <td>0</td>\n      <td>0</td>\n      <td>0</td>\n      <td>0</td>\n    </tr>\n    <tr>\n      <th>2</th>\n      <td>2020-03-23</td>\n      <td>Aceh</td>\n      <td>0</td>\n      <td>0</td>\n      <td>0</td>\n      <td>0</td>\n      <td>0</td>\n      <td>0</td>\n    </tr>\n    <tr>\n      <th>3</th>\n      <td>2020-03-24</td>\n      <td>Aceh</td>\n      <td>0</td>\n      <td>0</td>\n      <td>0</td>\n      <td>0</td>\n      <td>0</td>\n      <td>0</td>\n    </tr>\n    <tr>\n      <th>4</th>\n      <td>2020-03-25</td>\n      <td>Aceh</td>\n      <td>0</td>\n      <td>0</td>\n      <td>0</td>\n      <td>0</td>\n      <td>0</td>\n      <td>0</td>\n    </tr>\n  </tbody>\n</table>\n</div>"
     },
     "metadata": {},
     "execution_count": 146
    }
   ],
   "source": [
    "df_total.head()"
   ]
  },
  {
   "cell_type": "code",
   "execution_count": null,
   "metadata": {},
   "outputs": [],
   "source": [
    "## sort_dates\n",
    "\n",
    "## save as csv\n",
    "\n",
    "## check\n",
    "\n",
    "## add to main data processing Notebook\n"
   ]
  }
 ]
}